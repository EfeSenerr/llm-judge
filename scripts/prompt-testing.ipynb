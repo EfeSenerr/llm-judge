{
 "cells": [
  {
   "cell_type": "code",
   "execution_count": null,
   "metadata": {
    "id": "mF-aqJP7qvoi"
   },
   "outputs": [],
   "source": [
    "import pandas as pd\n",
    "from openai import OpenAI\n",
    "import json\n",
    "\n",
    "# Load the API key\n",
    "config_path = f\"{path}/config.json\" # PATH OF THE API KEY\n",
    "\n",
    "with open(config_path, 'r', encoding='utf-8') as f:\n",
    "  config = json.load(f)\n",
    "  API_KEY = config.get(\"API_KEY\")\n",
    "\n",
    "# Define the prompt you want to send to the system\n",
    "SYSTEM_PROMPT = \"You are a helpful assistant that summarizes articles.\"\n",
    "\n",
    "# Initialize the OpenAI client with your API key\n",
    "client = OpenAI(api_key=API_KEY)\n",
    "\n",
    "def generate_response(input_text, system_prompt):\n",
    "    response = client.chat.completions.create(\n",
    "        model=\"gpt-4o\",\n",
    "        messages=[\n",
    "            {\n",
    "                \"role\": \"system\",\n",
    "                \"content\": [\n",
    "                    {\n",
    "                        \"type\": \"text\",\n",
    "                        \"text\": system_prompt\n",
    "                    }\n",
    "                ]\n",
    "            },\n",
    "            {\n",
    "                \"role\": \"user\",\n",
    "                \"content\": [\n",
    "                    {\n",
    "                        \"type\": \"text\",\n",
    "                        \"text\": input_text\n",
    "                    }\n",
    "                ]\n",
    "            }\n",
    "        ],\n",
    "        response_format={\n",
    "            \"type\": \"text\"\n",
    "        },\n",
    "        temperature=0.1, # CHANGE THIS PARAMETER IF NECESSARY\n",
    "        max_completion_tokens=2048, # CHANGE THIS PARAMETER IF NECESSARY\n",
    "        top_p=1,\n",
    "        frequency_penalty=0,\n",
    "        presence_penalty=0\n",
    "    )\n",
    "    return response.choices[0].message.content\n",
    "\n",
    "def process_json(prompt, input_file, output_file):\n",
    "    # Read JSON file\n",
    "    with open(input_file, \"r\", encoding=\"utf-8\") as f:\n",
    "        data = json.load(f)\n",
    "\n",
    "    # For each article in JSON, read \"body\" and generate summary\n",
    "    for item in data:\n",
    "        body_text = item.get(\"body\", \"\")\n",
    "        if body_text:\n",
    "            summary = generate_response(f\"{prompt} {body_text}\", SYSTEM_PROMPT)\n",
    "            item[\"summary\"] = summary\n",
    "\n",
    "    # Write updated data to new JSON file\n",
    "    with open(output_file, \"w\", encoding=\"utf-8\") as f:\n",
    "        json.dump(data, f, ensure_ascii=False, indent=2)\n",
    "\n",
    "    # Also create an Excel file from the updated data\n",
    "    df = pd.DataFrame(data)\n",
    "    df.to_excel(\"summaries.xlsx\", index=False)\n",
    "\n",
    "process_json(\"Summarize the following article:\", \"test_articles.json\", \"summaries.json\")"
   ]
  },
  {
   "cell_type": "markdown",
   "metadata": {
    "id": "vX6Wv6l9tjMF"
   },
   "source": [
    "json -> excel"
   ]
  },
  {
   "cell_type": "code",
   "execution_count": null,
   "metadata": {
    "colab": {
     "base_uri": "https://localhost:8080/"
    },
    "executionInfo": {
     "elapsed": 805,
     "status": "ok",
     "timestamp": 1737477230782,
     "user": {
      "displayName": "Efe Şener",
      "userId": "10377831811474384542"
     },
     "user_tz": -60
    },
    "id": "w3Nn17HotkoF",
    "outputId": "f4563dc5-3762-4f3d-b204-565a7d432f53"
   },
   "outputs": [
    {
     "name": "stdout",
     "output_type": "stream",
     "text": [
      "Data from summaries.json has been saved to articles.xlsx\n"
     ]
    }
   ],
   "source": [
    "import json\n",
    "import pandas as pd\n",
    "\n",
    "def json_to_excel(input_json_file, output_excel_file):\n",
    "    # Load the JSON file\n",
    "    with open(input_json_file, \"r\", encoding=\"utf-8\") as f:\n",
    "        data = json.load(f)\n",
    "\n",
    "    # Convert JSON data into a pandas DataFrame\n",
    "    df = pd.DataFrame(data)\n",
    "\n",
    "    # Save DataFrame to an Excel file\n",
    "    df.to_excel(output_excel_file, index=False, sheet_name=\"Articles\")\n",
    "\n",
    "\n",
    "# Specify input and output file paths\n",
    "input_json_file = \"summaries.json\"\n",
    "output_excel_file = \"articles.xlsx\"\n",
    "\n",
    "# Convert JSON to Excel\n",
    "json_to_excel(input_json_file, output_excel_file)\n",
    "print(f\"Data from {input_json_file} has been saved to {output_excel_file}\")\n"
   ]
  }
 ],
 "metadata": {
  "colab": {
   "provenance": []
  },
  "kernelspec": {
   "display_name": "Python 3",
   "name": "python3"
  },
  "language_info": {
   "name": "python"
  }
 },
 "nbformat": 4,
 "nbformat_minor": 0
}
