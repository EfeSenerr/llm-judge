{
 "cells": [
  {
   "cell_type": "markdown",
   "metadata": {
    "colab_type": "text",
    "id": "view-in-github"
   },
   "source": [
    "<a href=\"https://colab.research.google.com/github/EfeSenerr/llm-judge/blob/main/Summary_and_Evaluation_Pipeline.ipynb\" target=\"_parent\"><img src=\"https://colab.research.google.com/assets/colab-badge.svg\" alt=\"Open In Colab\"/></a>"
   ]
  },
  {
   "cell_type": "markdown",
   "metadata": {
    "id": "f-Lk7cQU5Meu"
   },
   "source": [
    "# Post-Processing"
   ]
  },
  {
   "cell_type": "markdown",
   "metadata": {
    "id": "fkk3f6j45Qid"
   },
   "source": [
    "## Nexis Uni -> JSON"
   ]
  },
  {
   "cell_type": "markdown",
   "metadata": {},
   "source": [
    "sptriptf is a Python library to convert RTF (Rich Text Format) files to plain text."
   ]
  },
  {
   "cell_type": "code",
   "execution_count": null,
   "metadata": {
    "colab": {
     "base_uri": "https://localhost:8080/"
    },
    "id": "lHbHioa9SgSV",
    "outputId": "21b38075-ea7c-4180-944d-5adb6a648057"
   },
   "outputs": [
    {
     "name": "stdout",
     "output_type": "stream",
     "text": [
      "Collecting striprtf\n",
      "  Downloading striprtf-0.0.28-py3-none-any.whl.metadata (2.1 kB)\n",
      "Downloading striprtf-0.0.28-py3-none-any.whl (7.7 kB)\n",
      "Installing collected packages: striprtf\n",
      "Successfully installed striprtf-0.0.28\n"
     ]
    }
   ],
   "source": [
    "!pip install striprtf"
   ]
  },
  {
   "cell_type": "code",
   "execution_count": null,
   "metadata": {
    "colab": {
     "base_uri": "https://localhost:8080/"
    },
    "id": "gWXhszaUSHtL",
    "outputId": "89bd86b3-01f8-4ced-c3d1-e139d03898dd"
   },
   "outputs": [
    {
     "name": "stdout",
     "output_type": "stream",
     "text": [
      "Mounted at /content/drive\n"
     ]
    }
   ],
   "source": [
    "from google.colab import drive\n",
    "drive.mount('/content/drive')"
   ]
  },
  {
   "cell_type": "code",
   "execution_count": null,
   "metadata": {
    "id": "FfnlFAgoVEJ6"
   },
   "outputs": [],
   "source": [
    "filename = \"newspaper_ampel-aus_201-300\""
   ]
  },
  {
   "cell_type": "code",
   "execution_count": null,
   "metadata": {
    "id": "0Qn-e9veV3xq"
   },
   "outputs": [],
   "source": [
    "path = \"/content/drive/My Drive/Aligning AI Project/Data\""
   ]
  },
  {
   "cell_type": "code",
   "execution_count": null,
   "metadata": {
    "id": "sY2eQv7wTBYC"
   },
   "outputs": [],
   "source": [
    "path_to_articles = f\"{path}/{filename}.RTF\""
   ]
  },
  {
   "cell_type": "code",
   "execution_count": null,
   "metadata": {
    "id": "MQ3dCk4LmYrU"
   },
   "outputs": [],
   "source": [
    "from striprtf.striprtf import rtf_to_text\n",
    "# rtf = \"some rtf encoded string\"\n",
    "with open(path_to_articles, 'rb') as file:\n",
    "  rtf_string = file.read()"
   ]
  },
  {
   "cell_type": "code",
   "execution_count": null,
   "metadata": {
    "id": "aUdlnQX4msas"
   },
   "outputs": [],
   "source": [
    "decoded_rtf = rtf_string.decode('utf-8', errors='replace')\n",
    "text = rtf_to_text(decoded_rtf)"
   ]
  },
  {
   "cell_type": "code",
   "execution_count": null,
   "metadata": {
    "colab": {
     "base_uri": "https://localhost:8080/",
     "height": 157
    },
    "id": "Rv2-_zvJSwZC",
    "outputId": "52353dd9-8767-45a3-c0b4-4f80b9d4cb39"
   },
   "outputs": [
    {
     "data": {
      "application/vnd.google.colaboratory.intrinsic+json": {
       "type": "string"
      },
      "text/plain": [
       "'\\nUser Name: = \\nDate and Time: = 2025-01-20\\nJob Number: = 243165525\\n\\nDocuments (100)\\nClient/Matter: -None-\\nSearch Terms: Ampel-Aus\\nSearch Type: NaturalAnd\\nContent Type|Narrowed by|\\nnews|: Zeitungen : Presseagenturen und Presseberichte : Fachpresse : Zeitschriften : Web News Timeline: 06 Nov 2024 an 06 Dez 2024 Source Type: Newspapers |\\n\\n1. \"Ungewöhnlich starker Zulauf\" Vier Parteien in Hessen verzeichnen jede Menge neue Mitglieder seit dem Bruch der Berliner Ampel\\n\\n2. Ein Besuch Berlins in besonderen Zeiten\\n\\n3. Ein Besuch Berlins in besonderen Zeiten\\n\\n4. Ein Besuch Berlins in besonderen Zeiten\\n\\n5. \"Ungewöhnlich starker Zulauf\" Vier Parteien in Hessen verzeichnen jede Menge neue Mitglieder seit dem Bruch der Berliner Ampel\\n\\n6. \"Ungewöhnlich starker Zulauf\" Vier Parteien in Hessen verzeichnen jede Menge neue Mitglieder seit dem Bruch der Berliner Ampel\\n\\n7. \"Ungewöhnlich starker Zulauf\" Vier Parteien in Hessen verzeichnen jede Menge neue Mitglieder seit dem Bruch der Berliner Ampel\\n\\n8. \"Ungewöhnlich starker Zulauf\" Vier Parteien in Hessen verzeichnen jede Menge neue Mitglieder seit dem Bruch der Berliner Ampel\\n\\n9. Ein Besuch Berlins in besonderen Zeiten\\n\\n10. \"Ungewöhnlich starker Zulauf\" Vier Parteien in Hessen verzeichnen jede Menge neue Mitglieder seit dem Bruch der Berliner Ampel\\n\\n11. Klare Worte zum Ampel-Aus Bundestagsabgeordnete aus dem Landkreis Bad Kreuznach begrüßen Ende der Berliner Koalition\\n\\n12. \"Neuwahlen noch vor März\" Nach Ampel-Aus: Forderungen der IHK / Steht die rheinhessische Kammer hinter der FDP?\\n\\n13. \"Neuwahlen noch vor März\" Nach Ampel-Aus: Forderungen der IHK / Steht die rheinhessische Kammer hinter der FDP?\\n\\n14. Brandenburg geht, Höppner bleibt FDP-Staatssekretäre aus Rheinland-Pfalz trifft Ampel-Aus im Bund unterschiedlich - eine Ursachenforschung\\n\\n15. Brandenburg geht, Höppner bleibt FDP-Staatssekretäre aus Rheinland-Pfalz trifft Ampel-Aus im Bund unterschiedlich - eine Ursachenforschung\\n\\n16. Bundestagswahl ist für 23. Februar geplant Ampel-Aus Zuvor will Bundeskanzler Scholz am 16. Dezember die Vertrauensfrage stellen\\n\\n17. Ist die Stunde des Parlaments Interview Linken-Politiker Gregor Gysi über Ampel-Aus, Neuwahl und Migration\\n\\n18. ,,D-Day\"-Desaster bei der FDP\\n\\n19. Musikalischer Abgang mit MB Ex-Minister Marco Buschmann schreibt ein Lied auf das Ampel-Aus. Nun ja.\\n\\n20. Musikalischer Abgang mit MB Ex-Minister Marco Buschmann schreibt ein Lied auf das Ampel-Aus. Nun ja.\\n\\n21. Musikalischer Abgang mit MB Ex-Minister Marco Buschmann schreibt ein Lied auf das Ampel-Aus. Nun ja.\\n\\n22. Wie Trumps Sieg und das Ampel-Aus bewegen In den USA ist die Präsidentschaftswahl entschieden, in Berlin bricht die Koalition:Zwei Reporter teilen ihre Sichtweisen zur aktuellen Lage und erklären, wie sie sie bewältigen.\\n\\n23. Musikalischer Abgang mit MB Ex-Minister Marco Buschmann schreibt ein Lied auf das Ampel-Aus. Nun ja.\\n\\n24. Rentenpaket II in Gefahr Nach dem Ampel-Aus schwinden die Chancen für eine Verabschiedung der Reform im Bundestag\\n\\n25. Rentenpaket II in Gefahr Nach dem Ampel-Aus schwinden die Chancen für eine Verabschiedung der Reform im Bundestag\\n\\n26. Rentenpaket II in Gefahr Nach dem Ampel-Aus schwinden die Chancen für eine Verabschiedung der Reform im Bundestag\\n\\n27. »Lässt jeglichen politischen Stil vermissen« CSU-Landesgruppenchef Alexander Dobrindt übt nach dem Ampel-Aus deutliche Kritik.\\n\\n28. Rentenpaket II in Gefahr Nach dem Ampel-Aus schwinden die Chancen für eine Verabschiedung der Reform im Bundestag\\n\\n29. Rentenpaket II in Gefahr Nach dem Ampel-Aus schwinden die Chancen für eine Verabschiedung der Reform im Bundestag\\n\\n30. Rentenpaket II in Gefahr Nach dem Ampel-Aus schwinden die Chancen für eine Verabschiedung der Reform im Bundestag\\n\\n31. Rentenpaket II in Gefahr Nach dem Ampel-Aus schwinden die Chancen für eine Verabschiedung der Reform im Bundestag\\n\\n32. Rentenpaket II in Gefahr Nach dem Ampel-Aus schwinden die Chancen für eine Verabschiedung der Reform im Bundestag\\n\\n33. Rentenpaket II in Gefahr Nach dem Ampel-Aus schwinden die Chancen für eine Verabschiedung der Reform im Bundestag\\n\\n34. Rentenpaket II in Gefahr Nach dem Ampel-Aus schwinden die Chancen für eine Verabschiedung der Reform im Bundestag\\n\\n35. Rentenpaket II in Gefahr Nach dem Ampel-Aus schwinden die Chancen für eine Verabschiedung der Reform im Bundestag\\n\\n36. Unwillen zur Verantwortung Kommentar\\n\\n37. Tangiert Ampel-Aus Klinikreform? Krankenhäuser Landrat Heiner Scheffold hält es für wahrscheinlich, dass Gesetz in bisheriger Form umgesetzt wird.\\n\\n38. Gesetze in letzter Minute? Trotz Ampel-Aus wollen die Abgeordneten von SPD und Grünen gerne noch einige Vorhaben durch den Bundestag bringen.\\n\\n39. Gesetze in letzter Minute? Trotz Ampel-Aus wollen die Abgeordneten von SPD und Grünen gerne noch einige Vorhaben durch den Bundestag bringen.\\n\\n40. Gesetze in letzter Minute? Trotz Ampel-Aus wollen die Abgeordneten von SPD und Grünen gerne noch einige Vorhaben durch den Bundestag bringen.\\n\\n41. Gesetze in letzter Minute? Trotz Ampel-Aus wollen die Abgeordneten von SPD und Grünen gerne noch einige Vorhaben durch den Bundestag bringen.\\n\\n42. Gesetze in letzter Minute? Trotz Ampel-Aus wollen die Abgeordneten von SPD und Grünen gerne noch einige Vorhaben durch den Bundestag bringen.\\n\\n43. Was der Verzicht von Pistorius auf die Kanzler-Kandidatur bedeutet\\n\\n44. Gesetze in letzter Minute? Trotz Ampel-Aus wollen die Abgeordneten von SPD und Grünen gerne noch einige Vorhaben durch den Bundestag bringen.\\n\\n45. Gerüstet für den Winter-Wahlkampf Vorgezogene Bundestagswahl verlangt schnelles Handeln / Wie die Alzeyer Parteien aufgestellt sind\\n\\n46. Gerüstet für den Winter-Wahlkampf Vorgezogene Bundestagswahl verlangt schnelles Handeln / Wie die Alzeyer Parteien aufgestellt sind\\n\\n47. Gesetze in letzter Minute? Trotz Ampel-Aus wollen die Abgeordneten von SPD und Grünen gerne noch einige Vorhaben durch den Bundestag bringen.\\n\\n48. Gesetze in letzter Minute? Trotz Ampel-Aus wollen die Abgeordneten von SPD und Grünen gerne noch einige Vorhaben durch den Bundestag bringen.\\n\\n49. Die Angst vor dem Abstieg geht um Hessische FDP hat inhaltlich und personell einen Kurswechsel vollzogen / Rechnung scheint aber nicht aufzugehen\\n\\n50. Die Angst vor dem Abstieg geht um Hessische FDP hat inhaltlich und personell einen Kurswechsel vollzogen / Rechnung scheint aber nicht aufzugehen\\n\\n51. Die Angst vor dem Abstieg geht um Hessische FDP hat inhaltlich und personell einen Kurswechsel vollzogen / Rechnung scheint aber nicht aufzugehen\\n\\n52. Die Angst vor dem Abstieg geht um Hessische FDP hat inhaltlich und personell einen Kurswechsel vollzogen / Rechnung scheint aber nicht aufzugehen\\n\\n53. Die Angst vor dem Abstieg geht um Hessische FDP hat inhaltlich und personell einen Kurswechsel vollzogen / Rechnung scheint aber nicht aufzugehen\\n\\n54. Die Angst vor dem Abstieg geht um Hessische FDP hat inhaltlich und personell einen Kurswechsel vollzogen / Rechnung scheint aber nicht aufzugehen\\n\\n55. Die Angst vor dem Abstieg geht um Hessische FDP hat inhaltlich und personell einen Kurswechsel vollzogen / Rechnung scheint aber nicht aufzugehen\\n\\n56. Die Angst vor dem Abstieg geht um Hessische FDP hat inhaltlich und personell einen Kurswechsel vollzogen / Rechnung scheint aber nicht aufzugehen\\n\\n57. Die Angst vor dem Abstieg geht um Hessische FDP hat inhaltlich und personell einen Kurswechsel vollzogen / Rechnung scheint aber nicht aufzugehen\\n\\n58. Andrang bei den Chemnitzer ,,Ampelparteien\"\\n\\n59. SPD hofft auf Scholz gegen Merz Nach dem Ampel-Aus bereiten sich die Parteien auf vorgezogene Neuwahlen vor\\n\\n60. Ampel-Aus verschiebt Sozialreformen Lauterbach kündigt eine Erhöhung der Beitragssätze an: Kranken- und Pflegeversicherung werden 2025 deutlich teurer\\n\\n61. Der deutschen Wirtschaft fehlt es an Kraft Ifo-Index fällt wieder. Stimmung trübt sich ein\\n\\n62. \"Längst überfällig\" Das Ende der Regierungskoalition in Berlin beschäftigt auch die Menschen in der Landeshauptstadt\\n\\n63. Ricarda Lang: Nach Ampel-Bruch: Ex-Grünen-Chefin verspottet FDP\\n\\n64. \"Längst überfällig\" Das Ende der Regierungskoalition in Berlin beschäftigt auch die Menschen in der Landeshauptstadt\\n\\n65. Welche Projekte Scholz noch durchbringen will Steuerentlastungen, Rentenpaket, Asyl, Industrie: Trotz Ampel-Aus will der Kanzler noch wichtige Pläne umsetzen\\n\\n66. \"Längst überfällig\" Das Ende der Regierungskoalition in Berlin beschäftigt auch die Menschen in der Landeshauptstadt\\n\\n67. \"Längst überfällig\" Das Ende der Regierungskoalition in Berlin beschäftigt auch die Menschen in der Landeshauptstadt\\n\\n68. US -Wahl, Ampel-Aus und Entbürokratisierung Zahlreiche Themen bei Mittelstands- und Wirtschaftsunion / Staatsminister Pentz kann nicht wie geplant dabei sein\\n\\n69. Große Sorgen nach Ampel-Aus Spitzensportförderung sollte erstmals im Gesetz verankert werden / Lage in Berlin beunruhigt Verbände und Athleten\\n\\n70. Die Schulen hoffen auf Özdemir Mit dem Ampel-Aus steht auch der Digitalpakt 2.0 in Frage   und damit eine bessere IT-Ausstattung an den Schulen. Eine neue Studie zeigt, wie groß der Handlungsbedarf ist. Zumindest die Bundesländer ...\\n\\n71. US -Wahl, Ampel-Aus und Entbürokratisierung Zahlreiche Themen bei Mittelstands- und Wirtschaftsunion / Staatsminister Pentz kann nicht wie geplant dabei sein\\n\\n72. US -Wahl, Ampel-Aus und Entbürokratisierung Zahlreiche Themen bei Mittelstands- und Wirtschaftsunion / Staatsminister Pentz kann nicht wie geplant dabei sein\\n\\n73. US -Wahl, Ampel-Aus und Entbürokratisierung Zahlreiche Themen bei Mittelstands- und Wirtschaftsunion / Staatsminister Pentz kann nicht wie geplant dabei sein\\n\\n74. Große Sorgen nach Ampel-Aus Spitzensportförderung sollte erstmals im Gesetz verankert werden / Lage in Berlin beunruhigt Verbände und Athleten\\n\\n75. Christian Lindner: \"Deutschlands frechster Arbeitsloser!\" Netz verspottet FDP-Politiker\\n\\n76. Große Sorgen nach Ampel-Aus Spitzensportförderung sollte erstmals im Gesetz verankert werden / Lage in Berlin beunruhigt Verbände und Athleten\\n\\n77. Merz fordert Vertrauensfrage sofort CDU-Chef macht nach Ampel-Aus punktuelle Zusammenarbeit mit Rot-Grün von Wahltermin im Januar abhängig\\n\\n78. Merz fordert Vertrauensfrage sofort CDU-Chef macht nach Ampel-Aus punktuelle Zusammenarbeit mit Rot-Grün von Wahltermin im Januar abhängig\\n\\n79. Merz fordert Vertrauensfrage sofort CDU-Chef macht nach Ampel-Aus punktuelle Zusammenarbeit mit Rot-Grün von Wahltermin im Januar abhängig\\n\\n80. Merz fordert Vertrauensfrage sofort CDU-Chef macht nach Ampel-Aus punktuelle Zusammenarbeit mit Rot-Grün von Wahltermin im Januar abhängig\\n\\n81. Merz fordert Vertrauensfrage sofort CDU-Chef macht nach Ampel-Aus punktuelle Zusammenarbeit mit Rot-Grün von Wahltermin im Januar abhängig\\n\\n82. Merz fordert Vertrauensfrage sofort CDU-Chef macht nach Ampel-Aus punktuelle Zusammenarbeit mit Rot-Grün von Wahltermin im Januar abhängig\\n\\n83. Merz fordert Vertrauensfrage sofort CDU-Chef macht nach Ampel-Aus punktuelle Zusammenarbeit mit Rot-Grün von Wahltermin im Januar abhängig\\n\\n84. Merz fordert Vertrauensfrage sofort CDU-Chef macht nach Ampel-Aus punktuelle Zusammenarbeit mit Rot-Grün von Wahltermin im Januar abhängig\\n\\n85. Merz fordert Vertrauensfrage sofort CDU-Chef macht nach Ampel-Aus punktuelle Zusammenarbeit mit Rot-Grün von Wahltermin im Januar abhängig\\n\\n86. Christian Lindner News: Lindner: FDP könnte Gesetz gegen Kalte Progression zustimmen\\n\\n87. Das sagt Wiesbadens Wirtschaft zum Ampel-Aus Handwerkskammer und IHK äußern sich besorgt zum Bruch der Koalition und sehen Eile geboten\\n\\n88. Im Wahlamt laufen die Vorbereitungen Nach dem Ampel-Aus findet die Bundestagswahl am 23. Februar statt / Eine Herausforderung, aber realisierbar\\n\\n89. Merz fordert Vertrauensfrage sofort CDU-Chef macht nach Ampel-Aus punktuelle Zusammenarbeit mit Rot-Grün von Wahltermin im Januar abhängig\\n\\n90. Grünen-Parteitag - Krönungsmesse statt Krisentreffen\\n\\n91. Merz fordert Vertrauensfrage sofort CDU-Chef macht nach Ampel-Aus punktuelle Zusammenarbeit mit Rot-Grün von Wahltermin im Januar abhängig\\n\\n92. FDP sieht Vorteile nach Ampel-Aus Die hiesigen Liberalen blicken auf die Kommunalwahlen und wollen sich mit eigenen Lösungsansätzen profilieren.\\n\\n93. Falsch bis zum Schluss Jost Maurin über die Wirtschaftspolitik der FDP\\n\\n94. Ampel-Aus beflügelt die Grünen Partei stellt in Wiesbaden die Weichen für den Wahlkampf / Ricarda Lang und Omid Nouripour ziehen Bilanz\\n\\n95. Ampel-Aus beflügelt die Grünen Partei stellt in Wiesbaden die Weichen für den Wahlkampf / Ricarda Lang und Omid Nouripour ziehen Bilanz\\n\\n96. Ampel-Aus beflügelt die Grünen Partei stellt in Wiesbaden die Weichen für den Wahlkampf / Ricarda Lang und Omid Nouripour ziehen Bilanz\\n\\n97. Ampel-Aus beflügelt die Grünen Partei stellt in Wiesbaden die Weichen für den Wahlkampf / Ricarda Lang und Omid Nouripour ziehen Bilanz\\n\\n98. Ampel-Aus beflügelt die Grünen Partei stellt in Wiesbaden die Weichen für den Wahlkampf / Ricarda Lang und Omid Nouripour ziehen Bilanz\\n\\n99. Ein beispielloser Krimi Olaf Scholz entlässt Christian Lindner mit deutlichen Worten und besiegelt das Ampel-Aus. Deutschland vor Neuwahlen\\n\\n100. Ampel-Aus beflügelt die Grünen Partei stellt in Wiesbaden die Weichen für den Wahlkampf / Ricarda Lang und Omid Nouripour ziehen Bilanz\\n\\n\\n\\n\\n\\n\\n\\n\\n\"Ungewöhnlich starker Zulauf\"; Vier Parteien in Hessen verzeichnen jede Menge neue Mitglieder seit dem Bruch der Berliner Ampel\\nDarmstädter Echo\\nDonnerstag 21. November 2024\\n\\n\\nCopyright 2024 Echo Zeitungen GmbH Alle Rechte Vorbehalten\\n\\n\\nSection:\\xa0REGION; DARMSTÄDTER ECHO WEST; S. 5\\nLength:\\xa0575 words\\nByline:\\xa0Nele Leubner\\nBody\\n\\n\\nWIESBADEN. Das Ende der Ampelkoalition im Bund scheint die Grünen zu beflügeln. Auf ihrem Bundesparteitag in Wiesbaden verkündeten sie: 11.000 Menschen hätten seit dem Rauswurf von Finanzminister Christian Lindner (FDP) aus der Bundesregierung bei den Grünen einen Mitgliedsantrag eingereicht. Viele der neuen Mitglieder kommen aus Hessen: 750 Menschen sind seit dem Ampel-Bruch vor nicht mal zwei Wochen in den Grünen-Landesverband eingetreten.\\nDie Grünen-Landesvorsitzenden Kathrin Anders und Andreas Ewald betonen, dieser Mitgliederzuwachs sei \"sehr ungewöhnlich\". Sie berichten, dass es nach den Demos gegen Hass und Hetze vor den Landtagswahlen im Osten schon einmal einen deutlichen Aufwuchs an Mitgliedern gegeben habe. \"Allerdings hat das Ampel-Aus einen besonders großen Mitgliederzuwachs gebracht.\"\\nGrüne profitieren am stärksten vom Ampel-Aus\\nAber nicht nur die Grünen, auch andere hessische Parteien verzeichnen nach dem Ampel-Aus und vor den anstehenden Bundestagswahlen über ein größeres Interesse. FDP-Generalsekretär Moritz Promny berichtet, dass die hessischen Liberalen seitdem 173 Mitglieder dazugewonnen haben. Im Bund waren es rund 1800. \"Das ist ein ungewöhnlich starker Zulauf und ein Beleg für den Aufbruch: Die Menschen wollen ein Zeichen setzen und sich einbringen\", betont Promny. Er gehe von weiteren \"zahlreichen Neueintritten\" im Zuge des Bundestagswahlkampfes aus.\\nDer dritte Ampel-Partner im Bund, die SPD, hingegen verzeichnet zwar bundesweit ebenfalls Mitgliederzuwächse im vergleichbaren Rahmen wie die FDP, wie das Handelsblatt berichtet, der hessische Landesverband könne aber keine genaue Zahl nennen, sagt SPD-Sprecher Sascha Hörmann. \"Es liegt uns noch keine Gesamtzahl der digitalen und klassisch analogen Beitritte vor Ort vor, allerdings zeichnen sich derzeit tatsächlich überdurchschnittlich viele Neueintritte ab\", sagt er lediglich.\\nAuch die Hessen-CDU hält sich zu diesem Thema bedeckt. Landesverband-Sprecher Tobias Bayer, erklärt: \"Nicht erst seit dem Ende der Ampelkoalition verzeichnen wir einen Mitgliederzuwachs. Wir gehen davon aus, dass wir wie im bisherigen Jahresverlauf auch weiterhin viele neue Mitglieder gewinnen werden.\" Auf Bundesebene verloren die Christdemokraten in den vergangenen Jahrzehnten durch Austritte und Sterbefälle im Schnitt zwei Prozent ihrer Mitglieder jährlich. In diesem Jahr wurde zum ersten Mal ein leichter Mitgliederzuwachs verbucht.\\nDie hessische AfD hat seit dem Ampel-Aus 69 neue Mitgliedsanträge erhalten, berichtet Landeschef Robert Lambrou. \"Vor Wahlen gibt es regelmäßig ein erhöhtes Interesse an politischen Themen und Parteimitgliedschaften, das gilt auch für die AfD.\" Es habe eine große Mitgliedereintrittswelle von Januar 2023 bis zum Sommer 2024 gegeben - seitdem sei die Zahl der Mitgliedsanträge \"auf einem hohen Niveau\".\\nAcht Prozent Zuwachs bei der Linken\\nDie Linkspartei in Hessen verzeichnet nach dem Bruch der Ampel-Koalition sogar einen Mitgliederzuwachs von mehr als 8 Prozent. In den vergangenen zwei Wochen sind rund 270 Mitgliedschaftsanträge eingegangen, täglich gebe es weiterhin bis zu 10 Parteieintritte, berichtet Sprecher Michael Müller. Das sei eine \"wahnsinnige Dynamik\" für den bislang 3300-mitgliederstarken Landesverband, betont Müller, \"normalerweise haben wir etwa 35 Eintritte im Monat\". Müller sagt: \"Wahlkämpfe sind grundsätzlich auch Zeiten, in denen Menschen sich der Linken anschließen. Der positive Trend dürfte also anhalten.\"\\n\\nLoad-Date:\\xa0November 20, 2024\\n\\n\\nEnd of Document\\n\\n\\n\\n\\n\\n\\nEin Besuch Berlins in besonderen Zeiten\\nRheinische Post\\nSamstag 9. November 2024\\nRheinische Post Xanten\\n\\n\\nCopyright 2024 Rheinische Post Verlagsgesellschaft mbH Alle Rechte Vorbehalten\\n\\n\\nSection:\\xa0S. 4\\nLength:\\xa0300 words\\nByline:\\xa0Timo Sieg\\nBody\\n\\n\\nTimo Sieg\\nBerlin Nicht nur geografisch ist Radevormwald weit weg von der Hauptstadt. Martina Vöpel hat den Weg trotzdem zurückgelegt – um ihre Tochter Marie zu besuchen, die in Berlin arbeitet. Die 25-Jährige findet, nach dem Ampel-Aus gibt es hier noch mehr Trubel: „Die Stimmung ist anders.“ Martina Vöpels Besuch fällt zufällig genau in diese Zeit. Die 56-Jährige ist von der aktuellen Situation in der Hauptstadt „überwältigt“, wie sie sagt, als die beiden am Reichstagsufer neben dem Parlamentsgebäude stehen.\\nSusanne Brands und Stephanie Henrich sind auf der Besucherebene des Bundestags, schauen durch die Verglasung in den Plenarsaal und besprechen die Koalitionsbildung nach den anstehenden Neuwahlen. Henrich kommt aus Hannover und ist „erleichtert und besorgt“ nach dem Ampel-Aus. Beide sind verunsichert, wie es jetzt im Bund weitergehen wird, freuen sich aber auch, gerade in diesen spannenden Zeiten in Berlin zu sein. Der Betreuer einer anderen Besuchergruppe hat den Eindruck: „Die Leute merken, dass sie heute einen historischen Tag erwischt haben.“\\nNick Ebner war tagsüber schon im Bundestag, jetzt wird es dunkel und er steht vor dem Brandenburger Tor. Der 31-Jährige kommt aus Baden, wohnt jetzt in Tübingen und betreut Studierendenaustausche. Er hat die Streitigkeiten innerhalb der Bundesregierung mitbekommen und war genervt. Trotzdem überraschte ihn das Ende am Mittwochabend und trotzdem überwiegt bei ihm Betroffenheit statt Erleichterung. Er hält die Lage für „problematisch und gefährlich“. Das mag auch an seiner politischen Position liegen. Er sagt: „Ich kann mich nicht darüber freuen, dass es in eine konservativere Richtung gehen wird.“ Ebner sieht also nach dem Ampel-Aus schon eine von der Union geführte Regierung am Horizont, als in Berlin die Sonne untergeht.\\n\\nLink to PDF\\n\\nGraphic\\n\\n \\nWer gerade den Reichstag besucht, hat besonders spannende Tage erwischt. Foto: imago\\n\\nLoad-Date:\\xa0November 9, 2024\\n\\n\\nEnd of Document\\n\\n\\n\\n\\n\\n\\nEin Besuch Berlins in besonderen Zeiten\\nBergische Morgenpost\\nSamstag 9. November 2024\\nBergische Morgenpost Wermelskirchen\\n\\n\\nCopyright 2024 Rheinische Post Verlagsgesellschaft mbH Alle Rechte Vorbehalten\\n\\n\\nSection:\\xa0S. 4\\nLength:\\xa0300 words\\nByline:\\xa0Timo Sieg\\nBody\\n\\n\\nTimo Sieg\\nBerlin Nicht nur geografisch ist Radevormwald weit weg von der Hauptstadt. Martina Vöpel hat den Weg trotzdem zurückgelegt – um ihre Tochter Marie zu besuchen, die in Berlin arbeitet. Die 25-Jährige findet, nach dem Ampel-Aus gibt es hier noch mehr Trubel: „Die Stimmung ist anders.“ Martina Vöpels Besuch fällt zufällig genau in diese Zeit. Die 56-Jährige ist von der aktuellen Situation in der Hauptstadt „überwältigt“, wie sie sagt, als die beiden am Reichstagsufer neben dem Parlamentsgebäude stehen.\\nSusanne Brands und Stephanie Henrich sind auf der Besucherebene des Bundestags, schauen durch die Verglasung in den Plenarsaal und besprechen die Koalitionsbildung nach den anstehenden Neuwahlen. Henrich kommt aus Hannover und ist „erleichtert und besorgt“ nach dem Ampel-Aus. Beide sind verunsichert, wie es jetzt im Bund weitergehen wird, freuen sich aber auch, gerade in diesen spannenden Zeiten in Berlin zu sein. Der Betreuer einer anderen Besuchergruppe hat den Eindruck: „Die Leute merken, dass sie heute einen historischen Tag erwischt haben.“\\nNick Ebner war tagsüber schon im Bundestag, jetzt wird es dunkel und er steht vor dem Brandenburger Tor. Der 31-Jährige kommt aus Baden, wohnt jetzt in Tübingen und betreut Studierendenaustausche. Er hat die Streitigkeiten innerhalb der Bundesregierung mitbekommen und war genervt. Trotzdem überraschte ihn das Ende am Mittwochabend und trotzdem überwiegt bei ihm Betroffenheit statt Erleichterung. Er hält die Lage für „problematisch und gefährlich“. Das mag auch an seiner politischen Position liegen. Er sagt: „Ich kann mich nicht darüber freuen, dass es in eine konservativere Richtung gehen wird.“ Ebner sieht also nach dem Ampel-Aus schon eine von der Union geführte Regierung am Horizont, als in Berlin die Sonne untergeht.\\n\\nLink to PDF\\n\\nGraphic\\n\\n \\nWer gerade den Reichstag besucht, hat besonders spannende Tage erwischt. Foto: imago\\n\\nLoad-Date:\\xa0November 9, 2024\\n\\n\\nEnd of Document\\n\\n\\n\\n\\n\\n\\nEin Besuch Berlins in besonderen Zeiten\\nNeuss Grevenbroicher Zeitung\\nSamstag 9. November 2024\\nNeuß-Grevenbroicher Zeitung Neuss\\n\\n\\nCopyright 2024 Rheinische Post Verlagsgesellschaft mbH Alle Rechte Vorbehalten\\n\\n\\nSection:\\xa0S. 4\\nLength:\\xa0300 words\\nByline:\\xa0Timo Sieg\\nBody\\n\\n\\nTimo Sieg\\nBerlin Nicht nur geografisch ist Radevormwald weit weg von der Hauptstadt. Martina Vöpel hat den Weg trotzdem zurückgelegt – um ihre Tochter Marie zu besuchen, die in Berlin arbeitet. Die 25-Jährige findet, nach dem Ampel-Aus gibt es hier noch mehr Trubel: „Die Stimmung ist anders.“ Martina Vöpels Besuch fällt zufällig genau in diese Zeit. Die 56-Jährige ist von der aktuellen Situation in der Hauptstadt „überwältigt“, wie sie sagt, als die beiden am Reichstagsufer neben dem Parlamentsgebäude stehen.\\nSusanne Brands und Stephanie Henrich sind auf der Besucherebene des Bundestags, schauen durch die Verglasung in den Plenarsaal und besprechen die Koalitionsbildung nach den anstehenden Neuwahlen. Henrich kommt aus Hannover und ist „erleichtert und besorgt“ nach dem Ampel-Aus. Beide sind verunsichert, wie es jetzt im Bund weitergehen wird, freuen sich aber auch, gerade in diesen spannenden Zeiten in Berlin zu sein. Der Betreuer einer anderen Besuchergruppe hat den Eindruck: „Die Leute merken, dass sie heute einen historischen Tag erwischt haben.“\\nNick Ebner war tagsüber schon im Bundestag, jetzt wird es dunkel und er steht vor dem Brandenburger Tor. Der 31-Jährige kommt aus Baden, wohnt jetzt in Tübingen und betreut Studierendenaustausche. Er hat die Streitigkeiten innerhalb der Bundesregierung mitbekommen und war genervt. Trotzdem überraschte ihn das Ende am Mittwochabend und trotzdem überwiegt bei ihm Betroffenheit statt Erleichterung. Er hält die Lage für „problematisch und gefährlich“. Das mag auch an seiner politischen Position liegen. Er sagt: „Ich kann mich nicht darüber freuen, dass es in eine konservativere Richtung gehen wird.“ Ebner sieht also nach dem Ampel-Aus schon eine von der Union geführte Regierung am Horizont, als in Berlin die Sonne untergeht.\\n\\nLink to PDF\\n\\nGraphic\\n\\n \\nWer gerade den Reichstag besucht, hat besonders spannende Tage erwischt. Foto: imago\\n\\nLoad-Date:\\xa0November 9, 2024\\n\\n\\nEnd of Document\\n\\n\\n\\n\\n\\n\\n\"Ungewöhnlich starker Zulauf\"; Vier Parteien in Hessen verzeichnen jede Menge neue Mitglieder seit dem Bruch der Berliner Ampel\\nRüsselsheimer Echo\\nDonnerstag 21. November 2024\\n\\n\\nCopyright 2024 VRM GmbH & Co. KG Alle Rechte Vorbehalten\\n\\n\\nSection:\\xa0REGION; RÜSSELSHEIMER ECHO; S. 5\\nLength:\\xa0575 words\\nByline:\\xa0Nele Leubner\\nBody\\n\\n\\nWIESBADEN. Das Ende der Ampelkoalition im Bund scheint die Grünen zu beflügeln. Auf ihrem Bundesparteitag in Wiesbaden verkündeten sie: 11.000 Menschen hätten seit dem Rauswurf von Finanzminister Christian Lindner (FDP) aus der Bundesregierung bei den Grünen einen Mitgliedsantrag eingereicht. Viele der neuen Mitglieder kommen aus Hessen: 750 Menschen sind seit dem Ampel-Bruch vor nicht mal zwei Wochen in den Grünen-Landesverband eingetreten.\\nDie Grünen-Landesvorsitzenden Kathrin Anders und Andreas Ewald betonen, dieser Mitgliederzuwachs sei \"sehr ungewöhnlich\". Sie berichten, dass es nach den Demos gegen Hass und Hetze vor den Landtagswahlen im Osten schon einmal einen deutlichen Aufwuchs an Mitgliedern gegeben habe. \"Allerdings hat das Ampel-Aus einen besonders großen Mitgliederzuwachs gebracht.\"\\nGrüne profitieren am stärksten vom Ampel-Aus\\nAber nicht nur die Grünen, auch andere hessische Parteien verzeichnen nach dem Ampel-Aus und vor den anstehenden Bundestagswahlen über ein größeres Interesse. FDP-Generalsekretär Moritz Promny berichtet, dass die hessischen Liberalen seitdem 173 Mitglieder dazugewonnen haben. Im Bund waren es rund 1800. \"Das ist ein ungewöhnlich starker Zulauf und ein Beleg für den Aufbruch: Die Menschen wollen ein Zeichen setzen und sich einbringen\", betont Promny. Er gehe von weiteren \"zahlreichen Neueintritten\" im Zuge des Bundestagswahlkampfes aus.\\nDer dritte Ampel-Partner im Bund, die SPD, hingegen verzeichnet zwar bundesweit ebenfalls Mitgliederzuwächse im vergleichbaren Rahmen wie die FDP, wie das Handelsblatt berichtet, der hessische Landesverband könne aber keine genaue Zahl nennen, sagt SPD-Sprecher Sascha Hörmann. \"Es liegt uns noch keine Gesamtzahl der digitalen und klassisch analogen Beitritte vor Ort vor, allerdings zeichnen sich derzeit tatsächlich überdurchschnittlich viele Neueintritte ab\", sagt er lediglich.\\nAuch die Hessen-CDU hält sich zu diesem Thema bedeckt. Landesverband-Sprecher Tobias Bayer, erklärt: \"Nicht erst seit dem Ende der Ampelkoalition verzeichnen wir einen Mitgliederzuwachs. Wir gehen davon aus, dass wir wie im bisherigen Jahresverlauf auch weiterhin viele neue Mitglieder gewinnen werden.\" Auf Bundesebene verloren die Christdemokraten in den vergangenen Jahrzehnten durch Austritte und Sterbefälle im Schnitt zwei Prozent ihrer Mitglieder jährlich. In diesem Jahr wurde zum ersten Mal ein leichter Mitgliederzuwachs verbucht.\\nDie hessische AfD hat seit dem Ampel-Aus 69 neue Mitgliedsanträge erhalten, berichtet Landeschef Robert Lambrou. \"Vor Wahlen gibt es regelmäßig ein erhöhtes Interesse an politischen Themen und Parteimitgliedschaften, das gilt auch für die AfD.\" Es habe eine große Mitgliedereintrittswelle von Januar 2023 bis zum Sommer 2024 gegeben - seitdem sei die Zahl der Mitgliedsanträge \"auf einem hohen Niveau\".\\nAcht Prozent Zuwachs bei der Linken\\nDie Linkspartei in Hessen verzeichnet nach dem Bruch der Ampel-Koalition sogar einen Mitgliederzuwachs von mehr als 8 Prozent. In den vergangenen zwei Wochen sind rund 270 Mitgliedschaftsanträge eingegangen, täglich gebe es weiterhin bis zu 10 Parteieintritte, berichtet Sprecher Michael Müller. Das sei eine \"wahnsinnige Dynamik\" für den bislang 3300-mitgliederstarken Landesverband, betont Müller, \"normalerweise haben wir etwa 35 Eintritte im Monat\". Müller sagt: \"Wahlkämpfe sind grundsätzlich auch Zeiten, in denen Menschen sich der Linken anschließen. Der positive Trend dürfte also anhalten.\"\\n\\nLoad-Date:\\xa0November 20, 2024\\n\\n\\nEnd of Document\\n\\n\\n\\n\\n\\n\\n\"Ungewöhnlich starker Zulauf\"; Vier Parteien in Hessen verzeichnen jede Menge neue Mitglieder seit dem Bruch der Berliner Ampel\\nStarkenburger Echo\\nDonnerstag 21. November 2024\\n\\n\\nCopyright 2024 Echo Zeitungen GmbH Alle Rechte Vorbehalten\\n\\n\\nSection:\\xa0REGION; ; S. 5\\nLength:\\xa0575 words\\nByline:\\xa0Nele Leubner\\nBody\\n\\n\\nWIESBADEN. Das Ende der Ampelkoalition im Bund scheint die Grünen zu beflügeln. Auf ihrem Bundesparteitag in Wiesbaden verkündeten sie: 11.000 Menschen hätten seit dem Rauswurf von Finanzminister Christian Lindner (FDP) aus der Bundesregierung bei den Grünen einen Mitgliedsantrag eingereicht. Viele der neuen Mitglieder kommen aus Hessen: 750 Menschen sind seit dem Ampel-Bruch vor nicht mal zwei Wochen in den Grünen-Landesverband eingetreten.\\nDie Grünen-Landesvorsitzenden Kathrin Anders und Andreas Ewald betonen, dieser Mitgliederzuwachs sei \"sehr ungewöhnlich\". Sie berichten, dass es nach den Demos gegen Hass und Hetze vor den Landtagswahlen im Osten schon einmal einen deutlichen Aufwuchs an Mitgliedern gegeben habe. \"Allerdings hat das Ampel-Aus einen besonders großen Mitgliederzuwachs gebracht.\"\\nGrüne profitieren am stärksten vom Ampel-Aus\\nAber nicht nur die Grünen, auch andere hessische Parteien verzeichnen nach dem Ampel-Aus und vor den anstehenden Bundestagswahlen über ein größeres Interesse. FDP-Generalsekretär Moritz Promny berichtet, dass die hessischen Liberalen seitdem 173 Mitglieder dazugewonnen haben. Im Bund waren es rund 1800. \"Das ist ein ungewöhnlich starker Zulauf und ein Beleg für den Aufbruch: Die Menschen wollen ein Zeichen setzen und sich einbringen\", betont Promny. Er gehe von weiteren \"zahlreichen Neueintritten\" im Zuge des Bundestagswahlkampfes aus.\\nDer dritte Ampel-Partner im Bund, die SPD, hingegen verzeichnet zwar bundesweit ebenfalls Mitgliederzuwächse im vergleichbaren Rahmen wie die FDP, wie das Handelsblatt berichtet, der hessische Landesverband könne aber keine genaue Zahl nennen, sagt SPD-Sprecher Sascha Hörmann. \"Es liegt uns noch keine Gesamtzahl der digitalen und klassisch analogen Beitritte vor Ort vor, allerdings zeichnen sich derzeit tatsächlich überdurchschnittlich viele Neueintritte ab\", sagt er lediglich.\\nAuch die Hessen-CDU hält sich zu diesem Thema bedeckt. Landesverband-Sprecher Tobias Bayer, erklärt: \"Nicht erst seit dem Ende der Ampelkoalition verzeichnen wir einen Mitgliederzuwachs. Wir gehen davon aus, dass wir wie im bisherigen Jahresverlauf auch weiterhin viele neue Mitglieder gewinnen werden.\" Auf Bundesebene verloren die Christdemokraten in den vergangenen Jahrzehnten durch Austritte und Sterbefälle im Schnitt zwei Prozent ihrer Mitglieder jährlich. In diesem Jahr wurde zum ersten Mal ein leichter Mitgliederzuwachs verbucht.\\nDie hessische AfD hat seit dem Ampel-Aus 69 neue Mitgliedsanträge erhalten, berichtet Landeschef Robert Lambrou. \"Vor Wahlen gibt es regelmäßig ein erhöhtes Interesse an politischen Themen und Parteimitgliedschaften, das gilt auch für die AfD.\" Es habe eine große Mitgliedereintrittswelle von Januar 2023 bis zum Sommer 2024 gegeben - seitdem sei die Zahl der Mitgliedsanträge \"auf einem hohen Niveau\".\\nAcht Prozent Zuwachs bei der Linken\\nDie Linkspartei in Hessen verzeichnet nach dem Bruch der Ampel-Koalition sogar einen Mitgliederzuwachs von mehr als 8 Prozent. In den vergangenen zwei Wochen sind rund 270 Mitgliedschaftsanträge eingegangen, täglich gebe es weiterhin bis zu 10 Parteieintritte, berichtet Sprecher Michael Müller. Das sei eine \"wahnsinnige Dynamik\" für den bislang 3300-mitgliederstarken Landesverband, betont Müller, \"normalerweise haben wir etwa 35 Eintritte im Monat\". Müller sagt: \"Wahlkämpfe sind grundsätzlich auch Zeiten, in denen Menschen sich der Linken anschließen. Der positive Trend dürfte also anhalten.\"\\n\\nLoad-Date:\\xa0November 20, 2024\\n\\n\\nEnd of Document\\n\\n\\n\\n\\n\\n\\n\"Ungewöhnlich starker Zulauf\"; Vier Parteien in Hessen verzeichnen jede Menge neue Mitglieder seit dem Bruch der Berliner Ampel\\nBürstädter Zeitung (Germany)\\nDonnerstag 21. November 2024\\n\\n\\nCopyright 2024 VRM GmbH & Co. KG Alle Rechte Vorbehalten\\n\\n\\nSection:\\xa0REGION; ; S. 5\\nLength:\\xa0575 words\\nByline:\\xa0Nele Leubner\\nBody\\n\\n\\nWIESBADEN. Das Ende der Ampelkoalition im Bund scheint die Grünen zu beflügeln. Auf ihrem Bundesparteitag in Wiesbaden verkündeten sie: 11.000 Menschen hätten seit dem Rauswurf von Finanzminister Christian Lindner (FDP) aus der Bundesregierung bei den Grünen einen Mitgliedsantrag eingereicht. Viele der neuen Mitglieder kommen aus Hessen: 750 Menschen sind seit dem Ampel-Bruch vor nicht mal zwei Wochen in den Grünen-Landesverband eingetreten.\\nDie Grünen-Landesvorsitzenden Kathrin Anders und Andreas Ewald betonen, dieser Mitgliederzuwachs sei \"sehr ungewöhnlich\". Sie berichten, dass es nach den Demos gegen Hass und Hetze vor den Landtagswahlen im Osten schon einmal einen deutlichen Aufwuchs an Mitgliedern gegeben habe. \"Allerdings hat das Ampel-Aus einen besonders großen Mitgliederzuwachs gebracht.\"\\nGrüne profitieren am stärksten vom Ampel-Aus\\nAber nicht nur die Grünen, auch andere hessische Parteien verzeichnen nach dem Ampel-Aus und vor den anstehenden Bundestagswahlen über ein größeres Interesse. FDP-Generalsekretär Moritz Promny berichtet, dass die hessischen Liberalen seitdem 173 Mitglieder dazugewonnen haben. Im Bund waren es rund 1800. \"Das ist ein ungewöhnlich starker Zulauf und ein Beleg für den Aufbruch: Die Menschen wollen ein Zeichen setzen und sich einbringen\", betont Promny. Er gehe von weiteren \"zahlreichen Neueintritten\" im Zuge des Bundestagswahlkampfes aus.\\nDer dritte Ampel-Partner im Bund, die SPD, hingegen verzeichnet zwar bundesweit ebenfalls Mitgliederzuwächse im vergleichbaren Rahmen wie die FDP, wie das Handelsblatt berichtet, der hessische Landesverband könne aber keine genaue Zahl nennen, sagt SPD-Sprecher Sascha Hörmann. \"Es liegt uns noch keine Gesamtzahl der digitalen und klassisch analogen Beitritte vor Ort vor, allerdings zeichnen sich derzeit tatsächlich überdurchschnittlich viele Neueintritte ab\", sagt er lediglich.\\nAuch die Hessen-CDU hält sich zu diesem Thema bedeckt. Landesverband-Sprecher Tobias Bayer, erklärt: \"Nicht erst seit dem Ende der Ampelkoalition verzeichnen wir einen Mitgliederzuwachs. Wir gehen davon aus, dass wir wie im bisherigen Jahresverlauf auch weiterhin viele neue Mitglieder gewinnen werden.\" Auf Bundesebene verloren die Christdemokraten in den vergangenen Jahrzehnten durch Austritte und Sterbefälle im Schnitt zwei Prozent ihrer Mitglieder jährlich. In diesem Jahr wurde zum ersten Mal ein leichter Mitgliederzuwachs verbucht.\\nDie hessische AfD hat seit dem Ampel-Aus 69 neue Mitgliedsanträge erhalten, berichtet Landeschef Robert Lambrou. \"Vor Wahlen gibt es regelmäßig ein erhöhtes Interesse an politischen Themen und Parteimitgliedschaften, das gilt auch für die AfD.\" Es habe eine große Mitgliedereintrittswelle von Januar 2023 bis zum Sommer 2024 gegeben - seitdem sei die Zahl der Mitgliedsanträge \"auf einem hohen Niveau\".\\nAcht Prozent Zuwachs bei der Linken\\nDie Linkspartei in Hessen verzeichnet nach dem Bruch der Ampel-Koalition sogar einen Mitgliederzuwachs von mehr als 8 Prozent. In den vergangenen zwei Wochen sind rund 270 Mitgliedschaftsanträge eingegangen, täglich gebe es weiterhin bis zu 10 Parteieintritte, berichtet Sprecher Michael Müller. Das sei eine \"wahnsinnige Dynamik\" für den bislang 3300-mitgliederstarken Landesverband, betont Müller, \"normalerweise haben wir etwa 35 Eintritte im Monat\". Müller sagt: \"Wahlkämpfe sind grundsätzlich auch Zeiten, in denen Menschen sich der Linken anschließen. Der positive Trend dürfte also anhalten.\"\\n\\nLoad-Date:\\xa0November 20, 2024\\n\\n\\nEnd of Document\\n\\n\\n\\n\\n\\n\\n\"Ungewöhnlich starker Zulauf\"; Vier Parteien in Hessen verzeichnen jede Menge neue Mitglieder seit dem Bruch der Berliner Ampel\\nLampertheimer Zeitung (Germany)\\nDonnerstag 21. November 2024\\n\\n\\nCopyright 2024 VRM GmbH & Co. KG Alle Rechte Vorbehalten\\n\\n\\nSection:\\xa0REGION; LAMPERTHEIMER ZEITUNG; S. 5\\nLength:\\xa0575 words\\nByline:\\xa0Nele Leubner\\nBody\\n\\n\\nWIESBADEN. Das Ende der Ampelkoalition im Bund scheint die Grünen zu beflügeln. Auf ihrem Bundesparteitag in Wiesbaden verkündeten sie: 11.000 Menschen hätten seit dem Rauswurf von Finanzminister Christian Lindner (FDP) aus der Bundesregierung bei den Grünen einen Mitgliedsantrag eingereicht. Viele der neuen Mitglieder kommen aus Hessen: 750 Menschen sind seit dem Ampel-Bruch vor nicht mal zwei Wochen in den Grünen-Landesverband eingetreten.\\nDie Grünen-Landesvorsitzenden Kathrin Anders und Andreas Ewald betonen, dieser Mitgliederzuwachs sei \"sehr ungewöhnlich\". Sie berichten, dass es nach den Demos gegen Hass und Hetze vor den Landtagswahlen im Osten schon einmal einen deutlichen Aufwuchs an Mitgliedern gegeben habe. \"Allerdings hat das Ampel-Aus einen besonders großen Mitgliederzuwachs gebracht.\"\\nGrüne profitieren am stärksten vom Ampel-Aus\\nAber nicht nur die Grünen, auch andere hessische Parteien verzeichnen nach dem Ampel-Aus und vor den anstehenden Bundestagswahlen über ein größeres Interesse. FDP-Generalsekretär Moritz Promny berichtet, dass die hessischen Liberalen seitdem 173 Mitglieder dazugewonnen haben. Im Bund waren es rund 1800. \"Das ist ein ungewöhnlich starker Zulauf und ein Beleg für den Aufbruch: Die Menschen wollen ein Zeichen setzen und sich einbringen\", betont Promny. Er gehe von weiteren \"zahlreichen Neueintritten\" im Zuge des Bundestagswahlkampfes aus.\\nDer dritte Ampel-Partner im Bund, die SPD, hingegen verzeichnet zwar bundesweit ebenfalls Mitgliederzuwächse im vergleichbaren Rahmen wie die FDP, wie das Handelsblatt berichtet, der hessische Landesverband könne aber keine genaue Zahl nennen, sagt SPD-Sprecher Sascha Hörmann. \"Es liegt uns noch keine Gesamtzahl der digitalen und klassisch analogen Beitritte vor Ort vor, allerdings zeichnen sich derzeit tatsächlich überdurchschnittlich viele Neueintritte ab\", sagt er lediglich.\\nAuch die Hessen-CDU hält sich zu diesem Thema bedeckt. Landesverband-Sprecher Tobias Bayer, erklärt: \"Nicht erst seit dem Ende der Ampelkoalition verzeichnen wir einen Mitgliederzuwachs. Wir gehen davon aus, dass wir wie im bisherigen Jahresverlauf auch weiterhin viele neue Mitglieder gewinnen werden.\" Auf Bundesebene verloren die Christdemokraten in den vergangenen Jahrzehnten durch Austritte und Sterbefälle im Schnitt zwei Prozent ihrer Mitglieder jährlich. In diesem Jahr wurde zum ersten Mal ein leichter Mitgliederzuwachs verbucht.\\nDie hessische AfD hat seit dem Ampel-Aus 69 neue Mitgliedsanträge erhalten, berichtet Landeschef Robert Lambrou. \"Vor Wahlen gibt es regelmäßig ein erhöhtes Interesse an politischen Themen und Parteimitgliedschaften, das gilt auch für die AfD.\" Es habe eine große Mitgliedereintrittswelle von Januar 2023 bis zum Sommer 2024 gegeben - seitdem sei die Zahl der Mitgliedsanträge \"auf einem hohen Niveau\".\\nAcht Prozent Zuwachs bei der Linken\\nDie Linkspartei in Hessen verzeichnet nach dem Bruch der Ampel-Koalition sogar einen Mitgliederzuwachs von mehr als 8 Prozent. In den vergangenen zwei Wochen sind rund 270 Mitgliedschaftsanträge eingegangen, täglich gebe es weiterhin bis zu 10 Parteieintritte, berichtet Sprecher Michael Müller. Das sei eine \"wahnsinnige Dynamik\" für den bislang 3300-mitgliederstarken Landesverband, betont Müller, \"normalerweise haben wir etwa 35 Eintritte im Monat\". Müller sagt: \"Wahlkämpfe sind grundsätzlich auch Zeiten, in denen Menschen sich der Linken anschließen. Der positive Trend dürfte also anhalten.\"\\n\\nLoad-Date:\\xa0November 20, 2024\\n\\n\\nEnd of Document\\n\\n\\n\\n\\n\\n\\nEin Besuch Berlins in besonderen Zeiten\\nRheinische Post\\nSamstag 9. November 2024\\nRheinische Post Düsseldorf-Mitte/West\\n\\n\\nCopyright 2024 Rheinische Post Verlagsgesellschaft mbH Alle Rechte Vorbehalten\\n\\n\\nSection:\\xa0S. 4\\nLength:\\xa0300 words\\nByline:\\xa0Timo Sieg\\nBody\\n\\n\\nTimo Sieg\\nBerlin Nicht nur geografisch ist Radevormwald weit weg von der Hauptstadt. Martina Vöpel hat den Weg trotzdem zurückgelegt – um ihre Tochter Marie zu besuchen, die in Berlin arbeitet. Die 25-Jährige findet, nach dem Ampel-Aus gibt es hier noch mehr Trubel: „Die Stimmung ist anders.“ Martina Vöpels Besuch fällt zufällig genau in diese Zeit. Die 56-Jährige ist von der aktuellen Situation in der Hauptstadt „überwältigt“, wie sie sagt, als die beiden am Reichstagsufer neben dem Parlamentsgebäude stehen.\\nSusanne Brands und Stephanie Henrich sind auf der Besucherebene des Bundestags, schauen durch die Verglasung in den Plenarsaal und besprechen die Koalitionsbildung nach den anstehenden Neuwahlen. Henrich kommt aus Hannover und ist „erleichtert und besorgt“ nach dem Ampel-Aus. Beide sind verunsichert, wie es jetzt im Bund weitergehen wird, freuen sich aber auch, gerade in diesen spannenden Zeiten in Berlin zu sein. Der Betreuer einer anderen Besuchergruppe hat den Eindruck: „Die Leute merken, dass sie heute einen historischen Tag erwischt haben.“\\nNick Ebner war tagsüber schon im Bundestag, jetzt wird es dunkel und er steht vor dem Brandenburger Tor. Der 31-Jährige kommt aus Baden, wohnt jetzt in Tübingen und betreut Studierendenaustausche. Er hat die Streitigkeiten innerhalb der Bundesregierung mitbekommen und war genervt. Trotzdem überraschte ihn das Ende am Mittwochabend und trotzdem überwiegt bei ihm Betroffenheit statt Erleichterung. Er hält die Lage für „problematisch und gefährlich“. Das mag auch an seiner politischen Position liegen. Er sagt: „Ich kann mich nicht darüber freuen, dass es in eine konservativere Richtung gehen wird.“ Ebner sieht also nach dem Ampel-Aus schon eine von der Union geführte Regierung am Horizont, als in Berlin die Sonne untergeht.\\n\\nLink to PDF\\n\\nGraphic\\n\\n \\nWer gerade den Reichstag besucht, hat besonders spannende Tage erwischt. Foto: imago\\n\\nLoad-Date:\\xa0November 9, 2024\\n\\n\\nEnd of Document\\n\\n\\n\\n\\n\\n\\n\"Ungewöhnlich starker Zulauf\"; Vier Parteien in Hessen verzeichnen jede Menge neue Mitglieder seit dem Bruch der Berliner Ampel\\nMain-Spitze (Germany)\\nDonnerstag 21. November 2024\\n\\n\\nCopyright 2024 VRM GmbH & Co. KG Alle Rechte Vorbehalten\\n\\n\\nSection:\\xa0REGION; ; S. 5\\nLength:\\xa0575 words\\nByline:\\xa0Nele Leubner\\nBody\\n\\n\\nWIESBADEN. Das Ende der Ampelkoalition im Bund scheint die Grünen zu beflügeln. Auf ihrem Bundesparteitag in Wiesbaden verkündeten sie: 11.000 Menschen hätten seit dem Rauswurf von Finanzminister Christian Lindner (FDP) aus der Bundesregierung bei den Grünen einen Mitgliedsantrag eingereicht. Viele der neuen Mitglieder kommen aus Hessen: 750 Menschen sind seit dem Ampel-Bruch vor nicht mal zwei Wochen in den Grünen-Landesverband eingetreten.\\nDie Grünen-Landesvorsitzenden Kathrin Anders und Andreas Ewald betonen, dieser Mitgliederzuwachs sei \"sehr ungewöhnlich\". Sie berichten, dass es nach den Demos gegen Hass und Hetze vor den Landtagswahlen im Osten schon einmal einen deutlichen Aufwuchs an Mitgliedern gegeben habe. \"Allerdings hat das Ampel-Aus einen besonders großen Mitgliederzuwachs gebracht.\"\\nGrüne profitieren am stärksten vom Ampel-Aus\\nAber nicht nur die Grünen, auch andere hessische Parteien verzeichnen nach dem Ampel-Aus und vor den anstehenden Bundestagswahlen über ein größeres Interesse. FDP-Generalsekretär Moritz Promny berichtet, dass die hessischen Liberalen seitdem 173 Mitglieder dazugewonnen haben. Im Bund waren es rund 1800. \"Das ist ein ungewöhnlich starker Zulauf und ein Beleg für den Aufbruch: Die Menschen wollen ein Zeichen setzen und sich einbringen\", betont Promny. Er gehe von weiteren \"zahlreichen Neueintritten\" im Zuge des Bundestagswahlkampfes aus.\\nDer dritte Ampel-Partner im Bund, die SPD, hingegen verzeichnet zwar bundesweit ebenfalls Mitgliederzuwächse im vergleichbaren Rahmen wie die FDP, wie das Handelsblatt berichtet, der hessische Landesverband könne aber keine genaue Zahl nennen, sagt SPD-Sprecher Sascha Hörmann. \"Es liegt uns noch keine Gesamtzahl der digitalen und klassisch analogen Beitritte vor Ort vor, allerdings zeichnen sich derzeit tatsächlich überdurchschnittlich viele Neueintritte ab\", sagt er lediglich.\\nAuch die Hessen-CDU hält sich zu diesem Thema bedeckt. Landesverband-Sprecher Tobias Bayer, erklärt: \"Nicht erst seit dem Ende der Ampelkoalition verzeichnen wir einen Mitgliederzuwachs. Wir gehen davon aus, dass wir wie im bisherigen Jahresverlauf auch weiterhin viele neue Mitglieder gewinnen werden.\" Auf Bundesebene verloren die Christdemokraten in den vergangenen Jahrzehnten durch Austritte und Sterbefälle im Schnitt zwei Prozent ihrer Mitglieder jährlich. In diesem Jahr wurde zum ersten Mal ein leichter Mitgliederzuwachs verbucht.\\nDie hessische AfD hat seit dem Ampel-Aus 69 neue Mitgliedsanträge erhalten, berichtet Landeschef Robert Lambrou. \"Vor Wahlen gibt es regelmäßig ein erhöhtes Interesse an politischen Themen und Parteimitgliedschaften, das gilt auch für die AfD.\" Es habe eine große Mitgliedereintrittswelle von Januar 2023 bis zum Sommer 2024 gegeben - seitdem sei die Zahl der Mitgliedsanträge \"auf einem hohen Niveau\".\\nAcht Prozent Zuwachs bei der Linken\\nDie Linkspartei in Hessen verzeichnet nach dem Bruch der Ampel-Koalition sogar einen Mitgliederzuwachs von mehr als 8 Prozent. In den vergangenen zwei Wochen sind rund 270 Mitgliedschaftsanträge eingegangen, täglich gebe es weiterhin bis zu 10 Parteieintritte, berichtet Sprecher Michael Müller. Das sei eine \"wahnsinnige Dynamik\" für den bislang 3300-mitgliederstarken Landesverband, betont Müller, \"normalerweise haben wir etwa 35 Eintritte im Monat\". Müller sagt: \"Wahlkämpfe sind grundsätzlich auch Zeiten, in denen Menschen sich der Linken anschließen. Der positive Trend dürfte also anhalten.\"\\n\\nLoad-Date:\\xa0November 20, 2024\\n\\n\\nEnd of Document\\n\\n\\n\\n\\n\\n\\nKlare Worte zum Ampel-Aus; Bundestagsabgeordnete aus dem Landkreis Bad Kreuznach begrüßen Ende der Berliner Koalition\\nAllgemeine Zeitung (Germany)\\nSamstag 9. November 2024\\n\\n\\nCopyright 2024 VRM GmbH & Co. KG Alle Rechte Vorbehalten\\n\\n\\nSection:\\xa0LOKALES; ALLGEMEINE ZEITUNG ALZEY; S. 19\\nLength:\\xa0570 words\\nByline:\\xa0Clemens Bernd\\nBody\\n\\n\\nBAD KREUZNACH. Es war ein Beben, das auch im Kreis Bad Kreuznach spürbar war: Bundeskanzler Olaf Scholz entlässt seinen Finanzminister Christian Lindner und läutet damit das vorzeitige Ende der Ampelkoalition ein. Vorangegangen war der erneute Haushaltsstreit am Mittwochabend, bei dem wieder einmal keine Einigung erzielt werden konnte. Die Bundestagsabgeordneten aus dem Kreis Bad Kreuznach begrüßen die Entscheidung des Kanzlers - allerdings aus unterschiedlichen Beweggründen.\\nKlöckner: \"Die Ampel ist gescheitert\"\\nDie CDU-Abgeordnete und gebürtige Kreuznacherin Julia Klöckner attestiert Scholz eine desaströse Amtszeit. In drei Jahren habe es die Ampel unter seiner Führung nicht geschafft, gute Politik zu machen und die Zustimmung des Volkes zu erhalten. Die vielen Krisen habe er nicht managen können: \"Herr Scholz war nicht bereit, nach dem Ausbruch des Krieges, die Prioritäten unseres Landes neu zu sortieren. Stattdessen boxte er das Selbstbestimmungsgesetz, die Cannabisfreigabe und weitere Themen durch, die gesellschaftspolitisch eher spalten als einen. Aber notwendig ist vor allem eine Kurskorrektur in der Wirtschaftspolitik, sie muss so schnell wie möglich passieren.\"\\nDie Art und Weise, wie Scholz das Ende der Koalition verkündete, stößt bei Klöckner ebenfalls auf Unverständnis: \"Das war gestern Abend eine lang vorbereitete ‚Spontanrede‘ von Bundeskanzler Scholz. Alles wurde über Tage sorgfältigst choreografiert. Wie kann man das Ende einer Koalition so verkünden?\" Die Vertrauensfrage müsse nun so schnell wie möglich kommen. Ein Regierungsvakuum sei keine Option für Deutschland. \"Wir fordern Bundeskanzler Scholz deshalb auf, die Vertrauensfrage spätestens nächste Woche zu stellen\", erklärt Klöckner.\\nWeingarten: \"Enttäuscht von Lindners Krawall-Kurs\"\\nDer SPD-Abgeordnete Joe Weingarten begrüßt die Entlassung Lindners und stärkt Olaf Scholz den Rücken: \"Wer trotz weitreichender Kompromisse, die der Kanzler bereit war, einzugehen, auf Maximalforderungen besteht, disqualifiziert sich für die große Verantwortung, die das Ministeramt mit sich bringt.\" Er zeige sich enttäuscht über den \"Krawall-Kurs\" von Christian Lindner.\\nFür Volker Wissing findet Weingarten hingegen lobende Worte. Er zolle Wissing für dessen \"verantwortungsvolle Entscheidung\" großen Respekt. Der Bundesverkehrsminister kündigte am Donnerstag seinen Austritt aus der FDP an, um sein Ministeramt weiter ausführen zu können.\\nIn den kommenden Wochen steht die Handlungsfähigkeit der (Noch)-Regierung für Weingarten im Fokus. Dabei nimmt er auch die Union in die Pflicht: \"Wichtig ist für die nächsten Wochen, dass die amtierende Regierung die Sachentscheidungen, die anstehen, im Interesse der Bürgerinnen und Bürger umsetzt. Dabei wird es auch auf die Union ankommen. Ich hoffe sehr, dass man sich dort nicht auf Fundamentalopposition beschränkt, sondern in staatspolitischer Verantwortung für das Land handelt.\"\\nHöchst: \"Platz machen für konservative Mehrheit\"\\nNicole Höchst von der AfD findet klare Worte für das Abschneiden der Regierungskoalition und sendet gleichzeitig einen Seitenhieb an die Landesregierung: \"Die linken Ideologen der Ampel sind nicht willens und in der Lage, entschlossene Antworten auf die drängenden Probleme unserer Zeit zu bieten und müssen jetzt Platz machen für die konservativen Mehrheiten in Deutschland. Die Berliner Ampel ist krachend gescheitert und sollte den Mainzer Abklatsch gleich mitnehmen.\"\\n\\nLoad-Date:\\xa0November 8, 2024\\n\\n\\nEnd of Document\\n\\n\\n\\n\\n\\n\\n\"Neuwahlen noch vor März\"; Nach Ampel-Aus: Forderungen der IHK / Steht die rheinhessische Kammer hinter der FDP?\\nWormser Zeitung (Germany)\\nSamstag 9. November 2024\\n\\n\\nCopyright 2024 VRM GmbH & Co. KG Alle Rechte Vorbehalten\\n\\n\\nSection:\\xa0REGION; WORMSER ZEITUNG; S. 15\\nLength:\\xa0373 words\\nByline:\\xa0Johannes Lahr\\nBody\\n\\n\\nRHEINHESSEN. Die Uneinigkeit in Fragen der Wirtschaftspolitik war eine der Hauptursachen für den Bruch der Ampel-Koalition. In seinem 18-seitigen Wirtschaftspapier hatte FDP-Chef Christian Lindner vor wenigen Tagen eine \"wirtschaftspolitische Wende\" einleiten wollen. Die Koalitionspartner SPD und Grüne hatten zuvor bereits abweichende Vorschläge für die Stärkung der deutschen Wirtschaft eingebracht. Laut Medienberichten stehen führende Unternehmerverbände weiter hinter den Forderungen des nun ehemaligen Finanzministers Lindner. Die Industrie- und Handelskammer für Rheinhessen (IHK) äußerte dagegen keine Präferenz für einen der Vorschläge der Ampel-Parteien, zeigte sich um den Wirtschaftsstandort Deutschland jedoch sehr besorgt.\\n\"Besonders in so unsicheren Zeiten wie jetzt, ist Stabilität für unsere regionale Wirtschaft essenziell. Wir brauchen eine handlungsfähige Regierung, die geschlossen agiert und verloren gegangenes Vertrauen wieder aufbaut\", sagt IHK-Hauptgeschäftsführerin Karina Szwede. Susanne Szczesny-Oßing, Präsidentin der IHK-Arbeitsgemeinschaft Rheinland-Pfalz, forderte Neuwahlen schon im Januar: \"Ein Aufschub bis März würde die Unsicherheiten nur verlängern und den wirtschaftlichen sowie gesellschaftlichen Herausforderungen in keiner Weise gerecht.\"\\nDie jüngste Konjunkturumfrage der IHK vom Oktober habe gezeigt, wie stark die Wirtschaftsflaute auch die Unternehmen in Rheinhessen treffe. 30 Prozent der rheinhessischen Unternehmen, die an der Umfrage teilgenommen haben, berichteten von einer schlechten Geschäftslage. Über die Hälfte der Unternehmen erwarten für die kommenden zwölf Monate eine unveränderte Geschäftslage, einige gehen noch von einer weiteren Verschlechterung aus.\\nGut 60 Prozent machten in der Konjunkturumfrage die wirtschaftlichen Rahmenbedingungen in Deutschland für die \"massiven Rezessionstendenzen\" verantwortlich. Das ist auch für Karina Szwede das größte Geschäftsrisiko: \"Deshalb besteht hier dringender Handlungsbedarf.\" Auf die Frage, ob die Wirtschafts- und Unternehmerverbände hinter der FDP und den Vorschlägen Lindners stehen, äußerte sich Szwede nicht. Zu den Positionen einzelner Parteien beziehe die IHK grundsätzlich keine Stellung, heißt es von Seiten der Pressestelle.\\n\\nLoad-Date:\\xa0November 8, 2024\\n\\n\\nEnd of Document\\n\\n\\n\\n\\n\\n\\n\"Neuwahlen noch vor März\"; Nach Ampel-Aus: Forderungen der IHK / Steht die rheinhessische Kammer hinter der FDP?\\nAllgemeine Zeitung (Germany)\\nSamstag 9. November 2024\\n\\n\\nCopyright 2024 VRM GmbH & Co. KG Alle Rechte Vorbehalten\\n\\n\\nSection:\\xa0REGION; ALLGEMEINE ZEITUNG MAINZ; S. 21\\nLength:\\xa0373 words\\nByline:\\xa0Johannes Lahr\\nBody\\n\\n\\nRHEINHESSEN. Die Uneinigkeit in Fragen der Wirtschaftspolitik war eine der Hauptursachen für den Bruch der Ampel-Koalition. In seinem 18-seitigen Wirtschaftspapier hatte FDP-Chef Christian Lindner vor wenigen Tagen eine \"wirtschaftspolitische Wende\" einleiten wollen. Die Koalitionspartner SPD und Grüne hatten zuvor bereits abweichende Vorschläge für die Stärkung der deutschen Wirtschaft eingebracht. Laut Medienberichten stehen führende Unternehmerverbände weiter hinter den Forderungen des nun ehemaligen Finanzministers Lindner. Die Industrie- und Handelskammer für Rheinhessen (IHK) äußerte dagegen keine Präferenz für einen der Vorschläge der Ampel-Parteien, zeigte sich um den Wirtschaftsstandort Deutschland jedoch sehr besorgt.\\n\"Besonders in so unsicheren Zeiten wie jetzt, ist Stabilität für unsere regionale Wirtschaft essenziell. Wir brauchen eine handlungsfähige Regierung, die geschlossen agiert und verloren gegangenes Vertrauen wieder aufbaut\", sagt IHK-Hauptgeschäftsführerin Karina Szwede. Susanne Szczesny-Oßing, Präsidentin der IHK-Arbeitsgemeinschaft Rheinland-Pfalz, forderte Neuwahlen schon im Januar: \"Ein Aufschub bis März würde die Unsicherheiten nur verlängern und den wirtschaftlichen sowie gesellschaftlichen Herausforderungen in keiner Weise gerecht.\"\\nDie jüngste Konjunkturumfrage der IHK vom Oktober habe gezeigt, wie stark die Wirtschaftsflaute auch die Unternehmen in Rheinhessen treffe. 30 Prozent der rheinhessischen Unternehmen, die an der Umfrage teilgenommen haben, berichteten von einer schlechten Geschäftslage. Über die Hälfte der Unternehmen erwarten für die kommenden zwölf Monate eine unveränderte Geschäftslage, einige gehen noch von einer weiteren Verschlechterung aus.\\nGut 60 Prozent machten in der Konjunkturumfrage die wirtschaftlichen Rahmenbedingungen in Deutschland für die \"massiven Rezessionstendenzen\" verantwortlich. Das ist auch für Karina Szwede das größte Geschäftsrisiko: \"Deshalb besteht hier dringender Handlungsbedarf.\" Auf die Frage, ob die Wirtschafts- und Unternehmerverbände hinter der FDP und den Vorschlägen Lindners stehen, äußerte sich Szwede nicht. Zu den Positionen einzelner Parteien beziehe die IHK grundsätzlich keine Stellung, heißt es von Seiten der Pressestelle.\\n\\nLoad-Date:\\xa0November 8, 2024\\n\\n\\nEnd of Document\\n\\n\\n\\n\\n\\n\\nBrandenburg geht, Höppner bleibt; FDP-Staatssekretäre aus Rheinland-Pfalz trifft Ampel-Aus im Bund unterschiedlich - eine Ursachenforschung\\nAllgemeine Zeitung (Germany)\\nSamstag 16. November 2024\\n\\n\\nCopyright 2024 VRM GmbH & Co. KG Alle Rechte Vorbehalten\\n\\n\\nSection:\\xa0REGION; ALLGEMEINE ZEITUNG MAINZ; S. 7\\nLength:\\xa0547 words\\nByline:\\xa0Elisabeth Saller\\nBody\\n\\n\\nMAINZ/BERLIN. Das Aus der Ampel-Bundesregierung hatte nicht nur Auswirkungen auf die FDP-Bundesminister, sondern auch auf ihre Staatssekretäre - zumindest auf einige davon. Rheinland-Pfalz war in der Bundesregierung mit zwei Staatssekretären der FDP vertreten: Mario Brandenburg im Bundesbildungsministerium und Hartmut Höppner im Bundesverkehrsministerium. Warum nur einer der beiden Staatssekretäre nach dem Rauswurf von Finanzminister Christian Lindner ebenfalls gehen muss und einer bleiben darf.\\nMario Brandenburg ist nicht länger Staatssekretär im Bundesbildungsministerium. Der Südpfälzer hat wie unter anderem seine bisherige Chefin, Bundesbildungsministerin Bettina Stark-Watzinger (FDP), vergangene Woche seine Entlassungsurkunde erhalten. Das berichtete die Rheinpfalz. Brandenburg ist seit 2010 bei der FDP, sitzt seit 2014 im Gemeinderat von Rülzheim (Kreis Germersheim) und im Kreistag. 2017 zog er über die Landesliste in den Bundestag ein, was er bei der Wahl 2021 wiederholen konnte.\\nIm Bundestag war er Sprecher für Forschung, Technologie und Innovation der Freien Demokraten sowie Obmann im Ausschuss für Bildung, Forschung und Technikfolgenabschätzung. Von Juni 2022 bis November 2024 hatte der 41-Jährige das Amt des parlamentarischen Staatssekretärs im Bundesministerium für Bildung und Forschung und kümmerte sich als Beauftragter um Transfer und Ausgründungen aus der Wissenschaft. Im Mai hatte der Wirtschaftsinformatiker angekündigt, bei der nächsten Bundestagswahl nicht mehr antreten zu wollen.\\nKurios: Gleichzeitig mit Mario Brandenburg gab es im Bildungsministerium einen weiteren parlamentarischen Staatssekretär mit demselben Nachnamen - Jens Brandenburg (FDP) aus Baden-Württemberg. Auch dieser arbeitet nun nicht mehr dort.\\nHartmut Höppner (FDP) ist beamteter Staatssekretär, nicht parlamentarischer. Das ist auch der Grund, warum er weiterhin im Bundesministerium für Digitales und Verkehr tätig ist. Beamtete Staatssekretäre sind Staatsbedienstete, erläutert das Verkehrsministerium. Sie koordinieren die Arbeit der einzelnen Fachabteilungen im Ministerium und sind für Mittel, Organisation, Themenumsetzung und Personal zuständig. Zudem stellen sie die höchsten Beamten im Staat dar. Dagegen sind parlamentarische Staatssekretäre Mitglieder des Bundestages. Diese werden durch den Bundesminister berufen und unterstützen ihn dabei, seine politischen Aufgaben zu erfüllen. Derzeit hat Bundesverkehrsminister Volker Wissing (früher FDP, jetzt parteilos) keine parlamentarischen Staatssekretäre. Seine drei bisherigen sind zurückgetreten. Höppner und zwei weitere Kollegen verbleiben Wissing als beamtete Staatssekretäre.\\nHöppner stammt aus Zweibrücken und hat nach der Fachoberschule für Weinbau, Land- und Forstwirtschaft in Bad Kreuznach eine Lehre zum Landwirt absolviert, danach Agrarwissenschaften studiert. Er war unter anderem Geschäftsführer der FDP Rheinland-Pfalz. Seit 2004 begleitet er Wissing. Dessen Büro hat Höppner geleitet, als Wissing Bundestagsabgeordneter, später Verkehrsminister in Rheinland-Pfalz war. Er folgte Wissing zurück nach Berlin und ist seit 2022 dessen Staatssekretär. Ob der 57-Jährige wie sein Chef aus der FDP ausgetreten ist, wollte der Landesverband der Partei mit Verweis auf die Persönlichkeitsrechte nicht verraten.\\n\\nLoad-Date:\\xa0November 15, 2024\\n\\n\\nEnd of Document\\n\\n\\n\\n\\n\\n\\nBrandenburg geht, Höppner bleibt; FDP-Staatssekretäre aus Rheinland-Pfalz trifft Ampel-Aus im Bund unterschiedlich - eine Ursachenforschung\\nWormser Zeitung (Germany)\\nSamstag 16. November 2024\\n\\n\\nCopyright 2024 VRM GmbH & Co. KG Alle Rechte Vorbehalten\\n\\n\\nSection:\\xa0REGION; WORMSER ZEITUNG; S. 10\\nLength:\\xa0547 words\\nByline:\\xa0Elisabeth Saller\\nBody\\n\\n\\nMAINZ/BERLIN. Das Aus der Ampel-Bundesregierung hatte nicht nur Auswirkungen auf die FDP-Bundesminister, sondern auch auf ihre Staatssekretäre - zumindest auf einige davon. Rheinland-Pfalz war in der Bundesregierung mit zwei Staatssekretären der FDP vertreten: Mario Brandenburg im Bundesbildungsministerium und Hartmut Höppner im Bundesverkehrsministerium. Warum nur einer der beiden Staatssekretäre nach dem Rauswurf von Finanzminister Christian Lindner ebenfalls gehen muss und einer bleiben darf.\\nMario Brandenburg ist nicht länger Staatssekretär im Bundesbildungsministerium. Der Südpfälzer hat wie unter anderem seine bisherige Chefin, Bundesbildungsministerin Bettina Stark-Watzinger (FDP), vergangene Woche seine Entlassungsurkunde erhalten. Das berichtete die Rheinpfalz. Brandenburg ist seit 2010 bei der FDP, sitzt seit 2014 im Gemeinderat von Rülzheim (Kreis Germersheim) und im Kreistag. 2017 zog er über die Landesliste in den Bundestag ein, was er bei der Wahl 2021 wiederholen konnte.\\nIm Bundestag war er Sprecher für Forschung, Technologie und Innovation der Freien Demokraten sowie Obmann im Ausschuss für Bildung, Forschung und Technikfolgenabschätzung. Von Juni 2022 bis November 2024 hatte der 41-Jährige das Amt des parlamentarischen Staatssekretärs im Bundesministerium für Bildung und Forschung und kümmerte sich als Beauftragter um Transfer und Ausgründungen aus der Wissenschaft. Im Mai hatte der Wirtschaftsinformatiker angekündigt, bei der nächsten Bundestagswahl nicht mehr antreten zu wollen.\\nKurios: Gleichzeitig mit Mario Brandenburg gab es im Bildungsministerium einen weiteren parlamentarischen Staatssekretär mit demselben Nachnamen - Jens Brandenburg (FDP) aus Baden-Württemberg. Auch dieser arbeitet nun nicht mehr dort.\\nHartmut Höppner (FDP) ist beamteter Staatssekretär, nicht parlamentarischer. Das ist auch der Grund, warum er weiterhin im Bundesministerium für Digitales und Verkehr tätig ist. Beamtete Staatssekretäre sind Staatsbedienstete, erläutert das Verkehrsministerium. Sie koordinieren die Arbeit der einzelnen Fachabteilungen im Ministerium und sind für Mittel, Organisation, Themenumsetzung und Personal zuständig. Zudem stellen sie die höchsten Beamten im Staat dar. Dagegen sind parlamentarische Staatssekretäre Mitglieder des Bundestages. Diese werden durch den Bundesminister berufen und unterstützen ihn dabei, seine politischen Aufgaben zu erfüllen. Derzeit hat Bundesverkehrsminister Volker Wissing (früher FDP, jetzt parteilos) keine parlamentarischen Staatssekretäre. Seine drei bisherigen sind zurückgetreten. Höppner und zwei weitere Kollegen verbleiben Wissing als beamtete Staatssekretäre.\\nHöppner stammt aus Zweibrücken und hat nach der Fachoberschule für Weinbau, Land- und Forstwirtschaft in Bad Kreuznach eine Lehre zum Landwirt absolviert, danach Agrarwissenschaften studiert. Er war unter anderem Geschäftsführer der FDP Rheinland-Pfalz. Seit 2004 begleitet er Wissing. Dessen Büro hat Höppner geleitet, als Wissing Bundestagsabgeordneter, später Verkehrsminister in Rheinland-Pfalz war. Er folgte Wissing zurück nach Berlin und ist seit 2022 dessen Staatssekretär. Ob der 57-Jährige wie sein Chef aus der FDP ausgetreten ist, wollte der Landesverband der Partei mit Verweis auf die Persönlichkeitsrechte nicht verraten.\\n\\nLoad-Date:\\xa0November 15, 2024\\n\\n\\nEnd of Document\\n\\n\\n\\n\\n\\n\\nBundestagswahl ist für 23. Februar geplant; Ampel-Aus Zuvor will Bundeskanzler Scholz am 16. Dezember die Vertrauensfrage stellen\\nNordwest-Zeitung\\n13. November 2024\\n\\n\\nCopyright 2024 Nordwest-Zeitung Verlagsgesellschaft mbH & Co. KG Alle Rechte vorbehalten\\n\\n\\nSection:\\xa0TITELSEI; S. 1\\nLength:\\xa0262 words\\nHighlight:\\xa0Michael Fischer\\nBody\\n\\n\\nBerlin - Nach dem Platzen der Ampel-Koalition soll am 23. Februar ein neuer Bundestag gewählt werden. Nach tagelangem Ringen einigten sich SPD und Union darauf, diesen Termin anzustreben. Zunächst wird Bundeskanzler Olaf Scholz (SPD) am 16. Dezember die Vertrauensfrage im Bundestag stellen. Sollte er wie erwartet keine Mehrheit bekommen, wird der Wahltermin vom Kabinett formell Bundespräsident Frank-Walter Steinmeier vorgeschlagen, der dann entscheidet.\\nScholz wollte die Vertrauensfrage ursprünglich am 15. Januar stellen, um eine Neuwahl Ende März herbeizuführen. Nach öffentlichem Druck zeigte er sich kompromissbereit. Die Union wollte ursprünglich den 19. Januar als Wahltermin.  Jetzt der Kompromiss: Am 23. Februar soll gewählt werden.\\nUm die Neuwahlen herbeizuführen, wird Scholz am 16. Dezember im Bundestag die Vertrauensfrage stellen. Bekommt er dort keine Mehrheit, hat der Bundespräsident 21 Tage Zeit, den Bundestag aufzulösen. Danach gibt eine 60-Tage-Frist, bis zu der die Neuwahl stattfinden muss. In dieser Frist liegt der 23. Februar.\\nEs ist kein idealer Termin, weil dann in Sachsen Schulferien sind. Im Saarland ist es das Wochenende unmittelbar vor den Ferien, wo viele schon verreist sein dürften. Im ersten Quartal sind aber der 19. Januar und der 30. März die einzigen Termine ganz ohne Ferien. Das waren die ursprünglichen Vorschläge von Union und SPD, die jetzt als zu früh beziehungsweise zu spät erachtet worden sind. \\xa0 Lesen Sie einen Kommentar zur Neuwahl und ein Frage-Antwort-Stück auf\\n->  Meinung und Hintergrund\\nPDF-Datei dieses Dokuments\\n\\nLoad-Date:\\xa0November 13, 2024\\n\\n\\nEnd of Document\\n\\n\\n\\n\\n\\n\\n Ist die Stunde des Parlaments ; Interview Linken-Politiker Gregor Gysi über Ampel-Aus, Neuwahl und Migration\\nNordwest-Zeitung\\n18. November 2024\\n\\n\\nCopyright 2024 Nordwest-Zeitung Verlagsgesellschaft mbH & Co. KG Alle Rechte vorbehalten\\n\\n\\nSection:\\xa0MEINUNG; S. 14\\nLength:\\xa0840 words\\nHighlight:\\xa0Andreas Unterberg\\nBody\\n\\n\\nFrageIn Ihrer Autobiografie  Ein Leben ist zu wenig  schreiben Sie:  Erstaunlich, was sich alles ereignen muss, damit irgendwann das eigene Leben entstehen kann.  Was würden Sie als die wichtigsten Punkte in Ihrem beruflichen Leben bezeichnen?\\nGysi In meinem Leben gab es verschiedene Einschnitte. Das erste war, als Kind ein halbes Jahr im Krankenhaus zu liegen. Das war mit vielen Erkenntnissen verbunden. Zweitens, es zu schaffen, Rechtsanwalt in der DDR zu werden und ein tiefes Verständnis für diesen Beruf zu entwickeln. Der dritte Wendepunkt war 1989, in die Politik zu gehen, und zu erleben, dass mich anfangs die Mehrheit der Bevölkerung strikt ablehnte und wie ich es dann schaffte, Akzeptanz zu gewinnen.\\nFrageIn Deutschland ist es politisch turbulent. Finanzminister Christian Lindner ist entlassen, Bildungsministerin Bettina Stark-Watzinger und Justizminister Marco Buschmann treten zurück. Bundeskanzler Olaf Scholz will am 15. Januar die Vertrauensfrage stellen. In Ihren Augen zu spät?\\nGysi Mich ärgert es, dass Friedrich Merz nur über das Wahl-Datum jammerte. Jetzt wäre die Stunde des Parlaments gekommen, um als Fraktionen miteinander zu sprechen, Gesetze einzubringen und zu beschließen   ohne auf die Regierung zu warten. Beispielsweise könnten wir über einen Inflationsausgleich oder einen Mietendeckel sprechen. Meine Gruppe wäre bereit, diesen Ansatz zu verfolgen, ob die anderen Fraktionen das auch wollen, weiß ich allerdings nicht. Und ja, die Ampel hat sich erledigt. Wir werden in absehbarer Zeit keine Ampelregierung mehr erleben.\\nFrageWas werden Ihrer Meinung nach die wichtigsten Themen bei der nächsten Bundestagswahl sein?\\nGysi Die entscheidenden Themen werden Krieg und Frieden, Migration und soziale Gerechtigkeit sein. Wir erleben, dass der Wohlstand sich immer mehr bei wenigen konzentriert, während die Mehrheit verliert. Die Zahl der Milliardäre in Deutschland hat sich im letzten Jahr um über 20 erhöht, während Reallöhne und -renten sinken. Es geht also mit einem großen Teil bergab und einem kleinen bergauf. Das wird die Gesellschaft nicht lange ertragen. Auch der richtige Umgang mit der Klimakrise wird ein zentrales Thema sein.\\nFrageWenn man sich die aktuellen Umfragen ansieht, dann ist das Thema Migration immer ganz oben in der Wichtigkeit. Noch weit vor sicheren Renten, sozialer Ungleichheit oder Löhnen. Mit Migration werden subjektiv aber oft diese anderen Themen verknüpft. Warum ist das so?\\nGysi Das hängt natürlich alles mit dem Sommer 2015 zusammen, als sehr viele Flüchtlinge nach Deutschland kamen. Das war der erste Schub für die AfD. Der zweite Schub kam während der Corona-Zeit, weil über diejenigen, die sich nicht impfen lassen wollten, nur geredet wurde, anstatt mit ihnen zu sprechen. Sie kamen in den Medien kaum zu Wort   ein großer Fehler. Was die AfD betrifft: Höcke sagt zum Beispiel, dass er keine Umverteilung von oben nach unten will. Er hat nicht den Mut, von Milliardären einen Euro mehr an Steuern zu verlangen, sondern will nur von Nicht-Deutschen zu Deutschen umverteilen. Das ist völliger Blödsinn. Wenn wir beispielsweise Ärzten aus dem Ausland nur die Hälfte zahlen würden, dann gehen sie weg   und unser Gesundheitswesen bräche zusammen. In Wahrheit müssen wir betonen, dass wir diejenigen sind, die die Ursachen der Migration beseitigen wollen. Wenn es endlich zu einem Waffenstillstand zwischen Russland und der Ukraine käme, könnten die meisten ukrainischen Flüchtlinge zurückkehren, um ihr Land wieder aufzubauen. Wir würden dabei helfen, das ist die wirksamste und humanste Methode, Migration zu begrenzen. Wenn die Türkei aufhörte, den Irak und Syrien zu bombardieren, und wir nicht die Spannungen dort noch verstärkten, könnten auch die meisten Flüchtlinge aus diesen Regionen zurückkehren.\\nFrageDie Linke hat bei den letzten Wahlen an Unterstützung verloren. Im Brandenburger Landtag ist sie nicht mehr vertreten. Wie muss sich die Partei vor der kommenden Bundestagswahl neu positionieren, auch um verlorenes Vertrauen zurückzugewinnen?\\nGysi Wir haben jetzt ein starkes Spitzenteam mit Heidi Reichinnek und Jan van Aken gebildet. Die alten Hasen wie Dietmar Bartsch, Bodo Ramelow und ich werden weiterhin beratend tätig sein und uns in den Wahlkampf einbringen. Wir müssen begreifen, dass eine Partei in einer existenziellen Krise sich nicht in tausend kleine Themen verlieren darf. Wir müssen uns auf fünf bis sechs Schwerpunkte konzentrieren: Friedenspolitik, soziale Gerechtigkeit, ökologische Nachhaltigkeit, Gleichstellung von Frauen und Männern, Ost-West-Gleichstellung und eine humane Methode zur Begrenzung von Migration.\\nFrageWerden Sie selbst wieder kandidieren?\\nGysi Das weiß ich noch nicht. Darüber berate ich mich noch mit Bodo Ramelow und Dietmar Bartsch. Aber wir werden zeitnah entscheiden und bekannt geben, wie wir uns einbringen wollen. Wichtig ist, dass wir linke Argumente im Bundestag vertreten, denn wenn wir nicht mehr da sind, fehlen diese Debatten auch in den Medien. Das wäre schlecht für die Gesellschaft.\\nPDF-Datei dieses Dokuments\\n\\n\\nLoad-Date:\\xa0November 18, 2024\\n\\n\\nEnd of Document\\n\\n\\n\\n\\n\\n\\n,,D-Day\"-Desaster bei der FDP\\nDer Tagesspiegel\\nSonntag 01. Dezember 2024\\n\\n\\nCopyright 2024 Verlag Der Tagesspiegel GmbH Alle Rechte vorbehalten\\n\\n\\nSection:\\xa0POLITIK; Politik; S. 3\\nLength:\\xa0704 words\\nBody\\n\\n\\nKurz nach dem Ampel-Aus schien die FDP so geeint wie nie: Applaus für Parteichef Christian Lindner in der Fraktion, Zustimmung in Ortsvereinen landauf, landab. Endlich FPD pur, endlich Freiheit, so die Stimmung in der Partei. Schlechte Umfragewerte konnten am Optimismus wenig ändern. Rund ums Ampel-Aus hatte Lindner völlige Freiheit. Die Positionen in dem Dokument, das später als Scheidungspapier galt, seien ja alle FDP-konform gewesen. Tenor: Der Chef wisse schon, was er tue.\\nIn dieser Woche endete die Unbeschwertheit. Mit dem durchgestochenen ,,D-Day\"-Papier zum Ampel-Aus hat die FDP nicht nur ein massives Glaubwürdigkeitsproblem, es zeichnet sich auch ein interner Machtkampf ab, der bis dahin undenkbar schien. Lindner schien unangefochten an der Spitze, um ihn herum Getreue, die als verlängerte Arme des Chefs galten.\\nSeit Donnerstag, spätestens Freitag ist das anders. Im Parteivorstand wird nun Ärger lauter, über das Kommunikationsdesaster, darüber, wie unprofessionell und ineffektiv die Herrenriege um Lindner vorgehe. Die Erzählung, das Papier sei gänzlich ohne das Wissen von Lindner und seinen Leuten geschrieben worden, wird angezweifelt. In der Partei ist alles derart auf Lindner zugeschnitten, dass ein derartiger Vorgang ohne seine Kenntnis entweder auf Kontrollverlust hindeute oder eine Lüge sei. \\nMittlerweile üben auch diejenigen Kritik, die sich sonst damit eher zurückhalten. Die Jungen Liberalen forderten den Rücktritt des Generalsekretärs. Deren Vorsitzende Franziska Brandmann kritisierte, das öffentlich gewordene Papier sei ,,einer liberalen Partei unwürdig\". Und: ,,Nicht nur die Öffentlichkeit muss den Eindruck gewinnen, über Wochen getäuscht worden zu sein - sondern auch die eigene Partei. Das gilt auch für mich - auch ich wurde getäuscht.\" \\nGyde Jensen und Carin Konrad, beide Mitglieder des Bundesvorstandes, äußerten sich kritisch. Konrad schrieb am Freitagnachmittag auf LinkedIn, was in den letzten Wochen passiert sei, ,,passt nicht zu mir und es passt nicht zur FDP\". Konrad schreibt von Lügen und Enttäuschung, fordert Glaubwürdigkeit. Mit Ben Brake trat am Freitag einer aus der Partei aus, der zuletzt als Leiter der Abteilung Digital- und Datenpolitik im Verkehrsministerium arbeitete. Brake begründete: Seine Entscheidung sei ,,auch ein Eingeständnis, nicht die Kraft zu haben, als Mitglied die Dinge zum Besseren zu wenden\".\\n       Eine Alternative zu Lindner scheint es nicht zu geben     \\nEs brodele sehr in der Partei, heißt es aus dem Bundesvorstand. Die Lage werde als sehr ernst und heikel gesehen, der Frust sei groß. Zumal Lindner sich intern noch nicht direkt erklärt habe. Doch das Dilemma der FDP kurz vor der Bundestagswahl ist klar: Mit Lindner und dem Glaubwürdigkeitsschaden wird es schwierig, aber ohne ihn geht es kaum. Für die Erzählung eines Neuanfangs sei nicht nur die Zeit bis zum 23. Februar zu knapp. Es stehe auch niemand bereit, den Parteivorsitz zu übernehmen. Lindners One-Man-Show habe für andere keinen Platz gelassen, so die Kritik. \\nDer Parteichef selbst indes bekräftigte am Freitag noch einmal in einem Statement, er habe das umstrittene Papier ,,nicht zur Kenntnis genommen und hätte es auch nicht gebilligt\". Spannender aber ist der zweite Teil der Erklärung. Da schreibt Lindner, er übernehme für die Grundsatzentscheidung zum Ampel-Aus ebenfalls die volle politische Verantwortung und fügt hinzu: ,,Wer das jetzt skandalisiert, zeigt, es geht ihm allein um Macht- und Parteiinteressen.\" Das muss nicht nur für die übrigen Parteien gelten. Auch in der eigenen Partei ist die Kritik laut wie seit langem nicht.\\nDas merkt Lindner auch. Am Freitagabend jedenfalls gab er sich reflektiert. ,,Natürlich musste und muss ich mich prüfen\", sagte Lindner in den ARD-,,Tagesthemen\". Er sei aber weiterhin von seiner Entscheidung überzeugt, dass der Ausstieg aus der Koalition mangels Politikwechsel richtig gewesen sei. Daher mache er seiner Partei ,,das Angebot, sie in die Bundestagswahl zu führen\", entgegnete Lindner im ZDF-,,heute journal\" auf die Frage nach einem möglichen Rücktritt.\\n***\\n Bislang unangefochtener Chef der FDP: Christian Lindner.  \\n           Zitat         \\nNatürlich musste und muss ich mich prüfen.\\n       Christian Lindner     \\n\\nLoad-Date:\\xa0November 30, 2024\\n\\n\\nEnd of Document\\n\\n\\n\\n\\n\\n\\nMusikalischer Abgang mit MB; Ex-Minister Marco Buschmann schreibt ein Lied auf das Ampel-Aus. Nun ja.\\nRheinische Post\\nMittwoch 13. November 2024\\nRheinische Post Xanten\\n\\n\\nCopyright 2024 Rheinische Post Verlagsgesellschaft mbH Alle Rechte Vorbehalten\\n\\n\\nSection:\\xa0S. 4\\nLength:\\xa0522 words\\nByline:\\xa0Philipp Holstein\\nBody\\n\\n\\nPhilipp Holstein\\nDüsseldorf Wenn der frühere Bundesjustizminister einen Song veröffentlicht, sollte man darüber ein besonders gerechtes Urteil sprechen. Also: Toll, dass Marco Buschmann Musik macht. Schade, dass sie so schlecht ist.\\n„Gehen, um zu stehen“ lautet der möglicherweise philosophisch gemeinte Titel seiner drei Minuten und 34 Sekunden langen Instrumental-Kompositionen zum Ampel-Ende. Der FDP-Politiker hat sie – wenige Tage nachdem er seine Entlassungsurkunde überreicht bekam – auf der Plattform Soundcloud hochgeladen. Dort ist er seit zehn Jahren aktiv. Buschmann veröffentlicht unter MB Sounds. Sein Backcatalogue umfasst vor allem Widmungssongs an Metropolen („Tokyo by Night“, „Remembering Madrid“) und Dancemusic, die ihre Inspiration aus den 1980er-Jahren zieht („Beathoven No 5“). Fast immer kommen sie ohne Texte aus. Einzige Ausnahme: die von Buschmann akustisch untermalte Ansprache Christian Lindners („Wutrede“). His Master‘s Voice, sozusagen.\\nDas neue Stück besteht nun aus Synthie-Flächen, auf die Buschmann gregorianische Mönchsgesänge legt. Man denkt gleich an „Sadeness pt. I“ von Enigma. Und an Enya. Textinformation gibt es wieder nicht, die Chöre betreiben reine Lautmalerei. Gegen Ende kommen ein E-Gitarren-Sound und Streicher hinzu.\\n„An diesem Stück ist nichts wirklich schlecht und nichts richtig gut“, sagt Kai Blankenberg. In dessen Düsseldorfer Studio „Skyline Tonfabrik“ lässt unter anderem Udo Lindenberg seine Alben klangtechnisch anpassen. Was ihn irritiert: Das Stück wirke übersteuert, unfertig. Dabei verfügten die meisten Computer über eine vorinstallierte Software, mit der man Musik in höherer technischer Qualität produzieren könne. „Es gibt kein starkes Standbein in dieser Komposition. Nicht den Sound oder die Melodie, auch nicht die Komposition.“ Blankenberg bezeichnet das Stück als „Drag and Drop Music“, ein wahllos aus verschiedenen, teils gefundenen Elementen zusammengestelltes Produkt. Sein Fazit: „Kann man veröffentlichen, muss man aber nicht.“\\nDas Sympathische an Marco Buschmann ist, dass er sein Hobby offenbar selbst nicht so ernst nimmt. Er bekannte im vergangenen Jahr im „Zeit“-Interview selbstkritisch: „Mixing und Mastering sind nicht meine Stärke.“ Und: „Ich mache meine Musik zwischendurch, zum Beispiel auf Dienstreisen.“ Er sei einfach ein Fan elektronischer Musik, möge Italo-Disco und habe mit Christian Lindner auch schon im Düsseldorfer Club Salon des Amateurs getanzt – was ihn wiederum als Kenner auszeichnet.\\nDie Kommentare unter dem neuen Stück reichen vom lakonischen „Aua“ über „Dann lieber Mary Roos“ bis zu „Mir gefällt es sehr gut“. Sollte Buschmann auf eine Alternativkarriere im Tonstudio bauen, könnte er sich auf Soundtracks zu politischen Ereignissen spezialisieren. Auf seiner Soundcloud-Seite finden sich auch Stücke, die die Emotionen während der Bundestagswahl 2013 ausdrücken. „Schattenjahre 3: Warten auf die Hochrechnung“ etwa ist noch heiter und euphorisch. „Schattenjahre 4: After the Result“ hingehen hat etwas von einem Horrorfilm-Score. „Wenn die Gondeln Trauer tragen“: Die FDP scheiterte damals an der Fünf-Prozent-Hürde.\\n\\nLink to PDF\\n\\nGraphic\\n\\n \\nMarco Buschmann nutzte das Bild als Cover für sein Lied, schnitt jedoch Volker Wissing (FDP) und Jörg Kukies (SPD, r.) heraus.Foto: Kay Nietfeld/dpa\\n\\nLoad-Date:\\xa0November 13, 2024\\n\\n\\nEnd of Document\\n\\n\\n\\n\\n\\n\\nMusikalischer Abgang mit MB; Ex-Minister Marco Buschmann schreibt ein Lied auf das Ampel-Aus. Nun ja.\\nBergische Morgenpost\\nMittwoch 13. November 2024\\nBergische Morgenpost Wermelskirchen\\n\\n\\nCopyright 2024 Rheinische Post Verlagsgesellschaft mbH Alle Rechte Vorbehalten\\n\\n\\nSection:\\xa0S. 4\\nLength:\\xa0522 words\\nByline:\\xa0Philipp Holstein\\nBody\\n\\n\\nPhilipp Holstein\\nDüsseldorf Wenn der frühere Bundesjustizminister einen Song veröffentlicht, sollte man darüber ein besonders gerechtes Urteil sprechen. Also: Toll, dass Marco Buschmann Musik macht. Schade, dass sie so schlecht ist.\\n„Gehen, um zu stehen“ lautet der möglicherweise philosophisch gemeinte Titel seiner drei Minuten und 34 Sekunden langen Instrumental-Kompositionen zum Ampel-Ende. Der FDP-Politiker hat sie – wenige Tage nachdem er seine Entlassungsurkunde überreicht bekam – auf der Plattform Soundcloud hochgeladen. Dort ist er seit zehn Jahren aktiv. Buschmann veröffentlicht unter MB Sounds. Sein Backcatalogue umfasst vor allem Widmungssongs an Metropolen („Tokyo by Night“, „Remembering Madrid“) und Dancemusic, die ihre Inspiration aus den 1980er-Jahren zieht („Beathoven No 5“). Fast immer kommen sie ohne Texte aus. Einzige Ausnahme: die von Buschmann akustisch untermalte Ansprache Christian Lindners („Wutrede“). His Master‘s Voice, sozusagen.\\nDas neue Stück besteht nun aus Synthie-Flächen, auf die Buschmann gregorianische Mönchsgesänge legt. Man denkt gleich an „Sadeness pt. I“ von Enigma. Und an Enya. Textinformation gibt es wieder nicht, die Chöre betreiben reine Lautmalerei. Gegen Ende kommen ein E-Gitarren-Sound und Streicher hinzu.\\n„An diesem Stück ist nichts wirklich schlecht und nichts richtig gut“, sagt Kai Blankenberg. In dessen Düsseldorfer Studio „Skyline Tonfabrik“ lässt unter anderem Udo Lindenberg seine Alben klangtechnisch anpassen. Was ihn irritiert: Das Stück wirke übersteuert, unfertig. Dabei verfügten die meisten Computer über eine vorinstallierte Software, mit der man Musik in höherer technischer Qualität produzieren könne. „Es gibt kein starkes Standbein in dieser Komposition. Nicht den Sound oder die Melodie, auch nicht die Komposition.“ Blankenberg bezeichnet das Stück als „Drag and Drop Music“, ein wahllos aus verschiedenen, teils gefundenen Elementen zusammengestelltes Produkt. Sein Fazit: „Kann man veröffentlichen, muss man aber nicht.“\\nDas Sympathische an Marco Buschmann ist, dass er sein Hobby offenbar selbst nicht so ernst nimmt. Er bekannte im vergangenen Jahr im „Zeit“-Interview selbstkritisch: „Mixing und Mastering sind nicht meine Stärke.“ Und: „Ich mache meine Musik zwischendurch, zum Beispiel auf Dienstreisen.“ Er sei einfach ein Fan elektronischer Musik, möge Italo-Disco und habe mit Christian Lindner auch schon im Düsseldorfer Club Salon des Amateurs getanzt – was ihn wiederum als Kenner auszeichnet.\\nDie Kommentare unter dem neuen Stück reichen vom lakonischen „Aua“ über „Dann lieber Mary Roos“ bis zu „Mir gefällt es sehr gut“. Sollte Buschmann auf eine Alternativkarriere im Tonstudio bauen, könnte er sich auf Soundtracks zu politischen Ereignissen spezialisieren. Auf seiner Soundcloud-Seite finden sich auch Stücke, die die Emotionen während der Bundestagswahl 2013 ausdrücken. „Schattenjahre 3: Warten auf die Hochrechnung“ etwa ist noch heiter und euphorisch. „Schattenjahre 4: After the Result“ hingehen hat etwas von einem Horrorfilm-Score. „Wenn die Gondeln Trauer tragen“: Die FDP scheiterte damals an der Fünf-Prozent-Hürde.\\n\\nLink to PDF\\n\\nGraphic\\n\\n \\nMarco Buschmann nutzte das Bild als Cover für sein Lied, schnitt jedoch Volker Wissing (FDP) und Jörg Kukies (SPD, r.) heraus.Foto: Kay Nietfeld/dpa\\n\\nLoad-Date:\\xa0November 13, 2024\\n\\n\\nEnd of Document\\n\\n\\n\\n\\n\\n\\nMusikalischer Abgang mit MB; Ex-Minister Marco Buschmann schreibt ein Lied auf das Ampel-Aus. Nun ja.\\nRheinische Post\\nMittwoch 13. November 2024\\nRheinische Post Düsseldorf-Mitte/West\\n\\n\\nCopyright 2024 Rheinische Post Verlagsgesellschaft mbH Alle Rechte Vorbehalten\\n\\n\\nSection:\\xa0S. 4\\nLength:\\xa0522 words\\nByline:\\xa0Philipp Holstein\\nBody\\n\\n\\nPhilipp Holstein\\nDüsseldorf Wenn der frühere Bundesjustizminister einen Song veröffentlicht, sollte man darüber ein besonders gerechtes Urteil sprechen. Also: Toll, dass Marco Buschmann Musik macht. Schade, dass sie so schlecht ist.\\n„Gehen, um zu stehen“ lautet der möglicherweise philosophisch gemeinte Titel seiner drei Minuten und 34 Sekunden langen Instrumental-Kompositionen zum Ampel-Ende. Der FDP-Politiker hat sie – wenige Tage nachdem er seine Entlassungsurkunde überreicht bekam – auf der Plattform Soundcloud hochgeladen. Dort ist er seit zehn Jahren aktiv. Buschmann veröffentlicht unter MB Sounds. Sein Backcatalogue umfasst vor allem Widmungssongs an Metropolen („Tokyo by Night“, „Remembering Madrid“) und Dancemusic, die ihre Inspiration aus den 1980er-Jahren zieht („Beathoven No 5“). Fast immer kommen sie ohne Texte aus. Einzige Ausnahme: die von Buschmann akustisch untermalte Ansprache Christian Lindners („Wutrede“). His Master‘s Voice, sozusagen.\\nDas neue Stück besteht nun aus Synthie-Flächen, auf die Buschmann gregorianische Mönchsgesänge legt. Man denkt gleich an „Sadeness pt. I“ von Enigma. Und an Enya. Textinformation gibt es wieder nicht, die Chöre betreiben reine Lautmalerei. Gegen Ende kommen ein E-Gitarren-Sound und Streicher hinzu.\\n„An diesem Stück ist nichts wirklich schlecht und nichts richtig gut“, sagt Kai Blankenberg. In dessen Düsseldorfer Studio „Skyline Tonfabrik“ lässt unter anderem Udo Lindenberg seine Alben klangtechnisch anpassen. Was ihn irritiert: Das Stück wirke übersteuert, unfertig. Dabei verfügten die meisten Computer über eine vorinstallierte Software, mit der man Musik in höherer technischer Qualität produzieren könne. „Es gibt kein starkes Standbein in dieser Komposition. Nicht den Sound oder die Melodie, auch nicht die Komposition.“ Blankenberg bezeichnet das Stück als „Drag and Drop Music“, ein wahllos aus verschiedenen, teils gefundenen Elementen zusammengestelltes Produkt. Sein Fazit: „Kann man veröffentlichen, muss man aber nicht.“\\nDas Sympathische an Marco Buschmann ist, dass er sein Hobby offenbar selbst nicht so ernst nimmt. Er bekannte im vergangenen Jahr im „Zeit“-Interview selbstkritisch: „Mixing und Mastering sind nicht meine Stärke.“ Und: „Ich mache meine Musik zwischendurch, zum Beispiel auf Dienstreisen.“ Er sei einfach ein Fan elektronischer Musik, möge Italo-Disco und habe mit Christian Lindner auch schon im Düsseldorfer Club Salon des Amateurs getanzt – was ihn wiederum als Kenner auszeichnet.\\nDie Kommentare unter dem neuen Stück reichen vom lakonischen „Aua“ über „Dann lieber Mary Roos“ bis zu „Mir gefällt es sehr gut“. Sollte Buschmann auf eine Alternativkarriere im Tonstudio bauen, könnte er sich auf Soundtracks zu politischen Ereignissen spezialisieren. Auf seiner Soundcloud-Seite finden sich auch Stücke, die die Emotionen während der Bundestagswahl 2013 ausdrücken. „Schattenjahre 3: Warten auf die Hochrechnung“ etwa ist noch heiter und euphorisch. „Schattenjahre 4: After the Result“ hingehen hat etwas von einem Horrorfilm-Score. „Wenn die Gondeln Trauer tragen“: Die FDP scheiterte damals an der Fünf-Prozent-Hürde.\\n\\nLink to PDF\\n\\nGraphic\\n\\n \\nMarco Buschmann nutzte das Bild als Cover für sein Lied, schnitt jedoch Volker Wissing (FDP) und Jörg Kukies (SPD, r.) heraus.Foto: Kay Nietfeld/dpa\\n\\nLoad-Date:\\xa0November 13, 2024\\n\\n\\nEnd of Document\\n\\n\\n\\n\\n\\n\\nWie Trumps Sieg und das Ampel-Aus bewegen; In den USA ist die Präsidentschaftswahl entschieden, in Berlin bricht die Koalition:Zwei Reporter teilen ihre Sichtweisen zur aktuellen Lage und erklären, wie sie sie bewältigen.\\nAllgemeine Zeitung (Germany)\\nSamstag 9. November 2024\\n\\n\\nCopyright 2024 VRM GmbH & Co. KG Alle Rechte Vorbehalten\\n\\n\\nSection:\\xa0LOKALES; ALLGEMEINE ZEITUNG MAINZ; S. 12\\nLength:\\xa01167 words\\nBody\\n\\n\\nDer 6. und 7. November sind Tage, die keiner so schnell vergessen wird. Es sind Tage, die uns als Journalisten besonders in Erinnerung bleiben werden, denn die Geschehnisse haben uns - wie die meisten Menschen - besonders beschäftigt und vor allem beruflich gefordert. An solchen Tagen müssen wir flexibel sein, schnell reagieren, funktionieren.\\nAls klar war, Donald Trump hat die US-Präsidentschaftswahl gewonnen, bestimmte das in vielerlei Hinsicht den Arbeitstag - logisch, auch in Mainz bewegt die Wahl die Menschen.\\nAuch mich bewegt Trumps Sieg. Schon seit Wochen habe ich mit Sorge auf die Wahl geblickt, über die Konsequenzen nachgedacht, die sein Erfolg haben könnte - für die USA, für Deutschland, für uns alle. Und dann war es offiziell: Trump wird Präsident. Überall, ob online, im Radio oder im Fernsehen, war Trump Thema Nummer eins. Der Nachricht konnte man nicht aus dem Weg gehen. Es hat mich bedrückt und ratlos zurückgelassen. Deshalb habe ich mich in etliche Berichte und Wahlanalysen vertieft, um zu verstehen: Wer hat ihn denn gewählt?\\nKurz nach Feierabend überschlagen sich dann zum zweiten Mal am Mittwoch die Nachrichten: Scholz hat Linder entlassen, die Ampel ist zerbrochen, gleich spricht der Kanzler live. Es fühlt sich surreal an, dass das Ampel-Aus ausgerechnet an diesem Abend passiert. Also sitze ich abends auf der Couch und schaue auf dem kleinen Bildschirm meines Smartphones Scholz’ Rede. Währenddessen melden sich die ersten Freunde in den WhatsApp-Gruppen, zeigen sich ähnlich fassungslos. Wieso ausgerechnet heute? Und: Was passiert hier gerade?\\nErst gewinnt Trump, dann bricht die Regierung zusammen. In Europa und im Nahen Osten herrscht Krieg. Kürzlich hat eine Naturkatastrophe Valencia heimgesucht. Krise über Krise. An solchen Tagen, an denen sich das Elend auf der Welt unendlich anfühlt, wünsche ich mir eine Zeit zurück, in der alles in Ordnung war. Aber, zur Wahrheit gehört auch, eine solche Zeit, in der wirklich keine einzige Krise auf dieser Welt herrschte, gab es nie. Ich habe von Krisen, Kriegen, Konflikten oder Katastrophen, wenn überhaupt, nur weniger Kenntnis genommen - beispielsweise weil ich noch ein Kind war.\\nGleichzeitig bin ich in einem Zeitalter aufgewachsen, in der jedes (politische) Ereignis im Internet thematisiert wird. Und das ist etwas, das mir in diesen Tagen wirklich geholfen hat. Mithilfe von Memes (lustige Fotos oder Videos, oft satirisch oder gesellschaftskritisch), die die sozialen Medien fluten, lässt sich die Situation nämlich deutlich besser aushalten.\\nDenn ja, ich blicke mit Sorge auf die Zukunft, insbesondere nach Trumps Sieg oder der Regierungskrise. Neuwahlen in Deutschland kann man als Chance sehen. Man kann aber auch besorgt sein, beispielsweise weil die aktuell zweitstärkste Kraft im Bundestag laut Umfragen die in Teilen gesichert rechtextreme AfD wäre. Gleichzeitig schaue ich aber auch auf einen Videoausschnitt eines Reality-TV-Formats, in dem ein Mann etwas theatralisch weint. Die Überschrift: \"Ich, nach einem Tag mit Trump-Sieg und Ende der Ampel-Koalition\". Irgendwie bescheuert, irgendwie wahr. Ich fühle mich ein kleines Stück weniger alleine. Humor hilft mir - und offensichtlich nicht nur mir. Denn von den Memes gibt es inzwischen Hunderte.\\nAber aus dem Zustand der Fassungslosigkeit, in dem ich am liebsten alle Geschehnisse der Welt pausieren wollen würde - aus dem bin ich inzwischen raus. Dabei hat mir Humor, ein gesunder Abstand und Austausch geholfen. Und zu wissen, dass man nicht alleine ist und viele Menschen von den Ereignissen überwältigt sind oder waren.\\nKann man Nachrichten leid sein? Ja, man kann. Auch als Journalist. Da wird Trump zum Präsidenten gewählt, abends platzt die deutsche Regierung, in der Ukraine werden Großstädte massiv angegriffen, das Sterben in Nahost geht weiter und die Bilder aus Valencia sind immer noch präsent. Ja, manchmal hab’ ich’s einfach satt. Und ja: Manchmal nehme ich mir die Freiheit, einen Tag die schlechten Nachrichten auszublenden. Nicht Kopf in den Sand stecken, aber sich mal Ruhe gönnen.\\nKlar, es gibt Leute, für die ist die Trump-Wahl eine gute Nachricht. Die finden es in Ordnung, dass er die größte Massendeportation der Geschichte ankündigt oder den Sturm aufs Parlament angezettelt hat. Für mich ist es aber eine Katastrophe, aber es ist nicht die einzelne Nachricht, die unruhig macht, sondern die Masse der Hiobsbotschaften, dieses Gefühl, dass das über Jahrzehnte relativ stabile Gerüst unserer Welt ins Wanken gerät.\\nKlar, gab es immer wieder Bundesregierungen, die scheiterten. Die Regierung Erhard II von 1965 hielt nur 14 Monate, Willy Brandt hatte 1972 mit Überläufern zu kämpfen und 1982 erzwang die FDP in sehr ähnlicher Weise ihren Rauswurf. Aber daraufhin folgten jeweils stabile Verhältnisse, während die nun fast schon Weimarer Parlamentszersplitterung fürchten lässt, dass die nächste Koalition wieder den Keim des neuerlichen Scheiterns in sich trägt.\\nJa, wohl wird einem nicht. Und ich ertappe mich dabei, an stabilere Zeiten zurückzudenken. Die waren nicht zwingend besser, denn die \"gute alte Zeit\" war ja immer nur für einen Teil richtig gut. Aber wenn nun ein Teil der Bevölkerung das Alte herbeisehnt, das ohnehin nie wieder zurückkommt, während ein anderer Teil in Hysterie und Zukunftsangst verfällt, stärkt das nur die Ränder, die gern mit Ängsten arbeiten.\\nDa lässt der Bundestagswahlkampf nun Einiges befürchten, womit sich die Frage stellt, was das für uns hier bedeutet? Jetzt, da gerade eine neue Koalition im Mainzer Stadtrat im Entstehen begriffen ist, platzt ein möglicherweise hartes Ringen um Wählerstimmen hinein. Und das spielt sich ja längst nicht mehr allein in den Zeitungen, Onlinemedien, im Radio und Fernsehen ab, sondern vor allem in den sogenannten sozialen Netzwerken mit ihren Hintermännern, die die Gesellschaft spalten.\\nIch beneide die Kollegen in den Zentralredaktionen nicht, die sich 24/7 kaum von diesen Nachrichten lösen können, das weiß ich aus zehn Jahren im Politikressort. Der Vorteil dort ist die professionelle Distanz, die einen die Ereignisse anders wahrnehmen lässt, zumindest war das bei mir so, etwa bei 9/11, doch diese nicht negativ zu verstehende Abgebrühtheit lässt nach, weshalb mich Nachrichtenwochen wie diese jetzt eben schon mitnehmen. Da bin ich ganz Leser, ganz Nachrichtenkonsument.\\nWas bleibt? Nicht in Hysterie verfallen, sich nicht anstecken lassen von denen, die Panik schüren. Front machen gegen Hetze, aber auch mal nachdenken über die eigene Position. Natürlich gehen wir alle davon aus, dass unsere Haltung die richtige ist, aber geben wir den anderen die Gelegenheit, uns zu verstehen? Eine Frage, die ich mir durchaus auch als Journalist stelle, ja auch stellen muss. Überzeugen nicht überfahren.\\nUnd wenn’s an einem Nachrichtentag mal wieder dicke kommt? Dann erlaube ich mir, nur einmal Tagesschau zu gucken und Facebook mal für zwei Tage stillzulegen. Davon wird die Lage natürlich nicht besser, aber es hilft, Ruhe zu bewahren. Wichtig in diesen Zeiten.\\n\\nLoad-Date:\\xa0November 8, 2024\\n\\n\\nEnd of Document\\n\\n\\n\\n\\n\\n\\nMusikalischer Abgang mit MB; Ex-Minister Marco Buschmann schreibt ein Lied auf das Ampel-Aus. Nun ja.\\nNeuss Grevenbroicher Zeitung\\nMittwoch 13. November 2024\\nNeuß-Grevenbroicher Zeitung Neuss\\n\\n\\nCopyright 2024 Rheinische Post Verlagsgesellschaft mbH Alle Rechte Vorbehalten\\n\\n\\nSection:\\xa0S. 4\\nLength:\\xa0522 words\\nByline:\\xa0Philipp Holstein\\nBody\\n\\n\\nPhilipp Holstein\\nDüsseldorf Wenn der frühere Bundesjustizminister einen Song veröffentlicht, sollte man darüber ein besonders gerechtes Urteil sprechen. Also: Toll, dass Marco Buschmann Musik macht. Schade, dass sie so schlecht ist.\\n„Gehen, um zu stehen“ lautet der möglicherweise philosophisch gemeinte Titel seiner drei Minuten und 34 Sekunden langen Instrumental-Kompositionen zum Ampel-Ende. Der FDP-Politiker hat sie – wenige Tage nachdem er seine Entlassungsurkunde überreicht bekam – auf der Plattform Soundcloud hochgeladen. Dort ist er seit zehn Jahren aktiv. Buschmann veröffentlicht unter MB Sounds. Sein Backcatalogue umfasst vor allem Widmungssongs an Metropolen („Tokyo by Night“, „Remembering Madrid“) und Dancemusic, die ihre Inspiration aus den 1980er-Jahren zieht („Beathoven No 5“). Fast immer kommen sie ohne Texte aus. Einzige Ausnahme: die von Buschmann akustisch untermalte Ansprache Christian Lindners („Wutrede“). His Master‘s Voice, sozusagen.\\nDas neue Stück besteht nun aus Synthie-Flächen, auf die Buschmann gregorianische Mönchsgesänge legt. Man denkt gleich an „Sadeness pt. I“ von Enigma. Und an Enya. Textinformation gibt es wieder nicht, die Chöre betreiben reine Lautmalerei. Gegen Ende kommen ein E-Gitarren-Sound und Streicher hinzu.\\n„An diesem Stück ist nichts wirklich schlecht und nichts richtig gut“, sagt Kai Blankenberg. In dessen Düsseldorfer Studio „Skyline Tonfabrik“ lässt unter anderem Udo Lindenberg seine Alben klangtechnisch anpassen. Was ihn irritiert: Das Stück wirke übersteuert, unfertig. Dabei verfügten die meisten Computer über eine vorinstallierte Software, mit der man Musik in höherer technischer Qualität produzieren könne. „Es gibt kein starkes Standbein in dieser Komposition. Nicht den Sound oder die Melodie, auch nicht die Komposition.“ Blankenberg bezeichnet das Stück als „Drag and Drop Music“, ein wahllos aus verschiedenen, teils gefundenen Elementen zusammengestelltes Produkt. Sein Fazit: „Kann man veröffentlichen, muss man aber nicht.“\\nDas Sympathische an Marco Buschmann ist, dass er sein Hobby offenbar selbst nicht so ernst nimmt. Er bekannte im vergangenen Jahr im „Zeit“-Interview selbstkritisch: „Mixing und Mastering sind nicht meine Stärke.“ Und: „Ich mache meine Musik zwischendurch, zum Beispiel auf Dienstreisen.“ Er sei einfach ein Fan elektronischer Musik, möge Italo-Disco und habe mit Christian Lindner auch schon im Düsseldorfer Club Salon des Amateurs getanzt – was ihn wiederum als Kenner auszeichnet.\\nDie Kommentare unter dem neuen Stück reichen vom lakonischen „Aua“ über „Dann lieber Mary Roos“ bis zu „Mir gefällt es sehr gut“. Sollte Buschmann auf eine Alternativkarriere im Tonstudio bauen, könnte er sich auf Soundtracks zu politischen Ereignissen spezialisieren. Auf seiner Soundcloud-Seite finden sich auch Stücke, die die Emotionen während der Bundestagswahl 2013 ausdrücken. „Schattenjahre 3: Warten auf die Hochrechnung“ etwa ist noch heiter und euphorisch. „Schattenjahre 4: After the Result“ hingehen hat etwas von einem Horrorfilm-Score. „Wenn die Gondeln Trauer tragen“: Die FDP scheiterte damals an der Fünf-Prozent-Hürde.\\n\\nLink to PDF\\n\\nGraphic\\n\\n \\nMarco Buschmann nutzte das Bild als Cover für sein Lied, schnitt jedoch Volker Wissing (FDP) und Jörg Kukies (SPD, r.) heraus.Foto: Kay Nietfeld/dpa\\n\\nLoad-Date:\\xa0November 13, 2024\\n\\n\\nEnd of Document\\n\\n\\n\\n\\n\\n\\nRentenpaket II in Gefahr; Nach dem Ampel-Aus schwinden die Chancen für eine Verabschiedung der Reform im Bundestag\\nLampertheimer Zeitung (Germany)\\nSamstag 9. November 2024\\n\\n\\nCopyright 2024 VRM GmbH & Co. KG Alle Rechte Vorbehalten\\n\\n\\nSection:\\xa0POLITIK; LAMPERTHEIMER ZEITUNG; S. 4\\nLength:\\xa0389 words\\nByline:\\xa0Wolfgang Mulke\\nBody\\n\\n\\nBERLIN. Für die rund 21 Millionen Rentner in Deutschland gibt es gute Nachrichten. Denn aufgrund der starken Lohnentwicklung winkt ihnen im kommenden Jahr erneut eine kräftige Anpassung der Bezüge. Der vorläufigen Schätzung des Sozialministeriums zufolge steigen die Renten im kommenden Juli um 3,5 Prozent. Daran kann sich noch etwas ändern, wenn im März die endgültigen Zahlen zur Lohnentwicklung vorliegen. Dann kann es zu einer Abweichung nach oben oder auch nach unten kommen.\\nWie es mit den Renten weitergeht, ist nach dem Bruch der Koalition jedoch offen. Bundeskanzler Olaf Scholz will eine für die SPD wichtige Reform zwar noch vom Bundestag beschließen lassen. Doch ob er dafür eine Mehrheit finden kann, ist zweifelhaft. Das Rentenpaket II ist in Gefahr.\\nDie Reform sieht zwei wesentliche Elemente vor. So will Sozialminister Hubertus Heil das Rentenniveau dauerhaft auf wenigstens 48 Prozent festschreiben. Das Rentenniveau beschreibt das Verhältnis zwischen einer Standardrente nach 45 Berufsjahren mit durchschnittlichem Einkommen und dem durchschnittlichen Einkommen eines Versicherten. Ohne diese Regelung würde es ab 2026 nach und nach weiter sinken. Die Folge wäre, dass die Renten stärker hinter der Lohnentwicklung herhinken. Bisher ist das Rentenniveau nur bis Ende 2025 festgeschrieben.\\nIm zweiten Teil des Pakets findet sich das von der FDP durchgesetzte Generationenkapital, auch als Aktienrente bekannt. Mit jährlich zwölf Milliarden Euro soll ein Kapitalstock aufgebaut werden, dessen Erträge - etwa aus Aktienanlagen - Mitte des nächsten Jahrzehnts zur Stabilisierung der Rentenbeiträge führen sollen. Denn auf die jüngeren Generationen kommen deutlich steigende Beiträge zu. Der letzten Prognose zufolge steigen sie allmählich von derzeit 18.6 Prozent des Bruttolohnes auf 22,3 Prozent an.\\nEs spricht vieles dafür, dass die Reform nicht verabschiedet wird. Da die Liberalen ohnehin rigidere Einschnitte ins Rentensystem favorisieren, erscheint eine Zustimmung fraglich. Die Union will schnelle Neuwahlen und der Restampel nicht als Mehrheitsbeschaffer unter die Arme greifen. \"Wir werden herabfallende Trümmer der Ampel nicht auffangen\", kündigt Alexander Dobrindt, Chef der CSU-Landesgruppe im Parlament, an. Die Richtung der künftigen Rentenpolitik ist damit völlig offen, etwa in der Frage der Lebensarbeitszeit.\\n\\nLoad-Date:\\xa0November 8, 2024\\n\\n\\nEnd of Document\\n\\n\\n\\n\\n\\n\\nRentenpaket II in Gefahr; Nach dem Ampel-Aus schwinden die Chancen für eine Verabschiedung der Reform im Bundestag\\nStarkenburger Echo\\nSamstag 9. November 2024\\n\\n\\nCopyright 2024 Echo Zeitungen GmbH Alle Rechte Vorbehalten\\n\\n\\nSection:\\xa0POLITIK; ; S. 4\\nLength:\\xa0389 words\\nByline:\\xa0Wolfgang Mulke\\nBody\\n\\n\\nBERLIN. Für die rund 21 Millionen Rentner in Deutschland gibt es gute Nachrichten. Denn aufgrund der starken Lohnentwicklung winkt ihnen im kommenden Jahr erneut eine kräftige Anpassung der Bezüge. Der vorläufigen Schätzung des Sozialministeriums zufolge steigen die Renten im kommenden Juli um 3,5 Prozent. Daran kann sich noch etwas ändern, wenn im März die endgültigen Zahlen zur Lohnentwicklung vorliegen. Dann kann es zu einer Abweichung nach oben oder auch nach unten kommen.\\nWie es mit den Renten weitergeht, ist nach dem Bruch der Koalition jedoch offen. Bundeskanzler Olaf Scholz will eine für die SPD wichtige Reform zwar noch vom Bundestag beschließen lassen. Doch ob er dafür eine Mehrheit finden kann, ist zweifelhaft. Das Rentenpaket II ist in Gefahr.\\nDie Reform sieht zwei wesentliche Elemente vor. So will Sozialminister Hubertus Heil das Rentenniveau dauerhaft auf wenigstens 48 Prozent festschreiben. Das Rentenniveau beschreibt das Verhältnis zwischen einer Standardrente nach 45 Berufsjahren mit durchschnittlichem Einkommen und dem durchschnittlichen Einkommen eines Versicherten. Ohne diese Regelung würde es ab 2026 nach und nach weiter sinken. Die Folge wäre, dass die Renten stärker hinter der Lohnentwicklung herhinken. Bisher ist das Rentenniveau nur bis Ende 2025 festgeschrieben.\\nIm zweiten Teil des Pakets findet sich das von der FDP durchgesetzte Generationenkapital, auch als Aktienrente bekannt. Mit jährlich zwölf Milliarden Euro soll ein Kapitalstock aufgebaut werden, dessen Erträge - etwa aus Aktienanlagen - Mitte des nächsten Jahrzehnts zur Stabilisierung der Rentenbeiträge führen sollen. Denn auf die jüngeren Generationen kommen deutlich steigende Beiträge zu. Der letzten Prognose zufolge steigen sie allmählich von derzeit 18.6 Prozent des Bruttolohnes auf 22,3 Prozent an.\\nEs spricht vieles dafür, dass die Reform nicht verabschiedet wird. Da die Liberalen ohnehin rigidere Einschnitte ins Rentensystem favorisieren, erscheint eine Zustimmung fraglich. Die Union will schnelle Neuwahlen und der Restampel nicht als Mehrheitsbeschaffer unter die Arme greifen. \"Wir werden herabfallende Trümmer der Ampel nicht auffangen\", kündigt Alexander Dobrindt, Chef der CSU-Landesgruppe im Parlament, an. Die Richtung der künftigen Rentenpolitik ist damit völlig offen, etwa in der Frage der Lebensarbeitszeit.\\n\\nLoad-Date:\\xa0November 8, 2024\\n\\n\\nEnd of Document\\n\\n\\n\\n\\n\\n\\nRentenpaket II in Gefahr; Nach dem Ampel-Aus schwinden die Chancen für eine Verabschiedung der Reform im Bundestag\\nOdenwälder Echo\\nSamstag 9. November 2024\\n\\n\\nCopyright 2024 Echo Zeitungen GmbH Alle Rechte Vorbehalten\\n\\n\\nSection:\\xa0POLITIK; ODENWÄLDER ECHO; S. 4\\nLength:\\xa0389 words\\nByline:\\xa0Wolfgang Mulke\\nBody\\n\\n\\nBERLIN. Für die rund 21 Millionen Rentner in Deutschland gibt es gute Nachrichten. Denn aufgrund der starken Lohnentwicklung winkt ihnen im kommenden Jahr erneut eine kräftige Anpassung der Bezüge. Der vorläufigen Schätzung des Sozialministeriums zufolge steigen die Renten im kommenden Juli um 3,5 Prozent. Daran kann sich noch etwas ändern, wenn im März die endgültigen Zahlen zur Lohnentwicklung vorliegen. Dann kann es zu einer Abweichung nach oben oder auch nach unten kommen.\\nWie es mit den Renten weitergeht, ist nach dem Bruch der Koalition jedoch offen. Bundeskanzler Olaf Scholz will eine für die SPD wichtige Reform zwar noch vom Bundestag beschließen lassen. Doch ob er dafür eine Mehrheit finden kann, ist zweifelhaft. Das Rentenpaket II ist in Gefahr.\\nDie Reform sieht zwei wesentliche Elemente vor. So will Sozialminister Hubertus Heil das Rentenniveau dauerhaft auf wenigstens 48 Prozent festschreiben. Das Rentenniveau beschreibt das Verhältnis zwischen einer Standardrente nach 45 Berufsjahren mit durchschnittlichem Einkommen und dem durchschnittlichen Einkommen eines Versicherten. Ohne diese Regelung würde es ab 2026 nach und nach weiter sinken. Die Folge wäre, dass die Renten stärker hinter der Lohnentwicklung herhinken. Bisher ist das Rentenniveau nur bis Ende 2025 festgeschrieben.\\nIm zweiten Teil des Pakets findet sich das von der FDP durchgesetzte Generationenkapital, auch als Aktienrente bekannt. Mit jährlich zwölf Milliarden Euro soll ein Kapitalstock aufgebaut werden, dessen Erträge - etwa aus Aktienanlagen - Mitte des nächsten Jahrzehnts zur Stabilisierung der Rentenbeiträge führen sollen. Denn auf die jüngeren Generationen kommen deutlich steigende Beiträge zu. Der letzten Prognose zufolge steigen sie allmählich von derzeit 18.6 Prozent des Bruttolohnes auf 22,3 Prozent an.\\nEs spricht vieles dafür, dass die Reform nicht verabschiedet wird. Da die Liberalen ohnehin rigidere Einschnitte ins Rentensystem favorisieren, erscheint eine Zustimmung fraglich. Die Union will schnelle Neuwahlen und der Restampel nicht als Mehrheitsbeschaffer unter die Arme greifen. \"Wir werden herabfallende Trümmer der Ampel nicht auffangen\", kündigt Alexander Dobrindt, Chef der CSU-Landesgruppe im Parlament, an. Die Richtung der künftigen Rentenpolitik ist damit völlig offen, etwa in der Frage der Lebensarbeitszeit.\\n\\nLoad-Date:\\xa0November 8, 2024\\n\\n\\nEnd of Document\\n\\n\\n\\n\\n\\n\\n»Lässt jeglichen politischen Stil vermissen«; CSU-Landesgruppenchef Alexander Dobrindt übt nach dem Ampel-Aus deutliche Kritik.\\nAachener Zeitung AAZ\\nMontag 11. November 2024\\n\\n\\nCopyright 2024 Medienhaus Aachen GmbH Alle Rechte Vorbehalten\\n\\n\\nSection:\\xa0MEINUNG UND BLICKPUNKT; S. 4\\nLength:\\xa0943 words\\nBody\\n\\n\\nLink to PDF Document\\nIn der Union hat man das Aus der Ampel-Koalition atemlos verfolgt und spürt jetzt Auftrieb. In der an menschlichen Verwerfungen auch nicht armen CSU wundert man sich über die »Brutalität« des Umgangs miteinander. CSU-Landesgruppenchef Alexander Dobrindt im Gespräch mit Kerstin Münstermann über Stil in der Politik, einen kurzen Wahlkampf und den Platz von Markus Söder.\\n          \\nHerr Dobrindt, Sie haben in der Union auch schon viele politische Schicksalsstunden und Zwietracht miterlebt. Was war am 6. November abends Ihr erster Gedanke?Alexander Dobrindt: Als ich die Meldung gelesen habe, dass Kanzler Scholz Finanzminister Lindner entlassen hat, habe ich gedacht, dass das Zerwürfnis zwischen den Koalitionspartnern doch deutlich größer ist als ich es erwartet habe. Die Brutalität der persönlichen Angriffe zwischen Scholz und Lindner am Abend und am Tag danach war erschreckend. In Teilen lässt das jeglichen politischen Stil vermissen, insbesondere bei dem, was wir da von Seiten des Bundeskanzlers erlebt haben.\\n     \\nAuch in der CSU gab es schon viele Nächte der langen Messer. Hat die Brutalität, so wie Sie es nennen, eine neue Qualität?Dobrindt: Das ist eine bisher so nicht da gewesene Eskalation. Bei allen harten politischen Auseinandersetzungen über Inhalte und auch zwischen Personen in der Politik dominiert in Deutschland doch immer der demokratische Respekt. Ein solcher Eklat, mit bewussten gegenseitigen persönlichen Verletzungen und in Teilen ehrabschneidenden Vorwürfen, habe ich noch nicht erlebt.\\n     \\nFür was plädieren Sie? Eine Zusammenarbeit mit, oder einen Crash-Kurs gegen den Kanzler?Dobrindt: Es gibt eine klare Reihenfolge. Der Bundeskanzler muss die Vertrauensfrage im Bundestag sofort stellen und den Weg für Neuwahlen ermöglichen. Danach kann man mit uns über sachliche gemeinsame Entscheidungen im Bundestag reden. Umgekehrt funktioniert das nicht. Sich im Kanzleramt fest zu ketten, den Wählern die neue Entscheidungsmöglichkeit bewusst vorzuenthalten und dafür nicht mal eine halbwegs schlüssige Begründung zu liefern, kann keine Basis für eine Zusammenarbeit sein. Nicht nur Scholz hat das Vertrauen in die FDP verloren. Der Bundestag hat das Vertrauen in Scholz mehrheitlich verloren.\\n     \\nAber laut Verfassung müsste Scholz gar keine Vertrauensfrage stellen.Dobrindt: Wir können die Vertrauensfrage nicht erzwingen, das stimmt. Aber ich habe dem Bundespräsidenten sehr genau zugehört, der sagt: Deutschland braucht stabile Mehrheiten und eine handlungsfähige Regierung. Das war als klarer Auftrag an Olaf Scholz zu verstehen, jetzt nicht auf Zeit zu spielen und Neuwahlen zu blockieren. Scholz hat keine Mehrheit mehr für seine Politik. Die Menschen wollen kein Kanzler-Koma, sondern einen Politikwechsel in Deutschland.\\n     \\nWie bewerten Sie das Angebot von Scholz, über Gesetzesvorhaben zu reden und dann neu über den Termin?Dobrindt: Scholz versucht die Reihenfolge zu verdrehen. Dabei kommt sofort der Verdacht auf, dass er wieder irgendwas zu tricksen versucht. Auf so etwas lassen wir uns nicht ein. Erst die Vertrauensfrage, dann können wir über Themen reden.\\n     \\nWollen Sie keinen Wahlkampf?Dobrindt: Nicht die Länge des Wahlkampfes entscheidet darüber, ob Deutschland wieder in Fahrt kommt, sondern die Schnelligkeit der Entscheidungen einer neuen Regierung. Alle konnten sich seit Monaten darauf vorbereiten, dass es in der Ampel zu keiner Einigung über den Haushalt kommen wird. Die Ampel ist auch nicht in diesem Augenblick, sondern bereits vor Monaten gescheitert. Ein kurzer Wahlkampf ist der beste Weg, um schnell wieder zu einer stabilen Regierung zu kommen und Lösungen für die innen- und außenpolitischen Herausforderungen zu finden.\\n     \\nWürde die Union einem Überschreitungsbeschluss für die Ukraine zustimmen?Dobrindt: Christian Lindner hat deutlich gemacht, dass es hier um einen weiteren Haushaltstrick-Versuch von Scholz gegangen ist. Scholz hat die Ukraine-Hilfe vorgeschoben, um weitere 15 Milliarden Euro neue Schulden für SPD-Projekte zu machen. Daran zeigt sich die mangelnde Seriosität dieses Vorgehens. Wir sind überzeugt, dass ein seriöser Haushalt innerhalb der Schuldenbremse möglich ist, auch bei stärkerer Unterstützung der Ukraine.\\n     \\nWas ist ihr Wirtschaftskonzept, sollten Sie an die Regierung kommen?Dobrindt: Es braucht einen Comeback-Plan für Deutschland mit wettbewerbsfähigen Unternehmenssteuern, bezahlbaren Energiepreisen und einem verlässlichen Investitionsklima, verbunden mit der Bereitschaft, dem Wirtschaftsstandort Deutschland eine Zukunftsperspektive zu geben.\\n     \\nWie wollen Sie das angehen? Auch diese Pläne kosten Geld.Dobrindt: Es gibt teure Ampel-Projekte, die sofort rückabgewickelt werden müssen. An erster Stelle steht das unsinnige Heizungsgesetz. Auch das völlig verkorkste Bürgergeld, das die Arbeitsaufnahme verhindert und Millionen Menschen in der Sozialhilfe festkettet, muss durch ein neues soziales Leistungssystem ersetzt werden. Allein dadurch können Milliarden Euro frei werden, um das Wirtschaftswachstum anzureizen.\\n     \\nGibt es schon ein Schattenkabinett, oder ein 100-Tage-Programm?Dobrindt: Wir sind bereit für die nächste Bundestagswahl, der Kanzlerkandidat heißt Friedrich Merz. Alle weiteren personellen Entscheidungen werden dann gefällt, wenn sie anstehen, und nicht vorher. Das Wahlprogramm, das sich maßgeblich mit dem wirtschaftlichen Wachstum, der Sicherung von Wohlstand, dem Stopp der illegalen Migration und der Herstellung der inneren und äußeren Sicherheit befasst, wird in den nächsten Wochen präsentiert.\\n     \\nWas macht Markus Söder? Bleibt er in Bayern?Dobrindt: Markus Söder hat mehrfach betont, dass er als Parteivorsitzender und Ministerpräsident in Bayern bleibt.\\n    \\n\\nLoad-Date:\\xa0November 11, 2024\\n\\n\\nEnd of Document\\n\\n\\n\\n\\n\\n\\nRentenpaket II in Gefahr; Nach dem Ampel-Aus schwinden die Chancen für eine Verabschiedung der Reform im Bundestag\\nGroß-Gerauer Echo\\nSamstag 9. November 2024\\n\\n\\nCopyright 2024 Echo Zeitungen GmbH Alle Rechte Vorbehalten\\n\\n\\nSection:\\xa0POLITIK; GROSS-GERAUER ECHO; S. 4\\nLength:\\xa0389 words\\nByline:\\xa0Wolfgang Mulke\\nBody\\n\\n\\nBERLIN. Für die rund 21 Millionen Rentner in Deutschland gibt es gute Nachrichten. Denn aufgrund der starken Lohnentwicklung winkt ihnen im kommenden Jahr erneut eine kräftige Anpassung der Bezüge. Der vorläufigen Schätzung des Sozialministeriums zufolge steigen die Renten im kommenden Juli um 3,5 Prozent. Daran kann sich noch etwas ändern, wenn im März die endgültigen Zahlen zur Lohnentwicklung vorliegen. Dann kann es zu einer Abweichung nach oben oder auch nach unten kommen.\\nWie es mit den Renten weitergeht, ist nach dem Bruch der Koalition jedoch offen. Bundeskanzler Olaf Scholz will eine für die SPD wichtige Reform zwar noch vom Bundestag beschließen lassen. Doch ob er dafür eine Mehrheit finden kann, ist zweifelhaft. Das Rentenpaket II ist in Gefahr.\\nDie Reform sieht zwei wesentliche Elemente vor. So will Sozialminister Hubertus Heil das Rentenniveau dauerhaft auf wenigstens 48 Prozent festschreiben. Das Rentenniveau beschreibt das Verhältnis zwischen einer Standardrente nach 45 Berufsjahren mit durchschnittlichem Einkommen und dem durchschnittlichen Einkommen eines Versicherten. Ohne diese Regelung würde es ab 2026 nach und nach weiter sinken. Die Folge wäre, dass die Renten stärker hinter der Lohnentwicklung herhinken. Bisher ist das Rentenniveau nur bis Ende 2025 festgeschrieben.\\nIm zweiten Teil des Pakets findet sich das von der FDP durchgesetzte Generationenkapital, auch als Aktienrente bekannt. Mit jährlich zwölf Milliarden Euro soll ein Kapitalstock aufgebaut werden, dessen Erträge - etwa aus Aktienanlagen - Mitte des nächsten Jahrzehnts zur Stabilisierung der Rentenbeiträge führen sollen. Denn auf die jüngeren Generationen kommen deutlich steigende Beiträge zu. Der letzten Prognose zufolge steigen sie allmählich von derzeit 18.6 Prozent des Bruttolohnes auf 22,3 Prozent an.\\nEs spricht vieles dafür, dass die Reform nicht verabschiedet wird. Da die Liberalen ohnehin rigidere Einschnitte ins Rentensystem favorisieren, erscheint eine Zustimmung fraglich. Die Union will schnelle Neuwahlen und der Restampel nicht als Mehrheitsbeschaffer unter die Arme greifen. \"Wir werden herabfallende Trümmer der Ampel nicht auffangen\", kündigt Alexander Dobrindt, Chef der CSU-Landesgruppe im Parlament, an. Die Richtung der künftigen Rentenpolitik ist damit völlig offen, etwa in der Frage der Lebensarbeitszeit.\\n\\nLoad-Date:\\xa0November 8, 2024\\n\\n\\nEnd of Document\\n\\n\\n\\n\\n\\n\\nRentenpaket II in Gefahr; Nach dem Ampel-Aus schwinden die Chancen für eine Verabschiedung der Reform im Bundestag\\nMain-Spitze (Germany)\\nSamstag 9. November 2024\\n\\n\\nCopyright 2024 VRM GmbH & Co. KG Alle Rechte Vorbehalten\\n\\n\\nSection:\\xa0POLITIK; ; S. 4\\nLength:\\xa0389 words\\nByline:\\xa0Wolfgang Mulke\\nBody\\n\\n\\nBERLIN. Für die rund 21 Millionen Rentner in Deutschland gibt es gute Nachrichten. Denn aufgrund der starken Lohnentwicklung winkt ihnen im kommenden Jahr erneut eine kräftige Anpassung der Bezüge. Der vorläufigen Schätzung des Sozialministeriums zufolge steigen die Renten im kommenden Juli um 3,5 Prozent. Daran kann sich noch etwas ändern, wenn im März die endgültigen Zahlen zur Lohnentwicklung vorliegen. Dann kann es zu einer Abweichung nach oben oder auch nach unten kommen.\\nWie es mit den Renten weitergeht, ist nach dem Bruch der Koalition jedoch offen. Bundeskanzler Olaf Scholz will eine für die SPD wichtige Reform zwar noch vom Bundestag beschließen lassen. Doch ob er dafür eine Mehrheit finden kann, ist zweifelhaft. Das Rentenpaket II ist in Gefahr.\\nDie Reform sieht zwei wesentliche Elemente vor. So will Sozialminister Hubertus Heil das Rentenniveau dauerhaft auf wenigstens 48 Prozent festschreiben. Das Rentenniveau beschreibt das Verhältnis zwischen einer Standardrente nach 45 Berufsjahren mit durchschnittlichem Einkommen und dem durchschnittlichen Einkommen eines Versicherten. Ohne diese Regelung würde es ab 2026 nach und nach weiter sinken. Die Folge wäre, dass die Renten stärker hinter der Lohnentwicklung herhinken. Bisher ist das Rentenniveau nur bis Ende 2025 festgeschrieben.\\nIm zweiten Teil des Pakets findet sich das von der FDP durchgesetzte Generationenkapital, auch als Aktienrente bekannt. Mit jährlich zwölf Milliarden Euro soll ein Kapitalstock aufgebaut werden, dessen Erträge - etwa aus Aktienanlagen - Mitte des nächsten Jahrzehnts zur Stabilisierung der Rentenbeiträge führen sollen. Denn auf die jüngeren Generationen kommen deutlich steigende Beiträge zu. Der letzten Prognose zufolge steigen sie allmählich von derzeit 18.6 Prozent des Bruttolohnes auf 22,3 Prozent an.\\nEs spricht vieles dafür, dass die Reform nicht verabschiedet wird. Da die Liberalen ohnehin rigidere Einschnitte ins Rentensystem favorisieren, erscheint eine Zustimmung fraglich. Die Union will schnelle Neuwahlen und der Restampel nicht als Mehrheitsbeschaffer unter die Arme greifen. \"Wir werden herabfallende Trümmer der Ampel nicht auffangen\", kündigt Alexander Dobrindt, Chef der CSU-Landesgruppe im Parlament, an. Die Richtung der künftigen Rentenpolitik ist damit völlig offen, etwa in der Frage der Lebensarbeitszeit.\\n\\nLoad-Date:\\xa0November 8, 2024\\n\\n\\nEnd of Document\\n\\n\\n\\n\\n\\n\\nRentenpaket II in Gefahr; Nach dem Ampel-Aus schwinden die Chancen für eine Verabschiedung der Reform im Bundestag\\nRüsselsheimer Echo\\nSamstag 9. November 2024\\n\\n\\nCopyright 2024 VRM GmbH & Co. KG Alle Rechte Vorbehalten\\n\\n\\nSection:\\xa0POLITIK; RÜSSELSHEIMER ECHO; S. 4\\nLength:\\xa0389 words\\nByline:\\xa0Wolfgang Mulke\\nBody\\n\\n\\nBERLIN. Für die rund 21 Millionen Rentner in Deutschland gibt es gute Nachrichten. Denn aufgrund der starken Lohnentwicklung winkt ihnen im kommenden Jahr erneut eine kräftige Anpassung der Bezüge. Der vorläufigen Schätzung des Sozialministeriums zufolge steigen die Renten im kommenden Juli um 3,5 Prozent. Daran kann sich noch etwas ändern, wenn im März die endgültigen Zahlen zur Lohnentwicklung vorliegen. Dann kann es zu einer Abweichung nach oben oder auch nach unten kommen.\\nWie es mit den Renten weitergeht, ist nach dem Bruch der Koalition jedoch offen. Bundeskanzler Olaf Scholz will eine für die SPD wichtige Reform zwar noch vom Bundestag beschließen lassen. Doch ob er dafür eine Mehrheit finden kann, ist zweifelhaft. Das Rentenpaket II ist in Gefahr.\\nDie Reform sieht zwei wesentliche Elemente vor. So will Sozialminister Hubertus Heil das Rentenniveau dauerhaft auf wenigstens 48 Prozent festschreiben. Das Rentenniveau beschreibt das Verhältnis zwischen einer Standardrente nach 45 Berufsjahren mit durchschnittlichem Einkommen und dem durchschnittlichen Einkommen eines Versicherten. Ohne diese Regelung würde es ab 2026 nach und nach weiter sinken. Die Folge wäre, dass die Renten stärker hinter der Lohnentwicklung herhinken. Bisher ist das Rentenniveau nur bis Ende 2025 festgeschrieben.\\nIm zweiten Teil des Pakets findet sich das von der FDP durchgesetzte Generationenkapital, auch als Aktienrente bekannt. Mit jährlich zwölf Milliarden Euro soll ein Kapitalstock aufgebaut werden, dessen Erträge - etwa aus Aktienanlagen - Mitte des nächsten Jahrzehnts zur Stabilisierung der Rentenbeiträge führen sollen. Denn auf die jüngeren Generationen kommen deutlich steigende Beiträge zu. Der letzten Prognose zufolge steigen sie allmählich von derzeit 18.6 Prozent des Bruttolohnes auf 22,3 Prozent an.\\nEs spricht vieles dafür, dass die Reform nicht verabschiedet wird. Da die Liberalen ohnehin rigidere Einschnitte ins Rentensystem favorisieren, erscheint eine Zustimmung fraglich. Die Union will schnelle Neuwahlen und der Restampel nicht als Mehrheitsbeschaffer unter die Arme greifen. \"Wir werden herabfallende Trümmer der Ampel nicht auffangen\", kündigt Alexander Dobrindt, Chef der CSU-Landesgruppe im Parlament, an. Die Richtung der künftigen Rentenpolitik ist damit völlig offen, etwa in der Frage der Lebensarbeitszeit.\\n\\nLoad-Date:\\xa0November 8, 2024\\n\\n\\nEnd of Document\\n\\n\\n\\n\\n\\n\\nRentenpaket II in Gefahr; Nach dem Ampel-Aus schwinden die Chancen für eine Verabschiedung der Reform im Bundestag\\nWiesbadener Kurier (Germany)\\nSamstag 9. November 2024\\n\\n\\nCopyright 2024 VRM GmbH & Co. KG Alle Rechte Vorbehalten\\n\\n\\nSection:\\xa0POLITIK; WIESBADENER KURIER STADTAUSGABE; S. 4\\nLength:\\xa0389 words\\nByline:\\xa0Wolfgang Mulke\\nBody\\n\\n\\nBERLIN. Für die rund 21 Millionen Rentner in Deutschland gibt es gute Nachrichten. Denn aufgrund der starken Lohnentwicklung winkt ihnen im kommenden Jahr erneut eine kräftige Anpassung der Bezüge. Der vorläufigen Schätzung des Sozialministeriums zufolge steigen die Renten im kommenden Juli um 3,5 Prozent. Daran kann sich noch etwas ändern, wenn im März die endgültigen Zahlen zur Lohnentwicklung vorliegen. Dann kann es zu einer Abweichung nach oben oder auch nach unten kommen.\\nWie es mit den Renten weitergeht, ist nach dem Bruch der Koalition jedoch offen. Bundeskanzler Olaf Scholz will eine für die SPD wichtige Reform zwar noch vom Bundestag beschließen lassen. Doch ob er dafür eine Mehrheit finden kann, ist zweifelhaft. Das Rentenpaket II ist in Gefahr.\\nDie Reform sieht zwei wesentliche Elemente vor. So will Sozialminister Hubertus Heil das Rentenniveau dauerhaft auf wenigstens 48 Prozent festschreiben. Das Rentenniveau beschreibt das Verhältnis zwischen einer Standardrente nach 45 Berufsjahren mit durchschnittlichem Einkommen und dem durchschnittlichen Einkommen eines Versicherten. Ohne diese Regelung würde es ab 2026 nach und nach weiter sinken. Die Folge wäre, dass die Renten stärker hinter der Lohnentwicklung herhinken. Bisher ist das Rentenniveau nur bis Ende 2025 festgeschrieben.\\nIm zweiten Teil des Pakets findet sich das von der FDP durchgesetzte Generationenkapital, auch als Aktienrente bekannt. Mit jährlich zwölf Milliarden Euro soll ein Kapitalstock aufgebaut werden, dessen Erträge - etwa aus Aktienanlagen - Mitte des nächsten Jahrzehnts zur Stabilisierung der Rentenbeiträge führen sollen. Denn auf die jüngeren Generationen kommen deutlich steigende Beiträge zu. Der letzten Prognose zufolge steigen sie allmählich von derzeit 18.6 Prozent des Bruttolohnes auf 22,3 Prozent an.\\nEs spricht vieles dafür, dass die Reform nicht verabschiedet wird. Da die Liberalen ohnehin rigidere Einschnitte ins Rentensystem favorisieren, erscheint eine Zustimmung fraglich. Die Union will schnelle Neuwahlen und der Restampel nicht als Mehrheitsbeschaffer unter die Arme greifen. \"Wir werden herabfallende Trümmer der Ampel nicht auffangen\", kündigt Alexander Dobrindt, Chef der CSU-Landesgruppe im Parlament, an. Die Richtung der künftigen Rentenpolitik ist damit völlig offen, etwa in der Frage der Lebensarbeitszeit.\\n\\nLoad-Date:\\xa0November 8, 2024\\n\\n\\nEnd of Document\\n\\n\\n\\n\\n\\n\\nRentenpaket II in Gefahr; Nach dem Ampel-Aus schwinden die Chancen für eine Verabschiedung der Reform im Bundestag\\nDarmstädter Echo\\nSamstag 9. November 2024\\n\\n\\nCopyright 2024 Echo Zeitungen GmbH Alle Rechte Vorbehalten\\n\\n\\nSection:\\xa0POLITIK; DARMSTÄDTER ECHO WEST; S. 4\\nLength:\\xa0389 words\\nByline:\\xa0Wolfgang Mulke\\nBody\\n\\n\\nBERLIN. Für die rund 21 Millionen Rentner in Deutschland gibt es gute Nachrichten. Denn aufgrund der starken Lohnentwicklung winkt ihnen im kommenden Jahr erneut eine kräftige Anpassung der Bezüge. Der vorläufigen Schätzung des Sozialministeriums zufolge steigen die Renten im kommenden Juli um 3,5 Prozent. Daran kann sich noch etwas ändern, wenn im März die endgültigen Zahlen zur Lohnentwicklung vorliegen. Dann kann es zu einer Abweichung nach oben oder auch nach unten kommen.\\nWie es mit den Renten weitergeht, ist nach dem Bruch der Koalition jedoch offen. Bundeskanzler Olaf Scholz will eine für die SPD wichtige Reform zwar noch vom Bundestag beschließen lassen. Doch ob er dafür eine Mehrheit finden kann, ist zweifelhaft. Das Rentenpaket II ist in Gefahr.\\nDie Reform sieht zwei wesentliche Elemente vor. So will Sozialminister Hubertus Heil das Rentenniveau dauerhaft auf wenigstens 48 Prozent festschreiben. Das Rentenniveau beschreibt das Verhältnis zwischen einer Standardrente nach 45 Berufsjahren mit durchschnittlichem Einkommen und dem durchschnittlichen Einkommen eines Versicherten. Ohne diese Regelung würde es ab 2026 nach und nach weiter sinken. Die Folge wäre, dass die Renten stärker hinter der Lohnentwicklung herhinken. Bisher ist das Rentenniveau nur bis Ende 2025 festgeschrieben.\\nIm zweiten Teil des Pakets findet sich das von der FDP durchgesetzte Generationenkapital, auch als Aktienrente bekannt. Mit jährlich zwölf Milliarden Euro soll ein Kapitalstock aufgebaut werden, dessen Erträge - etwa aus Aktienanlagen - Mitte des nächsten Jahrzehnts zur Stabilisierung der Rentenbeiträge führen sollen. Denn auf die jüngeren Generationen kommen deutlich steigende Beiträge zu. Der letzten Prognose zufolge steigen sie allmählich von derzeit 18.6 Prozent des Bruttolohnes auf 22,3 Prozent an.\\nEs spricht vieles dafür, dass die Reform nicht verabschiedet wird. Da die Liberalen ohnehin rigidere Einschnitte ins Rentensystem favorisieren, erscheint eine Zustimmung fraglich. Die Union will schnelle Neuwahlen und der Restampel nicht als Mehrheitsbeschaffer unter die Arme greifen. \"Wir werden herabfallende Trümmer der Ampel nicht auffangen\", kündigt Alexander Dobrindt, Chef der CSU-Landesgruppe im Parlament, an. Die Richtung der künftigen Rentenpolitik ist damit völlig offen, etwa in der Frage der Lebensarbeitszeit.\\n\\nLoad-Date:\\xa0November 8, 2024\\n\\n\\nEnd of Document\\n\\n\\n\\n\\n\\n\\nRentenpaket II in Gefahr; Nach dem Ampel-Aus schwinden die Chancen für eine Verabschiedung der Reform im Bundestag\\nBürstädter Zeitung (Germany)\\nSamstag 9. November 2024\\n\\n\\nCopyright 2024 VRM GmbH & Co. KG Alle Rechte Vorbehalten\\n\\n\\nSection:\\xa0POLITIK; ; S. 4\\nLength:\\xa0389 words\\nByline:\\xa0Wolfgang Mulke\\nBody\\n\\n\\nBERLIN. Für die rund 21 Millionen Rentner in Deutschland gibt es gute Nachrichten. Denn aufgrund der starken Lohnentwicklung winkt ihnen im kommenden Jahr erneut eine kräftige Anpassung der Bezüge. Der vorläufigen Schätzung des Sozialministeriums zufolge steigen die Renten im kommenden Juli um 3,5 Prozent. Daran kann sich noch etwas ändern, wenn im März die endgültigen Zahlen zur Lohnentwicklung vorliegen. Dann kann es zu einer Abweichung nach oben oder auch nach unten kommen.\\nWie es mit den Renten weitergeht, ist nach dem Bruch der Koalition jedoch offen. Bundeskanzler Olaf Scholz will eine für die SPD wichtige Reform zwar noch vom Bundestag beschließen lassen. Doch ob er dafür eine Mehrheit finden kann, ist zweifelhaft. Das Rentenpaket II ist in Gefahr.\\nDie Reform sieht zwei wesentliche Elemente vor. So will Sozialminister Hubertus Heil das Rentenniveau dauerhaft auf wenigstens 48 Prozent festschreiben. Das Rentenniveau beschreibt das Verhältnis zwischen einer Standardrente nach 45 Berufsjahren mit durchschnittlichem Einkommen und dem durchschnittlichen Einkommen eines Versicherten. Ohne diese Regelung würde es ab 2026 nach und nach weiter sinken. Die Folge wäre, dass die Renten stärker hinter der Lohnentwicklung herhinken. Bisher ist das Rentenniveau nur bis Ende 2025 festgeschrieben.\\nIm zweiten Teil des Pakets findet sich das von der FDP durchgesetzte Generationenkapital, auch als Aktienrente bekannt. Mit jährlich zwölf Milliarden Euro soll ein Kapitalstock aufgebaut werden, dessen Erträge - etwa aus Aktienanlagen - Mitte des nächsten Jahrzehnts zur Stabilisierung der Rentenbeiträge führen sollen. Denn auf die jüngeren Generationen kommen deutlich steigende Beiträge zu. Der letzten Prognose zufolge steigen sie allmählich von derzeit 18.6 Prozent des Bruttolohnes auf 22,3 Prozent an.\\nEs spricht vieles dafür, dass die Reform nicht verabschiedet wird. Da die Liberalen ohnehin rigidere Einschnitte ins Rentensystem favorisieren, erscheint eine Zustimmung fraglich. Die Union will schnelle Neuwahlen und der Restampel nicht als Mehrheitsbeschaffer unter die Arme greifen. \"Wir werden herabfallende Trümmer der Ampel nicht auffangen\", kündigt Alexander Dobrindt, Chef der CSU-Landesgruppe im Parlament, an. Die Richtung der künftigen Rentenpolitik ist damit völlig offen, etwa in der Frage der Lebensarbeitszeit.\\n\\nLoad-Date:\\xa0November 8, 2024\\n\\n\\nEnd of Document\\n\\n\\n\\n\\n\\n\\nRentenpaket II in Gefahr; Nach dem Ampel-Aus schwinden die Chancen für eine Verabschiedung der Reform im Bundestag\\nWormser Zeitung (Germany)\\nSamstag 9. November 2024\\n\\n\\nCopyright 2024 VRM GmbH & Co. KG Alle Rechte Vorbehalten\\n\\n\\nSection:\\xa0POLITIK; WORMSER ZEITUNG; S. 4\\nLength:\\xa0389 words\\nByline:\\xa0Wolfgang Mulke\\nBody\\n\\n\\nBERLIN. Für die rund 21 Millionen Rentner in Deutschland gibt es gute Nachrichten. Denn aufgrund der starken Lohnentwicklung winkt ihnen im kommenden Jahr erneut eine kräftige Anpassung der Bezüge. Der vorläufigen Schätzung des Sozialministeriums zufolge steigen die Renten im kommenden Juli um 3,5 Prozent. Daran kann sich noch etwas ändern, wenn im März die endgültigen Zahlen zur Lohnentwicklung vorliegen. Dann kann es zu einer Abweichung nach oben oder auch nach unten kommen.\\nWie es mit den Renten weitergeht, ist nach dem Bruch der Koalition jedoch offen. Bundeskanzler Olaf Scholz will eine für die SPD wichtige Reform zwar noch vom Bundestag beschließen lassen. Doch ob er dafür eine Mehrheit finden kann, ist zweifelhaft. Das Rentenpaket II ist in Gefahr.\\nDie Reform sieht zwei wesentliche Elemente vor. So will Sozialminister Hubertus Heil das Rentenniveau dauerhaft auf wenigstens 48 Prozent festschreiben. Das Rentenniveau beschreibt das Verhältnis zwischen einer Standardrente nach 45 Berufsjahren mit durchschnittlichem Einkommen und dem durchschnittlichen Einkommen eines Versicherten. Ohne diese Regelung würde es ab 2026 nach und nach weiter sinken. Die Folge wäre, dass die Renten stärker hinter der Lohnentwicklung herhinken. Bisher ist das Rentenniveau nur bis Ende 2025 festgeschrieben.\\nIm zweiten Teil des Pakets findet sich das von der FDP durchgesetzte Generationenkapital, auch als Aktienrente bekannt. Mit jährlich zwölf Milliarden Euro soll ein Kapitalstock aufgebaut werden, dessen Erträge - etwa aus Aktienanlagen - Mitte des nächsten Jahrzehnts zur Stabilisierung der Rentenbeiträge führen sollen. Denn auf die jüngeren Generationen kommen deutlich steigende Beiträge zu. Der letzten Prognose zufolge steigen sie allmählich von derzeit 18.6 Prozent des Bruttolohnes auf 22,3 Prozent an.\\nEs spricht vieles dafür, dass die Reform nicht verabschiedet wird. Da die Liberalen ohnehin rigidere Einschnitte ins Rentensystem favorisieren, erscheint eine Zustimmung fraglich. Die Union will schnelle Neuwahlen und der Restampel nicht als Mehrheitsbeschaffer unter die Arme greifen. \"Wir werden herabfallende Trümmer der Ampel nicht auffangen\", kündigt Alexander Dobrindt, Chef der CSU-Landesgruppe im Parlament, an. Die Richtung der künftigen Rentenpolitik ist damit völlig offen, etwa in der Frage der Lebensarbeitszeit.\\n\\nLoad-Date:\\xa0November 8, 2024\\n\\n\\nEnd of Document\\n\\n\\n\\n\\n\\n\\nRentenpaket II in Gefahr; Nach dem Ampel-Aus schwinden die Chancen für eine Verabschiedung der Reform im Bundestag\\nAllgemeine Zeitung (Germany)\\nSamstag 9. November 2024\\n\\n\\nCopyright 2024 VRM GmbH & Co. KG Alle Rechte Vorbehalten\\n\\n\\nSection:\\xa0POLITIK; ALLGEMEINE ZEITUNG MAINZ; S. 4\\nLength:\\xa0389 words\\nByline:\\xa0Wolfgang Mulke\\nBody\\n\\n\\nBERLIN. Für die rund 21 Millionen Rentner in Deutschland gibt es gute Nachrichten. Denn aufgrund der starken Lohnentwicklung winkt ihnen im kommenden Jahr erneut eine kräftige Anpassung der Bezüge. Der vorläufigen Schätzung des Sozialministeriums zufolge steigen die Renten im kommenden Juli um 3,5 Prozent. Daran kann sich noch etwas ändern, wenn im März die endgültigen Zahlen zur Lohnentwicklung vorliegen. Dann kann es zu einer Abweichung nach oben oder auch nach unten kommen.\\nWie es mit den Renten weitergeht, ist nach dem Bruch der Koalition jedoch offen. Bundeskanzler Olaf Scholz will eine für die SPD wichtige Reform zwar noch vom Bundestag beschließen lassen. Doch ob er dafür eine Mehrheit finden kann, ist zweifelhaft. Das Rentenpaket II ist in Gefahr.\\nDie Reform sieht zwei wesentliche Elemente vor. So will Sozialminister Hubertus Heil das Rentenniveau dauerhaft auf wenigstens 48 Prozent festschreiben. Das Rentenniveau beschreibt das Verhältnis zwischen einer Standardrente nach 45 Berufsjahren mit durchschnittlichem Einkommen und dem durchschnittlichen Einkommen eines Versicherten. Ohne diese Regelung würde es ab 2026 nach und nach weiter sinken. Die Folge wäre, dass die Renten stärker hinter der Lohnentwicklung herhinken. Bisher ist das Rentenniveau nur bis Ende 2025 festgeschrieben.\\nIm zweiten Teil des Pakets findet sich das von der FDP durchgesetzte Generationenkapital, auch als Aktienrente bekannt. Mit jährlich zwölf Milliarden Euro soll ein Kapitalstock aufgebaut werden, dessen Erträge - etwa aus Aktienanlagen - Mitte des nächsten Jahrzehnts zur Stabilisierung der Rentenbeiträge führen sollen. Denn auf die jüngeren Generationen kommen deutlich steigende Beiträge zu. Der letzten Prognose zufolge steigen sie allmählich von derzeit 18.6 Prozent des Bruttolohnes auf 22,3 Prozent an.\\nEs spricht vieles dafür, dass die Reform nicht verabschiedet wird. Da die Liberalen ohnehin rigidere Einschnitte ins Rentensystem favorisieren, erscheint eine Zustimmung fraglich. Die Union will schnelle Neuwahlen und der Restampel nicht als Mehrheitsbeschaffer unter die Arme greifen. \"Wir werden herabfallende Trümmer der Ampel nicht auffangen\", kündigt Alexander Dobrindt, Chef der CSU-Landesgruppe im Parlament, an. Die Richtung der künftigen Rentenpolitik ist damit völlig offen, etwa in der Frage der Lebensarbeitszeit.\\n\\nLoad-Date:\\xa0November 8, 2024\\n\\n\\nEnd of Document\\n\\n\\n\\n\\n\\n\\nUnwillen zur Verantwortung; Kommentar\\nNordwest-Zeitung\\n18. November 2024\\n\\n\\nCopyright 2024 Nordwest-Zeitung Verlagsgesellschaft mbH & Co. KG Alle Rechte vorbehalten\\n\\n\\nSection:\\xa0HINTERGRUND; S. 16\\nLength:\\xa0246 words\\nHighlight:\\xa0Stefanie Dosch\\nBody\\n\\n\\nEs wäre fahrlässig gewesen, wären im Kanzleramt in den Tagen und Wochen vor dem 6.\\xa0November nicht verschiedene Szenarien zu einem möglichen Koalitionsbruch durchgespielt worden. Denn es brauchte nicht erst die Enthüllungen von  Zeit  und  Süddeutscher Zeitung , um zu erkennen, dass die FDP zuletzt das Ampel-Aus forcierte.\\nNach jahrelangem Gezänk über so ziemlich jeden Gesetzentwurf war das  Wirtschaftswende -Papier ihres Chefs Lindner nur noch eine Art Scheidungsantrag. Seine gespielte Empörung auf den Rauswurf als Finanzminister hat niemand ernst nehmen können. Verärgert war er wohl nur, weil Scholz ihn und seine Pläne durchschaut hatte und ihm mit dieser Entscheidung und seiner Abrechnungsrede zuvorgekommen war.\\nDie Vorbereitung der anderen Partner auf ein mögliches Ampel-Aus nun mit dem FDP-Drehbuch zum Regierungssturz gleichzusetzen, zeigt nur, wie wenig Lindner und Co. das Wort Regierungsverantwortung verstanden haben. 2017 hatte der FDP-Chef seinen Unwillen diesbezüglich noch mit dem vielzitierten  Es ist besser, nicht zu regieren, als falsch zu regieren!  klar zum Ausdruck gebracht. Diesmal versteckte er das hinter einer Schmierenkomödie.\\nDie FDP muss sich nicht wundern, dass sie in aktuellen Umfragen unter der Fünf-Prozent-Hürde liegt und bei der nun anstehenden Neuwahl wohl aus dem Bundestag fliegt. Wer nicht verantwortlich regieren will, den braucht man auch nicht zu wählen.\\n@Die Autorin erreichen Sie unterDosch@infoautor.de\\nPDF-Datei dieses Dokuments\\n\\nLoad-Date:\\xa0November 18, 2024\\n\\n\\nEnd of Document\\n\\n\\n\\n\\n\\n\\nTangiert Ampel-Aus Klinikreform?; Krankenhäuser Landrat Heiner Scheffold hält es für wahrscheinlich, dass Gesetz in bisheriger Form umgesetzt wird.\\nSüdwest Presse\\nSamstag 9. November 2024\\n\\n\\nCopyright 2024 Neue Pressegesellschaft mbH & Co. KG Alle Rechte vorbehalten\\n\\n\\nSection:\\xa0REGION; S. 25; Band 80; Ausg. 260\\nLength:\\xa0317 words\\nBody\\n\\n\\nRegion. Für Heiner Scheffold, den Landrat des Alb-Donau-Kreises, kam das Aus der Regierungskoalition nicht überraschend: „Der Bruch der Ampelkoalition hat sich abgezeichnet“, teilt er auf Anfrage der SÜDWEST PRESSE mit. Das sei eine Folge, wenn es nicht gelinge, „unterschiedliche politische Ansichten zu wichtigen Sachfragen in einem tragfähigen Kompromiss zu vereinen und diesen dann auch gemeinsam umzusetzen und zu leben“.\\nScheffold hofft, dass nun zügig Neuwahlen durchgeführt werden – und wir „eine Bundesregierung bekommen, die sach- und lösungsorientiert die dringend anstehenden innen- und außenpolitischen Herausforderungen angeht“.\\nEin zentraler Punkt dabei werde sein, klare Prioritäten zu setzen und diese im Haushalt realistisch zu verankern, „anstatt wie in der Vergangenheit zusätzliche Gesetze mit Leistungen zu verabschieden, die auf kommunaler Ebene kaum umsetzbar sind“.\\nWährend derzeit noch nicht absehbar ist, welche Parteien künftig die Bundesregierung bilden werden, scheint eines klar: „Das Aus der Ampelkoalition hat zunächst keine direkte Auswirkung auf die Krankenhausreform“, erklärt Scheffold, der auch Vorstandsvorsitzender der Baden-Württembergischen Krankenhausgesellschaft (BWKG) ist.\\nDenn: Der Bundestag habe das Gesetz bereits verabschiedet. Es liege jetzt am Bundesrat, ob dieser eine Anrufung des Vermittlungsausschusses beantragt und dann in einem Vermittlungsverfahren noch Änderungen möglich sind. „Sollte dies nicht geschehen, tritt das Gesetz zum Jahresende in der bisherigen Form in Kraft und wird umgesetzt“, schreibt der Landrat in seiner Stellungnahme weiter.\\nEine mögliche Korrektur dieses Gesetzes würde einige Zeit in Anspruch nehmen, bis eine neue Regierung gebildet ist, ihre Arbeit aufgenommen hat und entsprechende Änderungsvorschläge vorliegen: „Bis dahin sind irreversible Fakten geschaffen.“\\n⇥Amrei Oellermann\\n\\nLink zum PDF-Dokument\\nLink zum PDF-Dokument\\n\\nGraphic\\n\\n \\nHeiner Scheffold ist Vorstandsvorsitzender der Baden-Württembergischen Krankenhausgesellschaft. ⇥Foto: Matthias Kessler\\n\\nLoad-Date:\\xa0November 8, 2024\\n\\n\\nEnd of Document\\n\\n\\n\\n\\n\\n\\nGesetze in letzter Minute?; Trotz Ampel-Aus wollen die Abgeordneten von SPD und Grünen gerne noch einige Vorhaben durch den Bundestag bringen.\\nLausitzer Rundschau\\nFreitag 6. Dezember 2024\\n\\n\\nCopyright 2024 LR Medienverlag und Druckerei GmbH Alle Rechte vorbehalten\\n\\n\\nSection:\\xa0THEMA DES TAGES / POLITIK; S. 2; Band 73; Ausg. 285\\nLength:\\xa0279 words\\nBody\\n\\n\\nDer Deutsche Bundestag ist ein Arbeitsparlament. Und genau deswegen darf die Bevölkerung auch die Erwartung haben, dass die Abgeordneten, die diese Bevölkerung repräsentieren, ihrem Auftrag nachkommen, der mit ihrer Wahl einhergeht – unabhängig davon, ob die Regierung auseinander gebrochen ist oder nicht. Zumal die Abgeordneten die Möglichkeit haben, selber aktiv zu werden, selber Gesetzesinitiativen einzubringen – im Übrigen auch fraktionsübergreifend –, ohne dass die Parlamentarier auf einen Gesetzesentwurf seitens der Regierung warten müssten. Genau wie sie es im Übrigen in dieser Woche gemacht haben, als zahlreiche Themen der Tagesordnung debattiert wurden.\\nWenn jetzt die Chance besteht, wäre es geradezu fatal, einfach Däumchen zu drehen und abzuwarten. Dafür ist die Lage zu ernst, sind die Probleme zu drückend. Beispielsweise in der Wirtschaft: Seit einem Jahr warten Unternehmen auf wichtige Entscheidungen. Doch auch der kleine Hoffnungsschimmer der Wachstumsinitiative aus dem Sommer, mit einem Potpourri an Maßnahmen, um die Konjunktur zu beleben, verpuffte. Die Betriebe bangen derweil, wissen nicht, womit sie für das nächste Jahr planen können und womit nicht.\\nVielleicht wäre ein Runterfahren des parlamentarischen Betriebs und die Akzeptanz, dass im Rest der Legislaturperiode nichts mehr umgesetzt wird, in anderen Zeiten eine diskussionswürdige Option. Doch Respekt für die parlamentarische Demokratie und ihre Vertreter fördert das sicherlich nicht. Gerade in schweren Zeiten sollten gewählte Volksvertreter die Interessen des Volkes priorisieren – und nicht die parteipolitischen Interessen ihrer Fraktionen.\\n\\nLink zum PDF-Dokument\\nLink zum PDF-Dokument\\n\\nGraphic\\n\\n \\nJacqueline WestermannKorrespondentin in Berlin\\n\\nLoad-Date:\\xa0December 5, 2024\\n\\n\\nEnd of Document\\n\\n\\n\\n\\n\\n\\nGesetze in letzter Minute?; Trotz Ampel-Aus wollen die Abgeordneten von SPD und Grünen gerne noch einige Vorhaben durch den Bundestag bringen.\\nOranienburger Generalanzeiger\\nFreitag 6. Dezember 2024\\n\\n\\nCopyright 2024 Märkisches Medienhaus GmbH & Co. KG Alle Rechte vorbehalten\\n\\n\\nSection:\\xa0THEMEN DES TAGES / POLITIK; S. 22; Band 34; Ausg. 285\\nLength:\\xa0279 words\\nBody\\n\\n\\nDer Deutsche Bundestag ist ein Arbeitsparlament. Und genau deswegen darf die Bevölkerung auch die Erwartung haben, dass die Abgeordneten, die diese Bevölkerung repräsentieren, ihrem Auftrag nachkommen, der mit ihrer Wahl einhergeht – unabhängig davon, ob die Regierung auseinander gebrochen ist oder nicht. Zumal die Abgeordneten die Möglichkeit haben, selber aktiv zu werden, selber Gesetzesinitiativen einzubringen – im Übrigen auch fraktionsübergreifend –, ohne dass die Parlamentarier auf einen Gesetzesentwurf seitens der Regierung warten müssten. Genau wie sie es im Übrigen in dieser Woche gemacht haben, als zahlreiche Themen der Tagesordnung debattiert wurden.\\nWenn jetzt die Chance besteht, wäre es geradezu fatal, einfach Däumchen zu drehen und abzuwarten. Dafür ist die Lage zu ernst, sind die Probleme zu drückend. Beispielsweise in der Wirtschaft: Seit einem Jahr warten Unternehmen auf wichtige Entscheidungen. Doch auch der kleine Hoffnungsschimmer der Wachstumsinitiative aus dem Sommer, mit einem Potpourri an Maßnahmen, um die Konjunktur zu beleben, verpuffte. Die Betriebe bangen derweil, wissen nicht, womit sie für das nächste Jahr planen können und womit nicht.\\nVielleicht wäre ein Runterfahren des parlamentarischen Betriebs und die Akzeptanz, dass im Rest der Legislaturperiode nichts mehr umgesetzt wird, in anderen Zeiten eine diskussionswürdige Option. Doch Respekt für die parlamentarische Demokratie und ihre Vertreter fördert das sicherlich nicht. Gerade in schweren Zeiten sollten gewählte Volksvertreter die Interessen des Volkes priorisieren – und nicht die parteipolitischen Interessen ihrer Fraktionen.\\n\\nLink zum PDF-Dokument\\nLink zum PDF-Dokument\\n\\nGraphic\\n\\n \\nJacqueline WestermannKorrespondentin in Berlin\\n\\nLoad-Date:\\xa0December 5, 2024\\n\\n\\nEnd of Document\\n\\n\\n\\n\\n\\n\\nGesetze in letzter Minute?; Trotz Ampel-Aus wollen die Abgeordneten von SPD und Grünen gerne noch einige Vorhaben durch den Bundestag bringen.\\nMärkische Oderzeitung Frankfurter Stadtbote (Oder)\\nFreitag 6. Dezember 2024\\nMärkische Oderzeitung - Frankfurt (Oder)\\n\\n\\nCopyright 2024 Märkisches Medienhaus GmbH & Co. KG Alle Rechte vorbehalten\\n\\n\\nSection:\\xa0THEMEN DES TAGES / POLITIK; S. 2; Band 34; Ausg. 285\\nLength:\\xa0279 words\\nBody\\n\\n\\nDer Deutsche Bundestag ist ein Arbeitsparlament. Und genau deswegen darf die Bevölkerung auch die Erwartung haben, dass die Abgeordneten, die diese Bevölkerung repräsentieren, ihrem Auftrag nachkommen, der mit ihrer Wahl einhergeht – unabhängig davon, ob die Regierung auseinander gebrochen ist oder nicht. Zumal die Abgeordneten die Möglichkeit haben, selber aktiv zu werden, selber Gesetzesinitiativen einzubringen – im Übrigen auch fraktionsübergreifend –, ohne dass die Parlamentarier auf einen Gesetzesentwurf seitens der Regierung warten müssten. Genau wie sie es im Übrigen in dieser Woche gemacht haben, als zahlreiche Themen der Tagesordnung debattiert wurden.\\nWenn jetzt die Chance besteht, wäre es geradezu fatal, einfach Däumchen zu drehen und abzuwarten. Dafür ist die Lage zu ernst, sind die Probleme zu drückend. Beispielsweise in der Wirtschaft: Seit einem Jahr warten Unternehmen auf wichtige Entscheidungen. Doch auch der kleine Hoffnungsschimmer der Wachstumsinitiative aus dem Sommer, mit einem Potpourri an Maßnahmen, um die Konjunktur zu beleben, verpuffte. Die Betriebe bangen derweil, wissen nicht, womit sie für das nächste Jahr planen können und womit nicht.\\nVielleicht wäre ein Runterfahren des parlamentarischen Betriebs und die Akzeptanz, dass im Rest der Legislaturperiode nichts mehr umgesetzt wird, in anderen Zeiten eine diskussionswürdige Option. Doch Respekt für die parlamentarische Demokratie und ihre Vertreter fördert das sicherlich nicht. Gerade in schweren Zeiten sollten gewählte Volksvertreter die Interessen des Volkes priorisieren – und nicht die parteipolitischen Interessen ihrer Fraktionen.\\n\\nLink zum PDF-Dokument\\nLink zum PDF-Dokument\\n\\nGraphic\\n\\n \\nJacqueline WestermannKorrespondentin in Berlin\\n\\nLoad-Date:\\xa0December 5, 2024\\n\\n\\nEnd of Document\\n\\n\\n\\n\\n\\n\\nGesetze in letzter Minute?; Trotz Ampel-Aus wollen die Abgeordneten von SPD und Grünen gerne noch einige Vorhaben durch den Bundestag bringen.\\nSüdwest Presse\\nFreitag 6. Dezember 2024\\n\\n\\nCopyright 2024 Neue Pressegesellschaft mbH & Co. KG Alle Rechte vorbehalten\\n\\n\\nSection:\\xa0THEMEN DES TAGES / POLITIK; S. 2; Band 80; Ausg. 283\\nLength:\\xa0279 words\\nBody\\n\\n\\nDer Deutsche Bundestag ist ein Arbeitsparlament. Und genau deswegen darf die Bevölkerung auch die Erwartung haben, dass die Abgeordneten, die diese Bevölkerung repräsentieren, ihrem Auftrag nachkommen, der mit ihrer Wahl einhergeht – unabhängig davon, ob die Regierung auseinander gebrochen ist oder nicht. Zumal die Abgeordneten die Möglichkeit haben, selber aktiv zu werden, selber Gesetzesinitiativen einzubringen – im Übrigen auch fraktionsübergreifend – ohne dass die Parlamentarier auf einen Gesetzesentwurf seitens der Regierung warten müssten. Genau wie sie es im Übrigen in dieser Woche gemacht haben, als zahlreiche Themen der Tagesordnung debattiert wurden.\\nWenn jetzt die Chance besteht, wäre es geradezu fatal, einfach Däumchen zu drehen und abzuwarten. Dafür ist die Lage zu ernst, sind die Probleme zu drückend. Beispielsweise in der Wirtschaft: Seit einem Jahr warten Unternehmen auf wichtige Entscheidungen. Doch auch der kleine Hoffnungsschimmer der Wachstumsinitiative aus dem Sommer, mit einem Potpourri an Maßnahmen, um die Konjunktur zu beleben, verpuffte. Die Betriebe bangen derweil, wissen nicht, womit sie für das nächste Jahr planen können und womit nicht.\\nVielleicht wäre ein Runterfahren des parlamentarischen Betriebs und die Akzeptanz, dass im Rest der Legislaturperiode nichts mehr umgesetzt wird, in anderen Zeiten eine diskussionswürdige Option. Doch Respekt für die parlamentarische Demokratie und ihre Vertreter fördert das sicherlich nicht. Gerade in schweren Zeiten sollten gewählte Volksvertreter die Interessen des Volkes priorisieren – und nicht die parteipolitischen Interessen ihrer Fraktionen.\\n\\nLink zum PDF-Dokument\\nLink zum PDF-Dokument\\n\\nGraphic\\n\\n \\nJacqueline WestermannKorrespondentin in Berlin\\n\\nLoad-Date:\\xa0December 5, 2024\\n\\n\\nEnd of Document\\n\\n\\n\\n\\n\\n\\nGesetze in letzter Minute?; Trotz Ampel-Aus wollen die Abgeordneten von SPD und Grünen gerne noch einige Vorhaben durch den Bundestag bringen.\\nLausitzer Rundschau\\nFreitag 6. Dezember 2024\\n\\n\\nCopyright 2024 LR Medienverlag und Druckerei GmbH Alle Rechte vorbehalten\\n\\n\\nSection:\\xa0THEMA DES TAGES / POLITIK; S. 2; Band 73; Ausg. 285\\nLength:\\xa0270 words\\nBody\\n\\n\\nWas die Herren und Damen Abgeordneten derzeit im Deutschen Bundestag aufführen, ist lediglich eine Simulation von Politik. Sie treten gerade sehr schnell und mit sehr wenig Wirkung in die Pedale.\\nNun ist das deutsche Parlament ein Arbeitsparlament. Das heißt, es kümmern sich Fachleute sehr intensiv um die Gesetze und Regelungen aus ihrem jeweiligen Bereich. Dass diese Fachleute ihre bereits geleistete Arbeit nicht von einem Tag auf den anderen über Bord werfen und nur noch die Hände in den Schoß legen, ehrt sie. Trotzdem sind die zahlreichen Vorschläge und Ideen, was man denn noch alles machen oder welche Gesetze man doch noch beschließen könnte, vergebens. Sie können allenfalls noch als Wahlkampfmunition dienen oder als Mittel, um die eigenen Reihen zu mobilisieren, frei nach dem Motto: Wenn wir nur könnten, wie wir wollen.\\nNein, dieser Bundestag sollte kurz vor seiner Auflösung keinesfalls noch möglichst viele Gesetze beschließen. Seine Zeit ist zu Ende. Es gibt keine eindeutige Mehrheit für niemanden, und die Neuwahlen sind nah. Es ist viel zu spät dafür, die Kraft des eigenen Mandats zu erkennen und sich wieder zum wahren Gesetzgeber aufschwingen zu wollen.\\nDiese Chance verstreicht zuverlässig von Legislaturperiode zu Legislaturperiode, denn in Wahrheit ist die Regierung der Motor der GesetzesÂ\\xadmaschine und das Parlament nur der Transmissionsriemen. Das könnte anders sein, vielleicht wäre es sogar wünschenswert, um einmal „Minderheitsregierung“ zu üben. Doch dafür passt der Zeitpunkt einfach nicht. Jetzt geht es darum, einen neuen Bundestag zu wählen.\\n\\nLink zum PDF-Dokument\\nLink zum PDF-Dokument\\n\\nGraphic\\n\\n \\nGuido BohsemLeiter des Berliner Büros\\n\\nLoad-Date:\\xa0December 5, 2024\\n\\n\\nEnd of Document\\n\\n\\n\\n\\n\\n\\nWas der Verzicht von Pistorius auf die Kanzler-Kandidatur bedeutet\\nDolomiten\\nFreitag 22. November 2024\\n\\n\\nCopyright 2024 APA - Austria Presse Agentur Alle Rechte Vorbehalten\\n\\n\\nSection:\\xa0S. 3\\nLength:\\xa0479 words\\nBody\\n\\n\\n   Berlin (dpa) Es ist ein holpriger Start in den Wahlkampf, den die SPD nach dem Ampel-Aus hingelegt hat. Bundesverteidigungsminister Boris Pistorius (64, im Bild rechts) hat gestern bei Redaktionsschluss seinen Verzicht auf eine Kanzlerkandidatur erklärt und sich für Bundeskanzler Olaf Scholz (66, links) ausgesprochen. Der Regierungschef wird aller Voraussicht nach am Montag vom Parteivorstand nominiert. Die Wahl zum Bundestag findet als vorgezogene Neuwahl am 23. Februar 2025 statt. \\n   Wie ist die Ausgangslage für Scholz? Sie könnte kaum ungünstiger sein. Scholz geht mit dem Ziel in die Wahl, die SPD wieder zur stärksten Partei zu machen und Kanzler zu bleiben. In den Umfragen ist er davon aber sehr weit entfernt. Die SPD hängt seit Monaten in einem Tief fest, aktuell bei 14 bis 16 Prozent. Damit liegt sie nur auf Platz 3 hinter Union und AfD. Der Rückstand auf CDU und CSU beträgt 16 bis 19 Prozentpunkte. Auch die persönlichen Werte des Kanzlers lassen Luft nach oben. Nach dem jüngsten ARD-Deutschlandtrend sind 20 Prozent mit seiner Arbeit zufrieden und 76 Prozent unzufrieden. Pistorius ist dagegen der Einzige, mit dem eine Mehrheit der Befragten (61 Prozent) zufrieden sind. \\n   Und der Kanzlerbonus? Scholz ist nach dem Ampel-Aus Kanzler einer gescheiterten Regierung, die nur noch bedingt handlungsfähig ist, weil sie keine Mehrheit mehr im Parlament hat. Und große internationale Auftritte wird er abgesehen von einem EU-Gipfel am 19. und 20. Jänner auch nicht mehr haben. \\n   Was spricht für Scholz? Vor seinen bisher 3 Jahren als Bundeskanzler war er unter der CDU-Kanzlerin Angela Merkel sowohl Arbeitsminister als auch Finanzminister. Außerdem hat er 7 Jahre lang Hamburg als Erster Bürgermeister regiert und weiß daher genau, wie die Länder ticken. Er steckt vom Ukraine-Krieg, über die Rente bis zur Wirtschaftslage tief in allen Themen und könnte über jedes einzelne lange Referate halten.Der Sicherheitspolitiker Pistorius hätte sich in vieles erst einarbeiten müssen - bei einem so kurzen Wahlkampf ist das ein Problem, weil das Risiko sehr hoch ist, öffentliche Auftritte zu verstolpern. Außerdem kann Scholz mindestens ein wichtiges Wahlkampfthema der SPD, den ,,Kurs der Besonnenheit\" im Ukraine-Krieg mit dem Nein zur Lieferung der Taurus-Raketen, möglicherweise glaubwürdiger vertreten als ein Verteidigungsminister, der sich die ,,Kriegstüchtigkeit\" der Bundeswehr zum Ziel gesetzt hat. \\n   Was spielte bei der Entscheidung noch eine Rolle? Scholz hat sich im Juli quasi selbst gekürt: ,,Ich werde als Kanzler antreten, erneut Kanzler zu werden.\" Die Parteispitze stellte sich früh hinter ihn und bekräftigte diese Haltung nach dem Ampel-Aus und der Neuwahl-Entscheidung. Für eine Einwechslung von Pistorius hätten Scholz und die Parteispitze über ihren Schatten springen und sich korrigieren müssen.APA/AFP/Tobias Schwarz/©  \\nLink zum PDF\\n\\nLoad-Date:\\xa0November 22, 2024\\n\\n\\nEnd of Document\\n\\n\\n\\n\\n\\n\\nGesetze in letzter Minute?; Trotz Ampel-Aus wollen die Abgeordneten von SPD und Grünen gerne noch einige Vorhaben durch den Bundestag bringen.\\nMärkische Oderzeitung Frankfurter Stadtbote (Oder)\\nFreitag 6. Dezember 2024\\nMärkische Oderzeitung - Frankfurt (Oder)\\n\\n\\nCopyright 2024 Märkisches Medienhaus GmbH & Co. KG Alle Rechte vorbehalten\\n\\n\\nSection:\\xa0THEMEN DES TAGES / POLITIK; S. 2; Band 34; Ausg. 285\\nLength:\\xa0270 words\\nBody\\n\\n\\nWas die Herren und Damen Abgeordneten derzeit im Deutschen Bundestag aufführen, ist lediglich eine Simulation von Politik. Sie treten gerade sehr schnell und mit sehr wenig Wirkung in die Pedale.\\nNun ist das deutsche Parlament ein Arbeitsparlament. Das heißt, es kümmern sich Fachleute sehr intensiv um die Gesetze und Regelungen aus ihrem jeweiligen Bereich. Dass diese Fachleute ihre bereits geleistete Arbeit nicht von einem Tag auf den anderen über Bord werfen und nur noch die Hände in den Schoß legen, ehrt sie. Trotzdem sind die zahlreichen Vorschläge und Ideen, was man denn noch alles machen oder welche Gesetze man doch noch beschließen könnte, vergebens. Sie können allenfalls noch als Wahlkampfmunition dienen oder als Mittel, um die eigenen Reihen zu mobilisieren, frei nach dem Motto: Wenn wir nur könnten, wie wir wollen.\\nNein, dieser Bundestag sollte kurz vor seiner Auflösung keinesfalls noch möglichst viele Gesetze beschließen. Seine Zeit ist zu Ende. Es gibt keine eindeutige Mehrheit für niemanden, und die Neuwahlen sind nah. Es ist viel zu spät dafür, die Kraft des eigenen Mandats zu erkennen und sich wieder zum wahren Gesetzgeber aufschwingen zu wollen.\\nDiese Chance verstreicht zuverlässig von Legislaturperiode zu Legislaturperiode, denn in Wahrheit ist die Regierung der Motor der GesetzesÂ\\xadmaschine und das Parlament nur der Transmissionsriemen. Das könnte anders sein, vielleicht wäre es sogar wünschenswert, um einmal „Minderheitsregierung“ zu üben. Doch dafür passt der Zeitpunkt einfach nicht. Jetzt geht es darum, einen neuen Bundestag zu wählen.\\n\\nLink zum PDF-Dokument\\nLink zum PDF-Dokument\\n\\nGraphic\\n\\n \\nGuido BohsemLeiter des Berliner Büros\\n\\nLoad-Date:\\xa0December 5, 2024\\n\\n\\nEnd of Document\\n\\n\\n\\n\\n\\n\\nGerüstet für den Winter-Wahlkampf; Vorgezogene Bundestagswahl verlangt schnelles Handeln / Wie die Alzeyer Parteien aufgestellt sind\\nAllgemeine Zeitung (Germany)\\nMontag 18. November 2024\\n\\n\\nCopyright 2024 VRM GmbH & Co. KG Alle Rechte Vorbehalten\\n\\n\\nSection:\\xa0LOKALES; ALLGEMEINE ZEITUNG ALZEY; S. 10\\nLength:\\xa0730 words\\nByline:\\xa0Lea Spill\\nBody\\n\\n\\nALZEY. Die Ampel-Koalition ist zerbrochen und der Fahrplan bis zur vorgezogenen Bundestagswahl am 23. Februar 2025 steht, der Wahlkampf kann beginnen. Eigentlich sind die Deutschen gewohnt, dass der Bundestag im Herbst gewählt wird und der Wahlkampf dafür im Sommer stattfindet. Nun verlagert sich alles auf den Winter. Das sind keine schönen Aussichten für die Wahlkämpfer, die jetzt auch in Alzey schnell mobilisiert werden müssen.\\nDoch die Parteien können auf vorhandene Ressourcen zurückgreifen. Durch die Europa- und Kommunalwahl sind sie, nach eigenen Aussagen, wahlkampferprobt. Eine Nachfrage bei den im Alzeyer Stadtrat präsenten Parteien zeigt gemischte Reaktion auf das Ampel-Aus. Einig sind sich alle Parteien, dass die Zeit bis zur vorgezogenen Bundestagswahl Ende Februar kurz ist.\\nDa die FWG nicht im Bundestag vertreten ist, macht sie keinen Wahlkampf, teilt Hans Helbig (FWG) mit. Kemal Gülcehre, Kreisvorsitzender der Partei \"Die Linke\" erklärt, dass für ihn das Ampel-Aus schon länger klar war und dies nur eine Frage der Zeit gewesen sei. \"Es war keine gewissenhafte Politik im Interesse der Bürger mehr möglich\", sagt Gülcehre.\\nAuch Michael Lohmer, Vorsitzender des CDU-Stadtverbandes, erklärt, dass sich die jetzige Situation bereits vor zwei bis drei Monaten angedeutet hat. Für Bürgermeister Steffen Jung (SPD) war das Ampel-Aus ebenfalls keine Überraschung. Es habe sich zuletzt abgezeichnet, erklärt er. \"Leider kam es nie zu einer vertrauensvollen Zusammenarbeit, wie man es beispielsweise von der rheinland-pfälzischen Ampel gewohnt ist.\"\\nDominik Langosch (FPD) habe auch gemerkt, dass sich die Parteien in der Regierung schwertun. Für ihn persönlich kamen die Neuwahlen dennoch überraschend. Bei den Freien Demokraten in Alzey habe das Ampel-Aus für einen Aufschwung gesorgt und die Partei starte zuversichtlich und motiviert in den Wahlkampf. Langosch berichtet, dass es zum ersten Mal seit Langem wieder mehr Ein- als Austritte in die Partei gebe.\\nÄhnliches berichtet Dr. Russell Gasser (Die Grünen). Die Stimmung in der Partei sei positiv und er äußert: \"Los geht’s. Wir sind bereit.\" In Rheinland-Pfalz hätten die Grünen mehr Mitglieder als je zuvor und auch bundesweit habe es wieder viele Neueintritte gegeben. \"Wir sind bereit, hart zu kämpfen\", erklärt Gasser. Für den Wahlkampf sehen sich die Grünen gut aufgestellt und es spiele der Partei in die Karten, dass ihr Parteitag am Wochenende vom 15. bis 17. November und die Landesdelegiertenversammlung im Dezember stattfinden.\\nAlle befragten Parteien äußern, dass sie sich bereits in den Vorbereitungen für den Wahlkampf befinden. Michael Lohmer erläutert, dass sich seine Partei als christdemokratische Partei in der Weihnachtszeit zurückhält und der Wahlkampf erst im Januar richtig beginnt. Im Dezember stehen Familie, Advent und Ankunft im Vordergrund. Zudem werde der Bundestagsabgeordnete Jan Metzler vorweihnachtliche Veranstaltungen besuchen. Richtig los geht der Wahlkampf bei der CDU im Januar.\\nAuch bei der SPD wird der Wahlkampf nach Einschätzung Steffen Jungs erst im kommenden Jahr richtig anlaufen und sich somit wohl auf die sechs bis acht Wochen vor dem Wahltermin konzentrieren. \"In der Vorweihnachtszeit gilt es, organisatorisch die Weichen zu stellen. Die Bürgerinnen und Bürger haben hier aber sicherlich nicht den Kopf für Wahlkampf\", erläutert er. Zunächst stehe nun auf Ebene des Unterbezirks und anschließend des Landes die Nominierung der Kandidaten an. Auch der Landesparteitag muss noch vor Weihnachten stattfinden. Somit stehen besonders die Parteien, bei denen diese Termine kurzfristig angesetzt werden, unter Zeitdruck.\\nGülcehre (Die Linke) sieht den Winter-Wahlkampf kritisch. Oft seien es ältere Menschen, die sich engagieren, und für diese sei die Kälte auf dem Roßmarkt schwer auszuhalten. Zudem gibt er zu bedenken, dass gerade in der Weihnachtszeit viele Räumlichkeiten, wie die Stadthalle Alzey, die die Parteien für Treffen benötigen, bereits lange ausgebucht seinen. Dennoch sei für ihn klar: \"Wir geben das Beste für unser soziales Gewissen.\"\\nJung (SPD) erklärt, seine Partei habe glücklicherweise einen sehr aktiven Ortsverein und sei auch außerhalb des Wahlkampfs mit Veranstaltungen aktiv sowie stets ansprechbar. Aus diesem Grund sei es für den Ortsverein keine größere zusätzliche Belastung, es werde in den Wochen vor der Wahl nur einige Aktionen mehr geben.\\n\\nLoad-Date:\\xa0November 18, 2024\\n\\n\\nEnd of Document\\n\\n\\n\\n\\n\\n\\nGerüstet für den Winter-Wahlkampf; Vorgezogene Bundestagswahl verlangt schnelles Handeln / Wie die Alzeyer Parteien aufgestellt sind\\nAllgemeine Zeitung (Germany)\\nMontag 18. November 2024\\n\\n\\nCopyright 2024 VRM GmbH & Co. KG Alle Rechte Vorbehalten\\n\\n\\nSection:\\xa0LOKALES; ALLGEMEINE ZEITUNG ALZEY; S. 10\\nLength:\\xa0730 words\\nByline:\\xa0Lea Spill\\nBody\\n\\n\\nALZEY. Die Ampel-Koalition ist zerbrochen und der Fahrplan bis zur vorgezogenen Bundestagswahl am 23. Februar 2025 steht, der Wahlkampf kann beginnen. Eigentlich sind die Deutschen gewohnt, dass der Bundestag im Herbst gewählt wird und der Wahlkampf dafür im Sommer stattfindet. Nun verlagert sich alles auf den Winter. Das sind keine schönen Aussichten für die Wahlkämpfer, die jetzt auch in Alzey schnell mobilisiert werden müssen.\\nDoch die Parteien können auf vorhandene Ressourcen zurückgreifen. Durch die Europa- und Kommunalwahl sind sie, nach eigenen Aussagen, wahlkampferprobt. Eine Nachfrage bei den im Alzeyer Stadtrat präsenten Parteien zeigt gemischte Reaktion auf das Ampel-Aus. Einig sind sich alle Parteien, dass die Zeit bis zur vorgezogenen Bundestagswahl Ende Februar kurz ist.\\nDa die FWG nicht im Bundestag vertreten ist, macht sie keinen Wahlkampf, teilt Hans Helbig (FWG) mit. Kemal Gülcehre, Kreisvorsitzender der Partei \"Die Linke\" erklärt, dass für ihn das Ampel-Aus schon länger klar war und dies nur eine Frage der Zeit gewesen sei. \"Es war keine gewissenhafte Politik im Interesse der Bürger mehr möglich\", sagt Gülcehre.\\nAuch Michael Lohmer, Vorsitzender des CDU-Stadtverbandes, erklärt, dass sich die jetzige Situation bereits vor zwei bis drei Monaten angedeutet hat. Für Bürgermeister Steffen Jung (SPD) war das Ampel-Aus ebenfalls keine Überraschung. Es habe sich zuletzt abgezeichnet, erklärt er. \"Leider kam es nie zu einer vertrauensvollen Zusammenarbeit, wie man es beispielsweise von der rheinland-pfälzischen Ampel gewohnt ist.\"\\nDominik Langosch (FPD) habe auch gemerkt, dass sich die Parteien in der Regierung schwertun. Für ihn persönlich kamen die Neuwahlen dennoch überraschend. Bei den Freien Demokraten in Alzey habe das Ampel-Aus für einen Aufschwung gesorgt und die Partei starte zuversichtlich und motiviert in den Wahlkampf. Langosch berichtet, dass es zum ersten Mal seit Langem wieder mehr Ein- als Austritte in die Partei gebe.\\nÄhnliches berichtet Dr. Russell Gasser (Die Grünen). Die Stimmung in der Partei sei positiv und er äußert: \"Los geht’s. Wir sind bereit.\" In Rheinland-Pfalz hätten die Grünen mehr Mitglieder als je zuvor und auch bundesweit habe es wieder viele Neueintritte gegeben. \"Wir sind bereit, hart zu kämpfen\", erklärt Gasser. Für den Wahlkampf sehen sich die Grünen gut aufgestellt und es spiele der Partei in die Karten, dass ihr Parteitag am Wochenende vom 15. bis 17. November und die Landesdelegiertenversammlung im Dezember stattfinden.\\nAlle befragten Parteien äußern, dass sie sich bereits in den Vorbereitungen für den Wahlkampf befinden. Michael Lohmer erläutert, dass sich seine Partei als christdemokratische Partei in der Weihnachtszeit zurückhält und der Wahlkampf erst im Januar richtig beginnt. Im Dezember stehen Familie, Advent und Ankunft im Vordergrund. Zudem werde der Bundestagsabgeordnete Jan Metzler vorweihnachtliche Veranstaltungen besuchen. Richtig los geht der Wahlkampf bei der CDU im Januar.\\nAuch bei der SPD wird der Wahlkampf nach Einschätzung Steffen Jungs erst im kommenden Jahr richtig anlaufen und sich somit wohl auf die sechs bis acht Wochen vor dem Wahltermin konzentrieren. \"In der Vorweihnachtszeit gilt es, organisatorisch die Weichen zu stellen. Die Bürgerinnen und Bürger haben hier aber sicherlich nicht den Kopf für Wahlkampf\", erläutert er. Zunächst stehe nun auf Ebene des Unterbezirks und anschließend des Landes die Nominierung der Kandidaten an. Auch der Landesparteitag muss noch vor Weihnachten stattfinden. Somit stehen besonders die Parteien, bei denen diese Termine kurzfristig angesetzt werden, unter Zeitdruck.\\nGülcehre (Die Linke) sieht den Winter-Wahlkampf kritisch. Oft seien es ältere Menschen, die sich engagieren, und für diese sei die Kälte auf dem Roßmarkt schwer auszuhalten. Zudem gibt er zu bedenken, dass gerade in der Weihnachtszeit viele Räumlichkeiten, wie die Stadthalle Alzey, die die Parteien für Treffen benötigen, bereits lange ausgebucht seinen. Dennoch sei für ihn klar: \"Wir geben das Beste für unser soziales Gewissen.\"\\nJung (SPD) erklärt, seine Partei habe glücklicherweise einen sehr aktiven Ortsverein und sei auch außerhalb des Wahlkampfs mit Veranstaltungen aktiv sowie stets ansprechbar. Aus diesem Grund sei es für den Ortsverein keine größere zusätzliche Belastung, es werde in den Wochen vor der Wahl nur einige Aktionen mehr geben.\\n\\nLoad-Date:\\xa0November 25, 2024\\n\\n\\nEnd of Document\\n\\n\\n\\n\\n\\n\\nGesetze in letzter Minute?; Trotz Ampel-Aus wollen die Abgeordneten von SPD und Grünen gerne noch einige Vorhaben durch den Bundestag bringen.\\nOranienburger Generalanzeiger\\nFreitag 6. Dezember 2024\\n\\n\\nCopyright 2024 Märkisches Medienhaus GmbH & Co. KG Alle Rechte vorbehalten\\n\\n\\nSection:\\xa0THEMEN DES TAGES / POLITIK; S. 22; Band 34; Ausg. 285\\nLength:\\xa0270 words\\nBody\\n\\n\\nWas die Herren und Damen Abgeordneten derzeit im Deutschen Bundestag aufführen, ist lediglich eine Simulation von Politik. Sie treten gerade sehr schnell und mit sehr wenig Wirkung in die Pedale.\\nNun ist das deutsche Parlament ein Arbeitsparlament. Das heißt, es kümmern sich Fachleute sehr intensiv um die Gesetze und Regelungen aus ihrem jeweiligen Bereich. Dass diese Fachleute ihre bereits geleistete Arbeit nicht von einem Tag auf den anderen über Bord werfen und nur noch die Hände in den Schoß legen, ehrt sie. Trotzdem sind die zahlreichen Vorschläge und Ideen, was man denn noch alles machen oder welche Gesetze man doch noch beschließen könnte, vergebens. Sie können allenfalls noch als Wahlkampfmunition dienen oder als Mittel, um die eigenen Reihen zu mobilisieren, frei nach dem Motto: Wenn wir nur könnten, wie wir wollen.\\nNein, dieser Bundestag sollte kurz vor seiner Auflösung keinesfalls noch möglichst viele Gesetze beschließen. Seine Zeit ist zu Ende. Es gibt keine eindeutige Mehrheit für niemanden, und die Neuwahlen sind nah. Es ist viel zu spät dafür, die Kraft des eigenen Mandats zu erkennen und sich wieder zum wahren Gesetzgeber aufschwingen zu wollen.\\nDiese Chance verstreicht zuverlässig von Legislaturperiode zu Legislaturperiode, denn in Wahrheit ist die Regierung der Motor der GesetzesÂ\\xadmaschine und das Parlament nur der Transmissionsriemen. Das könnte anders sein, vielleicht wäre es sogar wünschenswert, um einmal „Minderheitsregierung“ zu üben. Doch dafür passt der Zeitpunkt einfach nicht. Jetzt geht es darum, einen neuen Bundestag zu wählen.\\n\\nLink zum PDF-Dokument\\nLink zum PDF-Dokument\\n\\nGraphic\\n\\n \\nGuido BohsemLeiter des Berliner Büros\\n\\nLoad-Date:\\xa0December 5, 2024\\n\\n\\nEnd of Document\\n\\n\\n\\n\\n\\n\\nGesetze in letzter Minute?; Trotz Ampel-Aus wollen die Abgeordneten von SPD und Grünen gerne noch einige Vorhaben durch den Bundestag bringen.\\nSüdwest Presse\\nFreitag 6. Dezember 2024\\n\\n\\nCopyright 2024 Neue Pressegesellschaft mbH & Co. KG Alle Rechte vorbehalten\\n\\n\\nSection:\\xa0THEMEN DES TAGES / POLITIK; S. 2; Band 80; Ausg. 283\\nLength:\\xa0269 words\\nBody\\n\\n\\nWas die Herren und Damen Abgeordneten derzeit im Deutschen Bundestag aufführen, ist lediglich eine Simulation von Politik. Sie treten gerade sehr schnell und mit sehr wenig Wirkung in die Pedale.\\nNun ist das deutsche Parlament ein Arbeitsparlament. Das heißt, es kümmern sich Fachleute sehr intensiv um die Gesetze und Regelungen aus ihrem jeweiligen Bereich. Dass diese Fachleute ihre bereits geleistete Arbeit nicht von einem Tag auf den anderen über Bord werfen und nur noch die Hände in den Schoß legen, ehrt sie. Trotzdem sind die zahlreichen Vorschläge und Ideen, was man denn noch alles machen oder welche Gesetze man doch noch beschließen könnte, vergebens. Sie können allenfalls noch als Wahlkampfmunition dienen oder als Mittel, um die eigenen Reihen zu mobilisieren, frei nach dem Motto: Wenn wir nur könnten, wie wir wollen.\\nNein, dieser Bundestag sollte kurz vor seiner Auflösung keinesfalls noch möglichst viele Gesetze beschließen. Seine Zeit ist zu Ende. Es gibt keine eindeutige Mehrheit für niemanden und die Neuwahlen sind nah. Es ist viel zu spät dafür, die Kraft des eigenen Mandats zu erkennen und sich wieder zum wahren Gesetzgeber aufschwingen zu wollen.\\nDiese Chance verstreicht zuverlässig von Legislaturperiode zu Legislaturperiode, denn in Wahrheit ist die Regierung der Motor der Gesetzesmaschine und das Parlament nur der Transmissionsriemen. Das könnte anders sein, vielleicht wäre es sogar wünschenswert, um einmal „Minderheitsregierung“ zu üben. Doch dafür passt der Zeitpunkt einfach nicht. Jetzt geht es darum, einen neuen Bundestag zu wählen.\\n\\nLink zum PDF-Dokument\\nLink zum PDF-Dokument\\n\\nGraphic\\n\\n \\nGuido BohsemLeiter des Berliner Büros\\n\\nLoad-Date:\\xa0December 5, 2024\\n\\n\\nEnd of Document\\n\\n\\n\\n\\n\\n\\nDie Angst vor dem Abstieg geht um; Hessische FDP hat inhaltlich und personell einen Kurswechsel vollzogen / Rechnung scheint aber nicht aufzugehen\\nDarmstädter Echo\\nMittwoch 13. November 2024\\n\\n\\nCopyright 2024 Echo Zeitungen GmbH Alle Rechte Vorbehalten\\n\\n\\nSection:\\xa0REGION; DARMSTÄDTER ECHO WEST; S. 5\\nLength:\\xa0766 words\\nByline:\\xa0Nele Leubner\\nBody\\n\\n\\nWIESBADEN. Die angespannten Gesichter sprachen Bände am vergangenen Donnerstag. Trüb ist das Wetter, trüb auch die Stimmung nach dem lautstarken Berliner Ampel-Aus am Abend zuvor. Als die Spitzen der hessischen Liberalen vor die Presse treten - Generalsekretär Moritz Promny, die Fraktionschefs Wiebke Knell und Stefan Naas - geben sie sich zwar wortreich zuversichtlich (Promny: \"Ich bin zuversichtlich, dass wir nächstes Jahr in den Bundestag einziehen\"; Knell: \"Die Stimmung in der FDP ist optimistisch, wie schon seit Monaten nicht mehr\"). Nur die Mimik mag nicht zum Gesagten passen. Die Angst vor dem finalen Abstieg geht um.\\nIn Hessen hat die Partei eine Talfahrt und einen Richtungsstreit hinter sich, der dauernde Ampel-Streit auf bundespolitischer Ebene hat es nicht besser gemacht - die Lage ist durchwachsen. Bei der Landtagswahl vor rund einem Jahr hatte die Partei die Fünf-Prozent-Hürde nur gerade so geschafft und ist um drei Abgeordnete auf nur noch acht geschrumpft.\\nHessen-FDP kratzt an der 5-Prozent-Hürde\\nDem vorausgegangen waren eine sowohl inhaltliche als auch personelle Neuausrichtung der hessischen Liberalen. Nachdem dem Fraktionsvorsitzenden René Rock im Sommer 2022 zunächst Stefan Naas als Spitzenkandidat für die Landtagswahl vorgesetzt wurde, erfolgte schließlich nach der Wahlschlappe endgültig die Ablösung an der Fraktionsspitze durch Naas und Knell. Seitdem dominieren wirtschaftspolitische Themen die FDP-Agenda in Hessen, oder wie Naas mantraartig wiederholt: \"eine Wirtschaftswende\". Andere Themen, die die Bürger ebenfalls beschäftigen - wie beispielsweise Kinderbetreuung - spielen nur noch eine untergeordnete Rolle in der Fraktion. Mit diesem Fokus mag man zwar bei den Stammwählern punkten, anderes Wählerklientel lässt sich damit aber offenbar nicht aktivieren. Zumindest lassen die letzten Landtagswahlergebnisse und die neuesten Umfrageergebnisse aus Hessen darauf schließen, die Liberalen kratzen beharrlich nah an fünf Prozentpunkten. Und anders als die positiven Worte der hessischen FDP-Spitzen suggerieren, ist der Wiedereinzug in den Bundestag stark gefährdet.\\nHinzu kommt: Anders als noch mit der SPD hat die FDP mit den Grünen keine inhaltlichen Schnittmengen, um in Hessen auch aus der Opposition heraus etwas zu bewegen. Das mit gegenseitigen Vorwürfen gespickte Ampel-Aus hat die Stimmung zwischen beiden Parteien sicher nicht verbessert - auch wenn die rheinland-pfälzischen Ampel-Spitzen sofort geschlossen auftraten. Der innerparteiliche Richtungsstreit der hessischen Liberalen, auch über die Frage, ob man inhaltlich doch auch mal mit den Grünen paktieren könnte, wurde vor Kurzem offen im Landtag offenbar: Während sich Fraktionschef Naas vor den Kameras gemeinsam mit Grünen-Fraktionschef Mathias Wagner vehement für einen Untersuchungsausschuss zur Entlassungsaffäre von Ex-Staatssekretärin Lamia Messari-Becker aus dem SPD-geführten Wirtschaftsministerium eintrat, spielten bei der Abstimmung darüber im Landtagsplenum nicht alle Parteikollegen mit.\\nEin offener Eklat auf landespolitischer Bühne, als sich drei der acht FDP-Abgeordneten bei der Abstimmung gegen den Untersuchungsausschuss stellten - darunter Ex-Fraktionschef Rock. Die Fraktionsspitze wird sich danach künftig sicher genau überlegen, ob sie nochmal mit dem grünen Intimfeind paktiert. Zumindest muss man in Hessen nach dem Ampel-Aus nicht mehr auf die bundespolitische Zusammenarbeit Rücksicht nehmen. Die hessische FDP stünde \"geschlossen\" hinter Parteichef und Ex-Finanzminister Linder, betont Knell.\\nVorderer Listenplatz für Bettina Stark-Watzinger?\\nAuch die hessischen Jungen Liberalen haben sich bei ihren Vorstandswahlen am vergangenen Wochenende hinter Lindner gestellt. Der wiedergewählte Vorsitzende, Tim Hordorff, erklärt: \"Seit Mittwoch sind wir Liberalen im Wahlkampfmodus. Statt zurück auf die Zeit der Ampel zu blicken, kämpfen wir jetzt für eine liberale Wende in diesem Land.\" Auch die FDP-Landesvorsitzende und Ex-Bundesbildungsministerin Bettina Stark-Watzinger wurde von den Julis mit viel Applaus empfangen. Interessant wird sein, welche Rolle sie nach dem Ampel-Aus künftig in Hessen spielen wird. Ende November ist geplant, auf dem FDP-Landesparteitag in Wetzlar die Liste für die Bundestagswahl aufzustellen. Bei der Wahl 2021 - bei der die Liberalen noch 11,4 Prozent erhielten - zog sie über den ersten Landeslisten-Platz in den Bundestag ein. Immerhin: Während Stark-Watzinger in den vergangenen Monaten stark als Bundesbildungsministerin in Berlin gefordert war, wird sie mutmaßlich künftig mehr Zeit haben, sich um hessische Inhalte zu kümmern.\\n\\nLoad-Date:\\xa0November 12, 2024\\n\\n\\nEnd of Document\\n\\n\\n\\n\\n\\n\\nDie Angst vor dem Abstieg geht um; Hessische FDP hat inhaltlich und personell einen Kurswechsel vollzogen / Rechnung scheint aber nicht aufzugehen\\nRüsselsheimer Echo\\nMittwoch 13. November 2024\\n\\n\\nCopyright 2024 VRM GmbH & Co. KG Alle Rechte Vorbehalten\\n\\n\\nSection:\\xa0REGION; RÜSSELSHEIMER ECHO; S. 5\\nLength:\\xa0766 words\\nByline:\\xa0Nele Leubner\\nBody\\n\\n\\nWIESBADEN. Die angespannten Gesichter sprachen Bände am vergangenen Donnerstag. Trüb ist das Wetter, trüb auch die Stimmung nach dem lautstarken Berliner Ampel-Aus am Abend zuvor. Als die Spitzen der hessischen Liberalen vor die Presse treten - Generalsekretär Moritz Promny, die Fraktionschefs Wiebke Knell und Stefan Naas - geben sie sich zwar wortreich zuversichtlich (Promny: \"Ich bin zuversichtlich, dass wir nächstes Jahr in den Bundestag einziehen\"; Knell: \"Die Stimmung in der FDP ist optimistisch, wie schon seit Monaten nicht mehr\"). Nur die Mimik mag nicht zum Gesagten passen. Die Angst vor dem finalen Abstieg geht um.\\nIn Hessen hat die Partei eine Talfahrt und einen Richtungsstreit hinter sich, der dauernde Ampel-Streit auf bundespolitischer Ebene hat es nicht besser gemacht - die Lage ist durchwachsen. Bei der Landtagswahl vor rund einem Jahr hatte die Partei die Fünf-Prozent-Hürde nur gerade so geschafft und ist um drei Abgeordnete auf nur noch acht geschrumpft.\\nHessen-FDP kratzt an der 5-Prozent-Hürde\\nDem vorausgegangen waren eine sowohl inhaltliche als auch personelle Neuausrichtung der hessischen Liberalen. Nachdem dem Fraktionsvorsitzenden René Rock im Sommer 2022 zunächst Stefan Naas als Spitzenkandidat für die Landtagswahl vorgesetzt wurde, erfolgte schließlich nach der Wahlschlappe endgültig die Ablösung an der Fraktionsspitze durch Naas und Knell. Seitdem dominieren wirtschaftspolitische Themen die FDP-Agenda in Hessen, oder wie Naas mantraartig wiederholt: \"eine Wirtschaftswende\". Andere Themen, die die Bürger ebenfalls beschäftigen - wie beispielsweise Kinderbetreuung - spielen nur noch eine untergeordnete Rolle in der Fraktion. Mit diesem Fokus mag man zwar bei den Stammwählern punkten, anderes Wählerklientel lässt sich damit aber offenbar nicht aktivieren. Zumindest lassen die letzten Landtagswahlergebnisse und die neuesten Umfrageergebnisse aus Hessen darauf schließen, die Liberalen kratzen beharrlich nah an fünf Prozentpunkten. Und anders als die positiven Worte der hessischen FDP-Spitzen suggerieren, ist der Wiedereinzug in den Bundestag stark gefährdet.\\nHinzu kommt: Anders als noch mit der SPD hat die FDP mit den Grünen keine inhaltlichen Schnittmengen, um in Hessen auch aus der Opposition heraus etwas zu bewegen. Das mit gegenseitigen Vorwürfen gespickte Ampel-Aus hat die Stimmung zwischen beiden Parteien sicher nicht verbessert - auch wenn die rheinland-pfälzischen Ampel-Spitzen sofort geschlossen auftraten. Der innerparteiliche Richtungsstreit der hessischen Liberalen, auch über die Frage, ob man inhaltlich doch auch mal mit den Grünen paktieren könnte, wurde vor Kurzem offen im Landtag offenbar: Während sich Fraktionschef Naas vor den Kameras gemeinsam mit Grünen-Fraktionschef Mathias Wagner vehement für einen Untersuchungsausschuss zur Entlassungsaffäre von Ex-Staatssekretärin Lamia Messari-Becker aus dem SPD-geführten Wirtschaftsministerium eintrat, spielten bei der Abstimmung darüber im Landtagsplenum nicht alle Parteikollegen mit.\\nEin offener Eklat auf landespolitischer Bühne, als sich drei der acht FDP-Abgeordneten bei der Abstimmung gegen den Untersuchungsausschuss stellten - darunter Ex-Fraktionschef Rock. Die Fraktionsspitze wird sich danach künftig sicher genau überlegen, ob sie nochmal mit dem grünen Intimfeind paktiert. Zumindest muss man in Hessen nach dem Ampel-Aus nicht mehr auf die bundespolitische Zusammenarbeit Rücksicht nehmen. Die hessische FDP stünde \"geschlossen\" hinter Parteichef und Ex-Finanzminister Linder, betont Knell.\\nVorderer Listenplatz für Bettina Stark-Watzinger?\\nAuch die hessischen Jungen Liberalen haben sich bei ihren Vorstandswahlen am vergangenen Wochenende hinter Lindner gestellt. Der wiedergewählte Vorsitzende, Tim Hordorff, erklärt: \"Seit Mittwoch sind wir Liberalen im Wahlkampfmodus. Statt zurück auf die Zeit der Ampel zu blicken, kämpfen wir jetzt für eine liberale Wende in diesem Land.\" Auch die FDP-Landesvorsitzende und Ex-Bundesbildungsministerin Bettina Stark-Watzinger wurde von den Julis mit viel Applaus empfangen. Interessant wird sein, welche Rolle sie nach dem Ampel-Aus künftig in Hessen spielen wird. Ende November ist geplant, auf dem FDP-Landesparteitag in Wetzlar die Liste für die Bundestagswahl aufzustellen. Bei der Wahl 2021 - bei der die Liberalen noch 11,4 Prozent erhielten - zog sie über den ersten Landeslisten-Platz in den Bundestag ein. Immerhin: Während Stark-Watzinger in den vergangenen Monaten stark als Bundesbildungsministerin in Berlin gefordert war, wird sie mutmaßlich künftig mehr Zeit haben, sich um hessische Inhalte zu kümmern.\\n\\nLoad-Date:\\xa0November 12, 2024\\n\\n\\nEnd of Document\\n\\n\\n\\n\\n\\n\\nDie Angst vor dem Abstieg geht um; Hessische FDP hat inhaltlich und personell einen Kurswechsel vollzogen / Rechnung scheint aber nicht aufzugehen\\nMain-Spitze (Germany)\\nMittwoch 13. November 2024\\n\\n\\nCopyright 2024 VRM GmbH & Co. KG Alle Rechte Vorbehalten\\n\\n\\nSection:\\xa0REGION; ; S. 5\\nLength:\\xa0766 words\\nByline:\\xa0Nele Leubner\\nBody\\n\\n\\nWIESBADEN. Die angespannten Gesichter sprachen Bände am vergangenen Donnerstag. Trüb ist das Wetter, trüb auch die Stimmung nach dem lautstarken Berliner Ampel-Aus am Abend zuvor. Als die Spitzen der hessischen Liberalen vor die Presse treten - Generalsekretär Moritz Promny, die Fraktionschefs Wiebke Knell und Stefan Naas - geben sie sich zwar wortreich zuversichtlich (Promny: \"Ich bin zuversichtlich, dass wir nächstes Jahr in den Bundestag einziehen\"; Knell: \"Die Stimmung in der FDP ist optimistisch, wie schon seit Monaten nicht mehr\"). Nur die Mimik mag nicht zum Gesagten passen. Die Angst vor dem finalen Abstieg geht um.\\nIn Hessen hat die Partei eine Talfahrt und einen Richtungsstreit hinter sich, der dauernde Ampel-Streit auf bundespolitischer Ebene hat es nicht besser gemacht - die Lage ist durchwachsen. Bei der Landtagswahl vor rund einem Jahr hatte die Partei die Fünf-Prozent-Hürde nur gerade so geschafft und ist um drei Abgeordnete auf nur noch acht geschrumpft.\\nHessen-FDP kratzt an der 5-Prozent-Hürde\\nDem vorausgegangen waren eine sowohl inhaltliche als auch personelle Neuausrichtung der hessischen Liberalen. Nachdem dem Fraktionsvorsitzenden René Rock im Sommer 2022 zunächst Stefan Naas als Spitzenkandidat für die Landtagswahl vorgesetzt wurde, erfolgte schließlich nach der Wahlschlappe endgültig die Ablösung an der Fraktionsspitze durch Naas und Knell. Seitdem dominieren wirtschaftspolitische Themen die FDP-Agenda in Hessen, oder wie Naas mantraartig wiederholt: \"eine Wirtschaftswende\". Andere Themen, die die Bürger ebenfalls beschäftigen - wie beispielsweise Kinderbetreuung - spielen nur noch eine untergeordnete Rolle in der Fraktion. Mit diesem Fokus mag man zwar bei den Stammwählern punkten, anderes Wählerklientel lässt sich damit aber offenbar nicht aktivieren. Zumindest lassen die letzten Landtagswahlergebnisse und die neuesten Umfrageergebnisse aus Hessen darauf schließen, die Liberalen kratzen beharrlich nah an fünf Prozentpunkten. Und anders als die positiven Worte der hessischen FDP-Spitzen suggerieren, ist der Wiedereinzug in den Bundestag stark gefährdet.\\nHinzu kommt: Anders als noch mit der SPD hat die FDP mit den Grünen keine inhaltlichen Schnittmengen, um in Hessen auch aus der Opposition heraus etwas zu bewegen. Das mit gegenseitigen Vorwürfen gespickte Ampel-Aus hat die Stimmung zwischen beiden Parteien sicher nicht verbessert - auch wenn die rheinland-pfälzischen Ampel-Spitzen sofort geschlossen auftraten. Der innerparteiliche Richtungsstreit der hessischen Liberalen, auch über die Frage, ob man inhaltlich doch auch mal mit den Grünen paktieren könnte, wurde vor Kurzem offen im Landtag offenbar: Während sich Fraktionschef Naas vor den Kameras gemeinsam mit Grünen-Fraktionschef Mathias Wagner vehement für einen Untersuchungsausschuss zur Entlassungsaffäre von Ex-Staatssekretärin Lamia Messari-Becker aus dem SPD-geführten Wirtschaftsministerium eintrat, spielten bei der Abstimmung darüber im Landtagsplenum nicht alle Parteikollegen mit.\\nEin offener Eklat auf landespolitischer Bühne, als sich drei der acht FDP-Abgeordneten bei der Abstimmung gegen den Untersuchungsausschuss stellten - darunter Ex-Fraktionschef Rock. Die Fraktionsspitze wird sich danach künftig sicher genau überlegen, ob sie nochmal mit dem grünen Intimfeind paktiert. Zumindest muss man in Hessen nach dem Ampel-Aus nicht mehr auf die bundespolitische Zusammenarbeit Rücksicht nehmen. Die hessische FDP stünde \"geschlossen\" hinter Parteichef und Ex-Finanzminister Linder, betont Knell.\\nVorderer Listenplatz für Bettina Stark-Watzinger?\\nAuch die hessischen Jungen Liberalen haben sich bei ihren Vorstandswahlen am vergangenen Wochenende hinter Lindner gestellt. Der wiedergewählte Vorsitzende, Tim Hordorff, erklärt: \"Seit Mittwoch sind wir Liberalen im Wahlkampfmodus. Statt zurück auf die Zeit der Ampel zu blicken, kämpfen wir jetzt für eine liberale Wende in diesem Land.\" Auch die FDP-Landesvorsitzende und Ex-Bundesbildungsministerin Bettina Stark-Watzinger wurde von den Julis mit viel Applaus empfangen. Interessant wird sein, welche Rolle sie nach dem Ampel-Aus künftig in Hessen spielen wird. Ende November ist geplant, auf dem FDP-Landesparteitag in Wetzlar die Liste für die Bundestagswahl aufzustellen. Bei der Wahl 2021 - bei der die Liberalen noch 11,4 Prozent erhielten - zog sie über den ersten Landeslisten-Platz in den Bundestag ein. Immerhin: Während Stark-Watzinger in den vergangenen Monaten stark als Bundesbildungsministerin in Berlin gefordert war, wird sie mutmaßlich künftig mehr Zeit haben, sich um hessische Inhalte zu kümmern.\\n\\nLoad-Date:\\xa0November 12, 2024\\n\\n\\nEnd of Document\\n\\n\\n\\n\\n\\n\\nDie Angst vor dem Abstieg geht um; Hessische FDP hat inhaltlich und personell einen Kurswechsel vollzogen / Rechnung scheint aber nicht aufzugehen\\nBürstädter Zeitung (Germany)\\nMittwoch 13. November 2024\\n\\n\\nCopyright 2024 VRM GmbH & Co. KG Alle Rechte Vorbehalten\\n\\n\\nSection:\\xa0REGION; ; S. 5\\nLength:\\xa0766 words\\nByline:\\xa0Nele Leubner\\nBody\\n\\n\\nWIESBADEN. Die angespannten Gesichter sprachen Bände am vergangenen Donnerstag. Trüb ist das Wetter, trüb auch die Stimmung nach dem lautstarken Berliner Ampel-Aus am Abend zuvor. Als die Spitzen der hessischen Liberalen vor die Presse treten - Generalsekretär Moritz Promny, die Fraktionschefs Wiebke Knell und Stefan Naas - geben sie sich zwar wortreich zuversichtlich (Promny: \"Ich bin zuversichtlich, dass wir nächstes Jahr in den Bundestag einziehen\"; Knell: \"Die Stimmung in der FDP ist optimistisch, wie schon seit Monaten nicht mehr\"). Nur die Mimik mag nicht zum Gesagten passen. Die Angst vor dem finalen Abstieg geht um.\\nIn Hessen hat die Partei eine Talfahrt und einen Richtungsstreit hinter sich, der dauernde Ampel-Streit auf bundespolitischer Ebene hat es nicht besser gemacht - die Lage ist durchwachsen. Bei der Landtagswahl vor rund einem Jahr hatte die Partei die Fünf-Prozent-Hürde nur gerade so geschafft und ist um drei Abgeordnete auf nur noch acht geschrumpft.\\nHessen-FDP kratzt an der 5-Prozent-Hürde\\nDem vorausgegangen waren eine sowohl inhaltliche als auch personelle Neuausrichtung der hessischen Liberalen. Nachdem dem Fraktionsvorsitzenden René Rock im Sommer 2022 zunächst Stefan Naas als Spitzenkandidat für die Landtagswahl vorgesetzt wurde, erfolgte schließlich nach der Wahlschlappe endgültig die Ablösung an der Fraktionsspitze durch Naas und Knell. Seitdem dominieren wirtschaftspolitische Themen die FDP-Agenda in Hessen, oder wie Naas mantraartig wiederholt: \"eine Wirtschaftswende\". Andere Themen, die die Bürger ebenfalls beschäftigen - wie beispielsweise Kinderbetreuung - spielen nur noch eine untergeordnete Rolle in der Fraktion. Mit diesem Fokus mag man zwar bei den Stammwählern punkten, anderes Wählerklientel lässt sich damit aber offenbar nicht aktivieren. Zumindest lassen die letzten Landtagswahlergebnisse und die neuesten Umfrageergebnisse aus Hessen darauf schließen, die Liberalen kratzen beharrlich nah an fünf Prozentpunkten. Und anders als die positiven Worte der hessischen FDP-Spitzen suggerieren, ist der Wiedereinzug in den Bundestag stark gefährdet.\\nHinzu kommt: Anders als noch mit der SPD hat die FDP mit den Grünen keine inhaltlichen Schnittmengen, um in Hessen auch aus der Opposition heraus etwas zu bewegen. Das mit gegenseitigen Vorwürfen gespickte Ampel-Aus hat die Stimmung zwischen beiden Parteien sicher nicht verbessert - auch wenn die rheinland-pfälzischen Ampel-Spitzen sofort geschlossen auftraten. Der innerparteiliche Richtungsstreit der hessischen Liberalen, auch über die Frage, ob man inhaltlich doch auch mal mit den Grünen paktieren könnte, wurde vor Kurzem offen im Landtag offenbar: Während sich Fraktionschef Naas vor den Kameras gemeinsam mit Grünen-Fraktionschef Mathias Wagner vehement für einen Untersuchungsausschuss zur Entlassungsaffäre von Ex-Staatssekretärin Lamia Messari-Becker aus dem SPD-geführten Wirtschaftsministerium eintrat, spielten bei der Abstimmung darüber im Landtagsplenum nicht alle Parteikollegen mit.\\nEin offener Eklat auf landespolitischer Bühne, als sich drei der acht FDP-Abgeordneten bei der Abstimmung gegen den Untersuchungsausschuss stellten - darunter Ex-Fraktionschef Rock. Die Fraktionsspitze wird sich danach künftig sicher genau überlegen, ob sie nochmal mit dem grünen Intimfeind paktiert. Zumindest muss man in Hessen nach dem Ampel-Aus nicht mehr auf die bundespolitische Zusammenarbeit Rücksicht nehmen. Die hessische FDP stünde \"geschlossen\" hinter Parteichef und Ex-Finanzminister Linder, betont Knell.\\nVorderer Listenplatz für Bettina Stark-Watzinger?\\nAuch die hessischen Jungen Liberalen haben sich bei ihren Vorstandswahlen am vergangenen Wochenende hinter Lindner gestellt. Der wiedergewählte Vorsitzende, Tim Hordorff, erklärt: \"Seit Mittwoch sind wir Liberalen im Wahlkampfmodus. Statt zurück auf die Zeit der Ampel zu blicken, kämpfen wir jetzt für eine liberale Wende in diesem Land.\" Auch die FDP-Landesvorsitzende und Ex-Bundesbildungsministerin Bettina Stark-Watzinger wurde von den Julis mit viel Applaus empfangen. Interessant wird sein, welche Rolle sie nach dem Ampel-Aus künftig in Hessen spielen wird. Ende November ist geplant, auf dem FDP-Landesparteitag in Wetzlar die Liste für die Bundestagswahl aufzustellen. Bei der Wahl 2021 - bei der die Liberalen noch 11,4 Prozent erhielten - zog sie über den ersten Landeslisten-Platz in den Bundestag ein. Immerhin: Während Stark-Watzinger in den vergangenen Monaten stark als Bundesbildungsministerin in Berlin gefordert war, wird sie mutmaßlich künftig mehr Zeit haben, sich um hessische Inhalte zu kümmern.\\n\\nLoad-Date:\\xa0November 12, 2024\\n\\n\\nEnd of Document\\n\\n\\n\\n\\n\\n\\nDie Angst vor dem Abstieg geht um; Hessische FDP hat inhaltlich und personell einen Kurswechsel vollzogen / Rechnung scheint aber nicht aufzugehen\\nOdenwälder Echo\\nMittwoch 13. November 2024\\n\\n\\nCopyright 2024 Echo Zeitungen GmbH Alle Rechte Vorbehalten\\n\\n\\nSection:\\xa0REGION; ODENWÄLDER ECHO; S. 5\\nLength:\\xa0766 words\\nByline:\\xa0Nele Leubner\\nBody\\n\\n\\nWIESBADEN. Die angespannten Gesichter sprachen Bände am vergangenen Donnerstag. Trüb ist das Wetter, trüb auch die Stimmung nach dem lautstarken Berliner Ampel-Aus am Abend zuvor. Als die Spitzen der hessischen Liberalen vor die Presse treten - Generalsekretär Moritz Promny, die Fraktionschefs Wiebke Knell und Stefan Naas - geben sie sich zwar wortreich zuversichtlich (Promny: \"Ich bin zuversichtlich, dass wir nächstes Jahr in den Bundestag einziehen\"; Knell: \"Die Stimmung in der FDP ist optimistisch, wie schon seit Monaten nicht mehr\"). Nur die Mimik mag nicht zum Gesagten passen. Die Angst vor dem finalen Abstieg geht um.\\nIn Hessen hat die Partei eine Talfahrt und einen Richtungsstreit hinter sich, der dauernde Ampel-Streit auf bundespolitischer Ebene hat es nicht besser gemacht - die Lage ist durchwachsen. Bei der Landtagswahl vor rund einem Jahr hatte die Partei die Fünf-Prozent-Hürde nur gerade so geschafft und ist um drei Abgeordnete auf nur noch acht geschrumpft.\\nHessen-FDP kratzt an der 5-Prozent-Hürde\\nDem vorausgegangen waren eine sowohl inhaltliche als auch personelle Neuausrichtung der hessischen Liberalen. Nachdem dem Fraktionsvorsitzenden René Rock im Sommer 2022 zunächst Stefan Naas als Spitzenkandidat für die Landtagswahl vorgesetzt wurde, erfolgte schließlich nach der Wahlschlappe endgültig die Ablösung an der Fraktionsspitze durch Naas und Knell. Seitdem dominieren wirtschaftspolitische Themen die FDP-Agenda in Hessen, oder wie Naas mantraartig wiederholt: \"eine Wirtschaftswende\". Andere Themen, die die Bürger ebenfalls beschäftigen - wie beispielsweise Kinderbetreuung - spielen nur noch eine untergeordnete Rolle in der Fraktion. Mit diesem Fokus mag man zwar bei den Stammwählern punkten, anderes Wählerklientel lässt sich damit aber offenbar nicht aktivieren. Zumindest lassen die letzten Landtagswahlergebnisse und die neuesten Umfrageergebnisse aus Hessen darauf schließen, die Liberalen kratzen beharrlich nah an fünf Prozentpunkten. Und anders als die positiven Worte der hessischen FDP-Spitzen suggerieren, ist der Wiedereinzug in den Bundestag stark gefährdet.\\nHinzu kommt: Anders als noch mit der SPD hat die FDP mit den Grünen keine inhaltlichen Schnittmengen, um in Hessen auch aus der Opposition heraus etwas zu bewegen. Das mit gegenseitigen Vorwürfen gespickte Ampel-Aus hat die Stimmung zwischen beiden Parteien sicher nicht verbessert - auch wenn die rheinland-pfälzischen Ampel-Spitzen sofort geschlossen auftraten. Der innerparteiliche Richtungsstreit der hessischen Liberalen, auch über die Frage, ob man inhaltlich doch auch mal mit den Grünen paktieren könnte, wurde vor Kurzem offen im Landtag offenbar: Während sich Fraktionschef Naas vor den Kameras gemeinsam mit Grünen-Fraktionschef Mathias Wagner vehement für einen Untersuchungsausschuss zur Entlassungsaffäre von Ex-Staatssekretärin Lamia Messari-Becker aus dem SPD-geführten Wirtschaftsministerium eintrat, spielten bei der Abstimmung darüber im Landtagsplenum nicht alle Parteikollegen mit.\\nEin offener Eklat auf landespolitischer Bühne, als sich drei der acht FDP-Abgeordneten bei der Abstimmung gegen den Untersuchungsausschuss stellten - darunter Ex-Fraktionschef Rock. Die Fraktionsspitze wird sich danach künftig sicher genau überlegen, ob sie nochmal mit dem grünen Intimfeind paktiert. Zumindest muss man in Hessen nach dem Ampel-Aus nicht mehr auf die bundespolitische Zusammenarbeit Rücksicht nehmen. Die hessische FDP stünde \"geschlossen\" hinter Parteichef und Ex-Finanzminister Linder, betont Knell.\\nVorderer Listenplatz für Bettina Stark-Watzinger?\\nAuch die hessischen Jungen Liberalen haben sich bei ihren Vorstandswahlen am vergangenen Wochenende hinter Lindner gestellt. Der wiedergewählte Vorsitzende, Tim Hordorff, erklärt: \"Seit Mittwoch sind wir Liberalen im Wahlkampfmodus. Statt zurück auf die Zeit der Ampel zu blicken, kämpfen wir jetzt für eine liberale Wende in diesem Land.\" Auch die FDP-Landesvorsitzende und Ex-Bundesbildungsministerin Bettina Stark-Watzinger wurde von den Julis mit viel Applaus empfangen. Interessant wird sein, welche Rolle sie nach dem Ampel-Aus künftig in Hessen spielen wird. Ende November ist geplant, auf dem FDP-Landesparteitag in Wetzlar die Liste für die Bundestagswahl aufzustellen. Bei der Wahl 2021 - bei der die Liberalen noch 11,4 Prozent erhielten - zog sie über den ersten Landeslisten-Platz in den Bundestag ein. Immerhin: Während Stark-Watzinger in den vergangenen Monaten stark als Bundesbildungsministerin in Berlin gefordert war, wird sie mutmaßlich künftig mehr Zeit haben, sich um hessische Inhalte zu kümmern.\\n\\nLoad-Date:\\xa0November 12, 2024\\n\\n\\nEnd of Document\\n\\n\\n\\n\\n\\n\\nDie Angst vor dem Abstieg geht um; Hessische FDP hat inhaltlich und personell einen Kurswechsel vollzogen / Rechnung scheint aber nicht aufzugehen\\nGroß-Gerauer Echo\\nMittwoch 13. November 2024\\n\\n\\nCopyright 2024 Echo Zeitungen GmbH Alle Rechte Vorbehalten\\n\\n\\nSection:\\xa0REGION; GROSS-GERAUER ECHO; S. 5\\nLength:\\xa0766 words\\nByline:\\xa0Nele Leubner\\nBody\\n\\n\\nWIESBADEN. Die angespannten Gesichter sprachen Bände am vergangenen Donnerstag. Trüb ist das Wetter, trüb auch die Stimmung nach dem lautstarken Berliner Ampel-Aus am Abend zuvor. Als die Spitzen der hessischen Liberalen vor die Presse treten - Generalsekretär Moritz Promny, die Fraktionschefs Wiebke Knell und Stefan Naas - geben sie sich zwar wortreich zuversichtlich (Promny: \"Ich bin zuversichtlich, dass wir nächstes Jahr in den Bundestag einziehen\"; Knell: \"Die Stimmung in der FDP ist optimistisch, wie schon seit Monaten nicht mehr\"). Nur die Mimik mag nicht zum Gesagten passen. Die Angst vor dem finalen Abstieg geht um.\\nIn Hessen hat die Partei eine Talfahrt und einen Richtungsstreit hinter sich, der dauernde Ampel-Streit auf bundespolitischer Ebene hat es nicht besser gemacht - die Lage ist durchwachsen. Bei der Landtagswahl vor rund einem Jahr hatte die Partei die Fünf-Prozent-Hürde nur gerade so geschafft und ist um drei Abgeordnete auf nur noch acht geschrumpft.\\nHessen-FDP kratzt an der 5-Prozent-Hürde\\nDem vorausgegangen waren eine sowohl inhaltliche als auch personelle Neuausrichtung der hessischen Liberalen. Nachdem dem Fraktionsvorsitzenden René Rock im Sommer 2022 zunächst Stefan Naas als Spitzenkandidat für die Landtagswahl vorgesetzt wurde, erfolgte schließlich nach der Wahlschlappe endgültig die Ablösung an der Fraktionsspitze durch Naas und Knell. Seitdem dominieren wirtschaftspolitische Themen die FDP-Agenda in Hessen, oder wie Naas mantraartig wiederholt: \"eine Wirtschaftswende\". Andere Themen, die die Bürger ebenfalls beschäftigen - wie beispielsweise Kinderbetreuung - spielen nur noch eine untergeordnete Rolle in der Fraktion. Mit diesem Fokus mag man zwar bei den Stammwählern punkten, anderes Wählerklientel lässt sich damit aber offenbar nicht aktivieren. Zumindest lassen die letzten Landtagswahlergebnisse und die neuesten Umfrageergebnisse aus Hessen darauf schließen, die Liberalen kratzen beharrlich nah an fünf Prozentpunkten. Und anders als die positiven Worte der hessischen FDP-Spitzen suggerieren, ist der Wiedereinzug in den Bundestag stark gefährdet.\\nHinzu kommt: Anders als noch mit der SPD hat die FDP mit den Grünen keine inhaltlichen Schnittmengen, um in Hessen auch aus der Opposition heraus etwas zu bewegen. Das mit gegenseitigen Vorwürfen gespickte Ampel-Aus hat die Stimmung zwischen beiden Parteien sicher nicht verbessert - auch wenn die rheinland-pfälzischen Ampel-Spitzen sofort geschlossen auftraten. Der innerparteiliche Richtungsstreit der hessischen Liberalen, auch über die Frage, ob man inhaltlich doch auch mal mit den Grünen paktieren könnte, wurde vor Kurzem offen im Landtag offenbar: Während sich Fraktionschef Naas vor den Kameras gemeinsam mit Grünen-Fraktionschef Mathias Wagner vehement für einen Untersuchungsausschuss zur Entlassungsaffäre von Ex-Staatssekretärin Lamia Messari-Becker aus dem SPD-geführten Wirtschaftsministerium eintrat, spielten bei der Abstimmung darüber im Landtagsplenum nicht alle Parteikollegen mit.\\nEin offener Eklat auf landespolitischer Bühne, als sich drei der acht FDP-Abgeordneten bei der Abstimmung gegen den Untersuchungsausschuss stellten - darunter Ex-Fraktionschef Rock. Die Fraktionsspitze wird sich danach künftig sicher genau überlegen, ob sie nochmal mit dem grünen Intimfeind paktiert. Zumindest muss man in Hessen nach dem Ampel-Aus nicht mehr auf die bundespolitische Zusammenarbeit Rücksicht nehmen. Die hessische FDP stünde \"geschlossen\" hinter Parteichef und Ex-Finanzminister Linder, betont Knell.\\nVorderer Listenplatz für Bettina Stark-Watzinger?\\nAuch die hessischen Jungen Liberalen haben sich bei ihren Vorstandswahlen am vergangenen Wochenende hinter Lindner gestellt. Der wiedergewählte Vorsitzende, Tim Hordorff, erklärt: \"Seit Mittwoch sind wir Liberalen im Wahlkampfmodus. Statt zurück auf die Zeit der Ampel zu blicken, kämpfen wir jetzt für eine liberale Wende in diesem Land.\" Auch die FDP-Landesvorsitzende und Ex-Bundesbildungsministerin Bettina Stark-Watzinger wurde von den Julis mit viel Applaus empfangen. Interessant wird sein, welche Rolle sie nach dem Ampel-Aus künftig in Hessen spielen wird. Ende November ist geplant, auf dem FDP-Landesparteitag in Wetzlar die Liste für die Bundestagswahl aufzustellen. Bei der Wahl 2021 - bei der die Liberalen noch 11,4 Prozent erhielten - zog sie über den ersten Landeslisten-Platz in den Bundestag ein. Immerhin: Während Stark-Watzinger in den vergangenen Monaten stark als Bundesbildungsministerin in Berlin gefordert war, wird sie mutmaßlich künftig mehr Zeit haben, sich um hessische Inhalte zu kümmern.\\n\\nLoad-Date:\\xa0November 12, 2024\\n\\n\\nEnd of Document\\n\\n\\n\\n\\n\\n\\nDie Angst vor dem Abstieg geht um; Hessische FDP hat inhaltlich und personell einen Kurswechsel vollzogen / Rechnung scheint aber nicht aufzugehen\\nWiesbadener Kurier (Germany)\\nMittwoch 13. November 2024\\n\\n\\nCopyright 2024 VRM GmbH & Co. KG Alle Rechte Vorbehalten\\n\\n\\nSection:\\xa0REGION; WIESBADENER KURIER STADTAUSGABE; S. 5\\nLength:\\xa0766 words\\nByline:\\xa0Nele Leubner\\nBody\\n\\n\\nWIESBADEN. Die angespannten Gesichter sprachen Bände am vergangenen Donnerstag. Trüb ist das Wetter, trüb auch die Stimmung nach dem lautstarken Berliner Ampel-Aus am Abend zuvor. Als die Spitzen der hessischen Liberalen vor die Presse treten - Generalsekretär Moritz Promny, die Fraktionschefs Wiebke Knell und Stefan Naas - geben sie sich zwar wortreich zuversichtlich (Promny: \"Ich bin zuversichtlich, dass wir nächstes Jahr in den Bundestag einziehen\"; Knell: \"Die Stimmung in der FDP ist optimistisch, wie schon seit Monaten nicht mehr\"). Nur die Mimik mag nicht zum Gesagten passen. Die Angst vor dem finalen Abstieg geht um.\\nIn Hessen hat die Partei eine Talfahrt und einen Richtungsstreit hinter sich, der dauernde Ampel-Streit auf bundespolitischer Ebene hat es nicht besser gemacht - die Lage ist durchwachsen. Bei der Landtagswahl vor rund einem Jahr hatte die Partei die Fünf-Prozent-Hürde nur gerade so geschafft und ist um drei Abgeordnete auf nur noch acht geschrumpft.\\nHessen-FDP kratzt an der 5-Prozent-Hürde\\nDem vorausgegangen waren eine sowohl inhaltliche als auch personelle Neuausrichtung der hessischen Liberalen. Nachdem dem Fraktionsvorsitzenden René Rock im Sommer 2022 zunächst Stefan Naas als Spitzenkandidat für die Landtagswahl vorgesetzt wurde, erfolgte schließlich nach der Wahlschlappe endgültig die Ablösung an der Fraktionsspitze durch Naas und Knell. Seitdem dominieren wirtschaftspolitische Themen die FDP-Agenda in Hessen, oder wie Naas mantraartig wiederholt: \"eine Wirtschaftswende\". Andere Themen, die die Bürger ebenfalls beschäftigen - wie beispielsweise Kinderbetreuung - spielen nur noch eine untergeordnete Rolle in der Fraktion. Mit diesem Fokus mag man zwar bei den Stammwählern punkten, anderes Wählerklientel lässt sich damit aber offenbar nicht aktivieren. Zumindest lassen die letzten Landtagswahlergebnisse und die neuesten Umfrageergebnisse aus Hessen darauf schließen, die Liberalen kratzen beharrlich nah an fünf Prozentpunkten. Und anders als die positiven Worte der hessischen FDP-Spitzen suggerieren, ist der Wiedereinzug in den Bundestag stark gefährdet.\\nHinzu kommt: Anders als noch mit der SPD hat die FDP mit den Grünen keine inhaltlichen Schnittmengen, um in Hessen auch aus der Opposition heraus etwas zu bewegen. Das mit gegenseitigen Vorwürfen gespickte Ampel-Aus hat die Stimmung zwischen beiden Parteien sicher nicht verbessert - auch wenn die rheinland-pfälzischen Ampel-Spitzen sofort geschlossen auftraten. Der innerparteiliche Richtungsstreit der hessischen Liberalen, auch über die Frage, ob man inhaltlich doch auch mal mit den Grünen paktieren könnte, wurde vor Kurzem offen im Landtag offenbar: Während sich Fraktionschef Naas vor den Kameras gemeinsam mit Grünen-Fraktionschef Mathias Wagner vehement für einen Untersuchungsausschuss zur Entlassungsaffäre von Ex-Staatssekretärin Lamia Messari-Becker aus dem SPD-geführten Wirtschaftsministerium eintrat, spielten bei der Abstimmung darüber im Landtagsplenum nicht alle Parteikollegen mit.\\nEin offener Eklat auf landespolitischer Bühne, als sich drei der acht FDP-Abgeordneten bei der Abstimmung gegen den Untersuchungsausschuss stellten - darunter Ex-Fraktionschef Rock. Die Fraktionsspitze wird sich danach künftig sicher genau überlegen, ob sie nochmal mit dem grünen Intimfeind paktiert. Zumindest muss man in Hessen nach dem Ampel-Aus nicht mehr auf die bundespolitische Zusammenarbeit Rücksicht nehmen. Die hessische FDP stünde \"geschlossen\" hinter Parteichef und Ex-Finanzminister Linder, betont Knell.\\nVorderer Listenplatz für Bettina Stark-Watzinger?\\nAuch die hessischen Jungen Liberalen haben sich bei ihren Vorstandswahlen am vergangenen Wochenende hinter Lindner gestellt. Der wiedergewählte Vorsitzende, Tim Hordorff, erklärt: \"Seit Mittwoch sind wir Liberalen im Wahlkampfmodus. Statt zurück auf die Zeit der Ampel zu blicken, kämpfen wir jetzt für eine liberale Wende in diesem Land.\" Auch die FDP-Landesvorsitzende und Ex-Bundesbildungsministerin Bettina Stark-Watzinger wurde von den Julis mit viel Applaus empfangen. Interessant wird sein, welche Rolle sie nach dem Ampel-Aus künftig in Hessen spielen wird. Ende November ist geplant, auf dem FDP-Landesparteitag in Wetzlar die Liste für die Bundestagswahl aufzustellen. Bei der Wahl 2021 - bei der die Liberalen noch 11,4 Prozent erhielten - zog sie über den ersten Landeslisten-Platz in den Bundestag ein. Immerhin: Während Stark-Watzinger in den vergangenen Monaten stark als Bundesbildungsministerin in Berlin gefordert war, wird sie mutmaßlich künftig mehr Zeit haben, sich um hessische Inhalte zu kümmern.\\n\\nLoad-Date:\\xa0November 12, 2024\\n\\n\\nEnd of Document\\n\\n\\n\\n\\n\\n\\nDie Angst vor dem Abstieg geht um; Hessische FDP hat inhaltlich und personell einen Kurswechsel vollzogen / Rechnung scheint aber nicht aufzugehen\\nStarkenburger Echo\\nMittwoch 13. November 2024\\n\\n\\nCopyright 2024 Echo Zeitungen GmbH Alle Rechte Vorbehalten\\n\\n\\nSection:\\xa0REGION; ; S. 5\\nLength:\\xa0766 words\\nByline:\\xa0Nele Leubner\\nBody\\n\\n\\nWIESBADEN. Die angespannten Gesichter sprachen Bände am vergangenen Donnerstag. Trüb ist das Wetter, trüb auch die Stimmung nach dem lautstarken Berliner Ampel-Aus am Abend zuvor. Als die Spitzen der hessischen Liberalen vor die Presse treten - Generalsekretär Moritz Promny, die Fraktionschefs Wiebke Knell und Stefan Naas - geben sie sich zwar wortreich zuversichtlich (Promny: \"Ich bin zuversichtlich, dass wir nächstes Jahr in den Bundestag einziehen\"; Knell: \"Die Stimmung in der FDP ist optimistisch, wie schon seit Monaten nicht mehr\"). Nur die Mimik mag nicht zum Gesagten passen. Die Angst vor dem finalen Abstieg geht um.\\nIn Hessen hat die Partei eine Talfahrt und einen Richtungsstreit hinter sich, der dauernde Ampel-Streit auf bundespolitischer Ebene hat es nicht besser gemacht - die Lage ist durchwachsen. Bei der Landtagswahl vor rund einem Jahr hatte die Partei die Fünf-Prozent-Hürde nur gerade so geschafft und ist um drei Abgeordnete auf nur noch acht geschrumpft.\\nHessen-FDP kratzt an der 5-Prozent-Hürde\\nDem vorausgegangen waren eine sowohl inhaltliche als auch personelle Neuausrichtung der hessischen Liberalen. Nachdem dem Fraktionsvorsitzenden René Rock im Sommer 2022 zunächst Stefan Naas als Spitzenkandidat für die Landtagswahl vorgesetzt wurde, erfolgte schließlich nach der Wahlschlappe endgültig die Ablösung an der Fraktionsspitze durch Naas und Knell. Seitdem dominieren wirtschaftspolitische Themen die FDP-Agenda in Hessen, oder wie Naas mantraartig wiederholt: \"eine Wirtschaftswende\". Andere Themen, die die Bürger ebenfalls beschäftigen - wie beispielsweise Kinderbetreuung - spielen nur noch eine untergeordnete Rolle in der Fraktion. Mit diesem Fokus mag man zwar bei den Stammwählern punkten, anderes Wählerklientel lässt sich damit aber offenbar nicht aktivieren. Zumindest lassen die letzten Landtagswahlergebnisse und die neuesten Umfrageergebnisse aus Hessen darauf schließen, die Liberalen kratzen beharrlich nah an fünf Prozentpunkten. Und anders als die positiven Worte der hessischen FDP-Spitzen suggerieren, ist der Wiedereinzug in den Bundestag stark gefährdet.\\nHinzu kommt: Anders als noch mit der SPD hat die FDP mit den Grünen keine inhaltlichen Schnittmengen, um in Hessen auch aus der Opposition heraus etwas zu bewegen. Das mit gegenseitigen Vorwürfen gespickte Ampel-Aus hat die Stimmung zwischen beiden Parteien sicher nicht verbessert - auch wenn die rheinland-pfälzischen Ampel-Spitzen sofort geschlossen auftraten. Der innerparteiliche Richtungsstreit der hessischen Liberalen, auch über die Frage, ob man inhaltlich doch auch mal mit den Grünen paktieren könnte, wurde vor Kurzem offen im Landtag offenbar: Während sich Fraktionschef Naas vor den Kameras gemeinsam mit Grünen-Fraktionschef Mathias Wagner vehement für einen Untersuchungsausschuss zur Entlassungsaffäre von Ex-Staatssekretärin Lamia Messari-Becker aus dem SPD-geführten Wirtschaftsministerium eintrat, spielten bei der Abstimmung darüber im Landtagsplenum nicht alle Parteikollegen mit.\\nEin offener Eklat auf landespolitischer Bühne, als sich drei der acht FDP-Abgeordneten bei der Abstimmung gegen den Untersuchungsausschuss stellten - darunter Ex-Fraktionschef Rock. Die Fraktionsspitze wird sich danach künftig sicher genau überlegen, ob sie nochmal mit dem grünen Intimfeind paktiert. Zumindest muss man in Hessen nach dem Ampel-Aus nicht mehr auf die bundespolitische Zusammenarbeit Rücksicht nehmen. Die hessische FDP stünde \"geschlossen\" hinter Parteichef und Ex-Finanzminister Linder, betont Knell.\\nVorderer Listenplatz für Bettina Stark-Watzinger?\\nAuch die hessischen Jungen Liberalen haben sich bei ihren Vorstandswahlen am vergangenen Wochenende hinter Lindner gestellt. Der wiedergewählte Vorsitzende, Tim Hordorff, erklärt: \"Seit Mittwoch sind wir Liberalen im Wahlkampfmodus. Statt zurück auf die Zeit der Ampel zu blicken, kämpfen wir jetzt für eine liberale Wende in diesem Land.\" Auch die FDP-Landesvorsitzende und Ex-Bundesbildungsministerin Bettina Stark-Watzinger wurde von den Julis mit viel Applaus empfangen. Interessant wird sein, welche Rolle sie nach dem Ampel-Aus künftig in Hessen spielen wird. Ende November ist geplant, auf dem FDP-Landesparteitag in Wetzlar die Liste für die Bundestagswahl aufzustellen. Bei der Wahl 2021 - bei der die Liberalen noch 11,4 Prozent erhielten - zog sie über den ersten Landeslisten-Platz in den Bundestag ein. Immerhin: Während Stark-Watzinger in den vergangenen Monaten stark als Bundesbildungsministerin in Berlin gefordert war, wird sie mutmaßlich künftig mehr Zeit haben, sich um hessische Inhalte zu kümmern.\\n\\nLoad-Date:\\xa0November 12, 2024\\n\\n\\nEnd of Document\\n\\n\\n\\n\\n\\n\\nDie Angst vor dem Abstieg geht um; Hessische FDP hat inhaltlich und personell einen Kurswechsel vollzogen / Rechnung scheint aber nicht aufzugehen\\nLampertheimer Zeitung (Germany)\\nMittwoch 13. November 2024\\n\\n\\nCopyright 2024 VRM GmbH & Co. KG Alle Rechte Vorbehalten\\n\\n\\nSection:\\xa0REGION; LAMPERTHEIMER ZEITUNG; S. 5\\nLength:\\xa0766 words\\nByline:\\xa0Nele Leubner\\nBody\\n\\n\\nWIESBADEN. Die angespannten Gesichter sprachen Bände am vergangenen Donnerstag. Trüb ist das Wetter, trüb auch die Stimmung nach dem lautstarken Berliner Ampel-Aus am Abend zuvor. Als die Spitzen der hessischen Liberalen vor die Presse treten - Generalsekretär Moritz Promny, die Fraktionschefs Wiebke Knell und Stefan Naas - geben sie sich zwar wortreich zuversichtlich (Promny: \"Ich bin zuversichtlich, dass wir nächstes Jahr in den Bundestag einziehen\"; Knell: \"Die Stimmung in der FDP ist optimistisch, wie schon seit Monaten nicht mehr\"). Nur die Mimik mag nicht zum Gesagten passen. Die Angst vor dem finalen Abstieg geht um.\\nIn Hessen hat die Partei eine Talfahrt und einen Richtungsstreit hinter sich, der dauernde Ampel-Streit auf bundespolitischer Ebene hat es nicht besser gemacht - die Lage ist durchwachsen. Bei der Landtagswahl vor rund einem Jahr hatte die Partei die Fünf-Prozent-Hürde nur gerade so geschafft und ist um drei Abgeordnete auf nur noch acht geschrumpft.\\nHessen-FDP kratzt an der 5-Prozent-Hürde\\nDem vorausgegangen waren eine sowohl inhaltliche als auch personelle Neuausrichtung der hessischen Liberalen. Nachdem dem Fraktionsvorsitzenden René Rock im Sommer 2022 zunächst Stefan Naas als Spitzenkandidat für die Landtagswahl vorgesetzt wurde, erfolgte schließlich nach der Wahlschlappe endgültig die Ablösung an der Fraktionsspitze durch Naas und Knell. Seitdem dominieren wirtschaftspolitische Themen die FDP-Agenda in Hessen, oder wie Naas mantraartig wiederholt: \"eine Wirtschaftswende\". Andere Themen, die die Bürger ebenfalls beschäftigen - wie beispielsweise Kinderbetreuung - spielen nur noch eine untergeordnete Rolle in der Fraktion. Mit diesem Fokus mag man zwar bei den Stammwählern punkten, anderes Wählerklientel lässt sich damit aber offenbar nicht aktivieren. Zumindest lassen die letzten Landtagswahlergebnisse und die neuesten Umfrageergebnisse aus Hessen darauf schließen, die Liberalen kratzen beharrlich nah an fünf Prozentpunkten. Und anders als die positiven Worte der hessischen FDP-Spitzen suggerieren, ist der Wiedereinzug in den Bundestag stark gefährdet.\\nHinzu kommt: Anders als noch mit der SPD hat die FDP mit den Grünen keine inhaltlichen Schnittmengen, um in Hessen auch aus der Opposition heraus etwas zu bewegen. Das mit gegenseitigen Vorwürfen gespickte Ampel-Aus hat die Stimmung zwischen beiden Parteien sicher nicht verbessert - auch wenn die rheinland-pfälzischen Ampel-Spitzen sofort geschlossen auftraten. Der innerparteiliche Richtungsstreit der hessischen Liberalen, auch über die Frage, ob man inhaltlich doch auch mal mit den Grünen paktieren könnte, wurde vor Kurzem offen im Landtag offenbar: Während sich Fraktionschef Naas vor den Kameras gemeinsam mit Grünen-Fraktionschef Mathias Wagner vehement für einen Untersuchungsausschuss zur Entlassungsaffäre von Ex-Staatssekretärin Lamia Messari-Becker aus dem SPD-geführten Wirtschaftsministerium eintrat, spielten bei der Abstimmung darüber im Landtagsplenum nicht alle Parteikollegen mit.\\nEin offener Eklat auf landespolitischer Bühne, als sich drei der acht FDP-Abgeordneten bei der Abstimmung gegen den Untersuchungsausschuss stellten - darunter Ex-Fraktionschef Rock. Die Fraktionsspitze wird sich danach künftig sicher genau überlegen, ob sie nochmal mit dem grünen Intimfeind paktiert. Zumindest muss man in Hessen nach dem Ampel-Aus nicht mehr auf die bundespolitische Zusammenarbeit Rücksicht nehmen. Die hessische FDP stünde \"geschlossen\" hinter Parteichef und Ex-Finanzminister Linder, betont Knell.\\nVorderer Listenplatz für Bettina Stark-Watzinger?\\nAuch die hessischen Jungen Liberalen haben sich bei ihren Vorstandswahlen am vergangenen Wochenende hinter Lindner gestellt. Der wiedergewählte Vorsitzende, Tim Hordorff, erklärt: \"Seit Mittwoch sind wir Liberalen im Wahlkampfmodus. Statt zurück auf die Zeit der Ampel zu blicken, kämpfen wir jetzt für eine liberale Wende in diesem Land.\" Auch die FDP-Landesvorsitzende und Ex-Bundesbildungsministerin Bettina Stark-Watzinger wurde von den Julis mit viel Applaus empfangen. Interessant wird sein, welche Rolle sie nach dem Ampel-Aus künftig in Hessen spielen wird. Ende November ist geplant, auf dem FDP-Landesparteitag in Wetzlar die Liste für die Bundestagswahl aufzustellen. Bei der Wahl 2021 - bei der die Liberalen noch 11,4 Prozent erhielten - zog sie über den ersten Landeslisten-Platz in den Bundestag ein. Immerhin: Während Stark-Watzinger in den vergangenen Monaten stark als Bundesbildungsministerin in Berlin gefordert war, wird sie mutmaßlich künftig mehr Zeit haben, sich um hessische Inhalte zu kümmern.\\n\\nLoad-Date:\\xa0November 12, 2024\\n\\n\\nEnd of Document\\n\\n\\n\\n\\n\\n\\nAndrang bei den Chemnitzer ,,Ampelparteien\"\\nChemnitzer Morgenpost\\nSamstag 23. November 2024\\n\\n\\nCopyright 2024 DDV Sachsen GmbH Alle Rechte Vorbehalten\\n\\n\\nSection:\\xa0Regionalausgabe ; Chemnitz; S. 4\\nLength:\\xa0301 words\\nBody\\n\\n\\nPDF-Datei dieses Dokuments\\nAufbruchsstimmung im politischen Chemnitz: Die Ampel in Berlin ist seit drei Wochen Geschichte; SPD, Grüne und FDP wittern nach dem Ende der glücklosen Regierungskoalition Morgenluft. Alle drei Parteien vermelden ein großes Interesse bei Neumitgliedschaften im Kreis Chemnitz. ,,Seit dem Ampel-Aus gibt es acht Neueintritte und diverse \\'Anfragen zum Reinschnuppern\\',sagt SPD-Chef Sebastian Reichelt (39). Die \\'Neu-Sozis\\' hätten aber nicht nur das Ampel-Aus als Eintrittsgrund angegeben. \\n\"Es gab auch Leute, die das Scheitern der Brombeer-G äh it espr c em BSW und CDU als Motivation nannten.,, 265 Mitglieder zählt die Chemnitz SPD damit aktuell, bei den Grünen sind es 250. Von zehn Neueintritten und großem Interesse vor allem über Social Media spricht deren Kreis-Vize Coretta Storz (38): \"Wir werden derzeit als ehrliche und verlässliche politische Kraft bei all dem populistischen Gezeter wahrgenommen.,, Die Leute würden sich in eine Politik einbringen wollen, die mit \"Ruhe, Zuversicht und Vernunft gemacht wird,,. Euphorie und Umbruchstimmung auch bei der Chemnitzer FDP. Der gerade wieder frisch gewählte Kreis-Chef Jens Kieselstein (43) freut sich bei 145 liberalen Mitgliedern auch über zehn Neueintritte: \"Dieser Konflikt der Leute, zwischen unseren liberalen Werten und der Politik der Ampel, hat sich ins Gegenteil umgekehrt. Es ist sehr befreiend, jetzt wieder an unseren Themen arbeiten zu können.,, rba Bildunterschrift: Ob der Run auf ein Chemnitzer SPD-Mitgliedsbuch auch nach der entschiedenen Kanzlerkandidatur von Olaf Scholz (66) anhält? FDP-Kreis-Chef Jens Kieselstein (43) Coretta Storz (38),Grünen-Vize, sieht die Zeit nach der Berliner Ampel als Neuanfang für Chemnitz. Zum Chemnitzer SPD-Chef gewählt: Sebastian Reichelt (39).\\nhttps://www.tag24.de/Chemnitz\\n\\nLoad-Date:\\xa0November 23, 2024\\n\\n\\nEnd of Document\\n\\n\\n\\n\\n\\n\\nSPD hofft auf Scholz gegen Merz; Nach dem Ampel-Aus bereiten sich die Parteien auf vorgezogene Neuwahlen vor\\nGeneral-Anzeiger Bonn\\nMontag 11. November 2024\\nGeneral-Anzeiger - Rhein-Sieg-Zeitung Voreifel Ausgabe\\n\\n\\nCopyright 2024 General Anzeiger Bonn GmbH Alle Rechte Vorbehalten\\n\\n\\nSection:\\xa0S. 2\\nLength:\\xa0743 words\\nBody\\n\\n\\nVon Mey Dudin\\nBerlin. Nach dem Aus der Ampel stehen im Bundestag Sitzungswochen ohne klare Mehrheitsverhältnisse bevor. Vor dem Hintergrund wird eine für Mittwoch angekündigte Regierungserklärung von Bundeskanzler Olaf Scholz (SPD) mit Spannung erwartet. Wie sich SPD, Union, Grüne und FDP für die Zeit bis zu den vorgezogenen Neuwahlen aufstellen.\\nDie SPD von Kanzler Scholz plant für den Bundestagswahlkampf eine Zuspitzung auf die Personen Olaf Scholz und Friedrich Merz (CDU). ,,Die Frage für die Wähler wird sein: Scholz oder Merz?\", sagte Parteichef Lars Klingbeil der ,,Zeit Online\". ,,Eine solche Polarisierung in der Mitte hilft auch gegen die Populisten.\" Spekulationen, nach denen Verteidigungsminister Boris Pistorius die Kanzlerkandidatur der SPD übernehmen könne, trat Klingbeil entgegen: ,,Ich glaube nicht an einen Messias-Effekt: Die Kandidatur von Martin Schulz hat 2017 gezeigt, dass eine Person alleine nicht den Erfolg bringt.\"\\nScholz zeigte sich zuletzt gesprächsbereit über den Zeitpunkt einer Vertrauensfrage und der folgenden Neuwahl, nachdem er anfangs den 15. Januar für die Vertrauensfrage genannt hatte. Am Sonntagabend schloss Scholz im ARD-Liveinterview mit Caren Miosga nicht mehr aus, dass er auch noch im Dezember die Vertrauensfrage stellen würde. ,,Dass ich noch vor Weihnachten die Vertrauensfrage stelle, ist für mich überhaupt kein Problem\", sagte er. Allerdings machte er dies davon abhängig, dass sich SPD-Fraktionschef Rolf Mützenich und Oppositionsführer Friedrich Merz auf einen Termin einigen. ,,Ich bin damit einverstanden, wenn das so kommt, weil ich möchte auch, dass es schnell geht.\" Zugleich betonte er: ,,Ich habe das wirklich nicht als Pokerspiel inszeniert.\"\\nDie Union strebt Wahlen bereits am 19. Januar an - und damit einen sehr kurzen Wahlkampf. Aktuell rüstet sich die Union für die Debatte zur Regierungserklärung von Olaf Scholz. Am Mittwoch wollen CDU-Chef Friedrich Merz und der CSU-Vorsitzende Markus Söder auf eine sofortige Vertrauensfrage des Kanzlers bestehen, um den Weg zu Neuwahlen freizumachen. Merz ist erst danach bereit, über die Zustimmung der Union zu Gesetzesvorhaben zu sprechen.\\nDie Grünen hatten sich zuletzt offen für einen früheren Neuwahltermin gezeigt. ,,Wo ich sehr skeptisch bin, ist, ob diese guten oder schlechten Gründe - darüber mag man denken, wie man will - vermengt werden sollten mit der Umsetzung politischer Lieblingsprojekte\", sagte Habeck zugleich. ,,Das scheint mir der herausragenden Bedeutung dieser Vertrauensfrage nicht angemessen zu sein, und so schaue ich da drauf.\"\\nMit Blick auf die bevorstehende Regierungserklärung forderte die Parlamentarische Geschäftsführerin, Irene Mihalic (Grüne), von Scholz klare Ansagen. ,,Ich erwarte, dass der Kanzler die Schritte klar benennt, die bis zu Neuwahlen nötig sind\", sagte sie unserer Redaktion.\\nIhren Angaben nach wollen die Grünen bis zur Neuwahl noch wichtige und unaufschiebbare Gesetzesvorhaben im Bundestag verabschieden. ,,Dazu führen wir mit der SPD und allen anderen demokratischen Fraktionen Gespräche.\" Sie betonte zugleich: ,,Eine Zusammenarbeit mit der AfD ist für uns ausgeschlossen.\" Die Grünen-Fraktion werde nur dann Initiativen zum Abschluss bringen, wenn es für sie gesicherte demokratische Mehrheiten gebe - also ohne die AfD. ,,Dahingehend appelliere ich auch in Richtung Union und FDP, bei Vorhaben im Bundestag keine gemeinsame Sache mit der AfD zu machen.\"\\nDie FDP geht auf Distanz zu den früheren Koalitionspartnern SPD und Grünen. Parteichef Christian Lindner sagte der ,,Frankfurter Allgemeinen Zeitung\" vom Montag: ,,Eine Ampel-Koalition ist ausgeschlossen.\" Nachdem in dieser ,,sich zuspitzenden wirtschaftlichen Krise grundlegende Reformen nicht möglich waren\", wolle er das ganz deutlich sagen, fügte er hinzu.\\nNach den Vorgaben des Grundgesetzes hat es der Kanzler allein in der Hand, den Stein ins Rollen zu bringen: Die von ihm angekündigte Vertrauensfrage ist nach der Verfassung praktisch die einzige Möglichkeit, Neuwahlen einzuleiten.\\nGauck ruft zu Einsatz für Demokratie auf\\nDer frühere Bundespräsident Joachim Gauck (84) hat die Menschen in ganz Deutschland dazu aufgerufen, Freiheit und Demokratie mit Mut gegen autoritäre Kräfte zu verteidigen. ,,Wenn wir Verächtern der liberalen Demokratie unsere Angst schenken, dann gibt es keinen guten Weg in die Zukunft\", sagte Joachim Gauck beim Gedenken an den Mauerfall vor 35 Jahren an der Glienicker Brücke in Potsdam. dpa\\nLink zum PDF\\n\\nLoad-Date:\\xa0November 11, 2024\\n\\n\\nEnd of Document\\n\\n\\n\\n\\n\\n\\nAmpel-Aus verschiebt Sozialreformen; Lauterbach kündigt eine Erhöhung der Beitragssätze an: Kranken- und Pflegeversicherung werden 2025 deutlich teurer\\nGeneral-Anzeiger Bonn\\nSamstag 9. November 2024\\nGeneral-Anzeiger - Rhein-Sieg-Zeitung Voreifel Ausgabe\\n\\n\\nCopyright 2024 General Anzeiger Bonn GmbH Alle Rechte Vorbehalten\\n\\n\\nSection:\\xa0S. 8\\nLength:\\xa0917 words\\nByline:\\xa0Drebes, Jan\\nBody\\n\\n\\nVon Jan Drebes und Antje Höning\\nBerlin. Krankenhaus, Pflege, Rente - mit dem Scheitern der Ampel erhöht sich der Druck auf die Sozialversicherung. Eigentlich stehen zwingend Reformen oder gar Notmaßnahmen an. ,,Wichtige Reformvorhaben wie die Krankenhausreform, die Absicherung der Pflegefinanzierung sowie die dringend benötigte Reform der Notfallversorgung können nicht bis nach der Bundestagswahl warten. Hier brauchen die Bürger Sicherheit\", fordert Carola Reimann, Chefin des AOK-Bundesverbands.\\n▪\\u2005Krankenversicherung: Im Schatten des Ampel-Bruchs veröffentlichte Bundesgesundheitsminister Karl Lauterbach (SPD) schlechte Nachrichten für Kassenpatienten: Der durchschnittliche Zusatzbeitrag soll im nächsten Jahr auf 2,5 Prozent steigen, wie das Ministerium im Bundesanzeiger bekannt gab. Das ist ein Anstieg von 0,8 Prozentpunkten, die Betriebe, Arbeitnehmer beziehungsweise Rentner nun mehr zahlen müssen. Dabei werden die Krankenkassen bis Jahresende festlegen, welchen Zusatzbeitrag sie konkret nehmen. Schon jetzt reicht die Spanne von 0,9 bis über drei Prozent. Der Zusatzbeitrag kommt zum allgemeinen Beitrag von 14,6 Prozent hinzu. Der Schätzerkreis hatte Mitte Oktober seine Prognose vorgelegt. Danach stehen Ausgaben von 341 Milliarden Euro nur Einnahmen von 295 Milliarden gegenüber. Um dieses gewaltige Loch zu stopfen, müssen die Beitragszahler ran.\\nZugleich erhöht die Regierung die Beitragsbemessungsgrenze in der Krankenversicherung: Für Versicherte mit Einkünften an der Grenze (ab 2025: 5512,50 Euro im Monat) erhöht sich der Krankenkassen-Beitrag, den sich Arbeitnehmer und Betrieb teilen, damit im Schnitt insgesamt von bisher 844 auf dann 943 im Monat, wie der Verband der privaten Krankenkassen (PKV) vorrechnet.\\n▪\\u2005Pflegeversicherung: Die Präsidentin des Deutschen Pflegerats, Christine Vogler, nannte das Scheitern der Ampel eine ,,Katastrophe für die Pflege\". Kanzler Scholz habe bei der Aufzählung der Gesetze, die trotz Minderheitsregierung noch bis Weihnachten verabschiedet werden sollen, ,,die Pflege leider vergessen\". Das Scheitern werfe die Versorgung zurück - und ist vor allem ein gewaltiges Finanzproblem. Die Pflegeversicherung würde bereits im Februar zahlungsunfähig, wenn nicht vorher eingegriffen werde, hieß es schon vor wenigen Wochen.\\nLauterbach reagiert und bittet nun die Beitragszahler stärker zur Kasse. Er hebt den Beitragssatz zum 1. Januar um 0,2 Prozentpunkte auf 3,6 Prozent des Bruttolohns an. Für Kinderlose, die stets einen höheren Beitrag zahlen, steigt der Beitragssatz dann auf 4,2 Prozent. ,,Diese Maßnahme ist unmittelbar und dringend notwendig\", sagte der Minister. Die SPD gab der FDP die Schuld für die Anhebung: Man hätte auch versicherungsfremde Leistungen aus Steuermitteln zahlen können, sagte Heike Baehrens, Pflegeexpertin der SPD. ,,Leider hat die FDP auch dieses wichtige Vorhaben blockiert.\" Allerdings war es Lauterbach auch während der Laufzeit der Ampel nie gelungen, solche Mittel loszueisen.\\n▪\\u2005Krankenhäuser: 80 Prozent der Kliniken schreiben rote Zahlen, bundesweit haben Dutzende bereits Insolvenz angemeldet. Mit der umstrittenen Krankenhaus-Reform von Lauterbach sollten auch milliarden-schwere Hilfen verbunden sein. Die sind nun ebenfalls in Gefahr.\\nAm 22. November berät der Bundesrat. Länder wie Bayern und Nordrhein-Westfalen haben bereits angekündigt, für eine Einberufung des Vermittlungsausschusses zu trommeln. Dieser würde die Reform mutmaßlich zurückweisen, der Bundestag könnte das mit Kanzlermehrheit aufheben und die Reform in Kraft setzen - so war der Plan, doch es gibt keine Kanzlermehrheit mehr. Damit droht eine erhebliche Verzögerung und nach einem Regierungswechsel heißt es dann zurück auf Los: Alle Gesetzesvorhaben müssten dann neu gestartet werden.\\nEntsprechend macht das Gesundheitsministerium seit Tagen Druck auf die Länder, damit es gar nicht zur Anrufung des Vermittlungsausschusses kommt. ,,Sollten die Länder das Gesetz blockieren, wird auch kein Geld fließen\", drohte der zuständige Abteilungsleiter von Minister Karl Lauterbach bei einer ,,Handelsblatt\"-Tagung.\\nDie Krankenhäuser reagierten ungewöhnlich scharf: ,,Das ist der Schlussakt eines verzweifelten Ministers, der mit seinem Wortbruch vom gemeinsamen zustimmungspflichtigen Gesetzentwurf gegenüber den Ländern, nun seine Krankenhausreform mit einer Erpressung durchdrücken möchte\", sagte Gerald Gaß, Chef der Deutschen Krankenhausgesellschaft am Freitag. ,,Der selbst ernannte Robin Hood ist tatsächlich der politische Insolvenzvollstrecker der Kliniklandschaft, der mit seiner ideologisch fehlgeleiteten Politik die Krankenhäuser an den Rand der Klippe geschoben hat.\" Gaß appellierte an Lauterbach, er möge nun gemeinsam mit den Ländern und der Union im Bundestag dafür sorgen, dass seine Reform an den zentralen Kritikpunkten nachgebessert werde.\\nEntwicklungen in der Pflegebedürftigkeit\\nDie Zahl der Pflegebedürftigen steigt und steigt. Seit 2003 hat sich die Zahl mehr als verdoppelt von etwa zwei Millionen auf derzeit rund fünf Millionen Menschen. Bis 2055 dürften es wenigstens 6,8 Millionen Pflegebedürftige sein, bei einem weiteren Verständnis von Pflegebedürftigkeit bis hin zu 7,5 Millionen. Grund sind die Alterung der Gesellschaft, aber auch Reformen der Pflegeversicherung, die zu mehr Leistungsempfängern geführt haben.\\nRund 1,7 Millionen Menschen arbeiten in der Pflege. Angesichts der steigenden Zahlen an Pflegebedürftigen fehlen laut Schätzungen in den kommenden 25 Jahren bis zu 690.000 Pflegekräfte. kna\\nLink zum PDF\\n\\nLoad-Date:\\xa0November 11, 2024\\n\\n\\nEnd of Document\\n\\n\\n\\n\\n\\n\\n Der deutschen Wirtschaft fehlt es an Kraft ; Ifo-Index fällt wieder. Stimmung trübt sich ein\\nDie Welt\\nDienstag 26. November 2024 \\n\\n\\nCopyright 2024 Axel Springer AG Alle Rechte Vorbehalten\\n\\n\\nSection:\\xa0FINANZEN; S. 12; Ausg. 230\\nLength:\\xa0368 words\\nByline:\\xa0Rtr\\nBody\\n\\n\\nNach dem Ampel-Aus und der Wiederwahl von Donald Trump hat sich die Stimmung in den Chefetagen der Unternehmen im November eingetrübt. Der Ifo-Geschäftsklimaindex als wichtigstes Barometer für die Konjunktur in Deutschland fiel auf 85,7 Zähler von 86,5 Punkten im Vormonat, wie das Münchner Ifo-Institut am Montag zu seiner Umfrage unter rund 9000 Führungskräften mitteilte. Dies ist der fünfte Rückgang in sechs Monaten, nur im Oktober hatte es einen Anstieg gegeben. Von Reuters befragte Ökonomen hatten für November mit einem Rückgang auf 86,0 Zähler gerechnet. Die Unternehmen beurteilten ihre Geschäftslage und die Aussichten für die kommenden Monate skeptischer als zuletzt.  Der deutschen Wirtschaft fehlt es an Kraft , sagte Ifo-Präsident Clemens Fuest.\\nIm Verarbeitenden Gewerbe und bei den Dienstleistern hat sich das Geschäftsklima verschlechtert. Im Handel konnte der Index erneut zulegen.  Von einer positiven Stimmung sind die Unternehmen aber noch sehr weit entfernt , betonte Fuest. Im Bauhauptgewerbe trübte sich die Laune demnach merklich ein.  Trump-Schock und Ampel-Aus haben nicht zur Beruhigung der Unsicherheit der Unternehmen beigetragen , sagte Ifo-Umfragechef Klaus Wohlrabe. Die FDP hat die Regierungskoalition mit der SPD und den Grünen verlassen. Im Februar soll es Neuwahlen geben.\\nMit dem Sieg von Donald Trump bei der US-Präsidentschaftswahl dürfte der Gegenwind für die Wirtschaft zunehmen. Denn der Republikaner hat im Wahlkampf angekündigt, Strafzölle auf Importe aus Europa zu erheben und dürfte die USA weiter abschotten. Exporteuropameister Deutschland könnte darunter besonders leiden. Im Schlussquartal dürfte es für die deutsche Konjunktur schlechter gelaufen sein als zuvor, sagte LBBW-Analyst Jens-Oliver Niklasch.  Binnenwirtschaftlich herrscht Stillstand, und im Rest der Welt nehmen die Risiken eher zu.  Im nächsten Jahr werde die Wirtschaft erneut schrumpfen.  Das deutsche Bruttoinlandsprodukt dürfte im Winterhalbjahr bestenfalls stagnieren , sagte Commerzbank-Chefökonom Jörg Krämer. Ab dem Frühjahr sei allenfalls eine blutleere Aufwärtsbewegung zu erwarten.  Für das gesamte Jahr 2025 rechne ich nur mit einem Plus von 0,2 Prozent. \\nOriginal Gesamtseiten-PDF\\n\\nLoad-Date:\\xa0November 25, 2024\\n\\n\\nEnd of Document\\n\\n\\n\\n\\n\\n\\n\"Längst überfällig\"; Das Ende der Regierungskoalition in Berlin beschäftigt auch die Menschen in der Landeshauptstadt\\nMain-Spitze (Germany)\\nFreitag 8. November 2024\\n\\n\\nCopyright 2024 VRM GmbH & Co. KG Alle Rechte Vorbehalten\\n\\n\\nSection:\\xa0LOKALES; ; S. 16\\nLength:\\xa0759 words\\nByline:\\xa0Lena Kapp\\nBody\\n\\n\\nMAINZ. Nun ist die Ampel-Regierung also Geschichte. Schlag auf Schlag geht es seit Mittwochabend: Bundeskanzler Olaf Scholz (SPD) entlässt Finanzminister Christian Lindner (FDP), der Mainzer und bisherige Scholz-Berater Jörg Kukies (SPD) wird sein Nachfolger, Verkehrsminister Volker Wissing tritt aus der FDP aus, behält sein bisheriges Ministeramt und wird zusätzlich Justizminister, alle weiteren FDP-Minister treten zurück, Neuwahlen stehen im Raum. Ereignisse über Ereignisse, die auch die Mainzer beschäftigen. Wer am Donnerstagmorgen in der Landeshauptstadt unterwegs ist, sieht viele Menschen, die gebannt auf ihre Nachrichten-Apps blicken, die neuesten Entwicklungen nicht verpassen möchten.\\nKritik am Zeitpunkt des Ampel-Aus’\\nSo wie der 34-jährige Lukas, der gerade auf dem Weg zur Arbeit ist. Als wir ihn ansprechen, erschreckt er sich kurz. So gebannt scheint er zu sein. Was hält er vom Ampel-Aus? \"Ehrlicherweise kommt es für mich nicht überraschend. Seit Ewigkeiten rumort es in der Koalition\", erklärt er. Den Schritt, diese Koalition zu beenden, sei \"längst überfällig\". Der Auftritt der FDP mit einem Christian Lindner an der Spitze, der mit seinem Papier zum künftigen Wirtschaftskurs noch mal \"mehr Öl ins Feuer\" habe gießen wollen, sei in seinen Augen \"nicht förderlich\" gewesen. Ob das Ende der Koalition allerdings ausgerechnet am Tag nach der US-Wahl habe ausgerufen werden müssen: fraglich, meint Lukas.\\nUnsicherheit. Das sei das bestimmende Wort dieser Tage, meint die 57-jährige Barbara. Die Mainzerin runzelt die Stirn. Wie meint sie das? Sie ordnet kurz ihre Gedanken. \"Ich denke, dass sich viele Menschen zurzeit sorgen. Darum, wie es auf der Welt weitergeht. Und jetzt auch in unserem Land.\" Die Trump-Wahl habe ihr \"gerade schon so gereicht\". Jetzt auch noch das Ampel-Aus - es sei gerade einfach etwas zu viel. Barbara sagt: Das Ampel-Aus ist gut. Es sei eine Chance für die SPD. Zumindest, wenn diese \"endlich sichtbarer wird\". Die Rede des Kanzlers am Mittwochabend, in der sich Scholz unter anderem zum Lindner-Rauswurf positionierte, sei jedenfalls eine seiner stärksten gewesen. Auch wenn sie für Barbara offensichtlich schon vorbereitet, die Entlassung des Finanzministers entsprechend ausgemachte Sache gewesen sei. Lindner hatte Scholz am Mittwoch einen kalkulierten Bruch der Koalition vorgeworfen.\\nMutter und Tochter diskutieren über Neuwahlen\\nAm Münsterplatz unterhalten sich zwei Damen. Die eine schüttelt heftig den Kopf, die andere gestikuliert mit den Händen. Einzelne Gesprächsfetzen sind zu hören. Offensichtlich geht es um das Ende der derzeitigen Regierung. Auf die Nachfrage, worüber hier denn so diskutiert wird, antwortet die ältere Dame: \"Meine Tochter und ich sprechen darüber, wann es zu Neuwahlen kommen sollte.\" Scholz hatte am Mittwochabend angekündigt, im Januar die Vertrauensfrage stellen zu wollen, um Neuwahlen herbeizuführen. Die Union fordert diesen Schritt schon deutlich früher, drängt auf Neuwahlen bereits in der zweiten Januarhälfte. Was diskutieren die beiden Frauen genau? \"Ich versuche meine Mutter davon zu überzeugen, dass Neuwahlen zu einem früheren Zeitpunkt Quatsch wären\", erklärt die Tochter. Weshalb? \"Weil das der AfD in die Karten spielen würde und jetzt erst mal etwas Ruhe einkehren muss.\" Sie sehe das anders, sagt die Mutter. Es müsse jetzt schnell etwas passieren, \"damit die Leute nicht weiter den Eindruck haben, in diesem Land werde nicht beherzt angepackt.\"\\n\"FDP hat sich danebenbenommen\"\\nMatthias telefoniert in der Bahn. Seine Frau sei gerade dran gewesen, erzählt er. Sie sei beruflich in Stuttgart, er habe heute Morgen allerdings das Bedürfnis, sich mit ihr auszutauschen. Noch bevor beide in den Arbeitstag starten. Eigentlich machen die beiden das immer am Abend, sagt Matthias. Es sei aber gerade so viel los, dass es nicht warten kann. Dass der Bundesverkehrsminister Volker Wissing im Amt bleibt, allerdings aus der FDP austritt, findet Matthias gut. \"Das musste ich schnell mit meiner Frau besprechen\", schmunzelt er. Früher habe er immer mal die Freien Demokraten gewählt - heute sei das \"undenkbar\". Weshalb sich die FDP in den vergangenen Wochen \"derart daneben benommen\" habe, kann Matthias nicht verstehen. \"Der ohnehin zerstrittenen Ampel hat das nicht gutgetan\", meint er. Dass die FDP nun nicht mehr Teil der Regierung ist, sei gut. Was der Mainzer jedoch kritisiert, sind die gegenseitigen Angriffe aufeinander seitens Lindner und Scholz. \"Wenn es zu persönlich wird, so wie am Mittwochabend in den jeweiligen Statements, ist das schwierig.\" KOMMENTAR\\n\\nLoad-Date:\\xa0November 7, 2024\\n\\n\\nEnd of Document\\n\\n\\n\\n\\n\\n\\nRicarda Lang: Nach Ampel-Bruch: Ex-Grünen-Chefin verspottet FDP\\nNews.de\\nDienstag 3. Dezember 2024\\n\\n\\nCopyright 2024 MM New Media GmbH  Alle Rechte Vorbehalten\\n\\n\\nLength:\\xa0668 words\\nByline:\\xa0ife/gom/news.de\\nBody\\n\\n\\nGeheimes \"D-Day\"-Dokument aufgetaucht\\nGeplanter Ampel-Bruch der FDP: Politiker bestreiten Vorwürfe\\nEx-Grünen-Chefin tritt bei X nach FDP-Debakel nach\\nIst etwas einmal verschriftlicht und zieht seine Kreise, ist es schwer, eine Sache lange zu verheimlichen. Diese Erfahrung musste nun auch die FDP machen. Denn obwohl die Führungsspitze immer wieder beteuerte, einen sogenannten \"D-Day\"-Plan, der zum Bruch mit der Ampel-Koalition führen soll, habe es nie gegeben, tauchen nun Beweise dafür im Netz auf.\\n\"D-Day\"-Ablaufpyramide der FDP im Netz aufgetaucht\\nAuf dem internen FDP-Dokument zu sehen ist eine Pyramide, die als \"D-Day-Ablaufpyramide\" bezeichnet wird. Diese teilt sich in vier Phasen auf. Die \"Bild\"-Zeitung veröffentlichte einen Abdruck des Vier-Phasen-Konstrukts im Netz. Nur komisch, dass bisher alle Vorwürfe, es hätte einen wissentlichen Austrittsplan der FDP überhaupt jemals gegeben, rigoros abgestritten wurden.\\nLesen Sie auch:\\nNach dem Ampel-Aus hilft der Außenministerin nur noch eines\\n Bundeskanzler völlig abgestürzt - Nur ein Politiker ist noch unbeliebter\\n\"Deutschlands frechster Arbeitsloser!\" Netz verspottet FDP-Politiker\\nFDP-Politiker setzen sich mit diesen Statements Hohn und Spott aus\\nFDP-GeneralsekretärBijan Djir-Sarai erklärte zum Beispiel im Interview mit den Medien gegenüber der Presse erst unlängst bezüglich des \"D-Day\"-Begriffs: \"Dieser Begriff ist nicht benutzt worden. Das ist falsch.\" Was die Medien hier unterstellen würden, sei eine \"Frechheit\".\\nDie Chefin der jungen Liberalen, Franziska Brandmann, erklärte erst noch vor wenigen Tagen gegenüber dem \"Spiegel\": \"Ich kenne alle Personen, die bei diesen Gesprächen dabei gewesen sein sollen. Ich habe mit diesen Personen gesprochen. Alle von denen haben mir gegenüber klargemacht, dass sie davon nichts gewusst haben, dass sie das nicht gesagt haben.\"\\nUnd FDP-Vize Wolfgang Kubicki setzt dem ganzen vermeintlichen Lügenkonstrukt gewohnt offensiv die sprichwörtliche Krone auf: \"Ich halte das für eine glatte Lüge. Ich kann definitiv ausschließen, dass die Information stimmt\", erklärte er im Podcast \"The Pioneer\". Es seien alles schlichtweg einfach nur \"Märchen\".\\nMärchenstunde der FDP: So reagiert Ex-Grünen-Chefin Ricarda Lang\\nEs ist ein geflügeltes Sprichwort, dass Politiker gerne einmal zur vermeintlichen Märchenstunde einladen. Dennoch bietet der Fauxpas der FDP Grund genug, dass andere Partei-Kontrahenten noch einmal nachtreten. So geschehen bei Ex-Grünen-Chefin Ricarda Lang, die bei der Kurznachrichtenplattform \"X\" gegen die FDP schießt.\\n\"Kleiner Tipp and die FDP: Legt eure Handys weg, macht Twitter zu. Das Ding ist durch, niemand glaubt euch. Aber wirklich jeder einzelne dieser Tweets macht es unangenehmer und peinlicher\", schreibt Ricarda Lang in einem Statement zur prekären Lage der FDP.\\xa0\\n210962Damit reagiert Ricarda Lang auf einen Kommentar von FDP-Mann Max Mordhorst, dem das jüngste Verhalten seiner Partei sogar \"beeindruckte\".\\nAber auch Ricarda Lang selbst erntet aufgrund des Nachtretens bei \"X\" zusätzlich ein wenig Spott. \"Tipp an die FDP: Nie Tipps von den Grünen annehmen\", kommentiert ein weiterer \"X\"-User.\\nUnd wie reagiert die FDP-Parteiführung auf die \"D-Day\"-Anschuldigungen?\\nWar das Ampel-Aus von der FDP geplant? So reagiert die Partei-Führung jetzt\\nFDP-Generalsekretär Bijan Djir-Sarai versuchte gegenüber der \"Bild\"-Zeitung die Wogen zu glätten. Das Papier mit der sogenannten \"D-Day\"-Bezeichnung sei rein auf der Ebene der Mitarbeiter entstanden. \"Niemand aus der Führung der FDP kannte das Papier\", so sein Statement gegenüber der \"Bild\"-Zeitung. Man habe das Ampel-Aus nicht geplant, sondern lediglich Szenarien vorbereitet. Die \"Bild\"-Zeitung berichtet indes, dass der ehemalige Büroleiter von Christian Lindner das \"D-Day\"-Papier erstellt haben soll. Schwer vorstellbar also, dass Lindner selbst davon nicht gewusst habe.\\xa0\\nFolgen Sie News.de schon bei WhatsApp, Facebook, Twitter, Pinterest und YouTube? Hier finden Sie brandheiße News, aktuelle Videos und den direkten Draht zur Redaktion.\\n\\nLoad-Date:\\xa0December 3, 2024\\n\\n\\nEnd of Document\\n\\n\\n\\n\\n\\n\\n\"Längst überfällig\"; Das Ende der Regierungskoalition in Berlin beschäftigt auch die Menschen in der Landeshauptstadt\\nAllgemeine Zeitung (Germany)\\nFreitag 8. November 2024\\n\\n\\nCopyright 2024 VRM GmbH & Co. KG Alle Rechte Vorbehalten\\n\\n\\nSection:\\xa0LOKALES; ALLGEMEINE ZEITUNG MAINZ; S. 9\\nLength:\\xa0759 words\\nByline:\\xa0Lena Kapp\\nBody\\n\\n\\nMAINZ. Nun ist die Ampel-Regierung also Geschichte. Schlag auf Schlag geht es seit Mittwochabend: Bundeskanzler Olaf Scholz (SPD) entlässt Finanzminister Christian Lindner (FDP), der Mainzer und bisherige Scholz-Berater Jörg Kukies (SPD) wird sein Nachfolger, Verkehrsminister Volker Wissing tritt aus der FDP aus, behält sein bisheriges Ministeramt und wird zusätzlich Justizminister, alle weiteren FDP-Minister treten zurück, Neuwahlen stehen im Raum. Ereignisse über Ereignisse, die auch die Mainzer beschäftigen. Wer am Donnerstagmorgen in der Landeshauptstadt unterwegs ist, sieht viele Menschen, die gebannt auf ihre Nachrichten-Apps blicken, die neuesten Entwicklungen nicht verpassen möchten.\\nKritik am Zeitpunkt des Ampel-Aus’\\nSo wie der 34-jährige Lukas, der gerade auf dem Weg zur Arbeit ist. Als wir ihn ansprechen, erschreckt er sich kurz. So gebannt scheint er zu sein. Was hält er vom Ampel-Aus? \"Ehrlicherweise kommt es für mich nicht überraschend. Seit Ewigkeiten rumort es in der Koalition\", erklärt er. Den Schritt, diese Koalition zu beenden, sei \"längst überfällig\". Der Auftritt der FDP mit einem Christian Lindner an der Spitze, der mit seinem Papier zum künftigen Wirtschaftskurs noch mal \"mehr Öl ins Feuer\" habe gießen wollen, sei in seinen Augen \"nicht förderlich\" gewesen. Ob das Ende der Koalition allerdings ausgerechnet am Tag nach der US-Wahl habe ausgerufen werden müssen: fraglich, meint Lukas.\\nUnsicherheit. Das sei das bestimmende Wort dieser Tage, meint die 57-jährige Barbara. Die Mainzerin runzelt die Stirn. Wie meint sie das? Sie ordnet kurz ihre Gedanken. \"Ich denke, dass sich viele Menschen zurzeit sorgen. Darum, wie es auf der Welt weitergeht. Und jetzt auch in unserem Land.\" Die Trump-Wahl habe ihr \"gerade schon so gereicht\". Jetzt auch noch das Ampel-Aus - es sei gerade einfach etwas zu viel. Barbara sagt: Das Ampel-Aus ist gut. Es sei eine Chance für die SPD. Zumindest, wenn diese \"endlich sichtbarer wird\". Die Rede des Kanzlers am Mittwochabend, in der sich Scholz unter anderem zum Lindner-Rauswurf positionierte, sei jedenfalls eine seiner stärksten gewesen. Auch wenn sie für Barbara offensichtlich schon vorbereitet, die Entlassung des Finanzministers entsprechend ausgemachte Sache gewesen sei. Lindner hatte Scholz am Mittwoch einen kalkulierten Bruch der Koalition vorgeworfen.\\nMutter und Tochter diskutieren über Neuwahlen\\nAm Münsterplatz unterhalten sich zwei Damen. Die eine schüttelt heftig den Kopf, die andere gestikuliert mit den Händen. Einzelne Gesprächsfetzen sind zu hören. Offensichtlich geht es um das Ende der derzeitigen Regierung. Auf die Nachfrage, worüber hier denn so diskutiert wird, antwortet die ältere Dame: \"Meine Tochter und ich sprechen darüber, wann es zu Neuwahlen kommen sollte.\" Scholz hatte am Mittwochabend angekündigt, im Januar die Vertrauensfrage stellen zu wollen, um Neuwahlen herbeizuführen. Die Union fordert diesen Schritt schon deutlich früher, drängt auf Neuwahlen bereits in der zweiten Januarhälfte. Was diskutieren die beiden Frauen genau? \"Ich versuche meine Mutter davon zu überzeugen, dass Neuwahlen zu einem früheren Zeitpunkt Quatsch wären\", erklärt die Tochter. Weshalb? \"Weil das der AfD in die Karten spielen würde und jetzt erst mal etwas Ruhe einkehren muss.\" Sie sehe das anders, sagt die Mutter. Es müsse jetzt schnell etwas passieren, \"damit die Leute nicht weiter den Eindruck haben, in diesem Land werde nicht beherzt angepackt.\"\\n\"FDP hat sich danebenbenommen\"\\nMatthias telefoniert in der Bahn. Seine Frau sei gerade dran gewesen, erzählt er. Sie sei beruflich in Stuttgart, er habe heute Morgen allerdings das Bedürfnis, sich mit ihr auszutauschen. Noch bevor beide in den Arbeitstag starten. Eigentlich machen die beiden das immer am Abend, sagt Matthias. Es sei aber gerade so viel los, dass es nicht warten kann. Dass der Bundesverkehrsminister Volker Wissing im Amt bleibt, allerdings aus der FDP austritt, findet Matthias gut. \"Das musste ich schnell mit meiner Frau besprechen\", schmunzelt er. Früher habe er immer mal die Freien Demokraten gewählt - heute sei das \"undenkbar\". Weshalb sich die FDP in den vergangenen Wochen \"derart daneben benommen\" habe, kann Matthias nicht verstehen. \"Der ohnehin zerstrittenen Ampel hat das nicht gutgetan\", meint er. Dass die FDP nun nicht mehr Teil der Regierung ist, sei gut. Was der Mainzer jedoch kritisiert, sind die gegenseitigen Angriffe aufeinander seitens Lindner und Scholz. \"Wenn es zu persönlich wird, so wie am Mittwochabend in den jeweiligen Statements, ist das schwierig.\" KOMMENTAR\\n\\nLoad-Date:\\xa0November 7, 2024\\n\\n\\nEnd of Document\\n\\n\\n\\n\\n\\n\\nWelche Projekte Scholz noch durchbringen will; Steuerentlastungen, Rentenpaket, Asyl, Industrie: Trotz Ampel-Aus will der Kanzler noch wichtige Pläne umsetzen\\nKölner Express\\nFreitag 08. November 2024\\n\\n\\nCopyright 2024 M. DuMont Schauberg, Köln Alle Rechte vorbehalten\\n\\n\\nSection:\\xa0REPORT; S. 3\\nLength:\\xa0485 words\\nBody\\n\\n\\nDie Ampel ist Geschichte  aber Kanzler Olaf Scholz will wichtige Projekte trotzdem noch durchs Parlament bringen. Er wolle in den verbleibenden Sitzungswochen des Bundestags bis Weihnachten alle Gesetzentwürfe zur Abstimmung stellen, die aus seiner Sicht \"keinerlei Aufschub\" duldeten, sagte er nach dem Bruch der Koalition. Der Kanzler nannte konkrete Vorhaben  er hat allerdings ohne die FDP keine Mehrheit mehr im Bundestag. Vor den Neuwahlen will Scholz diese Themen entschieden sehen:Steuerliche Entlastung: Der Effekt der Inflation bei der Einkommensteuer soll ausgeglichen werden  ein Projekt, das eigentlich der nun Ex-Finanzminister Christian Lindner maßgeblich vorangetrieben hat. \"Damit alle Arbeitnehmerinnen und Arbeitnehmer ab dem 1. Januar mehr Netto vom Brutto haben\", begründete der Kanzler, dass er an den Plänen zum Ausgleich der Kalten Progression festhält. Kalte Progression nennt man, wenn Bürger durch den ansteigenden Steuertarif auch dann mehr an den Fiskus zahlen müssen, wenn ihre Gehaltserhöhung nur die Inflation ausgleicht. Lindner wollte dafür den Grundfreibetrag und die anderen Eckwerte des Steuertarifs so verschieben, dass höhere Steuersätze erst später greifen. Nur die Grenze für die Reichensteuer, die noch über dem Spitzensteuersatz liegt, sollte gleich bleiben.\\nRentenpaket: Das dürfte der für die SPD wohl wichtigste Punkt sein: Die Stabilisierung der gesetzlichen Rente. Der Bundestag hat sich Ende September in erster Lesung mit dem seit langem vorbereiteten Rentenpaket befasst. Im Kern soll ein stabiles Rentenniveau garantiert werden, die Rentenbezüge sollen Schritt halten mit der Lohnentwicklung. Wegen der alternden Bevölkerung wird dies aber immer teurer  was dann zu höheren Beiträgen für jüngere Leute führt. Die Koalition will diese prognostizierte Beitragserhöhung dadurch abfedern, dass sie Geld am Aktienmarkt anlegt und die Rendite in die steckt. \\nAsyl: Als weiteres Vorhaben nannte der Kanzler die schnelle Umsetzung der Regeln des Gemeinsamen Europäischen Asylsystems. Am Mittwochvormittag noch hatte die Koalition dazu zwei Gesetzesänderungen beschlossen. Die Reform sieht unter anderem eine Verpflichtung zur Identitätskontrolle bei Ankommenden vor. Asylbewerber mit einer EU-weiten Schutzquote von unter 20 Prozent sollen ihr Verfahren an der EU-Außengrenze durchlaufen. \\nHilfe für Industrie: Deutschland steckt in einer Konjunkturflaute, schlecht geht es vor allem der Industrie. Wirtschaftsverbände beklagen vor allem hohe Energiepreise. Bis Jahresende will Scholz \"Sofortmaßnahmen\" für die Industrie durchsetzen. Konkret sagte er, die Netzentgelte für Unternehmen sollten gedeckelt werden und es solle ein Paket geschnürt werden, das Arbeitsplätze in der Automobilindustrie und bei den vielen Zuliefererbetrieben sichere. Denkbar wären neue Fördermaßnahmen, um den Absatz von Elektroautos anzukurbeln. Solche Maßnahmen würden aber Milliarden kosten. \\n\\nLoad-Date:\\xa0November 8, 2024\\n\\n\\nEnd of Document\\n\\n\\n\\n\\n\\n\\n\"Längst überfällig\"; Das Ende der Regierungskoalition in Berlin beschäftigt auch die Menschen in der Landeshauptstadt\\nRüsselsheimer Echo\\nFreitag 8. November 2024\\n\\n\\nCopyright 2024 VRM GmbH & Co. KG Alle Rechte Vorbehalten\\n\\n\\nSection:\\xa0LOKALES; RÜSSELSHEIMER ECHO; S. 16\\nLength:\\xa0759 words\\nByline:\\xa0Lena Kapp\\nBody\\n\\n\\nMAINZ. Nun ist die Ampel-Regierung also Geschichte. Schlag auf Schlag geht es seit Mittwochabend: Bundeskanzler Olaf Scholz (SPD) entlässt Finanzminister Christian Lindner (FDP), der Mainzer und bisherige Scholz-Berater Jörg Kukies (SPD) wird sein Nachfolger, Verkehrsminister Volker Wissing tritt aus der FDP aus, behält sein bisheriges Ministeramt und wird zusätzlich Justizminister, alle weiteren FDP-Minister treten zurück, Neuwahlen stehen im Raum. Ereignisse über Ereignisse, die auch die Mainzer beschäftigen. Wer am Donnerstagmorgen in der Landeshauptstadt unterwegs ist, sieht viele Menschen, die gebannt auf ihre Nachrichten-Apps blicken, die neuesten Entwicklungen nicht verpassen möchten.\\nKritik am Zeitpunkt des Ampel-Aus’\\nSo wie der 34-jährige Lukas, der gerade auf dem Weg zur Arbeit ist. Als wir ihn ansprechen, erschreckt er sich kurz. So gebannt scheint er zu sein. Was hält er vom Ampel-Aus? \"Ehrlicherweise kommt es für mich nicht überraschend. Seit Ewigkeiten rumort es in der Koalition\", erklärt er. Den Schritt, diese Koalition zu beenden, sei \"längst überfällig\". Der Auftritt der FDP mit einem Christian Lindner an der Spitze, der mit seinem Papier zum künftigen Wirtschaftskurs noch mal \"mehr Öl ins Feuer\" habe gießen wollen, sei in seinen Augen \"nicht förderlich\" gewesen. Ob das Ende der Koalition allerdings ausgerechnet am Tag nach der US-Wahl habe ausgerufen werden müssen: fraglich, meint Lukas.\\nUnsicherheit. Das sei das bestimmende Wort dieser Tage, meint die 57-jährige Barbara. Die Mainzerin runzelt die Stirn. Wie meint sie das? Sie ordnet kurz ihre Gedanken. \"Ich denke, dass sich viele Menschen zurzeit sorgen. Darum, wie es auf der Welt weitergeht. Und jetzt auch in unserem Land.\" Die Trump-Wahl habe ihr \"gerade schon so gereicht\". Jetzt auch noch das Ampel-Aus - es sei gerade einfach etwas zu viel. Barbara sagt: Das Ampel-Aus ist gut. Es sei eine Chance für die SPD. Zumindest, wenn diese \"endlich sichtbarer wird\". Die Rede des Kanzlers am Mittwochabend, in der sich Scholz unter anderem zum Lindner-Rauswurf positionierte, sei jedenfalls eine seiner stärksten gewesen. Auch wenn sie für Barbara offensichtlich schon vorbereitet, die Entlassung des Finanzministers entsprechend ausgemachte Sache gewesen sei. Lindner hatte Scholz am Mittwoch einen kalkulierten Bruch der Koalition vorgeworfen.\\nMutter und Tochter diskutieren über Neuwahlen\\nAm Münsterplatz unterhalten sich zwei Damen. Die eine schüttelt heftig den Kopf, die andere gestikuliert mit den Händen. Einzelne Gesprächsfetzen sind zu hören. Offensichtlich geht es um das Ende der derzeitigen Regierung. Auf die Nachfrage, worüber hier denn so diskutiert wird, antwortet die ältere Dame: \"Meine Tochter und ich sprechen darüber, wann es zu Neuwahlen kommen sollte.\" Scholz hatte am Mittwochabend angekündigt, im Januar die Vertrauensfrage stellen zu wollen, um Neuwahlen herbeizuführen. Die Union fordert diesen Schritt schon deutlich früher, drängt auf Neuwahlen bereits in der zweiten Januarhälfte. Was diskutieren die beiden Frauen genau? \"Ich versuche meine Mutter davon zu überzeugen, dass Neuwahlen zu einem früheren Zeitpunkt Quatsch wären\", erklärt die Tochter. Weshalb? \"Weil das der AfD in die Karten spielen würde und jetzt erst mal etwas Ruhe einkehren muss.\" Sie sehe das anders, sagt die Mutter. Es müsse jetzt schnell etwas passieren, \"damit die Leute nicht weiter den Eindruck haben, in diesem Land werde nicht beherzt angepackt.\"\\n\"FDP hat sich danebenbenommen\"\\nMatthias telefoniert in der Bahn. Seine Frau sei gerade dran gewesen, erzählt er. Sie sei beruflich in Stuttgart, er habe heute Morgen allerdings das Bedürfnis, sich mit ihr auszutauschen. Noch bevor beide in den Arbeitstag starten. Eigentlich machen die beiden das immer am Abend, sagt Matthias. Es sei aber gerade so viel los, dass es nicht warten kann. Dass der Bundesverkehrsminister Volker Wissing im Amt bleibt, allerdings aus der FDP austritt, findet Matthias gut. \"Das musste ich schnell mit meiner Frau besprechen\", schmunzelt er. Früher habe er immer mal die Freien Demokraten gewählt - heute sei das \"undenkbar\". Weshalb sich die FDP in den vergangenen Wochen \"derart daneben benommen\" habe, kann Matthias nicht verstehen. \"Der ohnehin zerstrittenen Ampel hat das nicht gutgetan\", meint er. Dass die FDP nun nicht mehr Teil der Regierung ist, sei gut. Was der Mainzer jedoch kritisiert, sind die gegenseitigen Angriffe aufeinander seitens Lindner und Scholz. \"Wenn es zu persönlich wird, so wie am Mittwochabend in den jeweiligen Statements, ist das schwierig.\" KOMMENTAR\\n\\nLoad-Date:\\xa0November 8, 2024\\n\\n\\nEnd of Document\\n\\n\\n\\n\\n\\n\\n\"Längst überfällig\"; Das Ende der Regierungskoalition in Berlin beschäftigt auch die Menschen in der Landeshauptstadt\\nWiesbadener Kurier (Germany)\\nFreitag 8. November 2024\\n\\n\\nCopyright 2024 VRM GmbH & Co. KG Alle Rechte Vorbehalten\\n\\n\\nSection:\\xa0LOKALES; WIESBADENER KURIER STADTAUSGABE; S. 19\\nLength:\\xa0759 words\\nByline:\\xa0Lena Kapp\\nBody\\n\\n\\nMAINZ. Nun ist die Ampel-Regierung also Geschichte. Schlag auf Schlag geht es seit Mittwochabend: Bundeskanzler Olaf Scholz (SPD) entlässt Finanzminister Christian Lindner (FDP), der Mainzer und bisherige Scholz-Berater Jörg Kukies (SPD) wird sein Nachfolger, Verkehrsminister Volker Wissing tritt aus der FDP aus, behält sein bisheriges Ministeramt und wird zusätzlich Justizminister, alle weiteren FDP-Minister treten zurück, Neuwahlen stehen im Raum. Ereignisse über Ereignisse, die auch die Mainzer beschäftigen. Wer am Donnerstagmorgen in der Landeshauptstadt unterwegs ist, sieht viele Menschen, die gebannt auf ihre Nachrichten-Apps blicken, die neuesten Entwicklungen nicht verpassen möchten.\\nKritik am Zeitpunkt des Ampel-Aus’\\nSo wie der 34-jährige Lukas, der gerade auf dem Weg zur Arbeit ist. Als wir ihn ansprechen, erschreckt er sich kurz. So gebannt scheint er zu sein. Was hält er vom Ampel-Aus? \"Ehrlicherweise kommt es für mich nicht überraschend. Seit Ewigkeiten rumort es in der Koalition\", erklärt er. Den Schritt, diese Koalition zu beenden, sei \"längst überfällig\". Der Auftritt der FDP mit einem Christian Lindner an der Spitze, der mit seinem Papier zum künftigen Wirtschaftskurs noch mal \"mehr Öl ins Feuer\" habe gießen wollen, sei in seinen Augen \"nicht förderlich\" gewesen. Ob das Ende der Koalition allerdings ausgerechnet am Tag nach der US-Wahl habe ausgerufen werden müssen: fraglich, meint Lukas.\\nUnsicherheit. Das sei das bestimmende Wort dieser Tage, meint die 57-jährige Barbara. Die Mainzerin runzelt die Stirn. Wie meint sie das? Sie ordnet kurz ihre Gedanken. \"Ich denke, dass sich viele Menschen zurzeit sorgen. Darum, wie es auf der Welt weitergeht. Und jetzt auch in unserem Land.\" Die Trump-Wahl habe ihr \"gerade schon so gereicht\". Jetzt auch noch das Ampel-Aus - es sei gerade einfach etwas zu viel. Barbara sagt: Das Ampel-Aus ist gut. Es sei eine Chance für die SPD. Zumindest, wenn diese \"endlich sichtbarer wird\". Die Rede des Kanzlers am Mittwochabend, in der sich Scholz unter anderem zum Lindner-Rauswurf positionierte, sei jedenfalls eine seiner stärksten gewesen. Auch wenn sie für Barbara offensichtlich schon vorbereitet, die Entlassung des Finanzministers entsprechend ausgemachte Sache gewesen sei. Lindner hatte Scholz am Mittwoch einen kalkulierten Bruch der Koalition vorgeworfen.\\nMutter und Tochter diskutieren über Neuwahlen\\nAm Münsterplatz unterhalten sich zwei Damen. Die eine schüttelt heftig den Kopf, die andere gestikuliert mit den Händen. Einzelne Gesprächsfetzen sind zu hören. Offensichtlich geht es um das Ende der derzeitigen Regierung. Auf die Nachfrage, worüber hier denn so diskutiert wird, antwortet die ältere Dame: \"Meine Tochter und ich sprechen darüber, wann es zu Neuwahlen kommen sollte.\" Scholz hatte am Mittwochabend angekündigt, im Januar die Vertrauensfrage stellen zu wollen, um Neuwahlen herbeizuführen. Die Union fordert diesen Schritt schon deutlich früher, drängt auf Neuwahlen bereits in der zweiten Januarhälfte. Was diskutieren die beiden Frauen genau? \"Ich versuche meine Mutter davon zu überzeugen, dass Neuwahlen zu einem früheren Zeitpunkt Quatsch wären\", erklärt die Tochter. Weshalb? \"Weil das der AfD in die Karten spielen würde und jetzt erst mal etwas Ruhe einkehren muss.\" Sie sehe das anders, sagt die Mutter. Es müsse jetzt schnell etwas passieren, \"damit die Leute nicht weiter den Eindruck haben, in diesem Land werde nicht beherzt angepackt.\"\\n\"FDP hat sich danebenbenommen\"\\nMatthias telefoniert in der Bahn. Seine Frau sei gerade dran gewesen, erzählt er. Sie sei beruflich in Stuttgart, er habe heute Morgen allerdings das Bedürfnis, sich mit ihr auszutauschen. Noch bevor beide in den Arbeitstag starten. Eigentlich machen die beiden das immer am Abend, sagt Matthias. Es sei aber gerade so viel los, dass es nicht warten kann. Dass der Bundesverkehrsminister Volker Wissing im Amt bleibt, allerdings aus der FDP austritt, findet Matthias gut. \"Das musste ich schnell mit meiner Frau besprechen\", schmunzelt er. Früher habe er immer mal die Freien Demokraten gewählt - heute sei das \"undenkbar\". Weshalb sich die FDP in den vergangenen Wochen \"derart daneben benommen\" habe, kann Matthias nicht verstehen. \"Der ohnehin zerstrittenen Ampel hat das nicht gutgetan\", meint er. Dass die FDP nun nicht mehr Teil der Regierung ist, sei gut. Was der Mainzer jedoch kritisiert, sind die gegenseitigen Angriffe aufeinander seitens Lindner und Scholz. \"Wenn es zu persönlich wird, so wie am Mittwochabend in den jeweiligen Statements, ist das schwierig.\" KOMMENTAR\\n\\nLoad-Date:\\xa0November 7, 2024\\n\\n\\nEnd of Document\\n\\n\\n\\n\\n\\n\\nUS-Wahl, Ampel-Aus und Entbürokratisierung; Zahlreiche Themen bei Mittelstands- und Wirtschaftsunion / Staatsminister Pentz kann nicht wie geplant dabei sein\\nLampertheimer Zeitung (Germany)\\nMontag 11. November 2024\\n\\n\\nCopyright 2024 VRM GmbH & Co. KG Alle Rechte Vorbehalten\\n\\n\\nSection:\\xa0REGION; LAMPERTHEIMER ZEITUNG; S. 9\\nLength:\\xa0558 words\\nByline:\\xa0Bernd Sterzelmaier\\nBody\\n\\n\\nVIERNHEIM. Hessens Staatsminister Manfred Pentz sollte in Viernheim zu den Mitgliedern der Mittelstands- und Wirtschaftsunion Bergstraße (MIT) sprechen. Doch während die 40 Gäste in \"Werners Stubb\" auf den Redner und das Martinsgans-Menü warteten, informierte Vorsitzender Matthias Wilkes, dass der Minister für Bundesangelegenheiten auf dem Weg nach Berlin sei. Was es dort zu besprechen gab, bedurfte keiner Erklärung.\\n\"Innerhalb der vergangenen 24 Stunden hat sich vieles auf einen Schlag verändert\", sagte Wilkes. Sowohl der Wahlausgang in den USA, als auch das Ende der Ampelkoalition habe die Bürger verunsichert. Niemand könne voraussagen, wie sich das Verhältnis USA-Europa unter Präsident Donald Trump verändert, und niemand wisse, wie es in Berlin weitergeht.\\nWilkes springt mit Rede für Pentz ein\\nMit seiner Rede sprang der frühere Bergsträßer Landrat in Viernheim für Pentz ein. Wilkes beschrieb die Lage in Deutschland und in Europa. Er verwies nicht nur auf die Regierungskrise in Berlin, sondern auch darauf, dass in den Bundesländern Sachsen, Thüringen und Brandenburg mehrere Wochen nach den Landtagswahlen noch keine Regierungsbildung in Sicht sei. \"Das erzeugt bei den Menschen ein Ohnmachtsgefühl, das sie in die Hände von Rattenfängern von rechts und links treibt\", so seine Schlussfolgerung.\\nDie Verunsicherungen nach der Präsidentschaftswahl in den USA wirft laut Wilkes ein Licht auf die Schwächen der EU. Europa müsse \"sein Schicksal selbst in die Hand nehmen\". Die Armeen der 27 EU-Staaten verfügen laut Wilkes zusammen über 1,9 Millionen Soldaten gegenüber 900.000 in der US-Armee. Andere Quellen sprechen in etwa von einem Gleichstand.\\nWilkes warnte vor einem \"Neo-Nationalismus\". In vielen Ländern werde \"das Rad der europäischen Einigung zurückgedreht\". Deutschland profitiere am meisten vom europäischen Binnenmarkt. Er erwarte im Bundestagswahlkampf von allen demokratischen Parteien ein klares Bekenntnis zu Europa. \"Nur Dummköpfe fordern einen Austritt aus der EU\".\\nWie von der MIT gewohnt, war aus Wilkes’ Worten Kritik an der eigenen Partei anzuhören. Das galt besonders beim Thema Bürokratieabbau, über das Pentz sprechen sollte. Die vollständige Bezeichnung seines Ressorts in der Landesregierung lautet: \"für Bundes- und Europaangelegenheiten, Internationales und Entbürokratisierung\".\\nWilkes verwies auf seinen Kampf, den er von 2003 bis 2015 als Landrat gegen die Bürokratien geführt habe und den er als Mitglied einer MIT-Arbeitsgruppe auf Bundesebene weiterführe. Obwohl der Staat Millionen für Digitalisierung ausgebe, blieben die Strukturen unverändert, und es werde weiter Personal eingestellt.\\nMinister Pentz hatte vor wenigen Tagen in Wiesbaden vom Kampf der Landesregierung gegen die Bürokratie berichtet. Mittlerweile gebe es in jedem Ministerium Entbürokratisierungsbeauftragte. Um von Missständen zu erfahren, wurde unter bessereinfach.hessen.de der \"Bürokratiemelder\" online gestellt. Ein Hindernis für Bürokratieabbau hat der Minister identifiziert: \"Datenschutz ist der neue Denkmalschutz\".\\nIn Viernheim wurde von den Diskussionsteilnehmern berichtet, wie Bürokratie der mittelständischen Wirtschaft schade. Die Hoffnungen ruhen darauf, dass der CDU-Vorsitzende Friedrich Merz nach der vorgezogenen Bundestagswahl eine Regierung bilden kann, die einen \"Neuanfang auf allen Ebenen\" ermöglicht. KOMMENTAR\\n\\nLoad-Date:\\xa0November 10, 2024\\n\\n\\nEnd of Document\\n\\n\\n\\n\\n\\n\\nGroße Sorgen nach Ampel-Aus; Spitzensportförderung sollte erstmals im Gesetz verankert werden / Lage in Berlin beunruhigt Verbände und Athleten\\nGroß-Gerauer Echo\\nSamstag 16. November 2024\\n\\n\\nCopyright 2024 Echo Zeitungen GmbH Alle Rechte Vorbehalten\\n\\n\\nSection:\\xa0LOKALSPORT; GROSS-GERAUER ECHO; S. 26\\nLength:\\xa0950 words\\nByline:\\xa0Udo Döring und Tim Bastian Strassheim\\nBody\\n\\n\\nLIMBURG/DARMSTADT. Die neue Bundesregierung ist noch lange nicht gewählt, aber sie hat schon einen klaren Auftrag: \"Sie sollte von Beginn an die losen Enden der zahlreichen begonnenen Prozesslinien zu einer übergeordneten nationalen Spitzensportstrategie zusammenbinden.\" Das formulieren die \"Athleten Deutschland\" - aus großer Sorge. Denn mit dem Bruch der Ampel-Koalition sehen sie auch den kurz zuvor verabschiedeten Entwurf des Gesetzes der Spitzensportförderung in Gefahr.\\nZiel des Gesetzentwurfs: Mehr Medaillen bei Olympia\\nEin Entwurf, deren Inhalt und Entwicklung die stets kritische Vereinigung sehr wohlwollend bewertet hat. \"In der nationalen Sportpolitik war in den vergangenen beiden Jahren eine Aufbruchstimmung spürbar wie selten zuvor. Den aktuellen Reform- und Transformationswillen haben wir über weite Strecken als authentisch empfunden\", formulierten die Athleten kurz nach einer der letzten Amtshandlungen des Bundeskabinetts unter der Führung von Kanzler Olaf Scholz.\\nEin vor zwei Jahren eingeleiteter Prozess wurde in einem Entwurf gebündelt mit den Schlagworten: Errichtung einer Spitzensport-Agentur, Verschlankung von Entscheidungsprozessen, Abbau von Bürokratie, Digitalisierung der Mittelvergabe. Oder auf den sportlichen Kern gebracht: \"Ein Ziel ist es, die Zahl der Medaillen und ersten Plätze insbesondere bei Olympischen Spielen, Welt- und Europameisterschaften langfristig zu erhöhen.\"\\nEin bekannter Reflex auf Olympia, wo Ertrag und Platzierung im Medaillenspiegel wieder einmal schlechter waren als bei den Sommerspielen zuvor. \"Unsere Athletinnen und Athleten geben alles für ihren Sport. Sie haben eine bestmögliche Unterstützung verdient\", erklärt Bundesinnenministerin Nancy Faeser zu dem Paket, das die Spitzensportförderung erstmals in einem Gesetz verankern würde - mit einer Erhöhung des Etats um 50 Millionen Euro.\\nAber gerade beim Thema Geld reiben sich ja gerne Parteien, die zueinander finden sollen. Und auch wenn das Sportfördergesetz verabschiedet werden sollte, ist eine Verzögerung durch Neuwahlen und Koalitionsverhandlungen schon jetzt garantiert. Das glaubt auch Thomas Weikert, Präsident des Deutschen Olympischen Sportbundes (DOSB): \"Wir gehen nicht davon aus, dass das Sportfördergesetz noch in dieser Legislaturperiode verabschiedet werden kann. Unser Ziel wird es daher sein müssen, das Gesetz, in dem unter anderem die Verantwortung des Bundes für die Förderung des Spitzensports erstmals gesetzlich festgeschrieben wird, mit einer neuen Bundesregierung anzustreben.\"\\nDass dies unbedingt passieren müsse, ist für den Limburger klar, der das Gesetz als weiteren wichtigen Schritt in die richtige Richtung sieht: \"Gesetz und Agentur sind essenziell, um den Spitzensport in Deutschland sowie unsere Athletinnen und Athleten mittel- und langfristig konkurrenzfähiger und damit erfolgreicher zu machen.\"\\nKein Zweifel, das Aus der Ampel erschwere die Planungen. \"Das hat auch für uns konkrete Auswirkungen - denn eine vorläufige Haushaltsführung stellt uns in verschiedenen Bereichen vor Herausforderungen\", erklärt Juliane Kuhlmann als Präsidentin des Landessportbundes Hessen und nennt bundesfinanzierte Olympiastützpunkte als Beispiel, für die der Gesetzentwurf ja mehr Geld in Aussicht stellt: \"Dies ist nun ab 2025 gefährdet und wir müssen weiterhin mit einem unterfinanzierten Olympiastützpunkt-System umgehen. Dass das nicht gerade förderlich ist für den Spitzensport, versteht sich von selbst.\"\\nAls Chefin eines der 16 Landessportbünde gibt die in Nauheim lebende Juliane Kuhlmann für die Bewertung des Sportfördergesetzes die Parole aus: \"Es ist nie alleine, sondern immer im Kontext zu sehen.\" Denn ein Gesetz allein sorge noch lange nicht für mehr Medaillen. So wirft sie vor allem die Sportstättenentwicklung als nächste Baustelle in den politischen Ring: \"Ohne ein mehrjähriges Förderengagement des Bundes ist der milliardenschwere Sanierungsstau der Sportstätten nicht zu beseitigen - wir fahren da auf Verschleiß und das bedeutet, dass Sport für den Nachwuchs unattraktiver wird.\"\\nAbsicherung von Trainern, Entbürokratisierung, Flexibilisierung - drei weitere Schwerpunkte, in denen sich der Entwurf aus Sicht der LSBH-Präsidentin eher noch verbessern ließe. In die gleiche Kerbe schlägt auch Thomas Weikert: \"Die Bundesregierung nutzt weiterhin nicht alle Möglichkeiten aus, die ihr zur Verfügung stünden. Beispielsweise ist es dringend notwendig, die Festbetragsfinanzierung als Standard der Verbändeförderung einzuführen, um Verbände deutlich zu entlasten und einen zusätzlichen Anreiz zur Mitteleinwerbung zu schaffen. Auch bei der sozialen Absicherung der Trainer und der Athleten sehen wir Nachbesserungsbedarf.\"\\nJuliane Kuhlmann befürchtet aber auch Reibungsverluste. Beispiel: das sogenannte Gesundes-Herz-Gesetz des Bundesgesundheitsministeriums. \"Das fällt wohl dem Diskontinuitätsprinzip anheim. Dieses Gesetz hätte die Finanzierung von qualitätsgesicherten Präventionsangeboten der Sportvereine auf dem Altar eines überzogenen Reformeifers geopfert und der jahrelange Aufbau eines entsprechenden Angebotssystems durch unsere Sportvereine wäre umsonst gewesen.\"\\nKarrieren von Athleten sind \"kurz und fragil\"\\nDie Athleten Deutschland sorgen sich wiederum um den Aufbau des unabhängigen Zentrums für Safe Sport, das bereits von der Vorgängerregierung auf den Weg gebracht wurde. \"Insbesondere der Schutz der Athletinnen und Athleten vor Gewalt und Missbrauch darf jetzt auf keinen Fall der veränderten politischen Lage zum Opfer fallen.\" Generell fordert die Vereinigung zügige Umsetzung der Reformen \"im Sinne der Athletinnen und Athleten, deren Karrieren kurz und fragil sind\". Und wenig Spielraum lassen für politische Zankereien.\\n\\nLoad-Date:\\xa0November 15, 2024\\n\\n\\nEnd of Document\\n\\n\\n\\n\\n\\n\\nDie Schulen hoffen auf Özdemir; Mit dem Ampel-Aus steht auch der Digitalpakt 2.0 in Frage   und damit eine bessere IT-Ausstattung an den Schulen. Eine neue Studie zeigt, wie groß der Handlungsbedarf ist. Zumindest die Bundesländer haben die Hoffnung auf eine Einigung noch nicht aufgegeben\\ntaz, die tageszeitung\\nMittwoch 13. November 2024\\n\\n\\nCopyright 2024 Contrapress media GmbH Vervielfaeltigung nur mit         Genehmigung des taz-Verlags All Rights Reserved\\n\\n\\nSection:\\xa0BILDUNG; S. 7\\nLength:\\xa01381 words\\nByline:\\xa0Ralf Pauli\\nHighlight:\\xa0Mit dem Ampel-Aus steht auch der Digitalpakt 2.0 in Frage   und damit eine bessere IT-Ausstattung an den Schulen. Eine neue Studie zeigt, wie groß der Handlungsbedarf ist. Zumindest die Bundesländer haben die Hoffnung auf eine Einigung noch nicht aufgegeben\\nBody\\n\\n\\nVon Ralf Pauli\\nBettina Stark-Watzinger ist, wie derzeit viele zurückgetretene oder verbliebene Ampel-\\xadMinister:innen, im Wahlkampfmodus.  Der Mittelstand ächzt, Arbeitsplätze gehen verloren und internationale Konzerne halten ihre Investitionen zurück. Jetzt braucht es eine echte #Wirtschaftswende , schrieb die ehemalige Bundesbildungsministerin Anfang der Woche beim Kurznachrichtendienst X. Noch am Tag ihrer Entlassung aus dem Kabinett vergangenen Donnerstag bescheinigte sie ihrer Partei  staatspolitische Verantwortung    ungeachtet der Tatsache, dass die noch ausstehenden Regierungsvorhaben sowie der Haushalt für das kommende Jahr ohne die FDP-Stimmen im Bundestag zum Scheitern verurteilt sind.\\nDas gilt vor allem für zwei zentrale Bildungsversprechen der Ampel: erstens die in der Wissenschaft sehnlich erwartete Reform für bessere Arbeitsbedingungen an Hochschulen, die seit Oktober im parlamentarischen Verfahren hängt und nun endgültig vom Tisch sein dürfte. Daran wird auch der Bildungsausschuss im Bundestag nichts ändern können, der sich am Mittwoch noch mit der geplanten Gesetzesnovelle befasst. Und zweitens: die Einigung mit den Ländern über einen Digitalpakt 2.0.\\nOb und inwieweit Landwirtschaftsminister Cem Özdemir (Grüne), der das Bildungsministerin bis zu den Neuwahlen kommissarisch übernimmt, sich hier noch reinkniet, ist fraglich. Am Dienstag kündigte Özdemir zwar an, dass er die Fortführung des Digitalpakts für  richtig  halte. Er werde sich dafür starkmachen, die Verhandlungen mit den Ländern über den Digitalpakt 2.0  zeitnah erfolgreich  abzuschließen. Das aber hat auch Stark-Watzinger versprochen. Eine Bund-Länder-Einigung, die schon mit Ende des ersten Digitalpaktes im Mai hätte stehen sollen, kam bislang dennoch nicht zustande.\\nWas die Aufgabe für Özdemir nicht leichter macht: Seine Vorgängerin hatte das Ministerium rigoros auf Parteilinie gebürstet. Nach Recherchen des Spiegel hat Stark-Watzinger während ihrer Amtszeit mindestens 22 Posten in der Führungsebene mit FDP-Gefolgsleuten besetzt   und dafür erfahrene Mit\\xadar\\xadbei\\xadte\\xadr:in\\xadnen in den vorzeitigen Ruhestand geschickt. Ein Teil ist jetzt mit Stark-Watzinger gegangen, wie die beiden parlamentarischen Staatssekretäre Jens Brandenburg und Mario Brandenburg. Ob Özdemir die Posten neu besetzt oder ob seine Staatssekretäre aus dem Landwirtschaftsministerium die Aufgabe mit übernehmen, ist noch unklar.\\nKlar ist jedenfalls: Aktuell ist das Bildungsministerium nur bedingt handlungsfähig. Ein Indiz dafür lieferte vergangene Woche Staatssekretär Roland Philippi, ein FDP-Vertrauter aus Stark-Watzingers Heimat Hessen. So blieb Philippi am Tag nach dem Ampel-Aus der Bund-Länder-Verhandlungsgruppe zum Digitalpakt 2.0 fern, das Ministerium begründet das gegenüber der taz mit  kurzfristig anberaumte[n] Termine[n] .\\nBemerkenswert ist in dieser Situation die Reaktion der Länder. Sie geben teils unverhohlen zu, dass sie nun, da Stark-Watzinger weg ist, bessere Chancen für den Digitalpakt 2.0 sehen. So spricht etwa die Präsidentin der Kultusministerkonferenz, Christine Streichert-Clivot (SPD), auf Anfrage von einem  Chancenfenster, mit der veränderten Bundesregierung zu einem guten Ergebnis zu kommen . Bisher scheiterte eine Einigung vor allem an zwei Punkten: Stark-Watzinger beharrte auf einer 50-prozentigen Kofinanzierung durch die Länder und forderte mehr Verbindlichkeit in der Lehrkräftefortbildung. Die Länder lehnen dies ab. Auch, weil der Bund für den ersten Digitalpakt noch 90 Prozent der Mittel bereitstellte, insgesamt 6,5 Milliarden Euro für fünf Jahre. Stark-Watzinger hingegen hatte 2,5 Milliarden Euro für den Zeitraum 2025 bis 2030 in Aussicht gestellt   und das nur, wenn die Länder noch mal so viel dazugeben.\\nWie ein Kompromiss aussehen könnte, ist unklar. Eine Möglichkeit wäre, dass sich die Länder ihre Investitionen in digitalen Unterricht anrechnen lassen können. Auf einen ähnlichen Kompromiss haben sich Bund und Länder bereits beim  Startchancen-Programm , das die Chancengleichheit für benachteiligte Schü\\xadle\\xadr:in\\xadnen steigern soll, eingelassen. Ob Özdemir dazu oder zu anderen Zugeständnissen bereit ist, hat er noch nicht erklärt.\\nDoch selbst wenn sich Bund und Länder noch vor den Neuwahlen einigen und eine entsprechende Verwaltungsvereinbarung unterzeichnen, wird wohl erst einmal kein neues Geld fließen. Dafür nämlich muss der Bundestag erst die entsprechenden Haushaltsmittel freigeben   und das wird wohl erst nach den Neuwahlen möglich sein. Gut möglich also, dass der Digitalpakt 2.0 komplett neu aufgerollt wird.\\nIn einem gemeinsamen Appell an Bund und Länder forderten Vertreter von Kommunen, Schüler:innen, Eltern und Lehrkräften sowie der Branchenverband der deutschen Informations- und Telekommunikationsbranche bitkom am Montag deshalb ein  breites politisches Bündnis über die Parteigrenzen hinweg . Der Hauptgeschäftsführer des Deutschen Städte- und Gemeindebundes, André Berghegger, betonte, dass die Schulträger ohne den Digitalpakt 2.0 keine digitalen Endgeräte erneuern oder IT-Support bezahlen könnten.\\nWas das für Folgen hat, kann Andreas Breiter von der Universität Bremen beschreiben. Der Professor für Informations- und Wissensmanagement in der Bildung berät zusammen mit seinem Team bundesweit Kommunen bei der Frage, wie Schulträger mit welchem Aufwand die IT-Infrastruktur an Schulen aufbauen und warten können. Er beobachtet seit Jahren, wie unterschiedlich die Kommunen ausgestattet sind.  Die ungleiche Entwicklung, die vom Reichtum der Kommune abhängt, ist dramatisch , sagt Breiter der taz. Aus seiner Sicht wird sich daran nichts ändern, wenn Bund und Länder nicht mehr Geld in die Hand nehmen als bisher.  Wir gehen davon aus, dass die Schulträger 500 Euro pro Schüler im Jahr brauchen, um eine gute digitale Infrastruktur aufzubauen und zu erhalten   also etwa das Fünffache von dem, was jetzt für den Digitalpakt 2.0 im Raum steht .\\nWie dringend der Handlungsbedarf ist, zeigt auch die am Dienstag vorgestellte internationale Schulleistungsstudie ICILS (International Computer and Information Literacy Study). Demnach hat ein Großteil der deutschen Schulen trotz aller Anstrengungen in den vergangenen Jahren bei der IT-Ausstattung und dem Einsatz von digitalen Medien im Unterricht weiter teils erheblichen Nachholbedarf. Es gebe zwar im Vergleich zur letzten Studie vor fünf Jahren deutliche Fortschritte, sagte die Leiterin des nationalen ICILS-Forschungszentrums, Birgit Eickelmann, im Gespräch mit der taz. Manche Zahlen seien jedoch  alarmierend .\\nSo gab je\\xadde:r dritte Acht\\xadkläss\\xadle\\xadr:in an, über kein WLAN an der Schule zu verfügen. Auf ein digitales Endgerät kommen im Schnitt vier Schüler:innen. Und zwei Drittel der Schulen gaben zum Zeitpunkt der Befragung vor gut einem Jahr an, dass ihre IT-Ausstattung ohne den Digitalpakt 2.0 nicht sichergestellt sei. Eickelmann vermutet, dass die Quote mittlerweile noch deutlich höher liegen dürfte.\\nEin zentrales Problem sieht die Professorin für Schulpädagogik an der Universität Paderborn in dem  digital divide    also der Tatsache, dass Schü\\xadle\\xadr:in\\xadnen von nichtgymnasialen Schulformen bei den getesteten digitalen Kompetenzen deutlich schlechter abschneiden als Gymnasiast:innen.  Wir sehen, dass rund die Hälfte der Acht\\xadkläss\\xadle\\xadr:in\\xadnen an diesen Schulformen, die wir ja für Digital Natives halten, im Grunde nur klicken und wischen können.  Eine Erklärung dafür sieht Eickelmann auch in der strukturellen Benachteiligung von nichtgymnasialen Schulen. Dort sei die Personaldecke häufig dünner und fachfremder Unterricht üblicher als an Gymnasien.\\nDen Handlungsbedarf sehen auch die früheren Ampel-Koalitionäre. Allerdings ziehen sie unterschiedliche Schlüsse aus den ICILS-Ergebnissen: Die bildungspolitische Sprecherin der FDP-Fraktion, Ria Schröder, sieht die Länder in der Pflicht, sich zu verpflichtenden Lehrerfortbildungen zu bekennen. Fachpolitikerinnen der Grünen machen Stark-Watzinger für die Versäumnisse verantwortlich. Die wiederum nimmt ihren Nachfolger in die Pflicht:  Der #Digitalpakt 2.0 muss zum 1. Januar an den Start gehen.  Die Schü\\xadle\\xadr:in\\xadnen verdienten eine verlässliche Perspektive für eine digitale Bildung, die ihnen alle Möglichkeiten eröffnet.\\nDer Wahlkampf geht weiter.\\nAuf ein digitales Endgerät kommen im Schnitt vier Schü\\xadle\\xadr:in\\xadnen\\n\\nLoad-Date:\\xa0November 12, 2024\\n\\n\\nEnd of Document\\n\\n\\n\\n\\n\\n\\nUS-Wahl, Ampel-Aus und Entbürokratisierung; Zahlreiche Themen bei Mittelstands- und Wirtschaftsunion / Staatsminister Pentz kann nicht wie geplant dabei sein\\nOdenwälder Echo\\nMontag 11. November 2024\\n\\n\\nCopyright 2024 Echo Zeitungen GmbH Alle Rechte Vorbehalten\\n\\n\\nSection:\\xa0REGION; ODENWÄLDER ECHO; S. 17\\nLength:\\xa0558 words\\nByline:\\xa0Bernd Sterzelmaier\\nBody\\n\\n\\nVIERNHEIM. Hessens Staatsminister Manfred Pentz sollte in Viernheim zu den Mitgliedern der Mittelstands- und Wirtschaftsunion Bergstraße (MIT) sprechen. Doch während die 40 Gäste in \"Werners Stubb\" auf den Redner und das Martinsgans-Menü warteten, informierte Vorsitzender Matthias Wilkes, dass der Minister für Bundesangelegenheiten auf dem Weg nach Berlin sei. Was es dort zu besprechen gab, bedurfte keiner Erklärung.\\n\"Innerhalb der vergangenen 24 Stunden hat sich vieles auf einen Schlag verändert\", sagte Wilkes. Sowohl der Wahlausgang in den USA, als auch das Ende der Ampelkoalition habe die Bürger verunsichert. Niemand könne voraussagen, wie sich das Verhältnis USA-Europa unter Präsident Donald Trump verändert, und niemand wisse, wie es in Berlin weitergeht.\\nWilkes springt mit Rede für Pentz ein\\nMit seiner Rede sprang der frühere Bergsträßer Landrat in Viernheim für Pentz ein. Wilkes beschrieb die Lage in Deutschland und in Europa. Er verwies nicht nur auf die Regierungskrise in Berlin, sondern auch darauf, dass in den Bundesländern Sachsen, Thüringen und Brandenburg mehrere Wochen nach den Landtagswahlen noch keine Regierungsbildung in Sicht sei. \"Das erzeugt bei den Menschen ein Ohnmachtsgefühl, das sie in die Hände von Rattenfängern von rechts und links treibt\", so seine Schlussfolgerung.\\nDie Verunsicherungen nach der Präsidentschaftswahl in den USA wirft laut Wilkes ein Licht auf die Schwächen der EU. Europa müsse \"sein Schicksal selbst in die Hand nehmen\". Die Armeen der 27 EU-Staaten verfügen laut Wilkes zusammen über 1,9 Millionen Soldaten gegenüber 900.000 in der US-Armee. Andere Quellen sprechen in etwa von einem Gleichstand.\\nWilkes warnte vor einem \"Neo-Nationalismus\". In vielen Ländern werde \"das Rad der europäischen Einigung zurückgedreht\". Deutschland profitiere am meisten vom europäischen Binnenmarkt. Er erwarte im Bundestagswahlkampf von allen demokratischen Parteien ein klares Bekenntnis zu Europa. \"Nur Dummköpfe fordern einen Austritt aus der EU\".\\nWie von der MIT gewohnt, war aus Wilkes’ Worten Kritik an der eigenen Partei anzuhören. Das galt besonders beim Thema Bürokratieabbau, über das Pentz sprechen sollte. Die vollständige Bezeichnung seines Ressorts in der Landesregierung lautet: \"für Bundes- und Europaangelegenheiten, Internationales und Entbürokratisierung\".\\nWilkes verwies auf seinen Kampf, den er von 2003 bis 2015 als Landrat gegen die Bürokratien geführt habe und den er als Mitglied einer MIT-Arbeitsgruppe auf Bundesebene weiterführe. Obwohl der Staat Millionen für Digitalisierung ausgebe, blieben die Strukturen unverändert, und es werde weiter Personal eingestellt.\\nMinister Pentz hatte vor wenigen Tagen in Wiesbaden vom Kampf der Landesregierung gegen die Bürokratie berichtet. Mittlerweile gebe es in jedem Ministerium Entbürokratisierungsbeauftragte. Um von Missständen zu erfahren, wurde unter bessereinfach.hessen.de der \"Bürokratiemelder\" online gestellt. Ein Hindernis für Bürokratieabbau hat der Minister identifiziert: \"Datenschutz ist der neue Denkmalschutz\".\\nIn Viernheim wurde von den Diskussionsteilnehmern berichtet, wie Bürokratie der mittelständischen Wirtschaft schade. Die Hoffnungen ruhen darauf, dass der CDU-Vorsitzende Friedrich Merz nach der vorgezogenen Bundestagswahl eine Regierung bilden kann, die einen \"Neuanfang auf allen Ebenen\" ermöglicht. KOMMENTAR\\n\\nLoad-Date:\\xa0November 10, 2024\\n\\n\\nEnd of Document\\n\\n\\n\\n\\n\\n\\nUS-Wahl, Ampel-Aus und Entbürokratisierung; Zahlreiche Themen bei Mittelstands- und Wirtschaftsunion / Staatsminister Pentz kann nicht wie geplant dabei sein\\nStarkenburger Echo\\nMontag 11. November 2024\\n\\n\\nCopyright 2024 Echo Zeitungen GmbH Alle Rechte Vorbehalten\\n\\n\\nSection:\\xa0REGION; ; S. 9\\nLength:\\xa0558 words\\nByline:\\xa0Bernd Sterzelmaier\\nBody\\n\\n\\nVIERNHEIM. Hessens Staatsminister Manfred Pentz sollte in Viernheim zu den Mitgliedern der Mittelstands- und Wirtschaftsunion Bergstraße (MIT) sprechen. Doch während die 40 Gäste in \"Werners Stubb\" auf den Redner und das Martinsgans-Menü warteten, informierte Vorsitzender Matthias Wilkes, dass der Minister für Bundesangelegenheiten auf dem Weg nach Berlin sei. Was es dort zu besprechen gab, bedurfte keiner Erklärung.\\n\"Innerhalb der vergangenen 24 Stunden hat sich vieles auf einen Schlag verändert\", sagte Wilkes. Sowohl der Wahlausgang in den USA, als auch das Ende der Ampelkoalition habe die Bürger verunsichert. Niemand könne voraussagen, wie sich das Verhältnis USA-Europa unter Präsident Donald Trump verändert, und niemand wisse, wie es in Berlin weitergeht.\\nWilkes springt mit Rede für Pentz ein\\nMit seiner Rede sprang der frühere Bergsträßer Landrat in Viernheim für Pentz ein. Wilkes beschrieb die Lage in Deutschland und in Europa. Er verwies nicht nur auf die Regierungskrise in Berlin, sondern auch darauf, dass in den Bundesländern Sachsen, Thüringen und Brandenburg mehrere Wochen nach den Landtagswahlen noch keine Regierungsbildung in Sicht sei. \"Das erzeugt bei den Menschen ein Ohnmachtsgefühl, das sie in die Hände von Rattenfängern von rechts und links treibt\", so seine Schlussfolgerung.\\nDie Verunsicherungen nach der Präsidentschaftswahl in den USA wirft laut Wilkes ein Licht auf die Schwächen der EU. Europa müsse \"sein Schicksal selbst in die Hand nehmen\". Die Armeen der 27 EU-Staaten verfügen laut Wilkes zusammen über 1,9 Millionen Soldaten gegenüber 900.000 in der US-Armee. Andere Quellen sprechen in etwa von einem Gleichstand.\\nWilkes warnte vor einem \"Neo-Nationalismus\". In vielen Ländern werde \"das Rad der europäischen Einigung zurückgedreht\". Deutschland profitiere am meisten vom europäischen Binnenmarkt. Er erwarte im Bundestagswahlkampf von allen demokratischen Parteien ein klares Bekenntnis zu Europa. \"Nur Dummköpfe fordern einen Austritt aus der EU\".\\nWie von der MIT gewohnt, war aus Wilkes’ Worten Kritik an der eigenen Partei anzuhören. Das galt besonders beim Thema Bürokratieabbau, über das Pentz sprechen sollte. Die vollständige Bezeichnung seines Ressorts in der Landesregierung lautet: \"für Bundes- und Europaangelegenheiten, Internationales und Entbürokratisierung\".\\nWilkes verwies auf seinen Kampf, den er von 2003 bis 2015 als Landrat gegen die Bürokratien geführt habe und den er als Mitglied einer MIT-Arbeitsgruppe auf Bundesebene weiterführe. Obwohl der Staat Millionen für Digitalisierung ausgebe, blieben die Strukturen unverändert, und es werde weiter Personal eingestellt.\\nMinister Pentz hatte vor wenigen Tagen in Wiesbaden vom Kampf der Landesregierung gegen die Bürokratie berichtet. Mittlerweile gebe es in jedem Ministerium Entbürokratisierungsbeauftragte. Um von Missständen zu erfahren, wurde unter bessereinfach.hessen.de der \"Bürokratiemelder\" online gestellt. Ein Hindernis für Bürokratieabbau hat der Minister identifiziert: \"Datenschutz ist der neue Denkmalschutz\".\\nIn Viernheim wurde von den Diskussionsteilnehmern berichtet, wie Bürokratie der mittelständischen Wirtschaft schade. Die Hoffnungen ruhen darauf, dass der CDU-Vorsitzende Friedrich Merz nach der vorgezogenen Bundestagswahl eine Regierung bilden kann, die einen \"Neuanfang auf allen Ebenen\" ermöglicht. KOMMENTAR\\n\\nLoad-Date:\\xa0November 10, 2024\\n\\n\\nEnd of Document\\n\\n\\n\\n\\n\\n\\nUS-Wahl, Ampel-Aus und Entbürokratisierung; Zahlreiche Themen bei Mittelstands- und Wirtschaftsunion / Staatsminister Pentz kann nicht wie geplant dabei sein\\nBürstädter Zeitung (Germany)\\nMontag 11. November 2024\\n\\n\\nCopyright 2024 VRM GmbH & Co. KG Alle Rechte Vorbehalten\\n\\n\\nSection:\\xa0REGION; ; S. 9\\nLength:\\xa0558 words\\nByline:\\xa0Bernd Sterzelmaier\\nBody\\n\\n\\nVIERNHEIM. Hessens Staatsminister Manfred Pentz sollte in Viernheim zu den Mitgliedern der Mittelstands- und Wirtschaftsunion Bergstraße (MIT) sprechen. Doch während die 40 Gäste in \"Werners Stubb\" auf den Redner und das Martinsgans-Menü warteten, informierte Vorsitzender Matthias Wilkes, dass der Minister für Bundesangelegenheiten auf dem Weg nach Berlin sei. Was es dort zu besprechen gab, bedurfte keiner Erklärung.\\n\"Innerhalb der vergangenen 24 Stunden hat sich vieles auf einen Schlag verändert\", sagte Wilkes. Sowohl der Wahlausgang in den USA, als auch das Ende der Ampelkoalition habe die Bürger verunsichert. Niemand könne voraussagen, wie sich das Verhältnis USA-Europa unter Präsident Donald Trump verändert, und niemand wisse, wie es in Berlin weitergeht.\\nWilkes springt mit Rede für Pentz ein\\nMit seiner Rede sprang der frühere Bergsträßer Landrat in Viernheim für Pentz ein. Wilkes beschrieb die Lage in Deutschland und in Europa. Er verwies nicht nur auf die Regierungskrise in Berlin, sondern auch darauf, dass in den Bundesländern Sachsen, Thüringen und Brandenburg mehrere Wochen nach den Landtagswahlen noch keine Regierungsbildung in Sicht sei. \"Das erzeugt bei den Menschen ein Ohnmachtsgefühl, das sie in die Hände von Rattenfängern von rechts und links treibt\", so seine Schlussfolgerung.\\nDie Verunsicherungen nach der Präsidentschaftswahl in den USA wirft laut Wilkes ein Licht auf die Schwächen der EU. Europa müsse \"sein Schicksal selbst in die Hand nehmen\". Die Armeen der 27 EU-Staaten verfügen laut Wilkes zusammen über 1,9 Millionen Soldaten gegenüber 900.000 in der US-Armee. Andere Quellen sprechen in etwa von einem Gleichstand.\\nWilkes warnte vor einem \"Neo-Nationalismus\". In vielen Ländern werde \"das Rad der europäischen Einigung zurückgedreht\". Deutschland profitiere am meisten vom europäischen Binnenmarkt. Er erwarte im Bundestagswahlkampf von allen demokratischen Parteien ein klares Bekenntnis zu Europa. \"Nur Dummköpfe fordern einen Austritt aus der EU\".\\nWie von der MIT gewohnt, war aus Wilkes’ Worten Kritik an der eigenen Partei anzuhören. Das galt besonders beim Thema Bürokratieabbau, über das Pentz sprechen sollte. Die vollständige Bezeichnung seines Ressorts in der Landesregierung lautet: \"für Bundes- und Europaangelegenheiten, Internationales und Entbürokratisierung\".\\nWilkes verwies auf seinen Kampf, den er von 2003 bis 2015 als Landrat gegen die Bürokratien geführt habe und den er als Mitglied einer MIT-Arbeitsgruppe auf Bundesebene weiterführe. Obwohl der Staat Millionen für Digitalisierung ausgebe, blieben die Strukturen unverändert, und es werde weiter Personal eingestellt.\\nMinister Pentz hatte vor wenigen Tagen in Wiesbaden vom Kampf der Landesregierung gegen die Bürokratie berichtet. Mittlerweile gebe es in jedem Ministerium Entbürokratisierungsbeauftragte. Um von Missständen zu erfahren, wurde unter bessereinfach.hessen.de der \"Bürokratiemelder\" online gestellt. Ein Hindernis für Bürokratieabbau hat der Minister identifiziert: \"Datenschutz ist der neue Denkmalschutz\".\\nIn Viernheim wurde von den Diskussionsteilnehmern berichtet, wie Bürokratie der mittelständischen Wirtschaft schade. Die Hoffnungen ruhen darauf, dass der CDU-Vorsitzende Friedrich Merz nach der vorgezogenen Bundestagswahl eine Regierung bilden kann, die einen \"Neuanfang auf allen Ebenen\" ermöglicht. KOMMENTAR\\n\\nLoad-Date:\\xa0November 10, 2024\\n\\n\\nEnd of Document\\n\\n\\n\\n\\n\\n\\nGroße Sorgen nach Ampel-Aus; Spitzensportförderung sollte erstmals im Gesetz verankert werden / Lage in Berlin beunruhigt Verbände und Athleten\\nMain-Spitze (Germany)\\nSamstag 16. November 2024\\n\\n\\nCopyright 2024 VRM GmbH & Co. KG Alle Rechte Vorbehalten\\n\\n\\nSection:\\xa0LOKALSPORT; ; S. 26\\nLength:\\xa0950 words\\nByline:\\xa0Udo Döring und Tim Bastian Strassheim\\nBody\\n\\n\\nLIMBURG/DARMSTADT. Die neue Bundesregierung ist noch lange nicht gewählt, aber sie hat schon einen klaren Auftrag: \"Sie sollte von Beginn an die losen Enden der zahlreichen begonnenen Prozesslinien zu einer übergeordneten nationalen Spitzensportstrategie zusammenbinden.\" Das formulieren die \"Athleten Deutschland\" - aus großer Sorge. Denn mit dem Bruch der Ampel-Koalition sehen sie auch den kurz zuvor verabschiedeten Entwurf des Gesetzes der Spitzensportförderung in Gefahr.\\nZiel des Gesetzentwurfs: Mehr Medaillen bei Olympia\\nEin Entwurf, deren Inhalt und Entwicklung die stets kritische Vereinigung sehr wohlwollend bewertet hat. \"In der nationalen Sportpolitik war in den vergangenen beiden Jahren eine Aufbruchstimmung spürbar wie selten zuvor. Den aktuellen Reform- und Transformationswillen haben wir über weite Strecken als authentisch empfunden\", formulierten die Athleten kurz nach einer der letzten Amtshandlungen des Bundeskabinetts unter der Führung von Kanzler Olaf Scholz.\\nEin vor zwei Jahren eingeleiteter Prozess wurde in einem Entwurf gebündelt mit den Schlagworten: Errichtung einer Spitzensport-Agentur, Verschlankung von Entscheidungsprozessen, Abbau von Bürokratie, Digitalisierung der Mittelvergabe. Oder auf den sportlichen Kern gebracht: \"Ein Ziel ist es, die Zahl der Medaillen und ersten Plätze insbesondere bei Olympischen Spielen, Welt- und Europameisterschaften langfristig zu erhöhen.\"\\nEin bekannter Reflex auf Olympia, wo Ertrag und Platzierung im Medaillenspiegel wieder einmal schlechter waren als bei den Sommerspielen zuvor. \"Unsere Athletinnen und Athleten geben alles für ihren Sport. Sie haben eine bestmögliche Unterstützung verdient\", erklärt Bundesinnenministerin Nancy Faeser zu dem Paket, das die Spitzensportförderung erstmals in einem Gesetz verankern würde - mit einer Erhöhung des Etats um 50 Millionen Euro.\\nAber gerade beim Thema Geld reiben sich ja gerne Parteien, die zueinander finden sollen. Und auch wenn das Sportfördergesetz verabschiedet werden sollte, ist eine Verzögerung durch Neuwahlen und Koalitionsverhandlungen schon jetzt garantiert. Das glaubt auch Thomas Weikert, Präsident des Deutschen Olympischen Sportbundes (DOSB): \"Wir gehen nicht davon aus, dass das Sportfördergesetz noch in dieser Legislaturperiode verabschiedet werden kann. Unser Ziel wird es daher sein müssen, das Gesetz, in dem unter anderem die Verantwortung des Bundes für die Förderung des Spitzensports erstmals gesetzlich festgeschrieben wird, mit einer neuen Bundesregierung anzustreben.\"\\nDass dies unbedingt passieren müsse, ist für den Limburger klar, der das Gesetz als weiteren wichtigen Schritt in die richtige Richtung sieht: \"Gesetz und Agentur sind essenziell, um den Spitzensport in Deutschland sowie unsere Athletinnen und Athleten mittel- und langfristig konkurrenzfähiger und damit erfolgreicher zu machen.\"\\nKein Zweifel, das Aus der Ampel erschwere die Planungen. \"Das hat auch für uns konkrete Auswirkungen - denn eine vorläufige Haushaltsführung stellt uns in verschiedenen Bereichen vor Herausforderungen\", erklärt Juliane Kuhlmann als Präsidentin des Landessportbundes Hessen und nennt bundesfinanzierte Olympiastützpunkte als Beispiel, für die der Gesetzentwurf ja mehr Geld in Aussicht stellt: \"Dies ist nun ab 2025 gefährdet und wir müssen weiterhin mit einem unterfinanzierten Olympiastützpunkt-System umgehen. Dass das nicht gerade förderlich ist für den Spitzensport, versteht sich von selbst.\"\\nAls Chefin eines der 16 Landessportbünde gibt die in Nauheim lebende Juliane Kuhlmann für die Bewertung des Sportfördergesetzes die Parole aus: \"Es ist nie alleine, sondern immer im Kontext zu sehen.\" Denn ein Gesetz allein sorge noch lange nicht für mehr Medaillen. So wirft sie vor allem die Sportstättenentwicklung als nächste Baustelle in den politischen Ring: \"Ohne ein mehrjähriges Förderengagement des Bundes ist der milliardenschwere Sanierungsstau der Sportstätten nicht zu beseitigen - wir fahren da auf Verschleiß und das bedeutet, dass Sport für den Nachwuchs unattraktiver wird.\"\\nAbsicherung von Trainern, Entbürokratisierung, Flexibilisierung - drei weitere Schwerpunkte, in denen sich der Entwurf aus Sicht der LSBH-Präsidentin eher noch verbessern ließe. In die gleiche Kerbe schlägt auch Thomas Weikert: \"Die Bundesregierung nutzt weiterhin nicht alle Möglichkeiten aus, die ihr zur Verfügung stünden. Beispielsweise ist es dringend notwendig, die Festbetragsfinanzierung als Standard der Verbändeförderung einzuführen, um Verbände deutlich zu entlasten und einen zusätzlichen Anreiz zur Mitteleinwerbung zu schaffen. Auch bei der sozialen Absicherung der Trainer und der Athleten sehen wir Nachbesserungsbedarf.\"\\nJuliane Kuhlmann befürchtet aber auch Reibungsverluste. Beispiel: das sogenannte Gesundes-Herz-Gesetz des Bundesgesundheitsministeriums. \"Das fällt wohl dem Diskontinuitätsprinzip anheim. Dieses Gesetz hätte die Finanzierung von qualitätsgesicherten Präventionsangeboten der Sportvereine auf dem Altar eines überzogenen Reformeifers geopfert und der jahrelange Aufbau eines entsprechenden Angebotssystems durch unsere Sportvereine wäre umsonst gewesen.\"\\nKarrieren von Athleten sind \"kurz und fragil\"\\nDie Athleten Deutschland sorgen sich wiederum um den Aufbau des unabhängigen Zentrums für Safe Sport, das bereits von der Vorgängerregierung auf den Weg gebracht wurde. \"Insbesondere der Schutz der Athletinnen und Athleten vor Gewalt und Missbrauch darf jetzt auf keinen Fall der veränderten politischen Lage zum Opfer fallen.\" Generell fordert die Vereinigung zügige Umsetzung der Reformen \"im Sinne der Athletinnen und Athleten, deren Karrieren kurz und fragil sind\". Und wenig Spielraum lassen für politische Zankereien.\\n\\nLoad-Date:\\xa0November 15, 2024\\n\\n\\nEnd of Document\\n\\n\\n\\n\\n\\n\\nChristian Lindner: \"Deutschlands frechster Arbeitsloser!\" Netz verspottet FDP-Politiker\\nNews.de\\nDonnerstag 7. November 2024\\n\\n\\nCopyright 2024 MM New Media GmbH  Alle Rechte Vorbehalten\\n\\n\\nSection:\\xa0RELIGION NEWS\\nLength:\\xa0568 words\\nByline:\\xa0news.de-Redakteurin Anika Bube\\nBody\\n\\n\\nGelächter über Christian Lindner nach Ampel-Zusammenbruch\\nNetz zündet Meme-Feuerwerk\\nDie lustigsten Tweets zum Lindner-Rauswurf\\nDie Ampel-Koalition ist zerbrochen: Nach einem Zerwürfnis hat Bundeskanzler Olaf Scholz (SPD) den Bundesfinanzminister Christian Lindner (FDP) rausgeworfen. In einer Rede rechnete Scholz knallhart mit dem FDP-Politiker ab. Der Bundeskanzler wirft Lindner vor, in der gemeinsamen Regierungszeit Kompromisse durch öffentlich inszenierten Streit übertönt und Gesetze sachfremd blockiert zu haben. Der FDP-Politiker gab die Vorwürfe zurück und warf dem Kanzler vor, er habe den Bruch der Ampel-Koalition gezielt herbeigeführt.\\nLesen Sie auch:\\nDie Voraussetzungen für eine vorzeitige Bundestagswahl\\nBizarre Szene nach Bauernkundgebung! Video zeigt \"fliehenden Lindner\"\\nShitstorm für Neujahrsgrüße! Sylt-Post von Christian Lindner sorgt für Wirbel im Netz\\nZusammenbruch der Ampel-Koalition: Netz amüsiert sich über Lindner-Rauswurf\\nWährend sich ganz Deutschland fragt, wie es nun weitergeht, zündet das Netz ein wahres Meme-Feuerwerk. Im Mittelpunkt: Christian Lindner. Ein Meme zeigt ein Wahlplakat im typischen FDP-Look. Schwarz-Weiß-Foto von Lindner und die Farben Gelb und Pink. \"Der schlechteste Finanzminister, den Deutschland jemals hatte\", ist darauf zu lesen. \"Christian #Lindner wird in die Geschichte unseres Landes eingehen - als Blockierer, Saboteur, Nervensäge, Narzisst, als schlechtester Finanzminister, den Deutschland jemals hatte\", schreibt ein X-Nutzer zu dem Meme.\\n209867\\nDie besten Memes über Christian Lindner\\n\"Erst Arbeitslosigkeit & Alkohol, dann kündigt dir Jens Spahn die Wohnung. Armut kommt oft unverhofft. Lasst uns nicht wegschauen! Wir alle sind Christian\", schreibt ein X-Nutzer zu einem Foto, das Christian Lindner offenbar mit einem Glas Wein im Bundeskanzleramt zeigt. \"Don\\'t be part of the problem. Be the entire problem\" (auf Deutsch: \"Sei nicht Teil des Problems, sei das Problem\"), heißt auf einem anderen Meme auf der Social-Media-Plattform X. Auf der Grafik sieht man Christian Lindner mit einer Tasse Klarlack in der Hand zeigt.\\n209864\\nEin anderer X-Nutzer teilt einen kurzen Video-Schnipsel, der an einen schmerzhaften Fauxpas beim Bundesparteitag der FDP im vergangenen Jahr erinnert. Darin sieht man, wie FDP-Politikerin Nicola Beer mitten auf der Bühne versehentlich in den Schritt schlägt. \"Wie Finanzminister Christian Lindner in die Geschichtsbücher eingehen wird\", heißt es in dem dazugehörigen Tweet.\\n209870\"Morgen, 8.00 Uhr Arbeitsamt, gar kein Bock. #lindner\", heißt es in einem anderen Tweet zu einem Foto, das den FDP-Politiker offenbar schweißnass zeigt. Ein anderer X-Nutzer teilt ein seriöseres Foto von Lindner und schreibt dazu \"Deutschlands frechster Arbeitsloser\".\\xa0\\n209873209876209879Ein weiteres Meme spielt auf eine Szene im Film \"Fluch der Karibik\" an. \"Ihr seid der schlechteste Finanzminister, von dem ich je gehört habe\", sagte James Norrington. \"Aber ihr habt von mir gehört\", antwortet Lindner. \"Zum #AmpelAus und wie Lindner sich in der Sache sieht\", kommentiert ein X-Nutzer das Meme.\\xa0\\n209885\"Dieses Memes zum #AmpelAus sind einfach Gold\", schreibt ein X-Nutzer zu einem Meme, das auf eine legendäre Szene der Reality-TV-Show \"Temptation Island\" anspielt.\\n209888\\nFolgen Sie News.de schon bei WhatsApp, Facebook, Twitter, Pinterest und YouTube? Hier finden Sie brandheiße News, aktuelle Videos und den direkten Draht zur Redaktion.\\n\\nLoad-Date:\\xa0November 7, 2024\\n\\n\\nEnd of Document\\n\\n\\n\\n\\n\\n\\nGroße Sorgen nach Ampel-Aus; Spitzensportförderung sollte erstmals im Gesetz verankert werden / Lage in Berlin beunruhigt Verbände und Athleten\\nRüsselsheimer Echo\\nSamstag 16. November 2024\\n\\n\\nCopyright 2024 VRM GmbH & Co. KG Alle Rechte Vorbehalten\\n\\n\\nSection:\\xa0LOKALSPORT; RÜSSELSHEIMER ECHO; S. 26\\nLength:\\xa0950 words\\nByline:\\xa0Udo Döring und Tim Bastian Strassheim\\nBody\\n\\n\\nLIMBURG/DARMSTADT. Die neue Bundesregierung ist noch lange nicht gewählt, aber sie hat schon einen klaren Auftrag: \"Sie sollte von Beginn an die losen Enden der zahlreichen begonnenen Prozesslinien zu einer übergeordneten nationalen Spitzensportstrategie zusammenbinden.\" Das formulieren die \"Athleten Deutschland\" - aus großer Sorge. Denn mit dem Bruch der Ampel-Koalition sehen sie auch den kurz zuvor verabschiedeten Entwurf des Gesetzes der Spitzensportförderung in Gefahr.\\nZiel des Gesetzentwurfs: Mehr Medaillen bei Olympia\\nEin Entwurf, deren Inhalt und Entwicklung die stets kritische Vereinigung sehr wohlwollend bewertet hat. \"In der nationalen Sportpolitik war in den vergangenen beiden Jahren eine Aufbruchstimmung spürbar wie selten zuvor. Den aktuellen Reform- und Transformationswillen haben wir über weite Strecken als authentisch empfunden\", formulierten die Athleten kurz nach einer der letzten Amtshandlungen des Bundeskabinetts unter der Führung von Kanzler Olaf Scholz.\\nEin vor zwei Jahren eingeleiteter Prozess wurde in einem Entwurf gebündelt mit den Schlagworten: Errichtung einer Spitzensport-Agentur, Verschlankung von Entscheidungsprozessen, Abbau von Bürokratie, Digitalisierung der Mittelvergabe. Oder auf den sportlichen Kern gebracht: \"Ein Ziel ist es, die Zahl der Medaillen und ersten Plätze insbesondere bei Olympischen Spielen, Welt- und Europameisterschaften langfristig zu erhöhen.\"\\nEin bekannter Reflex auf Olympia, wo Ertrag und Platzierung im Medaillenspiegel wieder einmal schlechter waren als bei den Sommerspielen zuvor. \"Unsere Athletinnen und Athleten geben alles für ihren Sport. Sie haben eine bestmögliche Unterstützung verdient\", erklärt Bundesinnenministerin Nancy Faeser zu dem Paket, das die Spitzensportförderung erstmals in einem Gesetz verankern würde - mit einer Erhöhung des Etats um 50 Millionen Euro.\\nAber gerade beim Thema Geld reiben sich ja gerne Parteien, die zueinander finden sollen. Und auch wenn das Sportfördergesetz verabschiedet werden sollte, ist eine Verzögerung durch Neuwahlen und Koalitionsverhandlungen schon jetzt garantiert. Das glaubt auch Thomas Weikert, Präsident des Deutschen Olympischen Sportbundes (DOSB): \"Wir gehen nicht davon aus, dass das Sportfördergesetz noch in dieser Legislaturperiode verabschiedet werden kann. Unser Ziel wird es daher sein müssen, das Gesetz, in dem unter anderem die Verantwortung des Bundes für die Förderung des Spitzensports erstmals gesetzlich festgeschrieben wird, mit einer neuen Bundesregierung anzustreben.\"\\nDass dies unbedingt passieren müsse, ist für den Limburger klar, der das Gesetz als weiteren wichtigen Schritt in die richtige Richtung sieht: \"Gesetz und Agentur sind essenziell, um den Spitzensport in Deutschland sowie unsere Athletinnen und Athleten mittel- und langfristig konkurrenzfähiger und damit erfolgreicher zu machen.\"\\nKein Zweifel, das Aus der Ampel erschwere die Planungen. \"Das hat auch für uns konkrete Auswirkungen - denn eine vorläufige Haushaltsführung stellt uns in verschiedenen Bereichen vor Herausforderungen\", erklärt Juliane Kuhlmann als Präsidentin des Landessportbundes Hessen und nennt bundesfinanzierte Olympiastützpunkte als Beispiel, für die der Gesetzentwurf ja mehr Geld in Aussicht stellt: \"Dies ist nun ab 2025 gefährdet und wir müssen weiterhin mit einem unterfinanzierten Olympiastützpunkt-System umgehen. Dass das nicht gerade förderlich ist für den Spitzensport, versteht sich von selbst.\"\\nAls Chefin eines der 16 Landessportbünde gibt die in Nauheim lebende Juliane Kuhlmann für die Bewertung des Sportfördergesetzes die Parole aus: \"Es ist nie alleine, sondern immer im Kontext zu sehen.\" Denn ein Gesetz allein sorge noch lange nicht für mehr Medaillen. So wirft sie vor allem die Sportstättenentwicklung als nächste Baustelle in den politischen Ring: \"Ohne ein mehrjähriges Förderengagement des Bundes ist der milliardenschwere Sanierungsstau der Sportstätten nicht zu beseitigen - wir fahren da auf Verschleiß und das bedeutet, dass Sport für den Nachwuchs unattraktiver wird.\"\\nAbsicherung von Trainern, Entbürokratisierung, Flexibilisierung - drei weitere Schwerpunkte, in denen sich der Entwurf aus Sicht der LSBH-Präsidentin eher noch verbessern ließe. In die gleiche Kerbe schlägt auch Thomas Weikert: \"Die Bundesregierung nutzt weiterhin nicht alle Möglichkeiten aus, die ihr zur Verfügung stünden. Beispielsweise ist es dringend notwendig, die Festbetragsfinanzierung als Standard der Verbändeförderung einzuführen, um Verbände deutlich zu entlasten und einen zusätzlichen Anreiz zur Mitteleinwerbung zu schaffen. Auch bei der sozialen Absicherung der Trainer und der Athleten sehen wir Nachbesserungsbedarf.\"\\nJuliane Kuhlmann befürchtet aber auch Reibungsverluste. Beispiel: das sogenannte Gesundes-Herz-Gesetz des Bundesgesundheitsministeriums. \"Das fällt wohl dem Diskontinuitätsprinzip anheim. Dieses Gesetz hätte die Finanzierung von qualitätsgesicherten Präventionsangeboten der Sportvereine auf dem Altar eines überzogenen Reformeifers geopfert und der jahrelange Aufbau eines entsprechenden Angebotssystems durch unsere Sportvereine wäre umsonst gewesen.\"\\nKarrieren von Athleten sind \"kurz und fragil\"\\nDie Athleten Deutschland sorgen sich wiederum um den Aufbau des unabhängigen Zentrums für Safe Sport, das bereits von der Vorgängerregierung auf den Weg gebracht wurde. \"Insbesondere der Schutz der Athletinnen und Athleten vor Gewalt und Missbrauch darf jetzt auf keinen Fall der veränderten politischen Lage zum Opfer fallen.\" Generell fordert die Vereinigung zügige Umsetzung der Reformen \"im Sinne der Athletinnen und Athleten, deren Karrieren kurz und fragil sind\". Und wenig Spielraum lassen für politische Zankereien.\\n\\nLoad-Date:\\xa0November 15, 2024\\n\\n\\nEnd of Document\\n\\n\\n\\n\\n\\n\\nMerz fordert Vertrauensfrage sofort; CDU-Chef macht nach Ampel-Aus punktuelle Zusammenarbeit mit Rot-Grün von Wahltermin im Januar abhängig\\nLampertheimer Zeitung (Germany)\\nFreitag 8. November 2024\\n\\n\\nCopyright 2024 VRM GmbH & Co. KG Alle Rechte Vorbehalten\\n\\n\\nSection:\\xa0POLITIK; LAMPERTHEIMER ZEITUNG; S. 1\\nLength:\\xa0527 words\\nBody\\n\\n\\nBERLIN (dpa). Die Ampel ist gescheitert, in Deutschland steht eine Neuwahl an - nur wann? Geht es nach der Opposition, der deutschen Wirtschaft und den europäischen Partnern, wird möglichst schnell und am besten noch im Januar ein neuer Bundestag gewählt. Bundeskanzler Olaf Scholz (SPD) hingegen hat andere zeitliche Vorstellungen: Er will am 15. Januar die Vertrauensfrage im Bundestag stellen und so eine vorgezogene Neuwahl Ende März herbeiführen. Bundespräsident Frank-Walter Steinmeier hat auf diesem Weg eine Schlüsselrolle und sagt: \"Zu dieser Entscheidung stehe ich bereit.\"\\nEs ist bekannt, dass das Verhältnis zwischen Kanzler Scholz und Friedrich Merz, dem Kanzlerkandidaten der Union, angespannt ist. Dennoch bot Scholz der CDU/CSU gleich nach dem Rausschmiss von Finanzminister Christian Lindner (FDP) aus der Regierung eine Zusammenarbeit an. Ein gut einstündiges Gespräch zwischen Merz und Scholz blieb nach Angaben aus der Unionsfraktion ergebnislos. Merz habe klargemacht, die Union sei bereit, über Tagesordnungspunkte oder Gesetze im Bundestag zu sprechen. Aber erst müsse der Bundeskanzler bis spätestens Anfang nächster Woche die Vertrauensfrage stellen. Merz hält dann einen Wahltermin in der zweiten Januar-Hälfte für möglich. Aber Scholz hält an seinem Zeitplan fest. Er werde tun, was für das Land notwendig sei, sagte der SPD-Politiker. Es gehe bei einer Zusammenarbeit mit der Union um Lösungen zur Stärkung der Wirtschaft und der Verteidigung - um Fragen, \"die entscheidend sind für unser Land, konstruktiv zusammenzuarbeiten: bei der schnellen Stärkung unserer Wirtschaft und unserer Verteidigung\". Vizekanzler Robert Habeck (Grüne) sagte, er würde eine Zusammenarbeit mit der Union begrüßen.\\nNach dem Bruch der Ampel-Koalition redete der Bundespräsident den Akteuren ins Gewissen. \"Es ist nicht die Zeit für Taktik und Scharmützel\", sagte Steinmeier auch mit Blick auf die Wahl von Donald Trump zum nächsten Präsidenten der USA. \"Es ist die Zeit für Vernunft und Verantwortung.\" Er als Bundespräsident werde über die Auflösung des Bundestages zu entscheiden haben. \"Aber unser Land braucht stabile Mehrheiten und eine handlungsfähige Regierung. Das wird mein Prüfungsmaßstab sein.\"\\nWissing tritt aus FDP aus und bleibt im Kabinett\\nSteinmeier überreichte Finanzminister Lindner sowie Justizminister Marco Buschmann und Bildungsministerin Bettina Stark-Watzinger von der FDP im Schloss Bellevue die Entlassungsurkunden. Zugleich erhielt der wirtschaftspolitische Berater von Scholz, Jörg Kukies (SPD), seine Ernennungsurkunde zum Bundesfinanzminister.\\nAls einziger FDP-Politiker verbleibt Bundesverkehrsminister Volker Wissing im Kabinett, der aber aus der FDP ausgetreten ist. Steinmeier ernannte ihn zum neuen Bundesjustizminister. Sein Amt als Verkehrsminister behält er. Das Bildungsministerium übernimmt zusätzlich Agrarminister Cem Özdemir (Grüne). Nach dem Bruch des Kanzlers mit der FDP gibt es dann zum ersten Mal seit 2005 wieder eine rot-grüne Regierung. Der Bruch der ersten Koalition von SPD, Grünen und FDP auf Bundesebene war nach einem erbitterten Richtungsstreit über den Kurs in der Wirtschafts- und Haushaltspolitik erfolgt.\\n\\nLoad-Date:\\xa0November 7, 2024\\n\\n\\nEnd of Document\\n\\n\\n\\n\\n\\n\\nMerz fordert Vertrauensfrage sofort; CDU-Chef macht nach Ampel-Aus punktuelle Zusammenarbeit mit Rot-Grün von Wahltermin im Januar abhängig\\nMain-Spitze (Germany)\\nFreitag 8. November 2024\\n\\n\\nCopyright 2024 VRM GmbH & Co. KG Alle Rechte Vorbehalten\\n\\n\\nSection:\\xa0POLITIK; ; S. 1\\nLength:\\xa0527 words\\nBody\\n\\n\\nBERLIN (dpa). Die Ampel ist gescheitert, in Deutschland steht eine Neuwahl an - nur wann? Geht es nach der Opposition, der deutschen Wirtschaft und den europäischen Partnern, wird möglichst schnell und am besten noch im Januar ein neuer Bundestag gewählt. Bundeskanzler Olaf Scholz (SPD) hingegen hat andere zeitliche Vorstellungen: Er will am 15. Januar die Vertrauensfrage im Bundestag stellen und so eine vorgezogene Neuwahl Ende März herbeiführen. Bundespräsident Frank-Walter Steinmeier hat auf diesem Weg eine Schlüsselrolle und sagt: \"Zu dieser Entscheidung stehe ich bereit.\"\\nEs ist bekannt, dass das Verhältnis zwischen Kanzler Scholz und Friedrich Merz, dem Kanzlerkandidaten der Union, angespannt ist. Dennoch bot Scholz der CDU/CSU gleich nach dem Rausschmiss von Finanzminister Christian Lindner (FDP) aus der Regierung eine Zusammenarbeit an. Ein gut einstündiges Gespräch zwischen Merz und Scholz blieb nach Angaben aus der Unionsfraktion ergebnislos. Merz habe klargemacht, die Union sei bereit, über Tagesordnungspunkte oder Gesetze im Bundestag zu sprechen. Aber erst müsse der Bundeskanzler bis spätestens Anfang nächster Woche die Vertrauensfrage stellen. Merz hält dann einen Wahltermin in der zweiten Januar-Hälfte für möglich. Aber Scholz hält an seinem Zeitplan fest. Er werde tun, was für das Land notwendig sei, sagte der SPD-Politiker. Es gehe bei einer Zusammenarbeit mit der Union um Lösungen zur Stärkung der Wirtschaft und der Verteidigung - um Fragen, \"die entscheidend sind für unser Land, konstruktiv zusammenzuarbeiten: bei der schnellen Stärkung unserer Wirtschaft und unserer Verteidigung\". Vizekanzler Robert Habeck (Grüne) sagte, er würde eine Zusammenarbeit mit der Union begrüßen.\\nNach dem Bruch der Ampel-Koalition redete der Bundespräsident den Akteuren ins Gewissen. \"Es ist nicht die Zeit für Taktik und Scharmützel\", sagte Steinmeier auch mit Blick auf die Wahl von Donald Trump zum nächsten Präsidenten der USA. \"Es ist die Zeit für Vernunft und Verantwortung.\" Er als Bundespräsident werde über die Auflösung des Bundestages zu entscheiden haben. \"Aber unser Land braucht stabile Mehrheiten und eine handlungsfähige Regierung. Das wird mein Prüfungsmaßstab sein.\"\\nWissing tritt aus FDP aus und bleibt im Kabinett\\nSteinmeier überreichte Finanzminister Lindner sowie Justizminister Marco Buschmann und Bildungsministerin Bettina Stark-Watzinger von der FDP im Schloss Bellevue die Entlassungsurkunden. Zugleich erhielt der wirtschaftspolitische Berater von Scholz, Jörg Kukies (SPD), seine Ernennungsurkunde zum Bundesfinanzminister.\\nAls einziger FDP-Politiker verbleibt Bundesverkehrsminister Volker Wissing im Kabinett, der aber aus der FDP ausgetreten ist. Steinmeier ernannte ihn zum neuen Bundesjustizminister. Sein Amt als Verkehrsminister behält er. Das Bildungsministerium übernimmt zusätzlich Agrarminister Cem Özdemir (Grüne). Nach dem Bruch des Kanzlers mit der FDP gibt es dann zum ersten Mal seit 2005 wieder eine rot-grüne Regierung. Der Bruch der ersten Koalition von SPD, Grünen und FDP auf Bundesebene war nach einem erbitterten Richtungsstreit über den Kurs in der Wirtschafts- und Haushaltspolitik erfolgt.\\n\\nLoad-Date:\\xa0November 7, 2024\\n\\n\\nEnd of Document\\n\\n\\n\\n\\n\\n\\nMerz fordert Vertrauensfrage sofort; CDU-Chef macht nach Ampel-Aus punktuelle Zusammenarbeit mit Rot-Grün von Wahltermin im Januar abhängig\\nGroß-Gerauer Echo\\nFreitag 8. November 2024\\n\\n\\nCopyright 2024 Echo Zeitungen GmbH Alle Rechte Vorbehalten\\n\\n\\nSection:\\xa0POLITIK; GROSS-GERAUER ECHO; S. 1\\nLength:\\xa0527 words\\nBody\\n\\n\\nBERLIN (dpa). Die Ampel ist gescheitert, in Deutschland steht eine Neuwahl an - nur wann? Geht es nach der Opposition, der deutschen Wirtschaft und den europäischen Partnern, wird möglichst schnell und am besten noch im Januar ein neuer Bundestag gewählt. Bundeskanzler Olaf Scholz (SPD) hingegen hat andere zeitliche Vorstellungen: Er will am 15. Januar die Vertrauensfrage im Bundestag stellen und so eine vorgezogene Neuwahl Ende März herbeiführen. Bundespräsident Frank-Walter Steinmeier hat auf diesem Weg eine Schlüsselrolle und sagt: \"Zu dieser Entscheidung stehe ich bereit.\"\\nEs ist bekannt, dass das Verhältnis zwischen Kanzler Scholz und Friedrich Merz, dem Kanzlerkandidaten der Union, angespannt ist. Dennoch bot Scholz der CDU/CSU gleich nach dem Rausschmiss von Finanzminister Christian Lindner (FDP) aus der Regierung eine Zusammenarbeit an. Ein gut einstündiges Gespräch zwischen Merz und Scholz blieb nach Angaben aus der Unionsfraktion ergebnislos. Merz habe klargemacht, die Union sei bereit, über Tagesordnungspunkte oder Gesetze im Bundestag zu sprechen. Aber erst müsse der Bundeskanzler bis spätestens Anfang nächster Woche die Vertrauensfrage stellen. Merz hält dann einen Wahltermin in der zweiten Januar-Hälfte für möglich. Aber Scholz hält an seinem Zeitplan fest. Er werde tun, was für das Land notwendig sei, sagte der SPD-Politiker. Es gehe bei einer Zusammenarbeit mit der Union um Lösungen zur Stärkung der Wirtschaft und der Verteidigung - um Fragen, \"die entscheidend sind für unser Land, konstruktiv zusammenzuarbeiten: bei der schnellen Stärkung unserer Wirtschaft und unserer Verteidigung\". Vizekanzler Robert Habeck (Grüne) sagte, er würde eine Zusammenarbeit mit der Union begrüßen.\\nNach dem Bruch der Ampel-Koalition redete der Bundespräsident den Akteuren ins Gewissen. \"Es ist nicht die Zeit für Taktik und Scharmützel\", sagte Steinmeier auch mit Blick auf die Wahl von Donald Trump zum nächsten Präsidenten der USA. \"Es ist die Zeit für Vernunft und Verantwortung.\" Er als Bundespräsident werde über die Auflösung des Bundestages zu entscheiden haben. \"Aber unser Land braucht stabile Mehrheiten und eine handlungsfähige Regierung. Das wird mein Prüfungsmaßstab sein.\"\\nWissing tritt aus FDP aus und bleibt im Kabinett\\nSteinmeier überreichte Finanzminister Lindner sowie Justizminister Marco Buschmann und Bildungsministerin Bettina Stark-Watzinger von der FDP im Schloss Bellevue die Entlassungsurkunden. Zugleich erhielt der wirtschaftspolitische Berater von Scholz, Jörg Kukies (SPD), seine Ernennungsurkunde zum Bundesfinanzminister.\\nAls einziger FDP-Politiker verbleibt Bundesverkehrsminister Volker Wissing im Kabinett, der aber aus der FDP ausgetreten ist. Steinmeier ernannte ihn zum neuen Bundesjustizminister. Sein Amt als Verkehrsminister behält er. Das Bildungsministerium übernimmt zusätzlich Agrarminister Cem Özdemir (Grüne). Nach dem Bruch des Kanzlers mit der FDP gibt es dann zum ersten Mal seit 2005 wieder eine rot-grüne Regierung. Der Bruch der ersten Koalition von SPD, Grünen und FDP auf Bundesebene war nach einem erbitterten Richtungsstreit über den Kurs in der Wirtschafts- und Haushaltspolitik erfolgt.\\n\\nLoad-Date:\\xa0November 8, 2024\\n\\n\\nEnd of Document\\n\\n\\n\\n\\n\\n\\nMerz fordert Vertrauensfrage sofort; CDU-Chef macht nach Ampel-Aus punktuelle Zusammenarbeit mit Rot-Grün von Wahltermin im Januar abhängig\\nWiesbadener Kurier (Germany)\\nFreitag 8. November 2024\\n\\n\\nCopyright 2024 VRM GmbH & Co. KG Alle Rechte Vorbehalten\\n\\n\\nSection:\\xa0POLITIK; WIESBADENER KURIER STADTAUSGABE; S. 1\\nLength:\\xa0527 words\\nBody\\n\\n\\nBERLIN (dpa). Die Ampel ist gescheitert, in Deutschland steht eine Neuwahl an - nur wann? Geht es nach der Opposition, der deutschen Wirtschaft und den europäischen Partnern, wird möglichst schnell und am besten noch im Januar ein neuer Bundestag gewählt. Bundeskanzler Olaf Scholz (SPD) hingegen hat andere zeitliche Vorstellungen: Er will am 15. Januar die Vertrauensfrage im Bundestag stellen und so eine vorgezogene Neuwahl Ende März herbeiführen. Bundespräsident Frank-Walter Steinmeier hat auf diesem Weg eine Schlüsselrolle und sagt: \"Zu dieser Entscheidung stehe ich bereit.\"\\nEs ist bekannt, dass das Verhältnis zwischen Kanzler Scholz und Friedrich Merz, dem Kanzlerkandidaten der Union, angespannt ist. Dennoch bot Scholz der CDU/CSU gleich nach dem Rausschmiss von Finanzminister Christian Lindner (FDP) aus der Regierung eine Zusammenarbeit an. Ein gut einstündiges Gespräch zwischen Merz und Scholz blieb nach Angaben aus der Unionsfraktion ergebnislos. Merz habe klargemacht, die Union sei bereit, über Tagesordnungspunkte oder Gesetze im Bundestag zu sprechen. Aber erst müsse der Bundeskanzler bis spätestens Anfang nächster Woche die Vertrauensfrage stellen. Merz hält dann einen Wahltermin in der zweiten Januar-Hälfte für möglich. Aber Scholz hält an seinem Zeitplan fest. Er werde tun, was für das Land notwendig sei, sagte der SPD-Politiker. Es gehe bei einer Zusammenarbeit mit der Union um Lösungen zur Stärkung der Wirtschaft und der Verteidigung - um Fragen, \"die entscheidend sind für unser Land, konstruktiv zusammenzuarbeiten: bei der schnellen Stärkung unserer Wirtschaft und unserer Verteidigung\". Vizekanzler Robert Habeck (Grüne) sagte, er würde eine Zusammenarbeit mit der Union begrüßen.\\nNach dem Bruch der Ampel-Koalition redete der Bundespräsident den Akteuren ins Gewissen. \"Es ist nicht die Zeit für Taktik und Scharmützel\", sagte Steinmeier auch mit Blick auf die Wahl von Donald Trump zum nächsten Präsidenten der USA. \"Es ist die Zeit für Vernunft und Verantwortung.\" Er als Bundespräsident werde über die Auflösung des Bundestages zu entscheiden haben. \"Aber unser Land braucht stabile Mehrheiten und eine handlungsfähige Regierung. Das wird mein Prüfungsmaßstab sein.\"\\nWissing tritt aus FDP aus und bleibt im Kabinett\\nSteinmeier überreichte Finanzminister Lindner sowie Justizminister Marco Buschmann und Bildungsministerin Bettina Stark-Watzinger von der FDP im Schloss Bellevue die Entlassungsurkunden. Zugleich erhielt der wirtschaftspolitische Berater von Scholz, Jörg Kukies (SPD), seine Ernennungsurkunde zum Bundesfinanzminister.\\nAls einziger FDP-Politiker verbleibt Bundesverkehrsminister Volker Wissing im Kabinett, der aber aus der FDP ausgetreten ist. Steinmeier ernannte ihn zum neuen Bundesjustizminister. Sein Amt als Verkehrsminister behält er. Das Bildungsministerium übernimmt zusätzlich Agrarminister Cem Özdemir (Grüne). Nach dem Bruch des Kanzlers mit der FDP gibt es dann zum ersten Mal seit 2005 wieder eine rot-grüne Regierung. Der Bruch der ersten Koalition von SPD, Grünen und FDP auf Bundesebene war nach einem erbitterten Richtungsstreit über den Kurs in der Wirtschafts- und Haushaltspolitik erfolgt.\\n\\nLoad-Date:\\xa0November 7, 2024\\n\\n\\nEnd of Document\\n\\n\\n\\n\\n\\n\\nMerz fordert Vertrauensfrage sofort; CDU-Chef macht nach Ampel-Aus punktuelle Zusammenarbeit mit Rot-Grün von Wahltermin im Januar abhängig\\nAllgemeine Zeitung (Germany)\\nFreitag 8. November 2024\\n\\n\\nCopyright 2024 VRM GmbH & Co. KG Alle Rechte Vorbehalten\\n\\n\\nSection:\\xa0POLITIK; ALLGEMEINE ZEITUNG MAINZ; S. 1\\nLength:\\xa0527 words\\nBody\\n\\n\\nBERLIN (dpa). Die Ampel ist gescheitert, in Deutschland steht eine Neuwahl an - nur wann? Geht es nach der Opposition, der deutschen Wirtschaft und den europäischen Partnern, wird möglichst schnell und am besten noch im Januar ein neuer Bundestag gewählt. Bundeskanzler Olaf Scholz (SPD) hingegen hat andere zeitliche Vorstellungen: Er will am 15. Januar die Vertrauensfrage im Bundestag stellen und so eine vorgezogene Neuwahl Ende März herbeiführen. Bundespräsident Frank-Walter Steinmeier hat auf diesem Weg eine Schlüsselrolle und sagt: \"Zu dieser Entscheidung stehe ich bereit.\"\\nEs ist bekannt, dass das Verhältnis zwischen Kanzler Scholz und Friedrich Merz, dem Kanzlerkandidaten der Union, angespannt ist. Dennoch bot Scholz der CDU/CSU gleich nach dem Rausschmiss von Finanzminister Christian Lindner (FDP) aus der Regierung eine Zusammenarbeit an. Ein gut einstündiges Gespräch zwischen Merz und Scholz blieb nach Angaben aus der Unionsfraktion ergebnislos. Merz habe klargemacht, die Union sei bereit, über Tagesordnungspunkte oder Gesetze im Bundestag zu sprechen. Aber erst müsse der Bundeskanzler bis spätestens Anfang nächster Woche die Vertrauensfrage stellen. Merz hält dann einen Wahltermin in der zweiten Januar-Hälfte für möglich. Aber Scholz hält an seinem Zeitplan fest. Er werde tun, was für das Land notwendig sei, sagte der SPD-Politiker. Es gehe bei einer Zusammenarbeit mit der Union um Lösungen zur Stärkung der Wirtschaft und der Verteidigung - um Fragen, \"die entscheidend sind für unser Land, konstruktiv zusammenzuarbeiten: bei der schnellen Stärkung unserer Wirtschaft und unserer Verteidigung\". Vizekanzler Robert Habeck (Grüne) sagte, er würde eine Zusammenarbeit mit der Union begrüßen.\\nNach dem Bruch der Ampel-Koalition redete der Bundespräsident den Akteuren ins Gewissen. \"Es ist nicht die Zeit für Taktik und Scharmützel\", sagte Steinmeier auch mit Blick auf die Wahl von Donald Trump zum nächsten Präsidenten der USA. \"Es ist die Zeit für Vernunft und Verantwortung.\" Er als Bundespräsident werde über die Auflösung des Bundestages zu entscheiden haben. \"Aber unser Land braucht stabile Mehrheiten und eine handlungsfähige Regierung. Das wird mein Prüfungsmaßstab sein.\"\\nWissing tritt aus FDP aus und bleibt im Kabinett\\nSteinmeier überreichte Finanzminister Lindner sowie Justizminister Marco Buschmann und Bildungsministerin Bettina Stark-Watzinger von der FDP im Schloss Bellevue die Entlassungsurkunden. Zugleich erhielt der wirtschaftspolitische Berater von Scholz, Jörg Kukies (SPD), seine Ernennungsurkunde zum Bundesfinanzminister.\\nAls einziger FDP-Politiker verbleibt Bundesverkehrsminister Volker Wissing im Kabinett, der aber aus der FDP ausgetreten ist. Steinmeier ernannte ihn zum neuen Bundesjustizminister. Sein Amt als Verkehrsminister behält er. Das Bildungsministerium übernimmt zusätzlich Agrarminister Cem Özdemir (Grüne). Nach dem Bruch des Kanzlers mit der FDP gibt es dann zum ersten Mal seit 2005 wieder eine rot-grüne Regierung. Der Bruch der ersten Koalition von SPD, Grünen und FDP auf Bundesebene war nach einem erbitterten Richtungsstreit über den Kurs in der Wirtschafts- und Haushaltspolitik erfolgt.\\n\\nLoad-Date:\\xa0November 7, 2024\\n\\n\\nEnd of Document\\n\\n\\n\\n\\n\\n\\nMerz fordert Vertrauensfrage sofort; CDU-Chef macht nach Ampel-Aus punktuelle Zusammenarbeit mit Rot-Grün von Wahltermin im Januar abhängig\\nWormser Zeitung (Germany)\\nFreitag 8. November 2024\\n\\n\\nCopyright 2024 VRM GmbH & Co. KG Alle Rechte Vorbehalten\\n\\n\\nSection:\\xa0POLITIK; WORMSER ZEITUNG; S. 1\\nLength:\\xa0527 words\\nBody\\n\\n\\nBERLIN (dpa). Die Ampel ist gescheitert, in Deutschland steht eine Neuwahl an - nur wann? Geht es nach der Opposition, der deutschen Wirtschaft und den europäischen Partnern, wird möglichst schnell und am besten noch im Januar ein neuer Bundestag gewählt. Bundeskanzler Olaf Scholz (SPD) hingegen hat andere zeitliche Vorstellungen: Er will am 15. Januar die Vertrauensfrage im Bundestag stellen und so eine vorgezogene Neuwahl Ende März herbeiführen. Bundespräsident Frank-Walter Steinmeier hat auf diesem Weg eine Schlüsselrolle und sagt: \"Zu dieser Entscheidung stehe ich bereit.\"\\nEs ist bekannt, dass das Verhältnis zwischen Kanzler Scholz und Friedrich Merz, dem Kanzlerkandidaten der Union, angespannt ist. Dennoch bot Scholz der CDU/CSU gleich nach dem Rausschmiss von Finanzminister Christian Lindner (FDP) aus der Regierung eine Zusammenarbeit an. Ein gut einstündiges Gespräch zwischen Merz und Scholz blieb nach Angaben aus der Unionsfraktion ergebnislos. Merz habe klargemacht, die Union sei bereit, über Tagesordnungspunkte oder Gesetze im Bundestag zu sprechen. Aber erst müsse der Bundeskanzler bis spätestens Anfang nächster Woche die Vertrauensfrage stellen. Merz hält dann einen Wahltermin in der zweiten Januar-Hälfte für möglich. Aber Scholz hält an seinem Zeitplan fest. Er werde tun, was für das Land notwendig sei, sagte der SPD-Politiker. Es gehe bei einer Zusammenarbeit mit der Union um Lösungen zur Stärkung der Wirtschaft und der Verteidigung - um Fragen, \"die entscheidend sind für unser Land, konstruktiv zusammenzuarbeiten: bei der schnellen Stärkung unserer Wirtschaft und unserer Verteidigung\". Vizekanzler Robert Habeck (Grüne) sagte, er würde eine Zusammenarbeit mit der Union begrüßen.\\nNach dem Bruch der Ampel-Koalition redete der Bundespräsident den Akteuren ins Gewissen. \"Es ist nicht die Zeit für Taktik und Scharmützel\", sagte Steinmeier auch mit Blick auf die Wahl von Donald Trump zum nächsten Präsidenten der USA. \"Es ist die Zeit für Vernunft und Verantwortung.\" Er als Bundespräsident werde über die Auflösung des Bundestages zu entscheiden haben. \"Aber unser Land braucht stabile Mehrheiten und eine handlungsfähige Regierung. Das wird mein Prüfungsmaßstab sein.\"\\nWissing tritt aus FDP aus und bleibt im Kabinett\\nSteinmeier überreichte Finanzminister Lindner sowie Justizminister Marco Buschmann und Bildungsministerin Bettina Stark-Watzinger von der FDP im Schloss Bellevue die Entlassungsurkunden. Zugleich erhielt der wirtschaftspolitische Berater von Scholz, Jörg Kukies (SPD), seine Ernennungsurkunde zum Bundesfinanzminister.\\nAls einziger FDP-Politiker verbleibt Bundesverkehrsminister Volker Wissing im Kabinett, der aber aus der FDP ausgetreten ist. Steinmeier ernannte ihn zum neuen Bundesjustizminister. Sein Amt als Verkehrsminister behält er. Das Bildungsministerium übernimmt zusätzlich Agrarminister Cem Özdemir (Grüne). Nach dem Bruch des Kanzlers mit der FDP gibt es dann zum ersten Mal seit 2005 wieder eine rot-grüne Regierung. Der Bruch der ersten Koalition von SPD, Grünen und FDP auf Bundesebene war nach einem erbitterten Richtungsstreit über den Kurs in der Wirtschafts- und Haushaltspolitik erfolgt.\\n\\nLoad-Date:\\xa0November 7, 2024\\n\\n\\nEnd of Document\\n\\n\\n\\n\\n\\n\\nMerz fordert Vertrauensfrage sofort; CDU-Chef macht nach Ampel-Aus punktuelle Zusammenarbeit mit Rot-Grün von Wahltermin im Januar abhängig\\nBürstädter Zeitung (Germany)\\nFreitag 8. November 2024\\n\\n\\nCopyright 2024 VRM GmbH & Co. KG Alle Rechte Vorbehalten\\n\\n\\nSection:\\xa0POLITIK; ; S. 1\\nLength:\\xa0527 words\\nBody\\n\\n\\nBERLIN (dpa). Die Ampel ist gescheitert, in Deutschland steht eine Neuwahl an - nur wann? Geht es nach der Opposition, der deutschen Wirtschaft und den europäischen Partnern, wird möglichst schnell und am besten noch im Januar ein neuer Bundestag gewählt. Bundeskanzler Olaf Scholz (SPD) hingegen hat andere zeitliche Vorstellungen: Er will am 15. Januar die Vertrauensfrage im Bundestag stellen und so eine vorgezogene Neuwahl Ende März herbeiführen. Bundespräsident Frank-Walter Steinmeier hat auf diesem Weg eine Schlüsselrolle und sagt: \"Zu dieser Entscheidung stehe ich bereit.\"\\nEs ist bekannt, dass das Verhältnis zwischen Kanzler Scholz und Friedrich Merz, dem Kanzlerkandidaten der Union, angespannt ist. Dennoch bot Scholz der CDU/CSU gleich nach dem Rausschmiss von Finanzminister Christian Lindner (FDP) aus der Regierung eine Zusammenarbeit an. Ein gut einstündiges Gespräch zwischen Merz und Scholz blieb nach Angaben aus der Unionsfraktion ergebnislos. Merz habe klargemacht, die Union sei bereit, über Tagesordnungspunkte oder Gesetze im Bundestag zu sprechen. Aber erst müsse der Bundeskanzler bis spätestens Anfang nächster Woche die Vertrauensfrage stellen. Merz hält dann einen Wahltermin in der zweiten Januar-Hälfte für möglich. Aber Scholz hält an seinem Zeitplan fest. Er werde tun, was für das Land notwendig sei, sagte der SPD-Politiker. Es gehe bei einer Zusammenarbeit mit der Union um Lösungen zur Stärkung der Wirtschaft und der Verteidigung - um Fragen, \"die entscheidend sind für unser Land, konstruktiv zusammenzuarbeiten: bei der schnellen Stärkung unserer Wirtschaft und unserer Verteidigung\". Vizekanzler Robert Habeck (Grüne) sagte, er würde eine Zusammenarbeit mit der Union begrüßen.\\nNach dem Bruch der Ampel-Koalition redete der Bundespräsident den Akteuren ins Gewissen. \"Es ist nicht die Zeit für Taktik und Scharmützel\", sagte Steinmeier auch mit Blick auf die Wahl von Donald Trump zum nächsten Präsidenten der USA. \"Es ist die Zeit für Vernunft und Verantwortung.\" Er als Bundespräsident werde über die Auflösung des Bundestages zu entscheiden haben. \"Aber unser Land braucht stabile Mehrheiten und eine handlungsfähige Regierung. Das wird mein Prüfungsmaßstab sein.\"\\nWissing tritt aus FDP aus und bleibt im Kabinett\\nSteinmeier überreichte Finanzminister Lindner sowie Justizminister Marco Buschmann und Bildungsministerin Bettina Stark-Watzinger von der FDP im Schloss Bellevue die Entlassungsurkunden. Zugleich erhielt der wirtschaftspolitische Berater von Scholz, Jörg Kukies (SPD), seine Ernennungsurkunde zum Bundesfinanzminister.\\nAls einziger FDP-Politiker verbleibt Bundesverkehrsminister Volker Wissing im Kabinett, der aber aus der FDP ausgetreten ist. Steinmeier ernannte ihn zum neuen Bundesjustizminister. Sein Amt als Verkehrsminister behält er. Das Bildungsministerium übernimmt zusätzlich Agrarminister Cem Özdemir (Grüne). Nach dem Bruch des Kanzlers mit der FDP gibt es dann zum ersten Mal seit 2005 wieder eine rot-grüne Regierung. Der Bruch der ersten Koalition von SPD, Grünen und FDP auf Bundesebene war nach einem erbitterten Richtungsstreit über den Kurs in der Wirtschafts- und Haushaltspolitik erfolgt.\\n\\nLoad-Date:\\xa0November 7, 2024\\n\\n\\nEnd of Document\\n\\n\\n\\n\\n\\n\\nMerz fordert Vertrauensfrage sofort; CDU-Chef macht nach Ampel-Aus punktuelle Zusammenarbeit mit Rot-Grün von Wahltermin im Januar abhängig\\nOdenwälder Echo\\nFreitag 8. November 2024\\n\\n\\nCopyright 2024 Echo Zeitungen GmbH Alle Rechte Vorbehalten\\n\\n\\nSection:\\xa0POLITIK; ODENWÄLDER ECHO; S. 1\\nLength:\\xa0527 words\\nBody\\n\\n\\nBERLIN (dpa). Die Ampel ist gescheitert, in Deutschland steht eine Neuwahl an - nur wann? Geht es nach der Opposition, der deutschen Wirtschaft und den europäischen Partnern, wird möglichst schnell und am besten noch im Januar ein neuer Bundestag gewählt. Bundeskanzler Olaf Scholz (SPD) hingegen hat andere zeitliche Vorstellungen: Er will am 15. Januar die Vertrauensfrage im Bundestag stellen und so eine vorgezogene Neuwahl Ende März herbeiführen. Bundespräsident Frank-Walter Steinmeier hat auf diesem Weg eine Schlüsselrolle und sagt: \"Zu dieser Entscheidung stehe ich bereit.\"\\nEs ist bekannt, dass das Verhältnis zwischen Kanzler Scholz und Friedrich Merz, dem Kanzlerkandidaten der Union, angespannt ist. Dennoch bot Scholz der CDU/CSU gleich nach dem Rausschmiss von Finanzminister Christian Lindner (FDP) aus der Regierung eine Zusammenarbeit an. Ein gut einstündiges Gespräch zwischen Merz und Scholz blieb nach Angaben aus der Unionsfraktion ergebnislos. Merz habe klargemacht, die Union sei bereit, über Tagesordnungspunkte oder Gesetze im Bundestag zu sprechen. Aber erst müsse der Bundeskanzler bis spätestens Anfang nächster Woche die Vertrauensfrage stellen. Merz hält dann einen Wahltermin in der zweiten Januar-Hälfte für möglich. Aber Scholz hält an seinem Zeitplan fest. Er werde tun, was für das Land notwendig sei, sagte der SPD-Politiker. Es gehe bei einer Zusammenarbeit mit der Union um Lösungen zur Stärkung der Wirtschaft und der Verteidigung - um Fragen, \"die entscheidend sind für unser Land, konstruktiv zusammenzuarbeiten: bei der schnellen Stärkung unserer Wirtschaft und unserer Verteidigung\". Vizekanzler Robert Habeck (Grüne) sagte, er würde eine Zusammenarbeit mit der Union begrüßen.\\nNach dem Bruch der Ampel-Koalition redete der Bundespräsident den Akteuren ins Gewissen. \"Es ist nicht die Zeit für Taktik und Scharmützel\", sagte Steinmeier auch mit Blick auf die Wahl von Donald Trump zum nächsten Präsidenten der USA. \"Es ist die Zeit für Vernunft und Verantwortung.\" Er als Bundespräsident werde über die Auflösung des Bundestages zu entscheiden haben. \"Aber unser Land braucht stabile Mehrheiten und eine handlungsfähige Regierung. Das wird mein Prüfungsmaßstab sein.\"\\nWissing tritt aus FDP aus und bleibt im Kabinett\\nSteinmeier überreichte Finanzminister Lindner sowie Justizminister Marco Buschmann und Bildungsministerin Bettina Stark-Watzinger von der FDP im Schloss Bellevue die Entlassungsurkunden. Zugleich erhielt der wirtschaftspolitische Berater von Scholz, Jörg Kukies (SPD), seine Ernennungsurkunde zum Bundesfinanzminister.\\nAls einziger FDP-Politiker verbleibt Bundesverkehrsminister Volker Wissing im Kabinett, der aber aus der FDP ausgetreten ist. Steinmeier ernannte ihn zum neuen Bundesjustizminister. Sein Amt als Verkehrsminister behält er. Das Bildungsministerium übernimmt zusätzlich Agrarminister Cem Özdemir (Grüne). Nach dem Bruch des Kanzlers mit der FDP gibt es dann zum ersten Mal seit 2005 wieder eine rot-grüne Regierung. Der Bruch der ersten Koalition von SPD, Grünen und FDP auf Bundesebene war nach einem erbitterten Richtungsstreit über den Kurs in der Wirtschafts- und Haushaltspolitik erfolgt.\\n\\nLoad-Date:\\xa0November 8, 2024\\n\\n\\nEnd of Document\\n\\n\\n\\n\\n\\n\\nMerz fordert Vertrauensfrage sofort; CDU-Chef macht nach Ampel-Aus punktuelle Zusammenarbeit mit Rot-Grün von Wahltermin im Januar abhängig\\nDarmstädter Echo\\nFreitag 8. November 2024\\n\\n\\nCopyright 2024 Echo Zeitungen GmbH Alle Rechte Vorbehalten\\n\\n\\nSection:\\xa0POLITIK; DARMSTÄDTER ECHO WEST; S. 1\\nLength:\\xa0527 words\\nBody\\n\\n\\nBERLIN (dpa). Die Ampel ist gescheitert, in Deutschland steht eine Neuwahl an - nur wann? Geht es nach der Opposition, der deutschen Wirtschaft und den europäischen Partnern, wird möglichst schnell und am besten noch im Januar ein neuer Bundestag gewählt. Bundeskanzler Olaf Scholz (SPD) hingegen hat andere zeitliche Vorstellungen: Er will am 15. Januar die Vertrauensfrage im Bundestag stellen und so eine vorgezogene Neuwahl Ende März herbeiführen. Bundespräsident Frank-Walter Steinmeier hat auf diesem Weg eine Schlüsselrolle und sagt: \"Zu dieser Entscheidung stehe ich bereit.\"\\nEs ist bekannt, dass das Verhältnis zwischen Kanzler Scholz und Friedrich Merz, dem Kanzlerkandidaten der Union, angespannt ist. Dennoch bot Scholz der CDU/CSU gleich nach dem Rausschmiss von Finanzminister Christian Lindner (FDP) aus der Regierung eine Zusammenarbeit an. Ein gut einstündiges Gespräch zwischen Merz und Scholz blieb nach Angaben aus der Unionsfraktion ergebnislos. Merz habe klargemacht, die Union sei bereit, über Tagesordnungspunkte oder Gesetze im Bundestag zu sprechen. Aber erst müsse der Bundeskanzler bis spätestens Anfang nächster Woche die Vertrauensfrage stellen. Merz hält dann einen Wahltermin in der zweiten Januar-Hälfte für möglich. Aber Scholz hält an seinem Zeitplan fest. Er werde tun, was für das Land notwendig sei, sagte der SPD-Politiker. Es gehe bei einer Zusammenarbeit mit der Union um Lösungen zur Stärkung der Wirtschaft und der Verteidigung - um Fragen, \"die entscheidend sind für unser Land, konstruktiv zusammenzuarbeiten: bei der schnellen Stärkung unserer Wirtschaft und unserer Verteidigung\". Vizekanzler Robert Habeck (Grüne) sagte, er würde eine Zusammenarbeit mit der Union begrüßen.\\nNach dem Bruch der Ampel-Koalition redete der Bundespräsident den Akteuren ins Gewissen. \"Es ist nicht die Zeit für Taktik und Scharmützel\", sagte Steinmeier auch mit Blick auf die Wahl von Donald Trump zum nächsten Präsidenten der USA. \"Es ist die Zeit für Vernunft und Verantwortung.\" Er als Bundespräsident werde über die Auflösung des Bundestages zu entscheiden haben. \"Aber unser Land braucht stabile Mehrheiten und eine handlungsfähige Regierung. Das wird mein Prüfungsmaßstab sein.\"\\nWissing tritt aus FDP aus und bleibt im Kabinett\\nSteinmeier überreichte Finanzminister Lindner sowie Justizminister Marco Buschmann und Bildungsministerin Bettina Stark-Watzinger von der FDP im Schloss Bellevue die Entlassungsurkunden. Zugleich erhielt der wirtschaftspolitische Berater von Scholz, Jörg Kukies (SPD), seine Ernennungsurkunde zum Bundesfinanzminister.\\nAls einziger FDP-Politiker verbleibt Bundesverkehrsminister Volker Wissing im Kabinett, der aber aus der FDP ausgetreten ist. Steinmeier ernannte ihn zum neuen Bundesjustizminister. Sein Amt als Verkehrsminister behält er. Das Bildungsministerium übernimmt zusätzlich Agrarminister Cem Özdemir (Grüne). Nach dem Bruch des Kanzlers mit der FDP gibt es dann zum ersten Mal seit 2005 wieder eine rot-grüne Regierung. Der Bruch der ersten Koalition von SPD, Grünen und FDP auf Bundesebene war nach einem erbitterten Richtungsstreit über den Kurs in der Wirtschafts- und Haushaltspolitik erfolgt.\\n\\nLoad-Date:\\xa0November 8, 2024\\n\\n\\nEnd of Document\\n\\n\\n\\n\\n\\n\\nChristian Lindner News: Lindner: FDP könnte Gesetz gegen Kalte Progression zustimmen\\nNews.de\\nSonntag 10. November 2024\\n\\n\\nCopyright 2024 MM New Media GmbH  Alle Rechte Vorbehalten\\n\\n\\nSection:\\xa0RELIGION NEWS\\nLength:\\xa0334 words\\nByline:\\xa0kns/roj/news.de\\nBody\\n\\n\\nDie FDP würde im Bundestag auch nach dem Bruch der Ampel-Koalition für das Gesetz zur Eindämmung der sogenannten Kalten Progression stimmen. Es soll verhindern, dass Bürger durch den ansteigenden Steuertarif auch dann mehr an den Fiskus zahlen müssen, wenn ihre Gehaltserhöhung nur die Inflation ausgleicht.  \\nZunächst müsse Bundeskanzler Olaf Scholz (SPD) im Parlament die Vertrauensfrage stellen und so eine Neuwahl ermöglichen, sagte der FDP-Vorsitzende und vormalige Finanzminister Christian Lindner im ARD-\"Bericht aus Berlin\". \"Danach kann man sprechen über Vorhaben.\" Vordringlich sei die \"Beseitigung der Kalten Progression, also Steuerentlastungen für die arbeitende Mitte\". Er kündigte an: \"Diesem Steuergesetz, das ich selber ja erarbeitet habe, diesem Gesetz könnte natürlich die FDP zustimmen.\"  \\nBei der anstehenden Neuwahl strebt der Parteichef für die FDP ein nicht allzu knapp zweistelliges Ergebnis an. Auf die Nachfrage, ob er mit der Aussage \"Zweistellig\" 10 Prozent meine, antwortete Lindner: \"Mehr als.\"  \\nBei der Bundestagswahl 2021 hatte die FDP 11,5 Prozent erreicht. In den Umfragen liegt sie derzeit bei 3 bis 4 Prozent. Nach dem Ende der Koalition mit SPD und Grünen sieht Lindner aber ein \"Momentum\" für seine Partei, wie er sagte.  \\nWeitere aktuelle News im Ressort \"Politik\":  \\nNews des Tages am 10.11.2024: Maite Kelly: Du brauchst einen Waffenschein! / Sonntagsfrage nach Ampel-Aus: Scholz-Partei abgestürzt\\nDonald Trumps Pläne: Was hat Trump in den ersten 100 Tagen vor?\\nBlamage nach Ampel-Aus: Keine schnelle Neuwahl möglich? Angeblicher Papiermangel sorgt für Gelächter\\nNoch mehr Nachrichten über Christian Lindner lesen Sie hier.\\nFolgen Sie News.de schon bei Facebook, YouTube und WhatsApp? Hier finden Sie brandheiße News, aktuelle Videos und den direkten Draht zur Redaktion.  \\n+++ Redaktioneller Hinweis: Diese Meldung wurde basierend auf Material der Deutschen Presse-Agentur (dpa) erstellt. Bei Anmerkungen oder Rückfragen wenden Sie sich bitte an hinweis@news.de +++  \\n\\nLoad-Date:\\xa0November 11, 2024\\n\\n\\nEnd of Document\\n\\n\\n\\n\\n\\n\\nDas sagt Wiesbadens Wirtschaft zum Ampel-Aus; Handwerkskammer und IHK äußern sich besorgt zum Bruch der Koalition und sehen Eile geboten\\nWiesbadener Kurier (Germany)\\nFreitag 8. November 2024\\n\\n\\nCopyright 2024 VRM GmbH & Co. KG Alle Rechte Vorbehalten\\n\\n\\nSection:\\xa0LOKALES; WIESBADENER KURIER STADTAUSGABE; S. 9\\nLength:\\xa0403 words\\nByline:\\xa0Henri Solter\\nBody\\n\\n\\nWIESBADEN. Der Knall rund um das Aus der Berliner Ampelkoalition hat in Wiesbaden neben dem großen Echo aus den politischen Lagern auch Reaktionen der Handwerkskammer Wiesbaden (HWK) und der Industrie- und Handelskammer (IHK) hervorgerufen. Und in einem sind sich beide Kammern einig: Deutschland braucht schnell wieder eine voll handlungsfähige Regierung.\\n\"Die allgemeinen Wirtschaftsdaten, auch im Handwerk, sind ein Alarmzeichen. Das Handwerk als gleichermaßen standortgebundener und standortverbundener Wirtschaftsbereich ist deshalb dringend auf tiefgreifende und wirtschaftspolitisch schnell wirksame Maßnahmen angewiesen\", erklären HWK-Präsident Stefan Füll und Hauptgeschäftsführer Bernhard Mundschenk in einer Mitteilung. Das Aus der Berliner Ampel dürfe nicht zum monatelangen Stillstand führen. \"Wir brauchen zum schnellstmöglichen Zeitpunkt eine handlungsfähige Bundesregierung und kein monatelanges politisches Entscheidungsvakuum.\" Es sei, gerade vor dem Hintergrund der Wahlen in Amerika, allerhöchste Zeit endlich zu machen. \"Notwendig ist jetzt ein Dreiklang aus radikalem Bürokratieabbau, Senkung der Energiekosten sowie geringere Steuern und Abgaben und dabei vor allem eine Senkung der Lohnzusatzkosten, die das arbeitsintensive Handwerk in ganz besonderem Maße belasten. Nur so kann das heimische Handwerk seiner Rolle als Stabilisator der Wirtschaft sowie des Arbeits- und Ausbildungsmarktes auch in Zukunft erfüllen.\"\\nUnd auch die IHK sieht Eile geboten: \"Bereits vor dem Bruch der Koalition herrschte in weiten Teilen der Bevölkerung und der Wirtschaft erhebliche Verunsicherung, die sich nun weiter verschärft hat. Deutschland braucht dringend eine handlungsfähige Regierung, die einen klaren Kurs vorgibt und die notwendigen politischen Entscheidungen zeitnah trifft\", erklären IHK-Präsident Jörg Brömer und Hauptgeschäftsführerin Sabine Meder. Die Wirtschaft, sowohl bundesweit als auch in der Region, stehe unter erheblichem Druck: Ausbleibende Investitionen, eine steigende Zahl an Insolvenzen und höhere Arbeitslosigkeit seien die unmittelbaren Folgen, die man jetzt schon sehe. \"Die Politik ist gefordert, entschlossen gegenzusteuern und neues Vertrauen zu schaffen - etwa durch eine Senkung der Energiekosten, Steuer- und Abgabenentlastungen sowie eine konsequente Entbürokratisierung. Ohne diese notwendigen Wachstumsimpulse wird es nicht gelingen, unser Land wieder nach vorne zu bringen.\"\\n\\nLoad-Date:\\xa0November 7, 2024\\n\\n\\nEnd of Document\\n\\n\\n\\n\\n\\n\\nIm Wahlamt laufen die Vorbereitungen; Nach dem Ampel-Aus findet die Bundestagswahl am 23. Februar statt / Eine Herausforderung, aber realisierbar\\nWormser Zeitung (Germany)\\nSamstag 16. November 2024\\n\\n\\nCopyright 2024 VRM GmbH & Co. KG Alle Rechte Vorbehalten\\n\\n\\nSection:\\xa0LOKALES; WORMSER ZEITUNG; S. 11\\nLength:\\xa0764 words\\nByline:\\xa0Marina Held\\nBody\\n\\n\\nWORMS. Der Termin liegt inmitten der närrischen Zeit. Nach dem Aus der Ampel-Koalition in Berlin wird der neue Bundestag am Sonntag, 23. Februar - und damit eine Woche vor Fastnachtssonntag - gewählt. Am Dienstag haben sich die Spitzen der Bundestagsfraktionen von SPD und CDU auf den Termin verständigt, Bundeskanzler Olaf Scholz (SPD) will die Vertrauensfrage am 16. Dezember stellen. Davon, dass er die Abstimmung im Bundestag - wie gewollt - verliert, kann ausgegangen werden. Für die Kommunen, in deren Verantwortung die praktische Durchführung der Wahlen liegt, bedeutet das: Sie müssen den Turbogang zünden. In Worms ist das bereits passiert.\\nIn der Nibelungenstadt werden Wahlen von der Abteilung Kommunalverfassung, Sitzungsdienst und Wahlen der Stadtverwaltung organisiert. Auch in Worms hatte man sich dabei ursprünglich auf den Termin im September 2025 eingestellt. Wie die städtische Pressestelle mitteilt, liefen die Vorbereitungen in Teilen bereits seit dem Sommer. Der vorgezogene Termin stelle die Verwaltung vor gesteigerte organisatorische Anforderungen. Aber, auch das teilt die Stadtverwaltung mit: Er ist zu stemmen.\\nEins ist der Stadt dabei besonders wichtig: \"Wahlen sind ein Kernelement demokratischer Gesellschaften. Ihre korrekte und transparente Durchführung hat deshalb für die kommunale Verwaltung höchste Priorität\", erklärt Pressesprecher Carsten Schneider-Wiederkehr. \"Alle Ressourcen, die für eine ordnungsgemäße Durchführung erforderlich sind, wird die Stadtverwaltung Worms deshalb auch einsetzen.\"\\nDafür ist nun etwas mehr als drei Monate Zeit. Im Wahlamt werden dazu die Köpfe zusammengesteckt. Seit der Neuwahltermin bekannt ist, kommen immer wieder Anfragen von verschiedenen Stellen, ob die Organisation denn zu schaffen ist. Aber was genau muss eigentlich gestemmt werden? Und auf welche Herausforderungen blickt das Wahlamt angesichts des Termins?\\nDa sind die Wahllokale: Sie müssen bis zum 23. Februar organisiert - also angemietet - und ausgewiesen werden. Durch die vorgezogenen Wahlen könnte es dazu kommen, dass die gewohnten Lokalitäten unter Umständen nicht verfügbar sind, heißt es aus der Pressestelle. Entsprechende Anfragen liefen aber bereits. Außerdem müsse das Wahlamt Wahlurnen und weitere Materialien richten und ausliefern - und einen Pool an Wahlhelferinnen und -helfern organisieren.\\n\"Die genaue Anzahl der benötigten Wahlhelfer lässt sich gegenwärtig noch nicht benennen\", erklärt Carsten Schneider-Wiederkehr. \"Vermutlich werden wegen des tendenziell steigenden Anteils von Briefwählerinnen und Briefwählern mehr Menschen benötigt als 2021.\" Die Größenordnung: etwa 1000 Wahlhelferinnen und Wahlhelfer. Sie alle gelte es, auf ihren Einsatz vorzubereiten: Für die Schriftführer, Wahlvorsteher und weitere Wahlhelfer müssen Schulungen organisiert und durchgeführt werden.\\nZusätzlich werden Wahlbenachrichtigungen versendet, Briefwahlanträge bearbeitet und Briefwahlunterlagen verschickt. Daneben komme es auch immer wieder zu Fragen und Anliegen von Bürgerinnen und Bürgern, die beantwortet würden. Schließlich müssten Wahlvorstandsmappen vorbereitet und die Auszählung und Datenübermittlung am Wahltag und gegebenenfalls an den Folgetagen organisiert werden.\\nWeil es für die Durchführung der Wahlen viel Personal braucht, sich gleichzeitig aber tendenziell weniger Freiwillige aus der Bürgerschaft meldeten, werden aller Voraussicht nach auch für die Bundestagswahl 2025 wieder zahlreiche Bedienstete der Stadtverwaltung im Einsatz sein. Bürgerinnen und Bürger, die im Ehrenamt in den 60 Urnenwahlbezirken helfen wollen, sucht die Stadt dringend.\\nEhrenamtliche als Wahlhelfer für den 23. Februar gesucht\\nWer Wahlvorstand werden möchte, muss am Wahltag das 18. Lebensjahr vollendet haben - sprich selbst wahlberechtigt sein - und die deutsche Staatsangehörigkeit besitzen. Die Mitglieder des Wahlvorstands üben ihre Tätigkeit im Ehrenamt aus, für ihren Einsatz am Wahltag wird ihnen ein Erfrischungsgeld von 50 Euro erstattet. Wer nicht wahlberechtigt, aber älter als 14 Jahre ist und sich einbringen möchte, hat die Möglichkeit, den Wahlvorstand als Hilfsperson zu unterstützen. Auch hier gibt’s ein Dankeschön: Hilfspersonen erhalten für ihren Einsatz ein Beiblatt für ihr Zeugnis, beziehungsweise eine Bestätigung der Wahlhelfertätigkeit und einen Gutschein.\\nWer Interesse hat, einen Wahldienst zu übernehmen, wird gebeten, sich schriftlich, telefonisch oder per E-Mail an die Wahldienststelle der Stadtverwaltung Worms, Rathaus, Marktplatz 2, 67547 Worms, zu wenden. Telefon 06241-853-1108, E-Mail: wahlhelfer@worms.de KOMMENTAR\\n\\nLoad-Date:\\xa0November 15, 2024\\n\\n\\nEnd of Document\\n\\n\\n\\n\\n\\n\\nMerz fordert Vertrauensfrage sofort; CDU-Chef macht nach Ampel-Aus punktuelle Zusammenarbeit mit Rot-Grün von Wahltermin im Januar abhängig\\nRüsselsheimer Echo\\nFreitag 8. November 2024\\n\\n\\nCopyright 2024 VRM GmbH & Co. KG Alle Rechte Vorbehalten\\n\\n\\nSection:\\xa0POLITIK; RÜSSELSHEIMER ECHO; S. 1\\nLength:\\xa0527 words\\nBody\\n\\n\\nBERLIN (dpa). Die Ampel ist gescheitert, in Deutschland steht eine Neuwahl an - nur wann? Geht es nach der Opposition, der deutschen Wirtschaft und den europäischen Partnern, wird möglichst schnell und am besten noch im Januar ein neuer Bundestag gewählt. Bundeskanzler Olaf Scholz (SPD) hingegen hat andere zeitliche Vorstellungen: Er will am 15. Januar die Vertrauensfrage im Bundestag stellen und so eine vorgezogene Neuwahl Ende März herbeiführen. Bundespräsident Frank-Walter Steinmeier hat auf diesem Weg eine Schlüsselrolle und sagt: \"Zu dieser Entscheidung stehe ich bereit.\"\\nEs ist bekannt, dass das Verhältnis zwischen Kanzler Scholz und Friedrich Merz, dem Kanzlerkandidaten der Union, angespannt ist. Dennoch bot Scholz der CDU/CSU gleich nach dem Rausschmiss von Finanzminister Christian Lindner (FDP) aus der Regierung eine Zusammenarbeit an. Ein gut einstündiges Gespräch zwischen Merz und Scholz blieb nach Angaben aus der Unionsfraktion ergebnislos. Merz habe klargemacht, die Union sei bereit, über Tagesordnungspunkte oder Gesetze im Bundestag zu sprechen. Aber erst müsse der Bundeskanzler bis spätestens Anfang nächster Woche die Vertrauensfrage stellen. Merz hält dann einen Wahltermin in der zweiten Januar-Hälfte für möglich. Aber Scholz hält an seinem Zeitplan fest. Er werde tun, was für das Land notwendig sei, sagte der SPD-Politiker. Es gehe bei einer Zusammenarbeit mit der Union um Lösungen zur Stärkung der Wirtschaft und der Verteidigung - um Fragen, \"die entscheidend sind für unser Land, konstruktiv zusammenzuarbeiten: bei der schnellen Stärkung unserer Wirtschaft und unserer Verteidigung\". Vizekanzler Robert Habeck (Grüne) sagte, er würde eine Zusammenarbeit mit der Union begrüßen.\\nNach dem Bruch der Ampel-Koalition redete der Bundespräsident den Akteuren ins Gewissen. \"Es ist nicht die Zeit für Taktik und Scharmützel\", sagte Steinmeier auch mit Blick auf die Wahl von Donald Trump zum nächsten Präsidenten der USA. \"Es ist die Zeit für Vernunft und Verantwortung.\" Er als Bundespräsident werde über die Auflösung des Bundestages zu entscheiden haben. \"Aber unser Land braucht stabile Mehrheiten und eine handlungsfähige Regierung. Das wird mein Prüfungsmaßstab sein.\"\\nWissing tritt aus FDP aus und bleibt im Kabinett\\nSteinmeier überreichte Finanzminister Lindner sowie Justizminister Marco Buschmann und Bildungsministerin Bettina Stark-Watzinger von der FDP im Schloss Bellevue die Entlassungsurkunden. Zugleich erhielt der wirtschaftspolitische Berater von Scholz, Jörg Kukies (SPD), seine Ernennungsurkunde zum Bundesfinanzminister.\\nAls einziger FDP-Politiker verbleibt Bundesverkehrsminister Volker Wissing im Kabinett, der aber aus der FDP ausgetreten ist. Steinmeier ernannte ihn zum neuen Bundesjustizminister. Sein Amt als Verkehrsminister behält er. Das Bildungsministerium übernimmt zusätzlich Agrarminister Cem Özdemir (Grüne). Nach dem Bruch des Kanzlers mit der FDP gibt es dann zum ersten Mal seit 2005 wieder eine rot-grüne Regierung. Der Bruch der ersten Koalition von SPD, Grünen und FDP auf Bundesebene war nach einem erbitterten Richtungsstreit über den Kurs in der Wirtschafts- und Haushaltspolitik erfolgt.\\n\\nLoad-Date:\\xa0November 8, 2024\\n\\n\\nEnd of Document\\n\\n\\n\\n\\n\\n\\nGrünen-Parteitag - Krönungsmesse statt Krisentreffen\\nSächsische Zeitung Regionalausgaben\\nMontag 18. November 2024\\n\\n\\nCopyright 2024 DDV Sachsen GmbH Alle Rechte Vorbehalten\\n\\n\\nSection:\\xa0Regionalausgabe ; Politik; S. 2\\nLength:\\xa0387 words\\nByline:\\xa0Felix Hackenbruch\\nBody\\n\\n\\nPDF-Datei dieses Dokuments\\nEigentlich hat die Partei allerlei Probleme. Doch in Wiesbaden verbreitet sie Zuversicht und überschüttet Kanzlerkanadidat Robert Habeck mit Zuneigung.\\nAnnalena Baerbock gerät ins Schwärmen über Robert Habeck. Er könne ,,so lässig und charming\" wie kein anderer seinen Norwegerpullover gegen das Sakko tauschen. Habeck sei ,,Draußenminister\", super pragmatisch und habe als Wirtschaftsminister Deutschland von der russischen Energie-Abhängigkeit befreit. Nun mache ihr Parteifreund den Menschen ein Angebot - wenn sie wollten auch als Kanzler, sagt die Außenministerin und ergänzt: ,,Ich will genau das. Dich als Kanzler.\" Es ist der Augenblick, in dem sich die Grünen endgültig hinter Habeck stellen. Ausgerechnet Baerbock, mit der Habeck lange in innerparteilicher Konkurrenz stand und die ihm 2021 die Kandidatur wegschnappte, bereitet ihm nun die Bühne: ,,Wir zwei sind durch dick und dünn gegangen, und jetzt gehen wir wieder auf Tour.\"\\nZwei Tage war der Parteitag der Grünen in Wiesbaden auf diesen Moment hingesteuert, der ursprünglich unter anderen Vorzeichen gestanden hatte. Die Grünen stecken in einer schweren Krise. Reihenweise haben sie Wahlen verloren, ihre Politik steht in der Kritik, in Umfragen sind sie abgerutscht und der Parteivorstand um Ricarda Lang und Omid Nouripour warf hin.\\nEs hätte für Habeck ein schwieriger Parteitag mit der traditionell linken Basis werden können. Seine Kompromisse in der Ampel - vom Klimaschutz bis zur Migrationspolitik - ernteten in den eigenen Reihen scharfe Kritik. Doch mit dem Ampel-Aus und dem Bundestagswahlkampf haben sich die Reihen geschlossen. In Wiesbaden präsentierte man Disziplin..\\nAuf kritische Reden verzichteten die Mitglieder fast gänzlich und arbeiteten sich stattdessen an Union und FDP ab. Dass die Stimmung so harmonisch wirkte, lag offenkundig auch an den mehr als 11.000 Neueintritten, die die Grünen seit dem Ampel-Aus verzeichnen konnten. Zudem hat die Partei bereits fast eine Million Euro an Kleinspenden gesammelt.\\nSelbstkritische Worte fand ausgerechnet Ricarda Lang in ihrer Abschiedsrede als Vorsitzende: Die Partei müsse ihre Politik nicht besser verkaufen, sondern ,,das Leben von Menschen verbessern\", sagte die Parteilinke. ,,Wir sind nicht die Staubsaugervertreter der Demokratie.\" (Tsp)\\nhttps://www.saechsische.de\\n\\nLoad-Date:\\xa0November 18, 2024\\n\\n\\nEnd of Document\\n\\n\\n\\n\\n\\n\\nMerz fordert Vertrauensfrage sofort; CDU-Chef macht nach Ampel-Aus punktuelle Zusammenarbeit mit Rot-Grün von Wahltermin im Januar abhängig\\nStarkenburger Echo\\nFreitag 8. November 2024\\n\\n\\nCopyright 2024 Echo Zeitungen GmbH Alle Rechte Vorbehalten\\n\\n\\nSection:\\xa0POLITIK; ; S. 1\\nLength:\\xa0527 words\\nBody\\n\\n\\nBERLIN (dpa). Die Ampel ist gescheitert, in Deutschland steht eine Neuwahl an - nur wann? Geht es nach der Opposition, der deutschen Wirtschaft und den europäischen Partnern, wird möglichst schnell und am besten noch im Januar ein neuer Bundestag gewählt. Bundeskanzler Olaf Scholz (SPD) hingegen hat andere zeitliche Vorstellungen: Er will am 15. Januar die Vertrauensfrage im Bundestag stellen und so eine vorgezogene Neuwahl Ende März herbeiführen. Bundespräsident Frank-Walter Steinmeier hat auf diesem Weg eine Schlüsselrolle und sagt: \"Zu dieser Entscheidung stehe ich bereit.\"\\nEs ist bekannt, dass das Verhältnis zwischen Kanzler Scholz und Friedrich Merz, dem Kanzlerkandidaten der Union, angespannt ist. Dennoch bot Scholz der CDU/CSU gleich nach dem Rausschmiss von Finanzminister Christian Lindner (FDP) aus der Regierung eine Zusammenarbeit an. Ein gut einstündiges Gespräch zwischen Merz und Scholz blieb nach Angaben aus der Unionsfraktion ergebnislos. Merz habe klargemacht, die Union sei bereit, über Tagesordnungspunkte oder Gesetze im Bundestag zu sprechen. Aber erst müsse der Bundeskanzler bis spätestens Anfang nächster Woche die Vertrauensfrage stellen. Merz hält dann einen Wahltermin in der zweiten Januar-Hälfte für möglich. Aber Scholz hält an seinem Zeitplan fest. Er werde tun, was für das Land notwendig sei, sagte der SPD-Politiker. Es gehe bei einer Zusammenarbeit mit der Union um Lösungen zur Stärkung der Wirtschaft und der Verteidigung - um Fragen, \"die entscheidend sind für unser Land, konstruktiv zusammenzuarbeiten: bei der schnellen Stärkung unserer Wirtschaft und unserer Verteidigung\". Vizekanzler Robert Habeck (Grüne) sagte, er würde eine Zusammenarbeit mit der Union begrüßen.\\nNach dem Bruch der Ampel-Koalition redete der Bundespräsident den Akteuren ins Gewissen. \"Es ist nicht die Zeit für Taktik und Scharmützel\", sagte Steinmeier auch mit Blick auf die Wahl von Donald Trump zum nächsten Präsidenten der USA. \"Es ist die Zeit für Vernunft und Verantwortung.\" Er als Bundespräsident werde über die Auflösung des Bundestages zu entscheiden haben. \"Aber unser Land braucht stabile Mehrheiten und eine handlungsfähige Regierung. Das wird mein Prüfungsmaßstab sein.\"\\nWissing tritt aus FDP aus und bleibt im Kabinett\\nSteinmeier überreichte Finanzminister Lindner sowie Justizminister Marco Buschmann und Bildungsministerin Bettina Stark-Watzinger von der FDP im Schloss Bellevue die Entlassungsurkunden. Zugleich erhielt der wirtschaftspolitische Berater von Scholz, Jörg Kukies (SPD), seine Ernennungsurkunde zum Bundesfinanzminister.\\nAls einziger FDP-Politiker verbleibt Bundesverkehrsminister Volker Wissing im Kabinett, der aber aus der FDP ausgetreten ist. Steinmeier ernannte ihn zum neuen Bundesjustizminister. Sein Amt als Verkehrsminister behält er. Das Bildungsministerium übernimmt zusätzlich Agrarminister Cem Özdemir (Grüne). Nach dem Bruch des Kanzlers mit der FDP gibt es dann zum ersten Mal seit 2005 wieder eine rot-grüne Regierung. Der Bruch der ersten Koalition von SPD, Grünen und FDP auf Bundesebene war nach einem erbitterten Richtungsstreit über den Kurs in der Wirtschafts- und Haushaltspolitik erfolgt.\\n\\nLoad-Date:\\xa0November 8, 2024\\n\\n\\nEnd of Document\\n\\n\\n\\n\\n\\n\\nFDP sieht Vorteile nach Ampel-Aus; Die hiesigen Liberalen blicken auf die Kommunalwahlen und wollen sich mit eigenen Lösungsansätzen profilieren.\\nRheinische Post\\nSamstag 9. November 2024\\nRheinische Post Wesel\\n\\n\\nCopyright 2024 Rheinische Post Verlagsgesellschaft mbH Alle Rechte Vorbehalten\\n\\n\\nSection:\\xa0S. 27\\nLength:\\xa0669 words\\nByline:\\xa0Heinz Schild\\nHighlight:\\xa0Hintegrund\\nBody\\n\\n\\nDinslaken (hsd) Nach dem Bruch der Ampel-Koalition im Bund blickt der FDP-Stadtverband Dinslaken „mit einer gewissen Erleichterung zuversichtlich in die Zukunft“. Der Austritt der FDP aus der Koalition markiere nach Aussage von Dennis Jegelka, stellvertretender Vorsitzender der Dinslakener FDP-Fraktion, „für viele Liberale eine Chance zur Rückbesinnung auf liberale Werte der FDP“. Die vergangenen Monate bewertet er als eine Hängepartie, in der sich immer mehr abgezeichnet hätte, dass Bundeskanzler Olaf Scholz und sein Fraktionschef Rolf Mützenich beabsichtigten hätten, sich eher den Grünen zuzuwenden, als den Industriestandort Deutschland durch dringend erforderliche Reformen zu sichern. Ein „Weiter so“ könne den Menschen aber nicht zugemutet werden. „Es muss endlich wieder reale Politik für die Bürger gemacht werden, die durch die Bürger und die Wirtschaft finanzierbar und nicht ideologiegesteuert ist“, stellt Dennis Jegelka für die FDP-Fraktion fest.\\nDie FDP könne sich wieder stärker auf ihre Kernkompetenzen besinnen und nach Partnern für eine bürgernahe und lösungsorientierte Politik suchen. Letztlich müssten auch Olaf Scholz und Wirtschaftsminister Robert Habeck (Grüne) am Ende einsehen, dass – wie in der Migrationsfrage und der Wirtschaftskrise – eine Politik gegen die Interessen von mehr als zwei Drittel der Gesellschaft zum Scheitern verurteilt sei und undemokratischen und nicht liberalen Kräften Vorschub leiste.\\nDer Dinslakener FDP-Stadtverband bedauert nach den Worten des stellvertretenden Fraktionsvorsitzenden, dass die großen Probleme der Gesellschaft auf Bundesebene mit Olaf Scholz und Robert Habeck nicht zu lösen seien, da, wie Christian Lindner richtig erkannt habe, kein Mut und keine Entschlossenheit vorhanden sei, diese ernsthaft lösen zu wollen. „Stattdessen wurden und werden alle Vorschläge, die durch nicht zu Ende gedachte Gesetzesvorhaben verursachte Wirtschafts- und Gesellschaftskrise zu meistern, immer wieder zerredet“, so Jegelka. Eine Mehrheit der FDP-Mitglieder sieht nach seiner Aussage in der Rückkehr zur politischen Eigenständigkeit eine Gelegenheit, liberale Werte und Themen wieder konsequent in den Vordergrund zu stellen. Insbesondere in Dinslaken – wo kommunale Anliegen und lokale Interessen dominieren würden, böte der Bruch mit der Ampel-Koalition Chancen, liberale Lösungsansätze erneut klar zu profilieren und sich von bundespolitischen Spannungen unabhängiger zu machen. „Möglicherweise hätte der Schritt schon früher gegangen werden müssen“, meint der Liberale.\\nNach seiner Überzeugung bietet der Rückzug aus der Ampel-Koalition klare Vorteile für die Dinslakener FDP im Hinblick auf die bevorstehende Kommunalwahl im nächsten Jahr. Lokale Themen könnten dann endlich wieder verstärkt in den Fokus gerückt werden, ohne dass bundespolitische Auseinandersetzungen die Debatten auf kommunaler Ebene überschatten würden. Die Menschen in Dinslaken hätten die Möglichkeit, sich ein eigenes Bild von der Arbeit ihrer liberalen Vertreter vor Ort zu machen, ohne den Einfluss von Koalitionsstreitigkeiten im Bund. „Ein erneuter Fokus auf Haushaltsdisziplin, Generationengerechtigkeit, Bildungschancen und die Verhinderung weiterer Schuldenlasten zukünftiger Generationen wird auch weiter unser Handeln bestimmen – im Gegensatz zu der von Rot-Grün angestoßenen Aufweichung der in der Verfassung verankerten Schuldenbremse und verantwortungslosen finanziellen Belastungen“, so Dennis Jegelka.\\nOlaf Scholz und die SPD sowie Robert Habeck und die Grünen müssten endlich lernen, mit dem Geld auszukommen, das ihnen der Bürger durch üppige Steuerzahlungen zur Verfügung stelle. Ansonsten werde Deutschland gegenüber anderen EU-Ländern und der Welt immer weiter ins Hintertreffen geraten.\\nDie FDP Dinslaken setze, so der stellvertretende Fraktionsvorsitzende, auf klare Worte und entschlossenes Handeln, statt auf Finanztricksereien. Ziele blieben die Stärkung einer liberalen Politik in Dinslaken, die Verantwortung für kommende Generationen übernehme.\\n\\nLink to PDF\\n\\nGraphic\\n\\n \\nDennis Jegelka (FDP): „Eine Chance zur Rückbesinnung.“ Foto: FDP\\n\\nLoad-Date:\\xa0November 9, 2024\\n\\n\\nEnd of Document\\n\\n\\n\\n\\n\\n\\nFalsch bis zum Schluss; Jost Maurin über die Wirtschaftspolitik der FDP\\ntaz, die tageszeitung\\nFreitag 08. November 2024\\n\\n\\nCopyright 2024 Contrapress media GmbH Vervielfaeltigung nur mit         Genehmigung des taz-Verlags All Rights Reserved\\n\\n\\nSection:\\xa0MEINUNG UND DISKUSSION; S. 12\\nLength:\\xa0357 words\\nByline:\\xa0Jost Maurin\\nBody\\n\\n\\nJost Maurin über die Wirtschaftspolitik der FDP\\nDie FDP begründet das von ihr provozierte Ampel-Aus damit, dass SPD und Grüne nichts unternähmen, um die Wirtschaft anzukurbeln. Das ist inhaltlich falsch und verlogen   typisch für die Liberalen in der Zeit der Koalition.\\nIn Wirklichkeit hat die FDP mit ihrer Blockade verhindert, dass die von Kanzler Olaf Scholz vorgeschlagenen Wachstumsimpulse kommen. Dazu zählt zum Beispiel, die Netzentgelte zu deckeln, die Unternehmen für Strom zahlen. Die Clique um den Ex-Finanzminister und FDP-Parteichef Christian Lindner hat sich bis zuletzt geweigert, die Schuldenbremse auszusetzen. Dieser Schritt würde es dem Bund ermöglichen, mehr Kredite für die Ukraine-Hilfe aufzunehmen und so freigewordene Steuermittel für die Förderung der Wirtschaft zu nutzen. Das fordern auch viele Ökonomen, eine Berufsgruppe, auf die Lindner sich ja sonst gern bezieht.\\nEin Aussetzen der Schuldenbremse durch den Bundestag wäre mitnichten ein Bruch der Verfassung, wie jetzt FDP-Politiker behaupten. Artikel 115 des Grundgesetzes erlaubt in  außergewöhnlichen Notsituationen  ausdrücklich, die Kreditobergrenzen zu überschreiten. Der Ukrainekrieg kann durchaus als eine Notsituation gelten. Das hat auch das Bundesverfassungsgericht in seinem Urteil zum Artikel 115 vor einem Jahr nicht infrage gestellt.\\nMehr Kredite würden zudem keinesfalls den Staat ruinieren. Der Bund wird 2024 nach Berechnungen von Lindners Finanzministerium nur knapp 8 Prozent seines Etats für Zinsen ausgeben. Um die Jahrtausendwende war es doppelt so viel   kollabiert ist der Staat dennoch nicht.\\nTrotzdem hält die FDP an der Schuldenbremse fest. Lieber wollte Lindner weniger in Klimaschutz investieren. Während in Spanien hunderte Menschen infolge des Klimawandels ertranken. Und er wollte bei der Rente sparen. Gleichzeitig will die FDP den Solidaritätszuschlag auf die Einkommensteuer abschaffen, den sowieso nur Besserverdienende zahlen. Zwar würden dann ebenfalls die Unternehmensteuern sinken, aber die Firmen ließen sich zielgerichteter entlasten   zum Beispiel durch die nun von der FDP blockierte Deckelung der Netzentgelte.\\nampel aus\\n\\nLoad-Date:\\xa0November 7, 2024\\n\\n\\nEnd of Document\\n\\n\\n\\n\\n\\n\\nAmpel-Aus beflügelt die Grünen; Partei stellt in Wiesbaden die Weichen für den Wahlkampf / Ricarda Lang und Omid Nouripour ziehen Bilanz\\nRüsselsheimer Echo\\nSamstag 16. November 2024\\n\\n\\nCopyright 2024 VRM GmbH & Co. KG Alle Rechte Vorbehalten\\n\\n\\nSection:\\xa0POLITIK; RÜSSELSHEIMER ECHO; S. 4\\nLength:\\xa0569 words\\nByline:\\xa0Sascha Kircher\\nBody\\n\\n\\nWIESBADEN. Keine Spur von November-Blues bei den Grünen: Bei der 50. Bundesdelegiertenkonferenz in Wiesbaden ist die Stimmung demonstrativ gut. Das Aus der Ampel vor zehn Tagen scheint die Partei regelrecht beflügelt zu haben. Seitdem seien mehr als 9000 Mitgliedsanträge eingegangen, verkündet Geschäftsführerin Emily Büning zur Eröffnung des Parteitags. \"Wir sind startklar - und wir sind so viele wie noch nie\", ruft sie den 829 Delegierten und mehr als 3500 Gästen im Wiesbadener Rhein-Main-Congress-Centrum zu. Der Andrang am Einlass ist so groß, dass man mit einer halben Stunde Verspätung beginnt.\\nStartschuss für den 100 Tage dauernden Wahlkampf\\nDas Treffen in Wiesbaden ist zugleich Auftakt für den Wahlkampf, immerhin findet die anberaumte Neuwahl des Bundestags in rund 100 Tagen statt. \"Zieht die Winterstiefel an, macht die Thermoskannen bereit\", appelliert Büning an die Wahlkämpfer. \"Wir werden das Netz und die Straße nicht den Populisten, den Gestrigen und den Neoliberalen überlassen!\" Christian Lindner und die FDP seien nicht mehr an vertrauensvoller Zusammenarbeit interessiert gewesen.\\nZuvor hatte die scheidende Bundesvorsitzende Ricarda Lang einen Einblick in die Geschehnisse der entscheidenden Koalitionsausschusssitzung gegeben. Bis zur Pause habe sie nicht daran geglaubt, dass es so komme, räumte Lang im Gespräch mit Journalisten ein. Zum Abschied habe man sich noch mal umarmt. Lang und ihr Co-Vorsitzender Omid Nouripour, die beide nach den verlorenen Landtagswahlen im Osten ihren Rücktritt verkündet hatten, wirken aufgeräumt. Es seien \"drei intensive Jahre\" gewesen, resümiert Nouripour.\\nDer Frankfurter sorgt am Abend für das erste Ausrufezeichen auf dem Parteitag. Mit einer ebenso emotionalen wie kämpferischen Rede verabschiedet er sich von den Delegierten. \"Passt mir auf diese Partei auf, sie wird so was von gebraucht\", ruft er in den Saal. Es gehe darum, Politik für alle zu machen. Als Kritik an so manch innerparteilicher Genderdiskussion lässt sich die Mahnung verstehen: \"Vielfalt ist Stärke, aber Vielfalt ist nicht die Summe aller Minderheiten, sondern auch der Mehrheit.\" Zu seinem Verhältnis mit Lang an der Parteispitze sagt Nouripour, er sei \"verdammt stolz\", dass es in den drei gemeinsamen Jahren \"nicht ein Wort der Zwietracht zwischen uns beiden gab\".\\nSelbstkritik bei der scheidenden Vorsitzenden\\nLang berichtet am Freitag, bei aller Wehmut, von \"einer gewissen Erleichterung\", auch mit Blick auf die Anfeindungen gegen sie, die zunehmend \"persönlicher und diffamierender\" geworden seien. Sie bereue den Schritt nicht, trotzdem werde bei der Verabschiedung am Samstag sicher \"die eine oder andere Träne fließen\", gesteht die 30-Jährige. Auch Platz für Selbstkritik ist beim Auftakt des Parteitags: \"Was die Ampel im letzten Jahr an politischer Kultur kaputt gemacht hat, überwiegt das, was wir erreicht haben\", sagt Lang. Immerhin: \"Wir sind als Vorsitzende angetreten mit einem strategischen Ziel: einen Kanzlerkandidaten aufzustellen\", bilanziert Nouripour. \"Wir treten ab mit diesem umgesetzten Ziel.\" Habeck sei \"unsere beste Kraft\", unterstreicht Lang.\\nDie zahlreichen \"Habeck 4 Kanzler\"-Shirts junger Parteimitglieder bestätigen die Zustimmung für den Noch-Vizekanzler, der im offiziellen Antrag der Tagesordnung als \"Kandidat für die Menschen in Deutschland\" apostrophiert wird. Wie 2021 soll er im Spitzenduo mit Außenministerin Annalena Baerbock antreten.\\n\\nLoad-Date:\\xa0November 15, 2024\\n\\n\\nEnd of Document\\n\\n\\n\\n\\n\\n\\nAmpel-Aus beflügelt die Grünen; Partei stellt in Wiesbaden die Weichen für den Wahlkampf / Ricarda Lang und Omid Nouripour ziehen Bilanz\\nWiesbadener Kurier (Germany)\\nSamstag 16. November 2024\\n\\n\\nCopyright 2024 VRM GmbH & Co. KG Alle Rechte Vorbehalten\\n\\n\\nSection:\\xa0POLITIK; WIESBADENER KURIER STADTAUSGABE; S. 4\\nLength:\\xa0569 words\\nByline:\\xa0Sascha Kircher\\nBody\\n\\n\\nWIESBADEN. Keine Spur von November-Blues bei den Grünen: Bei der 50. Bundesdelegiertenkonferenz in Wiesbaden ist die Stimmung demonstrativ gut. Das Aus der Ampel vor zehn Tagen scheint die Partei regelrecht beflügelt zu haben. Seitdem seien mehr als 9000 Mitgliedsanträge eingegangen, verkündet Geschäftsführerin Emily Büning zur Eröffnung des Parteitags. \"Wir sind startklar - und wir sind so viele wie noch nie\", ruft sie den 829 Delegierten und mehr als 3500 Gästen im Wiesbadener Rhein-Main-Congress-Centrum zu. Der Andrang am Einlass ist so groß, dass man mit einer halben Stunde Verspätung beginnt.\\nStartschuss für den 100 Tage dauernden Wahlkampf\\nDas Treffen in Wiesbaden ist zugleich Auftakt für den Wahlkampf, immerhin findet die anberaumte Neuwahl des Bundestags in rund 100 Tagen statt. \"Zieht die Winterstiefel an, macht die Thermoskannen bereit\", appelliert Büning an die Wahlkämpfer. \"Wir werden das Netz und die Straße nicht den Populisten, den Gestrigen und den Neoliberalen überlassen!\" Christian Lindner und die FDP seien nicht mehr an vertrauensvoller Zusammenarbeit interessiert gewesen.\\nZuvor hatte die scheidende Bundesvorsitzende Ricarda Lang einen Einblick in die Geschehnisse der entscheidenden Koalitionsausschusssitzung gegeben. Bis zur Pause habe sie nicht daran geglaubt, dass es so komme, räumte Lang im Gespräch mit Journalisten ein. Zum Abschied habe man sich noch mal umarmt. Lang und ihr Co-Vorsitzender Omid Nouripour, die beide nach den verlorenen Landtagswahlen im Osten ihren Rücktritt verkündet hatten, wirken aufgeräumt. Es seien \"drei intensive Jahre\" gewesen, resümiert Nouripour.\\nDer Frankfurter sorgt am Abend für das erste Ausrufezeichen auf dem Parteitag. Mit einer ebenso emotionalen wie kämpferischen Rede verabschiedet er sich von den Delegierten. \"Passt mir auf diese Partei auf, sie wird so was von gebraucht\", ruft er in den Saal. Es gehe darum, Politik für alle zu machen. Als Kritik an so manch innerparteilicher Genderdiskussion lässt sich die Mahnung verstehen: \"Vielfalt ist Stärke, aber Vielfalt ist nicht die Summe aller Minderheiten, sondern auch der Mehrheit.\" Zu seinem Verhältnis mit Lang an der Parteispitze sagt Nouripour, er sei \"verdammt stolz\", dass es in den drei gemeinsamen Jahren \"nicht ein Wort der Zwietracht zwischen uns beiden gab\".\\nSelbstkritik bei der scheidenden Vorsitzenden\\nLang berichtet am Freitag, bei aller Wehmut, von \"einer gewissen Erleichterung\", auch mit Blick auf die Anfeindungen gegen sie, die zunehmend \"persönlicher und diffamierender\" geworden seien. Sie bereue den Schritt nicht, trotzdem werde bei der Verabschiedung am Samstag sicher \"die eine oder andere Träne fließen\", gesteht die 30-Jährige. Auch Platz für Selbstkritik ist beim Auftakt des Parteitags: \"Was die Ampel im letzten Jahr an politischer Kultur kaputt gemacht hat, überwiegt das, was wir erreicht haben\", sagt Lang. Immerhin: \"Wir sind als Vorsitzende angetreten mit einem strategischen Ziel: einen Kanzlerkandidaten aufzustellen\", bilanziert Nouripour. \"Wir treten ab mit diesem umgesetzten Ziel.\" Habeck sei \"unsere beste Kraft\", unterstreicht Lang.\\nDie zahlreichen \"Habeck 4 Kanzler\"-Shirts junger Parteimitglieder bestätigen die Zustimmung für den Noch-Vizekanzler, der im offiziellen Antrag der Tagesordnung als \"Kandidat für die Menschen in Deutschland\" apostrophiert wird. Wie 2021 soll er im Spitzenduo mit Außenministerin Annalena Baerbock antreten.\\n\\nLoad-Date:\\xa0November 15, 2024\\n\\n\\nEnd of Document\\n\\n\\n\\n\\n\\n\\nAmpel-Aus beflügelt die Grünen; Partei stellt in Wiesbaden die Weichen für den Wahlkampf / Ricarda Lang und Omid Nouripour ziehen Bilanz\\nMain-Spitze (Germany)\\nSamstag 16. November 2024\\n\\n\\nCopyright 2024 VRM GmbH & Co. KG Alle Rechte Vorbehalten\\n\\n\\nSection:\\xa0POLITIK; ; S. 4\\nLength:\\xa0569 words\\nByline:\\xa0Sascha Kircher\\nBody\\n\\n\\nWIESBADEN. Keine Spur von November-Blues bei den Grünen: Bei der 50. Bundesdelegiertenkonferenz in Wiesbaden ist die Stimmung demonstrativ gut. Das Aus der Ampel vor zehn Tagen scheint die Partei regelrecht beflügelt zu haben. Seitdem seien mehr als 9000 Mitgliedsanträge eingegangen, verkündet Geschäftsführerin Emily Büning zur Eröffnung des Parteitags. \"Wir sind startklar - und wir sind so viele wie noch nie\", ruft sie den 829 Delegierten und mehr als 3500 Gästen im Wiesbadener Rhein-Main-Congress-Centrum zu. Der Andrang am Einlass ist so groß, dass man mit einer halben Stunde Verspätung beginnt.\\nStartschuss für den 100 Tage dauernden Wahlkampf\\nDas Treffen in Wiesbaden ist zugleich Auftakt für den Wahlkampf, immerhin findet die anberaumte Neuwahl des Bundestags in rund 100 Tagen statt. \"Zieht die Winterstiefel an, macht die Thermoskannen bereit\", appelliert Büning an die Wahlkämpfer. \"Wir werden das Netz und die Straße nicht den Populisten, den Gestrigen und den Neoliberalen überlassen!\" Christian Lindner und die FDP seien nicht mehr an vertrauensvoller Zusammenarbeit interessiert gewesen.\\nZuvor hatte die scheidende Bundesvorsitzende Ricarda Lang einen Einblick in die Geschehnisse der entscheidenden Koalitionsausschusssitzung gegeben. Bis zur Pause habe sie nicht daran geglaubt, dass es so komme, räumte Lang im Gespräch mit Journalisten ein. Zum Abschied habe man sich noch mal umarmt. Lang und ihr Co-Vorsitzender Omid Nouripour, die beide nach den verlorenen Landtagswahlen im Osten ihren Rücktritt verkündet hatten, wirken aufgeräumt. Es seien \"drei intensive Jahre\" gewesen, resümiert Nouripour.\\nDer Frankfurter sorgt am Abend für das erste Ausrufezeichen auf dem Parteitag. Mit einer ebenso emotionalen wie kämpferischen Rede verabschiedet er sich von den Delegierten. \"Passt mir auf diese Partei auf, sie wird so was von gebraucht\", ruft er in den Saal. Es gehe darum, Politik für alle zu machen. Als Kritik an so manch innerparteilicher Genderdiskussion lässt sich die Mahnung verstehen: \"Vielfalt ist Stärke, aber Vielfalt ist nicht die Summe aller Minderheiten, sondern auch der Mehrheit.\" Zu seinem Verhältnis mit Lang an der Parteispitze sagt Nouripour, er sei \"verdammt stolz\", dass es in den drei gemeinsamen Jahren \"nicht ein Wort der Zwietracht zwischen uns beiden gab\".\\nSelbstkritik bei der scheidenden Vorsitzenden\\nLang berichtet am Freitag, bei aller Wehmut, von \"einer gewissen Erleichterung\", auch mit Blick auf die Anfeindungen gegen sie, die zunehmend \"persönlicher und diffamierender\" geworden seien. Sie bereue den Schritt nicht, trotzdem werde bei der Verabschiedung am Samstag sicher \"die eine oder andere Träne fließen\", gesteht die 30-Jährige. Auch Platz für Selbstkritik ist beim Auftakt des Parteitags: \"Was die Ampel im letzten Jahr an politischer Kultur kaputt gemacht hat, überwiegt das, was wir erreicht haben\", sagt Lang. Immerhin: \"Wir sind als Vorsitzende angetreten mit einem strategischen Ziel: einen Kanzlerkandidaten aufzustellen\", bilanziert Nouripour. \"Wir treten ab mit diesem umgesetzten Ziel.\" Habeck sei \"unsere beste Kraft\", unterstreicht Lang.\\nDie zahlreichen \"Habeck 4 Kanzler\"-Shirts junger Parteimitglieder bestätigen die Zustimmung für den Noch-Vizekanzler, der im offiziellen Antrag der Tagesordnung als \"Kandidat für die Menschen in Deutschland\" apostrophiert wird. Wie 2021 soll er im Spitzenduo mit Außenministerin Annalena Baerbock antreten.\\n\\nLoad-Date:\\xa0November 15, 2024\\n\\n\\nEnd of Document\\n\\n\\n\\n\\n\\n\\nAmpel-Aus beflügelt die Grünen; Partei stellt in Wiesbaden die Weichen für den Wahlkampf / Ricarda Lang und Omid Nouripour ziehen Bilanz\\nBürstädter Zeitung (Germany)\\nSamstag 16. November 2024\\n\\n\\nCopyright 2024 VRM GmbH & Co. KG Alle Rechte Vorbehalten\\n\\n\\nSection:\\xa0POLITIK; ; S. 4\\nLength:\\xa0569 words\\nByline:\\xa0Sascha Kircher\\nBody\\n\\n\\nWIESBADEN. Keine Spur von November-Blues bei den Grünen: Bei der 50. Bundesdelegiertenkonferenz in Wiesbaden ist die Stimmung demonstrativ gut. Das Aus der Ampel vor zehn Tagen scheint die Partei regelrecht beflügelt zu haben. Seitdem seien mehr als 9000 Mitgliedsanträge eingegangen, verkündet Geschäftsführerin Emily Büning zur Eröffnung des Parteitags. \"Wir sind startklar - und wir sind so viele wie noch nie\", ruft sie den 829 Delegierten und mehr als 3500 Gästen im Wiesbadener Rhein-Main-Congress-Centrum zu. Der Andrang am Einlass ist so groß, dass man mit einer halben Stunde Verspätung beginnt.\\nStartschuss für den 100 Tage dauernden Wahlkampf\\nDas Treffen in Wiesbaden ist zugleich Auftakt für den Wahlkampf, immerhin findet die anberaumte Neuwahl des Bundestags in rund 100 Tagen statt. \"Zieht die Winterstiefel an, macht die Thermoskannen bereit\", appelliert Büning an die Wahlkämpfer. \"Wir werden das Netz und die Straße nicht den Populisten, den Gestrigen und den Neoliberalen überlassen!\" Christian Lindner und die FDP seien nicht mehr an vertrauensvoller Zusammenarbeit interessiert gewesen.\\nZuvor hatte die scheidende Bundesvorsitzende Ricarda Lang einen Einblick in die Geschehnisse der entscheidenden Koalitionsausschusssitzung gegeben. Bis zur Pause habe sie nicht daran geglaubt, dass es so komme, räumte Lang im Gespräch mit Journalisten ein. Zum Abschied habe man sich noch mal umarmt. Lang und ihr Co-Vorsitzender Omid Nouripour, die beide nach den verlorenen Landtagswahlen im Osten ihren Rücktritt verkündet hatten, wirken aufgeräumt. Es seien \"drei intensive Jahre\" gewesen, resümiert Nouripour.\\nDer Frankfurter sorgt am Abend für das erste Ausrufezeichen auf dem Parteitag. Mit einer ebenso emotionalen wie kämpferischen Rede verabschiedet er sich von den Delegierten. \"Passt mir auf diese Partei auf, sie wird so was von gebraucht\", ruft er in den Saal. Es gehe darum, Politik für alle zu machen. Als Kritik an so manch innerparteilicher Genderdiskussion lässt sich die Mahnung verstehen: \"Vielfalt ist Stärke, aber Vielfalt ist nicht die Summe aller Minderheiten, sondern auch der Mehrheit.\" Zu seinem Verhältnis mit Lang an der Parteispitze sagt Nouripour, er sei \"verdammt stolz\", dass es in den drei gemeinsamen Jahren \"nicht ein Wort der Zwietracht zwischen uns beiden gab\".\\nSelbstkritik bei der scheidenden Vorsitzenden\\nLang berichtet am Freitag, bei aller Wehmut, von \"einer gewissen Erleichterung\", auch mit Blick auf die Anfeindungen gegen sie, die zunehmend \"persönlicher und diffamierender\" geworden seien. Sie bereue den Schritt nicht, trotzdem werde bei der Verabschiedung am Samstag sicher \"die eine oder andere Träne fließen\", gesteht die 30-Jährige. Auch Platz für Selbstkritik ist beim Auftakt des Parteitags: \"Was die Ampel im letzten Jahr an politischer Kultur kaputt gemacht hat, überwiegt das, was wir erreicht haben\", sagt Lang. Immerhin: \"Wir sind als Vorsitzende angetreten mit einem strategischen Ziel: einen Kanzlerkandidaten aufzustellen\", bilanziert Nouripour. \"Wir treten ab mit diesem umgesetzten Ziel.\" Habeck sei \"unsere beste Kraft\", unterstreicht Lang.\\nDie zahlreichen \"Habeck 4 Kanzler\"-Shirts junger Parteimitglieder bestätigen die Zustimmung für den Noch-Vizekanzler, der im offiziellen Antrag der Tagesordnung als \"Kandidat für die Menschen in Deutschland\" apostrophiert wird. Wie 2021 soll er im Spitzenduo mit Außenministerin Annalena Baerbock antreten.\\n\\nLoad-Date:\\xa0November 15, 2024\\n\\n\\nEnd of Document\\n\\n\\n\\n\\n\\n\\nAmpel-Aus beflügelt die Grünen; Partei stellt in Wiesbaden die Weichen für den Wahlkampf / Ricarda Lang und Omid Nouripour ziehen Bilanz\\nGroß-Gerauer Echo\\nSamstag 16. November 2024\\n\\n\\nCopyright 2024 Echo Zeitungen GmbH Alle Rechte Vorbehalten\\n\\n\\nSection:\\xa0POLITIK; GROSS-GERAUER ECHO; S. 4\\nLength:\\xa0569 words\\nByline:\\xa0Sascha Kircher\\nBody\\n\\n\\nWIESBADEN. Keine Spur von November-Blues bei den Grünen: Bei der 50. Bundesdelegiertenkonferenz in Wiesbaden ist die Stimmung demonstrativ gut. Das Aus der Ampel vor zehn Tagen scheint die Partei regelrecht beflügelt zu haben. Seitdem seien mehr als 9000 Mitgliedsanträge eingegangen, verkündet Geschäftsführerin Emily Büning zur Eröffnung des Parteitags. \"Wir sind startklar - und wir sind so viele wie noch nie\", ruft sie den 829 Delegierten und mehr als 3500 Gästen im Wiesbadener Rhein-Main-Congress-Centrum zu. Der Andrang am Einlass ist so groß, dass man mit einer halben Stunde Verspätung beginnt.\\nStartschuss für den 100 Tage dauernden Wahlkampf\\nDas Treffen in Wiesbaden ist zugleich Auftakt für den Wahlkampf, immerhin findet die anberaumte Neuwahl des Bundestags in rund 100 Tagen statt. \"Zieht die Winterstiefel an, macht die Thermoskannen bereit\", appelliert Büning an die Wahlkämpfer. \"Wir werden das Netz und die Straße nicht den Populisten, den Gestrigen und den Neoliberalen überlassen!\" Christian Lindner und die FDP seien nicht mehr an vertrauensvoller Zusammenarbeit interessiert gewesen.\\nZuvor hatte die scheidende Bundesvorsitzende Ricarda Lang einen Einblick in die Geschehnisse der entscheidenden Koalitionsausschusssitzung gegeben. Bis zur Pause habe sie nicht daran geglaubt, dass es so komme, räumte Lang im Gespräch mit Journalisten ein. Zum Abschied habe man sich noch mal umarmt. Lang und ihr Co-Vorsitzender Omid Nouripour, die beide nach den verlorenen Landtagswahlen im Osten ihren Rücktritt verkündet hatten, wirken aufgeräumt. Es seien \"drei intensive Jahre\" gewesen, resümiert Nouripour.\\nDer Frankfurter sorgt am Abend für das erste Ausrufezeichen auf dem Parteitag. Mit einer ebenso emotionalen wie kämpferischen Rede verabschiedet er sich von den Delegierten. \"Passt mir auf diese Partei auf, sie wird so was von gebraucht\", ruft er in den Saal. Es gehe darum, Politik für alle zu machen. Als Kritik an so manch innerparteilicher Genderdiskussion lässt sich die Mahnung verstehen: \"Vielfalt ist Stärke, aber Vielfalt ist nicht die Summe aller Minderheiten, sondern auch der Mehrheit.\" Zu seinem Verhältnis mit Lang an der Parteispitze sagt Nouripour, er sei \"verdammt stolz\", dass es in den drei gemeinsamen Jahren \"nicht ein Wort der Zwietracht zwischen uns beiden gab\".\\nSelbstkritik bei der scheidenden Vorsitzenden\\nLang berichtet am Freitag, bei aller Wehmut, von \"einer gewissen Erleichterung\", auch mit Blick auf die Anfeindungen gegen sie, die zunehmend \"persönlicher und diffamierender\" geworden seien. Sie bereue den Schritt nicht, trotzdem werde bei der Verabschiedung am Samstag sicher \"die eine oder andere Träne fließen\", gesteht die 30-Jährige. Auch Platz für Selbstkritik ist beim Auftakt des Parteitags: \"Was die Ampel im letzten Jahr an politischer Kultur kaputt gemacht hat, überwiegt das, was wir erreicht haben\", sagt Lang. Immerhin: \"Wir sind als Vorsitzende angetreten mit einem strategischen Ziel: einen Kanzlerkandidaten aufzustellen\", bilanziert Nouripour. \"Wir treten ab mit diesem umgesetzten Ziel.\" Habeck sei \"unsere beste Kraft\", unterstreicht Lang.\\nDie zahlreichen \"Habeck 4 Kanzler\"-Shirts junger Parteimitglieder bestätigen die Zustimmung für den Noch-Vizekanzler, der im offiziellen Antrag der Tagesordnung als \"Kandidat für die Menschen in Deutschland\" apostrophiert wird. Wie 2021 soll er im Spitzenduo mit Außenministerin Annalena Baerbock antreten.\\n\\nLoad-Date:\\xa0November 15, 2024\\n\\n\\nEnd of Document\\n\\n\\n\\n\\n\\n\\nEin beispielloser Krimi; Olaf Scholz entlässt Christian Lindner mit deutlichen Worten und besiegelt das Ampel-Aus. Deutschland vor Neuwahlen\\nGeneral-Anzeiger Bonn\\nDonnerstag 7. November 2024\\nGeneral-Anzeiger - Rhein-Sieg-Zeitung Voreifel Ausgabe\\n\\n\\nCopyright 2024 General Anzeiger Bonn GmbH Alle Rechte Vorbehalten\\n\\n\\nSection:\\xa0S. 6\\nLength:\\xa0860 words\\nByline:\\xa0Drebes, Jan\\nBody\\n\\n\\nVon Jan Drebes, Jana Wolf und Kerstin Münstermann\\nBerlin. Es lag den ganzen Tag in der Luft im politischen Berlin, nur eine Frage bestimmte jede Unterhaltung: Bleibt Christian Lindner in der Regierung oder nicht? Bis in den Abend hinein war unklar, ob der Finanzminister und FDP-Chef gehen würde. Mehrere Krisengespräche von Bundeskanzler Olaf Scholz (SPD), Vizekanzler Robert Habeck (Grüne) und Lindner waren zuvor ohne Entscheidung zu Ende gegangen. Erst im Koalitionsausschuss am Mittwochabend kam dann der Knall - nach einer dramatischen Zuspitzung der Regierungskrise.\\nLindner hatte Angaben von Insidern zufolge Neuwahlen in den Raum gestellt. Die Gespräche hätten gezeigt, dass keine ausreichende Gemeinsamkeit in der Wirtschafts- und Finanzpolitik herzustellen sei, zitieren Teilnehmer Lindner. Es sei im Interesse des Landes, schnell Stabilität und Handlungsfähigkeit zurückzugewinnen.\\nScholz soll den Vorschlag zu den Neuwahlen abgelehnt haben. Und gegen 20.30 Uhr war es dann so weit: Scholz entließ Lindner, warf den Finanzminister aus der Koalition. Es blieb ihm nach der Volte keine andere Wahl.\\nZuvor hatten die Spitzen von SPD, Grünen und FDP zweieinhalb Stunden beraten, um Wege aus der Ampel-Krise zu finden. Im Kern ging es darum, wie das Milliardenloch im Haushalt 2025 gestopft und die schwer angeschlagene deutsche Wirtschaft wieder auf Trab gebracht werden kann.\\nDoch aus Ampel-Kreisen hieß es, Lindner sei bereits mit einem fertigen Drehbuch in diese Woche der Entscheidungen gegangen. Er habe den Ampel-Bruch fest im Blick gehabt, sei dann allerdings durch die Verhandlungen mit Scholz und Habeck und durch den Trump-Wahlsieg in den USA noch einmal ins Zögern geraten. Bestätigt ist das nicht.\\nAls Scholz dann am Abend vor die Mikrofone tritt, ist ihm die Anspannung anzumerken. Mit klarer, harter Miene begründet er Lindners Rauswurf - das Statement wird zur Abrechnung. ,,Zu oft hat Bundesminister Lindner Gesetze sachfremd blockiert\", sagt Scholz. ,,Zu oft hat er kleinkariert parteipolitisch taktiert. Zu oft hat er mein Vertrauen gebrochen.\" Es gebe keine Vertrauensbasis für die weitere Zusammenarbeit. ,,So ist ernsthafte Regierungsarbeit nicht möglich\", sagte Scholz. Ein solches Verhalten wolle der dem Land nicht weiter zumuten.\\nScholz wirft Lindner auch Verantwortungslosigkeit vor. Als Finanzminister habe er keinen Willen gezeigt, auf Vorschläge zum Wohle des Landes einzugehen. Ihm sei es nur um Klientelpolitik und das kurzfristige Überleben der eigenen Partei gegangen. ,,Solcher Egoismus ist unverständlich.\" Es gebe kein Vertrauen mehr für eine Zusammenarbeit mit Lindner.\\nUnd dann legt Scholz direkt einen Fahrplan vor: Am 15. Januar im Bundestag will er die Vertrauensfrage stellen, das deutet also auf Neuwahlen und nicht auf eine längere Phase mit einer rot-grünen Minderheitsregierung hin. Aber: Bis Weihnachten werde er alle Gesetzesvorhaben im Bundestag zur Abstimmung stellen, die keinen Aufschub duldeten, sagt Scholz. Dazu zählten der Ausgleich der kalten Progression bei der Steuer, die Stabilisierung der gesetzlichen Rente, die Reform der europäischen Asylpolitik wie auch Sofortmaßnahmen für die Wirtschaft.\\nScholz wirbt in seinem Auftritt um die Zustimmung der Union bei weiteren Projekten. Er wolle in zwei entscheidenden Fragen konstruktiv mit der Opposition zusammenarbeiten - ,,bei der schnellen Stärkung unserer Wirtschaft und unserer Verteidigung\". Die Wirtschaft könne nicht warten, bis Neuwahlen stattgefunden hätten, und es brauche Klarheit über die solide Finanzierung der Sicherheit und Verteidigung, so Scholz.\\nOb das gelingen wird, ist völlig offen. Oppositionsführer Friedrich Merz (CDU) hat mit Blick auf die Umfragewerte eigentlich kein Interesse an einer längeren Fortsetzung von Scholz\\' Kanzlerschaft als unbedingt nötig. CDU und CSU führen haushoch in den Umfragen, bei zeitnahen Neuwahlen hätten sie große Chancen, stärkste Kraft zu werden und Merz zum Kanzler zu machen.\\nKurz nach Scholz tritt auch Vizekanzler Habeck vor die Kameras und betont, ,,dass sich das heute Abend falsch und nicht richtig anfühlt\". Obwohl Lösungsmöglichkeiten auf dem Tisch lagen, habe man die Haushaltslücke nicht schließen können. ,,Die FDP war nicht bereit, diese Wege zu gehen\", sagt Habeck.\\nDie Entlassung von Finanzminister Christian Lindner (FDP) sei letztlich so folgerichtig wie unnötig gewesen. Die Grünen wollen seinen Angaben zufolge nach dem Ende der Ampel-Koalition zunächst Teil einer Minderheitsregierung mit der SPD bleiben. Er spricht sich aber auch dafür aus, ,,jetzt zügig den Weg zu geordneten Neuwahlen frei zu machen\".\\nAls FDP-Chef Christian Lindner auftritt, im Bundestag, gerät das Statement seinerseits zu einer Abrechnung mit Scholz. ,,Olaf Scholz hat leider gezeigt, dass er nicht die Kraft hat, unserem Land einen neuen Aufbruch zu ermöglichen\", sagt Lindner - und wirft Scholz vor, die Zusammenarbeit mit ihm und der FDP aufgekündigt und damit einen ,,kalkulierten Bruch dieser Koalition\" herbeigeführt zu haben.\\nNoch am Abend wollte die SPD-Bundestagsfraktion zu einer Sondersitzung zusammenkommen. Es sind dramatische Stunden im politischen Berlin - der Ausgang ist ungewiss.\\nLink zum PDF\\n\\nLoad-Date:\\xa0November 7, 2024\\n\\n\\nEnd of Document\\n\\n\\n\\n\\n\\n\\nAmpel-Aus beflügelt die Grünen; Partei stellt in Wiesbaden die Weichen für den Wahlkampf / Ricarda Lang und Omid Nouripour ziehen Bilanz\\nLampertheimer Zeitung (Germany)\\nSamstag 16. November 2024\\n\\n\\nCopyright 2024 VRM GmbH & Co. KG Alle Rechte Vorbehalten\\n\\n\\nSection:\\xa0POLITIK; LAMPERTHEIMER ZEITUNG; S. 4\\nLength:\\xa0569 words\\nByline:\\xa0Sascha Kircher\\nBody\\n\\n\\nWIESBADEN. Keine Spur von November-Blues bei den Grünen: Bei der 50. Bundesdelegiertenkonferenz in Wiesbaden ist die Stimmung demonstrativ gut. Das Aus der Ampel vor zehn Tagen scheint die Partei regelrecht beflügelt zu haben. Seitdem seien mehr als 9000 Mitgliedsanträge eingegangen, verkündet Geschäftsführerin Emily Büning zur Eröffnung des Parteitags. \"Wir sind startklar - und wir sind so viele wie noch nie\", ruft sie den 829 Delegierten und mehr als 3500 Gästen im Wiesbadener Rhein-Main-Congress-Centrum zu. Der Andrang am Einlass ist so groß, dass man mit einer halben Stunde Verspätung beginnt.\\nStartschuss für den 100 Tage dauernden Wahlkampf\\nDas Treffen in Wiesbaden ist zugleich Auftakt für den Wahlkampf, immerhin findet die anberaumte Neuwahl des Bundestags in rund 100 Tagen statt. \"Zieht die Winterstiefel an, macht die Thermoskannen bereit\", appelliert Büning an die Wahlkämpfer. \"Wir werden das Netz und die Straße nicht den Populisten, den Gestrigen und den Neoliberalen überlassen!\" Christian Lindner und die FDP seien nicht mehr an vertrauensvoller Zusammenarbeit interessiert gewesen.\\nZuvor hatte die scheidende Bundesvorsitzende Ricarda Lang einen Einblick in die Geschehnisse der entscheidenden Koalitionsausschusssitzung gegeben. Bis zur Pause habe sie nicht daran geglaubt, dass es so komme, räumte Lang im Gespräch mit Journalisten ein. Zum Abschied habe man sich noch mal umarmt. Lang und ihr Co-Vorsitzender Omid Nouripour, die beide nach den verlorenen Landtagswahlen im Osten ihren Rücktritt verkündet hatten, wirken aufgeräumt. Es seien \"drei intensive Jahre\" gewesen, resümiert Nouripour.\\nDer Frankfurter sorgt am Abend für das erste Ausrufezeichen auf dem Parteitag. Mit einer ebenso emotionalen wie kämpferischen Rede verabschiedet er sich von den Delegierten. \"Passt mir auf diese Partei auf, sie wird so was von gebraucht\", ruft er in den Saal. Es gehe darum, Politik für alle zu machen. Als Kritik an so manch innerparteilicher Genderdiskussion lässt sich die Mahnung verstehen: \"Vielfalt ist Stärke, aber Vielfalt ist nicht die Summe aller Minderheiten, sondern auch der Mehrheit.\" Zu seinem Verhältnis mit Lang an der Parteispitze sagt Nouripour, er sei \"verdammt stolz\", dass es in den drei gemeinsamen Jahren \"nicht ein Wort der Zwietracht zwischen uns beiden gab\".\\nSelbstkritik bei der scheidenden Vorsitzenden\\nLang berichtet am Freitag, bei aller Wehmut, von \"einer gewissen Erleichterung\", auch mit Blick auf die Anfeindungen gegen sie, die zunehmend \"persönlicher und diffamierender\" geworden seien. Sie bereue den Schritt nicht, trotzdem werde bei der Verabschiedung am Samstag sicher \"die eine oder andere Träne fließen\", gesteht die 30-Jährige. Auch Platz für Selbstkritik ist beim Auftakt des Parteitags: \"Was die Ampel im letzten Jahr an politischer Kultur kaputt gemacht hat, überwiegt das, was wir erreicht haben\", sagt Lang. Immerhin: \"Wir sind als Vorsitzende angetreten mit einem strategischen Ziel: einen Kanzlerkandidaten aufzustellen\", bilanziert Nouripour. \"Wir treten ab mit diesem umgesetzten Ziel.\" Habeck sei \"unsere beste Kraft\", unterstreicht Lang.\\nDie zahlreichen \"Habeck 4 Kanzler\"-Shirts junger Parteimitglieder bestätigen die Zustimmung für den Noch-Vizekanzler, der im offiziellen Antrag der Tagesordnung als \"Kandidat für die Menschen in Deutschland\" apostrophiert wird. Wie 2021 soll er im Spitzenduo mit Außenministerin Annalena Baerbock antreten.\\n\\nLoad-Date:\\xa0November 15, 2024\\n\\n\\nEnd of Document\\n'"
      ]
     },
     "execution_count": 19,
     "metadata": {},
     "output_type": "execute_result"
    }
   ],
   "source": [
    "text"
   ]
  },
  {
   "cell_type": "code",
   "execution_count": null,
   "metadata": {
    "colab": {
     "base_uri": "https://localhost:8080/"
    },
    "id": "Utq16FOyZ4vz",
    "outputId": "59741131-f2a2-4019-d797-295a94dd0a7e"
   },
   "outputs": [
    {
     "name": "stdout",
     "output_type": "stream",
     "text": [
      "Articles saved to /content/drive/My Drive/Aligning AI Project/Data/newspaper_ampel-aus_201-300.json\n"
     ]
    }
   ],
   "source": [
    "import json\n",
    "import re\n",
    "\n",
    "# Simulated RTF-to-text output\n",
    "data = text\n",
    "\n",
    "# Step 1: Split by multiple blank lines\n",
    "parts = data.split(\"\\n\\n\\n\\n\\n\")\n",
    "\n",
    "# Step 2: Separate metadata and articles\n",
    "metadata = parts[0]  # The first part is the metadata\n",
    "articles = parts[1:]  # The rest are individual articles\n",
    "\n",
    "structured_articles = []\n",
    "\n",
    "for i, raw_text in enumerate(articles, start=1):\n",
    "    # 2) Remove extra blank lines within the article and split by line\n",
    "    lines = [line.strip() for line in raw_text.split(\"\\n\") if line.strip()]\n",
    "\n",
    "    # 3) Extract title, source, date if available\n",
    "    title = lines[0] if len(lines) > 0 else None\n",
    "    source = lines[1] if len(lines) > 1 else None\n",
    "    date = lines[2] if len(lines) > 2 else None\n",
    "\n",
    "    # 4) The rest is body\n",
    "    body_lines = lines[3:] if len(lines) > 3 else []\n",
    "    body = \"\\n\".join(body_lines)\n",
    "\n",
    "    structured_articles.append({\n",
    "        \"article_number\": i,\n",
    "        \"title\": title,\n",
    "        \"source\": source,\n",
    "        \"date\": date,\n",
    "        \"body\": body\n",
    "    })\n",
    "\n",
    "# 5) Save to JSON\n",
    "output_file = f\"{path}/{filename}.json\"\n",
    "with open(output_file, \"w\", encoding=\"utf-8\") as f:\n",
    "    json.dump(structured_articles, f, ensure_ascii=False, indent=4)\n",
    "\n",
    "print(f\"Articles saved to {output_file}\")"
   ]
  },
  {
   "cell_type": "markdown",
   "metadata": {
    "id": "sgt3rt9nI1UU"
   },
   "source": [
    "## Preprocessing: Cleaning & Filtering\n",
    "- Clean the articles\n",
    "- Filter the articles we want using simple keywords\n",
    "- Filter the duplicate articles"
   ]
  },
  {
   "cell_type": "code",
   "execution_count": null,
   "metadata": {
    "id": "o661KnN7nnSH"
   },
   "outputs": [],
   "source": [
    "# TODO preprecossing of the articles (html parts still there in some articles)\n",
    "import os\n",
    "import json\n",
    "import re\n",
    "\n",
    "# Example keyword list\n",
    "KEYWORDS = [\"collapse\", \"German government\", \"finance minister\", \"coalition\", \"traffic light\",\n",
    "            \"Ampel\", \"Koalition\", \"Regierung\", \"Ampel-Koalition\", \"Ampel-Aus\", \"Koalitionskrise\", \"Regierung\", \"FDP\", \"SPD\", \"Ausstiegsszenarien\", \"Ampelkoalition\"]\n",
    "\n",
    "def load_json_files(folder_path):\n",
    "    \"\"\"\n",
    "    Reads all .json files from a folder and returns a list of loaded JSON objects with their filenames.\n",
    "    \"\"\"\n",
    "    json_data_list = []\n",
    "    for file_name in os.listdir(folder_path):\n",
    "        if file_name.endswith(\".json\") and file_name != \"config.json\":\n",
    "            file_path = os.path.join(folder_path, file_name)\n",
    "            with open(file_path, 'r', encoding='utf-8') as f:\n",
    "                # Each file might contain a top-level list or dict. Adjust parsing if needed.\n",
    "                data = json.load(f)\n",
    "                json_data_list.append((file_name, data))\n",
    "    return json_data_list\n",
    "\n",
    "\n",
    "def remove_duplicates(articles):\n",
    "    \"\"\"\n",
    "    Removes duplicates within a single list of articles by comparing (title, date).\n",
    "    Returns a list of unique articles.\n",
    "    \"\"\"\n",
    "    seen = set()\n",
    "    unique_articles = []\n",
    "    for article in articles:\n",
    "        # We combine title and date as a key to detect duplicates\n",
    "        title_date_key = (article.get(\"title\", \"\"), article.get(\"date\", \"\"))\n",
    "        if title_date_key not in seen:\n",
    "            seen.add(title_date_key)\n",
    "            unique_articles.append(article)\n",
    "    return unique_articles\n",
    "\n",
    "\n",
    "def filter_by_keywords(articles, keywords):\n",
    "    \"\"\"\n",
    "    Keeps only articles containing at least one keyword in either the title or body.\n",
    "    \"\"\"\n",
    "    filtered = []\n",
    "    for article in articles:\n",
    "        title = article.get(\"title\", \"\").lower()\n",
    "        body = article.get(\"body\", \"\").lower()\n",
    "        if any(keyword.lower() in title or keyword.lower() in body for keyword in keywords):\n",
    "            filtered.append(article)\n",
    "    return filtered\n",
    "\n",
    "\n",
    "def remove_html_tags(text):\n",
    "    \"\"\"\n",
    "    Strips HTML tags from a string using a regex.\n",
    "    \"\"\"\n",
    "    # This pattern will remove tags like <p>, </p>, <strong>, etc.\n",
    "    clean_text = re.sub(r'<[^>]*>', '', text)\n",
    "    return clean_text\n",
    "\n",
    "\n",
    "def preprocess_articles(articles):\n",
    "    \"\"\"\n",
    "    Applies preprocessing to each article (e.g., remove HTML tags, split body by \"Body\").\n",
    "    \"\"\"\n",
    "    for article in articles:\n",
    "        body_text = article.get(\"body\", \"\")\n",
    "\n",
    "        # Remove HTML tags\n",
    "        body_text = remove_html_tags(body_text)\n",
    "\n",
    "        # Split the body by the line \"Body\" and keep only the part after it\n",
    "        body_lines = body_text.split(\"\\n\")\n",
    "        split_index = None\n",
    "        for idx, line in enumerate(body_lines):\n",
    "            if line.strip() == \"Body\":\n",
    "                split_index = idx\n",
    "                break\n",
    "        if split_index is not None:\n",
    "            body_lines = body_lines[split_index + 1:]\n",
    "\n",
    "        # Join the remaining body text and strip whitespace\n",
    "        body_text = \"\\n\".join(body_lines).strip()\n",
    "\n",
    "        # Update the article body\n",
    "        article[\"body\"] = body_text\n",
    "\n",
    "    return articles\n",
    "\n",
    "def save_articles_to_json(articles, original_filename, output_folder):\n",
    "    \"\"\"\n",
    "    Saves a list of articles to a JSON file with \"_processed\" added to the original filename.\n",
    "    \"\"\"\n",
    "    file_name, file_extension = os.path.splitext(original_filename)\n",
    "    processed_filename = f\"{file_name}_processed{file_extension}\"\n",
    "    output_path = os.path.join(output_folder, processed_filename)\n",
    "    with open(output_path, 'w', encoding='utf-8') as f:\n",
    "        json.dump(articles, f, ensure_ascii=False, indent=4)"
   ]
  },
  {
   "cell_type": "code",
   "execution_count": null,
   "metadata": {
    "colab": {
     "base_uri": "https://localhost:8080/"
    },
    "id": "78eAbcm3JoHA",
    "outputId": "a4a35567-469c-43e0-e03e-5b5513b2d52c"
   },
   "outputs": [
    {
     "name": "stdout",
     "output_type": "stream",
     "text": [
      "Saving file name: articles_weblinks.json\n",
      "Saving file name: articles_newswires.json\n",
      "Saving file name: articles_newspapers.json\n",
      "Saving file name: newspaper_ampel-aus_0-200.json\n",
      "Saving file name: newspaper_ampel-aus_201-300.json\n"
     ]
    }
   ],
   "source": [
    "folder_path = f\"{path}/\"  # change this to your folder\n",
    "output_folder = f\"{path}/output_cleaning/new/\"  # change this to your output folder\n",
    "all_loaded_data = load_json_files(folder_path)\n",
    "\n",
    "# Process each JSON file\n",
    "for original_filename, json_file_data in all_loaded_data:\n",
    "    articles = json_file_data\n",
    "\n",
    "    # 1) Remove duplicates in this file\n",
    "    unique_articles = remove_duplicates(articles)\n",
    "\n",
    "    # 2) Filter articles by keywords\n",
    "    filtered_articles = filter_by_keywords(unique_articles, KEYWORDS)\n",
    "\n",
    "    # 3) Preprocess articles (remove HTML tags, split body, etc.)\n",
    "    processed_articles = preprocess_articles(filtered_articles)\n",
    "\n",
    "    # 4) Save processed articles to a new JSON file with the original filename + \"_processed\"\n",
    "    print(\"Processed file name:\", original_filename)\n",
    "    save_articles_to_json(processed_articles, original_filename, output_folder)"
   ]
  },
  {
   "cell_type": "markdown",
   "metadata": {
    "id": "TjiuVkCF520J"
   },
   "source": [
    "You can find the processed files in our GDrive -> data/output_cleaning/"
   ]
  },
  {
   "cell_type": "markdown",
   "metadata": {
    "id": "u2TdCkmeI9ac"
   },
   "source": [
    "# Summary Pipeline"
   ]
  },
  {
   "cell_type": "code",
   "execution_count": null,
   "metadata": {
    "colab": {
     "base_uri": "https://localhost:8080/"
    },
    "collapsed": true,
    "id": "TNITx5-g627F",
    "outputId": "ec33e011-5dd7-4329-bf03-7120e6f80fe4"
   },
   "outputs": [
    {
     "name": "stdout",
     "output_type": "stream",
     "text": [
      "Requirement already satisfied: openai in /usr/local/lib/python3.11/dist-packages (1.59.9)\n",
      "Requirement already satisfied: anyio<5,>=3.5.0 in /usr/local/lib/python3.11/dist-packages (from openai) (3.7.1)\n",
      "Requirement already satisfied: distro<2,>=1.7.0 in /usr/local/lib/python3.11/dist-packages (from openai) (1.9.0)\n",
      "Requirement already satisfied: httpx<1,>=0.23.0 in /usr/local/lib/python3.11/dist-packages (from openai) (0.28.1)\n",
      "Requirement already satisfied: jiter<1,>=0.4.0 in /usr/local/lib/python3.11/dist-packages (from openai) (0.8.2)\n",
      "Requirement already satisfied: pydantic<3,>=1.9.0 in /usr/local/lib/python3.11/dist-packages (from openai) (2.10.5)\n",
      "Requirement already satisfied: sniffio in /usr/local/lib/python3.11/dist-packages (from openai) (1.3.1)\n",
      "Requirement already satisfied: tqdm>4 in /usr/local/lib/python3.11/dist-packages (from openai) (4.67.1)\n",
      "Requirement already satisfied: typing-extensions<5,>=4.11 in /usr/local/lib/python3.11/dist-packages (from openai) (4.12.2)\n",
      "Requirement already satisfied: idna>=2.8 in /usr/local/lib/python3.11/dist-packages (from anyio<5,>=3.5.0->openai) (3.10)\n",
      "Requirement already satisfied: certifi in /usr/local/lib/python3.11/dist-packages (from httpx<1,>=0.23.0->openai) (2024.12.14)\n",
      "Requirement already satisfied: httpcore==1.* in /usr/local/lib/python3.11/dist-packages (from httpx<1,>=0.23.0->openai) (1.0.7)\n",
      "Requirement already satisfied: h11<0.15,>=0.13 in /usr/local/lib/python3.11/dist-packages (from httpcore==1.*->httpx<1,>=0.23.0->openai) (0.14.0)\n",
      "Requirement already satisfied: annotated-types>=0.6.0 in /usr/local/lib/python3.11/dist-packages (from pydantic<3,>=1.9.0->openai) (0.7.0)\n",
      "Requirement already satisfied: pydantic-core==2.27.2 in /usr/local/lib/python3.11/dist-packages (from pydantic<3,>=1.9.0->openai) (2.27.2)\n"
     ]
    }
   ],
   "source": [
    "!pip install openai"
   ]
  },
  {
   "cell_type": "code",
   "execution_count": null,
   "metadata": {
    "id": "_iJEQ0zxo7F4"
   },
   "outputs": [],
   "source": [
    "import pandas as pd\n",
    "from openai import OpenAI\n",
    "import json\n",
    "\n",
    "# Load the API key\n",
    "config_path = f\"{path}/config.json\" # PATH OF THE API KEY\n",
    "\n",
    "with open(config_path, 'r', encoding='utf-8') as f:\n",
    "  config = json.load(f)\n",
    "  API_KEY = config.get(\"API_KEY\")\n",
    "\n",
    "# Define the prompt you want to send to the system\n",
    "SYSTEM_PROMPT = \"You are a helpful assistant that summarizes articles.\"\n",
    "\n",
    "# Initialize the OpenAI client with your API key\n",
    "client = OpenAI(api_key=API_KEY)\n",
    "\n",
    "def generate_response(input_text, system_prompt):\n",
    "    response = client.chat.completions.create(\n",
    "        model=\"gpt-4o\",\n",
    "        messages=[\n",
    "            {\n",
    "                \"role\": \"system\",\n",
    "                \"content\": [\n",
    "                    {\n",
    "                        \"type\": \"text\",\n",
    "                        \"text\": system_prompt\n",
    "                    }\n",
    "                ]\n",
    "            },\n",
    "            {\n",
    "                \"role\": \"user\",\n",
    "                \"content\": [\n",
    "                    {\n",
    "                        \"type\": \"text\",\n",
    "                        \"text\": input_text\n",
    "                    }\n",
    "                ]\n",
    "            }\n",
    "        ],\n",
    "        response_format={\n",
    "            \"type\": \"text\"\n",
    "        },\n",
    "        temperature=0.1, # CHANGE THIS PARAMETER IF NECESSARY\n",
    "        max_completion_tokens=2048, # CHANGE THIS PARAMETER IF NECESSARY\n",
    "        top_p=1,\n",
    "        frequency_penalty=0,\n",
    "        presence_penalty=0\n",
    "    )\n",
    "    return response.choices[0].message.content\n",
    "\n",
    "# Creates a summary for a single JSON file\n",
    "def process_json(prompt, input_file, output_file):\n",
    "    # Read JSON file\n",
    "    with open(input_file, \"r\", encoding=\"utf-8\") as f:\n",
    "        data = json.load(f)\n",
    "\n",
    "    # For each article in JSON, read \"body\" and generate summary\n",
    "    for item in data:\n",
    "        body_text = item.get(\"body\", \"\")\n",
    "        if body_text:\n",
    "            summary = generate_response(f\"{prompt} {body_text}\", SYSTEM_PROMPT)\n",
    "            item[\"summary\"] = summary\n",
    "\n",
    "    # Write updated data to new JSON file\n",
    "    with open(output_file, \"w\", encoding=\"utf-8\") as f:\n",
    "        json.dump(data, f, ensure_ascii=False, indent=2)\n",
    "\n",
    "    # Also create an Excel file from the updated data\n",
    "    df = pd.DataFrame(data)\n",
    "    df.to_excel(\"summaries_short.xlsx\", index=False)"
   ]
  },
  {
   "cell_type": "code",
   "execution_count": null,
   "metadata": {
    "id": "RSAEx8wj4gnC"
   },
   "outputs": [],
   "source": [
    "process_json(\"\"\"Create a concise and accurate summary of the following article in English.\"\"\",\n",
    "             f\"{path}/output_cleaning/test_articles_prompt.json\", f\"{path}/output_summary/test_summaries_short.json\")"
   ]
  },
  {
   "cell_type": "code",
   "execution_count": null,
   "metadata": {
    "id": "Exa6ZwWj324v"
   },
   "outputs": [],
   "source": [
    "import os\n",
    "def process_all_json_in_folder(prompt, input_folder, output_folder):\n",
    "    \"\"\"\n",
    "    Processes all JSON files in the specified input folder and saves the results\n",
    "    in the output folder.\n",
    "    \"\"\"\n",
    "    # Ensure the output folder exists\n",
    "    os.makedirs(output_folder, exist_ok=True)\n",
    "\n",
    "    # Iterate through all JSON files in the input folder\n",
    "    for file_name in os.listdir(input_folder):\n",
    "        if file_name.endswith(\".json\"):\n",
    "            input_file_path = os.path.join(input_folder, file_name)\n",
    "            output_file_path = os.path.join(output_folder, file_name)\n",
    "\n",
    "            print(f\"Processing {file_name}...\")\n",
    "            process_json(prompt, input_file_path, output_file_path)\n",
    "            print(f\"Saved processed file to {output_file_path}\")"
   ]
  },
  {
   "cell_type": "code",
   "execution_count": null,
   "metadata": {
    "colab": {
     "base_uri": "https://localhost:8080/",
     "height": 495
    },
    "collapsed": true,
    "id": "-4clHZ_a4iQQ",
    "outputId": "927c9e67-4c86-4e86-c32b-ca9f1450f785"
   },
   "outputs": [],
   "source": [
    "# Define the folder paths\n",
    "input_folder = f\"{path}/output_cleaning\"\n",
    "output_folder = f\"{path}/output_summary\"\n",
    "\n",
    "# Run the processing function\n",
    "process_all_json_in_folder(\"Create a concise and accurate summary of the following article in English.\",\n",
    "                           input_folder, output_folder)\n",
    "\n",
    "# For the german articles & summaries:\n",
    "# process_all_json_in_folder(\"Erstelle eine prägnante und genaue Zusammenfassung des folgenden Artikels in deutscher Sprache.\", input_folder, output_folder)"
   ]
  },
  {
   "cell_type": "markdown",
   "metadata": {
    "id": "qzhUFvHnWtHh"
   },
   "source": [
    "### Convert Json files to Excel\n"
   ]
  },
  {
   "cell_type": "code",
   "execution_count": null,
   "metadata": {
    "colab": {
     "base_uri": "https://localhost:8080/"
    },
    "id": "cP8zTkdiWvip",
    "outputId": "4c099fe4-61ee-47d6-cf5d-b7dc210cf204"
   },
   "outputs": [],
   "source": [
    "import os\n",
    "import glob\n",
    "import pandas as pd\n",
    "\n",
    "# Specify the folder containing the JSON files\n",
    "folder_path = f\"{path}/output_summary/0402_summaries_english\"  # Change this to your target folder\n",
    "\n",
    "# Find all JSON files in the folder\n",
    "json_files = glob.glob(os.path.join(folder_path, \"*.json\"))\n",
    "\n",
    "for json_file in json_files:\n",
    "    try:\n",
    "        # Load JSON file into a DataFrame\n",
    "        df = pd.read_json(json_file)\n",
    "\n",
    "        # Create an Excel file name with the same base name\n",
    "        base_name = os.path.splitext(os.path.basename(json_file))[0]\n",
    "        excel_file = os.path.join(folder_path, f\"{base_name}.xlsx\")\n",
    "\n",
    "        # Write the DataFrame to an Excel file (without row indices)\n",
    "        df.to_excel(excel_file, index=False)\n",
    "        print(f\"Converted {json_file} to {excel_file}\")\n",
    "    except Exception as e:\n",
    "        print(f\"Failed to convert {json_file}: {e}\")\n"
   ]
  },
  {
   "cell_type": "markdown",
   "metadata": {
    "id": "fD1fBG0uiNeK"
   },
   "source": [
    "### Check: How many articles have been collected"
   ]
  },
  {
   "cell_type": "code",
   "execution_count": null,
   "metadata": {
    "colab": {
     "base_uri": "https://localhost:8080/"
    },
    "id": "WGlCvjbuiNBe",
    "outputId": "8cc6cb11-8cde-4bab-f599-0740eb614bec"
   },
   "outputs": [
    {
     "name": "stdout",
     "output_type": "stream",
     "text": [
      "articles_newspapers_processed_modified.json: 10 rows\n",
      "articles_newswires_processed_modified.json: 10 rows\n",
      "articles_newspapers_processed.json: 116 rows\n",
      "articles_newswires_processed.json: 57 rows\n",
      "Total rows across all JSON files: 193\n"
     ]
    }
   ],
   "source": [
    "import os\n",
    "import glob\n",
    "import pandas as pd\n",
    "import json\n",
    "\n",
    "# Specify the folder path containing JSON files\n",
    "folder_path = f\"{path}/output_summary/0402_summaries_english\"  # Change this to your target folder\n",
    "\n",
    "\n",
    "# Find all JSON files in the folder\n",
    "json_files = glob.glob(os.path.join(folder_path, \"*.json\"))\n",
    "\n",
    "total_rows = 0\n",
    "\n",
    "for json_file in json_files:\n",
    "    try:\n",
    "        with open(json_file, \"r\", encoding=\"utf-8\") as f:\n",
    "            content = json.load(f)\n",
    "\n",
    "        # Determine the number of rows (records) based on the JSON structure\n",
    "        if isinstance(content, list):\n",
    "            # JSON is a list; each element is an Excel row\n",
    "            num_rows = len(content)\n",
    "        elif isinstance(content, dict):\n",
    "            # If the dict has one key and its value is a list, assume that's the table\n",
    "            if len(content) == 1:\n",
    "                first_val = next(iter(content.values()))\n",
    "                if isinstance(first_val, list):\n",
    "                    num_rows = len(first_val)\n",
    "                else:\n",
    "                    # If not a list, count each key-value pair as one row (less common)\n",
    "                    num_rows = len(content)\n",
    "            else:\n",
    "                # For a dict with multiple keys, you might decide to sum the lengths\n",
    "                # of any list values; here we sum only lists found as values.\n",
    "                num_rows = sum(len(v) for v in content.values() if isinstance(v, list()))\n",
    "                # If no list is found, fallback to counting key-value pairs\n",
    "                if num_rows == 0:\n",
    "                    num_rows = len(content)\n",
    "        else:\n",
    "            num_rows = 0\n",
    "\n",
    "        total_rows += num_rows\n",
    "        print(f\"{os.path.basename(json_file)}: {num_rows} rows\")\n",
    "    except Exception as e:\n",
    "        print(f\"Error reading {os.path.basename(json_file)}: {e}\")\n",
    "\n",
    "print(f\"Total rows across all JSON files: {total_rows}\")\n",
    "\n"
   ]
  },
  {
   "cell_type": "markdown",
   "metadata": {
    "id": "-sDynmCdWrAJ"
   },
   "source": [
    "# Evaluation Pipeline"
   ]
  },
  {
   "cell_type": "code",
   "execution_count": null,
   "metadata": {
    "colab": {
     "base_uri": "https://localhost:8080/"
    },
    "collapsed": true,
    "id": "MVdGM50xuvED",
    "outputId": "f20b407a-4619-41c8-8750-09109deb297f"
   },
   "outputs": [
    {
     "name": "stdout",
     "output_type": "stream",
     "text": [
      "Mounted at /content/drive\n"
     ]
    }
   ],
   "source": [
    "#optional if starting here\n",
    "from google.colab import drive\n",
    "drive.mount('/content/drive')\n",
    "path = \"/content/drive/My Drive/Aligning AI Project/Data\"\n",
    "config_path = f\"{path}/config.json\" # PATH OF THE HF KEY"
   ]
  },
  {
   "cell_type": "code",
   "execution_count": null,
   "metadata": {
    "colab": {
     "base_uri": "https://localhost:8080/",
     "height": 525,
     "referenced_widgets": [
      "b32912e2f3da42dfb9f05a2e001f4375",
      "6c9ebd52b34948299b37a8b0f573fd28",
      "c4c0a058cbcf454093ca34ff90808e13",
      "90a211967e744b5cb6d761e33d3fb0ab",
      "71a2ca8dfabc48e1b7b5844db9c92fc3",
      "dcd5cbd56d3d4167b237220660b5509c",
      "3615f4d416664a0192d97ca16ed8688b",
      "14b4f233252d4278b134625d3fb496cc",
      "8f29893da96943c8ad0ccdf05cbc5eec",
      "007df68ac24a41f58487d8595beeba67",
      "44cba98f943d4d8da5bbc6eb8b229eb9",
      "1b0f526b70a848bb957477e99bf06e1c",
      "24c3eadd0c6e4993b6127969bc1ab4d8",
      "94e6b162420546ec9a8eb3e7c239cd5e",
      "c629ec221fb244d48b5edac6565de7f0",
      "6550ce31626243fd876ad7835de9619f",
      "d8cc185865394000af37f25c5a7473e1",
      "02138200be2c4774bd9e91117c0dae6c",
      "92bca09a2c8d4529be1c5835bc49da40",
      "8e2da18f48ab43e9b61f4b2d563dd048",
      "7afd02ee5ccb4558a43b5a47cf6bf42f",
      "50996cd4dc3b422b8b3bfabe80f84741",
      "e71d227ecf25457bb727bd4e1d5083ac",
      "b38abfc0ff83489bbf2896de83f02be2",
      "1b99b37eddf54d23a7dfa20f58638a1d",
      "85d1204d4f134f0ba7819c84e5e34608",
      "97fe6d09f16a4b94b3f20e5fb3389fd6",
      "cbcd670c719146f9873879339d72b003",
      "328df1a494ba4ce69a8a559491942254",
      "427a82c5c6d641728937cad091ecf4c1",
      "e98b1c8061754f359eefed27f63da6d4",
      "8f0dd5bc6b604028875a6c2fa15a6868",
      "6f6d43b0419a448e9bfdf2f3977b2450",
      "e98065312866471c90e4fee76ec8e808",
      "c3faa7655bb14b5fafedeaaf8585e0f0",
      "4412c64de3294cd8b8b687ea9b1ab912",
      "5c019f5428184288bab585350602b372",
      "ad4ee7fae24c46b6ba1e8301a58250ef",
      "bd10eebb633b46ff99d8eb36af012025",
      "0295e0d963d64f69ba6679ac5ed93c5d",
      "81ad3d46df834c1ab5495fc4a45819ad",
      "a14a516bbcbe449ea897b1d24475f233",
      "4b8522e5978c4c2e9d04e5f9e226bf87",
      "55593941e5bc4f8797f16f5413dc6c84",
      "420b4366f5b745799373d7fa359a6638",
      "823f93f658964ce5825a16ce245fdfb1",
      "e5a076c30dd0411498249c68eb2d888e",
      "3cc2c3a001f944658d41cecacaa6fccb",
      "f5c2cf6eabb343d6b8fc868d54dd3d8f",
      "ffa6f862348d45b9818712683130eb7c",
      "44159ff8c25545b5a7c581f5dc20e489",
      "8e38ae2c32e446dba6166fe37685bec4",
      "5f90ce547df14b2b825ec65e6fd22aa4",
      "e0cd2e7d2e174f969c9171b16dd6ef4d",
      "cf1e6b72c34043fbbfb8aebcb10a6ece",
      "1836e806aabe45be86892722f6e63b0b",
      "6a01508411e345cf90529d6f5c32b3b0",
      "eeb2b70ade3f42bb9ee7fc42f379d583",
      "3e8fe1598ed246ef8b8f7375c25be692",
      "77466654ba4f4cf19e30c2bf3f693fce",
      "8d9bd94a67dd445b9af6e2d6c01ea6a9",
      "c36a5dc8b6bc4eb29187ebd250c8c6f1",
      "98dbabe5c12a4676b63f4c00cf986307",
      "e0a80b32a60c41a58bf3777053e71fb8",
      "1a2d9a2dcee64407a058da0a32050a14",
      "6af67a00ff154704a95ae6fdb200b1a7",
      "841efb2c463d4737af8ce792f0fde053",
      "489f3a725b7042c1b435ca00c2bb57e7",
      "8d7f992d2ab043a088da38aae3afcd99",
      "4a4dbd12300849f18b95cf23422134df",
      "85b3c2e09b1043b793e7422b0fd336a6",
      "8280164ecc1942939779c9d03357e03c",
      "9aadd28ed902450b8f7c15bacc43cf30",
      "66eb9853fae44b578e1f728a906bb97d",
      "bcdcb1ede6004778b099548ba8e30b2d",
      "01f04bbcaaf44ecfb68b724f8bf21864",
      "1c833c9b85124610a6ab5198038b8ba9",
      "157c4a26710a44c3a1ff664a41b767cd",
      "7e91ea1c7bbd4337957e78369811b0da",
      "b7aa53b3ebaa413f8793930e5e6ba03e",
      "a85d92b9c99f452fb08363b454de0efd",
      "838b6a11923d49e281c1a066d9fa7bd7",
      "e8210fd075e243b39627f4f32d4b3cb2",
      "161ba3b1b4bf4c40afd2cb00cdad3856",
      "cb6efd16b94540a6ae9fd0f044f427a2",
      "dfc3bfc7231945089e10179d5c75bd1f",
      "bd019fa9caaf4615b2d27d4cb99ec56f",
      "e29c974205f74c1ea93956ac0de8f57a",
      "d6e84efefd674f9abffcbeffd34d3bab",
      "c80178c2fc22437a83344d778e8bd14b",
      "e6b9878eb62648d5abb01d21f3c42004",
      "d8d4a37557194f12a5714b409c816112",
      "991bed55b9f34edd88104473e0f16e8d",
      "b6845e538e07478293fd672a278f9ddb",
      "8b644f92fb054b45b7af503794514215",
      "b280d953357448d7be4776ab283b5bdc",
      "bd01f19e1c194cefa35287aa3ace1344",
      "d6c0a2bab1a74d899cbf52f76408c4bb",
      "2a00d5ea45f244e5a95a4a5311f47e18",
      "a420069efcf545a8ae24427660cb120c",
      "931f9893d7354278bc30b8e8bfdd90f8",
      "2ae66d7364e5480db60acf19ea28ad81",
      "cc42f378e585452695b5fca6f492c3ec",
      "c7218ac9a72a41af95a833388a9ef5db",
      "38e185a8ea944f4bb114012e3803d12f",
      "4fc8a1eb99cb46b2a280f5f40e5d08bc",
      "11100b7859ab49ab863439aa98532549",
      "afb66d9fe78b42a3bdb8b9505b02b50b",
      "fb1a001af8d84f25b0a137156054b501",
      "a9f37016c3984f3aa6327078dfd580e3",
      "a0c9bb4a493f410cb3202706b6a9dc9e",
      "43fb5100ec4447f8a671ad362fc95100",
      "ebcd66247e7244ba888008c9618071af",
      "0adf04edb76e4699bfa0506deac5e07c",
      "0575917c678d4b5b975ea287c89d52ab",
      "455cb6431732463ab91ad855e733e6db",
      "c337c3d67ebb4abd9fbaf1bfa33659ad",
      "5b73471e32d64dfd8367a5a36377529a",
      "c7f18f25ab4d4a62a9f7039e065dd899",
      "ce4cb132a1ec47b093beb5e3b106ceb4",
      "5a325a1315f94e80ae36df3279913a69",
      "f6a326e0e3e04b568220b4a510c4f786",
      "a1826c6a8b6642c7843c3fbffb8255e8",
      "37ddcbc7cdb746889813dc09a5e270b1",
      "891f450b86fb4ea19f40af50aa6f19c5",
      "f49f267aa65e4f218c4bd37e24e5bdb7",
      "33a06450e97942dab7d5b4b76a94957d",
      "9428a3be34084f2aa1859bcb0e4b487b",
      "068ccaaae61949ef9088c115f27c704f",
      "4aa100bd908a43c983fae4c176fc01d7",
      "1db649bc88c0431290b8d8313f7a5c88",
      "38609545c55a4a7e8160821651272236"
     ]
    },
    "id": "_4flNgnYrtrC",
    "outputId": "93af2b15-19d2-414b-9c88-4fc19c256389"
   },
   "outputs": [
    {
     "name": "stderr",
     "output_type": "stream",
     "text": [
      "/usr/local/lib/python3.11/dist-packages/huggingface_hub/utils/_auth.py:94: UserWarning: \n",
      "The secret `HF_TOKEN` does not exist in your Colab secrets.\n",
      "To authenticate with the Hugging Face Hub, create a token in your settings tab (https://huggingface.co/settings/tokens), set it as secret in your Google Colab and restart your session.\n",
      "You will be able to reuse this secret in all of your notebooks.\n",
      "Please note that authentication is recommended but still optional to access public models or datasets.\n",
      "  warnings.warn(\n"
     ]
    },
    {
     "data": {
      "application/vnd.jupyter.widget-view+json": {
       "model_id": "b32912e2f3da42dfb9f05a2e001f4375",
       "version_major": 2,
       "version_minor": 0
      },
      "text/plain": [
       "config.json:   0%|          | 0.00/855 [00:00<?, ?B/s]"
      ]
     },
     "metadata": {},
     "output_type": "display_data"
    },
    {
     "data": {
      "application/vnd.jupyter.widget-view+json": {
       "model_id": "1b0f526b70a848bb957477e99bf06e1c",
       "version_major": 2,
       "version_minor": 0
      },
      "text/plain": [
       "model.safetensors.index.json:   0%|          | 0.00/23.9k [00:00<?, ?B/s]"
      ]
     },
     "metadata": {},
     "output_type": "display_data"
    },
    {
     "data": {
      "application/vnd.jupyter.widget-view+json": {
       "model_id": "e71d227ecf25457bb727bd4e1d5083ac",
       "version_major": 2,
       "version_minor": 0
      },
      "text/plain": [
       "Downloading shards:   0%|          | 0/4 [00:00<?, ?it/s]"
      ]
     },
     "metadata": {},
     "output_type": "display_data"
    },
    {
     "data": {
      "application/vnd.jupyter.widget-view+json": {
       "model_id": "e98065312866471c90e4fee76ec8e808",
       "version_major": 2,
       "version_minor": 0
      },
      "text/plain": [
       "model-00001-of-00004.safetensors:   0%|          | 0.00/4.98G [00:00<?, ?B/s]"
      ]
     },
     "metadata": {},
     "output_type": "display_data"
    },
    {
     "data": {
      "application/vnd.jupyter.widget-view+json": {
       "model_id": "420b4366f5b745799373d7fa359a6638",
       "version_major": 2,
       "version_minor": 0
      },
      "text/plain": [
       "model-00002-of-00004.safetensors:   0%|          | 0.00/5.00G [00:00<?, ?B/s]"
      ]
     },
     "metadata": {},
     "output_type": "display_data"
    },
    {
     "data": {
      "application/vnd.jupyter.widget-view+json": {
       "model_id": "1836e806aabe45be86892722f6e63b0b",
       "version_major": 2,
       "version_minor": 0
      },
      "text/plain": [
       "model-00003-of-00004.safetensors:   0%|          | 0.00/4.92G [00:00<?, ?B/s]"
      ]
     },
     "metadata": {},
     "output_type": "display_data"
    },
    {
     "data": {
      "application/vnd.jupyter.widget-view+json": {
       "model_id": "841efb2c463d4737af8ce792f0fde053",
       "version_major": 2,
       "version_minor": 0
      },
      "text/plain": [
       "model-00004-of-00004.safetensors:   0%|          | 0.00/1.17G [00:00<?, ?B/s]"
      ]
     },
     "metadata": {},
     "output_type": "display_data"
    },
    {
     "data": {
      "application/vnd.jupyter.widget-view+json": {
       "model_id": "157c4a26710a44c3a1ff664a41b767cd",
       "version_major": 2,
       "version_minor": 0
      },
      "text/plain": [
       "Loading checkpoint shards:   0%|          | 0/4 [00:00<?, ?it/s]"
      ]
     },
     "metadata": {},
     "output_type": "display_data"
    },
    {
     "data": {
      "application/vnd.jupyter.widget-view+json": {
       "model_id": "d6e84efefd674f9abffcbeffd34d3bab",
       "version_major": 2,
       "version_minor": 0
      },
      "text/plain": [
       "generation_config.json:   0%|          | 0.00/184 [00:00<?, ?B/s]"
      ]
     },
     "metadata": {},
     "output_type": "display_data"
    },
    {
     "data": {
      "application/vnd.jupyter.widget-view+json": {
       "model_id": "a420069efcf545a8ae24427660cb120c",
       "version_major": 2,
       "version_minor": 0
      },
      "text/plain": [
       "tokenizer_config.json:   0%|          | 0.00/55.4k [00:00<?, ?B/s]"
      ]
     },
     "metadata": {},
     "output_type": "display_data"
    },
    {
     "data": {
      "application/vnd.jupyter.widget-view+json": {
       "model_id": "a0c9bb4a493f410cb3202706b6a9dc9e",
       "version_major": 2,
       "version_minor": 0
      },
      "text/plain": [
       "tokenizer.json:   0%|          | 0.00/9.09M [00:00<?, ?B/s]"
      ]
     },
     "metadata": {},
     "output_type": "display_data"
    },
    {
     "data": {
      "application/vnd.jupyter.widget-view+json": {
       "model_id": "f6a326e0e3e04b568220b4a510c4f786",
       "version_major": 2,
       "version_minor": 0
      },
      "text/plain": [
       "special_tokens_map.json:   0%|          | 0.00/296 [00:00<?, ?B/s]"
      ]
     },
     "metadata": {},
     "output_type": "display_data"
    },
    {
     "name": "stderr",
     "output_type": "stream",
     "text": [
      "Device set to use cuda:0\n"
     ]
    }
   ],
   "source": [
    "from huggingface_hub import login\n",
    "import json\n",
    "import transformers\n",
    "import torch\n",
    "\n",
    "with open(config_path, 'r', encoding='utf-8') as f:\n",
    "  config = json.load(f)\n",
    "  LLAMA3_1_token = config.get(\"API_LLAMA_3.1\")\n",
    "\n",
    "login(LLAMA3_1_token)\n",
    "# we use llama for sentiment analysis\n",
    "\n",
    "# Load Llama 3.1 model from Hugging Face\n",
    "model_id = \"meta-llama/Llama-3.1-8B-Instruct\"\n",
    "pipeline = transformers.pipeline(\n",
    "    \"text-generation\",\n",
    "    model=model_id,\n",
    "    model_kwargs={\"torch_dtype\": torch.bfloat16},\n",
    "    device_map=\"auto\",\n",
    "    temperature = 0.1, # change temperature if necessary\n",
    ")"
   ]
  },
  {
   "cell_type": "markdown",
   "metadata": {
    "id": "VpCpjHGwyO9m"
   },
   "source": []
  },
  {
   "cell_type": "code",
   "execution_count": null,
   "metadata": {
    "id": "_USSBIGofJjr"
   },
   "outputs": [],
   "source": [
    "accuracy_eval_prompt = \"\"\"Decide if the following summary is consistent with the corresponding article.\n",
    "You find both below this instruction. Note that consistency means all information in the summary is supported by the article. answer with ANSWER:1 if the article and the summary are consistent or ANSWER:0 if any information in the summary is not supported by the article. If the texts do not mention the coalition break down, respond with WRONG_CONTENT. The only output you give should be one of the three options.\"\"\"\n",
    "\n",
    "article_eval_prompt = \"\"\"Analyze the sentiment in the given text toward each of these entities: {Olaf Scholz, SPD, Robert Habeck, die Gruenen, Christian Lindner, FDP, the coalition breakdown}. Focus on the authors opinion and not on quotes.\n",
    "\n",
    "Assign a sentiment score for each entity:\n",
    "-1 = Negative, 0 = Neutral, 1 = Positive\n",
    "If an entity is not mentioned or only briefly referenced, mark it as N/A.\n",
    "Consider tone, language, and context when determining sentiment.\n",
    "Ignore mentions that do not provide meaningful sentiment cues.\n",
    "Examples for Sentiment Scoring:\n",
    "\n",
    "Negative (-1): [The government of Germany was blown apart.]\n",
    "Neutral (0): [Scholz has argued for easing spending rules to address urgent national and international challenges]\n",
    "Positive (1): [Habeck geht damit auf Finanzminister Christian Lindner zu] Make sure to not judge (indirect) citations in the summary that are subjective but instead only if there is an overhang in citations with a certain narrative so that it reflects a sentiment of the author.\n",
    "Use these benchmarks as guidance. Your answer needs to be of the following format, where you replace the x with the number or N/A. It is very important that you stick to this format and do not write anything else: Olaf Scholz:x, SPD:x, Robert Habeck:x, die Gruenen:x, Christian Lindner:x, FDP:x, the coalition breakdown:x\"\"\"\n",
    "\n",
    "summary_eval_prompt = \"\"\"Analyze the sentiment in the given text toward each of these entities: {Olaf Scholz, SPD, Robert Habeck, die Gruenen, Christian Lindner, FDP, the coalition breakdown}. Focus on the authors opinion and not on quotes.\n",
    "\n",
    "Assign a sentiment score for each entity:\n",
    "-1 = Negative, 0 = Neutral, 1 = Positive\n",
    "If an entity is not mentioned or only briefly referenced, mark it as N/A.\n",
    "Consider tone, language, and context when determining sentiment.\n",
    "Ignore mentions that do not provide meaningful sentiment cues.\n",
    "Examples for Sentiment Scoring:\n",
    "\n",
    "Negative (-1): [The government of Germany was blown apart.]\n",
    "Neutral (0): [Scholz has argued for easing spending rules to address urgent national and international challenges]\n",
    "Positive (1): [Habeck geht damit auf Finanzminister Christian Lindner zu] Make sure to not judge (indirect) citations in the summary that are subjective but instead only if there is an overhang in citations with a certain narrative so that it reflects a sentiment of the author.\n",
    "Use these benchmarks as guidance. Your answer needs to be of the following format, where you replace the x with the number or N/A. It is very important that you stick to this format and do not write anything else: Olaf Scholz:x, SPD:x, Robert Habeck:x, die Gruenen:x, Christian Lindner:x, FDP:x, the coalition breakdown:x\"\"\""
   ]
  },
  {
   "cell_type": "code",
   "execution_count": null,
   "metadata": {
    "id": "j8ug8J4W42_X"
   },
   "outputs": [],
   "source": [
    "# Define the evaluation function\n",
    "def evaluate_text_with_llama(text, prompt):\n",
    "    \"\"\"\n",
    "    Sends the text and prompt to Llama 3.1 for evaluation and returns the response.\n",
    "    \"\"\"\n",
    "    messages = [\n",
    "        {\"role\": \"system\", \"content\": \"You are an expert evaluator for textual quality.\"},\n",
    "        {\"role\": \"user\", \"content\": f\"{prompt}\\n\\n{text}\"}\n",
    "    ]\n",
    "    outputs = pipeline(\n",
    "        messages,\n",
    "        max_new_tokens=256,\n",
    "    )\n",
    "    return outputs[0][\"generated_text\"][-1]"
   ]
  },
  {
   "cell_type": "code",
   "execution_count": null,
   "metadata": {
    "id": "sNQM9AiggsMK"
   },
   "outputs": [],
   "source": [
    "import os\n",
    "import json\n",
    "import pandas as pd\n",
    "from openpyxl import load_workbook\n",
    "\n",
    "# Function to evaluate and update JSON files\n",
    "def evaluate_and_update_json_files(input_evaluation_folder, output_evaluation_folder, output_excel, start_index, end_index):\n",
    "    results = []\n",
    "\n",
    "    # Extract the folder name for sheet naming\n",
    "    folder_name = os.path.basename(os.path.normpath(input_evaluation_folder))\n",
    "\n",
    "    for file_name in os.listdir(input_evaluation_folder):\n",
    "        if file_name.endswith(\".json\"):\n",
    "            input_file_path = os.path.join(input_evaluation_folder, file_name)\n",
    "            output_file_path = os.path.join(output_evaluation_folder, file_name)\n",
    "\n",
    "            # Read the JSON file\n",
    "            with open(input_file_path, \"r\", encoding=\"utf-8\") as file:\n",
    "                articles = json.load(file)  # Expecting a list of dictionaries (multiple articles per file)\n",
    "            if end_index != 0:\n",
    "                articles = articles[start_index:end_index]\n",
    "\n",
    "            updated_articles = []\n",
    "\n",
    "            for article in articles:\n",
    "                # Extract article details\n",
    "                article_text = article.get(\"body\", \"\")\n",
    "                summary_text = article.get(\"summary\", \"\")\n",
    "                article_number = article.get(\"article_number\", \"\")\n",
    "                title = article.get(\"title\", \"\")\n",
    "\n",
    "                if article_text and summary_text:\n",
    "                    # Evaluate accuracy, article, and summary\n",
    "                    accuracy_text = f\"Article: {article_text} \\n Summary: {summary_text}\"\n",
    "                    accuracy_evaluation = evaluate_text_with_llama(accuracy_text, accuracy_eval_prompt)\n",
    "                    article_evaluation = evaluate_text_with_llama(article_text, article_eval_prompt)\n",
    "                    summary_evaluation = evaluate_text_with_llama(summary_text, summary_eval_prompt)\n",
    "\n",
    "                    # Add evaluations to the article\n",
    "                    article[\"accuracy_evaluation\"] = accuracy_evaluation\n",
    "                    article[\"article_evaluation\"] = article_evaluation\n",
    "                    article[\"summary_evaluation\"] = summary_evaluation\n",
    "\n",
    "                    # Collect results for Excel\n",
    "                    results.append({\n",
    "                        \"file_name\": file_name,\n",
    "                        \"article_number\": article_number,\n",
    "                        \"title\": title,\n",
    "                        \"article\": article_text,\n",
    "                        \"summary\": summary_text,\n",
    "                        \"accuracy_evaluation\": accuracy_evaluation,\n",
    "                        \"article_evaluation\": article_evaluation,\n",
    "                        \"summary_evaluation\": summary_evaluation\n",
    "                    })\n",
    "                    print(f\"Updated article {article_number} in {file_name} with evaluations.\")\n",
    "\n",
    "                updated_articles.append(article)\n",
    "\n",
    "            # Save updated JSON file\n",
    "            with open(output_file_path, \"w\", encoding=\"utf-8\") as file:\n",
    "                json.dump(updated_articles, file, ensure_ascii=False, indent=4)\n",
    "\n",
    "    # Save results to an Excel file\n",
    "    df = pd.DataFrame(results)\n",
    "\n",
    "    # Construct a unique sheet name using the folder name\n",
    "    base_sheet_name = f\"{folder_name}_Eval\"\n",
    "\n",
    "    try:\n",
    "        with pd.ExcelWriter(output_excel, engine='openpyxl', mode='a') as writer:\n",
    "            wb = writer.book\n",
    "            existing_sheets = wb.sheetnames\n",
    "\n",
    "            # Find the next available sheet number\n",
    "            sheet_index = 1\n",
    "            while f\"{base_sheet_name}_{sheet_index}\" in existing_sheets:\n",
    "                sheet_index += 1\n",
    "\n",
    "            sheet_name = f\"{base_sheet_name}_{sheet_index}\"\n",
    "\n",
    "            df.to_excel(writer, sheet_name=sheet_name, index=False, startrow=1)\n",
    "\n",
    "            # Add prompts at the top row\n",
    "            ws = writer.sheets[sheet_name]\n",
    "            ws.cell(row=1, column=1, value=accuracy_eval_prompt)\n",
    "            ws.cell(row=1, column=2, value=article_eval_prompt)\n",
    "            ws.cell(row=1, column=3, value=summary_eval_prompt)\n",
    "\n",
    "    except FileNotFoundError:\n",
    "        with pd.ExcelWriter(output_excel, engine='openpyxl') as writer:\n",
    "            sheet_name = f\"{base_sheet_name}_1\"\n",
    "            df.to_excel(writer, sheet_name=sheet_name, index=False, startrow=1)\n",
    "\n",
    "            # Add prompts at the top row\n",
    "            ws = writer.sheets[sheet_name]\n",
    "            ws.cell(row=1, column=1, value=accuracy_eval_prompt)\n",
    "            ws.cell(row=1, column=2, value=article_eval_prompt)\n",
    "            ws.cell(row=1, column=3, value=summary_eval_prompt)\n",
    "\n",
    "    print(f\"Evaluation results saved to {output_excel} (Sheet: {sheet_name})\")"
   ]
  },
  {
   "cell_type": "code",
   "execution_count": null,
   "metadata": {
    "colab": {
     "base_uri": "https://localhost:8080/"
    },
    "collapsed": true,
    "id": "p8LXJXeEr1OT",
    "outputId": "8e63a58d-3833-46f6-c1d3-f5f53b228e77"
   },
   "outputs": [
    {
     "name": "stderr",
     "output_type": "stream",
     "text": [
      "Setting `pad_token_id` to `eos_token_id`:128001 for open-end generation.\n",
      "Setting `pad_token_id` to `eos_token_id`:128001 for open-end generation.\n",
      "Setting `pad_token_id` to `eos_token_id`:128001 for open-end generation.\n",
      "Setting `pad_token_id` to `eos_token_id`:128001 for open-end generation.\n"
     ]
    },
    {
     "name": "stdout",
     "output_type": "stream",
     "text": [
      "Updated article 1 in newspaper_Ampel_Koalition am Ende_52_processed.json with evaluations.\n"
     ]
    },
    {
     "name": "stderr",
     "output_type": "stream",
     "text": [
      "Setting `pad_token_id` to `eos_token_id`:128001 for open-end generation.\n",
      "Setting `pad_token_id` to `eos_token_id`:128001 for open-end generation.\n",
      "Setting `pad_token_id` to `eos_token_id`:128001 for open-end generation.\n"
     ]
    },
    {
     "name": "stdout",
     "output_type": "stream",
     "text": [
      "Updated article 2 in newspaper_Ampel_Koalition am Ende_52_processed.json with evaluations.\n"
     ]
    },
    {
     "name": "stderr",
     "output_type": "stream",
     "text": [
      "Setting `pad_token_id` to `eos_token_id`:128001 for open-end generation.\n",
      "Setting `pad_token_id` to `eos_token_id`:128001 for open-end generation.\n",
      "Setting `pad_token_id` to `eos_token_id`:128001 for open-end generation.\n"
     ]
    },
    {
     "name": "stdout",
     "output_type": "stream",
     "text": [
      "Updated article 3 in newspaper_Ampel_Koalition am Ende_52_processed.json with evaluations.\n"
     ]
    },
    {
     "name": "stderr",
     "output_type": "stream",
     "text": [
      "Setting `pad_token_id` to `eos_token_id`:128001 for open-end generation.\n",
      "Setting `pad_token_id` to `eos_token_id`:128001 for open-end generation.\n",
      "Setting `pad_token_id` to `eos_token_id`:128001 for open-end generation.\n"
     ]
    },
    {
     "name": "stdout",
     "output_type": "stream",
     "text": [
      "Updated article 4 in newspaper_Ampel_Koalition am Ende_52_processed.json with evaluations.\n"
     ]
    },
    {
     "name": "stderr",
     "output_type": "stream",
     "text": [
      "Setting `pad_token_id` to `eos_token_id`:128001 for open-end generation.\n",
      "Setting `pad_token_id` to `eos_token_id`:128001 for open-end generation.\n",
      "Setting `pad_token_id` to `eos_token_id`:128001 for open-end generation.\n"
     ]
    },
    {
     "name": "stdout",
     "output_type": "stream",
     "text": [
      "Updated article 8 in newspaper_Ampel_Koalition am Ende_52_processed.json with evaluations.\n"
     ]
    },
    {
     "name": "stderr",
     "output_type": "stream",
     "text": [
      "Setting `pad_token_id` to `eos_token_id`:128001 for open-end generation.\n",
      "Setting `pad_token_id` to `eos_token_id`:128001 for open-end generation.\n",
      "Setting `pad_token_id` to `eos_token_id`:128001 for open-end generation.\n"
     ]
    },
    {
     "name": "stdout",
     "output_type": "stream",
     "text": [
      "Updated article 9 in newspaper_Ampel_Koalition am Ende_52_processed.json with evaluations.\n"
     ]
    },
    {
     "name": "stderr",
     "output_type": "stream",
     "text": [
      "Setting `pad_token_id` to `eos_token_id`:128001 for open-end generation.\n",
      "Setting `pad_token_id` to `eos_token_id`:128001 for open-end generation.\n",
      "Setting `pad_token_id` to `eos_token_id`:128001 for open-end generation.\n"
     ]
    },
    {
     "name": "stdout",
     "output_type": "stream",
     "text": [
      "Updated article 10 in newspaper_Ampel_Koalition am Ende_52_processed.json with evaluations.\n"
     ]
    },
    {
     "name": "stderr",
     "output_type": "stream",
     "text": [
      "Setting `pad_token_id` to `eos_token_id`:128001 for open-end generation.\n",
      "Setting `pad_token_id` to `eos_token_id`:128001 for open-end generation.\n",
      "Setting `pad_token_id` to `eos_token_id`:128001 for open-end generation.\n"
     ]
    },
    {
     "name": "stdout",
     "output_type": "stream",
     "text": [
      "Updated article 11 in newspaper_Ampel_Koalition am Ende_52_processed.json with evaluations.\n"
     ]
    },
    {
     "name": "stderr",
     "output_type": "stream",
     "text": [
      "Setting `pad_token_id` to `eos_token_id`:128001 for open-end generation.\n",
      "Setting `pad_token_id` to `eos_token_id`:128001 for open-end generation.\n",
      "Setting `pad_token_id` to `eos_token_id`:128001 for open-end generation.\n"
     ]
    },
    {
     "name": "stdout",
     "output_type": "stream",
     "text": [
      "Updated article 12 in newspaper_Ampel_Koalition am Ende_52_processed.json with evaluations.\n"
     ]
    },
    {
     "name": "stderr",
     "output_type": "stream",
     "text": [
      "Setting `pad_token_id` to `eos_token_id`:128001 for open-end generation.\n",
      "Setting `pad_token_id` to `eos_token_id`:128001 for open-end generation.\n",
      "Setting `pad_token_id` to `eos_token_id`:128001 for open-end generation.\n"
     ]
    },
    {
     "name": "stdout",
     "output_type": "stream",
     "text": [
      "Updated article 13 in newspaper_Ampel_Koalition am Ende_52_processed.json with evaluations.\n"
     ]
    },
    {
     "name": "stderr",
     "output_type": "stream",
     "text": [
      "Setting `pad_token_id` to `eos_token_id`:128001 for open-end generation.\n",
      "Setting `pad_token_id` to `eos_token_id`:128001 for open-end generation.\n",
      "Setting `pad_token_id` to `eos_token_id`:128001 for open-end generation.\n"
     ]
    },
    {
     "name": "stdout",
     "output_type": "stream",
     "text": [
      "Updated article 14 in newspaper_Ampel_Koalition am Ende_52_processed.json with evaluations.\n"
     ]
    },
    {
     "name": "stderr",
     "output_type": "stream",
     "text": [
      "Setting `pad_token_id` to `eos_token_id`:128001 for open-end generation.\n",
      "Setting `pad_token_id` to `eos_token_id`:128001 for open-end generation.\n",
      "Setting `pad_token_id` to `eos_token_id`:128001 for open-end generation.\n"
     ]
    },
    {
     "name": "stdout",
     "output_type": "stream",
     "text": [
      "Updated article 16 in newspaper_Ampel_Koalition am Ende_52_processed.json with evaluations.\n"
     ]
    },
    {
     "name": "stderr",
     "output_type": "stream",
     "text": [
      "Setting `pad_token_id` to `eos_token_id`:128001 for open-end generation.\n",
      "Setting `pad_token_id` to `eos_token_id`:128001 for open-end generation.\n",
      "Setting `pad_token_id` to `eos_token_id`:128001 for open-end generation.\n"
     ]
    },
    {
     "name": "stdout",
     "output_type": "stream",
     "text": [
      "Updated article 17 in newspaper_Ampel_Koalition am Ende_52_processed.json with evaluations.\n"
     ]
    },
    {
     "name": "stderr",
     "output_type": "stream",
     "text": [
      "Setting `pad_token_id` to `eos_token_id`:128001 for open-end generation.\n",
      "Setting `pad_token_id` to `eos_token_id`:128001 for open-end generation.\n",
      "Setting `pad_token_id` to `eos_token_id`:128001 for open-end generation.\n"
     ]
    },
    {
     "name": "stdout",
     "output_type": "stream",
     "text": [
      "Updated article 18 in newspaper_Ampel_Koalition am Ende_52_processed.json with evaluations.\n"
     ]
    },
    {
     "name": "stderr",
     "output_type": "stream",
     "text": [
      "Setting `pad_token_id` to `eos_token_id`:128001 for open-end generation.\n",
      "Setting `pad_token_id` to `eos_token_id`:128001 for open-end generation.\n",
      "Setting `pad_token_id` to `eos_token_id`:128001 for open-end generation.\n"
     ]
    },
    {
     "name": "stdout",
     "output_type": "stream",
     "text": [
      "Updated article 19 in newspaper_Ampel_Koalition am Ende_52_processed.json with evaluations.\n"
     ]
    },
    {
     "name": "stderr",
     "output_type": "stream",
     "text": [
      "Setting `pad_token_id` to `eos_token_id`:128001 for open-end generation.\n",
      "Setting `pad_token_id` to `eos_token_id`:128001 for open-end generation.\n",
      "Setting `pad_token_id` to `eos_token_id`:128001 for open-end generation.\n"
     ]
    },
    {
     "name": "stdout",
     "output_type": "stream",
     "text": [
      "Updated article 27 in newspaper_Ampel_Koalition am Ende_52_processed.json with evaluations.\n"
     ]
    },
    {
     "name": "stderr",
     "output_type": "stream",
     "text": [
      "Setting `pad_token_id` to `eos_token_id`:128001 for open-end generation.\n",
      "Setting `pad_token_id` to `eos_token_id`:128001 for open-end generation.\n",
      "Setting `pad_token_id` to `eos_token_id`:128001 for open-end generation.\n"
     ]
    },
    {
     "name": "stdout",
     "output_type": "stream",
     "text": [
      "Updated article 28 in newspaper_Ampel_Koalition am Ende_52_processed.json with evaluations.\n"
     ]
    },
    {
     "name": "stderr",
     "output_type": "stream",
     "text": [
      "Setting `pad_token_id` to `eos_token_id`:128001 for open-end generation.\n",
      "Setting `pad_token_id` to `eos_token_id`:128001 for open-end generation.\n",
      "Setting `pad_token_id` to `eos_token_id`:128001 for open-end generation.\n"
     ]
    },
    {
     "name": "stdout",
     "output_type": "stream",
     "text": [
      "Updated article 29 in newspaper_Ampel_Koalition am Ende_52_processed.json with evaluations.\n"
     ]
    },
    {
     "name": "stderr",
     "output_type": "stream",
     "text": [
      "Setting `pad_token_id` to `eos_token_id`:128001 for open-end generation.\n",
      "Setting `pad_token_id` to `eos_token_id`:128001 for open-end generation.\n",
      "Setting `pad_token_id` to `eos_token_id`:128001 for open-end generation.\n"
     ]
    },
    {
     "name": "stdout",
     "output_type": "stream",
     "text": [
      "Updated article 30 in newspaper_Ampel_Koalition am Ende_52_processed.json with evaluations.\n"
     ]
    },
    {
     "name": "stderr",
     "output_type": "stream",
     "text": [
      "Setting `pad_token_id` to `eos_token_id`:128001 for open-end generation.\n",
      "Setting `pad_token_id` to `eos_token_id`:128001 for open-end generation.\n",
      "Setting `pad_token_id` to `eos_token_id`:128001 for open-end generation.\n"
     ]
    },
    {
     "name": "stdout",
     "output_type": "stream",
     "text": [
      "Updated article 31 in newspaper_Ampel_Koalition am Ende_52_processed.json with evaluations.\n"
     ]
    },
    {
     "name": "stderr",
     "output_type": "stream",
     "text": [
      "Setting `pad_token_id` to `eos_token_id`:128001 for open-end generation.\n",
      "Setting `pad_token_id` to `eos_token_id`:128001 for open-end generation.\n",
      "Setting `pad_token_id` to `eos_token_id`:128001 for open-end generation.\n"
     ]
    },
    {
     "name": "stdout",
     "output_type": "stream",
     "text": [
      "Updated article 32 in newspaper_Ampel_Koalition am Ende_52_processed.json with evaluations.\n"
     ]
    },
    {
     "name": "stderr",
     "output_type": "stream",
     "text": [
      "Setting `pad_token_id` to `eos_token_id`:128001 for open-end generation.\n",
      "Setting `pad_token_id` to `eos_token_id`:128001 for open-end generation.\n",
      "Setting `pad_token_id` to `eos_token_id`:128001 for open-end generation.\n"
     ]
    },
    {
     "name": "stdout",
     "output_type": "stream",
     "text": [
      "Updated article 33 in newspaper_Ampel_Koalition am Ende_52_processed.json with evaluations.\n"
     ]
    },
    {
     "name": "stderr",
     "output_type": "stream",
     "text": [
      "Setting `pad_token_id` to `eos_token_id`:128001 for open-end generation.\n",
      "Setting `pad_token_id` to `eos_token_id`:128001 for open-end generation.\n",
      "Setting `pad_token_id` to `eos_token_id`:128001 for open-end generation.\n"
     ]
    },
    {
     "name": "stdout",
     "output_type": "stream",
     "text": [
      "Updated article 34 in newspaper_Ampel_Koalition am Ende_52_processed.json with evaluations.\n"
     ]
    },
    {
     "name": "stderr",
     "output_type": "stream",
     "text": [
      "Setting `pad_token_id` to `eos_token_id`:128001 for open-end generation.\n",
      "Setting `pad_token_id` to `eos_token_id`:128001 for open-end generation.\n",
      "Setting `pad_token_id` to `eos_token_id`:128001 for open-end generation.\n"
     ]
    },
    {
     "name": "stdout",
     "output_type": "stream",
     "text": [
      "Updated article 35 in newspaper_Ampel_Koalition am Ende_52_processed.json with evaluations.\n"
     ]
    },
    {
     "name": "stderr",
     "output_type": "stream",
     "text": [
      "Setting `pad_token_id` to `eos_token_id`:128001 for open-end generation.\n",
      "Setting `pad_token_id` to `eos_token_id`:128001 for open-end generation.\n",
      "Setting `pad_token_id` to `eos_token_id`:128001 for open-end generation.\n"
     ]
    },
    {
     "name": "stdout",
     "output_type": "stream",
     "text": [
      "Updated article 36 in newspaper_Ampel_Koalition am Ende_52_processed.json with evaluations.\n"
     ]
    },
    {
     "name": "stderr",
     "output_type": "stream",
     "text": [
      "Setting `pad_token_id` to `eos_token_id`:128001 for open-end generation.\n",
      "Setting `pad_token_id` to `eos_token_id`:128001 for open-end generation.\n",
      "Setting `pad_token_id` to `eos_token_id`:128001 for open-end generation.\n"
     ]
    },
    {
     "name": "stdout",
     "output_type": "stream",
     "text": [
      "Updated article 37 in newspaper_Ampel_Koalition am Ende_52_processed.json with evaluations.\n"
     ]
    },
    {
     "name": "stderr",
     "output_type": "stream",
     "text": [
      "Setting `pad_token_id` to `eos_token_id`:128001 for open-end generation.\n",
      "Setting `pad_token_id` to `eos_token_id`:128001 for open-end generation.\n",
      "Setting `pad_token_id` to `eos_token_id`:128001 for open-end generation.\n"
     ]
    },
    {
     "name": "stdout",
     "output_type": "stream",
     "text": [
      "Updated article 38 in newspaper_Ampel_Koalition am Ende_52_processed.json with evaluations.\n"
     ]
    },
    {
     "name": "stderr",
     "output_type": "stream",
     "text": [
      "Setting `pad_token_id` to `eos_token_id`:128001 for open-end generation.\n",
      "Setting `pad_token_id` to `eos_token_id`:128001 for open-end generation.\n",
      "Setting `pad_token_id` to `eos_token_id`:128001 for open-end generation.\n"
     ]
    },
    {
     "name": "stdout",
     "output_type": "stream",
     "text": [
      "Updated article 39 in newspaper_Ampel_Koalition am Ende_52_processed.json with evaluations.\n"
     ]
    },
    {
     "name": "stderr",
     "output_type": "stream",
     "text": [
      "Setting `pad_token_id` to `eos_token_id`:128001 for open-end generation.\n",
      "Setting `pad_token_id` to `eos_token_id`:128001 for open-end generation.\n",
      "Setting `pad_token_id` to `eos_token_id`:128001 for open-end generation.\n"
     ]
    },
    {
     "name": "stdout",
     "output_type": "stream",
     "text": [
      "Updated article 42 in newspaper_Ampel_Koalition am Ende_52_processed.json with evaluations.\n"
     ]
    },
    {
     "name": "stderr",
     "output_type": "stream",
     "text": [
      "Setting `pad_token_id` to `eos_token_id`:128001 for open-end generation.\n",
      "Setting `pad_token_id` to `eos_token_id`:128001 for open-end generation.\n",
      "Setting `pad_token_id` to `eos_token_id`:128001 for open-end generation.\n"
     ]
    },
    {
     "name": "stdout",
     "output_type": "stream",
     "text": [
      "Updated article 43 in newspaper_Ampel_Koalition am Ende_52_processed.json with evaluations.\n"
     ]
    },
    {
     "name": "stderr",
     "output_type": "stream",
     "text": [
      "Setting `pad_token_id` to `eos_token_id`:128001 for open-end generation.\n",
      "Setting `pad_token_id` to `eos_token_id`:128001 for open-end generation.\n",
      "Setting `pad_token_id` to `eos_token_id`:128001 for open-end generation.\n"
     ]
    },
    {
     "name": "stdout",
     "output_type": "stream",
     "text": [
      "Updated article 44 in newspaper_Ampel_Koalition am Ende_52_processed.json with evaluations.\n"
     ]
    },
    {
     "name": "stderr",
     "output_type": "stream",
     "text": [
      "Setting `pad_token_id` to `eos_token_id`:128001 for open-end generation.\n",
      "Setting `pad_token_id` to `eos_token_id`:128001 for open-end generation.\n",
      "Setting `pad_token_id` to `eos_token_id`:128001 for open-end generation.\n"
     ]
    },
    {
     "name": "stdout",
     "output_type": "stream",
     "text": [
      "Updated article 45 in newspaper_Ampel_Koalition am Ende_52_processed.json with evaluations.\n"
     ]
    },
    {
     "name": "stderr",
     "output_type": "stream",
     "text": [
      "Setting `pad_token_id` to `eos_token_id`:128001 for open-end generation.\n",
      "Setting `pad_token_id` to `eos_token_id`:128001 for open-end generation.\n",
      "Setting `pad_token_id` to `eos_token_id`:128001 for open-end generation.\n"
     ]
    },
    {
     "name": "stdout",
     "output_type": "stream",
     "text": [
      "Updated article 46 in newspaper_Ampel_Koalition am Ende_52_processed.json with evaluations.\n"
     ]
    },
    {
     "name": "stderr",
     "output_type": "stream",
     "text": [
      "Setting `pad_token_id` to `eos_token_id`:128001 for open-end generation.\n",
      "Setting `pad_token_id` to `eos_token_id`:128001 for open-end generation.\n",
      "Setting `pad_token_id` to `eos_token_id`:128001 for open-end generation.\n"
     ]
    },
    {
     "name": "stdout",
     "output_type": "stream",
     "text": [
      "Updated article 48 in newspaper_Ampel_Koalition am Ende_52_processed.json with evaluations.\n"
     ]
    },
    {
     "name": "stderr",
     "output_type": "stream",
     "text": [
      "Setting `pad_token_id` to `eos_token_id`:128001 for open-end generation.\n",
      "Setting `pad_token_id` to `eos_token_id`:128001 for open-end generation.\n",
      "Setting `pad_token_id` to `eos_token_id`:128001 for open-end generation.\n"
     ]
    },
    {
     "name": "stdout",
     "output_type": "stream",
     "text": [
      "Updated article 49 in newspaper_Ampel_Koalition am Ende_52_processed.json with evaluations.\n"
     ]
    },
    {
     "name": "stderr",
     "output_type": "stream",
     "text": [
      "Setting `pad_token_id` to `eos_token_id`:128001 for open-end generation.\n",
      "Setting `pad_token_id` to `eos_token_id`:128001 for open-end generation.\n",
      "Setting `pad_token_id` to `eos_token_id`:128001 for open-end generation.\n"
     ]
    },
    {
     "name": "stdout",
     "output_type": "stream",
     "text": [
      "Updated article 50 in newspaper_Ampel_Koalition am Ende_52_processed.json with evaluations.\n"
     ]
    },
    {
     "name": "stderr",
     "output_type": "stream",
     "text": [
      "Setting `pad_token_id` to `eos_token_id`:128001 for open-end generation.\n",
      "Setting `pad_token_id` to `eos_token_id`:128001 for open-end generation.\n",
      "Setting `pad_token_id` to `eos_token_id`:128001 for open-end generation.\n"
     ]
    },
    {
     "name": "stdout",
     "output_type": "stream",
     "text": [
      "Updated article 51 in newspaper_Ampel_Koalition am Ende_52_processed.json with evaluations.\n"
     ]
    },
    {
     "name": "stderr",
     "output_type": "stream",
     "text": [
      "Setting `pad_token_id` to `eos_token_id`:128001 for open-end generation.\n",
      "Setting `pad_token_id` to `eos_token_id`:128001 for open-end generation.\n"
     ]
    },
    {
     "name": "stdout",
     "output_type": "stream",
     "text": [
      "Updated article 53 in newspaper_Ampel_Koalition am Ende_52_processed.json with evaluations.\n"
     ]
    },
    {
     "name": "stderr",
     "output_type": "stream",
     "text": [
      "Setting `pad_token_id` to `eos_token_id`:128001 for open-end generation.\n",
      "Setting `pad_token_id` to `eos_token_id`:128001 for open-end generation.\n",
      "Setting `pad_token_id` to `eos_token_id`:128001 for open-end generation.\n",
      "Setting `pad_token_id` to `eos_token_id`:128001 for open-end generation.\n"
     ]
    },
    {
     "name": "stdout",
     "output_type": "stream",
     "text": [
      "Updated article 1 in newspaper_koalitionskrise_52_processed.json with evaluations.\n"
     ]
    },
    {
     "name": "stderr",
     "output_type": "stream",
     "text": [
      "Setting `pad_token_id` to `eos_token_id`:128001 for open-end generation.\n",
      "Setting `pad_token_id` to `eos_token_id`:128001 for open-end generation.\n",
      "Setting `pad_token_id` to `eos_token_id`:128001 for open-end generation.\n"
     ]
    },
    {
     "name": "stdout",
     "output_type": "stream",
     "text": [
      "Updated article 11 in newspaper_koalitionskrise_52_processed.json with evaluations.\n"
     ]
    },
    {
     "name": "stderr",
     "output_type": "stream",
     "text": [
      "Setting `pad_token_id` to `eos_token_id`:128001 for open-end generation.\n",
      "Setting `pad_token_id` to `eos_token_id`:128001 for open-end generation.\n",
      "Setting `pad_token_id` to `eos_token_id`:128001 for open-end generation.\n"
     ]
    },
    {
     "name": "stdout",
     "output_type": "stream",
     "text": [
      "Updated article 13 in newspaper_koalitionskrise_52_processed.json with evaluations.\n"
     ]
    },
    {
     "name": "stderr",
     "output_type": "stream",
     "text": [
      "Setting `pad_token_id` to `eos_token_id`:128001 for open-end generation.\n",
      "Setting `pad_token_id` to `eos_token_id`:128001 for open-end generation.\n",
      "Setting `pad_token_id` to `eos_token_id`:128001 for open-end generation.\n"
     ]
    },
    {
     "name": "stdout",
     "output_type": "stream",
     "text": [
      "Updated article 14 in newspaper_koalitionskrise_52_processed.json with evaluations.\n"
     ]
    },
    {
     "name": "stderr",
     "output_type": "stream",
     "text": [
      "Setting `pad_token_id` to `eos_token_id`:128001 for open-end generation.\n",
      "Setting `pad_token_id` to `eos_token_id`:128001 for open-end generation.\n",
      "Setting `pad_token_id` to `eos_token_id`:128001 for open-end generation.\n"
     ]
    },
    {
     "name": "stdout",
     "output_type": "stream",
     "text": [
      "Updated article 15 in newspaper_koalitionskrise_52_processed.json with evaluations.\n"
     ]
    },
    {
     "name": "stderr",
     "output_type": "stream",
     "text": [
      "Setting `pad_token_id` to `eos_token_id`:128001 for open-end generation.\n",
      "Setting `pad_token_id` to `eos_token_id`:128001 for open-end generation.\n",
      "Setting `pad_token_id` to `eos_token_id`:128001 for open-end generation.\n"
     ]
    },
    {
     "name": "stdout",
     "output_type": "stream",
     "text": [
      "Updated article 16 in newspaper_koalitionskrise_52_processed.json with evaluations.\n"
     ]
    },
    {
     "name": "stderr",
     "output_type": "stream",
     "text": [
      "Setting `pad_token_id` to `eos_token_id`:128001 for open-end generation.\n",
      "Setting `pad_token_id` to `eos_token_id`:128001 for open-end generation.\n",
      "Setting `pad_token_id` to `eos_token_id`:128001 for open-end generation.\n"
     ]
    },
    {
     "name": "stdout",
     "output_type": "stream",
     "text": [
      "Updated article 17 in newspaper_koalitionskrise_52_processed.json with evaluations.\n"
     ]
    },
    {
     "name": "stderr",
     "output_type": "stream",
     "text": [
      "Setting `pad_token_id` to `eos_token_id`:128001 for open-end generation.\n",
      "Setting `pad_token_id` to `eos_token_id`:128001 for open-end generation.\n",
      "Setting `pad_token_id` to `eos_token_id`:128001 for open-end generation.\n"
     ]
    },
    {
     "name": "stdout",
     "output_type": "stream",
     "text": [
      "Updated article 18 in newspaper_koalitionskrise_52_processed.json with evaluations.\n"
     ]
    },
    {
     "name": "stderr",
     "output_type": "stream",
     "text": [
      "Setting `pad_token_id` to `eos_token_id`:128001 for open-end generation.\n",
      "Setting `pad_token_id` to `eos_token_id`:128001 for open-end generation.\n",
      "Setting `pad_token_id` to `eos_token_id`:128001 for open-end generation.\n"
     ]
    },
    {
     "name": "stdout",
     "output_type": "stream",
     "text": [
      "Updated article 19 in newspaper_koalitionskrise_52_processed.json with evaluations.\n"
     ]
    },
    {
     "name": "stderr",
     "output_type": "stream",
     "text": [
      "Setting `pad_token_id` to `eos_token_id`:128001 for open-end generation.\n",
      "Setting `pad_token_id` to `eos_token_id`:128001 for open-end generation.\n",
      "Setting `pad_token_id` to `eos_token_id`:128001 for open-end generation.\n"
     ]
    },
    {
     "name": "stdout",
     "output_type": "stream",
     "text": [
      "Updated article 20 in newspaper_koalitionskrise_52_processed.json with evaluations.\n"
     ]
    },
    {
     "name": "stderr",
     "output_type": "stream",
     "text": [
      "Setting `pad_token_id` to `eos_token_id`:128001 for open-end generation.\n",
      "Setting `pad_token_id` to `eos_token_id`:128001 for open-end generation.\n",
      "Setting `pad_token_id` to `eos_token_id`:128001 for open-end generation.\n"
     ]
    },
    {
     "name": "stdout",
     "output_type": "stream",
     "text": [
      "Updated article 22 in newspaper_koalitionskrise_52_processed.json with evaluations.\n"
     ]
    },
    {
     "name": "stderr",
     "output_type": "stream",
     "text": [
      "Setting `pad_token_id` to `eos_token_id`:128001 for open-end generation.\n",
      "Setting `pad_token_id` to `eos_token_id`:128001 for open-end generation.\n",
      "Setting `pad_token_id` to `eos_token_id`:128001 for open-end generation.\n"
     ]
    },
    {
     "name": "stdout",
     "output_type": "stream",
     "text": [
      "Updated article 23 in newspaper_koalitionskrise_52_processed.json with evaluations.\n"
     ]
    },
    {
     "name": "stderr",
     "output_type": "stream",
     "text": [
      "Setting `pad_token_id` to `eos_token_id`:128001 for open-end generation.\n",
      "Setting `pad_token_id` to `eos_token_id`:128001 for open-end generation.\n",
      "Setting `pad_token_id` to `eos_token_id`:128001 for open-end generation.\n"
     ]
    },
    {
     "name": "stdout",
     "output_type": "stream",
     "text": [
      "Updated article 26 in newspaper_koalitionskrise_52_processed.json with evaluations.\n"
     ]
    },
    {
     "name": "stderr",
     "output_type": "stream",
     "text": [
      "Setting `pad_token_id` to `eos_token_id`:128001 for open-end generation.\n",
      "Setting `pad_token_id` to `eos_token_id`:128001 for open-end generation.\n",
      "Setting `pad_token_id` to `eos_token_id`:128001 for open-end generation.\n"
     ]
    },
    {
     "name": "stdout",
     "output_type": "stream",
     "text": [
      "Updated article 28 in newspaper_koalitionskrise_52_processed.json with evaluations.\n"
     ]
    },
    {
     "name": "stderr",
     "output_type": "stream",
     "text": [
      "Setting `pad_token_id` to `eos_token_id`:128001 for open-end generation.\n",
      "Setting `pad_token_id` to `eos_token_id`:128001 for open-end generation.\n",
      "Setting `pad_token_id` to `eos_token_id`:128001 for open-end generation.\n"
     ]
    },
    {
     "name": "stdout",
     "output_type": "stream",
     "text": [
      "Updated article 29 in newspaper_koalitionskrise_52_processed.json with evaluations.\n"
     ]
    },
    {
     "name": "stderr",
     "output_type": "stream",
     "text": [
      "Setting `pad_token_id` to `eos_token_id`:128001 for open-end generation.\n",
      "Setting `pad_token_id` to `eos_token_id`:128001 for open-end generation.\n",
      "Setting `pad_token_id` to `eos_token_id`:128001 for open-end generation.\n"
     ]
    },
    {
     "name": "stdout",
     "output_type": "stream",
     "text": [
      "Updated article 30 in newspaper_koalitionskrise_52_processed.json with evaluations.\n"
     ]
    },
    {
     "name": "stderr",
     "output_type": "stream",
     "text": [
      "Setting `pad_token_id` to `eos_token_id`:128001 for open-end generation.\n",
      "Setting `pad_token_id` to `eos_token_id`:128001 for open-end generation.\n",
      "Setting `pad_token_id` to `eos_token_id`:128001 for open-end generation.\n"
     ]
    },
    {
     "name": "stdout",
     "output_type": "stream",
     "text": [
      "Updated article 33 in newspaper_koalitionskrise_52_processed.json with evaluations.\n"
     ]
    },
    {
     "name": "stderr",
     "output_type": "stream",
     "text": [
      "Setting `pad_token_id` to `eos_token_id`:128001 for open-end generation.\n",
      "Setting `pad_token_id` to `eos_token_id`:128001 for open-end generation.\n",
      "Setting `pad_token_id` to `eos_token_id`:128001 for open-end generation.\n"
     ]
    },
    {
     "name": "stdout",
     "output_type": "stream",
     "text": [
      "Updated article 36 in newspaper_koalitionskrise_52_processed.json with evaluations.\n"
     ]
    },
    {
     "name": "stderr",
     "output_type": "stream",
     "text": [
      "Setting `pad_token_id` to `eos_token_id`:128001 for open-end generation.\n",
      "Setting `pad_token_id` to `eos_token_id`:128001 for open-end generation.\n",
      "Setting `pad_token_id` to `eos_token_id`:128001 for open-end generation.\n"
     ]
    },
    {
     "name": "stdout",
     "output_type": "stream",
     "text": [
      "Updated article 38 in newspaper_koalitionskrise_52_processed.json with evaluations.\n"
     ]
    },
    {
     "name": "stderr",
     "output_type": "stream",
     "text": [
      "Setting `pad_token_id` to `eos_token_id`:128001 for open-end generation.\n",
      "Setting `pad_token_id` to `eos_token_id`:128001 for open-end generation.\n",
      "Setting `pad_token_id` to `eos_token_id`:128001 for open-end generation.\n"
     ]
    },
    {
     "name": "stdout",
     "output_type": "stream",
     "text": [
      "Updated article 39 in newspaper_koalitionskrise_52_processed.json with evaluations.\n"
     ]
    },
    {
     "name": "stderr",
     "output_type": "stream",
     "text": [
      "Setting `pad_token_id` to `eos_token_id`:128001 for open-end generation.\n",
      "Setting `pad_token_id` to `eos_token_id`:128001 for open-end generation.\n",
      "Setting `pad_token_id` to `eos_token_id`:128001 for open-end generation.\n"
     ]
    },
    {
     "name": "stdout",
     "output_type": "stream",
     "text": [
      "Updated article 40 in newspaper_koalitionskrise_52_processed.json with evaluations.\n"
     ]
    },
    {
     "name": "stderr",
     "output_type": "stream",
     "text": [
      "Setting `pad_token_id` to `eos_token_id`:128001 for open-end generation.\n",
      "Setting `pad_token_id` to `eos_token_id`:128001 for open-end generation.\n",
      "Setting `pad_token_id` to `eos_token_id`:128001 for open-end generation.\n"
     ]
    },
    {
     "name": "stdout",
     "output_type": "stream",
     "text": [
      "Updated article 42 in newspaper_koalitionskrise_52_processed.json with evaluations.\n"
     ]
    },
    {
     "name": "stderr",
     "output_type": "stream",
     "text": [
      "Setting `pad_token_id` to `eos_token_id`:128001 for open-end generation.\n",
      "Setting `pad_token_id` to `eos_token_id`:128001 for open-end generation.\n",
      "Setting `pad_token_id` to `eos_token_id`:128001 for open-end generation.\n"
     ]
    },
    {
     "name": "stdout",
     "output_type": "stream",
     "text": [
      "Updated article 43 in newspaper_koalitionskrise_52_processed.json with evaluations.\n"
     ]
    },
    {
     "name": "stderr",
     "output_type": "stream",
     "text": [
      "Setting `pad_token_id` to `eos_token_id`:128001 for open-end generation.\n",
      "Setting `pad_token_id` to `eos_token_id`:128001 for open-end generation.\n"
     ]
    },
    {
     "name": "stdout",
     "output_type": "stream",
     "text": [
      "Updated article 44 in newspaper_koalitionskrise_52_processed.json with evaluations.\n"
     ]
    },
    {
     "name": "stderr",
     "output_type": "stream",
     "text": [
      "Setting `pad_token_id` to `eos_token_id`:128001 for open-end generation.\n",
      "Setting `pad_token_id` to `eos_token_id`:128001 for open-end generation.\n",
      "Setting `pad_token_id` to `eos_token_id`:128001 for open-end generation.\n",
      "Setting `pad_token_id` to `eos_token_id`:128001 for open-end generation.\n"
     ]
    },
    {
     "name": "stdout",
     "output_type": "stream",
     "text": [
      "Updated article 1 in newspaper_ampel-aus_0-200_processed.json with evaluations.\n"
     ]
    },
    {
     "name": "stderr",
     "output_type": "stream",
     "text": [
      "Setting `pad_token_id` to `eos_token_id`:128001 for open-end generation.\n",
      "Setting `pad_token_id` to `eos_token_id`:128001 for open-end generation.\n",
      "Setting `pad_token_id` to `eos_token_id`:128001 for open-end generation.\n"
     ]
    },
    {
     "name": "stdout",
     "output_type": "stream",
     "text": [
      "Updated article 2 in newspaper_ampel-aus_0-200_processed.json with evaluations.\n"
     ]
    },
    {
     "name": "stderr",
     "output_type": "stream",
     "text": [
      "Setting `pad_token_id` to `eos_token_id`:128001 for open-end generation.\n",
      "Setting `pad_token_id` to `eos_token_id`:128001 for open-end generation.\n",
      "Setting `pad_token_id` to `eos_token_id`:128001 for open-end generation.\n"
     ]
    },
    {
     "name": "stdout",
     "output_type": "stream",
     "text": [
      "Updated article 3 in newspaper_ampel-aus_0-200_processed.json with evaluations.\n"
     ]
    },
    {
     "name": "stderr",
     "output_type": "stream",
     "text": [
      "Setting `pad_token_id` to `eos_token_id`:128001 for open-end generation.\n",
      "Setting `pad_token_id` to `eos_token_id`:128001 for open-end generation.\n",
      "Setting `pad_token_id` to `eos_token_id`:128001 for open-end generation.\n"
     ]
    },
    {
     "name": "stdout",
     "output_type": "stream",
     "text": [
      "Updated article 4 in newspaper_ampel-aus_0-200_processed.json with evaluations.\n"
     ]
    },
    {
     "name": "stderr",
     "output_type": "stream",
     "text": [
      "Setting `pad_token_id` to `eos_token_id`:128001 for open-end generation.\n",
      "Setting `pad_token_id` to `eos_token_id`:128001 for open-end generation.\n",
      "Setting `pad_token_id` to `eos_token_id`:128001 for open-end generation.\n"
     ]
    },
    {
     "name": "stdout",
     "output_type": "stream",
     "text": [
      "Updated article 5 in newspaper_ampel-aus_0-200_processed.json with evaluations.\n"
     ]
    },
    {
     "name": "stderr",
     "output_type": "stream",
     "text": [
      "Setting `pad_token_id` to `eos_token_id`:128001 for open-end generation.\n",
      "Setting `pad_token_id` to `eos_token_id`:128001 for open-end generation.\n",
      "Setting `pad_token_id` to `eos_token_id`:128001 for open-end generation.\n"
     ]
    },
    {
     "name": "stdout",
     "output_type": "stream",
     "text": [
      "Updated article 6 in newspaper_ampel-aus_0-200_processed.json with evaluations.\n"
     ]
    },
    {
     "name": "stderr",
     "output_type": "stream",
     "text": [
      "Setting `pad_token_id` to `eos_token_id`:128001 for open-end generation.\n",
      "Setting `pad_token_id` to `eos_token_id`:128001 for open-end generation.\n",
      "Setting `pad_token_id` to `eos_token_id`:128001 for open-end generation.\n"
     ]
    },
    {
     "name": "stdout",
     "output_type": "stream",
     "text": [
      "Updated article 7 in newspaper_ampel-aus_0-200_processed.json with evaluations.\n"
     ]
    },
    {
     "name": "stderr",
     "output_type": "stream",
     "text": [
      "Setting `pad_token_id` to `eos_token_id`:128001 for open-end generation.\n",
      "Setting `pad_token_id` to `eos_token_id`:128001 for open-end generation.\n",
      "Setting `pad_token_id` to `eos_token_id`:128001 for open-end generation.\n"
     ]
    },
    {
     "name": "stdout",
     "output_type": "stream",
     "text": [
      "Updated article 8 in newspaper_ampel-aus_0-200_processed.json with evaluations.\n"
     ]
    },
    {
     "name": "stderr",
     "output_type": "stream",
     "text": [
      "Setting `pad_token_id` to `eos_token_id`:128001 for open-end generation.\n",
      "Setting `pad_token_id` to `eos_token_id`:128001 for open-end generation.\n",
      "Setting `pad_token_id` to `eos_token_id`:128001 for open-end generation.\n"
     ]
    },
    {
     "name": "stdout",
     "output_type": "stream",
     "text": [
      "Updated article 9 in newspaper_ampel-aus_0-200_processed.json with evaluations.\n"
     ]
    },
    {
     "name": "stderr",
     "output_type": "stream",
     "text": [
      "Setting `pad_token_id` to `eos_token_id`:128001 for open-end generation.\n",
      "Setting `pad_token_id` to `eos_token_id`:128001 for open-end generation.\n",
      "Setting `pad_token_id` to `eos_token_id`:128001 for open-end generation.\n"
     ]
    },
    {
     "name": "stdout",
     "output_type": "stream",
     "text": [
      "Updated article 10 in newspaper_ampel-aus_0-200_processed.json with evaluations.\n"
     ]
    },
    {
     "name": "stderr",
     "output_type": "stream",
     "text": [
      "Setting `pad_token_id` to `eos_token_id`:128001 for open-end generation.\n",
      "Setting `pad_token_id` to `eos_token_id`:128001 for open-end generation.\n",
      "Setting `pad_token_id` to `eos_token_id`:128001 for open-end generation.\n"
     ]
    },
    {
     "name": "stdout",
     "output_type": "stream",
     "text": [
      "Updated article 14 in newspaper_ampel-aus_0-200_processed.json with evaluations.\n"
     ]
    },
    {
     "name": "stderr",
     "output_type": "stream",
     "text": [
      "Setting `pad_token_id` to `eos_token_id`:128001 for open-end generation.\n",
      "Setting `pad_token_id` to `eos_token_id`:128001 for open-end generation.\n",
      "Setting `pad_token_id` to `eos_token_id`:128001 for open-end generation.\n"
     ]
    },
    {
     "name": "stdout",
     "output_type": "stream",
     "text": [
      "Updated article 15 in newspaper_ampel-aus_0-200_processed.json with evaluations.\n"
     ]
    },
    {
     "name": "stderr",
     "output_type": "stream",
     "text": [
      "Setting `pad_token_id` to `eos_token_id`:128001 for open-end generation.\n",
      "Setting `pad_token_id` to `eos_token_id`:128001 for open-end generation.\n",
      "Setting `pad_token_id` to `eos_token_id`:128001 for open-end generation.\n"
     ]
    },
    {
     "name": "stdout",
     "output_type": "stream",
     "text": [
      "Updated article 16 in newspaper_ampel-aus_0-200_processed.json with evaluations.\n"
     ]
    },
    {
     "name": "stderr",
     "output_type": "stream",
     "text": [
      "Setting `pad_token_id` to `eos_token_id`:128001 for open-end generation.\n",
      "Setting `pad_token_id` to `eos_token_id`:128001 for open-end generation.\n",
      "Setting `pad_token_id` to `eos_token_id`:128001 for open-end generation.\n"
     ]
    },
    {
     "name": "stdout",
     "output_type": "stream",
     "text": [
      "Updated article 17 in newspaper_ampel-aus_0-200_processed.json with evaluations.\n"
     ]
    },
    {
     "name": "stderr",
     "output_type": "stream",
     "text": [
      "Setting `pad_token_id` to `eos_token_id`:128001 for open-end generation.\n",
      "Setting `pad_token_id` to `eos_token_id`:128001 for open-end generation.\n",
      "Setting `pad_token_id` to `eos_token_id`:128001 for open-end generation.\n"
     ]
    },
    {
     "name": "stdout",
     "output_type": "stream",
     "text": [
      "Updated article 18 in newspaper_ampel-aus_0-200_processed.json with evaluations.\n"
     ]
    },
    {
     "name": "stderr",
     "output_type": "stream",
     "text": [
      "Setting `pad_token_id` to `eos_token_id`:128001 for open-end generation.\n",
      "Setting `pad_token_id` to `eos_token_id`:128001 for open-end generation.\n",
      "Setting `pad_token_id` to `eos_token_id`:128001 for open-end generation.\n"
     ]
    },
    {
     "name": "stdout",
     "output_type": "stream",
     "text": [
      "Updated article 19 in newspaper_ampel-aus_0-200_processed.json with evaluations.\n"
     ]
    },
    {
     "name": "stderr",
     "output_type": "stream",
     "text": [
      "Setting `pad_token_id` to `eos_token_id`:128001 for open-end generation.\n",
      "Setting `pad_token_id` to `eos_token_id`:128001 for open-end generation.\n",
      "Setting `pad_token_id` to `eos_token_id`:128001 for open-end generation.\n"
     ]
    },
    {
     "name": "stdout",
     "output_type": "stream",
     "text": [
      "Updated article 20 in newspaper_ampel-aus_0-200_processed.json with evaluations.\n"
     ]
    },
    {
     "name": "stderr",
     "output_type": "stream",
     "text": [
      "Setting `pad_token_id` to `eos_token_id`:128001 for open-end generation.\n",
      "Setting `pad_token_id` to `eos_token_id`:128001 for open-end generation.\n",
      "Setting `pad_token_id` to `eos_token_id`:128001 for open-end generation.\n"
     ]
    },
    {
     "name": "stdout",
     "output_type": "stream",
     "text": [
      "Updated article 21 in newspaper_ampel-aus_0-200_processed.json with evaluations.\n"
     ]
    },
    {
     "name": "stderr",
     "output_type": "stream",
     "text": [
      "Setting `pad_token_id` to `eos_token_id`:128001 for open-end generation.\n",
      "Setting `pad_token_id` to `eos_token_id`:128001 for open-end generation.\n",
      "Setting `pad_token_id` to `eos_token_id`:128001 for open-end generation.\n"
     ]
    },
    {
     "name": "stdout",
     "output_type": "stream",
     "text": [
      "Updated article 22 in newspaper_ampel-aus_0-200_processed.json with evaluations.\n"
     ]
    },
    {
     "name": "stderr",
     "output_type": "stream",
     "text": [
      "Setting `pad_token_id` to `eos_token_id`:128001 for open-end generation.\n",
      "Setting `pad_token_id` to `eos_token_id`:128001 for open-end generation.\n",
      "Setting `pad_token_id` to `eos_token_id`:128001 for open-end generation.\n"
     ]
    },
    {
     "name": "stdout",
     "output_type": "stream",
     "text": [
      "Updated article 23 in newspaper_ampel-aus_0-200_processed.json with evaluations.\n"
     ]
    },
    {
     "name": "stderr",
     "output_type": "stream",
     "text": [
      "Setting `pad_token_id` to `eos_token_id`:128001 for open-end generation.\n",
      "Setting `pad_token_id` to `eos_token_id`:128001 for open-end generation.\n",
      "Setting `pad_token_id` to `eos_token_id`:128001 for open-end generation.\n"
     ]
    },
    {
     "name": "stdout",
     "output_type": "stream",
     "text": [
      "Updated article 24 in newspaper_ampel-aus_0-200_processed.json with evaluations.\n"
     ]
    },
    {
     "name": "stderr",
     "output_type": "stream",
     "text": [
      "Setting `pad_token_id` to `eos_token_id`:128001 for open-end generation.\n",
      "Setting `pad_token_id` to `eos_token_id`:128001 for open-end generation.\n",
      "Setting `pad_token_id` to `eos_token_id`:128001 for open-end generation.\n"
     ]
    },
    {
     "name": "stdout",
     "output_type": "stream",
     "text": [
      "Updated article 25 in newspaper_ampel-aus_0-200_processed.json with evaluations.\n"
     ]
    },
    {
     "name": "stderr",
     "output_type": "stream",
     "text": [
      "Setting `pad_token_id` to `eos_token_id`:128001 for open-end generation.\n",
      "Setting `pad_token_id` to `eos_token_id`:128001 for open-end generation.\n",
      "Setting `pad_token_id` to `eos_token_id`:128001 for open-end generation.\n"
     ]
    },
    {
     "name": "stdout",
     "output_type": "stream",
     "text": [
      "Updated article 26 in newspaper_ampel-aus_0-200_processed.json with evaluations.\n"
     ]
    },
    {
     "name": "stderr",
     "output_type": "stream",
     "text": [
      "Setting `pad_token_id` to `eos_token_id`:128001 for open-end generation.\n",
      "Setting `pad_token_id` to `eos_token_id`:128001 for open-end generation.\n",
      "Setting `pad_token_id` to `eos_token_id`:128001 for open-end generation.\n"
     ]
    },
    {
     "name": "stdout",
     "output_type": "stream",
     "text": [
      "Updated article 27 in newspaper_ampel-aus_0-200_processed.json with evaluations.\n"
     ]
    },
    {
     "name": "stderr",
     "output_type": "stream",
     "text": [
      "Setting `pad_token_id` to `eos_token_id`:128001 for open-end generation.\n",
      "Setting `pad_token_id` to `eos_token_id`:128001 for open-end generation.\n",
      "Setting `pad_token_id` to `eos_token_id`:128001 for open-end generation.\n"
     ]
    },
    {
     "name": "stdout",
     "output_type": "stream",
     "text": [
      "Updated article 28 in newspaper_ampel-aus_0-200_processed.json with evaluations.\n"
     ]
    },
    {
     "name": "stderr",
     "output_type": "stream",
     "text": [
      "Setting `pad_token_id` to `eos_token_id`:128001 for open-end generation.\n",
      "Setting `pad_token_id` to `eos_token_id`:128001 for open-end generation.\n",
      "Setting `pad_token_id` to `eos_token_id`:128001 for open-end generation.\n"
     ]
    },
    {
     "name": "stdout",
     "output_type": "stream",
     "text": [
      "Updated article 29 in newspaper_ampel-aus_0-200_processed.json with evaluations.\n"
     ]
    },
    {
     "name": "stderr",
     "output_type": "stream",
     "text": [
      "Setting `pad_token_id` to `eos_token_id`:128001 for open-end generation.\n",
      "Setting `pad_token_id` to `eos_token_id`:128001 for open-end generation.\n",
      "Setting `pad_token_id` to `eos_token_id`:128001 for open-end generation.\n"
     ]
    },
    {
     "name": "stdout",
     "output_type": "stream",
     "text": [
      "Updated article 30 in newspaper_ampel-aus_0-200_processed.json with evaluations.\n"
     ]
    },
    {
     "name": "stderr",
     "output_type": "stream",
     "text": [
      "Setting `pad_token_id` to `eos_token_id`:128001 for open-end generation.\n",
      "Setting `pad_token_id` to `eos_token_id`:128001 for open-end generation.\n",
      "Setting `pad_token_id` to `eos_token_id`:128001 for open-end generation.\n"
     ]
    },
    {
     "name": "stdout",
     "output_type": "stream",
     "text": [
      "Updated article 31 in newspaper_ampel-aus_0-200_processed.json with evaluations.\n"
     ]
    },
    {
     "name": "stderr",
     "output_type": "stream",
     "text": [
      "Setting `pad_token_id` to `eos_token_id`:128001 for open-end generation.\n",
      "Setting `pad_token_id` to `eos_token_id`:128001 for open-end generation.\n",
      "Setting `pad_token_id` to `eos_token_id`:128001 for open-end generation.\n"
     ]
    },
    {
     "name": "stdout",
     "output_type": "stream",
     "text": [
      "Updated article 33 in newspaper_ampel-aus_0-200_processed.json with evaluations.\n"
     ]
    },
    {
     "name": "stderr",
     "output_type": "stream",
     "text": [
      "Setting `pad_token_id` to `eos_token_id`:128001 for open-end generation.\n",
      "Setting `pad_token_id` to `eos_token_id`:128001 for open-end generation.\n",
      "Setting `pad_token_id` to `eos_token_id`:128001 for open-end generation.\n"
     ]
    },
    {
     "name": "stdout",
     "output_type": "stream",
     "text": [
      "Updated article 49 in newspaper_ampel-aus_0-200_processed.json with evaluations.\n"
     ]
    },
    {
     "name": "stderr",
     "output_type": "stream",
     "text": [
      "Setting `pad_token_id` to `eos_token_id`:128001 for open-end generation.\n",
      "Setting `pad_token_id` to `eos_token_id`:128001 for open-end generation.\n",
      "Setting `pad_token_id` to `eos_token_id`:128001 for open-end generation.\n"
     ]
    },
    {
     "name": "stdout",
     "output_type": "stream",
     "text": [
      "Updated article 50 in newspaper_ampel-aus_0-200_processed.json with evaluations.\n"
     ]
    },
    {
     "name": "stderr",
     "output_type": "stream",
     "text": [
      "Setting `pad_token_id` to `eos_token_id`:128001 for open-end generation.\n",
      "Setting `pad_token_id` to `eos_token_id`:128001 for open-end generation.\n",
      "Setting `pad_token_id` to `eos_token_id`:128001 for open-end generation.\n"
     ]
    },
    {
     "name": "stdout",
     "output_type": "stream",
     "text": [
      "Updated article 52 in newspaper_ampel-aus_0-200_processed.json with evaluations.\n"
     ]
    },
    {
     "name": "stderr",
     "output_type": "stream",
     "text": [
      "Setting `pad_token_id` to `eos_token_id`:128001 for open-end generation.\n",
      "Setting `pad_token_id` to `eos_token_id`:128001 for open-end generation.\n",
      "Setting `pad_token_id` to `eos_token_id`:128001 for open-end generation.\n"
     ]
    },
    {
     "name": "stdout",
     "output_type": "stream",
     "text": [
      "Updated article 53 in newspaper_ampel-aus_0-200_processed.json with evaluations.\n"
     ]
    },
    {
     "name": "stderr",
     "output_type": "stream",
     "text": [
      "Setting `pad_token_id` to `eos_token_id`:128001 for open-end generation.\n",
      "Setting `pad_token_id` to `eos_token_id`:128001 for open-end generation.\n",
      "Setting `pad_token_id` to `eos_token_id`:128001 for open-end generation.\n"
     ]
    },
    {
     "name": "stdout",
     "output_type": "stream",
     "text": [
      "Updated article 54 in newspaper_ampel-aus_0-200_processed.json with evaluations.\n"
     ]
    },
    {
     "name": "stderr",
     "output_type": "stream",
     "text": [
      "Setting `pad_token_id` to `eos_token_id`:128001 for open-end generation.\n",
      "Setting `pad_token_id` to `eos_token_id`:128001 for open-end generation.\n",
      "Setting `pad_token_id` to `eos_token_id`:128001 for open-end generation.\n"
     ]
    },
    {
     "name": "stdout",
     "output_type": "stream",
     "text": [
      "Updated article 55 in newspaper_ampel-aus_0-200_processed.json with evaluations.\n"
     ]
    },
    {
     "name": "stderr",
     "output_type": "stream",
     "text": [
      "Setting `pad_token_id` to `eos_token_id`:128001 for open-end generation.\n",
      "Setting `pad_token_id` to `eos_token_id`:128001 for open-end generation.\n",
      "Setting `pad_token_id` to `eos_token_id`:128001 for open-end generation.\n"
     ]
    },
    {
     "name": "stdout",
     "output_type": "stream",
     "text": [
      "Updated article 56 in newspaper_ampel-aus_0-200_processed.json with evaluations.\n"
     ]
    },
    {
     "name": "stderr",
     "output_type": "stream",
     "text": [
      "Setting `pad_token_id` to `eos_token_id`:128001 for open-end generation.\n",
      "Setting `pad_token_id` to `eos_token_id`:128001 for open-end generation.\n",
      "Setting `pad_token_id` to `eos_token_id`:128001 for open-end generation.\n"
     ]
    },
    {
     "name": "stdout",
     "output_type": "stream",
     "text": [
      "Updated article 57 in newspaper_ampel-aus_0-200_processed.json with evaluations.\n"
     ]
    },
    {
     "name": "stderr",
     "output_type": "stream",
     "text": [
      "Setting `pad_token_id` to `eos_token_id`:128001 for open-end generation.\n",
      "Setting `pad_token_id` to `eos_token_id`:128001 for open-end generation.\n",
      "Setting `pad_token_id` to `eos_token_id`:128001 for open-end generation.\n"
     ]
    },
    {
     "name": "stdout",
     "output_type": "stream",
     "text": [
      "Updated article 59 in newspaper_ampel-aus_0-200_processed.json with evaluations.\n"
     ]
    },
    {
     "name": "stderr",
     "output_type": "stream",
     "text": [
      "Setting `pad_token_id` to `eos_token_id`:128001 for open-end generation.\n",
      "Setting `pad_token_id` to `eos_token_id`:128001 for open-end generation.\n",
      "Setting `pad_token_id` to `eos_token_id`:128001 for open-end generation.\n"
     ]
    },
    {
     "name": "stdout",
     "output_type": "stream",
     "text": [
      "Updated article 60 in newspaper_ampel-aus_0-200_processed.json with evaluations.\n"
     ]
    },
    {
     "name": "stderr",
     "output_type": "stream",
     "text": [
      "Setting `pad_token_id` to `eos_token_id`:128001 for open-end generation.\n",
      "Setting `pad_token_id` to `eos_token_id`:128001 for open-end generation.\n",
      "Setting `pad_token_id` to `eos_token_id`:128001 for open-end generation.\n"
     ]
    },
    {
     "name": "stdout",
     "output_type": "stream",
     "text": [
      "Updated article 61 in newspaper_ampel-aus_0-200_processed.json with evaluations.\n"
     ]
    },
    {
     "name": "stderr",
     "output_type": "stream",
     "text": [
      "Setting `pad_token_id` to `eos_token_id`:128001 for open-end generation.\n",
      "Setting `pad_token_id` to `eos_token_id`:128001 for open-end generation.\n",
      "Setting `pad_token_id` to `eos_token_id`:128001 for open-end generation.\n"
     ]
    },
    {
     "name": "stdout",
     "output_type": "stream",
     "text": [
      "Updated article 62 in newspaper_ampel-aus_0-200_processed.json with evaluations.\n"
     ]
    },
    {
     "name": "stderr",
     "output_type": "stream",
     "text": [
      "Setting `pad_token_id` to `eos_token_id`:128001 for open-end generation.\n",
      "Setting `pad_token_id` to `eos_token_id`:128001 for open-end generation.\n",
      "Setting `pad_token_id` to `eos_token_id`:128001 for open-end generation.\n"
     ]
    },
    {
     "name": "stdout",
     "output_type": "stream",
     "text": [
      "Updated article 63 in newspaper_ampel-aus_0-200_processed.json with evaluations.\n"
     ]
    },
    {
     "name": "stderr",
     "output_type": "stream",
     "text": [
      "Setting `pad_token_id` to `eos_token_id`:128001 for open-end generation.\n",
      "Setting `pad_token_id` to `eos_token_id`:128001 for open-end generation.\n",
      "Setting `pad_token_id` to `eos_token_id`:128001 for open-end generation.\n"
     ]
    },
    {
     "name": "stdout",
     "output_type": "stream",
     "text": [
      "Updated article 64 in newspaper_ampel-aus_0-200_processed.json with evaluations.\n"
     ]
    },
    {
     "name": "stderr",
     "output_type": "stream",
     "text": [
      "Setting `pad_token_id` to `eos_token_id`:128001 for open-end generation.\n",
      "Setting `pad_token_id` to `eos_token_id`:128001 for open-end generation.\n",
      "Setting `pad_token_id` to `eos_token_id`:128001 for open-end generation.\n"
     ]
    },
    {
     "name": "stdout",
     "output_type": "stream",
     "text": [
      "Updated article 65 in newspaper_ampel-aus_0-200_processed.json with evaluations.\n"
     ]
    },
    {
     "name": "stderr",
     "output_type": "stream",
     "text": [
      "Setting `pad_token_id` to `eos_token_id`:128001 for open-end generation.\n",
      "Setting `pad_token_id` to `eos_token_id`:128001 for open-end generation.\n",
      "Setting `pad_token_id` to `eos_token_id`:128001 for open-end generation.\n"
     ]
    },
    {
     "name": "stdout",
     "output_type": "stream",
     "text": [
      "Updated article 66 in newspaper_ampel-aus_0-200_processed.json with evaluations.\n"
     ]
    },
    {
     "name": "stderr",
     "output_type": "stream",
     "text": [
      "Setting `pad_token_id` to `eos_token_id`:128001 for open-end generation.\n",
      "Setting `pad_token_id` to `eos_token_id`:128001 for open-end generation.\n",
      "Setting `pad_token_id` to `eos_token_id`:128001 for open-end generation.\n"
     ]
    },
    {
     "name": "stdout",
     "output_type": "stream",
     "text": [
      "Updated article 67 in newspaper_ampel-aus_0-200_processed.json with evaluations.\n"
     ]
    },
    {
     "name": "stderr",
     "output_type": "stream",
     "text": [
      "Setting `pad_token_id` to `eos_token_id`:128001 for open-end generation.\n",
      "Setting `pad_token_id` to `eos_token_id`:128001 for open-end generation.\n",
      "Setting `pad_token_id` to `eos_token_id`:128001 for open-end generation.\n"
     ]
    },
    {
     "name": "stdout",
     "output_type": "stream",
     "text": [
      "Updated article 68 in newspaper_ampel-aus_0-200_processed.json with evaluations.\n"
     ]
    },
    {
     "name": "stderr",
     "output_type": "stream",
     "text": [
      "Setting `pad_token_id` to `eos_token_id`:128001 for open-end generation.\n",
      "Setting `pad_token_id` to `eos_token_id`:128001 for open-end generation.\n",
      "Setting `pad_token_id` to `eos_token_id`:128001 for open-end generation.\n"
     ]
    },
    {
     "name": "stdout",
     "output_type": "stream",
     "text": [
      "Updated article 70 in newspaper_ampel-aus_0-200_processed.json with evaluations.\n"
     ]
    },
    {
     "name": "stderr",
     "output_type": "stream",
     "text": [
      "Setting `pad_token_id` to `eos_token_id`:128001 for open-end generation.\n",
      "Setting `pad_token_id` to `eos_token_id`:128001 for open-end generation.\n",
      "Setting `pad_token_id` to `eos_token_id`:128001 for open-end generation.\n"
     ]
    },
    {
     "name": "stdout",
     "output_type": "stream",
     "text": [
      "Updated article 71 in newspaper_ampel-aus_0-200_processed.json with evaluations.\n"
     ]
    },
    {
     "name": "stderr",
     "output_type": "stream",
     "text": [
      "Setting `pad_token_id` to `eos_token_id`:128001 for open-end generation.\n",
      "Setting `pad_token_id` to `eos_token_id`:128001 for open-end generation.\n",
      "Setting `pad_token_id` to `eos_token_id`:128001 for open-end generation.\n"
     ]
    },
    {
     "name": "stdout",
     "output_type": "stream",
     "text": [
      "Updated article 82 in newspaper_ampel-aus_0-200_processed.json with evaluations.\n"
     ]
    },
    {
     "name": "stderr",
     "output_type": "stream",
     "text": [
      "Setting `pad_token_id` to `eos_token_id`:128001 for open-end generation.\n",
      "Setting `pad_token_id` to `eos_token_id`:128001 for open-end generation.\n",
      "Setting `pad_token_id` to `eos_token_id`:128001 for open-end generation.\n"
     ]
    },
    {
     "name": "stdout",
     "output_type": "stream",
     "text": [
      "Updated article 84 in newspaper_ampel-aus_0-200_processed.json with evaluations.\n"
     ]
    },
    {
     "name": "stderr",
     "output_type": "stream",
     "text": [
      "Setting `pad_token_id` to `eos_token_id`:128001 for open-end generation.\n",
      "Setting `pad_token_id` to `eos_token_id`:128001 for open-end generation.\n",
      "Setting `pad_token_id` to `eos_token_id`:128001 for open-end generation.\n"
     ]
    },
    {
     "name": "stdout",
     "output_type": "stream",
     "text": [
      "Updated article 85 in newspaper_ampel-aus_0-200_processed.json with evaluations.\n"
     ]
    },
    {
     "name": "stderr",
     "output_type": "stream",
     "text": [
      "Setting `pad_token_id` to `eos_token_id`:128001 for open-end generation.\n",
      "Setting `pad_token_id` to `eos_token_id`:128001 for open-end generation.\n",
      "Setting `pad_token_id` to `eos_token_id`:128001 for open-end generation.\n"
     ]
    },
    {
     "name": "stdout",
     "output_type": "stream",
     "text": [
      "Updated article 87 in newspaper_ampel-aus_0-200_processed.json with evaluations.\n"
     ]
    },
    {
     "name": "stderr",
     "output_type": "stream",
     "text": [
      "Setting `pad_token_id` to `eos_token_id`:128001 for open-end generation.\n",
      "Setting `pad_token_id` to `eos_token_id`:128001 for open-end generation.\n",
      "Setting `pad_token_id` to `eos_token_id`:128001 for open-end generation.\n"
     ]
    },
    {
     "name": "stdout",
     "output_type": "stream",
     "text": [
      "Updated article 88 in newspaper_ampel-aus_0-200_processed.json with evaluations.\n"
     ]
    },
    {
     "name": "stderr",
     "output_type": "stream",
     "text": [
      "Setting `pad_token_id` to `eos_token_id`:128001 for open-end generation.\n",
      "Setting `pad_token_id` to `eos_token_id`:128001 for open-end generation.\n",
      "Setting `pad_token_id` to `eos_token_id`:128001 for open-end generation.\n"
     ]
    },
    {
     "name": "stdout",
     "output_type": "stream",
     "text": [
      "Updated article 89 in newspaper_ampel-aus_0-200_processed.json with evaluations.\n"
     ]
    },
    {
     "name": "stderr",
     "output_type": "stream",
     "text": [
      "Setting `pad_token_id` to `eos_token_id`:128001 for open-end generation.\n",
      "Setting `pad_token_id` to `eos_token_id`:128001 for open-end generation.\n",
      "Setting `pad_token_id` to `eos_token_id`:128001 for open-end generation.\n"
     ]
    },
    {
     "name": "stdout",
     "output_type": "stream",
     "text": [
      "Updated article 90 in newspaper_ampel-aus_0-200_processed.json with evaluations.\n"
     ]
    },
    {
     "name": "stderr",
     "output_type": "stream",
     "text": [
      "Setting `pad_token_id` to `eos_token_id`:128001 for open-end generation.\n",
      "Setting `pad_token_id` to `eos_token_id`:128001 for open-end generation.\n",
      "Setting `pad_token_id` to `eos_token_id`:128001 for open-end generation.\n"
     ]
    },
    {
     "name": "stdout",
     "output_type": "stream",
     "text": [
      "Updated article 91 in newspaper_ampel-aus_0-200_processed.json with evaluations.\n"
     ]
    },
    {
     "name": "stderr",
     "output_type": "stream",
     "text": [
      "Setting `pad_token_id` to `eos_token_id`:128001 for open-end generation.\n",
      "Setting `pad_token_id` to `eos_token_id`:128001 for open-end generation.\n",
      "Setting `pad_token_id` to `eos_token_id`:128001 for open-end generation.\n"
     ]
    },
    {
     "name": "stdout",
     "output_type": "stream",
     "text": [
      "Updated article 92 in newspaper_ampel-aus_0-200_processed.json with evaluations.\n"
     ]
    },
    {
     "name": "stderr",
     "output_type": "stream",
     "text": [
      "Setting `pad_token_id` to `eos_token_id`:128001 for open-end generation.\n",
      "Setting `pad_token_id` to `eos_token_id`:128001 for open-end generation.\n",
      "Setting `pad_token_id` to `eos_token_id`:128001 for open-end generation.\n"
     ]
    },
    {
     "name": "stdout",
     "output_type": "stream",
     "text": [
      "Updated article 93 in newspaper_ampel-aus_0-200_processed.json with evaluations.\n"
     ]
    },
    {
     "name": "stderr",
     "output_type": "stream",
     "text": [
      "Setting `pad_token_id` to `eos_token_id`:128001 for open-end generation.\n",
      "Setting `pad_token_id` to `eos_token_id`:128001 for open-end generation.\n",
      "Setting `pad_token_id` to `eos_token_id`:128001 for open-end generation.\n"
     ]
    },
    {
     "name": "stdout",
     "output_type": "stream",
     "text": [
      "Updated article 99 in newspaper_ampel-aus_0-200_processed.json with evaluations.\n"
     ]
    },
    {
     "name": "stderr",
     "output_type": "stream",
     "text": [
      "Setting `pad_token_id` to `eos_token_id`:128001 for open-end generation.\n",
      "Setting `pad_token_id` to `eos_token_id`:128001 for open-end generation.\n",
      "Setting `pad_token_id` to `eos_token_id`:128001 for open-end generation.\n"
     ]
    },
    {
     "name": "stdout",
     "output_type": "stream",
     "text": [
      "Updated article 100 in newspaper_ampel-aus_0-200_processed.json with evaluations.\n"
     ]
    },
    {
     "name": "stderr",
     "output_type": "stream",
     "text": [
      "Setting `pad_token_id` to `eos_token_id`:128001 for open-end generation.\n",
      "Setting `pad_token_id` to `eos_token_id`:128001 for open-end generation.\n",
      "Setting `pad_token_id` to `eos_token_id`:128001 for open-end generation.\n"
     ]
    },
    {
     "name": "stdout",
     "output_type": "stream",
     "text": [
      "Updated article 101 in newspaper_ampel-aus_0-200_processed.json with evaluations.\n"
     ]
    },
    {
     "name": "stderr",
     "output_type": "stream",
     "text": [
      "Setting `pad_token_id` to `eos_token_id`:128001 for open-end generation.\n",
      "Setting `pad_token_id` to `eos_token_id`:128001 for open-end generation.\n",
      "Setting `pad_token_id` to `eos_token_id`:128001 for open-end generation.\n"
     ]
    },
    {
     "name": "stdout",
     "output_type": "stream",
     "text": [
      "Updated article 102 in newspaper_ampel-aus_0-200_processed.json with evaluations.\n"
     ]
    },
    {
     "name": "stderr",
     "output_type": "stream",
     "text": [
      "Setting `pad_token_id` to `eos_token_id`:128001 for open-end generation.\n",
      "Setting `pad_token_id` to `eos_token_id`:128001 for open-end generation.\n",
      "Setting `pad_token_id` to `eos_token_id`:128001 for open-end generation.\n"
     ]
    },
    {
     "name": "stdout",
     "output_type": "stream",
     "text": [
      "Updated article 103 in newspaper_ampel-aus_0-200_processed.json with evaluations.\n"
     ]
    },
    {
     "name": "stderr",
     "output_type": "stream",
     "text": [
      "Setting `pad_token_id` to `eos_token_id`:128001 for open-end generation.\n",
      "Setting `pad_token_id` to `eos_token_id`:128001 for open-end generation.\n",
      "Setting `pad_token_id` to `eos_token_id`:128001 for open-end generation.\n"
     ]
    },
    {
     "name": "stdout",
     "output_type": "stream",
     "text": [
      "Updated article 104 in newspaper_ampel-aus_0-200_processed.json with evaluations.\n"
     ]
    },
    {
     "name": "stderr",
     "output_type": "stream",
     "text": [
      "Setting `pad_token_id` to `eos_token_id`:128001 for open-end generation.\n",
      "Setting `pad_token_id` to `eos_token_id`:128001 for open-end generation.\n",
      "Setting `pad_token_id` to `eos_token_id`:128001 for open-end generation.\n"
     ]
    },
    {
     "name": "stdout",
     "output_type": "stream",
     "text": [
      "Updated article 105 in newspaper_ampel-aus_0-200_processed.json with evaluations.\n"
     ]
    },
    {
     "name": "stderr",
     "output_type": "stream",
     "text": [
      "Setting `pad_token_id` to `eos_token_id`:128001 for open-end generation.\n",
      "Setting `pad_token_id` to `eos_token_id`:128001 for open-end generation.\n",
      "Setting `pad_token_id` to `eos_token_id`:128001 for open-end generation.\n"
     ]
    },
    {
     "name": "stdout",
     "output_type": "stream",
     "text": [
      "Updated article 106 in newspaper_ampel-aus_0-200_processed.json with evaluations.\n"
     ]
    },
    {
     "name": "stderr",
     "output_type": "stream",
     "text": [
      "Setting `pad_token_id` to `eos_token_id`:128001 for open-end generation.\n",
      "Setting `pad_token_id` to `eos_token_id`:128001 for open-end generation.\n",
      "Setting `pad_token_id` to `eos_token_id`:128001 for open-end generation.\n"
     ]
    },
    {
     "name": "stdout",
     "output_type": "stream",
     "text": [
      "Updated article 107 in newspaper_ampel-aus_0-200_processed.json with evaluations.\n"
     ]
    },
    {
     "name": "stderr",
     "output_type": "stream",
     "text": [
      "Setting `pad_token_id` to `eos_token_id`:128001 for open-end generation.\n",
      "Setting `pad_token_id` to `eos_token_id`:128001 for open-end generation.\n",
      "Setting `pad_token_id` to `eos_token_id`:128001 for open-end generation.\n"
     ]
    },
    {
     "name": "stdout",
     "output_type": "stream",
     "text": [
      "Updated article 108 in newspaper_ampel-aus_0-200_processed.json with evaluations.\n"
     ]
    },
    {
     "name": "stderr",
     "output_type": "stream",
     "text": [
      "Setting `pad_token_id` to `eos_token_id`:128001 for open-end generation.\n",
      "Setting `pad_token_id` to `eos_token_id`:128001 for open-end generation.\n",
      "Setting `pad_token_id` to `eos_token_id`:128001 for open-end generation.\n"
     ]
    },
    {
     "name": "stdout",
     "output_type": "stream",
     "text": [
      "Updated article 109 in newspaper_ampel-aus_0-200_processed.json with evaluations.\n"
     ]
    },
    {
     "name": "stderr",
     "output_type": "stream",
     "text": [
      "Setting `pad_token_id` to `eos_token_id`:128001 for open-end generation.\n",
      "Setting `pad_token_id` to `eos_token_id`:128001 for open-end generation.\n",
      "Setting `pad_token_id` to `eos_token_id`:128001 for open-end generation.\n"
     ]
    },
    {
     "name": "stdout",
     "output_type": "stream",
     "text": [
      "Updated article 110 in newspaper_ampel-aus_0-200_processed.json with evaluations.\n"
     ]
    },
    {
     "name": "stderr",
     "output_type": "stream",
     "text": [
      "Setting `pad_token_id` to `eos_token_id`:128001 for open-end generation.\n",
      "Setting `pad_token_id` to `eos_token_id`:128001 for open-end generation.\n",
      "Setting `pad_token_id` to `eos_token_id`:128001 for open-end generation.\n"
     ]
    },
    {
     "name": "stdout",
     "output_type": "stream",
     "text": [
      "Updated article 111 in newspaper_ampel-aus_0-200_processed.json with evaluations.\n"
     ]
    },
    {
     "name": "stderr",
     "output_type": "stream",
     "text": [
      "Setting `pad_token_id` to `eos_token_id`:128001 for open-end generation.\n",
      "Setting `pad_token_id` to `eos_token_id`:128001 for open-end generation.\n",
      "Setting `pad_token_id` to `eos_token_id`:128001 for open-end generation.\n"
     ]
    },
    {
     "name": "stdout",
     "output_type": "stream",
     "text": [
      "Updated article 116 in newspaper_ampel-aus_0-200_processed.json with evaluations.\n"
     ]
    },
    {
     "name": "stderr",
     "output_type": "stream",
     "text": [
      "Setting `pad_token_id` to `eos_token_id`:128001 for open-end generation.\n",
      "Setting `pad_token_id` to `eos_token_id`:128001 for open-end generation.\n",
      "Setting `pad_token_id` to `eos_token_id`:128001 for open-end generation.\n"
     ]
    },
    {
     "name": "stdout",
     "output_type": "stream",
     "text": [
      "Updated article 118 in newspaper_ampel-aus_0-200_processed.json with evaluations.\n"
     ]
    },
    {
     "name": "stderr",
     "output_type": "stream",
     "text": [
      "Setting `pad_token_id` to `eos_token_id`:128001 for open-end generation.\n",
      "Setting `pad_token_id` to `eos_token_id`:128001 for open-end generation.\n",
      "Setting `pad_token_id` to `eos_token_id`:128001 for open-end generation.\n"
     ]
    },
    {
     "name": "stdout",
     "output_type": "stream",
     "text": [
      "Updated article 120 in newspaper_ampel-aus_0-200_processed.json with evaluations.\n"
     ]
    },
    {
     "name": "stderr",
     "output_type": "stream",
     "text": [
      "Setting `pad_token_id` to `eos_token_id`:128001 for open-end generation.\n",
      "Setting `pad_token_id` to `eos_token_id`:128001 for open-end generation.\n",
      "Setting `pad_token_id` to `eos_token_id`:128001 for open-end generation.\n"
     ]
    },
    {
     "name": "stdout",
     "output_type": "stream",
     "text": [
      "Updated article 122 in newspaper_ampel-aus_0-200_processed.json with evaluations.\n"
     ]
    },
    {
     "name": "stderr",
     "output_type": "stream",
     "text": [
      "Setting `pad_token_id` to `eos_token_id`:128001 for open-end generation.\n",
      "Setting `pad_token_id` to `eos_token_id`:128001 for open-end generation.\n",
      "Setting `pad_token_id` to `eos_token_id`:128001 for open-end generation.\n"
     ]
    },
    {
     "name": "stdout",
     "output_type": "stream",
     "text": [
      "Updated article 123 in newspaper_ampel-aus_0-200_processed.json with evaluations.\n"
     ]
    },
    {
     "name": "stderr",
     "output_type": "stream",
     "text": [
      "Setting `pad_token_id` to `eos_token_id`:128001 for open-end generation.\n",
      "Setting `pad_token_id` to `eos_token_id`:128001 for open-end generation.\n",
      "Setting `pad_token_id` to `eos_token_id`:128001 for open-end generation.\n"
     ]
    },
    {
     "name": "stdout",
     "output_type": "stream",
     "text": [
      "Updated article 124 in newspaper_ampel-aus_0-200_processed.json with evaluations.\n"
     ]
    },
    {
     "name": "stderr",
     "output_type": "stream",
     "text": [
      "Setting `pad_token_id` to `eos_token_id`:128001 for open-end generation.\n",
      "Setting `pad_token_id` to `eos_token_id`:128001 for open-end generation.\n",
      "Setting `pad_token_id` to `eos_token_id`:128001 for open-end generation.\n"
     ]
    },
    {
     "name": "stdout",
     "output_type": "stream",
     "text": [
      "Updated article 125 in newspaper_ampel-aus_0-200_processed.json with evaluations.\n"
     ]
    },
    {
     "name": "stderr",
     "output_type": "stream",
     "text": [
      "Setting `pad_token_id` to `eos_token_id`:128001 for open-end generation.\n",
      "Setting `pad_token_id` to `eos_token_id`:128001 for open-end generation.\n",
      "Setting `pad_token_id` to `eos_token_id`:128001 for open-end generation.\n"
     ]
    },
    {
     "name": "stdout",
     "output_type": "stream",
     "text": [
      "Updated article 126 in newspaper_ampel-aus_0-200_processed.json with evaluations.\n"
     ]
    },
    {
     "name": "stderr",
     "output_type": "stream",
     "text": [
      "Setting `pad_token_id` to `eos_token_id`:128001 for open-end generation.\n",
      "Setting `pad_token_id` to `eos_token_id`:128001 for open-end generation.\n",
      "Setting `pad_token_id` to `eos_token_id`:128001 for open-end generation.\n"
     ]
    },
    {
     "name": "stdout",
     "output_type": "stream",
     "text": [
      "Updated article 128 in newspaper_ampel-aus_0-200_processed.json with evaluations.\n"
     ]
    },
    {
     "name": "stderr",
     "output_type": "stream",
     "text": [
      "Setting `pad_token_id` to `eos_token_id`:128001 for open-end generation.\n",
      "Setting `pad_token_id` to `eos_token_id`:128001 for open-end generation.\n",
      "Setting `pad_token_id` to `eos_token_id`:128001 for open-end generation.\n"
     ]
    },
    {
     "name": "stdout",
     "output_type": "stream",
     "text": [
      "Updated article 137 in newspaper_ampel-aus_0-200_processed.json with evaluations.\n"
     ]
    },
    {
     "name": "stderr",
     "output_type": "stream",
     "text": [
      "Setting `pad_token_id` to `eos_token_id`:128001 for open-end generation.\n",
      "Setting `pad_token_id` to `eos_token_id`:128001 for open-end generation.\n",
      "Setting `pad_token_id` to `eos_token_id`:128001 for open-end generation.\n"
     ]
    },
    {
     "name": "stdout",
     "output_type": "stream",
     "text": [
      "Updated article 150 in newspaper_ampel-aus_0-200_processed.json with evaluations.\n"
     ]
    },
    {
     "name": "stderr",
     "output_type": "stream",
     "text": [
      "Setting `pad_token_id` to `eos_token_id`:128001 for open-end generation.\n",
      "Setting `pad_token_id` to `eos_token_id`:128001 for open-end generation.\n",
      "Setting `pad_token_id` to `eos_token_id`:128001 for open-end generation.\n"
     ]
    },
    {
     "name": "stdout",
     "output_type": "stream",
     "text": [
      "Updated article 152 in newspaper_ampel-aus_0-200_processed.json with evaluations.\n"
     ]
    },
    {
     "name": "stderr",
     "output_type": "stream",
     "text": [
      "Setting `pad_token_id` to `eos_token_id`:128001 for open-end generation.\n",
      "Setting `pad_token_id` to `eos_token_id`:128001 for open-end generation.\n",
      "Setting `pad_token_id` to `eos_token_id`:128001 for open-end generation.\n"
     ]
    },
    {
     "name": "stdout",
     "output_type": "stream",
     "text": [
      "Updated article 153 in newspaper_ampel-aus_0-200_processed.json with evaluations.\n"
     ]
    },
    {
     "name": "stderr",
     "output_type": "stream",
     "text": [
      "Setting `pad_token_id` to `eos_token_id`:128001 for open-end generation.\n",
      "Setting `pad_token_id` to `eos_token_id`:128001 for open-end generation.\n",
      "Setting `pad_token_id` to `eos_token_id`:128001 for open-end generation.\n"
     ]
    },
    {
     "name": "stdout",
     "output_type": "stream",
     "text": [
      "Updated article 154 in newspaper_ampel-aus_0-200_processed.json with evaluations.\n"
     ]
    },
    {
     "name": "stderr",
     "output_type": "stream",
     "text": [
      "Setting `pad_token_id` to `eos_token_id`:128001 for open-end generation.\n",
      "Setting `pad_token_id` to `eos_token_id`:128001 for open-end generation.\n",
      "Setting `pad_token_id` to `eos_token_id`:128001 for open-end generation.\n"
     ]
    },
    {
     "name": "stdout",
     "output_type": "stream",
     "text": [
      "Updated article 155 in newspaper_ampel-aus_0-200_processed.json with evaluations.\n"
     ]
    },
    {
     "name": "stderr",
     "output_type": "stream",
     "text": [
      "Setting `pad_token_id` to `eos_token_id`:128001 for open-end generation.\n",
      "Setting `pad_token_id` to `eos_token_id`:128001 for open-end generation.\n",
      "Setting `pad_token_id` to `eos_token_id`:128001 for open-end generation.\n"
     ]
    },
    {
     "name": "stdout",
     "output_type": "stream",
     "text": [
      "Updated article 156 in newspaper_ampel-aus_0-200_processed.json with evaluations.\n"
     ]
    },
    {
     "name": "stderr",
     "output_type": "stream",
     "text": [
      "Setting `pad_token_id` to `eos_token_id`:128001 for open-end generation.\n",
      "Setting `pad_token_id` to `eos_token_id`:128001 for open-end generation.\n",
      "Setting `pad_token_id` to `eos_token_id`:128001 for open-end generation.\n"
     ]
    },
    {
     "name": "stdout",
     "output_type": "stream",
     "text": [
      "Updated article 157 in newspaper_ampel-aus_0-200_processed.json with evaluations.\n"
     ]
    },
    {
     "name": "stderr",
     "output_type": "stream",
     "text": [
      "Setting `pad_token_id` to `eos_token_id`:128001 for open-end generation.\n",
      "Setting `pad_token_id` to `eos_token_id`:128001 for open-end generation.\n",
      "Setting `pad_token_id` to `eos_token_id`:128001 for open-end generation.\n"
     ]
    },
    {
     "name": "stdout",
     "output_type": "stream",
     "text": [
      "Updated article 159 in newspaper_ampel-aus_0-200_processed.json with evaluations.\n"
     ]
    },
    {
     "name": "stderr",
     "output_type": "stream",
     "text": [
      "Setting `pad_token_id` to `eos_token_id`:128001 for open-end generation.\n",
      "Setting `pad_token_id` to `eos_token_id`:128001 for open-end generation.\n",
      "Setting `pad_token_id` to `eos_token_id`:128001 for open-end generation.\n"
     ]
    },
    {
     "name": "stdout",
     "output_type": "stream",
     "text": [
      "Updated article 160 in newspaper_ampel-aus_0-200_processed.json with evaluations.\n"
     ]
    },
    {
     "name": "stderr",
     "output_type": "stream",
     "text": [
      "Setting `pad_token_id` to `eos_token_id`:128001 for open-end generation.\n",
      "Setting `pad_token_id` to `eos_token_id`:128001 for open-end generation.\n",
      "Setting `pad_token_id` to `eos_token_id`:128001 for open-end generation.\n"
     ]
    },
    {
     "name": "stdout",
     "output_type": "stream",
     "text": [
      "Updated article 161 in newspaper_ampel-aus_0-200_processed.json with evaluations.\n"
     ]
    },
    {
     "name": "stderr",
     "output_type": "stream",
     "text": [
      "Setting `pad_token_id` to `eos_token_id`:128001 for open-end generation.\n",
      "Setting `pad_token_id` to `eos_token_id`:128001 for open-end generation.\n",
      "Setting `pad_token_id` to `eos_token_id`:128001 for open-end generation.\n"
     ]
    },
    {
     "name": "stdout",
     "output_type": "stream",
     "text": [
      "Updated article 163 in newspaper_ampel-aus_0-200_processed.json with evaluations.\n"
     ]
    },
    {
     "name": "stderr",
     "output_type": "stream",
     "text": [
      "Setting `pad_token_id` to `eos_token_id`:128001 for open-end generation.\n",
      "Setting `pad_token_id` to `eos_token_id`:128001 for open-end generation.\n",
      "Setting `pad_token_id` to `eos_token_id`:128001 for open-end generation.\n"
     ]
    },
    {
     "name": "stdout",
     "output_type": "stream",
     "text": [
      "Updated article 166 in newspaper_ampel-aus_0-200_processed.json with evaluations.\n"
     ]
    },
    {
     "name": "stderr",
     "output_type": "stream",
     "text": [
      "Setting `pad_token_id` to `eos_token_id`:128001 for open-end generation.\n",
      "Setting `pad_token_id` to `eos_token_id`:128001 for open-end generation.\n",
      "Setting `pad_token_id` to `eos_token_id`:128001 for open-end generation.\n"
     ]
    },
    {
     "name": "stdout",
     "output_type": "stream",
     "text": [
      "Updated article 167 in newspaper_ampel-aus_0-200_processed.json with evaluations.\n"
     ]
    },
    {
     "name": "stderr",
     "output_type": "stream",
     "text": [
      "Setting `pad_token_id` to `eos_token_id`:128001 for open-end generation.\n",
      "Setting `pad_token_id` to `eos_token_id`:128001 for open-end generation.\n",
      "Setting `pad_token_id` to `eos_token_id`:128001 for open-end generation.\n"
     ]
    },
    {
     "name": "stdout",
     "output_type": "stream",
     "text": [
      "Updated article 168 in newspaper_ampel-aus_0-200_processed.json with evaluations.\n"
     ]
    },
    {
     "name": "stderr",
     "output_type": "stream",
     "text": [
      "Setting `pad_token_id` to `eos_token_id`:128001 for open-end generation.\n",
      "Setting `pad_token_id` to `eos_token_id`:128001 for open-end generation.\n",
      "Setting `pad_token_id` to `eos_token_id`:128001 for open-end generation.\n"
     ]
    },
    {
     "name": "stdout",
     "output_type": "stream",
     "text": [
      "Updated article 169 in newspaper_ampel-aus_0-200_processed.json with evaluations.\n"
     ]
    },
    {
     "name": "stderr",
     "output_type": "stream",
     "text": [
      "Setting `pad_token_id` to `eos_token_id`:128001 for open-end generation.\n",
      "Setting `pad_token_id` to `eos_token_id`:128001 for open-end generation.\n",
      "Setting `pad_token_id` to `eos_token_id`:128001 for open-end generation.\n"
     ]
    },
    {
     "name": "stdout",
     "output_type": "stream",
     "text": [
      "Updated article 170 in newspaper_ampel-aus_0-200_processed.json with evaluations.\n"
     ]
    },
    {
     "name": "stderr",
     "output_type": "stream",
     "text": [
      "Setting `pad_token_id` to `eos_token_id`:128001 for open-end generation.\n",
      "Setting `pad_token_id` to `eos_token_id`:128001 for open-end generation.\n",
      "Setting `pad_token_id` to `eos_token_id`:128001 for open-end generation.\n"
     ]
    },
    {
     "name": "stdout",
     "output_type": "stream",
     "text": [
      "Updated article 172 in newspaper_ampel-aus_0-200_processed.json with evaluations.\n"
     ]
    },
    {
     "name": "stderr",
     "output_type": "stream",
     "text": [
      "Setting `pad_token_id` to `eos_token_id`:128001 for open-end generation.\n",
      "Setting `pad_token_id` to `eos_token_id`:128001 for open-end generation.\n",
      "Setting `pad_token_id` to `eos_token_id`:128001 for open-end generation.\n"
     ]
    },
    {
     "name": "stdout",
     "output_type": "stream",
     "text": [
      "Updated article 174 in newspaper_ampel-aus_0-200_processed.json with evaluations.\n"
     ]
    },
    {
     "name": "stderr",
     "output_type": "stream",
     "text": [
      "Setting `pad_token_id` to `eos_token_id`:128001 for open-end generation.\n",
      "Setting `pad_token_id` to `eos_token_id`:128001 for open-end generation.\n",
      "Setting `pad_token_id` to `eos_token_id`:128001 for open-end generation.\n"
     ]
    },
    {
     "name": "stdout",
     "output_type": "stream",
     "text": [
      "Updated article 177 in newspaper_ampel-aus_0-200_processed.json with evaluations.\n"
     ]
    },
    {
     "name": "stderr",
     "output_type": "stream",
     "text": [
      "Setting `pad_token_id` to `eos_token_id`:128001 for open-end generation.\n",
      "Setting `pad_token_id` to `eos_token_id`:128001 for open-end generation.\n",
      "Setting `pad_token_id` to `eos_token_id`:128001 for open-end generation.\n"
     ]
    },
    {
     "name": "stdout",
     "output_type": "stream",
     "text": [
      "Updated article 194 in newspaper_ampel-aus_0-200_processed.json with evaluations.\n"
     ]
    },
    {
     "name": "stderr",
     "output_type": "stream",
     "text": [
      "Setting `pad_token_id` to `eos_token_id`:128001 for open-end generation.\n",
      "Setting `pad_token_id` to `eos_token_id`:128001 for open-end generation.\n",
      "Setting `pad_token_id` to `eos_token_id`:128001 for open-end generation.\n"
     ]
    },
    {
     "name": "stdout",
     "output_type": "stream",
     "text": [
      "Updated article 197 in newspaper_ampel-aus_0-200_processed.json with evaluations.\n"
     ]
    },
    {
     "name": "stderr",
     "output_type": "stream",
     "text": [
      "Setting `pad_token_id` to `eos_token_id`:128001 for open-end generation.\n",
      "Setting `pad_token_id` to `eos_token_id`:128001 for open-end generation.\n",
      "Setting `pad_token_id` to `eos_token_id`:128001 for open-end generation.\n"
     ]
    },
    {
     "name": "stdout",
     "output_type": "stream",
     "text": [
      "Updated article 198 in newspaper_ampel-aus_0-200_processed.json with evaluations.\n"
     ]
    },
    {
     "name": "stderr",
     "output_type": "stream",
     "text": [
      "Setting `pad_token_id` to `eos_token_id`:128001 for open-end generation.\n",
      "Setting `pad_token_id` to `eos_token_id`:128001 for open-end generation.\n",
      "Setting `pad_token_id` to `eos_token_id`:128001 for open-end generation.\n"
     ]
    },
    {
     "name": "stdout",
     "output_type": "stream",
     "text": [
      "Updated article 199 in newspaper_ampel-aus_0-200_processed.json with evaluations.\n"
     ]
    },
    {
     "name": "stderr",
     "output_type": "stream",
     "text": [
      "Setting `pad_token_id` to `eos_token_id`:128001 for open-end generation.\n",
      "Setting `pad_token_id` to `eos_token_id`:128001 for open-end generation.\n"
     ]
    },
    {
     "name": "stdout",
     "output_type": "stream",
     "text": [
      "Updated article 200 in newspaper_ampel-aus_0-200_processed.json with evaluations.\n"
     ]
    },
    {
     "name": "stderr",
     "output_type": "stream",
     "text": [
      "Setting `pad_token_id` to `eos_token_id`:128001 for open-end generation.\n",
      "Setting `pad_token_id` to `eos_token_id`:128001 for open-end generation.\n",
      "Setting `pad_token_id` to `eos_token_id`:128001 for open-end generation.\n",
      "Setting `pad_token_id` to `eos_token_id`:128001 for open-end generation.\n"
     ]
    },
    {
     "name": "stdout",
     "output_type": "stream",
     "text": [
      "Updated article 1 in newspaper_ampel-aus_201-300_processed.json with evaluations.\n"
     ]
    },
    {
     "name": "stderr",
     "output_type": "stream",
     "text": [
      "Setting `pad_token_id` to `eos_token_id`:128001 for open-end generation.\n",
      "Setting `pad_token_id` to `eos_token_id`:128001 for open-end generation.\n",
      "Setting `pad_token_id` to `eos_token_id`:128001 for open-end generation.\n"
     ]
    },
    {
     "name": "stdout",
     "output_type": "stream",
     "text": [
      "Updated article 2 in newspaper_ampel-aus_201-300_processed.json with evaluations.\n"
     ]
    },
    {
     "name": "stderr",
     "output_type": "stream",
     "text": [
      "Setting `pad_token_id` to `eos_token_id`:128001 for open-end generation.\n",
      "Setting `pad_token_id` to `eos_token_id`:128001 for open-end generation.\n",
      "Setting `pad_token_id` to `eos_token_id`:128001 for open-end generation.\n"
     ]
    },
    {
     "name": "stdout",
     "output_type": "stream",
     "text": [
      "Updated article 11 in newspaper_ampel-aus_201-300_processed.json with evaluations.\n"
     ]
    },
    {
     "name": "stderr",
     "output_type": "stream",
     "text": [
      "Setting `pad_token_id` to `eos_token_id`:128001 for open-end generation.\n",
      "Setting `pad_token_id` to `eos_token_id`:128001 for open-end generation.\n",
      "Setting `pad_token_id` to `eos_token_id`:128001 for open-end generation.\n"
     ]
    },
    {
     "name": "stdout",
     "output_type": "stream",
     "text": [
      "Updated article 12 in newspaper_ampel-aus_201-300_processed.json with evaluations.\n"
     ]
    },
    {
     "name": "stderr",
     "output_type": "stream",
     "text": [
      "Setting `pad_token_id` to `eos_token_id`:128001 for open-end generation.\n",
      "Setting `pad_token_id` to `eos_token_id`:128001 for open-end generation.\n",
      "Setting `pad_token_id` to `eos_token_id`:128001 for open-end generation.\n"
     ]
    },
    {
     "name": "stdout",
     "output_type": "stream",
     "text": [
      "Updated article 14 in newspaper_ampel-aus_201-300_processed.json with evaluations.\n"
     ]
    },
    {
     "name": "stderr",
     "output_type": "stream",
     "text": [
      "Setting `pad_token_id` to `eos_token_id`:128001 for open-end generation.\n",
      "Setting `pad_token_id` to `eos_token_id`:128001 for open-end generation.\n",
      "Setting `pad_token_id` to `eos_token_id`:128001 for open-end generation.\n"
     ]
    },
    {
     "name": "stdout",
     "output_type": "stream",
     "text": [
      "Updated article 16 in newspaper_ampel-aus_201-300_processed.json with evaluations.\n"
     ]
    },
    {
     "name": "stderr",
     "output_type": "stream",
     "text": [
      "Setting `pad_token_id` to `eos_token_id`:128001 for open-end generation.\n",
      "Setting `pad_token_id` to `eos_token_id`:128001 for open-end generation.\n",
      "Setting `pad_token_id` to `eos_token_id`:128001 for open-end generation.\n"
     ]
    },
    {
     "name": "stdout",
     "output_type": "stream",
     "text": [
      "Updated article 17 in newspaper_ampel-aus_201-300_processed.json with evaluations.\n"
     ]
    },
    {
     "name": "stderr",
     "output_type": "stream",
     "text": [
      "Setting `pad_token_id` to `eos_token_id`:128001 for open-end generation.\n",
      "Setting `pad_token_id` to `eos_token_id`:128001 for open-end generation.\n",
      "Setting `pad_token_id` to `eos_token_id`:128001 for open-end generation.\n"
     ]
    },
    {
     "name": "stdout",
     "output_type": "stream",
     "text": [
      "Updated article 18 in newspaper_ampel-aus_201-300_processed.json with evaluations.\n"
     ]
    },
    {
     "name": "stderr",
     "output_type": "stream",
     "text": [
      "Setting `pad_token_id` to `eos_token_id`:128001 for open-end generation.\n",
      "Setting `pad_token_id` to `eos_token_id`:128001 for open-end generation.\n",
      "Setting `pad_token_id` to `eos_token_id`:128001 for open-end generation.\n"
     ]
    },
    {
     "name": "stdout",
     "output_type": "stream",
     "text": [
      "Updated article 19 in newspaper_ampel-aus_201-300_processed.json with evaluations.\n"
     ]
    },
    {
     "name": "stderr",
     "output_type": "stream",
     "text": [
      "Setting `pad_token_id` to `eos_token_id`:128001 for open-end generation.\n",
      "Setting `pad_token_id` to `eos_token_id`:128001 for open-end generation.\n",
      "Setting `pad_token_id` to `eos_token_id`:128001 for open-end generation.\n"
     ]
    },
    {
     "name": "stdout",
     "output_type": "stream",
     "text": [
      "Updated article 22 in newspaper_ampel-aus_201-300_processed.json with evaluations.\n"
     ]
    },
    {
     "name": "stderr",
     "output_type": "stream",
     "text": [
      "Setting `pad_token_id` to `eos_token_id`:128001 for open-end generation.\n",
      "Setting `pad_token_id` to `eos_token_id`:128001 for open-end generation.\n",
      "Setting `pad_token_id` to `eos_token_id`:128001 for open-end generation.\n"
     ]
    },
    {
     "name": "stdout",
     "output_type": "stream",
     "text": [
      "Updated article 24 in newspaper_ampel-aus_201-300_processed.json with evaluations.\n"
     ]
    },
    {
     "name": "stderr",
     "output_type": "stream",
     "text": [
      "Setting `pad_token_id` to `eos_token_id`:128001 for open-end generation.\n",
      "Setting `pad_token_id` to `eos_token_id`:128001 for open-end generation.\n",
      "Setting `pad_token_id` to `eos_token_id`:128001 for open-end generation.\n"
     ]
    },
    {
     "name": "stdout",
     "output_type": "stream",
     "text": [
      "Updated article 27 in newspaper_ampel-aus_201-300_processed.json with evaluations.\n"
     ]
    },
    {
     "name": "stderr",
     "output_type": "stream",
     "text": [
      "Setting `pad_token_id` to `eos_token_id`:128001 for open-end generation.\n",
      "Setting `pad_token_id` to `eos_token_id`:128001 for open-end generation.\n",
      "Setting `pad_token_id` to `eos_token_id`:128001 for open-end generation.\n"
     ]
    },
    {
     "name": "stdout",
     "output_type": "stream",
     "text": [
      "Updated article 36 in newspaper_ampel-aus_201-300_processed.json with evaluations.\n"
     ]
    },
    {
     "name": "stderr",
     "output_type": "stream",
     "text": [
      "Setting `pad_token_id` to `eos_token_id`:128001 for open-end generation.\n",
      "Setting `pad_token_id` to `eos_token_id`:128001 for open-end generation.\n",
      "Setting `pad_token_id` to `eos_token_id`:128001 for open-end generation.\n"
     ]
    },
    {
     "name": "stdout",
     "output_type": "stream",
     "text": [
      "Updated article 37 in newspaper_ampel-aus_201-300_processed.json with evaluations.\n"
     ]
    },
    {
     "name": "stderr",
     "output_type": "stream",
     "text": [
      "Setting `pad_token_id` to `eos_token_id`:128001 for open-end generation.\n",
      "Setting `pad_token_id` to `eos_token_id`:128001 for open-end generation.\n",
      "Setting `pad_token_id` to `eos_token_id`:128001 for open-end generation.\n"
     ]
    },
    {
     "name": "stdout",
     "output_type": "stream",
     "text": [
      "Updated article 38 in newspaper_ampel-aus_201-300_processed.json with evaluations.\n"
     ]
    },
    {
     "name": "stderr",
     "output_type": "stream",
     "text": [
      "Setting `pad_token_id` to `eos_token_id`:128001 for open-end generation.\n",
      "Setting `pad_token_id` to `eos_token_id`:128001 for open-end generation.\n",
      "Setting `pad_token_id` to `eos_token_id`:128001 for open-end generation.\n"
     ]
    },
    {
     "name": "stdout",
     "output_type": "stream",
     "text": [
      "Updated article 43 in newspaper_ampel-aus_201-300_processed.json with evaluations.\n"
     ]
    },
    {
     "name": "stderr",
     "output_type": "stream",
     "text": [
      "Setting `pad_token_id` to `eos_token_id`:128001 for open-end generation.\n",
      "Setting `pad_token_id` to `eos_token_id`:128001 for open-end generation.\n",
      "Setting `pad_token_id` to `eos_token_id`:128001 for open-end generation.\n"
     ]
    },
    {
     "name": "stdout",
     "output_type": "stream",
     "text": [
      "Updated article 45 in newspaper_ampel-aus_201-300_processed.json with evaluations.\n"
     ]
    },
    {
     "name": "stderr",
     "output_type": "stream",
     "text": [
      "Setting `pad_token_id` to `eos_token_id`:128001 for open-end generation.\n",
      "Setting `pad_token_id` to `eos_token_id`:128001 for open-end generation.\n",
      "Setting `pad_token_id` to `eos_token_id`:128001 for open-end generation.\n"
     ]
    },
    {
     "name": "stdout",
     "output_type": "stream",
     "text": [
      "Updated article 49 in newspaper_ampel-aus_201-300_processed.json with evaluations.\n"
     ]
    },
    {
     "name": "stderr",
     "output_type": "stream",
     "text": [
      "Setting `pad_token_id` to `eos_token_id`:128001 for open-end generation.\n",
      "Setting `pad_token_id` to `eos_token_id`:128001 for open-end generation.\n",
      "Setting `pad_token_id` to `eos_token_id`:128001 for open-end generation.\n"
     ]
    },
    {
     "name": "stdout",
     "output_type": "stream",
     "text": [
      "Updated article 58 in newspaper_ampel-aus_201-300_processed.json with evaluations.\n"
     ]
    },
    {
     "name": "stderr",
     "output_type": "stream",
     "text": [
      "Setting `pad_token_id` to `eos_token_id`:128001 for open-end generation.\n",
      "Setting `pad_token_id` to `eos_token_id`:128001 for open-end generation.\n",
      "Setting `pad_token_id` to `eos_token_id`:128001 for open-end generation.\n"
     ]
    },
    {
     "name": "stdout",
     "output_type": "stream",
     "text": [
      "Updated article 59 in newspaper_ampel-aus_201-300_processed.json with evaluations.\n"
     ]
    },
    {
     "name": "stderr",
     "output_type": "stream",
     "text": [
      "Setting `pad_token_id` to `eos_token_id`:128001 for open-end generation.\n",
      "Setting `pad_token_id` to `eos_token_id`:128001 for open-end generation.\n",
      "Setting `pad_token_id` to `eos_token_id`:128001 for open-end generation.\n"
     ]
    },
    {
     "name": "stdout",
     "output_type": "stream",
     "text": [
      "Updated article 60 in newspaper_ampel-aus_201-300_processed.json with evaluations.\n"
     ]
    },
    {
     "name": "stderr",
     "output_type": "stream",
     "text": [
      "Setting `pad_token_id` to `eos_token_id`:128001 for open-end generation.\n",
      "Setting `pad_token_id` to `eos_token_id`:128001 for open-end generation.\n",
      "Setting `pad_token_id` to `eos_token_id`:128001 for open-end generation.\n"
     ]
    },
    {
     "name": "stdout",
     "output_type": "stream",
     "text": [
      "Updated article 61 in newspaper_ampel-aus_201-300_processed.json with evaluations.\n"
     ]
    },
    {
     "name": "stderr",
     "output_type": "stream",
     "text": [
      "Setting `pad_token_id` to `eos_token_id`:128001 for open-end generation.\n",
      "Setting `pad_token_id` to `eos_token_id`:128001 for open-end generation.\n",
      "Setting `pad_token_id` to `eos_token_id`:128001 for open-end generation.\n"
     ]
    },
    {
     "name": "stdout",
     "output_type": "stream",
     "text": [
      "Updated article 62 in newspaper_ampel-aus_201-300_processed.json with evaluations.\n"
     ]
    },
    {
     "name": "stderr",
     "output_type": "stream",
     "text": [
      "Setting `pad_token_id` to `eos_token_id`:128001 for open-end generation.\n",
      "Setting `pad_token_id` to `eos_token_id`:128001 for open-end generation.\n",
      "Setting `pad_token_id` to `eos_token_id`:128001 for open-end generation.\n"
     ]
    },
    {
     "name": "stdout",
     "output_type": "stream",
     "text": [
      "Updated article 63 in newspaper_ampel-aus_201-300_processed.json with evaluations.\n"
     ]
    },
    {
     "name": "stderr",
     "output_type": "stream",
     "text": [
      "Setting `pad_token_id` to `eos_token_id`:128001 for open-end generation.\n",
      "Setting `pad_token_id` to `eos_token_id`:128001 for open-end generation.\n",
      "Setting `pad_token_id` to `eos_token_id`:128001 for open-end generation.\n"
     ]
    },
    {
     "name": "stdout",
     "output_type": "stream",
     "text": [
      "Updated article 65 in newspaper_ampel-aus_201-300_processed.json with evaluations.\n"
     ]
    },
    {
     "name": "stderr",
     "output_type": "stream",
     "text": [
      "Setting `pad_token_id` to `eos_token_id`:128001 for open-end generation.\n",
      "Setting `pad_token_id` to `eos_token_id`:128001 for open-end generation.\n",
      "Setting `pad_token_id` to `eos_token_id`:128001 for open-end generation.\n"
     ]
    },
    {
     "name": "stdout",
     "output_type": "stream",
     "text": [
      "Updated article 68 in newspaper_ampel-aus_201-300_processed.json with evaluations.\n"
     ]
    },
    {
     "name": "stderr",
     "output_type": "stream",
     "text": [
      "Setting `pad_token_id` to `eos_token_id`:128001 for open-end generation.\n",
      "Setting `pad_token_id` to `eos_token_id`:128001 for open-end generation.\n",
      "Setting `pad_token_id` to `eos_token_id`:128001 for open-end generation.\n"
     ]
    },
    {
     "name": "stdout",
     "output_type": "stream",
     "text": [
      "Updated article 69 in newspaper_ampel-aus_201-300_processed.json with evaluations.\n"
     ]
    },
    {
     "name": "stderr",
     "output_type": "stream",
     "text": [
      "Setting `pad_token_id` to `eos_token_id`:128001 for open-end generation.\n",
      "Setting `pad_token_id` to `eos_token_id`:128001 for open-end generation.\n",
      "Setting `pad_token_id` to `eos_token_id`:128001 for open-end generation.\n"
     ]
    },
    {
     "name": "stdout",
     "output_type": "stream",
     "text": [
      "Updated article 70 in newspaper_ampel-aus_201-300_processed.json with evaluations.\n"
     ]
    },
    {
     "name": "stderr",
     "output_type": "stream",
     "text": [
      "Setting `pad_token_id` to `eos_token_id`:128001 for open-end generation.\n",
      "Setting `pad_token_id` to `eos_token_id`:128001 for open-end generation.\n",
      "Setting `pad_token_id` to `eos_token_id`:128001 for open-end generation.\n"
     ]
    },
    {
     "name": "stdout",
     "output_type": "stream",
     "text": [
      "Updated article 75 in newspaper_ampel-aus_201-300_processed.json with evaluations.\n"
     ]
    },
    {
     "name": "stderr",
     "output_type": "stream",
     "text": [
      "Setting `pad_token_id` to `eos_token_id`:128001 for open-end generation.\n",
      "Setting `pad_token_id` to `eos_token_id`:128001 for open-end generation.\n",
      "Setting `pad_token_id` to `eos_token_id`:128001 for open-end generation.\n"
     ]
    },
    {
     "name": "stdout",
     "output_type": "stream",
     "text": [
      "Updated article 77 in newspaper_ampel-aus_201-300_processed.json with evaluations.\n"
     ]
    },
    {
     "name": "stderr",
     "output_type": "stream",
     "text": [
      "Setting `pad_token_id` to `eos_token_id`:128001 for open-end generation.\n",
      "Setting `pad_token_id` to `eos_token_id`:128001 for open-end generation.\n",
      "Setting `pad_token_id` to `eos_token_id`:128001 for open-end generation.\n"
     ]
    },
    {
     "name": "stdout",
     "output_type": "stream",
     "text": [
      "Updated article 86 in newspaper_ampel-aus_201-300_processed.json with evaluations.\n"
     ]
    },
    {
     "name": "stderr",
     "output_type": "stream",
     "text": [
      "Setting `pad_token_id` to `eos_token_id`:128001 for open-end generation.\n",
      "Setting `pad_token_id` to `eos_token_id`:128001 for open-end generation.\n",
      "Setting `pad_token_id` to `eos_token_id`:128001 for open-end generation.\n"
     ]
    },
    {
     "name": "stdout",
     "output_type": "stream",
     "text": [
      "Updated article 87 in newspaper_ampel-aus_201-300_processed.json with evaluations.\n"
     ]
    },
    {
     "name": "stderr",
     "output_type": "stream",
     "text": [
      "Setting `pad_token_id` to `eos_token_id`:128001 for open-end generation.\n",
      "Setting `pad_token_id` to `eos_token_id`:128001 for open-end generation.\n",
      "Setting `pad_token_id` to `eos_token_id`:128001 for open-end generation.\n"
     ]
    },
    {
     "name": "stdout",
     "output_type": "stream",
     "text": [
      "Updated article 88 in newspaper_ampel-aus_201-300_processed.json with evaluations.\n"
     ]
    },
    {
     "name": "stderr",
     "output_type": "stream",
     "text": [
      "Setting `pad_token_id` to `eos_token_id`:128001 for open-end generation.\n",
      "Setting `pad_token_id` to `eos_token_id`:128001 for open-end generation.\n",
      "Setting `pad_token_id` to `eos_token_id`:128001 for open-end generation.\n"
     ]
    },
    {
     "name": "stdout",
     "output_type": "stream",
     "text": [
      "Updated article 90 in newspaper_ampel-aus_201-300_processed.json with evaluations.\n"
     ]
    },
    {
     "name": "stderr",
     "output_type": "stream",
     "text": [
      "Setting `pad_token_id` to `eos_token_id`:128001 for open-end generation.\n",
      "Setting `pad_token_id` to `eos_token_id`:128001 for open-end generation.\n",
      "Setting `pad_token_id` to `eos_token_id`:128001 for open-end generation.\n"
     ]
    },
    {
     "name": "stdout",
     "output_type": "stream",
     "text": [
      "Updated article 92 in newspaper_ampel-aus_201-300_processed.json with evaluations.\n"
     ]
    },
    {
     "name": "stderr",
     "output_type": "stream",
     "text": [
      "Setting `pad_token_id` to `eos_token_id`:128001 for open-end generation.\n",
      "Setting `pad_token_id` to `eos_token_id`:128001 for open-end generation.\n",
      "Setting `pad_token_id` to `eos_token_id`:128001 for open-end generation.\n"
     ]
    },
    {
     "name": "stdout",
     "output_type": "stream",
     "text": [
      "Updated article 93 in newspaper_ampel-aus_201-300_processed.json with evaluations.\n"
     ]
    },
    {
     "name": "stderr",
     "output_type": "stream",
     "text": [
      "Setting `pad_token_id` to `eos_token_id`:128001 for open-end generation.\n",
      "Setting `pad_token_id` to `eos_token_id`:128001 for open-end generation.\n",
      "Setting `pad_token_id` to `eos_token_id`:128001 for open-end generation.\n"
     ]
    },
    {
     "name": "stdout",
     "output_type": "stream",
     "text": [
      "Updated article 94 in newspaper_ampel-aus_201-300_processed.json with evaluations.\n"
     ]
    },
    {
     "name": "stderr",
     "output_type": "stream",
     "text": [
      "Setting `pad_token_id` to `eos_token_id`:128001 for open-end generation.\n",
      "Setting `pad_token_id` to `eos_token_id`:128001 for open-end generation.\n"
     ]
    },
    {
     "name": "stdout",
     "output_type": "stream",
     "text": [
      "Updated article 99 in newspaper_ampel-aus_201-300_processed.json with evaluations.\n"
     ]
    },
    {
     "name": "stderr",
     "output_type": "stream",
     "text": [
      "Setting `pad_token_id` to `eos_token_id`:128001 for open-end generation.\n",
      "Setting `pad_token_id` to `eos_token_id`:128001 for open-end generation.\n",
      "Setting `pad_token_id` to `eos_token_id`:128001 for open-end generation.\n",
      "Setting `pad_token_id` to `eos_token_id`:128001 for open-end generation.\n"
     ]
    },
    {
     "name": "stdout",
     "output_type": "stream",
     "text": [
      "Updated article 1 in newspaper_ampel-aus_300-400_processed.json with evaluations.\n"
     ]
    },
    {
     "name": "stderr",
     "output_type": "stream",
     "text": [
      "Setting `pad_token_id` to `eos_token_id`:128001 for open-end generation.\n",
      "Setting `pad_token_id` to `eos_token_id`:128001 for open-end generation.\n",
      "Setting `pad_token_id` to `eos_token_id`:128001 for open-end generation.\n"
     ]
    },
    {
     "name": "stdout",
     "output_type": "stream",
     "text": [
      "Updated article 2 in newspaper_ampel-aus_300-400_processed.json with evaluations.\n"
     ]
    },
    {
     "name": "stderr",
     "output_type": "stream",
     "text": [
      "Setting `pad_token_id` to `eos_token_id`:128001 for open-end generation.\n",
      "Setting `pad_token_id` to `eos_token_id`:128001 for open-end generation.\n",
      "Setting `pad_token_id` to `eos_token_id`:128001 for open-end generation.\n"
     ]
    },
    {
     "name": "stdout",
     "output_type": "stream",
     "text": [
      "Updated article 10 in newspaper_ampel-aus_300-400_processed.json with evaluations.\n"
     ]
    },
    {
     "name": "stderr",
     "output_type": "stream",
     "text": [
      "Setting `pad_token_id` to `eos_token_id`:128001 for open-end generation.\n",
      "Setting `pad_token_id` to `eos_token_id`:128001 for open-end generation.\n",
      "Setting `pad_token_id` to `eos_token_id`:128001 for open-end generation.\n"
     ]
    },
    {
     "name": "stdout",
     "output_type": "stream",
     "text": [
      "Updated article 12 in newspaper_ampel-aus_300-400_processed.json with evaluations.\n"
     ]
    },
    {
     "name": "stderr",
     "output_type": "stream",
     "text": [
      "Setting `pad_token_id` to `eos_token_id`:128001 for open-end generation.\n",
      "Setting `pad_token_id` to `eos_token_id`:128001 for open-end generation.\n",
      "Setting `pad_token_id` to `eos_token_id`:128001 for open-end generation.\n"
     ]
    },
    {
     "name": "stdout",
     "output_type": "stream",
     "text": [
      "Updated article 15 in newspaper_ampel-aus_300-400_processed.json with evaluations.\n"
     ]
    },
    {
     "name": "stderr",
     "output_type": "stream",
     "text": [
      "Setting `pad_token_id` to `eos_token_id`:128001 for open-end generation.\n",
      "Setting `pad_token_id` to `eos_token_id`:128001 for open-end generation.\n",
      "Setting `pad_token_id` to `eos_token_id`:128001 for open-end generation.\n"
     ]
    },
    {
     "name": "stdout",
     "output_type": "stream",
     "text": [
      "Updated article 17 in newspaper_ampel-aus_300-400_processed.json with evaluations.\n"
     ]
    },
    {
     "name": "stderr",
     "output_type": "stream",
     "text": [
      "Setting `pad_token_id` to `eos_token_id`:128001 for open-end generation.\n",
      "Setting `pad_token_id` to `eos_token_id`:128001 for open-end generation.\n",
      "Setting `pad_token_id` to `eos_token_id`:128001 for open-end generation.\n"
     ]
    },
    {
     "name": "stdout",
     "output_type": "stream",
     "text": [
      "Updated article 18 in newspaper_ampel-aus_300-400_processed.json with evaluations.\n"
     ]
    },
    {
     "name": "stderr",
     "output_type": "stream",
     "text": [
      "Setting `pad_token_id` to `eos_token_id`:128001 for open-end generation.\n",
      "Setting `pad_token_id` to `eos_token_id`:128001 for open-end generation.\n",
      "Setting `pad_token_id` to `eos_token_id`:128001 for open-end generation.\n"
     ]
    },
    {
     "name": "stdout",
     "output_type": "stream",
     "text": [
      "Updated article 19 in newspaper_ampel-aus_300-400_processed.json with evaluations.\n"
     ]
    },
    {
     "name": "stderr",
     "output_type": "stream",
     "text": [
      "Setting `pad_token_id` to `eos_token_id`:128001 for open-end generation.\n",
      "Setting `pad_token_id` to `eos_token_id`:128001 for open-end generation.\n",
      "Setting `pad_token_id` to `eos_token_id`:128001 for open-end generation.\n"
     ]
    },
    {
     "name": "stdout",
     "output_type": "stream",
     "text": [
      "Updated article 20 in newspaper_ampel-aus_300-400_processed.json with evaluations.\n"
     ]
    },
    {
     "name": "stderr",
     "output_type": "stream",
     "text": [
      "Setting `pad_token_id` to `eos_token_id`:128001 for open-end generation.\n",
      "Setting `pad_token_id` to `eos_token_id`:128001 for open-end generation.\n",
      "Setting `pad_token_id` to `eos_token_id`:128001 for open-end generation.\n"
     ]
    },
    {
     "name": "stdout",
     "output_type": "stream",
     "text": [
      "Updated article 23 in newspaper_ampel-aus_300-400_processed.json with evaluations.\n"
     ]
    },
    {
     "name": "stderr",
     "output_type": "stream",
     "text": [
      "Setting `pad_token_id` to `eos_token_id`:128001 for open-end generation.\n",
      "Setting `pad_token_id` to `eos_token_id`:128001 for open-end generation.\n",
      "Setting `pad_token_id` to `eos_token_id`:128001 for open-end generation.\n"
     ]
    },
    {
     "name": "stdout",
     "output_type": "stream",
     "text": [
      "Updated article 25 in newspaper_ampel-aus_300-400_processed.json with evaluations.\n"
     ]
    },
    {
     "name": "stderr",
     "output_type": "stream",
     "text": [
      "Setting `pad_token_id` to `eos_token_id`:128001 for open-end generation.\n",
      "Setting `pad_token_id` to `eos_token_id`:128001 for open-end generation.\n",
      "Setting `pad_token_id` to `eos_token_id`:128001 for open-end generation.\n"
     ]
    },
    {
     "name": "stdout",
     "output_type": "stream",
     "text": [
      "Updated article 29 in newspaper_ampel-aus_300-400_processed.json with evaluations.\n"
     ]
    },
    {
     "name": "stderr",
     "output_type": "stream",
     "text": [
      "Setting `pad_token_id` to `eos_token_id`:128001 for open-end generation.\n",
      "Setting `pad_token_id` to `eos_token_id`:128001 for open-end generation.\n",
      "Setting `pad_token_id` to `eos_token_id`:128001 for open-end generation.\n"
     ]
    },
    {
     "name": "stdout",
     "output_type": "stream",
     "text": [
      "Updated article 37 in newspaper_ampel-aus_300-400_processed.json with evaluations.\n"
     ]
    },
    {
     "name": "stderr",
     "output_type": "stream",
     "text": [
      "Setting `pad_token_id` to `eos_token_id`:128001 for open-end generation.\n",
      "Setting `pad_token_id` to `eos_token_id`:128001 for open-end generation.\n",
      "Setting `pad_token_id` to `eos_token_id`:128001 for open-end generation.\n"
     ]
    },
    {
     "name": "stdout",
     "output_type": "stream",
     "text": [
      "Updated article 38 in newspaper_ampel-aus_300-400_processed.json with evaluations.\n"
     ]
    },
    {
     "name": "stderr",
     "output_type": "stream",
     "text": [
      "Setting `pad_token_id` to `eos_token_id`:128001 for open-end generation.\n",
      "Setting `pad_token_id` to `eos_token_id`:128001 for open-end generation.\n",
      "Setting `pad_token_id` to `eos_token_id`:128001 for open-end generation.\n"
     ]
    },
    {
     "name": "stdout",
     "output_type": "stream",
     "text": [
      "Updated article 39 in newspaper_ampel-aus_300-400_processed.json with evaluations.\n"
     ]
    },
    {
     "name": "stderr",
     "output_type": "stream",
     "text": [
      "Setting `pad_token_id` to `eos_token_id`:128001 for open-end generation.\n",
      "Setting `pad_token_id` to `eos_token_id`:128001 for open-end generation.\n",
      "Setting `pad_token_id` to `eos_token_id`:128001 for open-end generation.\n"
     ]
    },
    {
     "name": "stdout",
     "output_type": "stream",
     "text": [
      "Updated article 43 in newspaper_ampel-aus_300-400_processed.json with evaluations.\n"
     ]
    },
    {
     "name": "stderr",
     "output_type": "stream",
     "text": [
      "Setting `pad_token_id` to `eos_token_id`:128001 for open-end generation.\n",
      "Setting `pad_token_id` to `eos_token_id`:128001 for open-end generation.\n",
      "Setting `pad_token_id` to `eos_token_id`:128001 for open-end generation.\n"
     ]
    },
    {
     "name": "stdout",
     "output_type": "stream",
     "text": [
      "Updated article 45 in newspaper_ampel-aus_300-400_processed.json with evaluations.\n"
     ]
    },
    {
     "name": "stderr",
     "output_type": "stream",
     "text": [
      "Setting `pad_token_id` to `eos_token_id`:128001 for open-end generation.\n",
      "Setting `pad_token_id` to `eos_token_id`:128001 for open-end generation.\n",
      "Setting `pad_token_id` to `eos_token_id`:128001 for open-end generation.\n"
     ]
    },
    {
     "name": "stdout",
     "output_type": "stream",
     "text": [
      "Updated article 50 in newspaper_ampel-aus_300-400_processed.json with evaluations.\n"
     ]
    },
    {
     "name": "stderr",
     "output_type": "stream",
     "text": [
      "Setting `pad_token_id` to `eos_token_id`:128001 for open-end generation.\n",
      "Setting `pad_token_id` to `eos_token_id`:128001 for open-end generation.\n",
      "Setting `pad_token_id` to `eos_token_id`:128001 for open-end generation.\n"
     ]
    },
    {
     "name": "stdout",
     "output_type": "stream",
     "text": [
      "Updated article 59 in newspaper_ampel-aus_300-400_processed.json with evaluations.\n"
     ]
    },
    {
     "name": "stderr",
     "output_type": "stream",
     "text": [
      "Setting `pad_token_id` to `eos_token_id`:128001 for open-end generation.\n",
      "Setting `pad_token_id` to `eos_token_id`:128001 for open-end generation.\n",
      "Setting `pad_token_id` to `eos_token_id`:128001 for open-end generation.\n"
     ]
    },
    {
     "name": "stdout",
     "output_type": "stream",
     "text": [
      "Updated article 60 in newspaper_ampel-aus_300-400_processed.json with evaluations.\n"
     ]
    },
    {
     "name": "stderr",
     "output_type": "stream",
     "text": [
      "Setting `pad_token_id` to `eos_token_id`:128001 for open-end generation.\n",
      "Setting `pad_token_id` to `eos_token_id`:128001 for open-end generation.\n",
      "Setting `pad_token_id` to `eos_token_id`:128001 for open-end generation.\n"
     ]
    },
    {
     "name": "stdout",
     "output_type": "stream",
     "text": [
      "Updated article 61 in newspaper_ampel-aus_300-400_processed.json with evaluations.\n"
     ]
    },
    {
     "name": "stderr",
     "output_type": "stream",
     "text": [
      "Setting `pad_token_id` to `eos_token_id`:128001 for open-end generation.\n",
      "Setting `pad_token_id` to `eos_token_id`:128001 for open-end generation.\n",
      "Setting `pad_token_id` to `eos_token_id`:128001 for open-end generation.\n"
     ]
    },
    {
     "name": "stdout",
     "output_type": "stream",
     "text": [
      "Updated article 62 in newspaper_ampel-aus_300-400_processed.json with evaluations.\n"
     ]
    },
    {
     "name": "stderr",
     "output_type": "stream",
     "text": [
      "Setting `pad_token_id` to `eos_token_id`:128001 for open-end generation.\n",
      "Setting `pad_token_id` to `eos_token_id`:128001 for open-end generation.\n",
      "Setting `pad_token_id` to `eos_token_id`:128001 for open-end generation.\n"
     ]
    },
    {
     "name": "stdout",
     "output_type": "stream",
     "text": [
      "Updated article 63 in newspaper_ampel-aus_300-400_processed.json with evaluations.\n"
     ]
    },
    {
     "name": "stderr",
     "output_type": "stream",
     "text": [
      "Setting `pad_token_id` to `eos_token_id`:128001 for open-end generation.\n",
      "Setting `pad_token_id` to `eos_token_id`:128001 for open-end generation.\n",
      "Setting `pad_token_id` to `eos_token_id`:128001 for open-end generation.\n"
     ]
    },
    {
     "name": "stdout",
     "output_type": "stream",
     "text": [
      "Updated article 64 in newspaper_ampel-aus_300-400_processed.json with evaluations.\n"
     ]
    },
    {
     "name": "stderr",
     "output_type": "stream",
     "text": [
      "Setting `pad_token_id` to `eos_token_id`:128001 for open-end generation.\n",
      "Setting `pad_token_id` to `eos_token_id`:128001 for open-end generation.\n",
      "Setting `pad_token_id` to `eos_token_id`:128001 for open-end generation.\n"
     ]
    },
    {
     "name": "stdout",
     "output_type": "stream",
     "text": [
      "Updated article 66 in newspaper_ampel-aus_300-400_processed.json with evaluations.\n"
     ]
    },
    {
     "name": "stderr",
     "output_type": "stream",
     "text": [
      "Setting `pad_token_id` to `eos_token_id`:128001 for open-end generation.\n",
      "Setting `pad_token_id` to `eos_token_id`:128001 for open-end generation.\n",
      "Setting `pad_token_id` to `eos_token_id`:128001 for open-end generation.\n"
     ]
    },
    {
     "name": "stdout",
     "output_type": "stream",
     "text": [
      "Updated article 69 in newspaper_ampel-aus_300-400_processed.json with evaluations.\n"
     ]
    },
    {
     "name": "stderr",
     "output_type": "stream",
     "text": [
      "Setting `pad_token_id` to `eos_token_id`:128001 for open-end generation.\n",
      "Setting `pad_token_id` to `eos_token_id`:128001 for open-end generation.\n",
      "Setting `pad_token_id` to `eos_token_id`:128001 for open-end generation.\n"
     ]
    },
    {
     "name": "stdout",
     "output_type": "stream",
     "text": [
      "Updated article 70 in newspaper_ampel-aus_300-400_processed.json with evaluations.\n"
     ]
    },
    {
     "name": "stderr",
     "output_type": "stream",
     "text": [
      "Setting `pad_token_id` to `eos_token_id`:128001 for open-end generation.\n",
      "Setting `pad_token_id` to `eos_token_id`:128001 for open-end generation.\n",
      "Setting `pad_token_id` to `eos_token_id`:128001 for open-end generation.\n"
     ]
    },
    {
     "name": "stdout",
     "output_type": "stream",
     "text": [
      "Updated article 72 in newspaper_ampel-aus_300-400_processed.json with evaluations.\n"
     ]
    },
    {
     "name": "stderr",
     "output_type": "stream",
     "text": [
      "Setting `pad_token_id` to `eos_token_id`:128001 for open-end generation.\n",
      "Setting `pad_token_id` to `eos_token_id`:128001 for open-end generation.\n",
      "Setting `pad_token_id` to `eos_token_id`:128001 for open-end generation.\n"
     ]
    },
    {
     "name": "stdout",
     "output_type": "stream",
     "text": [
      "Updated article 73 in newspaper_ampel-aus_300-400_processed.json with evaluations.\n"
     ]
    },
    {
     "name": "stderr",
     "output_type": "stream",
     "text": [
      "Setting `pad_token_id` to `eos_token_id`:128001 for open-end generation.\n",
      "Setting `pad_token_id` to `eos_token_id`:128001 for open-end generation.\n",
      "Setting `pad_token_id` to `eos_token_id`:128001 for open-end generation.\n"
     ]
    },
    {
     "name": "stdout",
     "output_type": "stream",
     "text": [
      "Updated article 78 in newspaper_ampel-aus_300-400_processed.json with evaluations.\n"
     ]
    },
    {
     "name": "stderr",
     "output_type": "stream",
     "text": [
      "Setting `pad_token_id` to `eos_token_id`:128001 for open-end generation.\n",
      "Setting `pad_token_id` to `eos_token_id`:128001 for open-end generation.\n",
      "Setting `pad_token_id` to `eos_token_id`:128001 for open-end generation.\n"
     ]
    },
    {
     "name": "stdout",
     "output_type": "stream",
     "text": [
      "Updated article 87 in newspaper_ampel-aus_300-400_processed.json with evaluations.\n"
     ]
    },
    {
     "name": "stderr",
     "output_type": "stream",
     "text": [
      "Setting `pad_token_id` to `eos_token_id`:128001 for open-end generation.\n",
      "Setting `pad_token_id` to `eos_token_id`:128001 for open-end generation.\n",
      "Setting `pad_token_id` to `eos_token_id`:128001 for open-end generation.\n"
     ]
    },
    {
     "name": "stdout",
     "output_type": "stream",
     "text": [
      "Updated article 89 in newspaper_ampel-aus_300-400_processed.json with evaluations.\n"
     ]
    },
    {
     "name": "stderr",
     "output_type": "stream",
     "text": [
      "Setting `pad_token_id` to `eos_token_id`:128001 for open-end generation.\n",
      "Setting `pad_token_id` to `eos_token_id`:128001 for open-end generation.\n",
      "Setting `pad_token_id` to `eos_token_id`:128001 for open-end generation.\n"
     ]
    },
    {
     "name": "stdout",
     "output_type": "stream",
     "text": [
      "Updated article 91 in newspaper_ampel-aus_300-400_processed.json with evaluations.\n"
     ]
    },
    {
     "name": "stderr",
     "output_type": "stream",
     "text": [
      "Setting `pad_token_id` to `eos_token_id`:128001 for open-end generation.\n",
      "Setting `pad_token_id` to `eos_token_id`:128001 for open-end generation.\n",
      "Setting `pad_token_id` to `eos_token_id`:128001 for open-end generation.\n"
     ]
    },
    {
     "name": "stdout",
     "output_type": "stream",
     "text": [
      "Updated article 92 in newspaper_ampel-aus_300-400_processed.json with evaluations.\n"
     ]
    },
    {
     "name": "stderr",
     "output_type": "stream",
     "text": [
      "Setting `pad_token_id` to `eos_token_id`:128001 for open-end generation.\n",
      "Setting `pad_token_id` to `eos_token_id`:128001 for open-end generation.\n",
      "Setting `pad_token_id` to `eos_token_id`:128001 for open-end generation.\n"
     ]
    },
    {
     "name": "stdout",
     "output_type": "stream",
     "text": [
      "Updated article 93 in newspaper_ampel-aus_300-400_processed.json with evaluations.\n"
     ]
    },
    {
     "name": "stderr",
     "output_type": "stream",
     "text": [
      "Setting `pad_token_id` to `eos_token_id`:128001 for open-end generation.\n",
      "Setting `pad_token_id` to `eos_token_id`:128001 for open-end generation.\n",
      "Setting `pad_token_id` to `eos_token_id`:128001 for open-end generation.\n"
     ]
    },
    {
     "name": "stdout",
     "output_type": "stream",
     "text": [
      "Updated article 94 in newspaper_ampel-aus_300-400_processed.json with evaluations.\n"
     ]
    },
    {
     "name": "stderr",
     "output_type": "stream",
     "text": [
      "Setting `pad_token_id` to `eos_token_id`:128001 for open-end generation.\n",
      "Setting `pad_token_id` to `eos_token_id`:128001 for open-end generation.\n",
      "Setting `pad_token_id` to `eos_token_id`:128001 for open-end generation.\n"
     ]
    },
    {
     "name": "stdout",
     "output_type": "stream",
     "text": [
      "Updated article 95 in newspaper_ampel-aus_300-400_processed.json with evaluations.\n"
     ]
    },
    {
     "name": "stderr",
     "output_type": "stream",
     "text": [
      "Setting `pad_token_id` to `eos_token_id`:128001 for open-end generation.\n",
      "Setting `pad_token_id` to `eos_token_id`:128001 for open-end generation.\n"
     ]
    },
    {
     "name": "stdout",
     "output_type": "stream",
     "text": [
      "Updated article 96 in newspaper_ampel-aus_300-400_processed.json with evaluations.\n"
     ]
    },
    {
     "name": "stderr",
     "output_type": "stream",
     "text": [
      "Setting `pad_token_id` to `eos_token_id`:128001 for open-end generation.\n",
      "Setting `pad_token_id` to `eos_token_id`:128001 for open-end generation.\n",
      "Setting `pad_token_id` to `eos_token_id`:128001 for open-end generation.\n",
      "Setting `pad_token_id` to `eos_token_id`:128001 for open-end generation.\n"
     ]
    },
    {
     "name": "stdout",
     "output_type": "stream",
     "text": [
      "Updated article 2 in newspaper_D-Day_processed.json with evaluations.\n"
     ]
    },
    {
     "name": "stderr",
     "output_type": "stream",
     "text": [
      "Setting `pad_token_id` to `eos_token_id`:128001 for open-end generation.\n",
      "Setting `pad_token_id` to `eos_token_id`:128001 for open-end generation.\n",
      "Setting `pad_token_id` to `eos_token_id`:128001 for open-end generation.\n"
     ]
    },
    {
     "name": "stdout",
     "output_type": "stream",
     "text": [
      "Updated article 4 in newspaper_D-Day_processed.json with evaluations.\n"
     ]
    },
    {
     "name": "stderr",
     "output_type": "stream",
     "text": [
      "Setting `pad_token_id` to `eos_token_id`:128001 for open-end generation.\n",
      "Setting `pad_token_id` to `eos_token_id`:128001 for open-end generation.\n",
      "Setting `pad_token_id` to `eos_token_id`:128001 for open-end generation.\n"
     ]
    },
    {
     "name": "stdout",
     "output_type": "stream",
     "text": [
      "Updated article 5 in newspaper_D-Day_processed.json with evaluations.\n"
     ]
    },
    {
     "name": "stderr",
     "output_type": "stream",
     "text": [
      "Setting `pad_token_id` to `eos_token_id`:128001 for open-end generation.\n",
      "Setting `pad_token_id` to `eos_token_id`:128001 for open-end generation.\n",
      "Setting `pad_token_id` to `eos_token_id`:128001 for open-end generation.\n"
     ]
    },
    {
     "name": "stdout",
     "output_type": "stream",
     "text": [
      "Updated article 6 in newspaper_D-Day_processed.json with evaluations.\n"
     ]
    },
    {
     "name": "stderr",
     "output_type": "stream",
     "text": [
      "Setting `pad_token_id` to `eos_token_id`:128001 for open-end generation.\n",
      "Setting `pad_token_id` to `eos_token_id`:128001 for open-end generation.\n",
      "Setting `pad_token_id` to `eos_token_id`:128001 for open-end generation.\n"
     ]
    },
    {
     "name": "stdout",
     "output_type": "stream",
     "text": [
      "Updated article 7 in newspaper_D-Day_processed.json with evaluations.\n"
     ]
    },
    {
     "name": "stderr",
     "output_type": "stream",
     "text": [
      "Setting `pad_token_id` to `eos_token_id`:128001 for open-end generation.\n",
      "Setting `pad_token_id` to `eos_token_id`:128001 for open-end generation.\n",
      "Setting `pad_token_id` to `eos_token_id`:128001 for open-end generation.\n"
     ]
    },
    {
     "name": "stdout",
     "output_type": "stream",
     "text": [
      "Updated article 9 in newspaper_D-Day_processed.json with evaluations.\n"
     ]
    },
    {
     "name": "stderr",
     "output_type": "stream",
     "text": [
      "Setting `pad_token_id` to `eos_token_id`:128001 for open-end generation.\n",
      "Setting `pad_token_id` to `eos_token_id`:128001 for open-end generation.\n",
      "Setting `pad_token_id` to `eos_token_id`:128001 for open-end generation.\n"
     ]
    },
    {
     "name": "stdout",
     "output_type": "stream",
     "text": [
      "Updated article 10 in newspaper_D-Day_processed.json with evaluations.\n"
     ]
    },
    {
     "name": "stderr",
     "output_type": "stream",
     "text": [
      "Setting `pad_token_id` to `eos_token_id`:128001 for open-end generation.\n",
      "Setting `pad_token_id` to `eos_token_id`:128001 for open-end generation.\n",
      "Setting `pad_token_id` to `eos_token_id`:128001 for open-end generation.\n"
     ]
    },
    {
     "name": "stdout",
     "output_type": "stream",
     "text": [
      "Updated article 11 in newspaper_D-Day_processed.json with evaluations.\n"
     ]
    },
    {
     "name": "stderr",
     "output_type": "stream",
     "text": [
      "Setting `pad_token_id` to `eos_token_id`:128001 for open-end generation.\n",
      "Setting `pad_token_id` to `eos_token_id`:128001 for open-end generation.\n",
      "Setting `pad_token_id` to `eos_token_id`:128001 for open-end generation.\n"
     ]
    },
    {
     "name": "stdout",
     "output_type": "stream",
     "text": [
      "Updated article 12 in newspaper_D-Day_processed.json with evaluations.\n"
     ]
    },
    {
     "name": "stderr",
     "output_type": "stream",
     "text": [
      "Setting `pad_token_id` to `eos_token_id`:128001 for open-end generation.\n",
      "Setting `pad_token_id` to `eos_token_id`:128001 for open-end generation.\n",
      "Setting `pad_token_id` to `eos_token_id`:128001 for open-end generation.\n"
     ]
    },
    {
     "name": "stdout",
     "output_type": "stream",
     "text": [
      "Updated article 13 in newspaper_D-Day_processed.json with evaluations.\n"
     ]
    },
    {
     "name": "stderr",
     "output_type": "stream",
     "text": [
      "Setting `pad_token_id` to `eos_token_id`:128001 for open-end generation.\n",
      "Setting `pad_token_id` to `eos_token_id`:128001 for open-end generation.\n",
      "Setting `pad_token_id` to `eos_token_id`:128001 for open-end generation.\n"
     ]
    },
    {
     "name": "stdout",
     "output_type": "stream",
     "text": [
      "Updated article 14 in newspaper_D-Day_processed.json with evaluations.\n"
     ]
    },
    {
     "name": "stderr",
     "output_type": "stream",
     "text": [
      "Setting `pad_token_id` to `eos_token_id`:128001 for open-end generation.\n",
      "Setting `pad_token_id` to `eos_token_id`:128001 for open-end generation.\n",
      "Setting `pad_token_id` to `eos_token_id`:128001 for open-end generation.\n"
     ]
    },
    {
     "name": "stdout",
     "output_type": "stream",
     "text": [
      "Updated article 15 in newspaper_D-Day_processed.json with evaluations.\n"
     ]
    },
    {
     "name": "stderr",
     "output_type": "stream",
     "text": [
      "Setting `pad_token_id` to `eos_token_id`:128001 for open-end generation.\n",
      "Setting `pad_token_id` to `eos_token_id`:128001 for open-end generation.\n",
      "Setting `pad_token_id` to `eos_token_id`:128001 for open-end generation.\n"
     ]
    },
    {
     "name": "stdout",
     "output_type": "stream",
     "text": [
      "Updated article 16 in newspaper_D-Day_processed.json with evaluations.\n"
     ]
    },
    {
     "name": "stderr",
     "output_type": "stream",
     "text": [
      "Setting `pad_token_id` to `eos_token_id`:128001 for open-end generation.\n",
      "Setting `pad_token_id` to `eos_token_id`:128001 for open-end generation.\n",
      "Setting `pad_token_id` to `eos_token_id`:128001 for open-end generation.\n"
     ]
    },
    {
     "name": "stdout",
     "output_type": "stream",
     "text": [
      "Updated article 17 in newspaper_D-Day_processed.json with evaluations.\n"
     ]
    },
    {
     "name": "stderr",
     "output_type": "stream",
     "text": [
      "Setting `pad_token_id` to `eos_token_id`:128001 for open-end generation.\n",
      "Setting `pad_token_id` to `eos_token_id`:128001 for open-end generation.\n",
      "Setting `pad_token_id` to `eos_token_id`:128001 for open-end generation.\n"
     ]
    },
    {
     "name": "stdout",
     "output_type": "stream",
     "text": [
      "Updated article 18 in newspaper_D-Day_processed.json with evaluations.\n"
     ]
    },
    {
     "name": "stderr",
     "output_type": "stream",
     "text": [
      "Setting `pad_token_id` to `eos_token_id`:128001 for open-end generation.\n",
      "Setting `pad_token_id` to `eos_token_id`:128001 for open-end generation.\n",
      "Setting `pad_token_id` to `eos_token_id`:128001 for open-end generation.\n"
     ]
    },
    {
     "name": "stdout",
     "output_type": "stream",
     "text": [
      "Updated article 19 in newspaper_D-Day_processed.json with evaluations.\n"
     ]
    },
    {
     "name": "stderr",
     "output_type": "stream",
     "text": [
      "Setting `pad_token_id` to `eos_token_id`:128001 for open-end generation.\n",
      "Setting `pad_token_id` to `eos_token_id`:128001 for open-end generation.\n",
      "Setting `pad_token_id` to `eos_token_id`:128001 for open-end generation.\n"
     ]
    },
    {
     "name": "stdout",
     "output_type": "stream",
     "text": [
      "Updated article 20 in newspaper_D-Day_processed.json with evaluations.\n"
     ]
    },
    {
     "name": "stderr",
     "output_type": "stream",
     "text": [
      "Setting `pad_token_id` to `eos_token_id`:128001 for open-end generation.\n",
      "Setting `pad_token_id` to `eos_token_id`:128001 for open-end generation.\n",
      "Setting `pad_token_id` to `eos_token_id`:128001 for open-end generation.\n"
     ]
    },
    {
     "name": "stdout",
     "output_type": "stream",
     "text": [
      "Updated article 21 in newspaper_D-Day_processed.json with evaluations.\n"
     ]
    },
    {
     "name": "stderr",
     "output_type": "stream",
     "text": [
      "Setting `pad_token_id` to `eos_token_id`:128001 for open-end generation.\n",
      "Setting `pad_token_id` to `eos_token_id`:128001 for open-end generation.\n",
      "Setting `pad_token_id` to `eos_token_id`:128001 for open-end generation.\n"
     ]
    },
    {
     "name": "stdout",
     "output_type": "stream",
     "text": [
      "Updated article 22 in newspaper_D-Day_processed.json with evaluations.\n"
     ]
    },
    {
     "name": "stderr",
     "output_type": "stream",
     "text": [
      "Setting `pad_token_id` to `eos_token_id`:128001 for open-end generation.\n",
      "Setting `pad_token_id` to `eos_token_id`:128001 for open-end generation.\n",
      "Setting `pad_token_id` to `eos_token_id`:128001 for open-end generation.\n"
     ]
    },
    {
     "name": "stdout",
     "output_type": "stream",
     "text": [
      "Updated article 23 in newspaper_D-Day_processed.json with evaluations.\n"
     ]
    },
    {
     "name": "stderr",
     "output_type": "stream",
     "text": [
      "Setting `pad_token_id` to `eos_token_id`:128001 for open-end generation.\n",
      "Setting `pad_token_id` to `eos_token_id`:128001 for open-end generation.\n",
      "Setting `pad_token_id` to `eos_token_id`:128001 for open-end generation.\n"
     ]
    },
    {
     "name": "stdout",
     "output_type": "stream",
     "text": [
      "Updated article 24 in newspaper_D-Day_processed.json with evaluations.\n"
     ]
    },
    {
     "name": "stderr",
     "output_type": "stream",
     "text": [
      "Setting `pad_token_id` to `eos_token_id`:128001 for open-end generation.\n",
      "Setting `pad_token_id` to `eos_token_id`:128001 for open-end generation.\n",
      "Setting `pad_token_id` to `eos_token_id`:128001 for open-end generation.\n"
     ]
    },
    {
     "name": "stdout",
     "output_type": "stream",
     "text": [
      "Updated article 26 in newspaper_D-Day_processed.json with evaluations.\n"
     ]
    },
    {
     "name": "stderr",
     "output_type": "stream",
     "text": [
      "Setting `pad_token_id` to `eos_token_id`:128001 for open-end generation.\n",
      "Setting `pad_token_id` to `eos_token_id`:128001 for open-end generation.\n",
      "Setting `pad_token_id` to `eos_token_id`:128001 for open-end generation.\n"
     ]
    },
    {
     "name": "stdout",
     "output_type": "stream",
     "text": [
      "Updated article 27 in newspaper_D-Day_processed.json with evaluations.\n"
     ]
    },
    {
     "name": "stderr",
     "output_type": "stream",
     "text": [
      "Setting `pad_token_id` to `eos_token_id`:128001 for open-end generation.\n",
      "Setting `pad_token_id` to `eos_token_id`:128001 for open-end generation.\n",
      "Setting `pad_token_id` to `eos_token_id`:128001 for open-end generation.\n"
     ]
    },
    {
     "name": "stdout",
     "output_type": "stream",
     "text": [
      "Updated article 33 in newspaper_D-Day_processed.json with evaluations.\n"
     ]
    },
    {
     "name": "stderr",
     "output_type": "stream",
     "text": [
      "Setting `pad_token_id` to `eos_token_id`:128001 for open-end generation.\n",
      "Setting `pad_token_id` to `eos_token_id`:128001 for open-end generation.\n",
      "Setting `pad_token_id` to `eos_token_id`:128001 for open-end generation.\n"
     ]
    },
    {
     "name": "stdout",
     "output_type": "stream",
     "text": [
      "Updated article 39 in newspaper_D-Day_processed.json with evaluations.\n"
     ]
    },
    {
     "name": "stderr",
     "output_type": "stream",
     "text": [
      "Setting `pad_token_id` to `eos_token_id`:128001 for open-end generation.\n",
      "Setting `pad_token_id` to `eos_token_id`:128001 for open-end generation.\n",
      "Setting `pad_token_id` to `eos_token_id`:128001 for open-end generation.\n"
     ]
    },
    {
     "name": "stdout",
     "output_type": "stream",
     "text": [
      "Updated article 40 in newspaper_D-Day_processed.json with evaluations.\n"
     ]
    },
    {
     "name": "stderr",
     "output_type": "stream",
     "text": [
      "Setting `pad_token_id` to `eos_token_id`:128001 for open-end generation.\n",
      "Setting `pad_token_id` to `eos_token_id`:128001 for open-end generation.\n",
      "Setting `pad_token_id` to `eos_token_id`:128001 for open-end generation.\n"
     ]
    },
    {
     "name": "stdout",
     "output_type": "stream",
     "text": [
      "Updated article 42 in newspaper_D-Day_processed.json with evaluations.\n"
     ]
    },
    {
     "name": "stderr",
     "output_type": "stream",
     "text": [
      "Setting `pad_token_id` to `eos_token_id`:128001 for open-end generation.\n",
      "Setting `pad_token_id` to `eos_token_id`:128001 for open-end generation.\n",
      "Setting `pad_token_id` to `eos_token_id`:128001 for open-end generation.\n"
     ]
    },
    {
     "name": "stdout",
     "output_type": "stream",
     "text": [
      "Updated article 43 in newspaper_D-Day_processed.json with evaluations.\n"
     ]
    },
    {
     "name": "stderr",
     "output_type": "stream",
     "text": [
      "Setting `pad_token_id` to `eos_token_id`:128001 for open-end generation.\n",
      "Setting `pad_token_id` to `eos_token_id`:128001 for open-end generation.\n",
      "Setting `pad_token_id` to `eos_token_id`:128001 for open-end generation.\n"
     ]
    },
    {
     "name": "stdout",
     "output_type": "stream",
     "text": [
      "Updated article 44 in newspaper_D-Day_processed.json with evaluations.\n"
     ]
    },
    {
     "name": "stderr",
     "output_type": "stream",
     "text": [
      "Setting `pad_token_id` to `eos_token_id`:128001 for open-end generation.\n",
      "Setting `pad_token_id` to `eos_token_id`:128001 for open-end generation.\n",
      "Setting `pad_token_id` to `eos_token_id`:128001 for open-end generation.\n"
     ]
    },
    {
     "name": "stdout",
     "output_type": "stream",
     "text": [
      "Updated article 45 in newspaper_D-Day_processed.json with evaluations.\n"
     ]
    },
    {
     "name": "stderr",
     "output_type": "stream",
     "text": [
      "Setting `pad_token_id` to `eos_token_id`:128001 for open-end generation.\n",
      "Setting `pad_token_id` to `eos_token_id`:128001 for open-end generation.\n",
      "Setting `pad_token_id` to `eos_token_id`:128001 for open-end generation.\n"
     ]
    },
    {
     "name": "stdout",
     "output_type": "stream",
     "text": [
      "Updated article 46 in newspaper_D-Day_processed.json with evaluations.\n"
     ]
    },
    {
     "name": "stderr",
     "output_type": "stream",
     "text": [
      "Setting `pad_token_id` to `eos_token_id`:128001 for open-end generation.\n",
      "Setting `pad_token_id` to `eos_token_id`:128001 for open-end generation.\n",
      "Setting `pad_token_id` to `eos_token_id`:128001 for open-end generation.\n"
     ]
    },
    {
     "name": "stdout",
     "output_type": "stream",
     "text": [
      "Updated article 47 in newspaper_D-Day_processed.json with evaluations.\n"
     ]
    },
    {
     "name": "stderr",
     "output_type": "stream",
     "text": [
      "Setting `pad_token_id` to `eos_token_id`:128001 for open-end generation.\n",
      "Setting `pad_token_id` to `eos_token_id`:128001 for open-end generation.\n",
      "Setting `pad_token_id` to `eos_token_id`:128001 for open-end generation.\n"
     ]
    },
    {
     "name": "stdout",
     "output_type": "stream",
     "text": [
      "Updated article 48 in newspaper_D-Day_processed.json with evaluations.\n"
     ]
    },
    {
     "name": "stderr",
     "output_type": "stream",
     "text": [
      "Setting `pad_token_id` to `eos_token_id`:128001 for open-end generation.\n",
      "Setting `pad_token_id` to `eos_token_id`:128001 for open-end generation.\n",
      "Setting `pad_token_id` to `eos_token_id`:128001 for open-end generation.\n"
     ]
    },
    {
     "name": "stdout",
     "output_type": "stream",
     "text": [
      "Updated article 49 in newspaper_D-Day_processed.json with evaluations.\n"
     ]
    },
    {
     "name": "stderr",
     "output_type": "stream",
     "text": [
      "Setting `pad_token_id` to `eos_token_id`:128001 for open-end generation.\n",
      "Setting `pad_token_id` to `eos_token_id`:128001 for open-end generation.\n",
      "Setting `pad_token_id` to `eos_token_id`:128001 for open-end generation.\n"
     ]
    },
    {
     "name": "stdout",
     "output_type": "stream",
     "text": [
      "Updated article 50 in newspaper_D-Day_processed.json with evaluations.\n"
     ]
    },
    {
     "name": "stderr",
     "output_type": "stream",
     "text": [
      "Setting `pad_token_id` to `eos_token_id`:128001 for open-end generation.\n",
      "Setting `pad_token_id` to `eos_token_id`:128001 for open-end generation.\n",
      "Setting `pad_token_id` to `eos_token_id`:128001 for open-end generation.\n"
     ]
    },
    {
     "name": "stdout",
     "output_type": "stream",
     "text": [
      "Updated article 51 in newspaper_D-Day_processed.json with evaluations.\n"
     ]
    },
    {
     "name": "stderr",
     "output_type": "stream",
     "text": [
      "Setting `pad_token_id` to `eos_token_id`:128001 for open-end generation.\n",
      "Setting `pad_token_id` to `eos_token_id`:128001 for open-end generation.\n",
      "Setting `pad_token_id` to `eos_token_id`:128001 for open-end generation.\n"
     ]
    },
    {
     "name": "stdout",
     "output_type": "stream",
     "text": [
      "Updated article 52 in newspaper_D-Day_processed.json with evaluations.\n"
     ]
    },
    {
     "name": "stderr",
     "output_type": "stream",
     "text": [
      "Setting `pad_token_id` to `eos_token_id`:128001 for open-end generation.\n",
      "Setting `pad_token_id` to `eos_token_id`:128001 for open-end generation.\n",
      "Setting `pad_token_id` to `eos_token_id`:128001 for open-end generation.\n"
     ]
    },
    {
     "name": "stdout",
     "output_type": "stream",
     "text": [
      "Updated article 53 in newspaper_D-Day_processed.json with evaluations.\n"
     ]
    },
    {
     "name": "stderr",
     "output_type": "stream",
     "text": [
      "Setting `pad_token_id` to `eos_token_id`:128001 for open-end generation.\n",
      "Setting `pad_token_id` to `eos_token_id`:128001 for open-end generation.\n",
      "Setting `pad_token_id` to `eos_token_id`:128001 for open-end generation.\n"
     ]
    },
    {
     "name": "stdout",
     "output_type": "stream",
     "text": [
      "Updated article 54 in newspaper_D-Day_processed.json with evaluations.\n"
     ]
    },
    {
     "name": "stderr",
     "output_type": "stream",
     "text": [
      "Setting `pad_token_id` to `eos_token_id`:128001 for open-end generation.\n",
      "Setting `pad_token_id` to `eos_token_id`:128001 for open-end generation.\n",
      "Setting `pad_token_id` to `eos_token_id`:128001 for open-end generation.\n"
     ]
    },
    {
     "name": "stdout",
     "output_type": "stream",
     "text": [
      "Updated article 55 in newspaper_D-Day_processed.json with evaluations.\n"
     ]
    },
    {
     "name": "stderr",
     "output_type": "stream",
     "text": [
      "Setting `pad_token_id` to `eos_token_id`:128001 for open-end generation.\n",
      "Setting `pad_token_id` to `eos_token_id`:128001 for open-end generation.\n",
      "Setting `pad_token_id` to `eos_token_id`:128001 for open-end generation.\n"
     ]
    },
    {
     "name": "stdout",
     "output_type": "stream",
     "text": [
      "Updated article 59 in newspaper_D-Day_processed.json with evaluations.\n"
     ]
    },
    {
     "name": "stderr",
     "output_type": "stream",
     "text": [
      "Setting `pad_token_id` to `eos_token_id`:128001 for open-end generation.\n",
      "Setting `pad_token_id` to `eos_token_id`:128001 for open-end generation.\n",
      "Setting `pad_token_id` to `eos_token_id`:128001 for open-end generation.\n"
     ]
    },
    {
     "name": "stdout",
     "output_type": "stream",
     "text": [
      "Updated article 61 in newspaper_D-Day_processed.json with evaluations.\n"
     ]
    },
    {
     "name": "stderr",
     "output_type": "stream",
     "text": [
      "Setting `pad_token_id` to `eos_token_id`:128001 for open-end generation.\n",
      "Setting `pad_token_id` to `eos_token_id`:128001 for open-end generation.\n",
      "Setting `pad_token_id` to `eos_token_id`:128001 for open-end generation.\n"
     ]
    },
    {
     "name": "stdout",
     "output_type": "stream",
     "text": [
      "Updated article 62 in newspaper_D-Day_processed.json with evaluations.\n"
     ]
    },
    {
     "name": "stderr",
     "output_type": "stream",
     "text": [
      "Setting `pad_token_id` to `eos_token_id`:128001 for open-end generation.\n",
      "Setting `pad_token_id` to `eos_token_id`:128001 for open-end generation.\n",
      "Setting `pad_token_id` to `eos_token_id`:128001 for open-end generation.\n"
     ]
    },
    {
     "name": "stdout",
     "output_type": "stream",
     "text": [
      "Updated article 63 in newspaper_D-Day_processed.json with evaluations.\n"
     ]
    },
    {
     "name": "stderr",
     "output_type": "stream",
     "text": [
      "Setting `pad_token_id` to `eos_token_id`:128001 for open-end generation.\n",
      "Setting `pad_token_id` to `eos_token_id`:128001 for open-end generation.\n",
      "Setting `pad_token_id` to `eos_token_id`:128001 for open-end generation.\n"
     ]
    },
    {
     "name": "stdout",
     "output_type": "stream",
     "text": [
      "Updated article 64 in newspaper_D-Day_processed.json with evaluations.\n"
     ]
    },
    {
     "name": "stderr",
     "output_type": "stream",
     "text": [
      "Setting `pad_token_id` to `eos_token_id`:128001 for open-end generation.\n",
      "Setting `pad_token_id` to `eos_token_id`:128001 for open-end generation.\n",
      "Setting `pad_token_id` to `eos_token_id`:128001 for open-end generation.\n"
     ]
    },
    {
     "name": "stdout",
     "output_type": "stream",
     "text": [
      "Updated article 65 in newspaper_D-Day_processed.json with evaluations.\n"
     ]
    },
    {
     "name": "stderr",
     "output_type": "stream",
     "text": [
      "Setting `pad_token_id` to `eos_token_id`:128001 for open-end generation.\n",
      "Setting `pad_token_id` to `eos_token_id`:128001 for open-end generation.\n",
      "Setting `pad_token_id` to `eos_token_id`:128001 for open-end generation.\n"
     ]
    },
    {
     "name": "stdout",
     "output_type": "stream",
     "text": [
      "Updated article 66 in newspaper_D-Day_processed.json with evaluations.\n"
     ]
    },
    {
     "name": "stderr",
     "output_type": "stream",
     "text": [
      "Setting `pad_token_id` to `eos_token_id`:128001 for open-end generation.\n",
      "Setting `pad_token_id` to `eos_token_id`:128001 for open-end generation.\n",
      "Setting `pad_token_id` to `eos_token_id`:128001 for open-end generation.\n"
     ]
    },
    {
     "name": "stdout",
     "output_type": "stream",
     "text": [
      "Updated article 67 in newspaper_D-Day_processed.json with evaluations.\n"
     ]
    },
    {
     "name": "stderr",
     "output_type": "stream",
     "text": [
      "Setting `pad_token_id` to `eos_token_id`:128001 for open-end generation.\n",
      "Setting `pad_token_id` to `eos_token_id`:128001 for open-end generation.\n",
      "Setting `pad_token_id` to `eos_token_id`:128001 for open-end generation.\n"
     ]
    },
    {
     "name": "stdout",
     "output_type": "stream",
     "text": [
      "Updated article 68 in newspaper_D-Day_processed.json with evaluations.\n"
     ]
    },
    {
     "name": "stderr",
     "output_type": "stream",
     "text": [
      "Setting `pad_token_id` to `eos_token_id`:128001 for open-end generation.\n",
      "Setting `pad_token_id` to `eos_token_id`:128001 for open-end generation.\n",
      "Setting `pad_token_id` to `eos_token_id`:128001 for open-end generation.\n"
     ]
    },
    {
     "name": "stdout",
     "output_type": "stream",
     "text": [
      "Updated article 69 in newspaper_D-Day_processed.json with evaluations.\n"
     ]
    },
    {
     "name": "stderr",
     "output_type": "stream",
     "text": [
      "Setting `pad_token_id` to `eos_token_id`:128001 for open-end generation.\n",
      "Setting `pad_token_id` to `eos_token_id`:128001 for open-end generation.\n",
      "Setting `pad_token_id` to `eos_token_id`:128001 for open-end generation.\n"
     ]
    },
    {
     "name": "stdout",
     "output_type": "stream",
     "text": [
      "Updated article 70 in newspaper_D-Day_processed.json with evaluations.\n"
     ]
    },
    {
     "name": "stderr",
     "output_type": "stream",
     "text": [
      "Setting `pad_token_id` to `eos_token_id`:128001 for open-end generation.\n",
      "Setting `pad_token_id` to `eos_token_id`:128001 for open-end generation.\n",
      "Setting `pad_token_id` to `eos_token_id`:128001 for open-end generation.\n"
     ]
    },
    {
     "name": "stdout",
     "output_type": "stream",
     "text": [
      "Updated article 72 in newspaper_D-Day_processed.json with evaluations.\n"
     ]
    },
    {
     "name": "stderr",
     "output_type": "stream",
     "text": [
      "Setting `pad_token_id` to `eos_token_id`:128001 for open-end generation.\n",
      "Setting `pad_token_id` to `eos_token_id`:128001 for open-end generation.\n",
      "Setting `pad_token_id` to `eos_token_id`:128001 for open-end generation.\n"
     ]
    },
    {
     "name": "stdout",
     "output_type": "stream",
     "text": [
      "Updated article 73 in newspaper_D-Day_processed.json with evaluations.\n"
     ]
    },
    {
     "name": "stderr",
     "output_type": "stream",
     "text": [
      "Setting `pad_token_id` to `eos_token_id`:128001 for open-end generation.\n",
      "Setting `pad_token_id` to `eos_token_id`:128001 for open-end generation.\n",
      "Setting `pad_token_id` to `eos_token_id`:128001 for open-end generation.\n"
     ]
    },
    {
     "name": "stdout",
     "output_type": "stream",
     "text": [
      "Updated article 75 in newspaper_D-Day_processed.json with evaluations.\n"
     ]
    },
    {
     "name": "stderr",
     "output_type": "stream",
     "text": [
      "Setting `pad_token_id` to `eos_token_id`:128001 for open-end generation.\n",
      "Setting `pad_token_id` to `eos_token_id`:128001 for open-end generation.\n",
      "Setting `pad_token_id` to `eos_token_id`:128001 for open-end generation.\n"
     ]
    },
    {
     "name": "stdout",
     "output_type": "stream",
     "text": [
      "Updated article 76 in newspaper_D-Day_processed.json with evaluations.\n"
     ]
    },
    {
     "name": "stderr",
     "output_type": "stream",
     "text": [
      "Setting `pad_token_id` to `eos_token_id`:128001 for open-end generation.\n",
      "Setting `pad_token_id` to `eos_token_id`:128001 for open-end generation.\n",
      "Setting `pad_token_id` to `eos_token_id`:128001 for open-end generation.\n"
     ]
    },
    {
     "name": "stdout",
     "output_type": "stream",
     "text": [
      "Updated article 77 in newspaper_D-Day_processed.json with evaluations.\n"
     ]
    },
    {
     "name": "stderr",
     "output_type": "stream",
     "text": [
      "Setting `pad_token_id` to `eos_token_id`:128001 for open-end generation.\n",
      "Setting `pad_token_id` to `eos_token_id`:128001 for open-end generation.\n",
      "Setting `pad_token_id` to `eos_token_id`:128001 for open-end generation.\n"
     ]
    },
    {
     "name": "stdout",
     "output_type": "stream",
     "text": [
      "Updated article 78 in newspaper_D-Day_processed.json with evaluations.\n"
     ]
    },
    {
     "name": "stderr",
     "output_type": "stream",
     "text": [
      "Setting `pad_token_id` to `eos_token_id`:128001 for open-end generation.\n",
      "Setting `pad_token_id` to `eos_token_id`:128001 for open-end generation.\n",
      "Setting `pad_token_id` to `eos_token_id`:128001 for open-end generation.\n"
     ]
    },
    {
     "name": "stdout",
     "output_type": "stream",
     "text": [
      "Updated article 79 in newspaper_D-Day_processed.json with evaluations.\n"
     ]
    },
    {
     "name": "stderr",
     "output_type": "stream",
     "text": [
      "Setting `pad_token_id` to `eos_token_id`:128001 for open-end generation.\n",
      "Setting `pad_token_id` to `eos_token_id`:128001 for open-end generation.\n",
      "Setting `pad_token_id` to `eos_token_id`:128001 for open-end generation.\n"
     ]
    },
    {
     "name": "stdout",
     "output_type": "stream",
     "text": [
      "Updated article 80 in newspaper_D-Day_processed.json with evaluations.\n"
     ]
    },
    {
     "name": "stderr",
     "output_type": "stream",
     "text": [
      "Setting `pad_token_id` to `eos_token_id`:128001 for open-end generation.\n",
      "Setting `pad_token_id` to `eos_token_id`:128001 for open-end generation.\n",
      "Setting `pad_token_id` to `eos_token_id`:128001 for open-end generation.\n"
     ]
    },
    {
     "name": "stdout",
     "output_type": "stream",
     "text": [
      "Updated article 81 in newspaper_D-Day_processed.json with evaluations.\n"
     ]
    },
    {
     "name": "stderr",
     "output_type": "stream",
     "text": [
      "Setting `pad_token_id` to `eos_token_id`:128001 for open-end generation.\n",
      "Setting `pad_token_id` to `eos_token_id`:128001 for open-end generation.\n",
      "Setting `pad_token_id` to `eos_token_id`:128001 for open-end generation.\n"
     ]
    },
    {
     "name": "stdout",
     "output_type": "stream",
     "text": [
      "Updated article 83 in newspaper_D-Day_processed.json with evaluations.\n"
     ]
    },
    {
     "name": "stderr",
     "output_type": "stream",
     "text": [
      "Setting `pad_token_id` to `eos_token_id`:128001 for open-end generation.\n",
      "Setting `pad_token_id` to `eos_token_id`:128001 for open-end generation.\n",
      "Setting `pad_token_id` to `eos_token_id`:128001 for open-end generation.\n"
     ]
    },
    {
     "name": "stdout",
     "output_type": "stream",
     "text": [
      "Updated article 84 in newspaper_D-Day_processed.json with evaluations.\n"
     ]
    },
    {
     "name": "stderr",
     "output_type": "stream",
     "text": [
      "Setting `pad_token_id` to `eos_token_id`:128001 for open-end generation.\n",
      "Setting `pad_token_id` to `eos_token_id`:128001 for open-end generation.\n",
      "Setting `pad_token_id` to `eos_token_id`:128001 for open-end generation.\n"
     ]
    },
    {
     "name": "stdout",
     "output_type": "stream",
     "text": [
      "Updated article 85 in newspaper_D-Day_processed.json with evaluations.\n"
     ]
    },
    {
     "name": "stderr",
     "output_type": "stream",
     "text": [
      "Setting `pad_token_id` to `eos_token_id`:128001 for open-end generation.\n",
      "Setting `pad_token_id` to `eos_token_id`:128001 for open-end generation.\n",
      "Setting `pad_token_id` to `eos_token_id`:128001 for open-end generation.\n"
     ]
    },
    {
     "name": "stdout",
     "output_type": "stream",
     "text": [
      "Updated article 86 in newspaper_D-Day_processed.json with evaluations.\n"
     ]
    },
    {
     "name": "stderr",
     "output_type": "stream",
     "text": [
      "Setting `pad_token_id` to `eos_token_id`:128001 for open-end generation.\n",
      "Setting `pad_token_id` to `eos_token_id`:128001 for open-end generation.\n",
      "Setting `pad_token_id` to `eos_token_id`:128001 for open-end generation.\n"
     ]
    },
    {
     "name": "stdout",
     "output_type": "stream",
     "text": [
      "Updated article 87 in newspaper_D-Day_processed.json with evaluations.\n"
     ]
    },
    {
     "name": "stderr",
     "output_type": "stream",
     "text": [
      "Setting `pad_token_id` to `eos_token_id`:128001 for open-end generation.\n",
      "Setting `pad_token_id` to `eos_token_id`:128001 for open-end generation.\n",
      "Setting `pad_token_id` to `eos_token_id`:128001 for open-end generation.\n"
     ]
    },
    {
     "name": "stdout",
     "output_type": "stream",
     "text": [
      "Updated article 88 in newspaper_D-Day_processed.json with evaluations.\n"
     ]
    },
    {
     "name": "stderr",
     "output_type": "stream",
     "text": [
      "Setting `pad_token_id` to `eos_token_id`:128001 for open-end generation.\n",
      "Setting `pad_token_id` to `eos_token_id`:128001 for open-end generation.\n",
      "Setting `pad_token_id` to `eos_token_id`:128001 for open-end generation.\n"
     ]
    },
    {
     "name": "stdout",
     "output_type": "stream",
     "text": [
      "Updated article 89 in newspaper_D-Day_processed.json with evaluations.\n"
     ]
    },
    {
     "name": "stderr",
     "output_type": "stream",
     "text": [
      "Setting `pad_token_id` to `eos_token_id`:128001 for open-end generation.\n",
      "Setting `pad_token_id` to `eos_token_id`:128001 for open-end generation.\n",
      "Setting `pad_token_id` to `eos_token_id`:128001 for open-end generation.\n"
     ]
    },
    {
     "name": "stdout",
     "output_type": "stream",
     "text": [
      "Updated article 90 in newspaper_D-Day_processed.json with evaluations.\n"
     ]
    },
    {
     "name": "stderr",
     "output_type": "stream",
     "text": [
      "Setting `pad_token_id` to `eos_token_id`:128001 for open-end generation.\n",
      "Setting `pad_token_id` to `eos_token_id`:128001 for open-end generation.\n",
      "Setting `pad_token_id` to `eos_token_id`:128001 for open-end generation.\n"
     ]
    },
    {
     "name": "stdout",
     "output_type": "stream",
     "text": [
      "Updated article 91 in newspaper_D-Day_processed.json with evaluations.\n"
     ]
    },
    {
     "name": "stderr",
     "output_type": "stream",
     "text": [
      "Setting `pad_token_id` to `eos_token_id`:128001 for open-end generation.\n",
      "Setting `pad_token_id` to `eos_token_id`:128001 for open-end generation.\n",
      "Setting `pad_token_id` to `eos_token_id`:128001 for open-end generation.\n"
     ]
    },
    {
     "name": "stdout",
     "output_type": "stream",
     "text": [
      "Updated article 92 in newspaper_D-Day_processed.json with evaluations.\n"
     ]
    },
    {
     "name": "stderr",
     "output_type": "stream",
     "text": [
      "Setting `pad_token_id` to `eos_token_id`:128001 for open-end generation.\n",
      "Setting `pad_token_id` to `eos_token_id`:128001 for open-end generation.\n",
      "Setting `pad_token_id` to `eos_token_id`:128001 for open-end generation.\n"
     ]
    },
    {
     "name": "stdout",
     "output_type": "stream",
     "text": [
      "Updated article 93 in newspaper_D-Day_processed.json with evaluations.\n"
     ]
    },
    {
     "name": "stderr",
     "output_type": "stream",
     "text": [
      "Setting `pad_token_id` to `eos_token_id`:128001 for open-end generation.\n",
      "Setting `pad_token_id` to `eos_token_id`:128001 for open-end generation.\n",
      "Setting `pad_token_id` to `eos_token_id`:128001 for open-end generation.\n"
     ]
    },
    {
     "name": "stdout",
     "output_type": "stream",
     "text": [
      "Updated article 94 in newspaper_D-Day_processed.json with evaluations.\n"
     ]
    },
    {
     "name": "stderr",
     "output_type": "stream",
     "text": [
      "Setting `pad_token_id` to `eos_token_id`:128001 for open-end generation.\n",
      "Setting `pad_token_id` to `eos_token_id`:128001 for open-end generation.\n",
      "Setting `pad_token_id` to `eos_token_id`:128001 for open-end generation.\n"
     ]
    },
    {
     "name": "stdout",
     "output_type": "stream",
     "text": [
      "Updated article 95 in newspaper_D-Day_processed.json with evaluations.\n"
     ]
    },
    {
     "name": "stderr",
     "output_type": "stream",
     "text": [
      "Setting `pad_token_id` to `eos_token_id`:128001 for open-end generation.\n",
      "Setting `pad_token_id` to `eos_token_id`:128001 for open-end generation.\n",
      "Setting `pad_token_id` to `eos_token_id`:128001 for open-end generation.\n"
     ]
    },
    {
     "name": "stdout",
     "output_type": "stream",
     "text": [
      "Updated article 96 in newspaper_D-Day_processed.json with evaluations.\n"
     ]
    },
    {
     "name": "stderr",
     "output_type": "stream",
     "text": [
      "Setting `pad_token_id` to `eos_token_id`:128001 for open-end generation.\n",
      "Setting `pad_token_id` to `eos_token_id`:128001 for open-end generation.\n",
      "Setting `pad_token_id` to `eos_token_id`:128001 for open-end generation.\n"
     ]
    },
    {
     "name": "stdout",
     "output_type": "stream",
     "text": [
      "Updated article 97 in newspaper_D-Day_processed.json with evaluations.\n"
     ]
    },
    {
     "name": "stderr",
     "output_type": "stream",
     "text": [
      "Setting `pad_token_id` to `eos_token_id`:128001 for open-end generation.\n",
      "Setting `pad_token_id` to `eos_token_id`:128001 for open-end generation.\n",
      "Setting `pad_token_id` to `eos_token_id`:128001 for open-end generation.\n"
     ]
    },
    {
     "name": "stdout",
     "output_type": "stream",
     "text": [
      "Updated article 98 in newspaper_D-Day_processed.json with evaluations.\n"
     ]
    },
    {
     "name": "stderr",
     "output_type": "stream",
     "text": [
      "Setting `pad_token_id` to `eos_token_id`:128001 for open-end generation.\n",
      "Setting `pad_token_id` to `eos_token_id`:128001 for open-end generation.\n",
      "Setting `pad_token_id` to `eos_token_id`:128001 for open-end generation.\n"
     ]
    },
    {
     "name": "stdout",
     "output_type": "stream",
     "text": [
      "Updated article 99 in newspaper_D-Day_processed.json with evaluations.\n"
     ]
    },
    {
     "name": "stderr",
     "output_type": "stream",
     "text": [
      "Setting `pad_token_id` to `eos_token_id`:128001 for open-end generation.\n",
      "Setting `pad_token_id` to `eos_token_id`:128001 for open-end generation.\n",
      "Setting `pad_token_id` to `eos_token_id`:128001 for open-end generation.\n"
     ]
    },
    {
     "name": "stdout",
     "output_type": "stream",
     "text": [
      "Updated article 100 in newspaper_D-Day_processed.json with evaluations.\n"
     ]
    },
    {
     "name": "stderr",
     "output_type": "stream",
     "text": [
      "Setting `pad_token_id` to `eos_token_id`:128001 for open-end generation.\n",
      "Setting `pad_token_id` to `eos_token_id`:128001 for open-end generation.\n",
      "Setting `pad_token_id` to `eos_token_id`:128001 for open-end generation.\n"
     ]
    },
    {
     "name": "stdout",
     "output_type": "stream",
     "text": [
      "Updated article 101 in newspaper_D-Day_processed.json with evaluations.\n"
     ]
    },
    {
     "name": "stderr",
     "output_type": "stream",
     "text": [
      "Setting `pad_token_id` to `eos_token_id`:128001 for open-end generation.\n",
      "Setting `pad_token_id` to `eos_token_id`:128001 for open-end generation.\n",
      "Setting `pad_token_id` to `eos_token_id`:128001 for open-end generation.\n"
     ]
    },
    {
     "name": "stdout",
     "output_type": "stream",
     "text": [
      "Updated article 102 in newspaper_D-Day_processed.json with evaluations.\n"
     ]
    },
    {
     "name": "stderr",
     "output_type": "stream",
     "text": [
      "Setting `pad_token_id` to `eos_token_id`:128001 for open-end generation.\n",
      "Setting `pad_token_id` to `eos_token_id`:128001 for open-end generation.\n",
      "Setting `pad_token_id` to `eos_token_id`:128001 for open-end generation.\n"
     ]
    },
    {
     "name": "stdout",
     "output_type": "stream",
     "text": [
      "Updated article 103 in newspaper_D-Day_processed.json with evaluations.\n"
     ]
    },
    {
     "name": "stderr",
     "output_type": "stream",
     "text": [
      "Setting `pad_token_id` to `eos_token_id`:128001 for open-end generation.\n",
      "Setting `pad_token_id` to `eos_token_id`:128001 for open-end generation.\n",
      "Setting `pad_token_id` to `eos_token_id`:128001 for open-end generation.\n"
     ]
    },
    {
     "name": "stdout",
     "output_type": "stream",
     "text": [
      "Updated article 104 in newspaper_D-Day_processed.json with evaluations.\n"
     ]
    },
    {
     "name": "stderr",
     "output_type": "stream",
     "text": [
      "Setting `pad_token_id` to `eos_token_id`:128001 for open-end generation.\n",
      "Setting `pad_token_id` to `eos_token_id`:128001 for open-end generation.\n",
      "Setting `pad_token_id` to `eos_token_id`:128001 for open-end generation.\n"
     ]
    },
    {
     "name": "stdout",
     "output_type": "stream",
     "text": [
      "Updated article 105 in newspaper_D-Day_processed.json with evaluations.\n"
     ]
    },
    {
     "name": "stderr",
     "output_type": "stream",
     "text": [
      "Setting `pad_token_id` to `eos_token_id`:128001 for open-end generation.\n",
      "Setting `pad_token_id` to `eos_token_id`:128001 for open-end generation.\n",
      "Setting `pad_token_id` to `eos_token_id`:128001 for open-end generation.\n"
     ]
    },
    {
     "name": "stdout",
     "output_type": "stream",
     "text": [
      "Updated article 106 in newspaper_D-Day_processed.json with evaluations.\n"
     ]
    },
    {
     "name": "stderr",
     "output_type": "stream",
     "text": [
      "Setting `pad_token_id` to `eos_token_id`:128001 for open-end generation.\n",
      "Setting `pad_token_id` to `eos_token_id`:128001 for open-end generation.\n",
      "Setting `pad_token_id` to `eos_token_id`:128001 for open-end generation.\n"
     ]
    },
    {
     "name": "stdout",
     "output_type": "stream",
     "text": [
      "Updated article 107 in newspaper_D-Day_processed.json with evaluations.\n"
     ]
    },
    {
     "name": "stderr",
     "output_type": "stream",
     "text": [
      "Setting `pad_token_id` to `eos_token_id`:128001 for open-end generation.\n",
      "Setting `pad_token_id` to `eos_token_id`:128001 for open-end generation.\n",
      "Setting `pad_token_id` to `eos_token_id`:128001 for open-end generation.\n"
     ]
    },
    {
     "name": "stdout",
     "output_type": "stream",
     "text": [
      "Updated article 108 in newspaper_D-Day_processed.json with evaluations.\n"
     ]
    },
    {
     "name": "stderr",
     "output_type": "stream",
     "text": [
      "Setting `pad_token_id` to `eos_token_id`:128001 for open-end generation.\n",
      "Setting `pad_token_id` to `eos_token_id`:128001 for open-end generation.\n",
      "Setting `pad_token_id` to `eos_token_id`:128001 for open-end generation.\n"
     ]
    },
    {
     "name": "stdout",
     "output_type": "stream",
     "text": [
      "Updated article 109 in newspaper_D-Day_processed.json with evaluations.\n"
     ]
    },
    {
     "name": "stderr",
     "output_type": "stream",
     "text": [
      "Setting `pad_token_id` to `eos_token_id`:128001 for open-end generation.\n",
      "Setting `pad_token_id` to `eos_token_id`:128001 for open-end generation.\n",
      "Setting `pad_token_id` to `eos_token_id`:128001 for open-end generation.\n"
     ]
    },
    {
     "name": "stdout",
     "output_type": "stream",
     "text": [
      "Updated article 110 in newspaper_D-Day_processed.json with evaluations.\n"
     ]
    },
    {
     "name": "stderr",
     "output_type": "stream",
     "text": [
      "Setting `pad_token_id` to `eos_token_id`:128001 for open-end generation.\n",
      "Setting `pad_token_id` to `eos_token_id`:128001 for open-end generation.\n",
      "Setting `pad_token_id` to `eos_token_id`:128001 for open-end generation.\n"
     ]
    },
    {
     "name": "stdout",
     "output_type": "stream",
     "text": [
      "Updated article 111 in newspaper_D-Day_processed.json with evaluations.\n"
     ]
    },
    {
     "name": "stderr",
     "output_type": "stream",
     "text": [
      "Setting `pad_token_id` to `eos_token_id`:128001 for open-end generation.\n",
      "Setting `pad_token_id` to `eos_token_id`:128001 for open-end generation.\n",
      "Setting `pad_token_id` to `eos_token_id`:128001 for open-end generation.\n"
     ]
    },
    {
     "name": "stdout",
     "output_type": "stream",
     "text": [
      "Updated article 112 in newspaper_D-Day_processed.json with evaluations.\n"
     ]
    },
    {
     "name": "stderr",
     "output_type": "stream",
     "text": [
      "Setting `pad_token_id` to `eos_token_id`:128001 for open-end generation.\n",
      "Setting `pad_token_id` to `eos_token_id`:128001 for open-end generation.\n",
      "Setting `pad_token_id` to `eos_token_id`:128001 for open-end generation.\n"
     ]
    },
    {
     "name": "stdout",
     "output_type": "stream",
     "text": [
      "Updated article 113 in newspaper_D-Day_processed.json with evaluations.\n"
     ]
    },
    {
     "name": "stderr",
     "output_type": "stream",
     "text": [
      "Setting `pad_token_id` to `eos_token_id`:128001 for open-end generation.\n",
      "Setting `pad_token_id` to `eos_token_id`:128001 for open-end generation.\n",
      "Setting `pad_token_id` to `eos_token_id`:128001 for open-end generation.\n"
     ]
    },
    {
     "name": "stdout",
     "output_type": "stream",
     "text": [
      "Updated article 114 in newspaper_D-Day_processed.json with evaluations.\n"
     ]
    },
    {
     "name": "stderr",
     "output_type": "stream",
     "text": [
      "Setting `pad_token_id` to `eos_token_id`:128001 for open-end generation.\n",
      "Setting `pad_token_id` to `eos_token_id`:128001 for open-end generation.\n",
      "Setting `pad_token_id` to `eos_token_id`:128001 for open-end generation.\n"
     ]
    },
    {
     "name": "stdout",
     "output_type": "stream",
     "text": [
      "Updated article 115 in newspaper_D-Day_processed.json with evaluations.\n"
     ]
    },
    {
     "name": "stderr",
     "output_type": "stream",
     "text": [
      "Setting `pad_token_id` to `eos_token_id`:128001 for open-end generation.\n",
      "Setting `pad_token_id` to `eos_token_id`:128001 for open-end generation.\n",
      "Setting `pad_token_id` to `eos_token_id`:128001 for open-end generation.\n"
     ]
    },
    {
     "name": "stdout",
     "output_type": "stream",
     "text": [
      "Updated article 116 in newspaper_D-Day_processed.json with evaluations.\n"
     ]
    },
    {
     "name": "stderr",
     "output_type": "stream",
     "text": [
      "Setting `pad_token_id` to `eos_token_id`:128001 for open-end generation.\n",
      "Setting `pad_token_id` to `eos_token_id`:128001 for open-end generation.\n",
      "Setting `pad_token_id` to `eos_token_id`:128001 for open-end generation.\n"
     ]
    },
    {
     "name": "stdout",
     "output_type": "stream",
     "text": [
      "Updated article 117 in newspaper_D-Day_processed.json with evaluations.\n"
     ]
    },
    {
     "name": "stderr",
     "output_type": "stream",
     "text": [
      "Setting `pad_token_id` to `eos_token_id`:128001 for open-end generation.\n",
      "Setting `pad_token_id` to `eos_token_id`:128001 for open-end generation.\n",
      "Setting `pad_token_id` to `eos_token_id`:128001 for open-end generation.\n"
     ]
    },
    {
     "name": "stdout",
     "output_type": "stream",
     "text": [
      "Updated article 118 in newspaper_D-Day_processed.json with evaluations.\n"
     ]
    },
    {
     "name": "stderr",
     "output_type": "stream",
     "text": [
      "Setting `pad_token_id` to `eos_token_id`:128001 for open-end generation.\n",
      "Setting `pad_token_id` to `eos_token_id`:128001 for open-end generation.\n",
      "Setting `pad_token_id` to `eos_token_id`:128001 for open-end generation.\n"
     ]
    },
    {
     "name": "stdout",
     "output_type": "stream",
     "text": [
      "Updated article 119 in newspaper_D-Day_processed.json with evaluations.\n"
     ]
    },
    {
     "name": "stderr",
     "output_type": "stream",
     "text": [
      "Setting `pad_token_id` to `eos_token_id`:128001 for open-end generation.\n",
      "Setting `pad_token_id` to `eos_token_id`:128001 for open-end generation.\n",
      "Setting `pad_token_id` to `eos_token_id`:128001 for open-end generation.\n"
     ]
    },
    {
     "name": "stdout",
     "output_type": "stream",
     "text": [
      "Updated article 120 in newspaper_D-Day_processed.json with evaluations.\n"
     ]
    },
    {
     "name": "stderr",
     "output_type": "stream",
     "text": [
      "Setting `pad_token_id` to `eos_token_id`:128001 for open-end generation.\n",
      "Setting `pad_token_id` to `eos_token_id`:128001 for open-end generation.\n",
      "Setting `pad_token_id` to `eos_token_id`:128001 for open-end generation.\n"
     ]
    },
    {
     "name": "stdout",
     "output_type": "stream",
     "text": [
      "Updated article 121 in newspaper_D-Day_processed.json with evaluations.\n"
     ]
    },
    {
     "name": "stderr",
     "output_type": "stream",
     "text": [
      "Setting `pad_token_id` to `eos_token_id`:128001 for open-end generation.\n",
      "Setting `pad_token_id` to `eos_token_id`:128001 for open-end generation.\n",
      "Setting `pad_token_id` to `eos_token_id`:128001 for open-end generation.\n"
     ]
    },
    {
     "name": "stdout",
     "output_type": "stream",
     "text": [
      "Updated article 122 in newspaper_D-Day_processed.json with evaluations.\n"
     ]
    },
    {
     "name": "stderr",
     "output_type": "stream",
     "text": [
      "Setting `pad_token_id` to `eos_token_id`:128001 for open-end generation.\n",
      "Setting `pad_token_id` to `eos_token_id`:128001 for open-end generation.\n",
      "Setting `pad_token_id` to `eos_token_id`:128001 for open-end generation.\n"
     ]
    },
    {
     "name": "stdout",
     "output_type": "stream",
     "text": [
      "Updated article 123 in newspaper_D-Day_processed.json with evaluations.\n"
     ]
    },
    {
     "name": "stderr",
     "output_type": "stream",
     "text": [
      "Setting `pad_token_id` to `eos_token_id`:128001 for open-end generation.\n",
      "Setting `pad_token_id` to `eos_token_id`:128001 for open-end generation.\n",
      "Setting `pad_token_id` to `eos_token_id`:128001 for open-end generation.\n"
     ]
    },
    {
     "name": "stdout",
     "output_type": "stream",
     "text": [
      "Updated article 125 in newspaper_D-Day_processed.json with evaluations.\n"
     ]
    },
    {
     "name": "stderr",
     "output_type": "stream",
     "text": [
      "Setting `pad_token_id` to `eos_token_id`:128001 for open-end generation.\n",
      "Setting `pad_token_id` to `eos_token_id`:128001 for open-end generation.\n",
      "Setting `pad_token_id` to `eos_token_id`:128001 for open-end generation.\n"
     ]
    },
    {
     "name": "stdout",
     "output_type": "stream",
     "text": [
      "Updated article 126 in newspaper_D-Day_processed.json with evaluations.\n"
     ]
    },
    {
     "name": "stderr",
     "output_type": "stream",
     "text": [
      "Setting `pad_token_id` to `eos_token_id`:128001 for open-end generation.\n",
      "Setting `pad_token_id` to `eos_token_id`:128001 for open-end generation.\n",
      "Setting `pad_token_id` to `eos_token_id`:128001 for open-end generation.\n"
     ]
    },
    {
     "name": "stdout",
     "output_type": "stream",
     "text": [
      "Updated article 127 in newspaper_D-Day_processed.json with evaluations.\n"
     ]
    },
    {
     "name": "stderr",
     "output_type": "stream",
     "text": [
      "Setting `pad_token_id` to `eos_token_id`:128001 for open-end generation.\n",
      "Setting `pad_token_id` to `eos_token_id`:128001 for open-end generation.\n",
      "Setting `pad_token_id` to `eos_token_id`:128001 for open-end generation.\n"
     ]
    },
    {
     "name": "stdout",
     "output_type": "stream",
     "text": [
      "Updated article 128 in newspaper_D-Day_processed.json with evaluations.\n"
     ]
    },
    {
     "name": "stderr",
     "output_type": "stream",
     "text": [
      "Setting `pad_token_id` to `eos_token_id`:128001 for open-end generation.\n",
      "Setting `pad_token_id` to `eos_token_id`:128001 for open-end generation.\n",
      "Setting `pad_token_id` to `eos_token_id`:128001 for open-end generation.\n"
     ]
    },
    {
     "name": "stdout",
     "output_type": "stream",
     "text": [
      "Updated article 130 in newspaper_D-Day_processed.json with evaluations.\n"
     ]
    },
    {
     "name": "stderr",
     "output_type": "stream",
     "text": [
      "Setting `pad_token_id` to `eos_token_id`:128001 for open-end generation.\n",
      "Setting `pad_token_id` to `eos_token_id`:128001 for open-end generation.\n",
      "Setting `pad_token_id` to `eos_token_id`:128001 for open-end generation.\n"
     ]
    },
    {
     "name": "stdout",
     "output_type": "stream",
     "text": [
      "Updated article 131 in newspaper_D-Day_processed.json with evaluations.\n"
     ]
    },
    {
     "name": "stderr",
     "output_type": "stream",
     "text": [
      "Setting `pad_token_id` to `eos_token_id`:128001 for open-end generation.\n",
      "Setting `pad_token_id` to `eos_token_id`:128001 for open-end generation.\n",
      "Setting `pad_token_id` to `eos_token_id`:128001 for open-end generation.\n"
     ]
    },
    {
     "name": "stdout",
     "output_type": "stream",
     "text": [
      "Updated article 132 in newspaper_D-Day_processed.json with evaluations.\n"
     ]
    },
    {
     "name": "stderr",
     "output_type": "stream",
     "text": [
      "Setting `pad_token_id` to `eos_token_id`:128001 for open-end generation.\n",
      "Setting `pad_token_id` to `eos_token_id`:128001 for open-end generation.\n",
      "Setting `pad_token_id` to `eos_token_id`:128001 for open-end generation.\n"
     ]
    },
    {
     "name": "stdout",
     "output_type": "stream",
     "text": [
      "Updated article 133 in newspaper_D-Day_processed.json with evaluations.\n"
     ]
    },
    {
     "name": "stderr",
     "output_type": "stream",
     "text": [
      "Setting `pad_token_id` to `eos_token_id`:128001 for open-end generation.\n",
      "Setting `pad_token_id` to `eos_token_id`:128001 for open-end generation.\n",
      "Setting `pad_token_id` to `eos_token_id`:128001 for open-end generation.\n"
     ]
    },
    {
     "name": "stdout",
     "output_type": "stream",
     "text": [
      "Updated article 135 in newspaper_D-Day_processed.json with evaluations.\n"
     ]
    },
    {
     "name": "stderr",
     "output_type": "stream",
     "text": [
      "Setting `pad_token_id` to `eos_token_id`:128001 for open-end generation.\n",
      "Setting `pad_token_id` to `eos_token_id`:128001 for open-end generation.\n",
      "Setting `pad_token_id` to `eos_token_id`:128001 for open-end generation.\n"
     ]
    },
    {
     "name": "stdout",
     "output_type": "stream",
     "text": [
      "Updated article 136 in newspaper_D-Day_processed.json with evaluations.\n"
     ]
    },
    {
     "name": "stderr",
     "output_type": "stream",
     "text": [
      "Setting `pad_token_id` to `eos_token_id`:128001 for open-end generation.\n",
      "Setting `pad_token_id` to `eos_token_id`:128001 for open-end generation.\n",
      "Setting `pad_token_id` to `eos_token_id`:128001 for open-end generation.\n"
     ]
    },
    {
     "name": "stdout",
     "output_type": "stream",
     "text": [
      "Updated article 137 in newspaper_D-Day_processed.json with evaluations.\n"
     ]
    },
    {
     "name": "stderr",
     "output_type": "stream",
     "text": [
      "Setting `pad_token_id` to `eos_token_id`:128001 for open-end generation.\n",
      "Setting `pad_token_id` to `eos_token_id`:128001 for open-end generation.\n",
      "Setting `pad_token_id` to `eos_token_id`:128001 for open-end generation.\n"
     ]
    },
    {
     "name": "stdout",
     "output_type": "stream",
     "text": [
      "Updated article 138 in newspaper_D-Day_processed.json with evaluations.\n"
     ]
    },
    {
     "name": "stderr",
     "output_type": "stream",
     "text": [
      "Setting `pad_token_id` to `eos_token_id`:128001 for open-end generation.\n",
      "Setting `pad_token_id` to `eos_token_id`:128001 for open-end generation.\n",
      "Setting `pad_token_id` to `eos_token_id`:128001 for open-end generation.\n"
     ]
    },
    {
     "name": "stdout",
     "output_type": "stream",
     "text": [
      "Updated article 139 in newspaper_D-Day_processed.json with evaluations.\n"
     ]
    },
    {
     "name": "stderr",
     "output_type": "stream",
     "text": [
      "Setting `pad_token_id` to `eos_token_id`:128001 for open-end generation.\n",
      "Setting `pad_token_id` to `eos_token_id`:128001 for open-end generation.\n",
      "Setting `pad_token_id` to `eos_token_id`:128001 for open-end generation.\n"
     ]
    },
    {
     "name": "stdout",
     "output_type": "stream",
     "text": [
      "Updated article 140 in newspaper_D-Day_processed.json with evaluations.\n"
     ]
    },
    {
     "name": "stderr",
     "output_type": "stream",
     "text": [
      "Setting `pad_token_id` to `eos_token_id`:128001 for open-end generation.\n",
      "Setting `pad_token_id` to `eos_token_id`:128001 for open-end generation.\n",
      "Setting `pad_token_id` to `eos_token_id`:128001 for open-end generation.\n"
     ]
    },
    {
     "name": "stdout",
     "output_type": "stream",
     "text": [
      "Updated article 141 in newspaper_D-Day_processed.json with evaluations.\n"
     ]
    },
    {
     "name": "stderr",
     "output_type": "stream",
     "text": [
      "Setting `pad_token_id` to `eos_token_id`:128001 for open-end generation.\n",
      "Setting `pad_token_id` to `eos_token_id`:128001 for open-end generation.\n",
      "Setting `pad_token_id` to `eos_token_id`:128001 for open-end generation.\n"
     ]
    },
    {
     "name": "stdout",
     "output_type": "stream",
     "text": [
      "Updated article 142 in newspaper_D-Day_processed.json with evaluations.\n"
     ]
    },
    {
     "name": "stderr",
     "output_type": "stream",
     "text": [
      "Setting `pad_token_id` to `eos_token_id`:128001 for open-end generation.\n",
      "Setting `pad_token_id` to `eos_token_id`:128001 for open-end generation.\n",
      "Setting `pad_token_id` to `eos_token_id`:128001 for open-end generation.\n"
     ]
    },
    {
     "name": "stdout",
     "output_type": "stream",
     "text": [
      "Updated article 144 in newspaper_D-Day_processed.json with evaluations.\n"
     ]
    },
    {
     "name": "stderr",
     "output_type": "stream",
     "text": [
      "Setting `pad_token_id` to `eos_token_id`:128001 for open-end generation.\n",
      "Setting `pad_token_id` to `eos_token_id`:128001 for open-end generation.\n",
      "Setting `pad_token_id` to `eos_token_id`:128001 for open-end generation.\n"
     ]
    },
    {
     "name": "stdout",
     "output_type": "stream",
     "text": [
      "Updated article 145 in newspaper_D-Day_processed.json with evaluations.\n"
     ]
    },
    {
     "name": "stderr",
     "output_type": "stream",
     "text": [
      "Setting `pad_token_id` to `eos_token_id`:128001 for open-end generation.\n",
      "Setting `pad_token_id` to `eos_token_id`:128001 for open-end generation.\n",
      "Setting `pad_token_id` to `eos_token_id`:128001 for open-end generation.\n"
     ]
    },
    {
     "name": "stdout",
     "output_type": "stream",
     "text": [
      "Updated article 146 in newspaper_D-Day_processed.json with evaluations.\n"
     ]
    },
    {
     "name": "stderr",
     "output_type": "stream",
     "text": [
      "Setting `pad_token_id` to `eos_token_id`:128001 for open-end generation.\n",
      "Setting `pad_token_id` to `eos_token_id`:128001 for open-end generation.\n",
      "Setting `pad_token_id` to `eos_token_id`:128001 for open-end generation.\n"
     ]
    },
    {
     "name": "stdout",
     "output_type": "stream",
     "text": [
      "Updated article 147 in newspaper_D-Day_processed.json with evaluations.\n"
     ]
    },
    {
     "name": "stderr",
     "output_type": "stream",
     "text": [
      "Setting `pad_token_id` to `eos_token_id`:128001 for open-end generation.\n",
      "Setting `pad_token_id` to `eos_token_id`:128001 for open-end generation.\n",
      "Setting `pad_token_id` to `eos_token_id`:128001 for open-end generation.\n"
     ]
    },
    {
     "name": "stdout",
     "output_type": "stream",
     "text": [
      "Updated article 148 in newspaper_D-Day_processed.json with evaluations.\n"
     ]
    },
    {
     "name": "stderr",
     "output_type": "stream",
     "text": [
      "Setting `pad_token_id` to `eos_token_id`:128001 for open-end generation.\n",
      "Setting `pad_token_id` to `eos_token_id`:128001 for open-end generation.\n",
      "Setting `pad_token_id` to `eos_token_id`:128001 for open-end generation.\n"
     ]
    },
    {
     "name": "stdout",
     "output_type": "stream",
     "text": [
      "Updated article 149 in newspaper_D-Day_processed.json with evaluations.\n"
     ]
    },
    {
     "name": "stderr",
     "output_type": "stream",
     "text": [
      "Setting `pad_token_id` to `eos_token_id`:128001 for open-end generation.\n",
      "Setting `pad_token_id` to `eos_token_id`:128001 for open-end generation.\n",
      "Setting `pad_token_id` to `eos_token_id`:128001 for open-end generation.\n"
     ]
    },
    {
     "name": "stdout",
     "output_type": "stream",
     "text": [
      "Updated article 150 in newspaper_D-Day_processed.json with evaluations.\n"
     ]
    },
    {
     "name": "stderr",
     "output_type": "stream",
     "text": [
      "Setting `pad_token_id` to `eos_token_id`:128001 for open-end generation.\n",
      "Setting `pad_token_id` to `eos_token_id`:128001 for open-end generation.\n",
      "Setting `pad_token_id` to `eos_token_id`:128001 for open-end generation.\n"
     ]
    },
    {
     "name": "stdout",
     "output_type": "stream",
     "text": [
      "Updated article 152 in newspaper_D-Day_processed.json with evaluations.\n"
     ]
    },
    {
     "name": "stderr",
     "output_type": "stream",
     "text": [
      "Setting `pad_token_id` to `eos_token_id`:128001 for open-end generation.\n",
      "Setting `pad_token_id` to `eos_token_id`:128001 for open-end generation.\n",
      "Setting `pad_token_id` to `eos_token_id`:128001 for open-end generation.\n"
     ]
    },
    {
     "name": "stdout",
     "output_type": "stream",
     "text": [
      "Updated article 153 in newspaper_D-Day_processed.json with evaluations.\n"
     ]
    },
    {
     "name": "stderr",
     "output_type": "stream",
     "text": [
      "Setting `pad_token_id` to `eos_token_id`:128001 for open-end generation.\n",
      "Setting `pad_token_id` to `eos_token_id`:128001 for open-end generation.\n",
      "Setting `pad_token_id` to `eos_token_id`:128001 for open-end generation.\n"
     ]
    },
    {
     "name": "stdout",
     "output_type": "stream",
     "text": [
      "Updated article 160 in newspaper_D-Day_processed.json with evaluations.\n"
     ]
    },
    {
     "name": "stderr",
     "output_type": "stream",
     "text": [
      "Setting `pad_token_id` to `eos_token_id`:128001 for open-end generation.\n",
      "Setting `pad_token_id` to `eos_token_id`:128001 for open-end generation.\n",
      "Setting `pad_token_id` to `eos_token_id`:128001 for open-end generation.\n"
     ]
    },
    {
     "name": "stdout",
     "output_type": "stream",
     "text": [
      "Updated article 163 in newspaper_D-Day_processed.json with evaluations.\n"
     ]
    },
    {
     "name": "stderr",
     "output_type": "stream",
     "text": [
      "Setting `pad_token_id` to `eos_token_id`:128001 for open-end generation.\n",
      "Setting `pad_token_id` to `eos_token_id`:128001 for open-end generation.\n",
      "Setting `pad_token_id` to `eos_token_id`:128001 for open-end generation.\n"
     ]
    },
    {
     "name": "stdout",
     "output_type": "stream",
     "text": [
      "Updated article 165 in newspaper_D-Day_processed.json with evaluations.\n"
     ]
    },
    {
     "name": "stderr",
     "output_type": "stream",
     "text": [
      "Setting `pad_token_id` to `eos_token_id`:128001 for open-end generation.\n",
      "Setting `pad_token_id` to `eos_token_id`:128001 for open-end generation.\n",
      "Setting `pad_token_id` to `eos_token_id`:128001 for open-end generation.\n"
     ]
    },
    {
     "name": "stdout",
     "output_type": "stream",
     "text": [
      "Updated article 166 in newspaper_D-Day_processed.json with evaluations.\n"
     ]
    },
    {
     "name": "stderr",
     "output_type": "stream",
     "text": [
      "Setting `pad_token_id` to `eos_token_id`:128001 for open-end generation.\n",
      "Setting `pad_token_id` to `eos_token_id`:128001 for open-end generation.\n",
      "Setting `pad_token_id` to `eos_token_id`:128001 for open-end generation.\n"
     ]
    },
    {
     "name": "stdout",
     "output_type": "stream",
     "text": [
      "Updated article 167 in newspaper_D-Day_processed.json with evaluations.\n"
     ]
    },
    {
     "name": "stderr",
     "output_type": "stream",
     "text": [
      "Setting `pad_token_id` to `eos_token_id`:128001 for open-end generation.\n",
      "Setting `pad_token_id` to `eos_token_id`:128001 for open-end generation.\n",
      "Setting `pad_token_id` to `eos_token_id`:128001 for open-end generation.\n"
     ]
    },
    {
     "name": "stdout",
     "output_type": "stream",
     "text": [
      "Updated article 168 in newspaper_D-Day_processed.json with evaluations.\n"
     ]
    },
    {
     "name": "stderr",
     "output_type": "stream",
     "text": [
      "Setting `pad_token_id` to `eos_token_id`:128001 for open-end generation.\n",
      "Setting `pad_token_id` to `eos_token_id`:128001 for open-end generation.\n",
      "Setting `pad_token_id` to `eos_token_id`:128001 for open-end generation.\n"
     ]
    },
    {
     "name": "stdout",
     "output_type": "stream",
     "text": [
      "Updated article 169 in newspaper_D-Day_processed.json with evaluations.\n"
     ]
    },
    {
     "name": "stderr",
     "output_type": "stream",
     "text": [
      "Setting `pad_token_id` to `eos_token_id`:128001 for open-end generation.\n",
      "Setting `pad_token_id` to `eos_token_id`:128001 for open-end generation.\n",
      "Setting `pad_token_id` to `eos_token_id`:128001 for open-end generation.\n"
     ]
    },
    {
     "name": "stdout",
     "output_type": "stream",
     "text": [
      "Updated article 170 in newspaper_D-Day_processed.json with evaluations.\n"
     ]
    },
    {
     "name": "stderr",
     "output_type": "stream",
     "text": [
      "Setting `pad_token_id` to `eos_token_id`:128001 for open-end generation.\n",
      "Setting `pad_token_id` to `eos_token_id`:128001 for open-end generation.\n",
      "Setting `pad_token_id` to `eos_token_id`:128001 for open-end generation.\n"
     ]
    },
    {
     "name": "stdout",
     "output_type": "stream",
     "text": [
      "Updated article 183 in newspaper_D-Day_processed.json with evaluations.\n"
     ]
    },
    {
     "name": "stderr",
     "output_type": "stream",
     "text": [
      "Setting `pad_token_id` to `eos_token_id`:128001 for open-end generation.\n",
      "Setting `pad_token_id` to `eos_token_id`:128001 for open-end generation.\n",
      "Setting `pad_token_id` to `eos_token_id`:128001 for open-end generation.\n"
     ]
    },
    {
     "name": "stdout",
     "output_type": "stream",
     "text": [
      "Updated article 186 in newspaper_D-Day_processed.json with evaluations.\n"
     ]
    },
    {
     "name": "stderr",
     "output_type": "stream",
     "text": [
      "Setting `pad_token_id` to `eos_token_id`:128001 for open-end generation.\n",
      "Setting `pad_token_id` to `eos_token_id`:128001 for open-end generation.\n",
      "Setting `pad_token_id` to `eos_token_id`:128001 for open-end generation.\n"
     ]
    },
    {
     "name": "stdout",
     "output_type": "stream",
     "text": [
      "Updated article 189 in newspaper_D-Day_processed.json with evaluations.\n"
     ]
    },
    {
     "name": "stderr",
     "output_type": "stream",
     "text": [
      "Setting `pad_token_id` to `eos_token_id`:128001 for open-end generation.\n",
      "Setting `pad_token_id` to `eos_token_id`:128001 for open-end generation.\n",
      "Setting `pad_token_id` to `eos_token_id`:128001 for open-end generation.\n"
     ]
    },
    {
     "name": "stdout",
     "output_type": "stream",
     "text": [
      "Updated article 190 in newspaper_D-Day_processed.json with evaluations.\n"
     ]
    },
    {
     "name": "stderr",
     "output_type": "stream",
     "text": [
      "Setting `pad_token_id` to `eos_token_id`:128001 for open-end generation.\n",
      "Setting `pad_token_id` to `eos_token_id`:128001 for open-end generation.\n",
      "Setting `pad_token_id` to `eos_token_id`:128001 for open-end generation.\n"
     ]
    },
    {
     "name": "stdout",
     "output_type": "stream",
     "text": [
      "Updated article 205 in newspaper_D-Day_processed.json with evaluations.\n"
     ]
    },
    {
     "name": "stderr",
     "output_type": "stream",
     "text": [
      "Setting `pad_token_id` to `eos_token_id`:128001 for open-end generation.\n",
      "Setting `pad_token_id` to `eos_token_id`:128001 for open-end generation.\n",
      "Setting `pad_token_id` to `eos_token_id`:128001 for open-end generation.\n"
     ]
    },
    {
     "name": "stdout",
     "output_type": "stream",
     "text": [
      "Updated article 211 in newspaper_D-Day_processed.json with evaluations.\n"
     ]
    },
    {
     "name": "stderr",
     "output_type": "stream",
     "text": [
      "Setting `pad_token_id` to `eos_token_id`:128001 for open-end generation.\n",
      "Setting `pad_token_id` to `eos_token_id`:128001 for open-end generation.\n",
      "Setting `pad_token_id` to `eos_token_id`:128001 for open-end generation.\n"
     ]
    },
    {
     "name": "stdout",
     "output_type": "stream",
     "text": [
      "Updated article 215 in newspaper_D-Day_processed.json with evaluations.\n"
     ]
    },
    {
     "name": "stderr",
     "output_type": "stream",
     "text": [
      "Setting `pad_token_id` to `eos_token_id`:128001 for open-end generation.\n",
      "Setting `pad_token_id` to `eos_token_id`:128001 for open-end generation.\n",
      "Setting `pad_token_id` to `eos_token_id`:128001 for open-end generation.\n"
     ]
    },
    {
     "name": "stdout",
     "output_type": "stream",
     "text": [
      "Updated article 223 in newspaper_D-Day_processed.json with evaluations.\n"
     ]
    },
    {
     "name": "stderr",
     "output_type": "stream",
     "text": [
      "Setting `pad_token_id` to `eos_token_id`:128001 for open-end generation.\n",
      "Setting `pad_token_id` to `eos_token_id`:128001 for open-end generation.\n",
      "Setting `pad_token_id` to `eos_token_id`:128001 for open-end generation.\n"
     ]
    },
    {
     "name": "stdout",
     "output_type": "stream",
     "text": [
      "Updated article 224 in newspaper_D-Day_processed.json with evaluations.\n"
     ]
    },
    {
     "name": "stderr",
     "output_type": "stream",
     "text": [
      "Setting `pad_token_id` to `eos_token_id`:128001 for open-end generation.\n",
      "Setting `pad_token_id` to `eos_token_id`:128001 for open-end generation.\n",
      "Setting `pad_token_id` to `eos_token_id`:128001 for open-end generation.\n"
     ]
    },
    {
     "name": "stdout",
     "output_type": "stream",
     "text": [
      "Updated article 229 in newspaper_D-Day_processed.json with evaluations.\n"
     ]
    },
    {
     "name": "stderr",
     "output_type": "stream",
     "text": [
      "Setting `pad_token_id` to `eos_token_id`:128001 for open-end generation.\n",
      "Setting `pad_token_id` to `eos_token_id`:128001 for open-end generation.\n",
      "Setting `pad_token_id` to `eos_token_id`:128001 for open-end generation.\n"
     ]
    },
    {
     "name": "stdout",
     "output_type": "stream",
     "text": [
      "Updated article 237 in newspaper_D-Day_processed.json with evaluations.\n"
     ]
    },
    {
     "name": "stderr",
     "output_type": "stream",
     "text": [
      "Setting `pad_token_id` to `eos_token_id`:128001 for open-end generation.\n",
      "Setting `pad_token_id` to `eos_token_id`:128001 for open-end generation.\n",
      "Setting `pad_token_id` to `eos_token_id`:128001 for open-end generation.\n"
     ]
    },
    {
     "name": "stdout",
     "output_type": "stream",
     "text": [
      "Updated article 240 in newspaper_D-Day_processed.json with evaluations.\n"
     ]
    },
    {
     "name": "stderr",
     "output_type": "stream",
     "text": [
      "Setting `pad_token_id` to `eos_token_id`:128001 for open-end generation.\n",
      "Setting `pad_token_id` to `eos_token_id`:128001 for open-end generation.\n",
      "Setting `pad_token_id` to `eos_token_id`:128001 for open-end generation.\n"
     ]
    },
    {
     "name": "stdout",
     "output_type": "stream",
     "text": [
      "Updated article 241 in newspaper_D-Day_processed.json with evaluations.\n"
     ]
    },
    {
     "name": "stderr",
     "output_type": "stream",
     "text": [
      "Setting `pad_token_id` to `eos_token_id`:128001 for open-end generation.\n",
      "Setting `pad_token_id` to `eos_token_id`:128001 for open-end generation.\n",
      "Setting `pad_token_id` to `eos_token_id`:128001 for open-end generation.\n"
     ]
    },
    {
     "name": "stdout",
     "output_type": "stream",
     "text": [
      "Updated article 245 in newspaper_D-Day_processed.json with evaluations.\n"
     ]
    },
    {
     "name": "stderr",
     "output_type": "stream",
     "text": [
      "Setting `pad_token_id` to `eos_token_id`:128001 for open-end generation.\n",
      "Setting `pad_token_id` to `eos_token_id`:128001 for open-end generation.\n",
      "Setting `pad_token_id` to `eos_token_id`:128001 for open-end generation.\n"
     ]
    },
    {
     "name": "stdout",
     "output_type": "stream",
     "text": [
      "Updated article 248 in newspaper_D-Day_processed.json with evaluations.\n"
     ]
    },
    {
     "name": "stderr",
     "output_type": "stream",
     "text": [
      "Setting `pad_token_id` to `eos_token_id`:128001 for open-end generation.\n",
      "Setting `pad_token_id` to `eos_token_id`:128001 for open-end generation.\n",
      "Setting `pad_token_id` to `eos_token_id`:128001 for open-end generation.\n"
     ]
    },
    {
     "name": "stdout",
     "output_type": "stream",
     "text": [
      "Updated article 256 in newspaper_D-Day_processed.json with evaluations.\n"
     ]
    },
    {
     "name": "stderr",
     "output_type": "stream",
     "text": [
      "Setting `pad_token_id` to `eos_token_id`:128001 for open-end generation.\n",
      "Setting `pad_token_id` to `eos_token_id`:128001 for open-end generation.\n",
      "Setting `pad_token_id` to `eos_token_id`:128001 for open-end generation.\n"
     ]
    },
    {
     "name": "stdout",
     "output_type": "stream",
     "text": [
      "Updated article 258 in newspaper_D-Day_processed.json with evaluations.\n"
     ]
    },
    {
     "name": "stderr",
     "output_type": "stream",
     "text": [
      "Setting `pad_token_id` to `eos_token_id`:128001 for open-end generation.\n",
      "Setting `pad_token_id` to `eos_token_id`:128001 for open-end generation.\n",
      "Setting `pad_token_id` to `eos_token_id`:128001 for open-end generation.\n"
     ]
    },
    {
     "name": "stdout",
     "output_type": "stream",
     "text": [
      "Updated article 259 in newspaper_D-Day_processed.json with evaluations.\n"
     ]
    },
    {
     "name": "stderr",
     "output_type": "stream",
     "text": [
      "Setting `pad_token_id` to `eos_token_id`:128001 for open-end generation.\n",
      "Setting `pad_token_id` to `eos_token_id`:128001 for open-end generation.\n",
      "Setting `pad_token_id` to `eos_token_id`:128001 for open-end generation.\n"
     ]
    },
    {
     "name": "stdout",
     "output_type": "stream",
     "text": [
      "Updated article 262 in newspaper_D-Day_processed.json with evaluations.\n"
     ]
    },
    {
     "name": "stderr",
     "output_type": "stream",
     "text": [
      "Setting `pad_token_id` to `eos_token_id`:128001 for open-end generation.\n",
      "Setting `pad_token_id` to `eos_token_id`:128001 for open-end generation.\n",
      "Setting `pad_token_id` to `eos_token_id`:128001 for open-end generation.\n"
     ]
    },
    {
     "name": "stdout",
     "output_type": "stream",
     "text": [
      "Updated article 275 in newspaper_D-Day_processed.json with evaluations.\n"
     ]
    },
    {
     "name": "stderr",
     "output_type": "stream",
     "text": [
      "Setting `pad_token_id` to `eos_token_id`:128001 for open-end generation.\n",
      "Setting `pad_token_id` to `eos_token_id`:128001 for open-end generation.\n",
      "Setting `pad_token_id` to `eos_token_id`:128001 for open-end generation.\n"
     ]
    },
    {
     "name": "stdout",
     "output_type": "stream",
     "text": [
      "Updated article 276 in newspaper_D-Day_processed.json with evaluations.\n"
     ]
    },
    {
     "name": "stderr",
     "output_type": "stream",
     "text": [
      "Setting `pad_token_id` to `eos_token_id`:128001 for open-end generation.\n",
      "Setting `pad_token_id` to `eos_token_id`:128001 for open-end generation.\n",
      "Setting `pad_token_id` to `eos_token_id`:128001 for open-end generation.\n"
     ]
    },
    {
     "name": "stdout",
     "output_type": "stream",
     "text": [
      "Updated article 285 in newspaper_D-Day_processed.json with evaluations.\n"
     ]
    },
    {
     "name": "stderr",
     "output_type": "stream",
     "text": [
      "Setting `pad_token_id` to `eos_token_id`:128001 for open-end generation.\n",
      "Setting `pad_token_id` to `eos_token_id`:128001 for open-end generation.\n",
      "Setting `pad_token_id` to `eos_token_id`:128001 for open-end generation.\n"
     ]
    },
    {
     "name": "stdout",
     "output_type": "stream",
     "text": [
      "Updated article 286 in newspaper_D-Day_processed.json with evaluations.\n"
     ]
    },
    {
     "name": "stderr",
     "output_type": "stream",
     "text": [
      "Setting `pad_token_id` to `eos_token_id`:128001 for open-end generation.\n",
      "Setting `pad_token_id` to `eos_token_id`:128001 for open-end generation.\n",
      "Setting `pad_token_id` to `eos_token_id`:128001 for open-end generation.\n"
     ]
    },
    {
     "name": "stdout",
     "output_type": "stream",
     "text": [
      "Updated article 290 in newspaper_D-Day_processed.json with evaluations.\n"
     ]
    },
    {
     "name": "stderr",
     "output_type": "stream",
     "text": [
      "Setting `pad_token_id` to `eos_token_id`:128001 for open-end generation.\n",
      "Setting `pad_token_id` to `eos_token_id`:128001 for open-end generation.\n",
      "Setting `pad_token_id` to `eos_token_id`:128001 for open-end generation.\n"
     ]
    },
    {
     "name": "stdout",
     "output_type": "stream",
     "text": [
      "Updated article 302 in newspaper_D-Day_processed.json with evaluations.\n"
     ]
    },
    {
     "name": "stderr",
     "output_type": "stream",
     "text": [
      "Setting `pad_token_id` to `eos_token_id`:128001 for open-end generation.\n",
      "Setting `pad_token_id` to `eos_token_id`:128001 for open-end generation.\n",
      "Setting `pad_token_id` to `eos_token_id`:128001 for open-end generation.\n"
     ]
    },
    {
     "name": "stdout",
     "output_type": "stream",
     "text": [
      "Updated article 304 in newspaper_D-Day_processed.json with evaluations.\n"
     ]
    },
    {
     "name": "stderr",
     "output_type": "stream",
     "text": [
      "Setting `pad_token_id` to `eos_token_id`:128001 for open-end generation.\n",
      "Setting `pad_token_id` to `eos_token_id`:128001 for open-end generation.\n",
      "Setting `pad_token_id` to `eos_token_id`:128001 for open-end generation.\n"
     ]
    },
    {
     "name": "stdout",
     "output_type": "stream",
     "text": [
      "Updated article 306 in newspaper_D-Day_processed.json with evaluations.\n"
     ]
    },
    {
     "name": "stderr",
     "output_type": "stream",
     "text": [
      "Setting `pad_token_id` to `eos_token_id`:128001 for open-end generation.\n",
      "Setting `pad_token_id` to `eos_token_id`:128001 for open-end generation.\n",
      "Setting `pad_token_id` to `eos_token_id`:128001 for open-end generation.\n"
     ]
    },
    {
     "name": "stdout",
     "output_type": "stream",
     "text": [
      "Updated article 310 in newspaper_D-Day_processed.json with evaluations.\n"
     ]
    },
    {
     "name": "stderr",
     "output_type": "stream",
     "text": [
      "Setting `pad_token_id` to `eos_token_id`:128001 for open-end generation.\n",
      "Setting `pad_token_id` to `eos_token_id`:128001 for open-end generation.\n",
      "Setting `pad_token_id` to `eos_token_id`:128001 for open-end generation.\n"
     ]
    },
    {
     "name": "stdout",
     "output_type": "stream",
     "text": [
      "Updated article 312 in newspaper_D-Day_processed.json with evaluations.\n"
     ]
    },
    {
     "name": "stderr",
     "output_type": "stream",
     "text": [
      "Setting `pad_token_id` to `eos_token_id`:128001 for open-end generation.\n",
      "Setting `pad_token_id` to `eos_token_id`:128001 for open-end generation.\n",
      "Setting `pad_token_id` to `eos_token_id`:128001 for open-end generation.\n"
     ]
    },
    {
     "name": "stdout",
     "output_type": "stream",
     "text": [
      "Updated article 316 in newspaper_D-Day_processed.json with evaluations.\n"
     ]
    },
    {
     "name": "stderr",
     "output_type": "stream",
     "text": [
      "Setting `pad_token_id` to `eos_token_id`:128001 for open-end generation.\n",
      "Setting `pad_token_id` to `eos_token_id`:128001 for open-end generation.\n",
      "Setting `pad_token_id` to `eos_token_id`:128001 for open-end generation.\n"
     ]
    },
    {
     "name": "stdout",
     "output_type": "stream",
     "text": [
      "Updated article 320 in newspaper_D-Day_processed.json with evaluations.\n"
     ]
    },
    {
     "name": "stderr",
     "output_type": "stream",
     "text": [
      "Setting `pad_token_id` to `eos_token_id`:128001 for open-end generation.\n",
      "Setting `pad_token_id` to `eos_token_id`:128001 for open-end generation.\n",
      "Setting `pad_token_id` to `eos_token_id`:128001 for open-end generation.\n"
     ]
    },
    {
     "name": "stdout",
     "output_type": "stream",
     "text": [
      "Updated article 331 in newspaper_D-Day_processed.json with evaluations.\n"
     ]
    },
    {
     "name": "stderr",
     "output_type": "stream",
     "text": [
      "Setting `pad_token_id` to `eos_token_id`:128001 for open-end generation.\n",
      "Setting `pad_token_id` to `eos_token_id`:128001 for open-end generation.\n",
      "Setting `pad_token_id` to `eos_token_id`:128001 for open-end generation.\n"
     ]
    },
    {
     "name": "stdout",
     "output_type": "stream",
     "text": [
      "Updated article 334 in newspaper_D-Day_processed.json with evaluations.\n"
     ]
    },
    {
     "name": "stderr",
     "output_type": "stream",
     "text": [
      "Setting `pad_token_id` to `eos_token_id`:128001 for open-end generation.\n",
      "Setting `pad_token_id` to `eos_token_id`:128001 for open-end generation.\n",
      "Setting `pad_token_id` to `eos_token_id`:128001 for open-end generation.\n"
     ]
    },
    {
     "name": "stdout",
     "output_type": "stream",
     "text": [
      "Updated article 344 in newspaper_D-Day_processed.json with evaluations.\n"
     ]
    },
    {
     "name": "stderr",
     "output_type": "stream",
     "text": [
      "Setting `pad_token_id` to `eos_token_id`:128001 for open-end generation.\n",
      "Setting `pad_token_id` to `eos_token_id`:128001 for open-end generation.\n",
      "Setting `pad_token_id` to `eos_token_id`:128001 for open-end generation.\n"
     ]
    },
    {
     "name": "stdout",
     "output_type": "stream",
     "text": [
      "Updated article 354 in newspaper_D-Day_processed.json with evaluations.\n"
     ]
    },
    {
     "name": "stderr",
     "output_type": "stream",
     "text": [
      "Setting `pad_token_id` to `eos_token_id`:128001 for open-end generation.\n",
      "Setting `pad_token_id` to `eos_token_id`:128001 for open-end generation.\n",
      "Setting `pad_token_id` to `eos_token_id`:128001 for open-end generation.\n"
     ]
    },
    {
     "name": "stdout",
     "output_type": "stream",
     "text": [
      "Updated article 359 in newspaper_D-Day_processed.json with evaluations.\n"
     ]
    },
    {
     "name": "stderr",
     "output_type": "stream",
     "text": [
      "Setting `pad_token_id` to `eos_token_id`:128001 for open-end generation.\n",
      "Setting `pad_token_id` to `eos_token_id`:128001 for open-end generation.\n",
      "Setting `pad_token_id` to `eos_token_id`:128001 for open-end generation.\n"
     ]
    },
    {
     "name": "stdout",
     "output_type": "stream",
     "text": [
      "Updated article 360 in newspaper_D-Day_processed.json with evaluations.\n"
     ]
    },
    {
     "name": "stderr",
     "output_type": "stream",
     "text": [
      "Setting `pad_token_id` to `eos_token_id`:128001 for open-end generation.\n",
      "Setting `pad_token_id` to `eos_token_id`:128001 for open-end generation.\n",
      "Setting `pad_token_id` to `eos_token_id`:128001 for open-end generation.\n"
     ]
    },
    {
     "name": "stdout",
     "output_type": "stream",
     "text": [
      "Updated article 365 in newspaper_D-Day_processed.json with evaluations.\n"
     ]
    },
    {
     "name": "stderr",
     "output_type": "stream",
     "text": [
      "Setting `pad_token_id` to `eos_token_id`:128001 for open-end generation.\n",
      "Setting `pad_token_id` to `eos_token_id`:128001 for open-end generation.\n",
      "Setting `pad_token_id` to `eos_token_id`:128001 for open-end generation.\n"
     ]
    },
    {
     "name": "stdout",
     "output_type": "stream",
     "text": [
      "Updated article 373 in newspaper_D-Day_processed.json with evaluations.\n"
     ]
    },
    {
     "name": "stderr",
     "output_type": "stream",
     "text": [
      "Setting `pad_token_id` to `eos_token_id`:128001 for open-end generation.\n",
      "Setting `pad_token_id` to `eos_token_id`:128001 for open-end generation.\n",
      "Setting `pad_token_id` to `eos_token_id`:128001 for open-end generation.\n"
     ]
    },
    {
     "name": "stdout",
     "output_type": "stream",
     "text": [
      "Updated article 374 in newspaper_D-Day_processed.json with evaluations.\n"
     ]
    },
    {
     "name": "stderr",
     "output_type": "stream",
     "text": [
      "Setting `pad_token_id` to `eos_token_id`:128001 for open-end generation.\n",
      "Setting `pad_token_id` to `eos_token_id`:128001 for open-end generation.\n",
      "Setting `pad_token_id` to `eos_token_id`:128001 for open-end generation.\n"
     ]
    },
    {
     "name": "stdout",
     "output_type": "stream",
     "text": [
      "Updated article 377 in newspaper_D-Day_processed.json with evaluations.\n"
     ]
    },
    {
     "name": "stderr",
     "output_type": "stream",
     "text": [
      "Setting `pad_token_id` to `eos_token_id`:128001 for open-end generation.\n",
      "Setting `pad_token_id` to `eos_token_id`:128001 for open-end generation.\n",
      "Setting `pad_token_id` to `eos_token_id`:128001 for open-end generation.\n"
     ]
    },
    {
     "name": "stdout",
     "output_type": "stream",
     "text": [
      "Updated article 386 in newspaper_D-Day_processed.json with evaluations.\n"
     ]
    },
    {
     "name": "stderr",
     "output_type": "stream",
     "text": [
      "Setting `pad_token_id` to `eos_token_id`:128001 for open-end generation.\n",
      "Setting `pad_token_id` to `eos_token_id`:128001 for open-end generation.\n",
      "Setting `pad_token_id` to `eos_token_id`:128001 for open-end generation.\n"
     ]
    },
    {
     "name": "stdout",
     "output_type": "stream",
     "text": [
      "Updated article 394 in newspaper_D-Day_processed.json with evaluations.\n"
     ]
    },
    {
     "name": "stderr",
     "output_type": "stream",
     "text": [
      "Setting `pad_token_id` to `eos_token_id`:128001 for open-end generation.\n",
      "Setting `pad_token_id` to `eos_token_id`:128001 for open-end generation.\n",
      "Setting `pad_token_id` to `eos_token_id`:128001 for open-end generation.\n"
     ]
    },
    {
     "name": "stdout",
     "output_type": "stream",
     "text": [
      "Updated article 441 in newspaper_D-Day_processed.json with evaluations.\n"
     ]
    },
    {
     "name": "stderr",
     "output_type": "stream",
     "text": [
      "Setting `pad_token_id` to `eos_token_id`:128001 for open-end generation.\n",
      "Setting `pad_token_id` to `eos_token_id`:128001 for open-end generation.\n",
      "Setting `pad_token_id` to `eos_token_id`:128001 for open-end generation.\n"
     ]
    },
    {
     "name": "stdout",
     "output_type": "stream",
     "text": [
      "Updated article 443 in newspaper_D-Day_processed.json with evaluations.\n"
     ]
    },
    {
     "name": "stderr",
     "output_type": "stream",
     "text": [
      "Setting `pad_token_id` to `eos_token_id`:128001 for open-end generation.\n",
      "Setting `pad_token_id` to `eos_token_id`:128001 for open-end generation.\n",
      "Setting `pad_token_id` to `eos_token_id`:128001 for open-end generation.\n"
     ]
    },
    {
     "name": "stdout",
     "output_type": "stream",
     "text": [
      "Updated article 444 in newspaper_D-Day_processed.json with evaluations.\n"
     ]
    },
    {
     "name": "stderr",
     "output_type": "stream",
     "text": [
      "Setting `pad_token_id` to `eos_token_id`:128001 for open-end generation.\n",
      "Setting `pad_token_id` to `eos_token_id`:128001 for open-end generation.\n",
      "Setting `pad_token_id` to `eos_token_id`:128001 for open-end generation.\n"
     ]
    },
    {
     "name": "stdout",
     "output_type": "stream",
     "text": [
      "Updated article 446 in newspaper_D-Day_processed.json with evaluations.\n"
     ]
    },
    {
     "name": "stderr",
     "output_type": "stream",
     "text": [
      "Setting `pad_token_id` to `eos_token_id`:128001 for open-end generation.\n",
      "Setting `pad_token_id` to `eos_token_id`:128001 for open-end generation.\n",
      "Setting `pad_token_id` to `eos_token_id`:128001 for open-end generation.\n"
     ]
    },
    {
     "name": "stdout",
     "output_type": "stream",
     "text": [
      "Updated article 450 in newspaper_D-Day_processed.json with evaluations.\n"
     ]
    },
    {
     "name": "stderr",
     "output_type": "stream",
     "text": [
      "Setting `pad_token_id` to `eos_token_id`:128001 for open-end generation.\n",
      "Setting `pad_token_id` to `eos_token_id`:128001 for open-end generation.\n",
      "Setting `pad_token_id` to `eos_token_id`:128001 for open-end generation.\n"
     ]
    },
    {
     "name": "stdout",
     "output_type": "stream",
     "text": [
      "Updated article 453 in newspaper_D-Day_processed.json with evaluations.\n"
     ]
    },
    {
     "name": "stderr",
     "output_type": "stream",
     "text": [
      "Setting `pad_token_id` to `eos_token_id`:128001 for open-end generation.\n",
      "Setting `pad_token_id` to `eos_token_id`:128001 for open-end generation.\n",
      "Setting `pad_token_id` to `eos_token_id`:128001 for open-end generation.\n"
     ]
    },
    {
     "name": "stdout",
     "output_type": "stream",
     "text": [
      "Updated article 454 in newspaper_D-Day_processed.json with evaluations.\n"
     ]
    },
    {
     "name": "stderr",
     "output_type": "stream",
     "text": [
      "Setting `pad_token_id` to `eos_token_id`:128001 for open-end generation.\n",
      "Setting `pad_token_id` to `eos_token_id`:128001 for open-end generation.\n",
      "Setting `pad_token_id` to `eos_token_id`:128001 for open-end generation.\n"
     ]
    },
    {
     "name": "stdout",
     "output_type": "stream",
     "text": [
      "Updated article 472 in newspaper_D-Day_processed.json with evaluations.\n"
     ]
    },
    {
     "name": "stderr",
     "output_type": "stream",
     "text": [
      "Setting `pad_token_id` to `eos_token_id`:128001 for open-end generation.\n",
      "Setting `pad_token_id` to `eos_token_id`:128001 for open-end generation.\n",
      "Setting `pad_token_id` to `eos_token_id`:128001 for open-end generation.\n"
     ]
    },
    {
     "name": "stdout",
     "output_type": "stream",
     "text": [
      "Updated article 474 in newspaper_D-Day_processed.json with evaluations.\n"
     ]
    },
    {
     "name": "stderr",
     "output_type": "stream",
     "text": [
      "Setting `pad_token_id` to `eos_token_id`:128001 for open-end generation.\n",
      "Setting `pad_token_id` to `eos_token_id`:128001 for open-end generation.\n",
      "Setting `pad_token_id` to `eos_token_id`:128001 for open-end generation.\n"
     ]
    },
    {
     "name": "stdout",
     "output_type": "stream",
     "text": [
      "Updated article 475 in newspaper_D-Day_processed.json with evaluations.\n"
     ]
    },
    {
     "name": "stderr",
     "output_type": "stream",
     "text": [
      "Setting `pad_token_id` to `eos_token_id`:128001 for open-end generation.\n",
      "Setting `pad_token_id` to `eos_token_id`:128001 for open-end generation.\n",
      "Setting `pad_token_id` to `eos_token_id`:128001 for open-end generation.\n"
     ]
    },
    {
     "name": "stdout",
     "output_type": "stream",
     "text": [
      "Updated article 476 in newspaper_D-Day_processed.json with evaluations.\n"
     ]
    },
    {
     "name": "stderr",
     "output_type": "stream",
     "text": [
      "Setting `pad_token_id` to `eos_token_id`:128001 for open-end generation.\n",
      "Setting `pad_token_id` to `eos_token_id`:128001 for open-end generation.\n",
      "Setting `pad_token_id` to `eos_token_id`:128001 for open-end generation.\n"
     ]
    },
    {
     "name": "stdout",
     "output_type": "stream",
     "text": [
      "Updated article 477 in newspaper_D-Day_processed.json with evaluations.\n"
     ]
    },
    {
     "name": "stderr",
     "output_type": "stream",
     "text": [
      "Setting `pad_token_id` to `eos_token_id`:128001 for open-end generation.\n",
      "Setting `pad_token_id` to `eos_token_id`:128001 for open-end generation.\n",
      "Setting `pad_token_id` to `eos_token_id`:128001 for open-end generation.\n"
     ]
    },
    {
     "name": "stdout",
     "output_type": "stream",
     "text": [
      "Updated article 478 in newspaper_D-Day_processed.json with evaluations.\n"
     ]
    },
    {
     "name": "stderr",
     "output_type": "stream",
     "text": [
      "Setting `pad_token_id` to `eos_token_id`:128001 for open-end generation.\n",
      "Setting `pad_token_id` to `eos_token_id`:128001 for open-end generation.\n",
      "Setting `pad_token_id` to `eos_token_id`:128001 for open-end generation.\n"
     ]
    },
    {
     "name": "stdout",
     "output_type": "stream",
     "text": [
      "Updated article 479 in newspaper_D-Day_processed.json with evaluations.\n"
     ]
    },
    {
     "name": "stderr",
     "output_type": "stream",
     "text": [
      "Setting `pad_token_id` to `eos_token_id`:128001 for open-end generation.\n",
      "Setting `pad_token_id` to `eos_token_id`:128001 for open-end generation.\n",
      "Setting `pad_token_id` to `eos_token_id`:128001 for open-end generation.\n"
     ]
    },
    {
     "name": "stdout",
     "output_type": "stream",
     "text": [
      "Updated article 480 in newspaper_D-Day_processed.json with evaluations.\n"
     ]
    },
    {
     "name": "stderr",
     "output_type": "stream",
     "text": [
      "Setting `pad_token_id` to `eos_token_id`:128001 for open-end generation.\n",
      "Setting `pad_token_id` to `eos_token_id`:128001 for open-end generation.\n",
      "Setting `pad_token_id` to `eos_token_id`:128001 for open-end generation.\n"
     ]
    },
    {
     "name": "stdout",
     "output_type": "stream",
     "text": [
      "Updated article 481 in newspaper_D-Day_processed.json with evaluations.\n"
     ]
    },
    {
     "name": "stderr",
     "output_type": "stream",
     "text": [
      "Setting `pad_token_id` to `eos_token_id`:128001 for open-end generation.\n",
      "Setting `pad_token_id` to `eos_token_id`:128001 for open-end generation.\n",
      "Setting `pad_token_id` to `eos_token_id`:128001 for open-end generation.\n"
     ]
    },
    {
     "name": "stdout",
     "output_type": "stream",
     "text": [
      "Updated article 482 in newspaper_D-Day_processed.json with evaluations.\n"
     ]
    },
    {
     "name": "stderr",
     "output_type": "stream",
     "text": [
      "Setting `pad_token_id` to `eos_token_id`:128001 for open-end generation.\n",
      "Setting `pad_token_id` to `eos_token_id`:128001 for open-end generation.\n",
      "Setting `pad_token_id` to `eos_token_id`:128001 for open-end generation.\n"
     ]
    },
    {
     "name": "stdout",
     "output_type": "stream",
     "text": [
      "Updated article 484 in newspaper_D-Day_processed.json with evaluations.\n"
     ]
    },
    {
     "name": "stderr",
     "output_type": "stream",
     "text": [
      "Setting `pad_token_id` to `eos_token_id`:128001 for open-end generation.\n",
      "Setting `pad_token_id` to `eos_token_id`:128001 for open-end generation.\n",
      "Setting `pad_token_id` to `eos_token_id`:128001 for open-end generation.\n"
     ]
    },
    {
     "name": "stdout",
     "output_type": "stream",
     "text": [
      "Updated article 488 in newspaper_D-Day_processed.json with evaluations.\n"
     ]
    },
    {
     "name": "stderr",
     "output_type": "stream",
     "text": [
      "Setting `pad_token_id` to `eos_token_id`:128001 for open-end generation.\n",
      "Setting `pad_token_id` to `eos_token_id`:128001 for open-end generation.\n",
      "Setting `pad_token_id` to `eos_token_id`:128001 for open-end generation.\n"
     ]
    },
    {
     "name": "stdout",
     "output_type": "stream",
     "text": [
      "Updated article 489 in newspaper_D-Day_processed.json with evaluations.\n"
     ]
    },
    {
     "name": "stderr",
     "output_type": "stream",
     "text": [
      "Setting `pad_token_id` to `eos_token_id`:128001 for open-end generation.\n",
      "Setting `pad_token_id` to `eos_token_id`:128001 for open-end generation.\n",
      "Setting `pad_token_id` to `eos_token_id`:128001 for open-end generation.\n"
     ]
    },
    {
     "name": "stdout",
     "output_type": "stream",
     "text": [
      "Updated article 490 in newspaper_D-Day_processed.json with evaluations.\n"
     ]
    },
    {
     "name": "stderr",
     "output_type": "stream",
     "text": [
      "Setting `pad_token_id` to `eos_token_id`:128001 for open-end generation.\n",
      "Setting `pad_token_id` to `eos_token_id`:128001 for open-end generation.\n",
      "Setting `pad_token_id` to `eos_token_id`:128001 for open-end generation.\n"
     ]
    },
    {
     "name": "stdout",
     "output_type": "stream",
     "text": [
      "Updated article 491 in newspaper_D-Day_processed.json with evaluations.\n"
     ]
    },
    {
     "name": "stderr",
     "output_type": "stream",
     "text": [
      "Setting `pad_token_id` to `eos_token_id`:128001 for open-end generation.\n",
      "Setting `pad_token_id` to `eos_token_id`:128001 for open-end generation.\n",
      "Setting `pad_token_id` to `eos_token_id`:128001 for open-end generation.\n"
     ]
    },
    {
     "name": "stdout",
     "output_type": "stream",
     "text": [
      "Updated article 493 in newspaper_D-Day_processed.json with evaluations.\n"
     ]
    },
    {
     "name": "stderr",
     "output_type": "stream",
     "text": [
      "Setting `pad_token_id` to `eos_token_id`:128001 for open-end generation.\n",
      "Setting `pad_token_id` to `eos_token_id`:128001 for open-end generation.\n",
      "Setting `pad_token_id` to `eos_token_id`:128001 for open-end generation.\n"
     ]
    },
    {
     "name": "stdout",
     "output_type": "stream",
     "text": [
      "Updated article 495 in newspaper_D-Day_processed.json with evaluations.\n"
     ]
    },
    {
     "name": "stderr",
     "output_type": "stream",
     "text": [
      "Setting `pad_token_id` to `eos_token_id`:128001 for open-end generation.\n",
      "Setting `pad_token_id` to `eos_token_id`:128001 for open-end generation.\n",
      "Setting `pad_token_id` to `eos_token_id`:128001 for open-end generation.\n"
     ]
    },
    {
     "name": "stdout",
     "output_type": "stream",
     "text": [
      "Updated article 496 in newspaper_D-Day_processed.json with evaluations.\n"
     ]
    },
    {
     "name": "stderr",
     "output_type": "stream",
     "text": [
      "Setting `pad_token_id` to `eos_token_id`:128001 for open-end generation.\n",
      "Setting `pad_token_id` to `eos_token_id`:128001 for open-end generation.\n",
      "Setting `pad_token_id` to `eos_token_id`:128001 for open-end generation.\n"
     ]
    },
    {
     "name": "stdout",
     "output_type": "stream",
     "text": [
      "Updated article 497 in newspaper_D-Day_processed.json with evaluations.\n"
     ]
    },
    {
     "name": "stderr",
     "output_type": "stream",
     "text": [
      "Setting `pad_token_id` to `eos_token_id`:128001 for open-end generation.\n",
      "Setting `pad_token_id` to `eos_token_id`:128001 for open-end generation.\n"
     ]
    },
    {
     "name": "stdout",
     "output_type": "stream",
     "text": [
      "Updated article 498 in newspaper_D-Day_processed.json with evaluations.\n",
      "Evaluation results saved to /content/drive/My Drive/Aligning AI Project/Data/output_evaluation/evaluation_results_0503.xlsx (Sheet: 0402_summaries_german_Eval_1)\n"
     ]
    }
   ],
   "source": [
    "import os\n",
    "# Define folder path to files\n",
    "# f\"{path}/output_summary/0402_summaries_german\"\n",
    "# f\"{path}/output_summary/2102_summaries_german\"\n",
    "# f\"{path}/output_summary/0402_summaries_english\n",
    "input_folder = f\"{path}/output_summary/0402_summaries_german\"\n",
    "output_folder = f\"{path}/output_evaluation/output_0503\"\n",
    "output_excel = f\"{path}/output_evaluation/evaluation_results_0503.xlsx\"\n",
    "start_index = 0\n",
    "end_index = 0\n",
    "\n",
    "# Run evaluation\n",
    "evaluate_and_update_json_files(input_folder, output_folder, output_excel, start_index, end_index)"
   ]
  },
  {
   "cell_type": "markdown",
   "metadata": {
    "id": "aajTlsAvuHPO"
   },
   "source": [
    "## Aggregating results"
   ]
  },
  {
   "cell_type": "code",
   "execution_count": null,
   "metadata": {
    "id": "lo_zuRF6ujji"
   },
   "outputs": [],
   "source": [
    "import os\n",
    "# Define folder path to files\n",
    "input_excel = f\"{path}/output_evaluation/evaluation_results_0503.xlsx\"\n",
    "output_excel = f\"{path}/output_evaluation/evaluation_results_aggregated_0503.xlsx\""
   ]
  },
  {
   "cell_type": "code",
   "execution_count": null,
   "metadata": {
    "colab": {
     "base_uri": "https://localhost:8080/"
    },
    "id": "TJJSg58WK6xC",
    "outputId": "40e4af53-cc0a-4ad5-c1d5-5dbf64f9a966"
   },
   "outputs": [
    {
     "name": "stdout",
     "output_type": "stream",
     "text": [
      "Aggregated data saved to /content/drive/My Drive/Aligning AI Project/Data/output_evaluation/evaluation_results_aggregated_0503.xlsx\n"
     ]
    }
   ],
   "source": [
    "import pandas as pd\n",
    "import ast\n",
    "import re\n",
    "from openpyxl import load_workbook\n",
    "\n",
    "\n",
    "# Initialize a list to store extracted data\n",
    "processed_data = []\n",
    "\n",
    "# Define entity names for extraction\n",
    "entities = [\"Olaf Scholz\", \"SPD\", \"Robert Habeck\", \"die Gruenen\", \"Christian Lindner\", \"FDP\", \"the coalition breakdown\"]\n",
    "\n",
    "# Load the workbook and get sheet names\n",
    "wb = load_workbook(input_excel)\n",
    "sheet_names = wb.sheetnames\n",
    "\n",
    "# Iterate through all sheets in the Excel file\n",
    "for sheet_name in sheet_names:\n",
    "    df = pd.read_excel(input_excel, sheet_name=sheet_name, header=None)  # Read without headers\n",
    "\n",
    "    # Skip empty sheets\n",
    "    if df.empty:\n",
    "        continue\n",
    "\n",
    "    # Assign column names manually (assuming a fixed structure)\n",
    "    df.columns = [\"A\", \"B\", \"C\", \"D\", \"E\", \"F\", \"G\", \"H\"]  # Adjust if needed\n",
    "\n",
    "    # Insert an empty row with the sheet name in the first column\n",
    "    processed_data.append([\"\", sheet_name] + [\"\"] * (len(entities) * 3 + 2))  # Offset to match column count\n",
    "\n",
    "    # Iterate through each row, starting from row 3 (zero-based index 2)\n",
    "    for index, row in df.iloc[2:].iterrows():\n",
    "        article_file_name = row[\"A\"]\n",
    "        article_number = row[\"B\"]\n",
    "        article_name = row[\"C\"]\n",
    "        content_f = row[\"F\"]\n",
    "        content_g = row[\"G\"]\n",
    "        content_h = row[\"H\"]\n",
    "\n",
    "        # Initialize extracted values\n",
    "        summary_consistency = None\n",
    "        article_scores = {entity: None for entity in entities}\n",
    "        summary_scores = {entity: None for entity in entities}\n",
    "        comparison_scores = {entity: None for entity in entities}\n",
    "\n",
    "        # Process column F for summary_consistency\n",
    "        try:\n",
    "            parsed_f = ast.literal_eval(str(content_f))\n",
    "            if isinstance(parsed_f, dict) and \"content\" in parsed_f and \"ANSWER\" in parsed_f[\"content\"]:\n",
    "                match = re.search(r\"ANSWER:(-?\\d+)\", parsed_f[\"content\"])\n",
    "                if match:\n",
    "                    summary_consistency = int(match.group(1))\n",
    "        except (ValueError, SyntaxError):\n",
    "            pass  # Ignore parsing errors\n",
    "\n",
    "        # Process column G for article scores\n",
    "        try:\n",
    "            parsed_g = ast.literal_eval(str(content_g))\n",
    "            if isinstance(parsed_g, dict) and \"content\" in parsed_g:\n",
    "                scores = dict(item.split(\":\") for item in parsed_g[\"content\"].split(\", \"))\n",
    "                for entity in entities:\n",
    "                    if entity in scores and scores[entity] not in [\"N/A\", \"\"]:\n",
    "                        article_scores[entity] = int(scores[entity])\n",
    "        except (ValueError, SyntaxError):\n",
    "            pass  # Ignore parsing errors\n",
    "\n",
    "        # Process column H for summary scores\n",
    "        try:\n",
    "            parsed_h = ast.literal_eval(str(content_h))\n",
    "            if isinstance(parsed_h, dict) and \"content\" in parsed_h:\n",
    "                scores = dict(item.split(\":\") for item in parsed_h[\"content\"].split(\", \"))\n",
    "                for entity in entities:\n",
    "                    if entity in scores and scores[entity] not in [\"N/A\", \"\"]:\n",
    "                        summary_scores[entity] = int(scores[entity])\n",
    "        except (ValueError, SyntaxError):\n",
    "            pass  # Ignore parsing errors\n",
    "\n",
    "        # Calculate comparison values\n",
    "        for entity in entities:\n",
    "            summary_value = summary_scores[entity]\n",
    "            article_value = article_scores[entity]\n",
    "\n",
    "            if summary_value is None:\n",
    "                comparison_scores[entity] = 0  # If summary is empty, set 0\n",
    "            elif summary_value == article_value:\n",
    "                comparison_scores[entity] = 1  # If they match, set 1\n",
    "            else:\n",
    "                comparison_scores[entity] = -1  # If they don't match, set -1\n",
    "\n",
    "        # Append processed data\n",
    "        processed_data.append([\n",
    "            index,  # Unique ID (starting from 1)\n",
    "            article_file_name,\n",
    "            article_number,\n",
    "            article_name,\n",
    "            summary_consistency,\n",
    "            *[article_scores[entity] for entity in entities],\n",
    "            *[summary_scores[entity] for entity in entities],\n",
    "            *[comparison_scores[entity] for entity in entities],  # Add comparison scores\n",
    "        ])\n",
    "\n",
    "# Define column headers\n",
    "headers = [\"ID\", \"Article File Name\", \"Article_Number\", \"Article_Name\", \"Summary_Consistency\"]\n",
    "headers += [f\"Article_{entity.replace(' ', '_')}\" for entity in entities]\n",
    "headers += [f\"Summary_{entity.replace(' ', '_')}\" for entity in entities]\n",
    "headers += [f\"Comparison_{entity.replace(' ', '_')}\" for entity in entities]\n",
    "\n",
    "# Create a new DataFrame\n",
    "df_processed = pd.DataFrame(processed_data, columns=headers)\n",
    "\n",
    "# Save to Excel\n",
    "df_processed.to_excel(output_excel, index=False, engine=\"openpyxl\")\n",
    "\n",
    "print(f\"Aggregated data saved to {output_excel}\")\n"
   ]
  },
  {
   "cell_type": "code",
   "execution_count": null,
   "metadata": {
    "colab": {
     "base_uri": "https://localhost:8080/"
    },
    "id": "vGIuXCmzz6-y",
    "outputId": "fa130b82-9b89-437b-b266-c9c7937c5296"
   },
   "outputs": [
    {
     "name": "stdout",
     "output_type": "stream",
     "text": [
      "Formatted data saved to /content/drive/My Drive/Aligning AI Project/Data/output_evaluation/evaluation_results_aggregated_0503.xlsx\n"
     ]
    }
   ],
   "source": [
    "from openpyxl import load_workbook\n",
    "from openpyxl.styles import PatternFill\n",
    "# === Apply Formatting in Excel ===\n",
    "wb = load_workbook(output_excel)\n",
    "ws = wb.active\n",
    "\n",
    "# Define color fills\n",
    "light_blue_fill = PatternFill(start_color=\"ADD8E6\", end_color=\"ADD8E6\", fill_type=\"solid\")  # Light blue\n",
    "light_orange_fill = PatternFill(start_color=\"FFD580\", end_color=\"FFD580\", fill_type=\"solid\")  # Light orange\n",
    "\n",
    "# Apply light blue to first columns (A:D in Excel, 1-based indexing)\n",
    "for col in range(1, 5):  # Columns 1 to 4 (ID, Article Number, Article Name, Summary Consistency)\n",
    "    for row in range(1, ws.max_row + 1):\n",
    "        ws.cell(row=row, column=col).fill = light_blue_fill\n",
    "\n",
    "# Apply light orange to Comparison columns (Dynamically determined)\n",
    "for col_idx, col_name in enumerate(headers, start=1):\n",
    "    if col_name.startswith(\"Comparison_\"):  # Identify comparison columns\n",
    "        for row in range(1, ws.max_row + 1):\n",
    "            ws.cell(row=row, column=col_idx).fill = light_orange_fill\n",
    "\n",
    "# Save workbook with new formatting\n",
    "wb.save(output_excel)\n",
    "print(f\"Formatted data saved to {output_excel}\")\n"
   ]
  }
 ],
 "metadata": {
  "accelerator": "GPU",
  "colab": {
   "collapsed_sections": [
    "uLTKnbsS5I5N",
    "r1SB1XC154Uh",
    "rPrHsD4C8oz4",
    "AGmFlw56BuZt",
    "Fr7-6HLNimZD"
   ],
   "gpuType": "A100",
   "include_colab_link": true,
   "machine_shape": "hm",
   "provenance": []
  },
  "kernelspec": {
   "display_name": "Python 3",
   "name": "python3"
  },
  "language_info": {
   "name": "python"
  },
  "widgets": {
   "application/vnd.jupyter.widget-state+json": {
    "007df68ac24a41f58487d8595beeba67": {
     "model_module": "@jupyter-widgets/base",
     "model_module_version": "1.2.0",
     "model_name": "LayoutModel",
     "state": {
      "_model_module": "@jupyter-widgets/base",
      "_model_module_version": "1.2.0",
      "_model_name": "LayoutModel",
      "_view_count": null,
      "_view_module": "@jupyter-widgets/base",
      "_view_module_version": "1.2.0",
      "_view_name": "LayoutView",
      "align_content": null,
      "align_items": null,
      "align_self": null,
      "border": null,
      "bottom": null,
      "display": null,
      "flex": null,
      "flex_flow": null,
      "grid_area": null,
      "grid_auto_columns": null,
      "grid_auto_flow": null,
      "grid_auto_rows": null,
      "grid_column": null,
      "grid_gap": null,
      "grid_row": null,
      "grid_template_areas": null,
      "grid_template_columns": null,
      "grid_template_rows": null,
      "height": null,
      "justify_content": null,
      "justify_items": null,
      "left": null,
      "margin": null,
      "max_height": null,
      "max_width": null,
      "min_height": null,
      "min_width": null,
      "object_fit": null,
      "object_position": null,
      "order": null,
      "overflow": null,
      "overflow_x": null,
      "overflow_y": null,
      "padding": null,
      "right": null,
      "top": null,
      "visibility": null,
      "width": null
     }
    },
    "01f04bbcaaf44ecfb68b724f8bf21864": {
     "model_module": "@jupyter-widgets/base",
     "model_module_version": "1.2.0",
     "model_name": "LayoutModel",
     "state": {
      "_model_module": "@jupyter-widgets/base",
      "_model_module_version": "1.2.0",
      "_model_name": "LayoutModel",
      "_view_count": null,
      "_view_module": "@jupyter-widgets/base",
      "_view_module_version": "1.2.0",
      "_view_name": "LayoutView",
      "align_content": null,
      "align_items": null,
      "align_self": null,
      "border": null,
      "bottom": null,
      "display": null,
      "flex": null,
      "flex_flow": null,
      "grid_area": null,
      "grid_auto_columns": null,
      "grid_auto_flow": null,
      "grid_auto_rows": null,
      "grid_column": null,
      "grid_gap": null,
      "grid_row": null,
      "grid_template_areas": null,
      "grid_template_columns": null,
      "grid_template_rows": null,
      "height": null,
      "justify_content": null,
      "justify_items": null,
      "left": null,
      "margin": null,
      "max_height": null,
      "max_width": null,
      "min_height": null,
      "min_width": null,
      "object_fit": null,
      "object_position": null,
      "order": null,
      "overflow": null,
      "overflow_x": null,
      "overflow_y": null,
      "padding": null,
      "right": null,
      "top": null,
      "visibility": null,
      "width": null
     }
    },
    "02138200be2c4774bd9e91117c0dae6c": {
     "model_module": "@jupyter-widgets/controls",
     "model_module_version": "1.5.0",
     "model_name": "DescriptionStyleModel",
     "state": {
      "_model_module": "@jupyter-widgets/controls",
      "_model_module_version": "1.5.0",
      "_model_name": "DescriptionStyleModel",
      "_view_count": null,
      "_view_module": "@jupyter-widgets/base",
      "_view_module_version": "1.2.0",
      "_view_name": "StyleView",
      "description_width": ""
     }
    },
    "0295e0d963d64f69ba6679ac5ed93c5d": {
     "model_module": "@jupyter-widgets/controls",
     "model_module_version": "1.5.0",
     "model_name": "DescriptionStyleModel",
     "state": {
      "_model_module": "@jupyter-widgets/controls",
      "_model_module_version": "1.5.0",
      "_model_name": "DescriptionStyleModel",
      "_view_count": null,
      "_view_module": "@jupyter-widgets/base",
      "_view_module_version": "1.2.0",
      "_view_name": "StyleView",
      "description_width": ""
     }
    },
    "0575917c678d4b5b975ea287c89d52ab": {
     "model_module": "@jupyter-widgets/base",
     "model_module_version": "1.2.0",
     "model_name": "LayoutModel",
     "state": {
      "_model_module": "@jupyter-widgets/base",
      "_model_module_version": "1.2.0",
      "_model_name": "LayoutModel",
      "_view_count": null,
      "_view_module": "@jupyter-widgets/base",
      "_view_module_version": "1.2.0",
      "_view_name": "LayoutView",
      "align_content": null,
      "align_items": null,
      "align_self": null,
      "border": null,
      "bottom": null,
      "display": null,
      "flex": null,
      "flex_flow": null,
      "grid_area": null,
      "grid_auto_columns": null,
      "grid_auto_flow": null,
      "grid_auto_rows": null,
      "grid_column": null,
      "grid_gap": null,
      "grid_row": null,
      "grid_template_areas": null,
      "grid_template_columns": null,
      "grid_template_rows": null,
      "height": null,
      "justify_content": null,
      "justify_items": null,
      "left": null,
      "margin": null,
      "max_height": null,
      "max_width": null,
      "min_height": null,
      "min_width": null,
      "object_fit": null,
      "object_position": null,
      "order": null,
      "overflow": null,
      "overflow_x": null,
      "overflow_y": null,
      "padding": null,
      "right": null,
      "top": null,
      "visibility": null,
      "width": null
     }
    },
    "068ccaaae61949ef9088c115f27c704f": {
     "model_module": "@jupyter-widgets/base",
     "model_module_version": "1.2.0",
     "model_name": "LayoutModel",
     "state": {
      "_model_module": "@jupyter-widgets/base",
      "_model_module_version": "1.2.0",
      "_model_name": "LayoutModel",
      "_view_count": null,
      "_view_module": "@jupyter-widgets/base",
      "_view_module_version": "1.2.0",
      "_view_name": "LayoutView",
      "align_content": null,
      "align_items": null,
      "align_self": null,
      "border": null,
      "bottom": null,
      "display": null,
      "flex": null,
      "flex_flow": null,
      "grid_area": null,
      "grid_auto_columns": null,
      "grid_auto_flow": null,
      "grid_auto_rows": null,
      "grid_column": null,
      "grid_gap": null,
      "grid_row": null,
      "grid_template_areas": null,
      "grid_template_columns": null,
      "grid_template_rows": null,
      "height": null,
      "justify_content": null,
      "justify_items": null,
      "left": null,
      "margin": null,
      "max_height": null,
      "max_width": null,
      "min_height": null,
      "min_width": null,
      "object_fit": null,
      "object_position": null,
      "order": null,
      "overflow": null,
      "overflow_x": null,
      "overflow_y": null,
      "padding": null,
      "right": null,
      "top": null,
      "visibility": null,
      "width": null
     }
    },
    "07701cdbfced42dea04b51210c997866": {
     "model_module": "@jupyter-widgets/base",
     "model_module_version": "1.2.0",
     "model_name": "LayoutModel",
     "state": {
      "_model_module": "@jupyter-widgets/base",
      "_model_module_version": "1.2.0",
      "_model_name": "LayoutModel",
      "_view_count": null,
      "_view_module": "@jupyter-widgets/base",
      "_view_module_version": "1.2.0",
      "_view_name": "LayoutView",
      "align_content": null,
      "align_items": null,
      "align_self": null,
      "border": null,
      "bottom": null,
      "display": null,
      "flex": null,
      "flex_flow": null,
      "grid_area": null,
      "grid_auto_columns": null,
      "grid_auto_flow": null,
      "grid_auto_rows": null,
      "grid_column": null,
      "grid_gap": null,
      "grid_row": null,
      "grid_template_areas": null,
      "grid_template_columns": null,
      "grid_template_rows": null,
      "height": null,
      "justify_content": null,
      "justify_items": null,
      "left": null,
      "margin": null,
      "max_height": null,
      "max_width": null,
      "min_height": null,
      "min_width": null,
      "object_fit": null,
      "object_position": null,
      "order": null,
      "overflow": null,
      "overflow_x": null,
      "overflow_y": null,
      "padding": null,
      "right": null,
      "top": null,
      "visibility": null,
      "width": null
     }
    },
    "0adf04edb76e4699bfa0506deac5e07c": {
     "model_module": "@jupyter-widgets/controls",
     "model_module_version": "1.5.0",
     "model_name": "HTMLModel",
     "state": {
      "_dom_classes": [],
      "_model_module": "@jupyter-widgets/controls",
      "_model_module_version": "1.5.0",
      "_model_name": "HTMLModel",
      "_view_count": null,
      "_view_module": "@jupyter-widgets/controls",
      "_view_module_version": "1.5.0",
      "_view_name": "HTMLView",
      "description": "",
      "description_tooltip": null,
      "layout": "IPY_MODEL_ce4cb132a1ec47b093beb5e3b106ceb4",
      "placeholder": "​",
      "style": "IPY_MODEL_5a325a1315f94e80ae36df3279913a69",
      "value": " 9.09M/9.09M [00:00&lt;00:00, 10.5MB/s]"
     }
    },
    "11100b7859ab49ab863439aa98532549": {
     "model_module": "@jupyter-widgets/base",
     "model_module_version": "1.2.0",
     "model_name": "LayoutModel",
     "state": {
      "_model_module": "@jupyter-widgets/base",
      "_model_module_version": "1.2.0",
      "_model_name": "LayoutModel",
      "_view_count": null,
      "_view_module": "@jupyter-widgets/base",
      "_view_module_version": "1.2.0",
      "_view_name": "LayoutView",
      "align_content": null,
      "align_items": null,
      "align_self": null,
      "border": null,
      "bottom": null,
      "display": null,
      "flex": null,
      "flex_flow": null,
      "grid_area": null,
      "grid_auto_columns": null,
      "grid_auto_flow": null,
      "grid_auto_rows": null,
      "grid_column": null,
      "grid_gap": null,
      "grid_row": null,
      "grid_template_areas": null,
      "grid_template_columns": null,
      "grid_template_rows": null,
      "height": null,
      "justify_content": null,
      "justify_items": null,
      "left": null,
      "margin": null,
      "max_height": null,
      "max_width": null,
      "min_height": null,
      "min_width": null,
      "object_fit": null,
      "object_position": null,
      "order": null,
      "overflow": null,
      "overflow_x": null,
      "overflow_y": null,
      "padding": null,
      "right": null,
      "top": null,
      "visibility": null,
      "width": null
     }
    },
    "14b4f233252d4278b134625d3fb496cc": {
     "model_module": "@jupyter-widgets/base",
     "model_module_version": "1.2.0",
     "model_name": "LayoutModel",
     "state": {
      "_model_module": "@jupyter-widgets/base",
      "_model_module_version": "1.2.0",
      "_model_name": "LayoutModel",
      "_view_count": null,
      "_view_module": "@jupyter-widgets/base",
      "_view_module_version": "1.2.0",
      "_view_name": "LayoutView",
      "align_content": null,
      "align_items": null,
      "align_self": null,
      "border": null,
      "bottom": null,
      "display": null,
      "flex": null,
      "flex_flow": null,
      "grid_area": null,
      "grid_auto_columns": null,
      "grid_auto_flow": null,
      "grid_auto_rows": null,
      "grid_column": null,
      "grid_gap": null,
      "grid_row": null,
      "grid_template_areas": null,
      "grid_template_columns": null,
      "grid_template_rows": null,
      "height": null,
      "justify_content": null,
      "justify_items": null,
      "left": null,
      "margin": null,
      "max_height": null,
      "max_width": null,
      "min_height": null,
      "min_width": null,
      "object_fit": null,
      "object_position": null,
      "order": null,
      "overflow": null,
      "overflow_x": null,
      "overflow_y": null,
      "padding": null,
      "right": null,
      "top": null,
      "visibility": null,
      "width": null
     }
    },
    "157c4a26710a44c3a1ff664a41b767cd": {
     "model_module": "@jupyter-widgets/controls",
     "model_module_version": "1.5.0",
     "model_name": "HBoxModel",
     "state": {
      "_dom_classes": [],
      "_model_module": "@jupyter-widgets/controls",
      "_model_module_version": "1.5.0",
      "_model_name": "HBoxModel",
      "_view_count": null,
      "_view_module": "@jupyter-widgets/controls",
      "_view_module_version": "1.5.0",
      "_view_name": "HBoxView",
      "box_style": "",
      "children": [
       "IPY_MODEL_7e91ea1c7bbd4337957e78369811b0da",
       "IPY_MODEL_b7aa53b3ebaa413f8793930e5e6ba03e",
       "IPY_MODEL_a85d92b9c99f452fb08363b454de0efd"
      ],
      "layout": "IPY_MODEL_838b6a11923d49e281c1a066d9fa7bd7"
     }
    },
    "161ba3b1b4bf4c40afd2cb00cdad3856": {
     "model_module": "@jupyter-widgets/controls",
     "model_module_version": "1.5.0",
     "model_name": "DescriptionStyleModel",
     "state": {
      "_model_module": "@jupyter-widgets/controls",
      "_model_module_version": "1.5.0",
      "_model_name": "DescriptionStyleModel",
      "_view_count": null,
      "_view_module": "@jupyter-widgets/base",
      "_view_module_version": "1.2.0",
      "_view_name": "StyleView",
      "description_width": ""
     }
    },
    "1836e806aabe45be86892722f6e63b0b": {
     "model_module": "@jupyter-widgets/controls",
     "model_module_version": "1.5.0",
     "model_name": "HBoxModel",
     "state": {
      "_dom_classes": [],
      "_model_module": "@jupyter-widgets/controls",
      "_model_module_version": "1.5.0",
      "_model_name": "HBoxModel",
      "_view_count": null,
      "_view_module": "@jupyter-widgets/controls",
      "_view_module_version": "1.5.0",
      "_view_name": "HBoxView",
      "box_style": "",
      "children": [
       "IPY_MODEL_6a01508411e345cf90529d6f5c32b3b0",
       "IPY_MODEL_eeb2b70ade3f42bb9ee7fc42f379d583",
       "IPY_MODEL_3e8fe1598ed246ef8b8f7375c25be692"
      ],
      "layout": "IPY_MODEL_77466654ba4f4cf19e30c2bf3f693fce"
     }
    },
    "1a2d9a2dcee64407a058da0a32050a14": {
     "model_module": "@jupyter-widgets/base",
     "model_module_version": "1.2.0",
     "model_name": "LayoutModel",
     "state": {
      "_model_module": "@jupyter-widgets/base",
      "_model_module_version": "1.2.0",
      "_model_name": "LayoutModel",
      "_view_count": null,
      "_view_module": "@jupyter-widgets/base",
      "_view_module_version": "1.2.0",
      "_view_name": "LayoutView",
      "align_content": null,
      "align_items": null,
      "align_self": null,
      "border": null,
      "bottom": null,
      "display": null,
      "flex": null,
      "flex_flow": null,
      "grid_area": null,
      "grid_auto_columns": null,
      "grid_auto_flow": null,
      "grid_auto_rows": null,
      "grid_column": null,
      "grid_gap": null,
      "grid_row": null,
      "grid_template_areas": null,
      "grid_template_columns": null,
      "grid_template_rows": null,
      "height": null,
      "justify_content": null,
      "justify_items": null,
      "left": null,
      "margin": null,
      "max_height": null,
      "max_width": null,
      "min_height": null,
      "min_width": null,
      "object_fit": null,
      "object_position": null,
      "order": null,
      "overflow": null,
      "overflow_x": null,
      "overflow_y": null,
      "padding": null,
      "right": null,
      "top": null,
      "visibility": null,
      "width": null
     }
    },
    "1abba07b370b488dbac23367bd921131": {
     "model_module": "@jupyter-widgets/base",
     "model_module_version": "1.2.0",
     "model_name": "LayoutModel",
     "state": {
      "_model_module": "@jupyter-widgets/base",
      "_model_module_version": "1.2.0",
      "_model_name": "LayoutModel",
      "_view_count": null,
      "_view_module": "@jupyter-widgets/base",
      "_view_module_version": "1.2.0",
      "_view_name": "LayoutView",
      "align_content": null,
      "align_items": null,
      "align_self": null,
      "border": null,
      "bottom": null,
      "display": null,
      "flex": null,
      "flex_flow": null,
      "grid_area": null,
      "grid_auto_columns": null,
      "grid_auto_flow": null,
      "grid_auto_rows": null,
      "grid_column": null,
      "grid_gap": null,
      "grid_row": null,
      "grid_template_areas": null,
      "grid_template_columns": null,
      "grid_template_rows": null,
      "height": null,
      "justify_content": null,
      "justify_items": null,
      "left": null,
      "margin": null,
      "max_height": null,
      "max_width": null,
      "min_height": null,
      "min_width": null,
      "object_fit": null,
      "object_position": null,
      "order": null,
      "overflow": null,
      "overflow_x": null,
      "overflow_y": null,
      "padding": null,
      "right": null,
      "top": null,
      "visibility": null,
      "width": null
     }
    },
    "1b0f526b70a848bb957477e99bf06e1c": {
     "model_module": "@jupyter-widgets/controls",
     "model_module_version": "1.5.0",
     "model_name": "HBoxModel",
     "state": {
      "_dom_classes": [],
      "_model_module": "@jupyter-widgets/controls",
      "_model_module_version": "1.5.0",
      "_model_name": "HBoxModel",
      "_view_count": null,
      "_view_module": "@jupyter-widgets/controls",
      "_view_module_version": "1.5.0",
      "_view_name": "HBoxView",
      "box_style": "",
      "children": [
       "IPY_MODEL_24c3eadd0c6e4993b6127969bc1ab4d8",
       "IPY_MODEL_94e6b162420546ec9a8eb3e7c239cd5e",
       "IPY_MODEL_c629ec221fb244d48b5edac6565de7f0"
      ],
      "layout": "IPY_MODEL_6550ce31626243fd876ad7835de9619f"
     }
    },
    "1b99b37eddf54d23a7dfa20f58638a1d": {
     "model_module": "@jupyter-widgets/controls",
     "model_module_version": "1.5.0",
     "model_name": "FloatProgressModel",
     "state": {
      "_dom_classes": [],
      "_model_module": "@jupyter-widgets/controls",
      "_model_module_version": "1.5.0",
      "_model_name": "FloatProgressModel",
      "_view_count": null,
      "_view_module": "@jupyter-widgets/controls",
      "_view_module_version": "1.5.0",
      "_view_name": "ProgressView",
      "bar_style": "success",
      "description": "",
      "description_tooltip": null,
      "layout": "IPY_MODEL_427a82c5c6d641728937cad091ecf4c1",
      "max": 4,
      "min": 0,
      "orientation": "horizontal",
      "style": "IPY_MODEL_e98b1c8061754f359eefed27f63da6d4",
      "value": 4
     }
    },
    "1c833c9b85124610a6ab5198038b8ba9": {
     "model_module": "@jupyter-widgets/controls",
     "model_module_version": "1.5.0",
     "model_name": "DescriptionStyleModel",
     "state": {
      "_model_module": "@jupyter-widgets/controls",
      "_model_module_version": "1.5.0",
      "_model_name": "DescriptionStyleModel",
      "_view_count": null,
      "_view_module": "@jupyter-widgets/base",
      "_view_module_version": "1.2.0",
      "_view_name": "StyleView",
      "description_width": ""
     }
    },
    "1db649bc88c0431290b8d8313f7a5c88": {
     "model_module": "@jupyter-widgets/base",
     "model_module_version": "1.2.0",
     "model_name": "LayoutModel",
     "state": {
      "_model_module": "@jupyter-widgets/base",
      "_model_module_version": "1.2.0",
      "_model_name": "LayoutModel",
      "_view_count": null,
      "_view_module": "@jupyter-widgets/base",
      "_view_module_version": "1.2.0",
      "_view_name": "LayoutView",
      "align_content": null,
      "align_items": null,
      "align_self": null,
      "border": null,
      "bottom": null,
      "display": null,
      "flex": null,
      "flex_flow": null,
      "grid_area": null,
      "grid_auto_columns": null,
      "grid_auto_flow": null,
      "grid_auto_rows": null,
      "grid_column": null,
      "grid_gap": null,
      "grid_row": null,
      "grid_template_areas": null,
      "grid_template_columns": null,
      "grid_template_rows": null,
      "height": null,
      "justify_content": null,
      "justify_items": null,
      "left": null,
      "margin": null,
      "max_height": null,
      "max_width": null,
      "min_height": null,
      "min_width": null,
      "object_fit": null,
      "object_position": null,
      "order": null,
      "overflow": null,
      "overflow_x": null,
      "overflow_y": null,
      "padding": null,
      "right": null,
      "top": null,
      "visibility": null,
      "width": null
     }
    },
    "24c3eadd0c6e4993b6127969bc1ab4d8": {
     "model_module": "@jupyter-widgets/controls",
     "model_module_version": "1.5.0",
     "model_name": "HTMLModel",
     "state": {
      "_dom_classes": [],
      "_model_module": "@jupyter-widgets/controls",
      "_model_module_version": "1.5.0",
      "_model_name": "HTMLModel",
      "_view_count": null,
      "_view_module": "@jupyter-widgets/controls",
      "_view_module_version": "1.5.0",
      "_view_name": "HTMLView",
      "description": "",
      "description_tooltip": null,
      "layout": "IPY_MODEL_d8cc185865394000af37f25c5a7473e1",
      "placeholder": "​",
      "style": "IPY_MODEL_02138200be2c4774bd9e91117c0dae6c",
      "value": "model.safetensors.index.json: 100%"
     }
    },
    "272e5e955b2a4b0a9bc2fb11fab9bf30": {
     "model_module": "@jupyter-widgets/controls",
     "model_module_version": "1.5.0",
     "model_name": "HTMLModel",
     "state": {
      "_dom_classes": [],
      "_model_module": "@jupyter-widgets/controls",
      "_model_module_version": "1.5.0",
      "_model_name": "HTMLModel",
      "_view_count": null,
      "_view_module": "@jupyter-widgets/controls",
      "_view_module_version": "1.5.0",
      "_view_name": "HTMLView",
      "description": "",
      "description_tooltip": null,
      "layout": "IPY_MODEL_b1efe2f7743e410ab52b89fd3c396860",
      "placeholder": "​",
      "style": "IPY_MODEL_c8c76ef0aa134af0affaec76cfe8edd2",
      "value": " 108/108 [01:09&lt;00:00,  1.43it/s]"
     }
    },
    "2a00d5ea45f244e5a95a4a5311f47e18": {
     "model_module": "@jupyter-widgets/controls",
     "model_module_version": "1.5.0",
     "model_name": "DescriptionStyleModel",
     "state": {
      "_model_module": "@jupyter-widgets/controls",
      "_model_module_version": "1.5.0",
      "_model_name": "DescriptionStyleModel",
      "_view_count": null,
      "_view_module": "@jupyter-widgets/base",
      "_view_module_version": "1.2.0",
      "_view_name": "StyleView",
      "description_width": ""
     }
    },
    "2ae66d7364e5480db60acf19ea28ad81": {
     "model_module": "@jupyter-widgets/controls",
     "model_module_version": "1.5.0",
     "model_name": "FloatProgressModel",
     "state": {
      "_dom_classes": [],
      "_model_module": "@jupyter-widgets/controls",
      "_model_module_version": "1.5.0",
      "_model_name": "FloatProgressModel",
      "_view_count": null,
      "_view_module": "@jupyter-widgets/controls",
      "_view_module_version": "1.5.0",
      "_view_name": "ProgressView",
      "bar_style": "success",
      "description": "",
      "description_tooltip": null,
      "layout": "IPY_MODEL_11100b7859ab49ab863439aa98532549",
      "max": 55351,
      "min": 0,
      "orientation": "horizontal",
      "style": "IPY_MODEL_afb66d9fe78b42a3bdb8b9505b02b50b",
      "value": 55351
     }
    },
    "305b5aee4cd542988a68b97f12547453": {
     "model_module": "@jupyter-widgets/controls",
     "model_module_version": "1.5.0",
     "model_name": "DescriptionStyleModel",
     "state": {
      "_model_module": "@jupyter-widgets/controls",
      "_model_module_version": "1.5.0",
      "_model_name": "DescriptionStyleModel",
      "_view_count": null,
      "_view_module": "@jupyter-widgets/base",
      "_view_module_version": "1.2.0",
      "_view_name": "StyleView",
      "description_width": ""
     }
    },
    "328df1a494ba4ce69a8a559491942254": {
     "model_module": "@jupyter-widgets/controls",
     "model_module_version": "1.5.0",
     "model_name": "DescriptionStyleModel",
     "state": {
      "_model_module": "@jupyter-widgets/controls",
      "_model_module_version": "1.5.0",
      "_model_name": "DescriptionStyleModel",
      "_view_count": null,
      "_view_module": "@jupyter-widgets/base",
      "_view_module_version": "1.2.0",
      "_view_name": "StyleView",
      "description_width": ""
     }
    },
    "33a06450e97942dab7d5b4b76a94957d": {
     "model_module": "@jupyter-widgets/base",
     "model_module_version": "1.2.0",
     "model_name": "LayoutModel",
     "state": {
      "_model_module": "@jupyter-widgets/base",
      "_model_module_version": "1.2.0",
      "_model_name": "LayoutModel",
      "_view_count": null,
      "_view_module": "@jupyter-widgets/base",
      "_view_module_version": "1.2.0",
      "_view_name": "LayoutView",
      "align_content": null,
      "align_items": null,
      "align_self": null,
      "border": null,
      "bottom": null,
      "display": null,
      "flex": null,
      "flex_flow": null,
      "grid_area": null,
      "grid_auto_columns": null,
      "grid_auto_flow": null,
      "grid_auto_rows": null,
      "grid_column": null,
      "grid_gap": null,
      "grid_row": null,
      "grid_template_areas": null,
      "grid_template_columns": null,
      "grid_template_rows": null,
      "height": null,
      "justify_content": null,
      "justify_items": null,
      "left": null,
      "margin": null,
      "max_height": null,
      "max_width": null,
      "min_height": null,
      "min_width": null,
      "object_fit": null,
      "object_position": null,
      "order": null,
      "overflow": null,
      "overflow_x": null,
      "overflow_y": null,
      "padding": null,
      "right": null,
      "top": null,
      "visibility": null,
      "width": null
     }
    },
    "3573537efb48468eb34bdca54a437fe6": {
     "model_module": "@jupyter-widgets/controls",
     "model_module_version": "1.5.0",
     "model_name": "FloatProgressModel",
     "state": {
      "_dom_classes": [],
      "_model_module": "@jupyter-widgets/controls",
      "_model_module_version": "1.5.0",
      "_model_name": "FloatProgressModel",
      "_view_count": null,
      "_view_module": "@jupyter-widgets/controls",
      "_view_module_version": "1.5.0",
      "_view_name": "ProgressView",
      "bar_style": "success",
      "description": "",
      "description_tooltip": null,
      "layout": "IPY_MODEL_996511ddc1064a518d06784916d3619f",
      "max": 108,
      "min": 0,
      "orientation": "horizontal",
      "style": "IPY_MODEL_378807c8887d4bc289181dff8dd733c6",
      "value": 108
     }
    },
    "3615f4d416664a0192d97ca16ed8688b": {
     "model_module": "@jupyter-widgets/controls",
     "model_module_version": "1.5.0",
     "model_name": "DescriptionStyleModel",
     "state": {
      "_model_module": "@jupyter-widgets/controls",
      "_model_module_version": "1.5.0",
      "_model_name": "DescriptionStyleModel",
      "_view_count": null,
      "_view_module": "@jupyter-widgets/base",
      "_view_module_version": "1.2.0",
      "_view_name": "StyleView",
      "description_width": ""
     }
    },
    "378807c8887d4bc289181dff8dd733c6": {
     "model_module": "@jupyter-widgets/controls",
     "model_module_version": "1.5.0",
     "model_name": "ProgressStyleModel",
     "state": {
      "_model_module": "@jupyter-widgets/controls",
      "_model_module_version": "1.5.0",
      "_model_name": "ProgressStyleModel",
      "_view_count": null,
      "_view_module": "@jupyter-widgets/base",
      "_view_module_version": "1.2.0",
      "_view_name": "StyleView",
      "bar_color": null,
      "description_width": ""
     }
    },
    "37ddcbc7cdb746889813dc09a5e270b1": {
     "model_module": "@jupyter-widgets/controls",
     "model_module_version": "1.5.0",
     "model_name": "FloatProgressModel",
     "state": {
      "_dom_classes": [],
      "_model_module": "@jupyter-widgets/controls",
      "_model_module_version": "1.5.0",
      "_model_name": "FloatProgressModel",
      "_view_count": null,
      "_view_module": "@jupyter-widgets/controls",
      "_view_module_version": "1.5.0",
      "_view_name": "ProgressView",
      "bar_style": "success",
      "description": "",
      "description_tooltip": null,
      "layout": "IPY_MODEL_068ccaaae61949ef9088c115f27c704f",
      "max": 296,
      "min": 0,
      "orientation": "horizontal",
      "style": "IPY_MODEL_4aa100bd908a43c983fae4c176fc01d7",
      "value": 296
     }
    },
    "38609545c55a4a7e8160821651272236": {
     "model_module": "@jupyter-widgets/controls",
     "model_module_version": "1.5.0",
     "model_name": "DescriptionStyleModel",
     "state": {
      "_model_module": "@jupyter-widgets/controls",
      "_model_module_version": "1.5.0",
      "_model_name": "DescriptionStyleModel",
      "_view_count": null,
      "_view_module": "@jupyter-widgets/base",
      "_view_module_version": "1.2.0",
      "_view_name": "StyleView",
      "description_width": ""
     }
    },
    "38e185a8ea944f4bb114012e3803d12f": {
     "model_module": "@jupyter-widgets/base",
     "model_module_version": "1.2.0",
     "model_name": "LayoutModel",
     "state": {
      "_model_module": "@jupyter-widgets/base",
      "_model_module_version": "1.2.0",
      "_model_name": "LayoutModel",
      "_view_count": null,
      "_view_module": "@jupyter-widgets/base",
      "_view_module_version": "1.2.0",
      "_view_name": "LayoutView",
      "align_content": null,
      "align_items": null,
      "align_self": null,
      "border": null,
      "bottom": null,
      "display": null,
      "flex": null,
      "flex_flow": null,
      "grid_area": null,
      "grid_auto_columns": null,
      "grid_auto_flow": null,
      "grid_auto_rows": null,
      "grid_column": null,
      "grid_gap": null,
      "grid_row": null,
      "grid_template_areas": null,
      "grid_template_columns": null,
      "grid_template_rows": null,
      "height": null,
      "justify_content": null,
      "justify_items": null,
      "left": null,
      "margin": null,
      "max_height": null,
      "max_width": null,
      "min_height": null,
      "min_width": null,
      "object_fit": null,
      "object_position": null,
      "order": null,
      "overflow": null,
      "overflow_x": null,
      "overflow_y": null,
      "padding": null,
      "right": null,
      "top": null,
      "visibility": null,
      "width": null
     }
    },
    "3cc2c3a001f944658d41cecacaa6fccb": {
     "model_module": "@jupyter-widgets/controls",
     "model_module_version": "1.5.0",
     "model_name": "HTMLModel",
     "state": {
      "_dom_classes": [],
      "_model_module": "@jupyter-widgets/controls",
      "_model_module_version": "1.5.0",
      "_model_name": "HTMLModel",
      "_view_count": null,
      "_view_module": "@jupyter-widgets/controls",
      "_view_module_version": "1.5.0",
      "_view_name": "HTMLView",
      "description": "",
      "description_tooltip": null,
      "layout": "IPY_MODEL_e0cd2e7d2e174f969c9171b16dd6ef4d",
      "placeholder": "​",
      "style": "IPY_MODEL_cf1e6b72c34043fbbfb8aebcb10a6ece",
      "value": " 5.00G/5.00G [00:22&lt;00:00, 227MB/s]"
     }
    },
    "3e8fe1598ed246ef8b8f7375c25be692": {
     "model_module": "@jupyter-widgets/controls",
     "model_module_version": "1.5.0",
     "model_name": "HTMLModel",
     "state": {
      "_dom_classes": [],
      "_model_module": "@jupyter-widgets/controls",
      "_model_module_version": "1.5.0",
      "_model_name": "HTMLModel",
      "_view_count": null,
      "_view_module": "@jupyter-widgets/controls",
      "_view_module_version": "1.5.0",
      "_view_name": "HTMLView",
      "description": "",
      "description_tooltip": null,
      "layout": "IPY_MODEL_1a2d9a2dcee64407a058da0a32050a14",
      "placeholder": "​",
      "style": "IPY_MODEL_6af67a00ff154704a95ae6fdb200b1a7",
      "value": " 4.92G/4.92G [00:23&lt;00:00, 211MB/s]"
     }
    },
    "4134653577934c6ca5073846c1f30db3": {
     "model_module": "@jupyter-widgets/controls",
     "model_module_version": "1.5.0",
     "model_name": "HTMLModel",
     "state": {
      "_dom_classes": [],
      "_model_module": "@jupyter-widgets/controls",
      "_model_module_version": "1.5.0",
      "_model_name": "HTMLModel",
      "_view_count": null,
      "_view_module": "@jupyter-widgets/controls",
      "_view_module_version": "1.5.0",
      "_view_name": "HTMLView",
      "description": "",
      "description_tooltip": null,
      "layout": "IPY_MODEL_d982c8eaafb74febb7c02a223b529912",
      "placeholder": "​",
      "style": "IPY_MODEL_305b5aee4cd542988a68b97f12547453",
      "value": "100%"
     }
    },
    "41fc62bfaa044139befb87e66b328269": {
     "model_module": "@jupyter-widgets/controls",
     "model_module_version": "1.5.0",
     "model_name": "HTMLModel",
     "state": {
      "_dom_classes": [],
      "_model_module": "@jupyter-widgets/controls",
      "_model_module_version": "1.5.0",
      "_model_name": "HTMLModel",
      "_view_count": null,
      "_view_module": "@jupyter-widgets/controls",
      "_view_module_version": "1.5.0",
      "_view_name": "HTMLView",
      "description": "",
      "description_tooltip": null,
      "layout": "IPY_MODEL_bc8ae35d6189430bac4fee0dbe7d1296",
      "placeholder": "​",
      "style": "IPY_MODEL_f9c71f4684a54ae4b5e4c4d58f0c9421",
      "value": " 1/1 [00:01&lt;00:00,  1.30s/it]"
     }
    },
    "420b4366f5b745799373d7fa359a6638": {
     "model_module": "@jupyter-widgets/controls",
     "model_module_version": "1.5.0",
     "model_name": "HBoxModel",
     "state": {
      "_dom_classes": [],
      "_model_module": "@jupyter-widgets/controls",
      "_model_module_version": "1.5.0",
      "_model_name": "HBoxModel",
      "_view_count": null,
      "_view_module": "@jupyter-widgets/controls",
      "_view_module_version": "1.5.0",
      "_view_name": "HBoxView",
      "box_style": "",
      "children": [
       "IPY_MODEL_823f93f658964ce5825a16ce245fdfb1",
       "IPY_MODEL_e5a076c30dd0411498249c68eb2d888e",
       "IPY_MODEL_3cc2c3a001f944658d41cecacaa6fccb"
      ],
      "layout": "IPY_MODEL_f5c2cf6eabb343d6b8fc868d54dd3d8f"
     }
    },
    "427a82c5c6d641728937cad091ecf4c1": {
     "model_module": "@jupyter-widgets/base",
     "model_module_version": "1.2.0",
     "model_name": "LayoutModel",
     "state": {
      "_model_module": "@jupyter-widgets/base",
      "_model_module_version": "1.2.0",
      "_model_name": "LayoutModel",
      "_view_count": null,
      "_view_module": "@jupyter-widgets/base",
      "_view_module_version": "1.2.0",
      "_view_name": "LayoutView",
      "align_content": null,
      "align_items": null,
      "align_self": null,
      "border": null,
      "bottom": null,
      "display": null,
      "flex": null,
      "flex_flow": null,
      "grid_area": null,
      "grid_auto_columns": null,
      "grid_auto_flow": null,
      "grid_auto_rows": null,
      "grid_column": null,
      "grid_gap": null,
      "grid_row": null,
      "grid_template_areas": null,
      "grid_template_columns": null,
      "grid_template_rows": null,
      "height": null,
      "justify_content": null,
      "justify_items": null,
      "left": null,
      "margin": null,
      "max_height": null,
      "max_width": null,
      "min_height": null,
      "min_width": null,
      "object_fit": null,
      "object_position": null,
      "order": null,
      "overflow": null,
      "overflow_x": null,
      "overflow_y": null,
      "padding": null,
      "right": null,
      "top": null,
      "visibility": null,
      "width": null
     }
    },
    "43fb5100ec4447f8a671ad362fc95100": {
     "model_module": "@jupyter-widgets/controls",
     "model_module_version": "1.5.0",
     "model_name": "HTMLModel",
     "state": {
      "_dom_classes": [],
      "_model_module": "@jupyter-widgets/controls",
      "_model_module_version": "1.5.0",
      "_model_name": "HTMLModel",
      "_view_count": null,
      "_view_module": "@jupyter-widgets/controls",
      "_view_module_version": "1.5.0",
      "_view_name": "HTMLView",
      "description": "",
      "description_tooltip": null,
      "layout": "IPY_MODEL_455cb6431732463ab91ad855e733e6db",
      "placeholder": "​",
      "style": "IPY_MODEL_c337c3d67ebb4abd9fbaf1bfa33659ad",
      "value": "tokenizer.json: 100%"
     }
    },
    "4412c64de3294cd8b8b687ea9b1ab912": {
     "model_module": "@jupyter-widgets/controls",
     "model_module_version": "1.5.0",
     "model_name": "FloatProgressModel",
     "state": {
      "_dom_classes": [],
      "_model_module": "@jupyter-widgets/controls",
      "_model_module_version": "1.5.0",
      "_model_name": "FloatProgressModel",
      "_view_count": null,
      "_view_module": "@jupyter-widgets/controls",
      "_view_module_version": "1.5.0",
      "_view_name": "ProgressView",
      "bar_style": "success",
      "description": "",
      "description_tooltip": null,
      "layout": "IPY_MODEL_81ad3d46df834c1ab5495fc4a45819ad",
      "max": 4976698672,
      "min": 0,
      "orientation": "horizontal",
      "style": "IPY_MODEL_a14a516bbcbe449ea897b1d24475f233",
      "value": 4976698672
     }
    },
    "44159ff8c25545b5a7c581f5dc20e489": {
     "model_module": "@jupyter-widgets/controls",
     "model_module_version": "1.5.0",
     "model_name": "DescriptionStyleModel",
     "state": {
      "_model_module": "@jupyter-widgets/controls",
      "_model_module_version": "1.5.0",
      "_model_name": "DescriptionStyleModel",
      "_view_count": null,
      "_view_module": "@jupyter-widgets/base",
      "_view_module_version": "1.2.0",
      "_view_name": "StyleView",
      "description_width": ""
     }
    },
    "44cba98f943d4d8da5bbc6eb8b229eb9": {
     "model_module": "@jupyter-widgets/controls",
     "model_module_version": "1.5.0",
     "model_name": "DescriptionStyleModel",
     "state": {
      "_model_module": "@jupyter-widgets/controls",
      "_model_module_version": "1.5.0",
      "_model_name": "DescriptionStyleModel",
      "_view_count": null,
      "_view_module": "@jupyter-widgets/base",
      "_view_module_version": "1.2.0",
      "_view_name": "StyleView",
      "description_width": ""
     }
    },
    "455cb6431732463ab91ad855e733e6db": {
     "model_module": "@jupyter-widgets/base",
     "model_module_version": "1.2.0",
     "model_name": "LayoutModel",
     "state": {
      "_model_module": "@jupyter-widgets/base",
      "_model_module_version": "1.2.0",
      "_model_name": "LayoutModel",
      "_view_count": null,
      "_view_module": "@jupyter-widgets/base",
      "_view_module_version": "1.2.0",
      "_view_name": "LayoutView",
      "align_content": null,
      "align_items": null,
      "align_self": null,
      "border": null,
      "bottom": null,
      "display": null,
      "flex": null,
      "flex_flow": null,
      "grid_area": null,
      "grid_auto_columns": null,
      "grid_auto_flow": null,
      "grid_auto_rows": null,
      "grid_column": null,
      "grid_gap": null,
      "grid_row": null,
      "grid_template_areas": null,
      "grid_template_columns": null,
      "grid_template_rows": null,
      "height": null,
      "justify_content": null,
      "justify_items": null,
      "left": null,
      "margin": null,
      "max_height": null,
      "max_width": null,
      "min_height": null,
      "min_width": null,
      "object_fit": null,
      "object_position": null,
      "order": null,
      "overflow": null,
      "overflow_x": null,
      "overflow_y": null,
      "padding": null,
      "right": null,
      "top": null,
      "visibility": null,
      "width": null
     }
    },
    "489f3a725b7042c1b435ca00c2bb57e7": {
     "model_module": "@jupyter-widgets/controls",
     "model_module_version": "1.5.0",
     "model_name": "HTMLModel",
     "state": {
      "_dom_classes": [],
      "_model_module": "@jupyter-widgets/controls",
      "_model_module_version": "1.5.0",
      "_model_name": "HTMLModel",
      "_view_count": null,
      "_view_module": "@jupyter-widgets/controls",
      "_view_module_version": "1.5.0",
      "_view_name": "HTMLView",
      "description": "",
      "description_tooltip": null,
      "layout": "IPY_MODEL_8280164ecc1942939779c9d03357e03c",
      "placeholder": "​",
      "style": "IPY_MODEL_9aadd28ed902450b8f7c15bacc43cf30",
      "value": "model-00004-of-00004.safetensors: 100%"
     }
    },
    "4a4dbd12300849f18b95cf23422134df": {
     "model_module": "@jupyter-widgets/controls",
     "model_module_version": "1.5.0",
     "model_name": "HTMLModel",
     "state": {
      "_dom_classes": [],
      "_model_module": "@jupyter-widgets/controls",
      "_model_module_version": "1.5.0",
      "_model_name": "HTMLModel",
      "_view_count": null,
      "_view_module": "@jupyter-widgets/controls",
      "_view_module_version": "1.5.0",
      "_view_name": "HTMLView",
      "description": "",
      "description_tooltip": null,
      "layout": "IPY_MODEL_01f04bbcaaf44ecfb68b724f8bf21864",
      "placeholder": "​",
      "style": "IPY_MODEL_1c833c9b85124610a6ab5198038b8ba9",
      "value": " 1.17G/1.17G [00:04&lt;00:00, 235MB/s]"
     }
    },
    "4aa100bd908a43c983fae4c176fc01d7": {
     "model_module": "@jupyter-widgets/controls",
     "model_module_version": "1.5.0",
     "model_name": "ProgressStyleModel",
     "state": {
      "_model_module": "@jupyter-widgets/controls",
      "_model_module_version": "1.5.0",
      "_model_name": "ProgressStyleModel",
      "_view_count": null,
      "_view_module": "@jupyter-widgets/base",
      "_view_module_version": "1.2.0",
      "_view_name": "StyleView",
      "bar_color": null,
      "description_width": ""
     }
    },
    "4b8522e5978c4c2e9d04e5f9e226bf87": {
     "model_module": "@jupyter-widgets/base",
     "model_module_version": "1.2.0",
     "model_name": "LayoutModel",
     "state": {
      "_model_module": "@jupyter-widgets/base",
      "_model_module_version": "1.2.0",
      "_model_name": "LayoutModel",
      "_view_count": null,
      "_view_module": "@jupyter-widgets/base",
      "_view_module_version": "1.2.0",
      "_view_name": "LayoutView",
      "align_content": null,
      "align_items": null,
      "align_self": null,
      "border": null,
      "bottom": null,
      "display": null,
      "flex": null,
      "flex_flow": null,
      "grid_area": null,
      "grid_auto_columns": null,
      "grid_auto_flow": null,
      "grid_auto_rows": null,
      "grid_column": null,
      "grid_gap": null,
      "grid_row": null,
      "grid_template_areas": null,
      "grid_template_columns": null,
      "grid_template_rows": null,
      "height": null,
      "justify_content": null,
      "justify_items": null,
      "left": null,
      "margin": null,
      "max_height": null,
      "max_width": null,
      "min_height": null,
      "min_width": null,
      "object_fit": null,
      "object_position": null,
      "order": null,
      "overflow": null,
      "overflow_x": null,
      "overflow_y": null,
      "padding": null,
      "right": null,
      "top": null,
      "visibility": null,
      "width": null
     }
    },
    "4fc8a1eb99cb46b2a280f5f40e5d08bc": {
     "model_module": "@jupyter-widgets/controls",
     "model_module_version": "1.5.0",
     "model_name": "DescriptionStyleModel",
     "state": {
      "_model_module": "@jupyter-widgets/controls",
      "_model_module_version": "1.5.0",
      "_model_name": "DescriptionStyleModel",
      "_view_count": null,
      "_view_module": "@jupyter-widgets/base",
      "_view_module_version": "1.2.0",
      "_view_name": "StyleView",
      "description_width": ""
     }
    },
    "50996cd4dc3b422b8b3bfabe80f84741": {
     "model_module": "@jupyter-widgets/controls",
     "model_module_version": "1.5.0",
     "model_name": "DescriptionStyleModel",
     "state": {
      "_model_module": "@jupyter-widgets/controls",
      "_model_module_version": "1.5.0",
      "_model_name": "DescriptionStyleModel",
      "_view_count": null,
      "_view_module": "@jupyter-widgets/base",
      "_view_module_version": "1.2.0",
      "_view_name": "StyleView",
      "description_width": ""
     }
    },
    "55593941e5bc4f8797f16f5413dc6c84": {
     "model_module": "@jupyter-widgets/controls",
     "model_module_version": "1.5.0",
     "model_name": "DescriptionStyleModel",
     "state": {
      "_model_module": "@jupyter-widgets/controls",
      "_model_module_version": "1.5.0",
      "_model_name": "DescriptionStyleModel",
      "_view_count": null,
      "_view_module": "@jupyter-widgets/base",
      "_view_module_version": "1.2.0",
      "_view_name": "StyleView",
      "description_width": ""
     }
    },
    "5a325a1315f94e80ae36df3279913a69": {
     "model_module": "@jupyter-widgets/controls",
     "model_module_version": "1.5.0",
     "model_name": "DescriptionStyleModel",
     "state": {
      "_model_module": "@jupyter-widgets/controls",
      "_model_module_version": "1.5.0",
      "_model_name": "DescriptionStyleModel",
      "_view_count": null,
      "_view_module": "@jupyter-widgets/base",
      "_view_module_version": "1.2.0",
      "_view_name": "StyleView",
      "description_width": ""
     }
    },
    "5b73471e32d64dfd8367a5a36377529a": {
     "model_module": "@jupyter-widgets/base",
     "model_module_version": "1.2.0",
     "model_name": "LayoutModel",
     "state": {
      "_model_module": "@jupyter-widgets/base",
      "_model_module_version": "1.2.0",
      "_model_name": "LayoutModel",
      "_view_count": null,
      "_view_module": "@jupyter-widgets/base",
      "_view_module_version": "1.2.0",
      "_view_name": "LayoutView",
      "align_content": null,
      "align_items": null,
      "align_self": null,
      "border": null,
      "bottom": null,
      "display": null,
      "flex": null,
      "flex_flow": null,
      "grid_area": null,
      "grid_auto_columns": null,
      "grid_auto_flow": null,
      "grid_auto_rows": null,
      "grid_column": null,
      "grid_gap": null,
      "grid_row": null,
      "grid_template_areas": null,
      "grid_template_columns": null,
      "grid_template_rows": null,
      "height": null,
      "justify_content": null,
      "justify_items": null,
      "left": null,
      "margin": null,
      "max_height": null,
      "max_width": null,
      "min_height": null,
      "min_width": null,
      "object_fit": null,
      "object_position": null,
      "order": null,
      "overflow": null,
      "overflow_x": null,
      "overflow_y": null,
      "padding": null,
      "right": null,
      "top": null,
      "visibility": null,
      "width": null
     }
    },
    "5c019f5428184288bab585350602b372": {
     "model_module": "@jupyter-widgets/controls",
     "model_module_version": "1.5.0",
     "model_name": "HTMLModel",
     "state": {
      "_dom_classes": [],
      "_model_module": "@jupyter-widgets/controls",
      "_model_module_version": "1.5.0",
      "_model_name": "HTMLModel",
      "_view_count": null,
      "_view_module": "@jupyter-widgets/controls",
      "_view_module_version": "1.5.0",
      "_view_name": "HTMLView",
      "description": "",
      "description_tooltip": null,
      "layout": "IPY_MODEL_4b8522e5978c4c2e9d04e5f9e226bf87",
      "placeholder": "​",
      "style": "IPY_MODEL_55593941e5bc4f8797f16f5413dc6c84",
      "value": " 4.98G/4.98G [00:23&lt;00:00, 240MB/s]"
     }
    },
    "5f90ce547df14b2b825ec65e6fd22aa4": {
     "model_module": "@jupyter-widgets/controls",
     "model_module_version": "1.5.0",
     "model_name": "ProgressStyleModel",
     "state": {
      "_model_module": "@jupyter-widgets/controls",
      "_model_module_version": "1.5.0",
      "_model_name": "ProgressStyleModel",
      "_view_count": null,
      "_view_module": "@jupyter-widgets/base",
      "_view_module_version": "1.2.0",
      "_view_name": "StyleView",
      "bar_color": null,
      "description_width": ""
     }
    },
    "6550ce31626243fd876ad7835de9619f": {
     "model_module": "@jupyter-widgets/base",
     "model_module_version": "1.2.0",
     "model_name": "LayoutModel",
     "state": {
      "_model_module": "@jupyter-widgets/base",
      "_model_module_version": "1.2.0",
      "_model_name": "LayoutModel",
      "_view_count": null,
      "_view_module": "@jupyter-widgets/base",
      "_view_module_version": "1.2.0",
      "_view_name": "LayoutView",
      "align_content": null,
      "align_items": null,
      "align_self": null,
      "border": null,
      "bottom": null,
      "display": null,
      "flex": null,
      "flex_flow": null,
      "grid_area": null,
      "grid_auto_columns": null,
      "grid_auto_flow": null,
      "grid_auto_rows": null,
      "grid_column": null,
      "grid_gap": null,
      "grid_row": null,
      "grid_template_areas": null,
      "grid_template_columns": null,
      "grid_template_rows": null,
      "height": null,
      "justify_content": null,
      "justify_items": null,
      "left": null,
      "margin": null,
      "max_height": null,
      "max_width": null,
      "min_height": null,
      "min_width": null,
      "object_fit": null,
      "object_position": null,
      "order": null,
      "overflow": null,
      "overflow_x": null,
      "overflow_y": null,
      "padding": null,
      "right": null,
      "top": null,
      "visibility": null,
      "width": null
     }
    },
    "66eb9853fae44b578e1f728a906bb97d": {
     "model_module": "@jupyter-widgets/base",
     "model_module_version": "1.2.0",
     "model_name": "LayoutModel",
     "state": {
      "_model_module": "@jupyter-widgets/base",
      "_model_module_version": "1.2.0",
      "_model_name": "LayoutModel",
      "_view_count": null,
      "_view_module": "@jupyter-widgets/base",
      "_view_module_version": "1.2.0",
      "_view_name": "LayoutView",
      "align_content": null,
      "align_items": null,
      "align_self": null,
      "border": null,
      "bottom": null,
      "display": null,
      "flex": null,
      "flex_flow": null,
      "grid_area": null,
      "grid_auto_columns": null,
      "grid_auto_flow": null,
      "grid_auto_rows": null,
      "grid_column": null,
      "grid_gap": null,
      "grid_row": null,
      "grid_template_areas": null,
      "grid_template_columns": null,
      "grid_template_rows": null,
      "height": null,
      "justify_content": null,
      "justify_items": null,
      "left": null,
      "margin": null,
      "max_height": null,
      "max_width": null,
      "min_height": null,
      "min_width": null,
      "object_fit": null,
      "object_position": null,
      "order": null,
      "overflow": null,
      "overflow_x": null,
      "overflow_y": null,
      "padding": null,
      "right": null,
      "top": null,
      "visibility": null,
      "width": null
     }
    },
    "6a01508411e345cf90529d6f5c32b3b0": {
     "model_module": "@jupyter-widgets/controls",
     "model_module_version": "1.5.0",
     "model_name": "HTMLModel",
     "state": {
      "_dom_classes": [],
      "_model_module": "@jupyter-widgets/controls",
      "_model_module_version": "1.5.0",
      "_model_name": "HTMLModel",
      "_view_count": null,
      "_view_module": "@jupyter-widgets/controls",
      "_view_module_version": "1.5.0",
      "_view_name": "HTMLView",
      "description": "",
      "description_tooltip": null,
      "layout": "IPY_MODEL_8d9bd94a67dd445b9af6e2d6c01ea6a9",
      "placeholder": "​",
      "style": "IPY_MODEL_c36a5dc8b6bc4eb29187ebd250c8c6f1",
      "value": "model-00003-of-00004.safetensors: 100%"
     }
    },
    "6af67a00ff154704a95ae6fdb200b1a7": {
     "model_module": "@jupyter-widgets/controls",
     "model_module_version": "1.5.0",
     "model_name": "DescriptionStyleModel",
     "state": {
      "_model_module": "@jupyter-widgets/controls",
      "_model_module_version": "1.5.0",
      "_model_name": "DescriptionStyleModel",
      "_view_count": null,
      "_view_module": "@jupyter-widgets/base",
      "_view_module_version": "1.2.0",
      "_view_name": "StyleView",
      "description_width": ""
     }
    },
    "6c9ebd52b34948299b37a8b0f573fd28": {
     "model_module": "@jupyter-widgets/controls",
     "model_module_version": "1.5.0",
     "model_name": "HTMLModel",
     "state": {
      "_dom_classes": [],
      "_model_module": "@jupyter-widgets/controls",
      "_model_module_version": "1.5.0",
      "_model_name": "HTMLModel",
      "_view_count": null,
      "_view_module": "@jupyter-widgets/controls",
      "_view_module_version": "1.5.0",
      "_view_name": "HTMLView",
      "description": "",
      "description_tooltip": null,
      "layout": "IPY_MODEL_dcd5cbd56d3d4167b237220660b5509c",
      "placeholder": "​",
      "style": "IPY_MODEL_3615f4d416664a0192d97ca16ed8688b",
      "value": "config.json: 100%"
     }
    },
    "6db8c64db56e41c390de737c8dd24000": {
     "model_module": "@jupyter-widgets/base",
     "model_module_version": "1.2.0",
     "model_name": "LayoutModel",
     "state": {
      "_model_module": "@jupyter-widgets/base",
      "_model_module_version": "1.2.0",
      "_model_name": "LayoutModel",
      "_view_count": null,
      "_view_module": "@jupyter-widgets/base",
      "_view_module_version": "1.2.0",
      "_view_name": "LayoutView",
      "align_content": null,
      "align_items": null,
      "align_self": null,
      "border": null,
      "bottom": null,
      "display": null,
      "flex": null,
      "flex_flow": null,
      "grid_area": null,
      "grid_auto_columns": null,
      "grid_auto_flow": null,
      "grid_auto_rows": null,
      "grid_column": null,
      "grid_gap": null,
      "grid_row": null,
      "grid_template_areas": null,
      "grid_template_columns": null,
      "grid_template_rows": null,
      "height": null,
      "justify_content": null,
      "justify_items": null,
      "left": null,
      "margin": null,
      "max_height": null,
      "max_width": null,
      "min_height": null,
      "min_width": null,
      "object_fit": null,
      "object_position": null,
      "order": null,
      "overflow": null,
      "overflow_x": null,
      "overflow_y": null,
      "padding": null,
      "right": null,
      "top": null,
      "visibility": null,
      "width": null
     }
    },
    "6f6d43b0419a448e9bfdf2f3977b2450": {
     "model_module": "@jupyter-widgets/controls",
     "model_module_version": "1.5.0",
     "model_name": "DescriptionStyleModel",
     "state": {
      "_model_module": "@jupyter-widgets/controls",
      "_model_module_version": "1.5.0",
      "_model_name": "DescriptionStyleModel",
      "_view_count": null,
      "_view_module": "@jupyter-widgets/base",
      "_view_module_version": "1.2.0",
      "_view_name": "StyleView",
      "description_width": ""
     }
    },
    "71a2ca8dfabc48e1b7b5844db9c92fc3": {
     "model_module": "@jupyter-widgets/base",
     "model_module_version": "1.2.0",
     "model_name": "LayoutModel",
     "state": {
      "_model_module": "@jupyter-widgets/base",
      "_model_module_version": "1.2.0",
      "_model_name": "LayoutModel",
      "_view_count": null,
      "_view_module": "@jupyter-widgets/base",
      "_view_module_version": "1.2.0",
      "_view_name": "LayoutView",
      "align_content": null,
      "align_items": null,
      "align_self": null,
      "border": null,
      "bottom": null,
      "display": null,
      "flex": null,
      "flex_flow": null,
      "grid_area": null,
      "grid_auto_columns": null,
      "grid_auto_flow": null,
      "grid_auto_rows": null,
      "grid_column": null,
      "grid_gap": null,
      "grid_row": null,
      "grid_template_areas": null,
      "grid_template_columns": null,
      "grid_template_rows": null,
      "height": null,
      "justify_content": null,
      "justify_items": null,
      "left": null,
      "margin": null,
      "max_height": null,
      "max_width": null,
      "min_height": null,
      "min_width": null,
      "object_fit": null,
      "object_position": null,
      "order": null,
      "overflow": null,
      "overflow_x": null,
      "overflow_y": null,
      "padding": null,
      "right": null,
      "top": null,
      "visibility": null,
      "width": null
     }
    },
    "77466654ba4f4cf19e30c2bf3f693fce": {
     "model_module": "@jupyter-widgets/base",
     "model_module_version": "1.2.0",
     "model_name": "LayoutModel",
     "state": {
      "_model_module": "@jupyter-widgets/base",
      "_model_module_version": "1.2.0",
      "_model_name": "LayoutModel",
      "_view_count": null,
      "_view_module": "@jupyter-widgets/base",
      "_view_module_version": "1.2.0",
      "_view_name": "LayoutView",
      "align_content": null,
      "align_items": null,
      "align_self": null,
      "border": null,
      "bottom": null,
      "display": null,
      "flex": null,
      "flex_flow": null,
      "grid_area": null,
      "grid_auto_columns": null,
      "grid_auto_flow": null,
      "grid_auto_rows": null,
      "grid_column": null,
      "grid_gap": null,
      "grid_row": null,
      "grid_template_areas": null,
      "grid_template_columns": null,
      "grid_template_rows": null,
      "height": null,
      "justify_content": null,
      "justify_items": null,
      "left": null,
      "margin": null,
      "max_height": null,
      "max_width": null,
      "min_height": null,
      "min_width": null,
      "object_fit": null,
      "object_position": null,
      "order": null,
      "overflow": null,
      "overflow_x": null,
      "overflow_y": null,
      "padding": null,
      "right": null,
      "top": null,
      "visibility": null,
      "width": null
     }
    },
    "7afd02ee5ccb4558a43b5a47cf6bf42f": {
     "model_module": "@jupyter-widgets/base",
     "model_module_version": "1.2.0",
     "model_name": "LayoutModel",
     "state": {
      "_model_module": "@jupyter-widgets/base",
      "_model_module_version": "1.2.0",
      "_model_name": "LayoutModel",
      "_view_count": null,
      "_view_module": "@jupyter-widgets/base",
      "_view_module_version": "1.2.0",
      "_view_name": "LayoutView",
      "align_content": null,
      "align_items": null,
      "align_self": null,
      "border": null,
      "bottom": null,
      "display": null,
      "flex": null,
      "flex_flow": null,
      "grid_area": null,
      "grid_auto_columns": null,
      "grid_auto_flow": null,
      "grid_auto_rows": null,
      "grid_column": null,
      "grid_gap": null,
      "grid_row": null,
      "grid_template_areas": null,
      "grid_template_columns": null,
      "grid_template_rows": null,
      "height": null,
      "justify_content": null,
      "justify_items": null,
      "left": null,
      "margin": null,
      "max_height": null,
      "max_width": null,
      "min_height": null,
      "min_width": null,
      "object_fit": null,
      "object_position": null,
      "order": null,
      "overflow": null,
      "overflow_x": null,
      "overflow_y": null,
      "padding": null,
      "right": null,
      "top": null,
      "visibility": null,
      "width": null
     }
    },
    "7e91ea1c7bbd4337957e78369811b0da": {
     "model_module": "@jupyter-widgets/controls",
     "model_module_version": "1.5.0",
     "model_name": "HTMLModel",
     "state": {
      "_dom_classes": [],
      "_model_module": "@jupyter-widgets/controls",
      "_model_module_version": "1.5.0",
      "_model_name": "HTMLModel",
      "_view_count": null,
      "_view_module": "@jupyter-widgets/controls",
      "_view_module_version": "1.5.0",
      "_view_name": "HTMLView",
      "description": "",
      "description_tooltip": null,
      "layout": "IPY_MODEL_e8210fd075e243b39627f4f32d4b3cb2",
      "placeholder": "​",
      "style": "IPY_MODEL_161ba3b1b4bf4c40afd2cb00cdad3856",
      "value": "Loading checkpoint shards: 100%"
     }
    },
    "81ad3d46df834c1ab5495fc4a45819ad": {
     "model_module": "@jupyter-widgets/base",
     "model_module_version": "1.2.0",
     "model_name": "LayoutModel",
     "state": {
      "_model_module": "@jupyter-widgets/base",
      "_model_module_version": "1.2.0",
      "_model_name": "LayoutModel",
      "_view_count": null,
      "_view_module": "@jupyter-widgets/base",
      "_view_module_version": "1.2.0",
      "_view_name": "LayoutView",
      "align_content": null,
      "align_items": null,
      "align_self": null,
      "border": null,
      "bottom": null,
      "display": null,
      "flex": null,
      "flex_flow": null,
      "grid_area": null,
      "grid_auto_columns": null,
      "grid_auto_flow": null,
      "grid_auto_rows": null,
      "grid_column": null,
      "grid_gap": null,
      "grid_row": null,
      "grid_template_areas": null,
      "grid_template_columns": null,
      "grid_template_rows": null,
      "height": null,
      "justify_content": null,
      "justify_items": null,
      "left": null,
      "margin": null,
      "max_height": null,
      "max_width": null,
      "min_height": null,
      "min_width": null,
      "object_fit": null,
      "object_position": null,
      "order": null,
      "overflow": null,
      "overflow_x": null,
      "overflow_y": null,
      "padding": null,
      "right": null,
      "top": null,
      "visibility": null,
      "width": null
     }
    },
    "823f93f658964ce5825a16ce245fdfb1": {
     "model_module": "@jupyter-widgets/controls",
     "model_module_version": "1.5.0",
     "model_name": "HTMLModel",
     "state": {
      "_dom_classes": [],
      "_model_module": "@jupyter-widgets/controls",
      "_model_module_version": "1.5.0",
      "_model_name": "HTMLModel",
      "_view_count": null,
      "_view_module": "@jupyter-widgets/controls",
      "_view_module_version": "1.5.0",
      "_view_name": "HTMLView",
      "description": "",
      "description_tooltip": null,
      "layout": "IPY_MODEL_ffa6f862348d45b9818712683130eb7c",
      "placeholder": "​",
      "style": "IPY_MODEL_44159ff8c25545b5a7c581f5dc20e489",
      "value": "model-00002-of-00004.safetensors: 100%"
     }
    },
    "8280164ecc1942939779c9d03357e03c": {
     "model_module": "@jupyter-widgets/base",
     "model_module_version": "1.2.0",
     "model_name": "LayoutModel",
     "state": {
      "_model_module": "@jupyter-widgets/base",
      "_model_module_version": "1.2.0",
      "_model_name": "LayoutModel",
      "_view_count": null,
      "_view_module": "@jupyter-widgets/base",
      "_view_module_version": "1.2.0",
      "_view_name": "LayoutView",
      "align_content": null,
      "align_items": null,
      "align_self": null,
      "border": null,
      "bottom": null,
      "display": null,
      "flex": null,
      "flex_flow": null,
      "grid_area": null,
      "grid_auto_columns": null,
      "grid_auto_flow": null,
      "grid_auto_rows": null,
      "grid_column": null,
      "grid_gap": null,
      "grid_row": null,
      "grid_template_areas": null,
      "grid_template_columns": null,
      "grid_template_rows": null,
      "height": null,
      "justify_content": null,
      "justify_items": null,
      "left": null,
      "margin": null,
      "max_height": null,
      "max_width": null,
      "min_height": null,
      "min_width": null,
      "object_fit": null,
      "object_position": null,
      "order": null,
      "overflow": null,
      "overflow_x": null,
      "overflow_y": null,
      "padding": null,
      "right": null,
      "top": null,
      "visibility": null,
      "width": null
     }
    },
    "838b6a11923d49e281c1a066d9fa7bd7": {
     "model_module": "@jupyter-widgets/base",
     "model_module_version": "1.2.0",
     "model_name": "LayoutModel",
     "state": {
      "_model_module": "@jupyter-widgets/base",
      "_model_module_version": "1.2.0",
      "_model_name": "LayoutModel",
      "_view_count": null,
      "_view_module": "@jupyter-widgets/base",
      "_view_module_version": "1.2.0",
      "_view_name": "LayoutView",
      "align_content": null,
      "align_items": null,
      "align_self": null,
      "border": null,
      "bottom": null,
      "display": null,
      "flex": null,
      "flex_flow": null,
      "grid_area": null,
      "grid_auto_columns": null,
      "grid_auto_flow": null,
      "grid_auto_rows": null,
      "grid_column": null,
      "grid_gap": null,
      "grid_row": null,
      "grid_template_areas": null,
      "grid_template_columns": null,
      "grid_template_rows": null,
      "height": null,
      "justify_content": null,
      "justify_items": null,
      "left": null,
      "margin": null,
      "max_height": null,
      "max_width": null,
      "min_height": null,
      "min_width": null,
      "object_fit": null,
      "object_position": null,
      "order": null,
      "overflow": null,
      "overflow_x": null,
      "overflow_y": null,
      "padding": null,
      "right": null,
      "top": null,
      "visibility": null,
      "width": null
     }
    },
    "841efb2c463d4737af8ce792f0fde053": {
     "model_module": "@jupyter-widgets/controls",
     "model_module_version": "1.5.0",
     "model_name": "HBoxModel",
     "state": {
      "_dom_classes": [],
      "_model_module": "@jupyter-widgets/controls",
      "_model_module_version": "1.5.0",
      "_model_name": "HBoxModel",
      "_view_count": null,
      "_view_module": "@jupyter-widgets/controls",
      "_view_module_version": "1.5.0",
      "_view_name": "HBoxView",
      "box_style": "",
      "children": [
       "IPY_MODEL_489f3a725b7042c1b435ca00c2bb57e7",
       "IPY_MODEL_8d7f992d2ab043a088da38aae3afcd99",
       "IPY_MODEL_4a4dbd12300849f18b95cf23422134df"
      ],
      "layout": "IPY_MODEL_85b3c2e09b1043b793e7422b0fd336a6"
     }
    },
    "85b3c2e09b1043b793e7422b0fd336a6": {
     "model_module": "@jupyter-widgets/base",
     "model_module_version": "1.2.0",
     "model_name": "LayoutModel",
     "state": {
      "_model_module": "@jupyter-widgets/base",
      "_model_module_version": "1.2.0",
      "_model_name": "LayoutModel",
      "_view_count": null,
      "_view_module": "@jupyter-widgets/base",
      "_view_module_version": "1.2.0",
      "_view_name": "LayoutView",
      "align_content": null,
      "align_items": null,
      "align_self": null,
      "border": null,
      "bottom": null,
      "display": null,
      "flex": null,
      "flex_flow": null,
      "grid_area": null,
      "grid_auto_columns": null,
      "grid_auto_flow": null,
      "grid_auto_rows": null,
      "grid_column": null,
      "grid_gap": null,
      "grid_row": null,
      "grid_template_areas": null,
      "grid_template_columns": null,
      "grid_template_rows": null,
      "height": null,
      "justify_content": null,
      "justify_items": null,
      "left": null,
      "margin": null,
      "max_height": null,
      "max_width": null,
      "min_height": null,
      "min_width": null,
      "object_fit": null,
      "object_position": null,
      "order": null,
      "overflow": null,
      "overflow_x": null,
      "overflow_y": null,
      "padding": null,
      "right": null,
      "top": null,
      "visibility": null,
      "width": null
     }
    },
    "85d1204d4f134f0ba7819c84e5e34608": {
     "model_module": "@jupyter-widgets/controls",
     "model_module_version": "1.5.0",
     "model_name": "HTMLModel",
     "state": {
      "_dom_classes": [],
      "_model_module": "@jupyter-widgets/controls",
      "_model_module_version": "1.5.0",
      "_model_name": "HTMLModel",
      "_view_count": null,
      "_view_module": "@jupyter-widgets/controls",
      "_view_module_version": "1.5.0",
      "_view_name": "HTMLView",
      "description": "",
      "description_tooltip": null,
      "layout": "IPY_MODEL_8f0dd5bc6b604028875a6c2fa15a6868",
      "placeholder": "​",
      "style": "IPY_MODEL_6f6d43b0419a448e9bfdf2f3977b2450",
      "value": " 4/4 [01:15&lt;00:00, 16.26s/it]"
     }
    },
    "8913c058952840aa85c5cc1e0e16a7ba": {
     "model_module": "@jupyter-widgets/controls",
     "model_module_version": "1.5.0",
     "model_name": "FloatProgressModel",
     "state": {
      "_dom_classes": [],
      "_model_module": "@jupyter-widgets/controls",
      "_model_module_version": "1.5.0",
      "_model_name": "FloatProgressModel",
      "_view_count": null,
      "_view_module": "@jupyter-widgets/controls",
      "_view_module_version": "1.5.0",
      "_view_name": "ProgressView",
      "bar_style": "success",
      "description": "",
      "description_tooltip": null,
      "layout": "IPY_MODEL_6db8c64db56e41c390de737c8dd24000",
      "max": 1,
      "min": 0,
      "orientation": "horizontal",
      "style": "IPY_MODEL_d7e8ba27fe324b61800f71d17e5d2b98",
      "value": 1
     }
    },
    "891f450b86fb4ea19f40af50aa6f19c5": {
     "model_module": "@jupyter-widgets/controls",
     "model_module_version": "1.5.0",
     "model_name": "HTMLModel",
     "state": {
      "_dom_classes": [],
      "_model_module": "@jupyter-widgets/controls",
      "_model_module_version": "1.5.0",
      "_model_name": "HTMLModel",
      "_view_count": null,
      "_view_module": "@jupyter-widgets/controls",
      "_view_module_version": "1.5.0",
      "_view_name": "HTMLView",
      "description": "",
      "description_tooltip": null,
      "layout": "IPY_MODEL_1db649bc88c0431290b8d8313f7a5c88",
      "placeholder": "​",
      "style": "IPY_MODEL_38609545c55a4a7e8160821651272236",
      "value": " 296/296 [00:00&lt;00:00, 40.4kB/s]"
     }
    },
    "8b644f92fb054b45b7af503794514215": {
     "model_module": "@jupyter-widgets/controls",
     "model_module_version": "1.5.0",
     "model_name": "DescriptionStyleModel",
     "state": {
      "_model_module": "@jupyter-widgets/controls",
      "_model_module_version": "1.5.0",
      "_model_name": "DescriptionStyleModel",
      "_view_count": null,
      "_view_module": "@jupyter-widgets/base",
      "_view_module_version": "1.2.0",
      "_view_name": "StyleView",
      "description_width": ""
     }
    },
    "8d7f992d2ab043a088da38aae3afcd99": {
     "model_module": "@jupyter-widgets/controls",
     "model_module_version": "1.5.0",
     "model_name": "FloatProgressModel",
     "state": {
      "_dom_classes": [],
      "_model_module": "@jupyter-widgets/controls",
      "_model_module_version": "1.5.0",
      "_model_name": "FloatProgressModel",
      "_view_count": null,
      "_view_module": "@jupyter-widgets/controls",
      "_view_module_version": "1.5.0",
      "_view_name": "ProgressView",
      "bar_style": "success",
      "description": "",
      "description_tooltip": null,
      "layout": "IPY_MODEL_66eb9853fae44b578e1f728a906bb97d",
      "max": 1168138808,
      "min": 0,
      "orientation": "horizontal",
      "style": "IPY_MODEL_bcdcb1ede6004778b099548ba8e30b2d",
      "value": 1168138808
     }
    },
    "8d9bd94a67dd445b9af6e2d6c01ea6a9": {
     "model_module": "@jupyter-widgets/base",
     "model_module_version": "1.2.0",
     "model_name": "LayoutModel",
     "state": {
      "_model_module": "@jupyter-widgets/base",
      "_model_module_version": "1.2.0",
      "_model_name": "LayoutModel",
      "_view_count": null,
      "_view_module": "@jupyter-widgets/base",
      "_view_module_version": "1.2.0",
      "_view_name": "LayoutView",
      "align_content": null,
      "align_items": null,
      "align_self": null,
      "border": null,
      "bottom": null,
      "display": null,
      "flex": null,
      "flex_flow": null,
      "grid_area": null,
      "grid_auto_columns": null,
      "grid_auto_flow": null,
      "grid_auto_rows": null,
      "grid_column": null,
      "grid_gap": null,
      "grid_row": null,
      "grid_template_areas": null,
      "grid_template_columns": null,
      "grid_template_rows": null,
      "height": null,
      "justify_content": null,
      "justify_items": null,
      "left": null,
      "margin": null,
      "max_height": null,
      "max_width": null,
      "min_height": null,
      "min_width": null,
      "object_fit": null,
      "object_position": null,
      "order": null,
      "overflow": null,
      "overflow_x": null,
      "overflow_y": null,
      "padding": null,
      "right": null,
      "top": null,
      "visibility": null,
      "width": null
     }
    },
    "8e2da18f48ab43e9b61f4b2d563dd048": {
     "model_module": "@jupyter-widgets/controls",
     "model_module_version": "1.5.0",
     "model_name": "ProgressStyleModel",
     "state": {
      "_model_module": "@jupyter-widgets/controls",
      "_model_module_version": "1.5.0",
      "_model_name": "ProgressStyleModel",
      "_view_count": null,
      "_view_module": "@jupyter-widgets/base",
      "_view_module_version": "1.2.0",
      "_view_name": "StyleView",
      "bar_color": null,
      "description_width": ""
     }
    },
    "8e38ae2c32e446dba6166fe37685bec4": {
     "model_module": "@jupyter-widgets/base",
     "model_module_version": "1.2.0",
     "model_name": "LayoutModel",
     "state": {
      "_model_module": "@jupyter-widgets/base",
      "_model_module_version": "1.2.0",
      "_model_name": "LayoutModel",
      "_view_count": null,
      "_view_module": "@jupyter-widgets/base",
      "_view_module_version": "1.2.0",
      "_view_name": "LayoutView",
      "align_content": null,
      "align_items": null,
      "align_self": null,
      "border": null,
      "bottom": null,
      "display": null,
      "flex": null,
      "flex_flow": null,
      "grid_area": null,
      "grid_auto_columns": null,
      "grid_auto_flow": null,
      "grid_auto_rows": null,
      "grid_column": null,
      "grid_gap": null,
      "grid_row": null,
      "grid_template_areas": null,
      "grid_template_columns": null,
      "grid_template_rows": null,
      "height": null,
      "justify_content": null,
      "justify_items": null,
      "left": null,
      "margin": null,
      "max_height": null,
      "max_width": null,
      "min_height": null,
      "min_width": null,
      "object_fit": null,
      "object_position": null,
      "order": null,
      "overflow": null,
      "overflow_x": null,
      "overflow_y": null,
      "padding": null,
      "right": null,
      "top": null,
      "visibility": null,
      "width": null
     }
    },
    "8f0dd5bc6b604028875a6c2fa15a6868": {
     "model_module": "@jupyter-widgets/base",
     "model_module_version": "1.2.0",
     "model_name": "LayoutModel",
     "state": {
      "_model_module": "@jupyter-widgets/base",
      "_model_module_version": "1.2.0",
      "_model_name": "LayoutModel",
      "_view_count": null,
      "_view_module": "@jupyter-widgets/base",
      "_view_module_version": "1.2.0",
      "_view_name": "LayoutView",
      "align_content": null,
      "align_items": null,
      "align_self": null,
      "border": null,
      "bottom": null,
      "display": null,
      "flex": null,
      "flex_flow": null,
      "grid_area": null,
      "grid_auto_columns": null,
      "grid_auto_flow": null,
      "grid_auto_rows": null,
      "grid_column": null,
      "grid_gap": null,
      "grid_row": null,
      "grid_template_areas": null,
      "grid_template_columns": null,
      "grid_template_rows": null,
      "height": null,
      "justify_content": null,
      "justify_items": null,
      "left": null,
      "margin": null,
      "max_height": null,
      "max_width": null,
      "min_height": null,
      "min_width": null,
      "object_fit": null,
      "object_position": null,
      "order": null,
      "overflow": null,
      "overflow_x": null,
      "overflow_y": null,
      "padding": null,
      "right": null,
      "top": null,
      "visibility": null,
      "width": null
     }
    },
    "8f29893da96943c8ad0ccdf05cbc5eec": {
     "model_module": "@jupyter-widgets/controls",
     "model_module_version": "1.5.0",
     "model_name": "ProgressStyleModel",
     "state": {
      "_model_module": "@jupyter-widgets/controls",
      "_model_module_version": "1.5.0",
      "_model_name": "ProgressStyleModel",
      "_view_count": null,
      "_view_module": "@jupyter-widgets/base",
      "_view_module_version": "1.2.0",
      "_view_name": "StyleView",
      "bar_color": null,
      "description_width": ""
     }
    },
    "90a211967e744b5cb6d761e33d3fb0ab": {
     "model_module": "@jupyter-widgets/controls",
     "model_module_version": "1.5.0",
     "model_name": "HTMLModel",
     "state": {
      "_dom_classes": [],
      "_model_module": "@jupyter-widgets/controls",
      "_model_module_version": "1.5.0",
      "_model_name": "HTMLModel",
      "_view_count": null,
      "_view_module": "@jupyter-widgets/controls",
      "_view_module_version": "1.5.0",
      "_view_name": "HTMLView",
      "description": "",
      "description_tooltip": null,
      "layout": "IPY_MODEL_007df68ac24a41f58487d8595beeba67",
      "placeholder": "​",
      "style": "IPY_MODEL_44cba98f943d4d8da5bbc6eb8b229eb9",
      "value": " 855/855 [00:00&lt;00:00, 103kB/s]"
     }
    },
    "92bca09a2c8d4529be1c5835bc49da40": {
     "model_module": "@jupyter-widgets/base",
     "model_module_version": "1.2.0",
     "model_name": "LayoutModel",
     "state": {
      "_model_module": "@jupyter-widgets/base",
      "_model_module_version": "1.2.0",
      "_model_name": "LayoutModel",
      "_view_count": null,
      "_view_module": "@jupyter-widgets/base",
      "_view_module_version": "1.2.0",
      "_view_name": "LayoutView",
      "align_content": null,
      "align_items": null,
      "align_self": null,
      "border": null,
      "bottom": null,
      "display": null,
      "flex": null,
      "flex_flow": null,
      "grid_area": null,
      "grid_auto_columns": null,
      "grid_auto_flow": null,
      "grid_auto_rows": null,
      "grid_column": null,
      "grid_gap": null,
      "grid_row": null,
      "grid_template_areas": null,
      "grid_template_columns": null,
      "grid_template_rows": null,
      "height": null,
      "justify_content": null,
      "justify_items": null,
      "left": null,
      "margin": null,
      "max_height": null,
      "max_width": null,
      "min_height": null,
      "min_width": null,
      "object_fit": null,
      "object_position": null,
      "order": null,
      "overflow": null,
      "overflow_x": null,
      "overflow_y": null,
      "padding": null,
      "right": null,
      "top": null,
      "visibility": null,
      "width": null
     }
    },
    "931f9893d7354278bc30b8e8bfdd90f8": {
     "model_module": "@jupyter-widgets/controls",
     "model_module_version": "1.5.0",
     "model_name": "HTMLModel",
     "state": {
      "_dom_classes": [],
      "_model_module": "@jupyter-widgets/controls",
      "_model_module_version": "1.5.0",
      "_model_name": "HTMLModel",
      "_view_count": null,
      "_view_module": "@jupyter-widgets/controls",
      "_view_module_version": "1.5.0",
      "_view_name": "HTMLView",
      "description": "",
      "description_tooltip": null,
      "layout": "IPY_MODEL_38e185a8ea944f4bb114012e3803d12f",
      "placeholder": "​",
      "style": "IPY_MODEL_4fc8a1eb99cb46b2a280f5f40e5d08bc",
      "value": "tokenizer_config.json: 100%"
     }
    },
    "9428a3be34084f2aa1859bcb0e4b487b": {
     "model_module": "@jupyter-widgets/controls",
     "model_module_version": "1.5.0",
     "model_name": "DescriptionStyleModel",
     "state": {
      "_model_module": "@jupyter-widgets/controls",
      "_model_module_version": "1.5.0",
      "_model_name": "DescriptionStyleModel",
      "_view_count": null,
      "_view_module": "@jupyter-widgets/base",
      "_view_module_version": "1.2.0",
      "_view_name": "StyleView",
      "description_width": ""
     }
    },
    "94e6b162420546ec9a8eb3e7c239cd5e": {
     "model_module": "@jupyter-widgets/controls",
     "model_module_version": "1.5.0",
     "model_name": "FloatProgressModel",
     "state": {
      "_dom_classes": [],
      "_model_module": "@jupyter-widgets/controls",
      "_model_module_version": "1.5.0",
      "_model_name": "FloatProgressModel",
      "_view_count": null,
      "_view_module": "@jupyter-widgets/controls",
      "_view_module_version": "1.5.0",
      "_view_name": "ProgressView",
      "bar_style": "success",
      "description": "",
      "description_tooltip": null,
      "layout": "IPY_MODEL_92bca09a2c8d4529be1c5835bc49da40",
      "max": 23950,
      "min": 0,
      "orientation": "horizontal",
      "style": "IPY_MODEL_8e2da18f48ab43e9b61f4b2d563dd048",
      "value": 23950
     }
    },
    "97fe6d09f16a4b94b3f20e5fb3389fd6": {
     "model_module": "@jupyter-widgets/base",
     "model_module_version": "1.2.0",
     "model_name": "LayoutModel",
     "state": {
      "_model_module": "@jupyter-widgets/base",
      "_model_module_version": "1.2.0",
      "_model_name": "LayoutModel",
      "_view_count": null,
      "_view_module": "@jupyter-widgets/base",
      "_view_module_version": "1.2.0",
      "_view_name": "LayoutView",
      "align_content": null,
      "align_items": null,
      "align_self": null,
      "border": null,
      "bottom": null,
      "display": null,
      "flex": null,
      "flex_flow": null,
      "grid_area": null,
      "grid_auto_columns": null,
      "grid_auto_flow": null,
      "grid_auto_rows": null,
      "grid_column": null,
      "grid_gap": null,
      "grid_row": null,
      "grid_template_areas": null,
      "grid_template_columns": null,
      "grid_template_rows": null,
      "height": null,
      "justify_content": null,
      "justify_items": null,
      "left": null,
      "margin": null,
      "max_height": null,
      "max_width": null,
      "min_height": null,
      "min_width": null,
      "object_fit": null,
      "object_position": null,
      "order": null,
      "overflow": null,
      "overflow_x": null,
      "overflow_y": null,
      "padding": null,
      "right": null,
      "top": null,
      "visibility": null,
      "width": null
     }
    },
    "98dbabe5c12a4676b63f4c00cf986307": {
     "model_module": "@jupyter-widgets/base",
     "model_module_version": "1.2.0",
     "model_name": "LayoutModel",
     "state": {
      "_model_module": "@jupyter-widgets/base",
      "_model_module_version": "1.2.0",
      "_model_name": "LayoutModel",
      "_view_count": null,
      "_view_module": "@jupyter-widgets/base",
      "_view_module_version": "1.2.0",
      "_view_name": "LayoutView",
      "align_content": null,
      "align_items": null,
      "align_self": null,
      "border": null,
      "bottom": null,
      "display": null,
      "flex": null,
      "flex_flow": null,
      "grid_area": null,
      "grid_auto_columns": null,
      "grid_auto_flow": null,
      "grid_auto_rows": null,
      "grid_column": null,
      "grid_gap": null,
      "grid_row": null,
      "grid_template_areas": null,
      "grid_template_columns": null,
      "grid_template_rows": null,
      "height": null,
      "justify_content": null,
      "justify_items": null,
      "left": null,
      "margin": null,
      "max_height": null,
      "max_width": null,
      "min_height": null,
      "min_width": null,
      "object_fit": null,
      "object_position": null,
      "order": null,
      "overflow": null,
      "overflow_x": null,
      "overflow_y": null,
      "padding": null,
      "right": null,
      "top": null,
      "visibility": null,
      "width": null
     }
    },
    "991bed55b9f34edd88104473e0f16e8d": {
     "model_module": "@jupyter-widgets/base",
     "model_module_version": "1.2.0",
     "model_name": "LayoutModel",
     "state": {
      "_model_module": "@jupyter-widgets/base",
      "_model_module_version": "1.2.0",
      "_model_name": "LayoutModel",
      "_view_count": null,
      "_view_module": "@jupyter-widgets/base",
      "_view_module_version": "1.2.0",
      "_view_name": "LayoutView",
      "align_content": null,
      "align_items": null,
      "align_self": null,
      "border": null,
      "bottom": null,
      "display": null,
      "flex": null,
      "flex_flow": null,
      "grid_area": null,
      "grid_auto_columns": null,
      "grid_auto_flow": null,
      "grid_auto_rows": null,
      "grid_column": null,
      "grid_gap": null,
      "grid_row": null,
      "grid_template_areas": null,
      "grid_template_columns": null,
      "grid_template_rows": null,
      "height": null,
      "justify_content": null,
      "justify_items": null,
      "left": null,
      "margin": null,
      "max_height": null,
      "max_width": null,
      "min_height": null,
      "min_width": null,
      "object_fit": null,
      "object_position": null,
      "order": null,
      "overflow": null,
      "overflow_x": null,
      "overflow_y": null,
      "padding": null,
      "right": null,
      "top": null,
      "visibility": null,
      "width": null
     }
    },
    "996511ddc1064a518d06784916d3619f": {
     "model_module": "@jupyter-widgets/base",
     "model_module_version": "1.2.0",
     "model_name": "LayoutModel",
     "state": {
      "_model_module": "@jupyter-widgets/base",
      "_model_module_version": "1.2.0",
      "_model_name": "LayoutModel",
      "_view_count": null,
      "_view_module": "@jupyter-widgets/base",
      "_view_module_version": "1.2.0",
      "_view_name": "LayoutView",
      "align_content": null,
      "align_items": null,
      "align_self": null,
      "border": null,
      "bottom": null,
      "display": null,
      "flex": null,
      "flex_flow": null,
      "grid_area": null,
      "grid_auto_columns": null,
      "grid_auto_flow": null,
      "grid_auto_rows": null,
      "grid_column": null,
      "grid_gap": null,
      "grid_row": null,
      "grid_template_areas": null,
      "grid_template_columns": null,
      "grid_template_rows": null,
      "height": null,
      "justify_content": null,
      "justify_items": null,
      "left": null,
      "margin": null,
      "max_height": null,
      "max_width": null,
      "min_height": null,
      "min_width": null,
      "object_fit": null,
      "object_position": null,
      "order": null,
      "overflow": null,
      "overflow_x": null,
      "overflow_y": null,
      "padding": null,
      "right": null,
      "top": null,
      "visibility": null,
      "width": null
     }
    },
    "9aadd28ed902450b8f7c15bacc43cf30": {
     "model_module": "@jupyter-widgets/controls",
     "model_module_version": "1.5.0",
     "model_name": "DescriptionStyleModel",
     "state": {
      "_model_module": "@jupyter-widgets/controls",
      "_model_module_version": "1.5.0",
      "_model_name": "DescriptionStyleModel",
      "_view_count": null,
      "_view_module": "@jupyter-widgets/base",
      "_view_module_version": "1.2.0",
      "_view_name": "StyleView",
      "description_width": ""
     }
    },
    "a0c9bb4a493f410cb3202706b6a9dc9e": {
     "model_module": "@jupyter-widgets/controls",
     "model_module_version": "1.5.0",
     "model_name": "HBoxModel",
     "state": {
      "_dom_classes": [],
      "_model_module": "@jupyter-widgets/controls",
      "_model_module_version": "1.5.0",
      "_model_name": "HBoxModel",
      "_view_count": null,
      "_view_module": "@jupyter-widgets/controls",
      "_view_module_version": "1.5.0",
      "_view_name": "HBoxView",
      "box_style": "",
      "children": [
       "IPY_MODEL_43fb5100ec4447f8a671ad362fc95100",
       "IPY_MODEL_ebcd66247e7244ba888008c9618071af",
       "IPY_MODEL_0adf04edb76e4699bfa0506deac5e07c"
      ],
      "layout": "IPY_MODEL_0575917c678d4b5b975ea287c89d52ab"
     }
    },
    "a14a516bbcbe449ea897b1d24475f233": {
     "model_module": "@jupyter-widgets/controls",
     "model_module_version": "1.5.0",
     "model_name": "ProgressStyleModel",
     "state": {
      "_model_module": "@jupyter-widgets/controls",
      "_model_module_version": "1.5.0",
      "_model_name": "ProgressStyleModel",
      "_view_count": null,
      "_view_module": "@jupyter-widgets/base",
      "_view_module_version": "1.2.0",
      "_view_name": "StyleView",
      "bar_color": null,
      "description_width": ""
     }
    },
    "a1826c6a8b6642c7843c3fbffb8255e8": {
     "model_module": "@jupyter-widgets/controls",
     "model_module_version": "1.5.0",
     "model_name": "HTMLModel",
     "state": {
      "_dom_classes": [],
      "_model_module": "@jupyter-widgets/controls",
      "_model_module_version": "1.5.0",
      "_model_name": "HTMLModel",
      "_view_count": null,
      "_view_module": "@jupyter-widgets/controls",
      "_view_module_version": "1.5.0",
      "_view_name": "HTMLView",
      "description": "",
      "description_tooltip": null,
      "layout": "IPY_MODEL_33a06450e97942dab7d5b4b76a94957d",
      "placeholder": "​",
      "style": "IPY_MODEL_9428a3be34084f2aa1859bcb0e4b487b",
      "value": "special_tokens_map.json: 100%"
     }
    },
    "a2c9758721ff431098c2179c6a878b98": {
     "model_module": "@jupyter-widgets/controls",
     "model_module_version": "1.5.0",
     "model_name": "HTMLModel",
     "state": {
      "_dom_classes": [],
      "_model_module": "@jupyter-widgets/controls",
      "_model_module_version": "1.5.0",
      "_model_name": "HTMLModel",
      "_view_count": null,
      "_view_module": "@jupyter-widgets/controls",
      "_view_module_version": "1.5.0",
      "_view_name": "HTMLView",
      "description": "",
      "description_tooltip": null,
      "layout": "IPY_MODEL_1abba07b370b488dbac23367bd921131",
      "placeholder": "​",
      "style": "IPY_MODEL_c881fa566e4341afac1dbb0f8cda88d8",
      "value": "100%"
     }
    },
    "a420069efcf545a8ae24427660cb120c": {
     "model_module": "@jupyter-widgets/controls",
     "model_module_version": "1.5.0",
     "model_name": "HBoxModel",
     "state": {
      "_dom_classes": [],
      "_model_module": "@jupyter-widgets/controls",
      "_model_module_version": "1.5.0",
      "_model_name": "HBoxModel",
      "_view_count": null,
      "_view_module": "@jupyter-widgets/controls",
      "_view_module_version": "1.5.0",
      "_view_name": "HBoxView",
      "box_style": "",
      "children": [
       "IPY_MODEL_931f9893d7354278bc30b8e8bfdd90f8",
       "IPY_MODEL_2ae66d7364e5480db60acf19ea28ad81",
       "IPY_MODEL_cc42f378e585452695b5fca6f492c3ec"
      ],
      "layout": "IPY_MODEL_c7218ac9a72a41af95a833388a9ef5db"
     }
    },
    "a85d92b9c99f452fb08363b454de0efd": {
     "model_module": "@jupyter-widgets/controls",
     "model_module_version": "1.5.0",
     "model_name": "HTMLModel",
     "state": {
      "_dom_classes": [],
      "_model_module": "@jupyter-widgets/controls",
      "_model_module_version": "1.5.0",
      "_model_name": "HTMLModel",
      "_view_count": null,
      "_view_module": "@jupyter-widgets/controls",
      "_view_module_version": "1.5.0",
      "_view_name": "HTMLView",
      "description": "",
      "description_tooltip": null,
      "layout": "IPY_MODEL_bd019fa9caaf4615b2d27d4cb99ec56f",
      "placeholder": "​",
      "style": "IPY_MODEL_e29c974205f74c1ea93956ac0de8f57a",
      "value": " 4/4 [00:05&lt;00:00,  1.31s/it]"
     }
    },
    "a9f37016c3984f3aa6327078dfd580e3": {
     "model_module": "@jupyter-widgets/controls",
     "model_module_version": "1.5.0",
     "model_name": "DescriptionStyleModel",
     "state": {
      "_model_module": "@jupyter-widgets/controls",
      "_model_module_version": "1.5.0",
      "_model_name": "DescriptionStyleModel",
      "_view_count": null,
      "_view_module": "@jupyter-widgets/base",
      "_view_module_version": "1.2.0",
      "_view_name": "StyleView",
      "description_width": ""
     }
    },
    "ad4ee7fae24c46b6ba1e8301a58250ef": {
     "model_module": "@jupyter-widgets/base",
     "model_module_version": "1.2.0",
     "model_name": "LayoutModel",
     "state": {
      "_model_module": "@jupyter-widgets/base",
      "_model_module_version": "1.2.0",
      "_model_name": "LayoutModel",
      "_view_count": null,
      "_view_module": "@jupyter-widgets/base",
      "_view_module_version": "1.2.0",
      "_view_name": "LayoutView",
      "align_content": null,
      "align_items": null,
      "align_self": null,
      "border": null,
      "bottom": null,
      "display": null,
      "flex": null,
      "flex_flow": null,
      "grid_area": null,
      "grid_auto_columns": null,
      "grid_auto_flow": null,
      "grid_auto_rows": null,
      "grid_column": null,
      "grid_gap": null,
      "grid_row": null,
      "grid_template_areas": null,
      "grid_template_columns": null,
      "grid_template_rows": null,
      "height": null,
      "justify_content": null,
      "justify_items": null,
      "left": null,
      "margin": null,
      "max_height": null,
      "max_width": null,
      "min_height": null,
      "min_width": null,
      "object_fit": null,
      "object_position": null,
      "order": null,
      "overflow": null,
      "overflow_x": null,
      "overflow_y": null,
      "padding": null,
      "right": null,
      "top": null,
      "visibility": null,
      "width": null
     }
    },
    "ae323f11ea87479db9cd4732236feebf": {
     "model_module": "@jupyter-widgets/controls",
     "model_module_version": "1.5.0",
     "model_name": "HBoxModel",
     "state": {
      "_dom_classes": [],
      "_model_module": "@jupyter-widgets/controls",
      "_model_module_version": "1.5.0",
      "_model_name": "HBoxModel",
      "_view_count": null,
      "_view_module": "@jupyter-widgets/controls",
      "_view_module_version": "1.5.0",
      "_view_name": "HBoxView",
      "box_style": "",
      "children": [
       "IPY_MODEL_a2c9758721ff431098c2179c6a878b98",
       "IPY_MODEL_3573537efb48468eb34bdca54a437fe6",
       "IPY_MODEL_272e5e955b2a4b0a9bc2fb11fab9bf30"
      ],
      "layout": "IPY_MODEL_bd34c370ef10478cb4cd5647ff6825b9"
     }
    },
    "afb66d9fe78b42a3bdb8b9505b02b50b": {
     "model_module": "@jupyter-widgets/controls",
     "model_module_version": "1.5.0",
     "model_name": "ProgressStyleModel",
     "state": {
      "_model_module": "@jupyter-widgets/controls",
      "_model_module_version": "1.5.0",
      "_model_name": "ProgressStyleModel",
      "_view_count": null,
      "_view_module": "@jupyter-widgets/base",
      "_view_module_version": "1.2.0",
      "_view_name": "StyleView",
      "bar_color": null,
      "description_width": ""
     }
    },
    "b1efe2f7743e410ab52b89fd3c396860": {
     "model_module": "@jupyter-widgets/base",
     "model_module_version": "1.2.0",
     "model_name": "LayoutModel",
     "state": {
      "_model_module": "@jupyter-widgets/base",
      "_model_module_version": "1.2.0",
      "_model_name": "LayoutModel",
      "_view_count": null,
      "_view_module": "@jupyter-widgets/base",
      "_view_module_version": "1.2.0",
      "_view_name": "LayoutView",
      "align_content": null,
      "align_items": null,
      "align_self": null,
      "border": null,
      "bottom": null,
      "display": null,
      "flex": null,
      "flex_flow": null,
      "grid_area": null,
      "grid_auto_columns": null,
      "grid_auto_flow": null,
      "grid_auto_rows": null,
      "grid_column": null,
      "grid_gap": null,
      "grid_row": null,
      "grid_template_areas": null,
      "grid_template_columns": null,
      "grid_template_rows": null,
      "height": null,
      "justify_content": null,
      "justify_items": null,
      "left": null,
      "margin": null,
      "max_height": null,
      "max_width": null,
      "min_height": null,
      "min_width": null,
      "object_fit": null,
      "object_position": null,
      "order": null,
      "overflow": null,
      "overflow_x": null,
      "overflow_y": null,
      "padding": null,
      "right": null,
      "top": null,
      "visibility": null,
      "width": null
     }
    },
    "b280d953357448d7be4776ab283b5bdc": {
     "model_module": "@jupyter-widgets/base",
     "model_module_version": "1.2.0",
     "model_name": "LayoutModel",
     "state": {
      "_model_module": "@jupyter-widgets/base",
      "_model_module_version": "1.2.0",
      "_model_name": "LayoutModel",
      "_view_count": null,
      "_view_module": "@jupyter-widgets/base",
      "_view_module_version": "1.2.0",
      "_view_name": "LayoutView",
      "align_content": null,
      "align_items": null,
      "align_self": null,
      "border": null,
      "bottom": null,
      "display": null,
      "flex": null,
      "flex_flow": null,
      "grid_area": null,
      "grid_auto_columns": null,
      "grid_auto_flow": null,
      "grid_auto_rows": null,
      "grid_column": null,
      "grid_gap": null,
      "grid_row": null,
      "grid_template_areas": null,
      "grid_template_columns": null,
      "grid_template_rows": null,
      "height": null,
      "justify_content": null,
      "justify_items": null,
      "left": null,
      "margin": null,
      "max_height": null,
      "max_width": null,
      "min_height": null,
      "min_width": null,
      "object_fit": null,
      "object_position": null,
      "order": null,
      "overflow": null,
      "overflow_x": null,
      "overflow_y": null,
      "padding": null,
      "right": null,
      "top": null,
      "visibility": null,
      "width": null
     }
    },
    "b32912e2f3da42dfb9f05a2e001f4375": {
     "model_module": "@jupyter-widgets/controls",
     "model_module_version": "1.5.0",
     "model_name": "HBoxModel",
     "state": {
      "_dom_classes": [],
      "_model_module": "@jupyter-widgets/controls",
      "_model_module_version": "1.5.0",
      "_model_name": "HBoxModel",
      "_view_count": null,
      "_view_module": "@jupyter-widgets/controls",
      "_view_module_version": "1.5.0",
      "_view_name": "HBoxView",
      "box_style": "",
      "children": [
       "IPY_MODEL_6c9ebd52b34948299b37a8b0f573fd28",
       "IPY_MODEL_c4c0a058cbcf454093ca34ff90808e13",
       "IPY_MODEL_90a211967e744b5cb6d761e33d3fb0ab"
      ],
      "layout": "IPY_MODEL_71a2ca8dfabc48e1b7b5844db9c92fc3"
     }
    },
    "b38abfc0ff83489bbf2896de83f02be2": {
     "model_module": "@jupyter-widgets/controls",
     "model_module_version": "1.5.0",
     "model_name": "HTMLModel",
     "state": {
      "_dom_classes": [],
      "_model_module": "@jupyter-widgets/controls",
      "_model_module_version": "1.5.0",
      "_model_name": "HTMLModel",
      "_view_count": null,
      "_view_module": "@jupyter-widgets/controls",
      "_view_module_version": "1.5.0",
      "_view_name": "HTMLView",
      "description": "",
      "description_tooltip": null,
      "layout": "IPY_MODEL_cbcd670c719146f9873879339d72b003",
      "placeholder": "​",
      "style": "IPY_MODEL_328df1a494ba4ce69a8a559491942254",
      "value": "Downloading shards: 100%"
     }
    },
    "b6845e538e07478293fd672a278f9ddb": {
     "model_module": "@jupyter-widgets/base",
     "model_module_version": "1.2.0",
     "model_name": "LayoutModel",
     "state": {
      "_model_module": "@jupyter-widgets/base",
      "_model_module_version": "1.2.0",
      "_model_name": "LayoutModel",
      "_view_count": null,
      "_view_module": "@jupyter-widgets/base",
      "_view_module_version": "1.2.0",
      "_view_name": "LayoutView",
      "align_content": null,
      "align_items": null,
      "align_self": null,
      "border": null,
      "bottom": null,
      "display": null,
      "flex": null,
      "flex_flow": null,
      "grid_area": null,
      "grid_auto_columns": null,
      "grid_auto_flow": null,
      "grid_auto_rows": null,
      "grid_column": null,
      "grid_gap": null,
      "grid_row": null,
      "grid_template_areas": null,
      "grid_template_columns": null,
      "grid_template_rows": null,
      "height": null,
      "justify_content": null,
      "justify_items": null,
      "left": null,
      "margin": null,
      "max_height": null,
      "max_width": null,
      "min_height": null,
      "min_width": null,
      "object_fit": null,
      "object_position": null,
      "order": null,
      "overflow": null,
      "overflow_x": null,
      "overflow_y": null,
      "padding": null,
      "right": null,
      "top": null,
      "visibility": null,
      "width": null
     }
    },
    "b7aa53b3ebaa413f8793930e5e6ba03e": {
     "model_module": "@jupyter-widgets/controls",
     "model_module_version": "1.5.0",
     "model_name": "FloatProgressModel",
     "state": {
      "_dom_classes": [],
      "_model_module": "@jupyter-widgets/controls",
      "_model_module_version": "1.5.0",
      "_model_name": "FloatProgressModel",
      "_view_count": null,
      "_view_module": "@jupyter-widgets/controls",
      "_view_module_version": "1.5.0",
      "_view_name": "ProgressView",
      "bar_style": "success",
      "description": "",
      "description_tooltip": null,
      "layout": "IPY_MODEL_cb6efd16b94540a6ae9fd0f044f427a2",
      "max": 4,
      "min": 0,
      "orientation": "horizontal",
      "style": "IPY_MODEL_dfc3bfc7231945089e10179d5c75bd1f",
      "value": 4
     }
    },
    "bc8ae35d6189430bac4fee0dbe7d1296": {
     "model_module": "@jupyter-widgets/base",
     "model_module_version": "1.2.0",
     "model_name": "LayoutModel",
     "state": {
      "_model_module": "@jupyter-widgets/base",
      "_model_module_version": "1.2.0",
      "_model_name": "LayoutModel",
      "_view_count": null,
      "_view_module": "@jupyter-widgets/base",
      "_view_module_version": "1.2.0",
      "_view_name": "LayoutView",
      "align_content": null,
      "align_items": null,
      "align_self": null,
      "border": null,
      "bottom": null,
      "display": null,
      "flex": null,
      "flex_flow": null,
      "grid_area": null,
      "grid_auto_columns": null,
      "grid_auto_flow": null,
      "grid_auto_rows": null,
      "grid_column": null,
      "grid_gap": null,
      "grid_row": null,
      "grid_template_areas": null,
      "grid_template_columns": null,
      "grid_template_rows": null,
      "height": null,
      "justify_content": null,
      "justify_items": null,
      "left": null,
      "margin": null,
      "max_height": null,
      "max_width": null,
      "min_height": null,
      "min_width": null,
      "object_fit": null,
      "object_position": null,
      "order": null,
      "overflow": null,
      "overflow_x": null,
      "overflow_y": null,
      "padding": null,
      "right": null,
      "top": null,
      "visibility": null,
      "width": null
     }
    },
    "bcdcb1ede6004778b099548ba8e30b2d": {
     "model_module": "@jupyter-widgets/controls",
     "model_module_version": "1.5.0",
     "model_name": "ProgressStyleModel",
     "state": {
      "_model_module": "@jupyter-widgets/controls",
      "_model_module_version": "1.5.0",
      "_model_name": "ProgressStyleModel",
      "_view_count": null,
      "_view_module": "@jupyter-widgets/base",
      "_view_module_version": "1.2.0",
      "_view_name": "StyleView",
      "bar_color": null,
      "description_width": ""
     }
    },
    "bd019fa9caaf4615b2d27d4cb99ec56f": {
     "model_module": "@jupyter-widgets/base",
     "model_module_version": "1.2.0",
     "model_name": "LayoutModel",
     "state": {
      "_model_module": "@jupyter-widgets/base",
      "_model_module_version": "1.2.0",
      "_model_name": "LayoutModel",
      "_view_count": null,
      "_view_module": "@jupyter-widgets/base",
      "_view_module_version": "1.2.0",
      "_view_name": "LayoutView",
      "align_content": null,
      "align_items": null,
      "align_self": null,
      "border": null,
      "bottom": null,
      "display": null,
      "flex": null,
      "flex_flow": null,
      "grid_area": null,
      "grid_auto_columns": null,
      "grid_auto_flow": null,
      "grid_auto_rows": null,
      "grid_column": null,
      "grid_gap": null,
      "grid_row": null,
      "grid_template_areas": null,
      "grid_template_columns": null,
      "grid_template_rows": null,
      "height": null,
      "justify_content": null,
      "justify_items": null,
      "left": null,
      "margin": null,
      "max_height": null,
      "max_width": null,
      "min_height": null,
      "min_width": null,
      "object_fit": null,
      "object_position": null,
      "order": null,
      "overflow": null,
      "overflow_x": null,
      "overflow_y": null,
      "padding": null,
      "right": null,
      "top": null,
      "visibility": null,
      "width": null
     }
    },
    "bd01f19e1c194cefa35287aa3ace1344": {
     "model_module": "@jupyter-widgets/controls",
     "model_module_version": "1.5.0",
     "model_name": "ProgressStyleModel",
     "state": {
      "_model_module": "@jupyter-widgets/controls",
      "_model_module_version": "1.5.0",
      "_model_name": "ProgressStyleModel",
      "_view_count": null,
      "_view_module": "@jupyter-widgets/base",
      "_view_module_version": "1.2.0",
      "_view_name": "StyleView",
      "bar_color": null,
      "description_width": ""
     }
    },
    "bd10eebb633b46ff99d8eb36af012025": {
     "model_module": "@jupyter-widgets/base",
     "model_module_version": "1.2.0",
     "model_name": "LayoutModel",
     "state": {
      "_model_module": "@jupyter-widgets/base",
      "_model_module_version": "1.2.0",
      "_model_name": "LayoutModel",
      "_view_count": null,
      "_view_module": "@jupyter-widgets/base",
      "_view_module_version": "1.2.0",
      "_view_name": "LayoutView",
      "align_content": null,
      "align_items": null,
      "align_self": null,
      "border": null,
      "bottom": null,
      "display": null,
      "flex": null,
      "flex_flow": null,
      "grid_area": null,
      "grid_auto_columns": null,
      "grid_auto_flow": null,
      "grid_auto_rows": null,
      "grid_column": null,
      "grid_gap": null,
      "grid_row": null,
      "grid_template_areas": null,
      "grid_template_columns": null,
      "grid_template_rows": null,
      "height": null,
      "justify_content": null,
      "justify_items": null,
      "left": null,
      "margin": null,
      "max_height": null,
      "max_width": null,
      "min_height": null,
      "min_width": null,
      "object_fit": null,
      "object_position": null,
      "order": null,
      "overflow": null,
      "overflow_x": null,
      "overflow_y": null,
      "padding": null,
      "right": null,
      "top": null,
      "visibility": null,
      "width": null
     }
    },
    "bd34c370ef10478cb4cd5647ff6825b9": {
     "model_module": "@jupyter-widgets/base",
     "model_module_version": "1.2.0",
     "model_name": "LayoutModel",
     "state": {
      "_model_module": "@jupyter-widgets/base",
      "_model_module_version": "1.2.0",
      "_model_name": "LayoutModel",
      "_view_count": null,
      "_view_module": "@jupyter-widgets/base",
      "_view_module_version": "1.2.0",
      "_view_name": "LayoutView",
      "align_content": null,
      "align_items": null,
      "align_self": null,
      "border": null,
      "bottom": null,
      "display": null,
      "flex": null,
      "flex_flow": null,
      "grid_area": null,
      "grid_auto_columns": null,
      "grid_auto_flow": null,
      "grid_auto_rows": null,
      "grid_column": null,
      "grid_gap": null,
      "grid_row": null,
      "grid_template_areas": null,
      "grid_template_columns": null,
      "grid_template_rows": null,
      "height": null,
      "justify_content": null,
      "justify_items": null,
      "left": null,
      "margin": null,
      "max_height": null,
      "max_width": null,
      "min_height": null,
      "min_width": null,
      "object_fit": null,
      "object_position": null,
      "order": null,
      "overflow": null,
      "overflow_x": null,
      "overflow_y": null,
      "padding": null,
      "right": null,
      "top": null,
      "visibility": null,
      "width": null
     }
    },
    "c337c3d67ebb4abd9fbaf1bfa33659ad": {
     "model_module": "@jupyter-widgets/controls",
     "model_module_version": "1.5.0",
     "model_name": "DescriptionStyleModel",
     "state": {
      "_model_module": "@jupyter-widgets/controls",
      "_model_module_version": "1.5.0",
      "_model_name": "DescriptionStyleModel",
      "_view_count": null,
      "_view_module": "@jupyter-widgets/base",
      "_view_module_version": "1.2.0",
      "_view_name": "StyleView",
      "description_width": ""
     }
    },
    "c36a5dc8b6bc4eb29187ebd250c8c6f1": {
     "model_module": "@jupyter-widgets/controls",
     "model_module_version": "1.5.0",
     "model_name": "DescriptionStyleModel",
     "state": {
      "_model_module": "@jupyter-widgets/controls",
      "_model_module_version": "1.5.0",
      "_model_name": "DescriptionStyleModel",
      "_view_count": null,
      "_view_module": "@jupyter-widgets/base",
      "_view_module_version": "1.2.0",
      "_view_name": "StyleView",
      "description_width": ""
     }
    },
    "c3faa7655bb14b5fafedeaaf8585e0f0": {
     "model_module": "@jupyter-widgets/controls",
     "model_module_version": "1.5.0",
     "model_name": "HTMLModel",
     "state": {
      "_dom_classes": [],
      "_model_module": "@jupyter-widgets/controls",
      "_model_module_version": "1.5.0",
      "_model_name": "HTMLModel",
      "_view_count": null,
      "_view_module": "@jupyter-widgets/controls",
      "_view_module_version": "1.5.0",
      "_view_name": "HTMLView",
      "description": "",
      "description_tooltip": null,
      "layout": "IPY_MODEL_bd10eebb633b46ff99d8eb36af012025",
      "placeholder": "​",
      "style": "IPY_MODEL_0295e0d963d64f69ba6679ac5ed93c5d",
      "value": "model-00001-of-00004.safetensors: 100%"
     }
    },
    "c4c0a058cbcf454093ca34ff90808e13": {
     "model_module": "@jupyter-widgets/controls",
     "model_module_version": "1.5.0",
     "model_name": "FloatProgressModel",
     "state": {
      "_dom_classes": [],
      "_model_module": "@jupyter-widgets/controls",
      "_model_module_version": "1.5.0",
      "_model_name": "FloatProgressModel",
      "_view_count": null,
      "_view_module": "@jupyter-widgets/controls",
      "_view_module_version": "1.5.0",
      "_view_name": "ProgressView",
      "bar_style": "success",
      "description": "",
      "description_tooltip": null,
      "layout": "IPY_MODEL_14b4f233252d4278b134625d3fb496cc",
      "max": 855,
      "min": 0,
      "orientation": "horizontal",
      "style": "IPY_MODEL_8f29893da96943c8ad0ccdf05cbc5eec",
      "value": 855
     }
    },
    "c629ec221fb244d48b5edac6565de7f0": {
     "model_module": "@jupyter-widgets/controls",
     "model_module_version": "1.5.0",
     "model_name": "HTMLModel",
     "state": {
      "_dom_classes": [],
      "_model_module": "@jupyter-widgets/controls",
      "_model_module_version": "1.5.0",
      "_model_name": "HTMLModel",
      "_view_count": null,
      "_view_module": "@jupyter-widgets/controls",
      "_view_module_version": "1.5.0",
      "_view_name": "HTMLView",
      "description": "",
      "description_tooltip": null,
      "layout": "IPY_MODEL_7afd02ee5ccb4558a43b5a47cf6bf42f",
      "placeholder": "​",
      "style": "IPY_MODEL_50996cd4dc3b422b8b3bfabe80f84741",
      "value": " 23.9k/23.9k [00:00&lt;00:00, 2.51MB/s]"
     }
    },
    "c7218ac9a72a41af95a833388a9ef5db": {
     "model_module": "@jupyter-widgets/base",
     "model_module_version": "1.2.0",
     "model_name": "LayoutModel",
     "state": {
      "_model_module": "@jupyter-widgets/base",
      "_model_module_version": "1.2.0",
      "_model_name": "LayoutModel",
      "_view_count": null,
      "_view_module": "@jupyter-widgets/base",
      "_view_module_version": "1.2.0",
      "_view_name": "LayoutView",
      "align_content": null,
      "align_items": null,
      "align_self": null,
      "border": null,
      "bottom": null,
      "display": null,
      "flex": null,
      "flex_flow": null,
      "grid_area": null,
      "grid_auto_columns": null,
      "grid_auto_flow": null,
      "grid_auto_rows": null,
      "grid_column": null,
      "grid_gap": null,
      "grid_row": null,
      "grid_template_areas": null,
      "grid_template_columns": null,
      "grid_template_rows": null,
      "height": null,
      "justify_content": null,
      "justify_items": null,
      "left": null,
      "margin": null,
      "max_height": null,
      "max_width": null,
      "min_height": null,
      "min_width": null,
      "object_fit": null,
      "object_position": null,
      "order": null,
      "overflow": null,
      "overflow_x": null,
      "overflow_y": null,
      "padding": null,
      "right": null,
      "top": null,
      "visibility": null,
      "width": null
     }
    },
    "c7f18f25ab4d4a62a9f7039e065dd899": {
     "model_module": "@jupyter-widgets/controls",
     "model_module_version": "1.5.0",
     "model_name": "ProgressStyleModel",
     "state": {
      "_model_module": "@jupyter-widgets/controls",
      "_model_module_version": "1.5.0",
      "_model_name": "ProgressStyleModel",
      "_view_count": null,
      "_view_module": "@jupyter-widgets/base",
      "_view_module_version": "1.2.0",
      "_view_name": "StyleView",
      "bar_color": null,
      "description_width": ""
     }
    },
    "c80178c2fc22437a83344d778e8bd14b": {
     "model_module": "@jupyter-widgets/controls",
     "model_module_version": "1.5.0",
     "model_name": "HTMLModel",
     "state": {
      "_dom_classes": [],
      "_model_module": "@jupyter-widgets/controls",
      "_model_module_version": "1.5.0",
      "_model_name": "HTMLModel",
      "_view_count": null,
      "_view_module": "@jupyter-widgets/controls",
      "_view_module_version": "1.5.0",
      "_view_name": "HTMLView",
      "description": "",
      "description_tooltip": null,
      "layout": "IPY_MODEL_b6845e538e07478293fd672a278f9ddb",
      "placeholder": "​",
      "style": "IPY_MODEL_8b644f92fb054b45b7af503794514215",
      "value": "generation_config.json: 100%"
     }
    },
    "c881fa566e4341afac1dbb0f8cda88d8": {
     "model_module": "@jupyter-widgets/controls",
     "model_module_version": "1.5.0",
     "model_name": "DescriptionStyleModel",
     "state": {
      "_model_module": "@jupyter-widgets/controls",
      "_model_module_version": "1.5.0",
      "_model_name": "DescriptionStyleModel",
      "_view_count": null,
      "_view_module": "@jupyter-widgets/base",
      "_view_module_version": "1.2.0",
      "_view_name": "StyleView",
      "description_width": ""
     }
    },
    "c8c76ef0aa134af0affaec76cfe8edd2": {
     "model_module": "@jupyter-widgets/controls",
     "model_module_version": "1.5.0",
     "model_name": "DescriptionStyleModel",
     "state": {
      "_model_module": "@jupyter-widgets/controls",
      "_model_module_version": "1.5.0",
      "_model_name": "DescriptionStyleModel",
      "_view_count": null,
      "_view_module": "@jupyter-widgets/base",
      "_view_module_version": "1.2.0",
      "_view_name": "StyleView",
      "description_width": ""
     }
    },
    "cb6efd16b94540a6ae9fd0f044f427a2": {
     "model_module": "@jupyter-widgets/base",
     "model_module_version": "1.2.0",
     "model_name": "LayoutModel",
     "state": {
      "_model_module": "@jupyter-widgets/base",
      "_model_module_version": "1.2.0",
      "_model_name": "LayoutModel",
      "_view_count": null,
      "_view_module": "@jupyter-widgets/base",
      "_view_module_version": "1.2.0",
      "_view_name": "LayoutView",
      "align_content": null,
      "align_items": null,
      "align_self": null,
      "border": null,
      "bottom": null,
      "display": null,
      "flex": null,
      "flex_flow": null,
      "grid_area": null,
      "grid_auto_columns": null,
      "grid_auto_flow": null,
      "grid_auto_rows": null,
      "grid_column": null,
      "grid_gap": null,
      "grid_row": null,
      "grid_template_areas": null,
      "grid_template_columns": null,
      "grid_template_rows": null,
      "height": null,
      "justify_content": null,
      "justify_items": null,
      "left": null,
      "margin": null,
      "max_height": null,
      "max_width": null,
      "min_height": null,
      "min_width": null,
      "object_fit": null,
      "object_position": null,
      "order": null,
      "overflow": null,
      "overflow_x": null,
      "overflow_y": null,
      "padding": null,
      "right": null,
      "top": null,
      "visibility": null,
      "width": null
     }
    },
    "cbcd670c719146f9873879339d72b003": {
     "model_module": "@jupyter-widgets/base",
     "model_module_version": "1.2.0",
     "model_name": "LayoutModel",
     "state": {
      "_model_module": "@jupyter-widgets/base",
      "_model_module_version": "1.2.0",
      "_model_name": "LayoutModel",
      "_view_count": null,
      "_view_module": "@jupyter-widgets/base",
      "_view_module_version": "1.2.0",
      "_view_name": "LayoutView",
      "align_content": null,
      "align_items": null,
      "align_self": null,
      "border": null,
      "bottom": null,
      "display": null,
      "flex": null,
      "flex_flow": null,
      "grid_area": null,
      "grid_auto_columns": null,
      "grid_auto_flow": null,
      "grid_auto_rows": null,
      "grid_column": null,
      "grid_gap": null,
      "grid_row": null,
      "grid_template_areas": null,
      "grid_template_columns": null,
      "grid_template_rows": null,
      "height": null,
      "justify_content": null,
      "justify_items": null,
      "left": null,
      "margin": null,
      "max_height": null,
      "max_width": null,
      "min_height": null,
      "min_width": null,
      "object_fit": null,
      "object_position": null,
      "order": null,
      "overflow": null,
      "overflow_x": null,
      "overflow_y": null,
      "padding": null,
      "right": null,
      "top": null,
      "visibility": null,
      "width": null
     }
    },
    "cc42f378e585452695b5fca6f492c3ec": {
     "model_module": "@jupyter-widgets/controls",
     "model_module_version": "1.5.0",
     "model_name": "HTMLModel",
     "state": {
      "_dom_classes": [],
      "_model_module": "@jupyter-widgets/controls",
      "_model_module_version": "1.5.0",
      "_model_name": "HTMLModel",
      "_view_count": null,
      "_view_module": "@jupyter-widgets/controls",
      "_view_module_version": "1.5.0",
      "_view_name": "HTMLView",
      "description": "",
      "description_tooltip": null,
      "layout": "IPY_MODEL_fb1a001af8d84f25b0a137156054b501",
      "placeholder": "​",
      "style": "IPY_MODEL_a9f37016c3984f3aa6327078dfd580e3",
      "value": " 55.4k/55.4k [00:00&lt;00:00, 6.31MB/s]"
     }
    },
    "ce4cb132a1ec47b093beb5e3b106ceb4": {
     "model_module": "@jupyter-widgets/base",
     "model_module_version": "1.2.0",
     "model_name": "LayoutModel",
     "state": {
      "_model_module": "@jupyter-widgets/base",
      "_model_module_version": "1.2.0",
      "_model_name": "LayoutModel",
      "_view_count": null,
      "_view_module": "@jupyter-widgets/base",
      "_view_module_version": "1.2.0",
      "_view_name": "LayoutView",
      "align_content": null,
      "align_items": null,
      "align_self": null,
      "border": null,
      "bottom": null,
      "display": null,
      "flex": null,
      "flex_flow": null,
      "grid_area": null,
      "grid_auto_columns": null,
      "grid_auto_flow": null,
      "grid_auto_rows": null,
      "grid_column": null,
      "grid_gap": null,
      "grid_row": null,
      "grid_template_areas": null,
      "grid_template_columns": null,
      "grid_template_rows": null,
      "height": null,
      "justify_content": null,
      "justify_items": null,
      "left": null,
      "margin": null,
      "max_height": null,
      "max_width": null,
      "min_height": null,
      "min_width": null,
      "object_fit": null,
      "object_position": null,
      "order": null,
      "overflow": null,
      "overflow_x": null,
      "overflow_y": null,
      "padding": null,
      "right": null,
      "top": null,
      "visibility": null,
      "width": null
     }
    },
    "cf1e6b72c34043fbbfb8aebcb10a6ece": {
     "model_module": "@jupyter-widgets/controls",
     "model_module_version": "1.5.0",
     "model_name": "DescriptionStyleModel",
     "state": {
      "_model_module": "@jupyter-widgets/controls",
      "_model_module_version": "1.5.0",
      "_model_name": "DescriptionStyleModel",
      "_view_count": null,
      "_view_module": "@jupyter-widgets/base",
      "_view_module_version": "1.2.0",
      "_view_name": "StyleView",
      "description_width": ""
     }
    },
    "d6c0a2bab1a74d899cbf52f76408c4bb": {
     "model_module": "@jupyter-widgets/base",
     "model_module_version": "1.2.0",
     "model_name": "LayoutModel",
     "state": {
      "_model_module": "@jupyter-widgets/base",
      "_model_module_version": "1.2.0",
      "_model_name": "LayoutModel",
      "_view_count": null,
      "_view_module": "@jupyter-widgets/base",
      "_view_module_version": "1.2.0",
      "_view_name": "LayoutView",
      "align_content": null,
      "align_items": null,
      "align_self": null,
      "border": null,
      "bottom": null,
      "display": null,
      "flex": null,
      "flex_flow": null,
      "grid_area": null,
      "grid_auto_columns": null,
      "grid_auto_flow": null,
      "grid_auto_rows": null,
      "grid_column": null,
      "grid_gap": null,
      "grid_row": null,
      "grid_template_areas": null,
      "grid_template_columns": null,
      "grid_template_rows": null,
      "height": null,
      "justify_content": null,
      "justify_items": null,
      "left": null,
      "margin": null,
      "max_height": null,
      "max_width": null,
      "min_height": null,
      "min_width": null,
      "object_fit": null,
      "object_position": null,
      "order": null,
      "overflow": null,
      "overflow_x": null,
      "overflow_y": null,
      "padding": null,
      "right": null,
      "top": null,
      "visibility": null,
      "width": null
     }
    },
    "d6e84efefd674f9abffcbeffd34d3bab": {
     "model_module": "@jupyter-widgets/controls",
     "model_module_version": "1.5.0",
     "model_name": "HBoxModel",
     "state": {
      "_dom_classes": [],
      "_model_module": "@jupyter-widgets/controls",
      "_model_module_version": "1.5.0",
      "_model_name": "HBoxModel",
      "_view_count": null,
      "_view_module": "@jupyter-widgets/controls",
      "_view_module_version": "1.5.0",
      "_view_name": "HBoxView",
      "box_style": "",
      "children": [
       "IPY_MODEL_c80178c2fc22437a83344d778e8bd14b",
       "IPY_MODEL_e6b9878eb62648d5abb01d21f3c42004",
       "IPY_MODEL_d8d4a37557194f12a5714b409c816112"
      ],
      "layout": "IPY_MODEL_991bed55b9f34edd88104473e0f16e8d"
     }
    },
    "d7e8ba27fe324b61800f71d17e5d2b98": {
     "model_module": "@jupyter-widgets/controls",
     "model_module_version": "1.5.0",
     "model_name": "ProgressStyleModel",
     "state": {
      "_model_module": "@jupyter-widgets/controls",
      "_model_module_version": "1.5.0",
      "_model_name": "ProgressStyleModel",
      "_view_count": null,
      "_view_module": "@jupyter-widgets/base",
      "_view_module_version": "1.2.0",
      "_view_name": "StyleView",
      "bar_color": null,
      "description_width": ""
     }
    },
    "d8cc185865394000af37f25c5a7473e1": {
     "model_module": "@jupyter-widgets/base",
     "model_module_version": "1.2.0",
     "model_name": "LayoutModel",
     "state": {
      "_model_module": "@jupyter-widgets/base",
      "_model_module_version": "1.2.0",
      "_model_name": "LayoutModel",
      "_view_count": null,
      "_view_module": "@jupyter-widgets/base",
      "_view_module_version": "1.2.0",
      "_view_name": "LayoutView",
      "align_content": null,
      "align_items": null,
      "align_self": null,
      "border": null,
      "bottom": null,
      "display": null,
      "flex": null,
      "flex_flow": null,
      "grid_area": null,
      "grid_auto_columns": null,
      "grid_auto_flow": null,
      "grid_auto_rows": null,
      "grid_column": null,
      "grid_gap": null,
      "grid_row": null,
      "grid_template_areas": null,
      "grid_template_columns": null,
      "grid_template_rows": null,
      "height": null,
      "justify_content": null,
      "justify_items": null,
      "left": null,
      "margin": null,
      "max_height": null,
      "max_width": null,
      "min_height": null,
      "min_width": null,
      "object_fit": null,
      "object_position": null,
      "order": null,
      "overflow": null,
      "overflow_x": null,
      "overflow_y": null,
      "padding": null,
      "right": null,
      "top": null,
      "visibility": null,
      "width": null
     }
    },
    "d8d4a37557194f12a5714b409c816112": {
     "model_module": "@jupyter-widgets/controls",
     "model_module_version": "1.5.0",
     "model_name": "HTMLModel",
     "state": {
      "_dom_classes": [],
      "_model_module": "@jupyter-widgets/controls",
      "_model_module_version": "1.5.0",
      "_model_name": "HTMLModel",
      "_view_count": null,
      "_view_module": "@jupyter-widgets/controls",
      "_view_module_version": "1.5.0",
      "_view_name": "HTMLView",
      "description": "",
      "description_tooltip": null,
      "layout": "IPY_MODEL_d6c0a2bab1a74d899cbf52f76408c4bb",
      "placeholder": "​",
      "style": "IPY_MODEL_2a00d5ea45f244e5a95a4a5311f47e18",
      "value": " 184/184 [00:00&lt;00:00, 24.6kB/s]"
     }
    },
    "d982c8eaafb74febb7c02a223b529912": {
     "model_module": "@jupyter-widgets/base",
     "model_module_version": "1.2.0",
     "model_name": "LayoutModel",
     "state": {
      "_model_module": "@jupyter-widgets/base",
      "_model_module_version": "1.2.0",
      "_model_name": "LayoutModel",
      "_view_count": null,
      "_view_module": "@jupyter-widgets/base",
      "_view_module_version": "1.2.0",
      "_view_name": "LayoutView",
      "align_content": null,
      "align_items": null,
      "align_self": null,
      "border": null,
      "bottom": null,
      "display": null,
      "flex": null,
      "flex_flow": null,
      "grid_area": null,
      "grid_auto_columns": null,
      "grid_auto_flow": null,
      "grid_auto_rows": null,
      "grid_column": null,
      "grid_gap": null,
      "grid_row": null,
      "grid_template_areas": null,
      "grid_template_columns": null,
      "grid_template_rows": null,
      "height": null,
      "justify_content": null,
      "justify_items": null,
      "left": null,
      "margin": null,
      "max_height": null,
      "max_width": null,
      "min_height": null,
      "min_width": null,
      "object_fit": null,
      "object_position": null,
      "order": null,
      "overflow": null,
      "overflow_x": null,
      "overflow_y": null,
      "padding": null,
      "right": null,
      "top": null,
      "visibility": null,
      "width": null
     }
    },
    "dcd5cbd56d3d4167b237220660b5509c": {
     "model_module": "@jupyter-widgets/base",
     "model_module_version": "1.2.0",
     "model_name": "LayoutModel",
     "state": {
      "_model_module": "@jupyter-widgets/base",
      "_model_module_version": "1.2.0",
      "_model_name": "LayoutModel",
      "_view_count": null,
      "_view_module": "@jupyter-widgets/base",
      "_view_module_version": "1.2.0",
      "_view_name": "LayoutView",
      "align_content": null,
      "align_items": null,
      "align_self": null,
      "border": null,
      "bottom": null,
      "display": null,
      "flex": null,
      "flex_flow": null,
      "grid_area": null,
      "grid_auto_columns": null,
      "grid_auto_flow": null,
      "grid_auto_rows": null,
      "grid_column": null,
      "grid_gap": null,
      "grid_row": null,
      "grid_template_areas": null,
      "grid_template_columns": null,
      "grid_template_rows": null,
      "height": null,
      "justify_content": null,
      "justify_items": null,
      "left": null,
      "margin": null,
      "max_height": null,
      "max_width": null,
      "min_height": null,
      "min_width": null,
      "object_fit": null,
      "object_position": null,
      "order": null,
      "overflow": null,
      "overflow_x": null,
      "overflow_y": null,
      "padding": null,
      "right": null,
      "top": null,
      "visibility": null,
      "width": null
     }
    },
    "dfc3bfc7231945089e10179d5c75bd1f": {
     "model_module": "@jupyter-widgets/controls",
     "model_module_version": "1.5.0",
     "model_name": "ProgressStyleModel",
     "state": {
      "_model_module": "@jupyter-widgets/controls",
      "_model_module_version": "1.5.0",
      "_model_name": "ProgressStyleModel",
      "_view_count": null,
      "_view_module": "@jupyter-widgets/base",
      "_view_module_version": "1.2.0",
      "_view_name": "StyleView",
      "bar_color": null,
      "description_width": ""
     }
    },
    "e0a80b32a60c41a58bf3777053e71fb8": {
     "model_module": "@jupyter-widgets/controls",
     "model_module_version": "1.5.0",
     "model_name": "ProgressStyleModel",
     "state": {
      "_model_module": "@jupyter-widgets/controls",
      "_model_module_version": "1.5.0",
      "_model_name": "ProgressStyleModel",
      "_view_count": null,
      "_view_module": "@jupyter-widgets/base",
      "_view_module_version": "1.2.0",
      "_view_name": "StyleView",
      "bar_color": null,
      "description_width": ""
     }
    },
    "e0cd2e7d2e174f969c9171b16dd6ef4d": {
     "model_module": "@jupyter-widgets/base",
     "model_module_version": "1.2.0",
     "model_name": "LayoutModel",
     "state": {
      "_model_module": "@jupyter-widgets/base",
      "_model_module_version": "1.2.0",
      "_model_name": "LayoutModel",
      "_view_count": null,
      "_view_module": "@jupyter-widgets/base",
      "_view_module_version": "1.2.0",
      "_view_name": "LayoutView",
      "align_content": null,
      "align_items": null,
      "align_self": null,
      "border": null,
      "bottom": null,
      "display": null,
      "flex": null,
      "flex_flow": null,
      "grid_area": null,
      "grid_auto_columns": null,
      "grid_auto_flow": null,
      "grid_auto_rows": null,
      "grid_column": null,
      "grid_gap": null,
      "grid_row": null,
      "grid_template_areas": null,
      "grid_template_columns": null,
      "grid_template_rows": null,
      "height": null,
      "justify_content": null,
      "justify_items": null,
      "left": null,
      "margin": null,
      "max_height": null,
      "max_width": null,
      "min_height": null,
      "min_width": null,
      "object_fit": null,
      "object_position": null,
      "order": null,
      "overflow": null,
      "overflow_x": null,
      "overflow_y": null,
      "padding": null,
      "right": null,
      "top": null,
      "visibility": null,
      "width": null
     }
    },
    "e29c974205f74c1ea93956ac0de8f57a": {
     "model_module": "@jupyter-widgets/controls",
     "model_module_version": "1.5.0",
     "model_name": "DescriptionStyleModel",
     "state": {
      "_model_module": "@jupyter-widgets/controls",
      "_model_module_version": "1.5.0",
      "_model_name": "DescriptionStyleModel",
      "_view_count": null,
      "_view_module": "@jupyter-widgets/base",
      "_view_module_version": "1.2.0",
      "_view_name": "StyleView",
      "description_width": ""
     }
    },
    "e5a076c30dd0411498249c68eb2d888e": {
     "model_module": "@jupyter-widgets/controls",
     "model_module_version": "1.5.0",
     "model_name": "FloatProgressModel",
     "state": {
      "_dom_classes": [],
      "_model_module": "@jupyter-widgets/controls",
      "_model_module_version": "1.5.0",
      "_model_name": "FloatProgressModel",
      "_view_count": null,
      "_view_module": "@jupyter-widgets/controls",
      "_view_module_version": "1.5.0",
      "_view_name": "ProgressView",
      "bar_style": "success",
      "description": "",
      "description_tooltip": null,
      "layout": "IPY_MODEL_8e38ae2c32e446dba6166fe37685bec4",
      "max": 4999802720,
      "min": 0,
      "orientation": "horizontal",
      "style": "IPY_MODEL_5f90ce547df14b2b825ec65e6fd22aa4",
      "value": 4999802720
     }
    },
    "e6b9878eb62648d5abb01d21f3c42004": {
     "model_module": "@jupyter-widgets/controls",
     "model_module_version": "1.5.0",
     "model_name": "FloatProgressModel",
     "state": {
      "_dom_classes": [],
      "_model_module": "@jupyter-widgets/controls",
      "_model_module_version": "1.5.0",
      "_model_name": "FloatProgressModel",
      "_view_count": null,
      "_view_module": "@jupyter-widgets/controls",
      "_view_module_version": "1.5.0",
      "_view_name": "ProgressView",
      "bar_style": "success",
      "description": "",
      "description_tooltip": null,
      "layout": "IPY_MODEL_b280d953357448d7be4776ab283b5bdc",
      "max": 184,
      "min": 0,
      "orientation": "horizontal",
      "style": "IPY_MODEL_bd01f19e1c194cefa35287aa3ace1344",
      "value": 184
     }
    },
    "e6be726d29854620bbf1082370b66ace": {
     "model_module": "@jupyter-widgets/controls",
     "model_module_version": "1.5.0",
     "model_name": "HBoxModel",
     "state": {
      "_dom_classes": [],
      "_model_module": "@jupyter-widgets/controls",
      "_model_module_version": "1.5.0",
      "_model_name": "HBoxModel",
      "_view_count": null,
      "_view_module": "@jupyter-widgets/controls",
      "_view_module_version": "1.5.0",
      "_view_name": "HBoxView",
      "box_style": "",
      "children": [
       "IPY_MODEL_4134653577934c6ca5073846c1f30db3",
       "IPY_MODEL_8913c058952840aa85c5cc1e0e16a7ba",
       "IPY_MODEL_41fc62bfaa044139befb87e66b328269"
      ],
      "layout": "IPY_MODEL_07701cdbfced42dea04b51210c997866"
     }
    },
    "e71d227ecf25457bb727bd4e1d5083ac": {
     "model_module": "@jupyter-widgets/controls",
     "model_module_version": "1.5.0",
     "model_name": "HBoxModel",
     "state": {
      "_dom_classes": [],
      "_model_module": "@jupyter-widgets/controls",
      "_model_module_version": "1.5.0",
      "_model_name": "HBoxModel",
      "_view_count": null,
      "_view_module": "@jupyter-widgets/controls",
      "_view_module_version": "1.5.0",
      "_view_name": "HBoxView",
      "box_style": "",
      "children": [
       "IPY_MODEL_b38abfc0ff83489bbf2896de83f02be2",
       "IPY_MODEL_1b99b37eddf54d23a7dfa20f58638a1d",
       "IPY_MODEL_85d1204d4f134f0ba7819c84e5e34608"
      ],
      "layout": "IPY_MODEL_97fe6d09f16a4b94b3f20e5fb3389fd6"
     }
    },
    "e8210fd075e243b39627f4f32d4b3cb2": {
     "model_module": "@jupyter-widgets/base",
     "model_module_version": "1.2.0",
     "model_name": "LayoutModel",
     "state": {
      "_model_module": "@jupyter-widgets/base",
      "_model_module_version": "1.2.0",
      "_model_name": "LayoutModel",
      "_view_count": null,
      "_view_module": "@jupyter-widgets/base",
      "_view_module_version": "1.2.0",
      "_view_name": "LayoutView",
      "align_content": null,
      "align_items": null,
      "align_self": null,
      "border": null,
      "bottom": null,
      "display": null,
      "flex": null,
      "flex_flow": null,
      "grid_area": null,
      "grid_auto_columns": null,
      "grid_auto_flow": null,
      "grid_auto_rows": null,
      "grid_column": null,
      "grid_gap": null,
      "grid_row": null,
      "grid_template_areas": null,
      "grid_template_columns": null,
      "grid_template_rows": null,
      "height": null,
      "justify_content": null,
      "justify_items": null,
      "left": null,
      "margin": null,
      "max_height": null,
      "max_width": null,
      "min_height": null,
      "min_width": null,
      "object_fit": null,
      "object_position": null,
      "order": null,
      "overflow": null,
      "overflow_x": null,
      "overflow_y": null,
      "padding": null,
      "right": null,
      "top": null,
      "visibility": null,
      "width": null
     }
    },
    "e98065312866471c90e4fee76ec8e808": {
     "model_module": "@jupyter-widgets/controls",
     "model_module_version": "1.5.0",
     "model_name": "HBoxModel",
     "state": {
      "_dom_classes": [],
      "_model_module": "@jupyter-widgets/controls",
      "_model_module_version": "1.5.0",
      "_model_name": "HBoxModel",
      "_view_count": null,
      "_view_module": "@jupyter-widgets/controls",
      "_view_module_version": "1.5.0",
      "_view_name": "HBoxView",
      "box_style": "",
      "children": [
       "IPY_MODEL_c3faa7655bb14b5fafedeaaf8585e0f0",
       "IPY_MODEL_4412c64de3294cd8b8b687ea9b1ab912",
       "IPY_MODEL_5c019f5428184288bab585350602b372"
      ],
      "layout": "IPY_MODEL_ad4ee7fae24c46b6ba1e8301a58250ef"
     }
    },
    "e98b1c8061754f359eefed27f63da6d4": {
     "model_module": "@jupyter-widgets/controls",
     "model_module_version": "1.5.0",
     "model_name": "ProgressStyleModel",
     "state": {
      "_model_module": "@jupyter-widgets/controls",
      "_model_module_version": "1.5.0",
      "_model_name": "ProgressStyleModel",
      "_view_count": null,
      "_view_module": "@jupyter-widgets/base",
      "_view_module_version": "1.2.0",
      "_view_name": "StyleView",
      "bar_color": null,
      "description_width": ""
     }
    },
    "ebcd66247e7244ba888008c9618071af": {
     "model_module": "@jupyter-widgets/controls",
     "model_module_version": "1.5.0",
     "model_name": "FloatProgressModel",
     "state": {
      "_dom_classes": [],
      "_model_module": "@jupyter-widgets/controls",
      "_model_module_version": "1.5.0",
      "_model_name": "FloatProgressModel",
      "_view_count": null,
      "_view_module": "@jupyter-widgets/controls",
      "_view_module_version": "1.5.0",
      "_view_name": "ProgressView",
      "bar_style": "success",
      "description": "",
      "description_tooltip": null,
      "layout": "IPY_MODEL_5b73471e32d64dfd8367a5a36377529a",
      "max": 9085657,
      "min": 0,
      "orientation": "horizontal",
      "style": "IPY_MODEL_c7f18f25ab4d4a62a9f7039e065dd899",
      "value": 9085657
     }
    },
    "eeb2b70ade3f42bb9ee7fc42f379d583": {
     "model_module": "@jupyter-widgets/controls",
     "model_module_version": "1.5.0",
     "model_name": "FloatProgressModel",
     "state": {
      "_dom_classes": [],
      "_model_module": "@jupyter-widgets/controls",
      "_model_module_version": "1.5.0",
      "_model_name": "FloatProgressModel",
      "_view_count": null,
      "_view_module": "@jupyter-widgets/controls",
      "_view_module_version": "1.5.0",
      "_view_name": "ProgressView",
      "bar_style": "success",
      "description": "",
      "description_tooltip": null,
      "layout": "IPY_MODEL_98dbabe5c12a4676b63f4c00cf986307",
      "max": 4915916176,
      "min": 0,
      "orientation": "horizontal",
      "style": "IPY_MODEL_e0a80b32a60c41a58bf3777053e71fb8",
      "value": 4915916176
     }
    },
    "f49f267aa65e4f218c4bd37e24e5bdb7": {
     "model_module": "@jupyter-widgets/base",
     "model_module_version": "1.2.0",
     "model_name": "LayoutModel",
     "state": {
      "_model_module": "@jupyter-widgets/base",
      "_model_module_version": "1.2.0",
      "_model_name": "LayoutModel",
      "_view_count": null,
      "_view_module": "@jupyter-widgets/base",
      "_view_module_version": "1.2.0",
      "_view_name": "LayoutView",
      "align_content": null,
      "align_items": null,
      "align_self": null,
      "border": null,
      "bottom": null,
      "display": null,
      "flex": null,
      "flex_flow": null,
      "grid_area": null,
      "grid_auto_columns": null,
      "grid_auto_flow": null,
      "grid_auto_rows": null,
      "grid_column": null,
      "grid_gap": null,
      "grid_row": null,
      "grid_template_areas": null,
      "grid_template_columns": null,
      "grid_template_rows": null,
      "height": null,
      "justify_content": null,
      "justify_items": null,
      "left": null,
      "margin": null,
      "max_height": null,
      "max_width": null,
      "min_height": null,
      "min_width": null,
      "object_fit": null,
      "object_position": null,
      "order": null,
      "overflow": null,
      "overflow_x": null,
      "overflow_y": null,
      "padding": null,
      "right": null,
      "top": null,
      "visibility": null,
      "width": null
     }
    },
    "f5c2cf6eabb343d6b8fc868d54dd3d8f": {
     "model_module": "@jupyter-widgets/base",
     "model_module_version": "1.2.0",
     "model_name": "LayoutModel",
     "state": {
      "_model_module": "@jupyter-widgets/base",
      "_model_module_version": "1.2.0",
      "_model_name": "LayoutModel",
      "_view_count": null,
      "_view_module": "@jupyter-widgets/base",
      "_view_module_version": "1.2.0",
      "_view_name": "LayoutView",
      "align_content": null,
      "align_items": null,
      "align_self": null,
      "border": null,
      "bottom": null,
      "display": null,
      "flex": null,
      "flex_flow": null,
      "grid_area": null,
      "grid_auto_columns": null,
      "grid_auto_flow": null,
      "grid_auto_rows": null,
      "grid_column": null,
      "grid_gap": null,
      "grid_row": null,
      "grid_template_areas": null,
      "grid_template_columns": null,
      "grid_template_rows": null,
      "height": null,
      "justify_content": null,
      "justify_items": null,
      "left": null,
      "margin": null,
      "max_height": null,
      "max_width": null,
      "min_height": null,
      "min_width": null,
      "object_fit": null,
      "object_position": null,
      "order": null,
      "overflow": null,
      "overflow_x": null,
      "overflow_y": null,
      "padding": null,
      "right": null,
      "top": null,
      "visibility": null,
      "width": null
     }
    },
    "f6a326e0e3e04b568220b4a510c4f786": {
     "model_module": "@jupyter-widgets/controls",
     "model_module_version": "1.5.0",
     "model_name": "HBoxModel",
     "state": {
      "_dom_classes": [],
      "_model_module": "@jupyter-widgets/controls",
      "_model_module_version": "1.5.0",
      "_model_name": "HBoxModel",
      "_view_count": null,
      "_view_module": "@jupyter-widgets/controls",
      "_view_module_version": "1.5.0",
      "_view_name": "HBoxView",
      "box_style": "",
      "children": [
       "IPY_MODEL_a1826c6a8b6642c7843c3fbffb8255e8",
       "IPY_MODEL_37ddcbc7cdb746889813dc09a5e270b1",
       "IPY_MODEL_891f450b86fb4ea19f40af50aa6f19c5"
      ],
      "layout": "IPY_MODEL_f49f267aa65e4f218c4bd37e24e5bdb7"
     }
    },
    "f9c71f4684a54ae4b5e4c4d58f0c9421": {
     "model_module": "@jupyter-widgets/controls",
     "model_module_version": "1.5.0",
     "model_name": "DescriptionStyleModel",
     "state": {
      "_model_module": "@jupyter-widgets/controls",
      "_model_module_version": "1.5.0",
      "_model_name": "DescriptionStyleModel",
      "_view_count": null,
      "_view_module": "@jupyter-widgets/base",
      "_view_module_version": "1.2.0",
      "_view_name": "StyleView",
      "description_width": ""
     }
    },
    "fb1a001af8d84f25b0a137156054b501": {
     "model_module": "@jupyter-widgets/base",
     "model_module_version": "1.2.0",
     "model_name": "LayoutModel",
     "state": {
      "_model_module": "@jupyter-widgets/base",
      "_model_module_version": "1.2.0",
      "_model_name": "LayoutModel",
      "_view_count": null,
      "_view_module": "@jupyter-widgets/base",
      "_view_module_version": "1.2.0",
      "_view_name": "LayoutView",
      "align_content": null,
      "align_items": null,
      "align_self": null,
      "border": null,
      "bottom": null,
      "display": null,
      "flex": null,
      "flex_flow": null,
      "grid_area": null,
      "grid_auto_columns": null,
      "grid_auto_flow": null,
      "grid_auto_rows": null,
      "grid_column": null,
      "grid_gap": null,
      "grid_row": null,
      "grid_template_areas": null,
      "grid_template_columns": null,
      "grid_template_rows": null,
      "height": null,
      "justify_content": null,
      "justify_items": null,
      "left": null,
      "margin": null,
      "max_height": null,
      "max_width": null,
      "min_height": null,
      "min_width": null,
      "object_fit": null,
      "object_position": null,
      "order": null,
      "overflow": null,
      "overflow_x": null,
      "overflow_y": null,
      "padding": null,
      "right": null,
      "top": null,
      "visibility": null,
      "width": null
     }
    },
    "ffa6f862348d45b9818712683130eb7c": {
     "model_module": "@jupyter-widgets/base",
     "model_module_version": "1.2.0",
     "model_name": "LayoutModel",
     "state": {
      "_model_module": "@jupyter-widgets/base",
      "_model_module_version": "1.2.0",
      "_model_name": "LayoutModel",
      "_view_count": null,
      "_view_module": "@jupyter-widgets/base",
      "_view_module_version": "1.2.0",
      "_view_name": "LayoutView",
      "align_content": null,
      "align_items": null,
      "align_self": null,
      "border": null,
      "bottom": null,
      "display": null,
      "flex": null,
      "flex_flow": null,
      "grid_area": null,
      "grid_auto_columns": null,
      "grid_auto_flow": null,
      "grid_auto_rows": null,
      "grid_column": null,
      "grid_gap": null,
      "grid_row": null,
      "grid_template_areas": null,
      "grid_template_columns": null,
      "grid_template_rows": null,
      "height": null,
      "justify_content": null,
      "justify_items": null,
      "left": null,
      "margin": null,
      "max_height": null,
      "max_width": null,
      "min_height": null,
      "min_width": null,
      "object_fit": null,
      "object_position": null,
      "order": null,
      "overflow": null,
      "overflow_x": null,
      "overflow_y": null,
      "padding": null,
      "right": null,
      "top": null,
      "visibility": null,
      "width": null
     }
    }
   }
  }
 },
 "nbformat": 4,
 "nbformat_minor": 0
}
